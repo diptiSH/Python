{
 "cells": [
  {
   "cell_type": "code",
   "execution_count": null,
   "id": "13d96a2b",
   "metadata": {},
   "outputs": [],
   "source": [
    "# # Historica/ref best3 ensemble mean and std\n",
    "\n",
    "# IPSL\n",
    "\n",
    "rhData  = xr.open_dataset('../../Data/CMIP6/IPSL-CM6A-LR/NDJF/Regrid_NH_hurs_NDJFday_IPSL-CM6A-LR_historical_r1i1p1f1_gr_18500101-20141231.nc')\n",
    "rhD  = rhData.hurs.sel(latitude=slice(32,24),longitude=slice(74,86))\n",
    "rhTS1=rhD.mean(dim=['latitude','longitude'], skipna=True)\n",
    "rhTsIPSL=(rhTS1[((rhTS1.time.dt.month>11) | (rhTS1.time.dt.month<2)) ].sel(time=slice('1980-12-1','2014-1-31')))\n",
    "\n",
    "# EC-Earth3\n",
    "rhData  = xr.open_dataset('../../Data/CMIP6/EC-Earth3/processed/Regrid_hurs_day_EC-Earth3_historical_r1i1p1f1_gr_18500101-20141231.nc')\n",
    "rhD  = rhData.hurs.sel(latitude=slice(32,24),longitude=slice(74,86))\n",
    "rhTS1=rhD.mean(dim=['latitude','longitude'], skipna=True)\n",
    "rhTsEC=(rhTS1[((rhTS1.time.dt.month>11) | (rhTS1.time.dt.month<2)) ].sel(time=slice('1980-12-1','2014-1-31')))\n",
    "\n",
    "\n",
    "# ACCESS-CM2\n",
    "\n",
    "rhData  = xr.open_dataset('../../Data/CMIP6/ACCESS-CM2/hursNHRegrid_NDJFday_ACCESS-CM2_historical_r1i1p1f1_gn_19500101-20141231.nc')\n",
    "rhD  = rhData.hurs.sel(latitude=slice(32,24),longitude=slice(74,86))\n",
    "rhTS1=rhD.mean(dim=['latitude','longitude'], skipna=True)\n",
    "rhTsACCESS=(rhTS1[((rhTS1.time.dt.month>11) | (rhTS1.time.dt.month<2)) ].sel(time=slice('1980-12-1','2014-1-31')))\n"
   ]
  },
  {
   "cell_type": "code",
   "execution_count": null,
   "id": "82eea7e7",
   "metadata": {},
   "outputs": [],
   "source": [
    "fig, ax1 = plt.subplots()\n",
    "\n",
    "ax2 = ax1.twinx()\n",
    "\n",
    "ax1.plot(x, y1, color='g')\n",
    "ax2.plot(x, y2, color='b')\n",
    "\n",
    "fig.subtitle('Two Y-Axis Example')\n",
    "ax1.set_xlabel('x')\n",
    "ax1.set_ylabel('y1')\n",
    "ax2.set_ylabel('y2')\n",
    "\n",
    "plt.show()\n"
   ]
  }
 ],
 "metadata": {
  "kernelspec": {
   "display_name": "Python 3 (ipykernel)",
   "language": "python",
   "name": "python3"
  },
  "language_info": {
   "codemirror_mode": {
    "name": "ipython",
    "version": 3
   },
   "file_extension": ".py",
   "mimetype": "text/x-python",
   "name": "python",
   "nbconvert_exporter": "python",
   "pygments_lexer": "ipython3",
   "version": "3.8.10"
  }
 },
 "nbformat": 4,
 "nbformat_minor": 5
}
