{
 "cells": [
  {
   "cell_type": "code",
   "execution_count": 1,
   "metadata": {},
   "outputs": [],
   "source": [
    "import numpy as np\n",
    "\n",
    "import pandas as pd\n",
    "\n",
    "import xarray as xr\n",
    "\n",
    "import glob\n",
    "\n",
    "import matplotlib as mpl\n",
    "\n",
    "import matplotlib.pyplot as plt\n",
    "\n",
    "import math as mt\n",
    "\n",
    "from math import e\n",
    "\n",
    "import datetime\n",
    "\n",
    "from sklearn.ensemble import GradientBoostingRegressor\n",
    "from sklearn.model_selection import train_test_split\n",
    "from random import seed\n",
    "from random import randint\n",
    "\n",
    "from scipy.signal import hilbert\n",
    "import statistics"
   ]
  },
  {
   "cell_type": "code",
   "execution_count": 2,
   "metadata": {},
   "outputs": [],
   "source": [
    "from scipy.stats import stats\n",
    "from sklearn.linear_model import LinearRegression\n"
   ]
  },
  {
   "cell_type": "code",
   "execution_count": 3,
   "metadata": {},
   "outputs": [],
   "source": [
    "from sklearn.preprocessing import StandardScaler\n",
    "from sklearn.preprocessing import scale"
   ]
  },
  {
   "cell_type": "code",
   "execution_count": 4,
   "metadata": {},
   "outputs": [
    {
     "ename": "ModuleNotFoundError",
     "evalue": "No module named 'xesmf'",
     "output_type": "error",
     "traceback": [
      "\u001b[0;31m---------------------------------------------------------------------------\u001b[0m",
      "\u001b[0;31mModuleNotFoundError\u001b[0m                       Traceback (most recent call last)",
      "\u001b[0;32m<ipython-input-4-426c6b0e3643>\u001b[0m in \u001b[0;36m<module>\u001b[0;34m\u001b[0m\n\u001b[0;32m----> 1\u001b[0;31m \u001b[0;32mimport\u001b[0m \u001b[0mxesmf\u001b[0m \u001b[0;32mas\u001b[0m \u001b[0mxe\u001b[0m\u001b[0;34m\u001b[0m\u001b[0;34m\u001b[0m\u001b[0m\n\u001b[0m",
      "\u001b[0;31mModuleNotFoundError\u001b[0m: No module named 'xesmf'"
     ]
    }
   ],
   "source": [
    "#import xesmf as xe"
   ]
  },
  {
   "cell_type": "markdown",
   "metadata": {},
   "source": [
    " # Read Fog file"
   ]
  },
  {
   "cell_type": "code",
   "execution_count": 5,
   "metadata": {},
   "outputs": [],
   "source": [
    "fogData = xr.open_dataset('../../../Data/FogData/CombinedFogData_25Stations.nc')\n",
    "#plt.figure(figsize=[16,8])\n",
    "\n",
    "#fogData.fogdata\n",
    "\n",
    "#fogData.fogdata.sum(dim=['stations','months','days']).plot()\n",
    "#fogData.fogdata.sum(dim=['stations','months','days'])"
   ]
  },
  {
   "cell_type": "code",
   "execution_count": 6,
   "metadata": {},
   "outputs": [],
   "source": [
    "StackFog=fogData.fogdata.stack(a=('years','months','days'))\n",
    "StackFog\n",
    "dd =[];\n",
    "for i in range(StackFog.years.values.shape[0]):\n",
    "    dd=dd+[str(StackFog.years[i].values)+'-'+str(StackFog.months[i].values)+\"-\"+str(StackFog.days[i].values)]\n",
    "fg = xr.Dataset({'fogdata': (('time','stations'), StackFog.values.T)}, coords={'time': pd.to_datetime(dd),'stations': fogData.stations})\n",
    "# fogData.fogdata.values.shape\n",
    "# fogData.stations\n",
    "#plt.figure(figsize=[16,8])\n",
    "#fg.fogdata.resample(time=\"1y\").sum().sum(dim='stations').plot()\n",
    "#fg.fogdata.time    "
   ]
  },
  {
   "cell_type": "markdown",
   "metadata": {},
   "source": [
    "# Read ERA5 Data"
   ]
  },
  {
   "cell_type": "code",
   "execution_count": 7,
   "metadata": {},
   "outputs": [],
   "source": [
    "t2mData = xr.open_dataset('../../../Data/IGPERA5/DailyFiles/DailyERA5IGP_t2m_3hourly_NovDecJan.nc')\n",
    "u10Data = xr.open_dataset('../../../Data/IGPERA5/DailyFiles/DailyERA5IGP_u10_3hourly_NovDecJan.nc')\n",
    "v10Data = xr.open_dataset('../../../Data/IGPERA5/DailyFiles/DailyERA5IGP_v10_3hourly_NovDecJan.nc')\n",
    "d2mData = xr.open_dataset('../../../Data/IGPERA5/DailyFiles/DailyERA5IGP_d2m_3hourly_NovDecJan.nc')\n",
    "t2mD = t2mData.sel(latitude=slice(32,24),longitude=slice(74,86))\n",
    "u10D = u10Data.sel(latitude=slice(32,24),longitude=slice(74,86))\n",
    "v10D = v10Data.sel(latitude=slice(32,24),longitude=slice(74,86))\n",
    "d2mD = d2mData.sel(latitude=slice(32,24),longitude=slice(74,86))"
   ]
  },
  {
   "cell_type": "code",
   "execution_count": 8,
   "metadata": {},
   "outputs": [],
   "source": [
    "# Calculate wind speed and relative humidity\n",
    "\n",
    "ws = ((v10D.v10[:,0,:,:].values**2)+(u10D.u10[:,0,:,:].values**2))**0.5\n",
    "\n",
    "ws_ds = xr.Dataset({'ws': (('time','latitude','longitude'), ws)}, coords={'time': v10D.time,'latitude': v10D.latitude,'longitude': v10D.longitude})\n",
    "\n",
    "rh = (e**((17.625*(d2mD.d2m[:,0,:,:].values-273.15))/(243.04+(d2mD.d2m[:,0,:,:].values-273.15)))/e**((17.625*(t2mD.t2m[:,0,:,:].values-273.15))/(243.04+(t2mD.t2m[:,0,:,:].values-273.15))))\n",
    "\n",
    "rh_ds = xr.Dataset({'rh': (('time','latitude','longitude'), rh)}, coords={'time': v10D.time,'latitude': v10D.latitude,'longitude': v10D.longitude})\n",
    "\n",
    "#rh_ds\n",
    "\n",
    "             "
   ]
  },
  {
   "cell_type": "code",
   "execution_count": 9,
   "metadata": {},
   "outputs": [],
   "source": [
    "# Read 850 data\n",
    "\n",
    "tz850Data = xr.open_dataset('../../../Data/IGPERA5/DailyFiles/DailyERA5IGP_850_tqz_3hourly_NovDecJan.nc')\n",
    "\n",
    "uv850Data = xr.open_dataset('../../../Data/IGPERA5/DailyFiles/DailyERA5IGP_850_uv_3hourly_NovDecJan.nc')\n",
    "\n",
    "tz850D = tz850Data.sel(latitude=slice(32,24),longitude=slice(74,86))\n",
    "\n",
    "uv850D = uv850Data.sel(latitude=slice(32,24),longitude=slice(74,86))"
   ]
  },
  {
   "cell_type": "code",
   "execution_count": 10,
   "metadata": {},
   "outputs": [],
   "source": [
    "#Calculate inv\n",
    "\n",
    "inv=t2mD.t2m[:,0,:,:].values-tz850D.t[:,0,:,:].values\n",
    "\n",
    "inv_ds = xr.Dataset({'inv': (('time','latitude','longitude'), inv)}, coords={'time': v10D.time,'latitude': v10D.latitude,'longitude': v10D.longitude})\n",
    "\n",
    "inv_ds.attrs\n",
    "\n",
    "inv_ds.attrs['units']='K'\n",
    "\n",
    "inv_ds.attrs['long_name']='t2m - t850'\n",
    "\n",
    "#inv_ds.inv"
   ]
  },
  {
   "cell_type": "code",
   "execution_count": 11,
   "metadata": {},
   "outputs": [],
   "source": [
    "#u shear calculation\n",
    "\n",
    "ushear=(uv850D.u[:,0,:,:].values-u10D.u10[:,0,:,:].values)/(tz850D.z[:,0,:,:].values/9.81) \n",
    "\n",
    "ushear_ds = xr.Dataset({'ushear': (('time','latitude','longitude'), ushear)}, coords={'time': v10D.time,'latitude': v10D.latitude,'longitude': v10D.longitude})\n",
    "\n",
    "ushear_ds.attrs['units']='s-1'\n",
    "\n",
    "ushear_ds.attrs['long_name']='(u10 - u850)/z850'\n",
    "\n",
    "\n",
    "#ushear_ds.ushear\n",
    "\n",
    "#inv"
   ]
  },
  {
   "cell_type": "code",
   "execution_count": 12,
   "metadata": {},
   "outputs": [],
   "source": [
    "# Read W700\n",
    "\n",
    "w700Data = xr.open_dataset('../../../Data/IGPERA5/DailyFiles/DailyERA5IGP_700_w_3hourly_NovDecJan.nc')\n",
    "\n",
    "w700D = w700Data.sel(latitude=slice(32,24),longitude=slice(74,86))\n",
    "\n",
    "# Read Orography\n",
    "\n",
    "OroData = xr.open_dataset('../../../Data/IGPERA5/DailyFiles/ERA5IGP_Orography.nc')\n",
    "\n",
    "OroData.data_vars\n",
    "\n",
    "OroD = OroData.sel(latitude=slice(32,24),longitude=slice(74,86))\n",
    "\n",
    "oro = OroD.z\n",
    "\n",
    "oro.values = OroD.z.values/9.81\n",
    "\n",
    "oro.attrs\n",
    "\n",
    "oro.attrs['units']='meter'\n",
    "\n",
    "oro.attrs['long_name']='Orography'\n",
    "\n",
    "l = np.arange(0,1000,100)\n",
    "\n",
    "#oro[0,:,:].plot(levels=l,extend='both',cmap='jet')"
   ]
  },
  {
   "cell_type": "code",
   "execution_count": 13,
   "metadata": {},
   "outputs": [],
   "source": [
    "# Create Mask altitude >500 m NaN\n",
    "\n",
    "oro.values[oro.values>500.1]=np.NaN\n",
    "\n",
    "mask=oro.values/oro.values\n",
    "\n",
    "# chk mask\n",
    "\n",
    "t2mD.t2m.values=t2mD.t2m.values*mask\n",
    "\n",
    "#t2mData.t2m[0,0,:,:].plot(cmap='jet')\n",
    "\n",
    "#plt.figure(figsize=[20,10])\n",
    "\n",
    "#t2mData.mean(dim=['latitude','longitude']).t2m[:,0].plot()\n",
    "\n",
    "t2mTS=t2mD.mean(dim=['latitude','longitude'], skipna=True).t2m[:,0]"
   ]
  },
  {
   "cell_type": "code",
   "execution_count": 14,
   "metadata": {},
   "outputs": [],
   "source": [
    "ws_ds.ws.values=ws_ds.ws.values*mask\n",
    "wsTS=ws_ds.mean(dim=['latitude','longitude'], skipna=True).ws\n",
    "#wsTS.plot()\n"
   ]
  },
  {
   "cell_type": "code",
   "execution_count": 15,
   "metadata": {},
   "outputs": [
    {
     "data": {
      "text/plain": [
       "[<matplotlib.lines.Line2D at 0x2b6d20678bb0>]"
      ]
     },
     "execution_count": 15,
     "metadata": {},
     "output_type": "execute_result"
    },
    {
     "data": {
      "image/png": "[encoded data removed]",
      "text/plain": [
       "<Figure size 432x288 with 1 Axes>"
      ]
     },
     "metadata": {
      "needs_background": "light"
     },
     "output_type": "display_data"
    }
   ],
   "source": [
    "rh_ds.rh.values=rh_ds.rh.values*mask\n",
    "#rh_ds.rh[:].mean(dim=['latitude','longitude'], skipna=True).plot()\n",
    "rhTS=rh_ds.mean(dim=['latitude','longitude'], skipna=True).rh\n",
    "rhTS.plot()"
   ]
  },
  {
   "cell_type": "code",
   "execution_count": 16,
   "metadata": {},
   "outputs": [],
   "source": [
    "w700D.w.values=w700D.w.values*mask\n",
    "w700D.mean(dim=['latitude','longitude'])\n",
    "wTS=w700D.mean(dim=['latitude','longitude'], skipna=True).w[:,0]\n",
    "#wTS.plot()"
   ]
  },
  {
   "cell_type": "code",
   "execution_count": 17,
   "metadata": {},
   "outputs": [],
   "source": [
    "inv_ds.inv.values=inv_ds.inv.values*mask\n",
    "invTS=inv_ds.mean(dim=['latitude','longitude'], skipna=True).inv\n",
    "#invTS.plot()"
   ]
  },
  {
   "cell_type": "code",
   "execution_count": 18,
   "metadata": {},
   "outputs": [],
   "source": [
    "ushear_ds.ushear.values=ushear_ds.ushear.values*mask\n",
    "ushearTS=ushear_ds.mean(dim=['latitude','longitude'], skipna=True).ushear\n",
    "#ushearTS.plot()"
   ]
  },
  {
   "cell_type": "code",
   "execution_count": 19,
   "metadata": {},
   "outputs": [
    {
     "data": {
      "text/plain": [
       "[<matplotlib.lines.Line2D at 0x2b6d21c2c910>]"
      ]
     },
     "execution_count": 19,
     "metadata": {},
     "output_type": "execute_result"
    },
    {
     "data": {
      "image/png": "[encoded data removed]",
      "text/plain": [
       "<Figure size 432x288 with 1 Axes>"
      ]
     },
     "metadata": {
      "needs_background": "light"
     },
     "output_type": "display_data"
    }
   ],
   "source": [
    "t2m_hb = np.imag(hilbert(t2mTS.values[(t2mTS.time.dt.year<2020)],axis=0))\n",
    "t2m_hb_ds = xr.Dataset({'t2m_hb': (('time'), t2m_hb)}, coords={'time': t2mTS[(t2mTS.time.dt.year<2020)].time})\n",
    "t2m_hb_ds.t2m_hb.plot()\n",
    "\n",
    "ws_hb = np.imag(hilbert(wsTS.values[(wsTS.time.dt.year<2020)],axis=0))\n",
    "ws_hb_ds = xr.Dataset({'ws_hb': (('time'), ws_hb)}, coords={'time': wsTS[(wsTS.time.dt.year<2020)].time})\n",
    "ws_hb_ds.ws_hb.plot()\n",
    "\n",
    "inv_hb = np.imag(hilbert(invTS.values[(invTS.time.dt.year<2020)],axis=0))\n",
    "inv_hb_ds = xr.Dataset({'inv_hb': (('time'), inv_hb)}, coords={'time': invTS[(invTS.time.dt.year<2020)].time})\n",
    "inv_hb_ds.inv_hb.plot()\n",
    "\n",
    "rh_hb = np.imag(hilbert(rhTS.values[(rhTS.time.dt.year<2020)],axis=0))\n",
    "rh_hb_ds = xr.Dataset({'rh_hb': (('time'), rh_hb)}, coords={'time': rhTS[(rhTS.time.dt.year<2020)].time})\n",
    "rh_hb_ds.rh_hb.plot()\n",
    "\n",
    "w_hb = np.imag(hilbert(wTS.values[(wTS.time.dt.year<2020)],axis=0))\n",
    "w_hb_ds = xr.Dataset({'w_hb': (('time'), w_hb)}, coords={'time': wTS[(wTS.time.dt.year<2020)].time})\n",
    "w_hb_ds.w_hb.plot()\n",
    "\n",
    "ushear_hb = np.imag(hilbert(ushearTS.values[(ushearTS.time.dt.year<2020)],axis=0))\n",
    "ushear_hb_ds = xr.Dataset({'ushear_hb': (('time'), ushear_hb)}, coords={'time': ushearTS[(ushearTS.time.dt.year<2020)].time})\n",
    "ushear_hb_ds.ushear_hb.plot()"
   ]
  },
  {
   "cell_type": "code",
   "execution_count": 20,
   "metadata": {},
   "outputs": [],
   "source": [
    "#Create area averaged values and get same days as fog days i.e. Dec Jan\n",
    "\n",
    "# a,b = xr.align(fg.fogdata.sum(dim='stations'),t2mTS)\n",
    "\n",
    "t2m=t2mTS[((t2mTS.time.dt.month>11) | (t2mTS.time.dt.month<2)) & (t2mTS.time.dt.year<2020)].sel(time=slice('1979-12-1','2019-1-31'))\n",
    "\n",
    "ws=wsTS[((wsTS.time.dt.month>11) | (wsTS.time.dt.month<2)) & (wsTS.time.dt.year<2020)].sel(time=slice('1979-12-1','2019-1-31'))\n",
    "\n",
    "inv=invTS[((wsTS.time.dt.month>11) | (wsTS.time.dt.month<2)) & (wsTS.time.dt.year<2020)].sel(time=slice('1979-12-1','2019-1-31'))\n",
    "\n",
    "rh=rhTS[((wsTS.time.dt.month>11) | (wsTS.time.dt.month<2)) & (wsTS.time.dt.year<2020)].sel(time=slice('1979-12-1','2019-1-31'))\n",
    "\n",
    "w=wTS[((wsTS.time.dt.month>11) | (wsTS.time.dt.month<2)) & (wsTS.time.dt.year<2020)].sel(time=slice('1979-12-1','2019-1-31'))\n",
    "\n",
    "ushear=ushearTS[((wsTS.time.dt.month>11) | (wsTS.time.dt.month<2)) & (wsTS.time.dt.year<2020)].sel(time=slice('1979-12-1','2019-1-31'))\n",
    "\n",
    "#t2m"
   ]
  },
  {
   "cell_type": "code",
   "execution_count": 21,
   "metadata": {},
   "outputs": [],
   "source": [
    "t2mhb=t2m_hb_ds.t2m_hb[((t2m_hb_ds.time.dt.month>11) | (t2m_hb_ds.time.dt.month<2)) & (t2m_hb_ds.time.dt.year<2020)].sel(time=slice('1979-12-1','2019-1-31'))\n",
    "invhb=inv_hb_ds.inv_hb[((inv_hb_ds.time.dt.month>11) | (inv_hb_ds.time.dt.month<2)) & (inv_hb_ds.time.dt.year<2020)].sel(time=slice('1979-12-1','2019-1-31'))\n",
    "wshb=ws_hb_ds.ws_hb[((ws_hb_ds.time.dt.month>11) | (ws_hb_ds.time.dt.month<2)) & (ws_hb_ds.time.dt.year<2020)].sel(time=slice('1979-12-1','2019-1-31'))\n",
    "rhhb=rh_hb_ds.rh_hb[((rh_hb_ds.time.dt.month>11) | (rh_hb_ds.time.dt.month<2)) & (rh_hb_ds.time.dt.year<2020)].sel(time=slice('1979-12-1','2019-1-31'))\n",
    "whb=w_hb_ds.w_hb[((w_hb_ds.time.dt.month>11) | (w_hb_ds.time.dt.month<2)) & (w_hb_ds.time.dt.year<2020)].sel(time=slice('1979-12-1','2019-1-31'))\n",
    "ushearhb=ushear_hb_ds.ushear_hb[((ushear_hb_ds.time.dt.month>11) | (ushear_hb_ds.time.dt.month<2)) & (ushear_hb_ds.time.dt.year<2020)].sel(time=slice('1979-12-1','2019-1-31'))"
   ]
  },
  {
   "cell_type": "code",
   "execution_count": 22,
   "metadata": {},
   "outputs": [
    {
     "data": {
      "text/html": [
       "<div>\n",
       "<style scoped>\n",
       "    .dataframe tbody tr th:only-of-type {\n",
       "        vertical-align: middle;\n",
       "    }\n",
       "\n",
       "    .dataframe tbody tr th {\n",
       "        vertical-align: top;\n",
       "    }\n",
       "\n",
       "    .dataframe thead th {\n",
       "        text-align: right;\n",
       "    }\n",
       "</style>\n",
       "<table border=\"1\" class=\"dataframe\">\n",
       "  <thead>\n",
       "    <tr style=\"text-align: right;\">\n",
       "      <th></th>\n",
       "      <th>0</th>\n",
       "      <th>1</th>\n",
       "      <th>2</th>\n",
       "      <th>3</th>\n",
       "      <th>4</th>\n",
       "      <th>5</th>\n",
       "    </tr>\n",
       "  </thead>\n",
       "  <tbody>\n",
       "    <tr>\n",
       "      <th>1979-12-01 10:30:00</th>\n",
       "      <td>292.035095</td>\n",
       "      <td>1.834932</td>\n",
       "      <td>0.708859</td>\n",
       "      <td>6.891872</td>\n",
       "      <td>0.098325</td>\n",
       "      <td>0.090997</td>\n",
       "    </tr>\n",
       "    <tr>\n",
       "      <th>1979-12-02 10:30:00</th>\n",
       "      <td>292.056427</td>\n",
       "      <td>1.639527</td>\n",
       "      <td>0.666631</td>\n",
       "      <td>5.898264</td>\n",
       "      <td>0.054857</td>\n",
       "      <td>0.109640</td>\n",
       "    </tr>\n",
       "    <tr>\n",
       "      <th>1979-12-03 10:30:00</th>\n",
       "      <td>291.769226</td>\n",
       "      <td>1.591589</td>\n",
       "      <td>0.661128</td>\n",
       "      <td>5.731346</td>\n",
       "      <td>0.037788</td>\n",
       "      <td>0.106097</td>\n",
       "    </tr>\n",
       "    <tr>\n",
       "      <th>1979-12-04 10:30:00</th>\n",
       "      <td>291.208038</td>\n",
       "      <td>1.124852</td>\n",
       "      <td>0.657937</td>\n",
       "      <td>5.910801</td>\n",
       "      <td>-0.015733</td>\n",
       "      <td>0.087947</td>\n",
       "    </tr>\n",
       "    <tr>\n",
       "      <th>1979-12-05 10:30:00</th>\n",
       "      <td>291.743561</td>\n",
       "      <td>1.167518</td>\n",
       "      <td>0.646613</td>\n",
       "      <td>7.185572</td>\n",
       "      <td>-0.043891</td>\n",
       "      <td>0.093900</td>\n",
       "    </tr>\n",
       "    <tr>\n",
       "      <th>...</th>\n",
       "      <td>...</td>\n",
       "      <td>...</td>\n",
       "      <td>...</td>\n",
       "      <td>...</td>\n",
       "      <td>...</td>\n",
       "      <td>...</td>\n",
       "    </tr>\n",
       "    <tr>\n",
       "      <th>2019-01-27 10:30:00</th>\n",
       "      <td>286.516663</td>\n",
       "      <td>2.450720</td>\n",
       "      <td>0.678568</td>\n",
       "      <td>7.223832</td>\n",
       "      <td>0.064727</td>\n",
       "      <td>0.040415</td>\n",
       "    </tr>\n",
       "    <tr>\n",
       "      <th>2019-01-28 10:30:00</th>\n",
       "      <td>286.254028</td>\n",
       "      <td>2.626605</td>\n",
       "      <td>0.607172</td>\n",
       "      <td>6.774362</td>\n",
       "      <td>0.109470</td>\n",
       "      <td>0.074526</td>\n",
       "    </tr>\n",
       "    <tr>\n",
       "      <th>2019-01-29 10:30:00</th>\n",
       "      <td>286.247833</td>\n",
       "      <td>2.204186</td>\n",
       "      <td>0.581034</td>\n",
       "      <td>5.024248</td>\n",
       "      <td>0.153729</td>\n",
       "      <td>0.052181</td>\n",
       "    </tr>\n",
       "    <tr>\n",
       "      <th>2019-01-30 10:30:00</th>\n",
       "      <td>287.286652</td>\n",
       "      <td>1.269493</td>\n",
       "      <td>0.590043</td>\n",
       "      <td>3.832262</td>\n",
       "      <td>-0.003099</td>\n",
       "      <td>0.048707</td>\n",
       "    </tr>\n",
       "    <tr>\n",
       "      <th>2019-01-31 10:30:00</th>\n",
       "      <td>288.681824</td>\n",
       "      <td>1.756732</td>\n",
       "      <td>0.637625</td>\n",
       "      <td>4.573495</td>\n",
       "      <td>-0.146651</td>\n",
       "      <td>0.067231</td>\n",
       "    </tr>\n",
       "  </tbody>\n",
       "</table>\n",
       "<p>2480 rows × 6 columns</p>\n",
       "</div>"
      ],
      "text/plain": [
       "                              0         1         2         3         4  \\\n",
       "1979-12-01 10:30:00  292.035095  1.834932  0.708859  6.891872  0.098325   \n",
       "1979-12-02 10:30:00  292.056427  1.639527  0.666631  5.898264  0.054857   \n",
       "1979-12-03 10:30:00  291.769226  1.591589  0.661128  5.731346  0.037788   \n",
       "1979-12-04 10:30:00  291.208038  1.124852  0.657937  5.910801 -0.015733   \n",
       "1979-12-05 10:30:00  291.743561  1.167518  0.646613  7.185572 -0.043891   \n",
       "...                         ...       ...       ...       ...       ...   \n",
       "2019-01-27 10:30:00  286.516663  2.450720  0.678568  7.223832  0.064727   \n",
       "2019-01-28 10:30:00  286.254028  2.626605  0.607172  6.774362  0.109470   \n",
       "2019-01-29 10:30:00  286.247833  2.204186  0.581034  5.024248  0.153729   \n",
       "2019-01-30 10:30:00  287.286652  1.269493  0.590043  3.832262 -0.003099   \n",
       "2019-01-31 10:30:00  288.681824  1.756732  0.637625  4.573495 -0.146651   \n",
       "\n",
       "                            5  \n",
       "1979-12-01 10:30:00  0.090997  \n",
       "1979-12-02 10:30:00  0.109640  \n",
       "1979-12-03 10:30:00  0.106097  \n",
       "1979-12-04 10:30:00  0.087947  \n",
       "1979-12-05 10:30:00  0.093900  \n",
       "...                       ...  \n",
       "2019-01-27 10:30:00  0.040415  \n",
       "2019-01-28 10:30:00  0.074526  \n",
       "2019-01-29 10:30:00  0.052181  \n",
       "2019-01-30 10:30:00  0.048707  \n",
       "2019-01-31 10:30:00  0.067231  \n",
       "\n",
       "[2480 rows x 6 columns]"
      ]
     },
     "execution_count": 22,
     "metadata": {},
     "output_type": "execute_result"
    }
   ],
   "source": [
    "#X       = pd.DataFrame([t2m.values,ws.values,rh.values,inv.values,w.values,ushear.values*100.0,\n",
    "#                        t2mhb.values,wshb.values,rhhb.values,invhb.values,whb.values,ushearhb.values]).T[:]\n",
    "\n",
    "X       = pd.DataFrame([t2m.values,ws.values,rh.values,inv.values,w.values,ushear.values*100.0]).T[:]\n",
    "\n",
    "\n",
    "X.index = pd.to_datetime(t2m.time.values)\n",
    "X"
   ]
  },
  {
   "cell_type": "code",
   "execution_count": 23,
   "metadata": {},
   "outputs": [
    {
     "data": {
      "text/plain": [
       "array([[ 1.74202413,  0.19511287,  0.74293807,  1.61952367,  0.78485703,\n",
       "        -0.69078492],\n",
       "       [ 1.75285963, -0.22818772,  0.22563917,  1.11092022,  0.18603521,\n",
       "        -0.52393938],\n",
       "       [ 1.60697576, -0.33203462,  0.15822057,  1.02547886, -0.04910594,\n",
       "        -0.55564852],\n",
       "       ...,\n",
       "       [-1.19761878,  0.99501958, -0.82295975,  0.66353281,  1.54809446,\n",
       "        -1.03816638],\n",
       "       [-0.66995042, -1.02978331, -0.71258784,  0.05338462, -0.61236769,\n",
       "        -1.06925761],\n",
       "       [ 0.03872803,  0.02571015, -0.12970089,  0.43280384, -2.58993619,\n",
       "        -0.90348116]])"
      ]
     },
     "execution_count": 23,
     "metadata": {},
     "output_type": "execute_result"
    }
   ],
   "source": [
    "norm = StandardScaler().fit(X)\n",
    "    # transform training data\n",
    "X = norm.transform(X)\n",
    "X"
   ]
  },
  {
   "cell_type": "code",
   "execution_count": 24,
   "metadata": {},
   "outputs": [
    {
     "data": {
      "text/html": [
       "<div><svg style=\"position: absolute; width: 0; height: 0; overflow: hidden\">\n",
       "<defs>\n",
       "<symbol id=\"icon-database\" viewBox=\"0 0 32 32\">\n",
       "<path d=\"M16 0c-8.837 0-16 2.239-16 5v4c0 2.761 7.163 5 16 5s16-2.239 16-5v-4c0-2.761-7.163-5-16-5z\"></path>\n",
       "<path d=\"M16 17c-8.837 0-16-2.239-16-5v6c0 2.761 7.163 5 16 5s16-2.239 16-5v-6c0 2.761-7.163 5-16 5z\"></path>\n",
       "<path d=\"M16 26c-8.837 0-16-2.239-16-5v6c0 2.761 7.163 5 16 5s16-2.239 16-5v-6c0 2.761-7.163 5-16 5z\"></path>\n",
       "</symbol>\n",
       "<symbol id=\"icon-file-text2\" viewBox=\"0 0 32 32\">\n",
       "<path d=\"M28.681 7.159c-0.694-0.947-1.662-2.053-2.724-3.116s-2.169-2.030-3.116-2.724c-1.612-1.182-2.393-1.319-2.841-1.319h-15.5c-1.378 0-2.5 1.121-2.5 2.5v27c0 1.378 1.122 2.5 2.5 2.5h23c1.378 0 2.5-1.122 2.5-2.5v-19.5c0-0.448-0.137-1.23-1.319-2.841zM24.543 5.457c0.959 0.959 1.712 1.825 2.268 2.543h-4.811v-4.811c0.718 0.556 1.584 1.309 2.543 2.268zM28 29.5c0 0.271-0.229 0.5-0.5 0.5h-23c-0.271 0-0.5-0.229-0.5-0.5v-27c0-0.271 0.229-0.5 0.5-0.5 0 0 15.499-0 15.5 0v7c0 0.552 0.448 1 1 1h7v19.5z\"></path>\n",
       "<path d=\"M23 26h-14c-0.552 0-1-0.448-1-1s0.448-1 1-1h14c0.552 0 1 0.448 1 1s-0.448 1-1 1z\"></path>\n",
       "<path d=\"M23 22h-14c-0.552 0-1-0.448-1-1s0.448-1 1-1h14c0.552 0 1 0.448 1 1s-0.448 1-1 1z\"></path>\n",
       "<path d=\"M23 18h-14c-0.552 0-1-0.448-1-1s0.448-1 1-1h14c0.552 0 1 0.448 1 1s-0.448 1-1 1z\"></path>\n",
       "</symbol>\n",
       "</defs>\n",
       "</svg>\n",
       "<style>/* CSS stylesheet for displaying xarray objects in jupyterlab.\n",
       " *\n",
       " */\n",
       "\n",
       ":root {\n",
       "  --xr-font-color0: var(--jp-content-font-color0, rgba(0, 0, 0, 1));\n",
       "  --xr-font-color2: var(--jp-content-font-color2, rgba(0, 0, 0, 0.54));\n",
       "  --xr-font-color3: var(--jp-content-font-color3, rgba(0, 0, 0, 0.38));\n",
       "  --xr-border-color: var(--jp-border-color2, #e0e0e0);\n",
       "  --xr-disabled-color: var(--jp-layout-color3, #bdbdbd);\n",
       "  --xr-background-color: var(--jp-layout-color0, white);\n",
       "  --xr-background-color-row-even: var(--jp-layout-color1, white);\n",
       "  --xr-background-color-row-odd: var(--jp-layout-color2, #eeeeee);\n",
       "}\n",
       "\n",
       "html[theme=dark],\n",
       "body.vscode-dark {\n",
       "  --xr-font-color0: rgba(255, 255, 255, 1);\n",
       "  --xr-font-color2: rgba(255, 255, 255, 0.54);\n",
       "  --xr-font-color3: rgba(255, 255, 255, 0.38);\n",
       "  --xr-border-color: #1F1F1F;\n",
       "  --xr-disabled-color: #515151;\n",
       "  --xr-background-color: #111111;\n",
       "  --xr-background-color-row-even: #111111;\n",
       "  --xr-background-color-row-odd: #313131;\n",
       "}\n",
       "\n",
       ".xr-wrap {\n",
       "  display: block;\n",
       "  min-width: 300px;\n",
       "  max-width: 700px;\n",
       "}\n",
       "\n",
       ".xr-text-repr-fallback {\n",
       "  /* fallback to plain text repr when CSS is not injected (untrusted notebook) */\n",
       "  display: none;\n",
       "}\n",
       "\n",
       ".xr-header {\n",
       "  padding-top: 6px;\n",
       "  padding-bottom: 6px;\n",
       "  margin-bottom: 4px;\n",
       "  border-bottom: solid 1px var(--xr-border-color);\n",
       "}\n",
       "\n",
       ".xr-header > div,\n",
       ".xr-header > ul {\n",
       "  display: inline;\n",
       "  margin-top: 0;\n",
       "  margin-bottom: 0;\n",
       "}\n",
       "\n",
       ".xr-obj-type,\n",
       ".xr-array-name {\n",
       "  margin-left: 2px;\n",
       "  margin-right: 10px;\n",
       "}\n",
       "\n",
       ".xr-obj-type {\n",
       "  color: var(--xr-font-color2);\n",
       "}\n",
       "\n",
       ".xr-sections {\n",
       "  padding-left: 0 !important;\n",
       "  display: grid;\n",
       "  grid-template-columns: 150px auto auto 1fr 20px 20px;\n",
       "}\n",
       "\n",
       ".xr-section-item {\n",
       "  display: contents;\n",
       "}\n",
       "\n",
       ".xr-section-item input {\n",
       "  display: none;\n",
       "}\n",
       "\n",
       ".xr-section-item input + label {\n",
       "  color: var(--xr-disabled-color);\n",
       "}\n",
       "\n",
       ".xr-section-item input:enabled + label {\n",
       "  cursor: pointer;\n",
       "  color: var(--xr-font-color2);\n",
       "}\n",
       "\n",
       ".xr-section-item input:enabled + label:hover {\n",
       "  color: var(--xr-font-color0);\n",
       "}\n",
       "\n",
       ".xr-section-summary {\n",
       "  grid-column: 1;\n",
       "  color: var(--xr-font-color2);\n",
       "  font-weight: 500;\n",
       "}\n",
       "\n",
       ".xr-section-summary > span {\n",
       "  display: inline-block;\n",
       "  padding-left: 0.5em;\n",
       "}\n",
       "\n",
       ".xr-section-summary-in:disabled + label {\n",
       "  color: var(--xr-font-color2);\n",
       "}\n",
       "\n",
       ".xr-section-summary-in + label:before {\n",
       "  display: inline-block;\n",
       "  content: '►';\n",
       "  font-size: 11px;\n",
       "  width: 15px;\n",
       "  text-align: center;\n",
       "}\n",
       "\n",
       ".xr-section-summary-in:disabled + label:before {\n",
       "  color: var(--xr-disabled-color);\n",
       "}\n",
       "\n",
       ".xr-section-summary-in:checked + label:before {\n",
       "  content: '▼';\n",
       "}\n",
       "\n",
       ".xr-section-summary-in:checked + label > span {\n",
       "  display: none;\n",
       "}\n",
       "\n",
       ".xr-section-summary,\n",
       ".xr-section-inline-details {\n",
       "  padding-top: 4px;\n",
       "  padding-bottom: 4px;\n",
       "}\n",
       "\n",
       ".xr-section-inline-details {\n",
       "  grid-column: 2 / -1;\n",
       "}\n",
       "\n",
       ".xr-section-details {\n",
       "  display: none;\n",
       "  grid-column: 1 / -1;\n",
       "  margin-bottom: 5px;\n",
       "}\n",
       "\n",
       ".xr-section-summary-in:checked ~ .xr-section-details {\n",
       "  display: contents;\n",
       "}\n",
       "\n",
       ".xr-array-wrap {\n",
       "  grid-column: 1 / -1;\n",
       "  display: grid;\n",
       "  grid-template-columns: 20px auto;\n",
       "}\n",
       "\n",
       ".xr-array-wrap > label {\n",
       "  grid-column: 1;\n",
       "  vertical-align: top;\n",
       "}\n",
       "\n",
       ".xr-preview {\n",
       "  color: var(--xr-font-color3);\n",
       "}\n",
       "\n",
       ".xr-array-preview,\n",
       ".xr-array-data {\n",
       "  padding: 0 5px !important;\n",
       "  grid-column: 2;\n",
       "}\n",
       "\n",
       ".xr-array-data,\n",
       ".xr-array-in:checked ~ .xr-array-preview {\n",
       "  display: none;\n",
       "}\n",
       "\n",
       ".xr-array-in:checked ~ .xr-array-data,\n",
       ".xr-array-preview {\n",
       "  display: inline-block;\n",
       "}\n",
       "\n",
       ".xr-dim-list {\n",
       "  display: inline-block !important;\n",
       "  list-style: none;\n",
       "  padding: 0 !important;\n",
       "  margin: 0;\n",
       "}\n",
       "\n",
       ".xr-dim-list li {\n",
       "  display: inline-block;\n",
       "  padding: 0;\n",
       "  margin: 0;\n",
       "}\n",
       "\n",
       ".xr-dim-list:before {\n",
       "  content: '(';\n",
       "}\n",
       "\n",
       ".xr-dim-list:after {\n",
       "  content: ')';\n",
       "}\n",
       "\n",
       ".xr-dim-list li:not(:last-child):after {\n",
       "  content: ',';\n",
       "  padding-right: 5px;\n",
       "}\n",
       "\n",
       ".xr-has-index {\n",
       "  font-weight: bold;\n",
       "}\n",
       "\n",
       ".xr-var-list,\n",
       ".xr-var-item {\n",
       "  display: contents;\n",
       "}\n",
       "\n",
       ".xr-var-item > div,\n",
       ".xr-var-item label,\n",
       ".xr-var-item > .xr-var-name span {\n",
       "  background-color: var(--xr-background-color-row-even);\n",
       "  margin-bottom: 0;\n",
       "}\n",
       "\n",
       ".xr-var-item > .xr-var-name:hover span {\n",
       "  padding-right: 5px;\n",
       "}\n",
       "\n",
       ".xr-var-list > li:nth-child(odd) > div,\n",
       ".xr-var-list > li:nth-child(odd) > label,\n",
       ".xr-var-list > li:nth-child(odd) > .xr-var-name span {\n",
       "  background-color: var(--xr-background-color-row-odd);\n",
       "}\n",
       "\n",
       ".xr-var-name {\n",
       "  grid-column: 1;\n",
       "}\n",
       "\n",
       ".xr-var-dims {\n",
       "  grid-column: 2;\n",
       "}\n",
       "\n",
       ".xr-var-dtype {\n",
       "  grid-column: 3;\n",
       "  text-align: right;\n",
       "  color: var(--xr-font-color2);\n",
       "}\n",
       "\n",
       ".xr-var-preview {\n",
       "  grid-column: 4;\n",
       "}\n",
       "\n",
       ".xr-var-name,\n",
       ".xr-var-dims,\n",
       ".xr-var-dtype,\n",
       ".xr-preview,\n",
       ".xr-attrs dt {\n",
       "  white-space: nowrap;\n",
       "  overflow: hidden;\n",
       "  text-overflow: ellipsis;\n",
       "  padding-right: 10px;\n",
       "}\n",
       "\n",
       ".xr-var-name:hover,\n",
       ".xr-var-dims:hover,\n",
       ".xr-var-dtype:hover,\n",
       ".xr-attrs dt:hover {\n",
       "  overflow: visible;\n",
       "  width: auto;\n",
       "  z-index: 1;\n",
       "}\n",
       "\n",
       ".xr-var-attrs,\n",
       ".xr-var-data {\n",
       "  display: none;\n",
       "  background-color: var(--xr-background-color) !important;\n",
       "  padding-bottom: 5px !important;\n",
       "}\n",
       "\n",
       ".xr-var-attrs-in:checked ~ .xr-var-attrs,\n",
       ".xr-var-data-in:checked ~ .xr-var-data {\n",
       "  display: block;\n",
       "}\n",
       "\n",
       ".xr-var-data > table {\n",
       "  float: right;\n",
       "}\n",
       "\n",
       ".xr-var-name span,\n",
       ".xr-var-data,\n",
       ".xr-attrs {\n",
       "  padding-left: 25px !important;\n",
       "}\n",
       "\n",
       ".xr-attrs,\n",
       ".xr-var-attrs,\n",
       ".xr-var-data {\n",
       "  grid-column: 1 / -1;\n",
       "}\n",
       "\n",
       "dl.xr-attrs {\n",
       "  padding: 0;\n",
       "  margin: 0;\n",
       "  display: grid;\n",
       "  grid-template-columns: 125px auto;\n",
       "}\n",
       "\n",
       ".xr-attrs dt,\n",
       ".xr-attrs dd {\n",
       "  padding: 0;\n",
       "  margin: 0;\n",
       "  float: left;\n",
       "  padding-right: 10px;\n",
       "  width: auto;\n",
       "}\n",
       "\n",
       ".xr-attrs dt {\n",
       "  font-weight: normal;\n",
       "  grid-column: 1;\n",
       "}\n",
       "\n",
       ".xr-attrs dt:hover span {\n",
       "  display: inline-block;\n",
       "  background: var(--xr-background-color);\n",
       "  padding-right: 10px;\n",
       "}\n",
       "\n",
       ".xr-attrs dd {\n",
       "  grid-column: 2;\n",
       "  white-space: pre-wrap;\n",
       "  word-break: break-all;\n",
       "}\n",
       "\n",
       ".xr-icon-database,\n",
       ".xr-icon-file-text2 {\n",
       "  display: inline-block;\n",
       "  vertical-align: middle;\n",
       "  width: 1em;\n",
       "  height: 1.5em !important;\n",
       "  stroke-width: 0;\n",
       "  stroke: currentColor;\n",
       "  fill: currentColor;\n",
       "}\n",
       "</style><pre class='xr-text-repr-fallback'>&lt;xarray.DataArray &#x27;fogdata&#x27; (time: 2480)&gt;\n",
       "array([4., 3., 3., ..., 1., 1., 4.])\n",
       "Coordinates:\n",
       "  * time     (time) datetime64[ns] 1979-12-01 1979-12-02 ... 2019-01-31</pre><div class='xr-wrap' hidden><div class='xr-header'><div class='xr-obj-type'>xarray.DataArray</div><div class='xr-array-name'>'fogdata'</div><ul class='xr-dim-list'><li><span class='xr-has-index'>time</span>: 2480</li></ul></div><ul class='xr-sections'><li class='xr-section-item'><div class='xr-array-wrap'><input id='section-025f1bef-7b51-465a-891c-6cb65e45cdcd' class='xr-array-in' type='checkbox' checked><label for='section-025f1bef-7b51-465a-891c-6cb65e45cdcd' title='Show/hide data repr'><svg class='icon xr-icon-database'><use xlink:href='#icon-database'></use></svg></label><div class='xr-array-preview xr-preview'><span>4.0 3.0 3.0 1.0 5.0 6.0 4.0 0.0 ... 7.0 7.0 6.0 6.0 4.0 1.0 1.0 4.0</span></div><div class='xr-array-data'><pre>array([4., 3., 3., ..., 1., 1., 4.])</pre></div></div></li><li class='xr-section-item'><input id='section-7f40371c-531d-4e04-821e-8d566845cde4' class='xr-section-summary-in' type='checkbox'  checked><label for='section-7f40371c-531d-4e04-821e-8d566845cde4' class='xr-section-summary' >Coordinates: <span>(1)</span></label><div class='xr-section-inline-details'></div><div class='xr-section-details'><ul class='xr-var-list'><li class='xr-var-item'><div class='xr-var-name'><span class='xr-has-index'>time</span></div><div class='xr-var-dims'>(time)</div><div class='xr-var-dtype'>datetime64[ns]</div><div class='xr-var-preview xr-preview'>1979-12-01 ... 2019-01-31</div><input id='attrs-18c793e2-de9f-4127-b121-d3c78caf6194' class='xr-var-attrs-in' type='checkbox' disabled><label for='attrs-18c793e2-de9f-4127-b121-d3c78caf6194' title='Show/Hide attributes'><svg class='icon xr-icon-file-text2'><use xlink:href='#icon-file-text2'></use></svg></label><input id='data-5b5d252e-f97e-4bba-aafc-af7d38e84028' class='xr-var-data-in' type='checkbox'><label for='data-5b5d252e-f97e-4bba-aafc-af7d38e84028' title='Show/Hide data repr'><svg class='icon xr-icon-database'><use xlink:href='#icon-database'></use></svg></label><div class='xr-var-attrs'><dl class='xr-attrs'></dl></div><div class='xr-var-data'><pre>array([&#x27;1979-12-01T00:00:00.000000000&#x27;, &#x27;1979-12-02T00:00:00.000000000&#x27;,\n",
       "       &#x27;1979-12-03T00:00:00.000000000&#x27;, ..., &#x27;2019-01-29T00:00:00.000000000&#x27;,\n",
       "       &#x27;2019-01-30T00:00:00.000000000&#x27;, &#x27;2019-01-31T00:00:00.000000000&#x27;],\n",
       "      dtype=&#x27;datetime64[ns]&#x27;)</pre></div></li></ul></div></li><li class='xr-section-item'><input id='section-c08e9328-15e4-491e-8e77-3c540dfa2f94' class='xr-section-summary-in' type='checkbox' disabled ><label for='section-c08e9328-15e4-491e-8e77-3c540dfa2f94' class='xr-section-summary'  title='Expand/collapse section'>Attributes: <span>(0)</span></label><div class='xr-section-inline-details'></div><div class='xr-section-details'><dl class='xr-attrs'></dl></div></li></ul></div></div>"
      ],
      "text/plain": [
       "<xarray.DataArray 'fogdata' (time: 2480)>\n",
       "array([4., 3., 3., ..., 1., 1., 4.])\n",
       "Coordinates:\n",
       "  * time     (time) datetime64[ns] 1979-12-01 1979-12-02 ... 2019-01-31"
      ]
     },
     "execution_count": 24,
     "metadata": {},
     "output_type": "execute_result"
    }
   ],
   "source": [
    "y=fg.fogdata.sum(dim='stations').sel(time=slice('1979-12-1','2019-1-31'))\n",
    "#=y/25.0\n",
    "y"
   ]
  },
  {
   "cell_type": "code",
   "execution_count": 25,
   "metadata": {},
   "outputs": [
    {
     "name": "stdout",
     "output_type": "stream",
     "text": [
      "0.6813302651507613\n",
      "0.5902933647101759\n",
      "0.4978121910662483\n",
      "0.48770448221801876\n"
     ]
    }
   ],
   "source": [
    "seed(0)\n",
    "X_train, X_test, y_train, y_test = train_test_split( X, y, test_size=0.20, random_state=0)\n",
    "reg= GradientBoostingRegressor(n_estimators=300, min_samples_leaf=20, max_depth= 3,learning_rate=0.04,random_state=0).fit(X_train, y_train)\n",
    "regLin=LinearRegression().fit(X_train, y_train)\n",
    "f_imp=reg.feature_importances_\n",
    "\n",
    "print(reg.score(X_train, y_train))\n",
    "print(reg.score(X_test, y_test))\n",
    "\n",
    "\n",
    "print(regLin.score(X_train, y_train))\n",
    "print(regLin.score(X_test, y_test))"
   ]
  },
  {
   "cell_type": "code",
   "execution_count": 26,
   "metadata": {},
   "outputs": [
    {
     "name": "stdout",
     "output_type": "stream",
     "text": [
      "[[1.         0.81606956]\n",
      " [0.81606956 1.        ]]\n",
      "[[1.         0.82766556]\n",
      " [0.82766556 1.        ]]\n",
      "[[1.         0.76845783]\n",
      " [0.76845783 1.        ]]\n"
     ]
    },
    {
     "data": {
      "image/png": "[encoded data removed]",
      "text/plain": [
       "<Figure size 432x288 with 1 Axes>"
      ]
     },
     "metadata": {},
     "output_type": "display_data"
    }
   ],
   "source": [
    "\n",
    "labels = [\"t2m\",\"wind10\",\"rh2m\",\"inv850\",\"w700\",\"uShear850\"]\n",
    "colors = ['yellowgreen', 'gold', 'lightskyblue', 'lightcoral','green','blue','grey','red','brown','skyblue','yellow','pink']\n",
    "plt.pie(f_imp, labels=labels,colors=colors, autopct='%1.1f%%', pctdistance=0.8, labeldistance=1.0)\n",
    "plt.tight_layout()\n",
    "#plt.savefig('GradBoostAllDays.png')\n",
    "\n",
    "y_pred=reg.predict(X)\n",
    "y_pred_test=reg.predict(X_test)\n",
    "y_pred_train=reg.predict(X_train)\n",
    "y_predLin=regLin.predict(X)\n",
    "print(np.corrcoef(y,y_pred))\n",
    "print(np.corrcoef(y_train,y_pred_train))\n",
    "print(np.corrcoef(y_test,y_pred_test))\n",
    "\n"
   ]
  },
  {
   "cell_type": "markdown",
   "metadata": {},
   "source": [
    "# plot y obs and y_pred monthly"
   ]
  },
  {
   "cell_type": "code",
   "execution_count": 27,
   "metadata": {},
   "outputs": [
    {
     "data": {
      "text/plain": [
       "<matplotlib.legend.Legend at 0x2b6d21ded130>"
      ]
     },
     "execution_count": 27,
     "metadata": {},
     "output_type": "execute_result"
    },
    {
     "data": {
      "image/png": "[encoded data removed]",
      "text/plain": [
       "<Figure size 432x288 with 1 Axes>"
      ]
     },
     "metadata": {
      "needs_background": "light"
     },
     "output_type": "display_data"
    }
   ],
   "source": [
    "y_ds=xr.Dataset({'y': (('time'), y)}, coords={'time': t2m.time})\n",
    "y_pred_ds=xr.Dataset({'y_pred': (('time'), y_pred)}, coords={'time': y.time})\n",
    "y_predLin_ds=xr.Dataset({'y_predLin': (('time'), y_predLin)}, coords={'time': y.time})\n",
    "y_ds.resample(time='1M').mean().y.plot(label='Obs')\n",
    "y_pred_ds.resample(time='1M').mean().y_pred.plot(label='Pred')\n",
    "plt.legend()"
   ]
  },
  {
   "cell_type": "code",
   "execution_count": 28,
   "metadata": {},
   "outputs": [
    {
     "name": "stdout",
     "output_type": "stream",
     "text": [
      "(0.816069561809324, 0.0)\n",
      "(0.7043679110774017, 0.0)\n"
     ]
    },
    {
     "data": {
      "image/png": "[encoded data removed]",
      "text/plain": [
       "<Figure size 1080x360 with 1 Axes>"
      ]
     },
     "metadata": {
      "needs_background": "light"
     },
     "output_type": "display_data"
    }
   ],
   "source": [
    "plt.figure(figsize=[15,5])\n",
    "y_ds.resample(time='1M').mean().y.dropna(dim='time').plot(label='Obs')\n",
    "y_pred_ds.resample(time='1M').mean().y_pred.dropna(dim='time').plot(label='GBPred')\n",
    "y_predLin_ds.resample(time='1M').mean().y_predLin.dropna(dim='time').plot(label='LRPred')\n",
    "plt.legend()\n",
    "#np.corrcoef(y_ds.y.values, y_pred_ds.y_pred.values)\n",
    "print(stats.pearsonr(y_ds.y.values, y_pred_ds.y_pred.values))\n",
    "print(stats.pearsonr(y_ds.y.values, y_predLin_ds.y_predLin.values))\n",
    "#y_ds.y.values.corr(y_pred_ds.y_pred.values)"
   ]
  },
  {
   "cell_type": "markdown",
   "metadata": {},
   "source": [
    "# Read IPSL files"
   ]
  },
  {
   "cell_type": "code",
   "execution_count": 29,
   "metadata": {},
   "outputs": [],
   "source": [
    "#Read Orography\n",
    "I_OroData = xr.open_dataset('../../../Data/CMIP6/ACCESS-CM2/NDJF/orog_fx_ACCESS-CM2_historical_r1i1p1f1_gn.nc')\n",
    "Ioro=I_OroData.orog.sel(lat=slice(24,32),lon=slice(74,86))\n",
    "#Create Mask\n",
    "Ioro.values[Ioro.values>500.1]=np.NaN\n",
    "Imask=Ioro.values/Ioro.values"
   ]
  },
  {
   "cell_type": "code",
   "execution_count": null,
   "metadata": {},
   "outputs": [],
   "source": []
  },
  {
   "cell_type": "markdown",
   "metadata": {},
   "source": [
    "# IPSL T2m and T2m hilbert"
   ]
  },
  {
   "cell_type": "code",
   "execution_count": 30,
   "metadata": {},
   "outputs": [],
   "source": [
    "#Read Data\n",
    "I_t2mData= xr.open_dataset('../../../Data/CMIP6/ACCESS-CM2/NDJF/tas_NDJFday_ACCESS-CM2_historical_r1i1p1f1_gn_19500101-20141231.nc')\n",
    "It2mD = I_t2mData.sel(lat=slice(24,32),lon=slice(74,86))\n",
    "\n"
   ]
  },
  {
   "cell_type": "code",
   "execution_count": 31,
   "metadata": {},
   "outputs": [
    {
     "data": {
      "text/plain": [
       "<matplotlib.collections.QuadMesh at 0x2b6d24adbd90>"
      ]
     },
     "execution_count": 31,
     "metadata": {},
     "output_type": "execute_result"
    },
    {
     "data": {
      "image/png": "[encoded data removed]",
      "text/plain": [
       "<Figure size 432x288 with 2 Axes>"
      ]
     },
     "metadata": {
      "needs_background": "light"
     },
     "output_type": "display_data"
    }
   ],
   "source": [
    "It2mD.tas[0,:,:].plot()"
   ]
  },
  {
   "cell_type": "code",
   "execution_count": 32,
   "metadata": {},
   "outputs": [],
   "source": [
    "#Mask data\n",
    "It2mD.tas.values=It2mD.tas.values*Imask\n",
    "# area avg\n",
    "It2mTS=It2mD.mean(dim=['lat','lon'], skipna=True).tas\n",
    "#Hilbert transform\n",
    "It2m_hb = np.imag(hilbert(It2mTS.values,axis=0))\n",
    "It2m_hb_ds = xr.Dataset({'It2m_hb': (('time'), It2m_hb)}, coords={'time': It2mTS.time})\n",
    "#ISelect only Dec Jan months\n",
    "It2m=It2mTS[((It2mTS.time.dt.month>11) | (It2mTS.time.dt.month<2))]\n",
    "It2mhb=It2m_hb_ds.It2m_hb[((It2m_hb_ds.time.dt.month>11) | (It2m_hb_ds.time.dt.month<2))] \n"
   ]
  },
  {
   "cell_type": "markdown",
   "metadata": {},
   "source": [
    "# IPSL wind speed and wind speed hilbert"
   ]
  },
  {
   "cell_type": "code",
   "execution_count": 33,
   "metadata": {},
   "outputs": [],
   "source": [
    "# Read data\n",
    "Iu10Data = xr.open_dataset('../../../Data/CMIP6/ACCESS-CM2/NDJF/uas_NDJFday_ACCESS-CM2_historical_r1i1p1f1_gn_19500101-20141231.nc')\n",
    "Iv10Data = xr.open_dataset('../../../Data/CMIP6/ACCESS-CM2/NDJF/vas_NDJFday_ACCESS-CM2_historical_r1i1p1f1_gn_19500101-20141231.nc')\n",
    "Iu10D = Iu10Data.sel(lat=slice(24,32),lon=slice(74,86))\n",
    "Iv10D = Iv10Data.sel(lat=slice(24,32),lon=slice(74,86))\n",
    "# Calculate wind speed\n",
    "Iws = ((Iv10D.vas.values**2)+(Iu10D.uas.values**2))**0.5\n",
    "Iws_ds = xr.Dataset({'Iws': (('time','lat','lon'), Iws)}, coords={'time': Iv10D.time,'lat': Iv10D.lat,'lon': Iv10D.lon})\n"
   ]
  },
  {
   "cell_type": "code",
   "execution_count": 43,
   "metadata": {},
   "outputs": [
    {
     "data": {
      "text/plain": [
       "array([75.   , 76.875, 78.75 , 80.625, 82.5  , 84.375])"
      ]
     },
     "execution_count": 43,
     "metadata": {},
     "output_type": "execute_result"
    }
   ],
   "source": [
    "Iv10D.lon.values"
   ]
  },
  {
   "cell_type": "code",
   "execution_count": 44,
   "metadata": {},
   "outputs": [
    {
     "data": {
      "text/plain": [
       "array([75.   , 76.875, 78.75 , 80.625, 82.5  , 84.375])"
      ]
     },
     "execution_count": 44,
     "metadata": {},
     "output_type": "execute_result"
    }
   ],
   "source": [
    "Iu10D.lon.values"
   ]
  },
  {
   "cell_type": "code",
   "execution_count": 45,
   "metadata": {},
   "outputs": [
    {
     "data": {
      "text/plain": [
       "array([74.0625, 75.9375, 77.8125, 79.6875, 81.5625, 83.4375, 85.3125])"
      ]
     },
     "execution_count": 45,
     "metadata": {},
     "output_type": "execute_result"
    }
   ],
   "source": [
    "It2mD.lon.values"
   ]
  },
  {
   "cell_type": "code",
   "execution_count": 46,
   "metadata": {},
   "outputs": [
    {
     "data": {
      "text/plain": [
       "array([74.0625, 75.9375, 77.8125, 79.6875, 81.5625, 83.4375, 85.3125])"
      ]
     },
     "execution_count": 46,
     "metadata": {},
     "output_type": "execute_result"
    }
   ],
   "source": [
    "Ioro.lon.values"
   ]
  },
  {
   "cell_type": "code",
   "execution_count": 47,
   "metadata": {},
   "outputs": [
    {
     "data": {
      "text/plain": [
       "array([75.   , 76.875, 78.75 , 80.625, 82.5  , 84.375])"
      ]
     },
     "execution_count": 47,
     "metadata": {},
     "output_type": "execute_result"
    }
   ],
   "source": [
    "Iws_ds.lon.values"
   ]
  },
  {
   "cell_type": "code",
   "execution_count": 37,
   "metadata": {},
   "outputs": [
    {
     "ename": "ValueError",
     "evalue": "operands could not be broadcast together with shapes (7816,7,6) (7,7) ",
     "output_type": "error",
     "traceback": [
      "\u001b[0;31m---------------------------------------------------------------------------\u001b[0m",
      "\u001b[0;31mValueError\u001b[0m                                Traceback (most recent call last)",
      "\u001b[0;32m<ipython-input-37-02aa801d9738>\u001b[0m in \u001b[0;36m<module>\u001b[0;34m\u001b[0m\n\u001b[1;32m      1\u001b[0m \u001b[0;31m#Mask\u001b[0m\u001b[0;34m\u001b[0m\u001b[0;34m\u001b[0m\u001b[0;34m\u001b[0m\u001b[0m\n\u001b[0;32m----> 2\u001b[0;31m \u001b[0mIws_ds\u001b[0m\u001b[0;34m.\u001b[0m\u001b[0mIws\u001b[0m\u001b[0;34m.\u001b[0m\u001b[0mvalues\u001b[0m\u001b[0;34m=\u001b[0m\u001b[0mIws_ds\u001b[0m\u001b[0;34m.\u001b[0m\u001b[0mIws\u001b[0m\u001b[0;34m.\u001b[0m\u001b[0mvalues\u001b[0m\u001b[0;34m*\u001b[0m\u001b[0mImask\u001b[0m\u001b[0;34m\u001b[0m\u001b[0;34m\u001b[0m\u001b[0m\n\u001b[0m\u001b[1;32m      3\u001b[0m \u001b[0;31m# area avg\u001b[0m\u001b[0;34m\u001b[0m\u001b[0;34m\u001b[0m\u001b[0;34m\u001b[0m\u001b[0m\n\u001b[1;32m      4\u001b[0m \u001b[0mIwsTS\u001b[0m\u001b[0;34m=\u001b[0m\u001b[0mIws_ds\u001b[0m\u001b[0;34m.\u001b[0m\u001b[0mmean\u001b[0m\u001b[0;34m(\u001b[0m\u001b[0mdim\u001b[0m\u001b[0;34m=\u001b[0m\u001b[0;34m[\u001b[0m\u001b[0;34m'lat'\u001b[0m\u001b[0;34m,\u001b[0m\u001b[0;34m'lon'\u001b[0m\u001b[0;34m]\u001b[0m\u001b[0;34m,\u001b[0m \u001b[0mskipna\u001b[0m\u001b[0;34m=\u001b[0m\u001b[0;32mTrue\u001b[0m\u001b[0;34m)\u001b[0m\u001b[0;34m.\u001b[0m\u001b[0mIws\u001b[0m\u001b[0;34m\u001b[0m\u001b[0;34m\u001b[0m\u001b[0m\n\u001b[1;32m      5\u001b[0m \u001b[0;31m# hilbert\u001b[0m\u001b[0;34m\u001b[0m\u001b[0;34m\u001b[0m\u001b[0;34m\u001b[0m\u001b[0m\n",
      "\u001b[0;31mValueError\u001b[0m: operands could not be broadcast together with shapes (7816,7,6) (7,7) "
     ]
    }
   ],
   "source": [
    "#Mask\n",
    "Iws_ds.Iws.values=Iws_ds.Iws.values*Imask\n",
    "# area avg\n",
    "IwsTS=Iws_ds.mean(dim=['lat','lon'], skipna=True).Iws\n",
    "# hilbert\n",
    "Iws_hb = np.imag(hilbert(IwsTS.values,axis=0))\n",
    "Iws_hb_ds = xr.Dataset({'Iws_hb': (('time'), Iws_hb)}, coords={'time': IwsTS.time})\n",
    "#Select Dec and Jan\n",
    "Iws=IwsTS[((IwsTS.time.dt.month>11) | (IwsTS.time.dt.month<2))] \n",
    "Iwshb=Iws_hb_ds.Iws_hb[((Iws_hb_ds.time.dt.month>11) | (Iws_hb_ds.time.dt.month<2))]"
   ]
  },
  {
   "cell_type": "markdown",
   "metadata": {},
   "source": [
    "# IPSL rh and rh hilbert"
   ]
  },
  {
   "cell_type": "code",
   "execution_count": 48,
   "metadata": {},
   "outputs": [],
   "source": [
    "#Read Data\n",
    "I_rhData= xr.open_dataset('../../../Data/CMIP6/ACCESS-CM2/NDJF/hurs_NDJFday_ACCESS-CM2_historical_r1i1p1f1_gn_19500101-20141231.nc')\n",
    "IrhD = I_rhData.sel(lat=slice(24,32),lon=slice(74,86))\n",
    "IrhD.hurs.values=IrhD.hurs.values/100.0\n"
   ]
  },
  {
   "cell_type": "code",
   "execution_count": null,
   "metadata": {},
   "outputs": [],
   "source": [
    "#Mask data\n",
    "IrhD.hurs.values=IrhD.hurs.values*Imask\n",
    "# area avg\n",
    "IrhTS=IrhD.mean(dim=['lat','lon'], skipna=True).hurs\n",
    "#Hilbert transform\n",
    "Irh_hb = np.imag(hilbert(IrhTS.values,axis=0))\n",
    "Irh_hb_ds = xr.Dataset({'Irh_hb': (('time'), Irh_hb)}, coords={'time': IrhTS.time})\n",
    "#ISelect only Dec Jan months\n",
    "Irh=IrhTS[((IrhTS.time.dt.month>11) | (IrhTS.time.dt.month<2))]\n",
    "Irhhb=Irh_hb_ds.Irh_hb[((Irh_hb_ds.time.dt.month>11) | (Irh_hb_ds.time.dt.month<2))] \n",
    "Irh.plot()\n",
    "Irhhb.plot()"
   ]
  },
  {
   "cell_type": "markdown",
   "metadata": {},
   "source": [
    "#  IPSL inv and inv hilbert"
   ]
  },
  {
   "cell_type": "code",
   "execution_count": null,
   "metadata": {},
   "outputs": [],
   "source": [
    "# Read 850 hPa t\n",
    "I_tLevData= xr.open_mfdataset('../../../Data/CMIP6/ACCESS-CM2/ta_*.nc')\n",
    "\n"
   ]
  },
  {
   "cell_type": "code",
   "execution_count": null,
   "metadata": {},
   "outputs": [],
   "source": [
    "plev2=np.array([100000.,  85000.,  70000.,  50000., 25000.,  10000.,   5000.,   1000.])\n",
    "\n",
    "\n",
    "plev2"
   ]
  },
  {
   "cell_type": "code",
   "execution_count": null,
   "metadata": {},
   "outputs": [],
   "source": [
    "#I_tLevData.plev.values=[100000.,  85000.,  70000.,  50000., 25000.,  10000.,   5000.,   1000.]\n",
    "I_tLevData=I_tLevData.assign_coords(plev=('plev',plev2))\n",
    "I_tLevData.plev.values\n"
   ]
  },
  {
   "cell_type": "code",
   "execution_count": null,
   "metadata": {},
   "outputs": [],
   "source": [
    "It850D=I_tLevData.sel(lat=slice(24,32),lon=slice(74,86),plev=85000)\n",
    "It850D.ta.values=It850D.ta.values*Imask"
   ]
  },
  {
   "cell_type": "code",
   "execution_count": null,
   "metadata": {},
   "outputs": [],
   "source": [
    "It850D.ta"
   ]
  },
  {
   "cell_type": "code",
   "execution_count": null,
   "metadata": {},
   "outputs": [],
   "source": [
    "# Calculate inv\n",
    "Iinv = It2mD.tas.values-It850D.ta.values\n",
    "Iinv_ds = xr.Dataset({'Iinv': (('time','lat','lon'), Iinv)}, coords={'time': Iv10D.time,'lat': Iv10D.lat,'lon': Iv10D.lon})\n",
    "#Iinv_ds.Iinv\n",
    "#Mask\n",
    "Iinv_ds.Iinv.values=Iinv_ds.Iinv.values*Imask\n",
    "# area avg\n",
    "IinvTS=Iinv_ds.mean(dim=['lat','lon'], skipna=True).Iinv\n",
    "# hilbert\n",
    "Iinv_hb = np.imag(hilbert(IinvTS.values,axis=0))\n",
    "Iinv_hb_ds = xr.Dataset({'Iinv_hb': (('time'), Iinv_hb)}, coords={'time': IinvTS.time})\n",
    "#Select Dec and Jan\n",
    "Iinv=IinvTS[((IinvTS.time.dt.month>11) | (IinvTS.time.dt.month<2))] \n",
    "Iinvhb=Iinv_hb_ds.Iinv_hb[((Iinv_hb_ds.time.dt.month>11) | (Iinv_hb_ds.time.dt.month<2))]\n"
   ]
  },
  {
   "cell_type": "markdown",
   "metadata": {},
   "source": [
    "\n",
    "# IPSL w700 and w700 hilbert"
   ]
  },
  {
   "cell_type": "code",
   "execution_count": null,
   "metadata": {},
   "outputs": [],
   "source": [
    "# Read Data\n",
    "I_w700Data= xr.open_mfdataset('../../../Data/CMIP6/ACCESS-CM2/wap_*.nc')\n",
    "Iw700D = I_w700Data.sel(lat=slice(24,32),lon=slice(74,86),plev=(70000))\n"
   ]
  },
  {
   "cell_type": "code",
   "execution_count": null,
   "metadata": {},
   "outputs": [],
   "source": [
    "#Mask data\n",
    "Iw700D.wap.values=Iw700D.wap.values*Imask\n",
    "# area avg\n",
    "Iw700TS=Iw700D.mean(dim=['lat','lon'], skipna=True).wap\n",
    "#Hilbert transform\n",
    "Iw700_hb = np.imag(hilbert(Iw700TS.values,axis=0))\n",
    "Iw700_hb_ds = xr.Dataset({'Iw700_hb': (('time'), Iw700_hb)}, coords={'time': Iw700TS.time})\n",
    "#ISelect only Dec Jan months\n",
    "Iw700=Iw700TS[((Iw700TS.time.dt.month>11) | (Iw700TS.time.dt.month<2))]\n",
    "Iw700hb=Iw700_hb_ds.Iw700_hb[((Iw700_hb_ds.time.dt.month>11) | (Iw700_hb_ds.time.dt.month<2))] "
   ]
  },
  {
   "cell_type": "markdown",
   "metadata": {},
   "source": [
    "# IPSL ushear and ushear hilbert"
   ]
  },
  {
   "cell_type": "code",
   "execution_count": null,
   "metadata": {},
   "outputs": [],
   "source": [
    "# Read 850 hPa u \n",
    "I_uLevData= xr.open_mfdataset('../../../Data/CMIP6/ACCESS-CM2/ua_*.nc')\n",
    "Iu850D=I_uLevData.sel(lat=slice(24,32),lon=slice(74,86),plev=85000)\n",
    "# Read 850 hPa  z \n",
    "I_zLevData= xr.open_mfdataset('../../../Data/CMIP6/ACCESS-CM2/zg_*.nc')\n",
    "Iz850D=I_zLevData.sel(lat=slice(24,32),lon=slice(74,86),plev=85000)\n",
    "# Calculate ushear\n",
    "Iushear = (Iu850D.ua.values-Iu10D.uas.values)/(Iz850D.zg.values) \n",
    "Iushear_ds = xr.Dataset({'Iushear': (('time','lat','lon'), Iushear)}, coords={'time': Iv10D.time,'lat': Iv10D.lat,'lon': Iv10D.lon})\n",
    "#Iushear_ds.Iushear[0,:,:].plot()\n",
    "#Mask\n",
    "Iushear_ds.Iushear.values=Iushear_ds.Iushear.values*Imask\n",
    "# area avg\n",
    "IushearTS=Iushear_ds.mean(dim=['lat','lon'], skipna=True).Iushear\n",
    "# hilbert\n",
    "Iushear_hb = np.imag(hilbert(IushearTS.values,axis=0))\n",
    "Iushear_hb_ds = xr.Dataset({'Iushear_hb': (('time'), Iushear_hb)}, coords={'time': IushearTS.time})\n",
    "#Select Dec and Jan\n",
    "Iushear=IushearTS[((IushearTS.time.dt.month>11) | (IushearTS.time.dt.month<2))] \n",
    "Iushearhb=Iushear_hb_ds.Iushear_hb[((Iushear_hb_ds.time.dt.month>11) | (Iushear_hb_ds.time.dt.month<2))]\n",
    "Iushearhb.plot()"
   ]
  },
  {
   "cell_type": "code",
   "execution_count": null,
   "metadata": {},
   "outputs": [],
   "source": [
    "#IX       = pd.DataFrame([It2m.values,Iws.values,Irh.values,Iinv.values,Iw700.values,Iushear.values*100.0,\n",
    "#                       It2mhb.values,Iwshb.values,Irhhb.values,Iinvhb.values,Iw700hb.values,Iushearhb.values]).T[:]\n",
    "IX       = pd.DataFrame([It2m.values,Iws.values,Irh.values,Iinv.values,Iw700.values,Iushear.values*100.0]).T[:]\n",
    "\n",
    "IX.index = pd.to_datetime(It2m.time.values)\n",
    "IX"
   ]
  },
  {
   "cell_type": "code",
   "execution_count": null,
   "metadata": {},
   "outputs": [],
   "source": [
    "normI = StandardScaler().fit(IX)\n",
    "    # transform training data\n",
    "IX = normI.transform(IX)\n",
    "IX"
   ]
  },
  {
   "cell_type": "code",
   "execution_count": null,
   "metadata": {},
   "outputs": [],
   "source": [
    "Iy_pred=reg.predict(IX)\n",
    "Iy_predLin=regLin.predict(IX)\n",
    "Iy_df = pd.DataFrame(Iy_pred)\n",
    "Iy_df.index = pd.to_datetime(It2m.time.values)\n",
    "Iy_dfLin = pd.DataFrame(Iy_predLin)\n",
    "Iy_dfLin.index = pd.to_datetime(It2m.time.values)"
   ]
  },
  {
   "cell_type": "code",
   "execution_count": null,
   "metadata": {},
   "outputs": [],
   "source": []
  },
  {
   "cell_type": "code",
   "execution_count": null,
   "metadata": {},
   "outputs": [],
   "source": [
    "Iy_ds=xr.Dataset({'Iy_pred': (('time'), Iy_pred)}, coords={'time': It2m.time})\n",
    "Iy_ds\n",
    "\n",
    "IyLin_ds=xr.Dataset({'Iy_predLin': (('time'), Iy_predLin)}, coords={'time': It2m.time})\n",
    "IyLin_ds"
   ]
  },
  {
   "cell_type": "code",
   "execution_count": null,
   "metadata": {},
   "outputs": [],
   "source": [
    "Iy_ds.resample(time='1M').mean().Iy_pred.dropna(dim='time').plot(label='IPSL Pred')"
   ]
  },
  {
   "cell_type": "code",
   "execution_count": null,
   "metadata": {},
   "outputs": [],
   "source": [
    "plt.figure(figsize=[15,5])\n",
    "y_ds.resample(time='1M').mean().y.dropna(dim='time').plot(label='Obs')\n",
    "y_pred_ds.resample(time='1M').mean().y_pred.dropna(dim='time').plot(label='Pred')\n",
    "Iy_ds.resample(time='1M').mean().Iy_pred.dropna(dim='time').plot(label='IPSL Pred GB')\n",
    "IyLin_ds.resample(time='1M').mean().Iy_predLin.dropna(dim='time').plot(label='IPSL Pred LR')\n",
    "\n",
    "plt.legend()\n",
    "np.corrcoef(y_ds.y.values, y_pred_ds.y_pred.values)\n",
    "stats.pearsonr(y_ds.y.values, y_pred_ds.y_pred.values)\n",
    "#y_ds.y.values.corr(y_pred_ds.y_pred.values)"
   ]
  },
  {
   "cell_type": "code",
   "execution_count": null,
   "metadata": {},
   "outputs": [],
   "source": [
    "Iy_ds.resample(time='1M').mean().Iy_pred.dropna(dim='time')"
   ]
  },
  {
   "cell_type": "code",
   "execution_count": null,
   "metadata": {},
   "outputs": [],
   "source": [
    "plt.figure(figsize=[15,5])\n",
    "#Iy_ds.resample(time='1M').mean().Iy_pred.dropna(dim='time').plot(label='Obs')\n",
    "#y_pred_ds.resample(time='1M').mean().y_pred.dropna(dim='time').plot(label='Pred')\n",
    "y_ds.resample(time='1M').mean().y.dropna(dim='time').plot(label='Obs')\n",
    "y_pred_ds.resample(time='1M').mean().y_pred.dropna(dim='time').plot(label='Pred')\n",
    "Iy_ds.resample(time='1M').mean().Iy_pred.dropna(dim='time')[260:].plot(label='IPSL Pred GB')\n",
    "IyLin_ds.resample(time='1M').mean().Iy_predLin.dropna(dim='time')[260:].plot(label='IPSL Pred LR')\n",
    "\n",
    "plt.legend()"
   ]
  },
  {
   "cell_type": "markdown",
   "metadata": {},
   "source": [
    "# Standard Normal rh comparison\n",
    "\n"
   ]
  },
  {
   "cell_type": "code",
   "execution_count": null,
   "metadata": {},
   "outputs": [],
   "source": [
    "normrh=xr.Dataset({'normrh': (('time'), scale(rh))}, coords={'time': rh.time})\n",
    "normrh\n",
    "\n",
    "Inormrh=xr.Dataset({'Inormrh': (('time'), scale(Irh))}, coords={'time': Irh.time})\n",
    "Inormrh"
   ]
  },
  {
   "cell_type": "code",
   "execution_count": null,
   "metadata": {},
   "outputs": [],
   "source": [
    "plt.figure(figsize=[15,5])\n",
    "normrh.resample(time='1M').mean().normrh.dropna(dim='time').plot(label='Obs')\n",
    "Inormrh.resample(time='1M').mean().Inormrh.dropna(dim='time').plot(label='IPSL')\n",
    "#y_ds.resample(time='1M').mean().y.dropna(dim='time').plot(label='Obs')\n",
    "#Iy_ds.resample(time='1M').mean().Iy_pred.dropna(dim='time')[260:].plot(label='IPSL Pred GB')"
   ]
  },
  {
   "cell_type": "code",
   "execution_count": null,
   "metadata": {},
   "outputs": [],
   "source": [
    "plt.figure(figsize=[15,5])\n",
    "normrh.resample(time='1M').mean().normrh.dropna(dim='time').plot(label='Obs')\n",
    "Inormrh.resample(time='1M').mean().Inormrh.dropna(dim='time')[260:].plot(label='IPSL')\n",
    "#y_ds.resample(time='1M').mean().y.dropna(dim='time').plot(label='Obs')\n",
    "#Iy_ds.resample(time='1M').mean().Iy_pred.dropna(dim='time')[260:].plot(label='IPSL Pred GB')"
   ]
  },
  {
   "cell_type": "code",
   "execution_count": null,
   "metadata": {},
   "outputs": [],
   "source": []
  },
  {
   "cell_type": "code",
   "execution_count": null,
   "metadata": {},
   "outputs": [],
   "source": []
  }
 ],
 "metadata": {
  "kernelspec": {
   "display_name": "Python 3",
   "language": "python",
   "name": "python3"
  },
  "language_info": {
   "codemirror_mode": {
    "name": "ipython",
    "version": 3
   },
   "file_extension": ".py",
   "mimetype": "text/x-python",
   "name": "python",
   "nbconvert_exporter": "python",
   "pygments_lexer": "ipython3",
   "version": "3.8.5"
  }
 },
 "nbformat": 4,
 "nbformat_minor": 4
}
