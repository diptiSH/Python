{
 "cells": [
  {
   "cell_type": "markdown",
   "metadata": {},
   "source": [
    "# import files"
   ]
  },
  {
   "cell_type": "code",
   "execution_count": 1,
   "metadata": {},
   "outputs": [],
   "source": [
    "import numpy as np\n",
    "\n",
    "import pandas as pd\n",
    "\n",
    "import xarray as xr\n",
    "\n",
    "import glob\n",
    "\n",
    "import matplotlib as mpl\n",
    "\n",
    "import matplotlib.pyplot as plt\n",
    "\n",
    "import math as mt\n",
    "\n",
    "from math import e\n",
    "\n",
    "import datetime\n",
    "\n",
    "from sklearn.ensemble import GradientBoostingRegressor\n",
    "from sklearn.model_selection import train_test_split\n",
    "from random import seed\n",
    "from random import randint\n",
    "\n",
    "from scipy.signal import hilbert\n",
    "import statistics\n"
   ]
  },
  {
   "cell_type": "markdown",
   "metadata": {},
   "source": [
    "# Read Fog file"
   ]
  },
  {
   "cell_type": "code",
   "execution_count": 3,
   "metadata": {},
   "outputs": [],
   "source": [
    "fogData = xr.open_dataset('../../../Data/FogData/CombinedFogData_25Stations.nc')\n"
   ]
  },
  {
   "cell_type": "code",
   "execution_count": 37,
   "metadata": {
    "scrolled": false
   },
   "outputs": [
    {
     "data": {
      "text/plain": [
       "<Figure size 1152x576 with 0 Axes>"
      ]
     },
     "execution_count": 37,
     "metadata": {},
     "output_type": "execute_result"
    },
    {
     "data": {
      "text/plain": [
       "<Figure size 1152x576 with 0 Axes>"
      ]
     },
     "metadata": {},
     "output_type": "display_data"
    }
   ],
   "source": [
    "plt.figure(figsize=[16,8])\n",
    "\n",
    "#fogData.fogdata\n",
    "\n",
    "#fogData.fogdata.sum(dim=['stations','months','days']).plot()\n",
    "#fogData.fogdata.sum(dim=['stations','months','days'])\n"
   ]
  },
  {
   "cell_type": "code",
   "execution_count": 36,
   "metadata": {},
   "outputs": [],
   "source": [
    "StackFog=fogData.fogdata.stack(a=('years','months','days'))\n",
    "#StackFog"
   ]
  },
  {
   "cell_type": "code",
   "execution_count": 6,
   "metadata": {},
   "outputs": [],
   "source": [
    "dd =[];\n",
    "for i in range(StackFog.years.values.shape[0]):\n",
    "    dd=dd+[str(StackFog.years[i].values)+'-'+str(StackFog.months[i].values)+\"-\"+str(StackFog.days[i].values)]\n",
    "    "
   ]
  },
  {
   "cell_type": "code",
   "execution_count": 35,
   "metadata": {},
   "outputs": [],
   "source": [
    "fg = xr.Dataset({'fogdata': (('time','stations'), StackFog.values.T)}, coords={'time': pd.to_datetime(dd),'stations': fogData.stations})\n",
    "# fogData.fogdata.values.shape\n",
    "# fogData.stations\n",
    "#plt.figure(figsize=[16,8])\n",
    "#fg.fogdata.resample(time=\"1y\").sum().sum(dim='stations').plot()\n",
    "#fg.fogdata.time"
   ]
  },
  {
   "cell_type": "markdown",
   "metadata": {},
   "source": [
    "# Read ERA5 Data"
   ]
  },
  {
   "cell_type": "code",
   "execution_count": 8,
   "metadata": {},
   "outputs": [],
   "source": [
    "t2mData = xr.open_dataset('../../../Data/IGPERA5/DailyFiles/DailyERA5IGP_t2m_3hourly_NovDecJan.nc')\n",
    "u10Data = xr.open_dataset('../../../Data/IGPERA5/DailyFiles/DailyERA5IGP_u10_3hourly_NovDecJan.nc')\n",
    "v10Data = xr.open_dataset('../../../Data/IGPERA5/DailyFiles/DailyERA5IGP_v10_3hourly_NovDecJan.nc')\n",
    "d2mData = xr.open_dataset('../../../Data/IGPERA5/DailyFiles/DailyERA5IGP_d2m_3hourly_NovDecJan.nc')"
   ]
  },
  {
   "cell_type": "code",
   "execution_count": 55,
   "metadata": {},
   "outputs": [],
   "source": [
    "t2mD = t2mData.sel(latitude=slice(32,24),longitude=slice(74,86))\n",
    "u10D = u10Data.sel(latitude=slice(32,24),longitude=slice(74,86))\n",
    "v10D = v10Data.sel(latitude=slice(32,24),longitude=slice(74,86))\n",
    "d2mD = d2mData.sel(latitude=slice(32,24),longitude=slice(74,86))"
   ]
  },
  {
   "cell_type": "markdown",
   "metadata": {},
   "source": [
    "# Calculate wind speed and relative humidity"
   ]
  },
  {
   "cell_type": "code",
   "execution_count": 33,
   "metadata": {},
   "outputs": [],
   "source": [
    "ws = ((v10D.v10[:,0,:,:].values**2)+(u10D.u10[:,0,:,:].values**2))**0.5\n",
    "ws_ds = xr.Dataset({'ws': (('time','latitude','longitude'), ws)}, coords={'time': v10D.time,'latitude': v10D.latitude,'longitude': v10D.longitude})\n",
    "rh = (e**((17.625*(d2mD.d2m[:,0,:,:].values-273.15))/(243.04+(d2mD.d2m[:,0,:,:].values-273.15)))/e**((17.625*(t2mD.t2m[:,0,:,:].values-273.15))/(243.04+(t2mD.t2m[:,0,:,:].values-273.15))))\n",
    "rh_ds = xr.Dataset({'rh': (('time','latitude','longitude'), rh)}, coords={'time': v10D.time,'latitude': v10D.latitude,'longitude': v10D.longitude})\n",
    "#rh_ds\n",
    "             \n",
    "    "
   ]
  },
  {
   "cell_type": "markdown",
   "metadata": {},
   "source": [
    "# Read 850 data"
   ]
  },
  {
   "cell_type": "code",
   "execution_count": 11,
   "metadata": {},
   "outputs": [],
   "source": [
    "tz850Data = xr.open_dataset('../../../Data/IGPERA5/DailyFiles/DailyERA5IGP_850_tqz_3hourly_NovDecJan.nc')\n",
    "uv850Data = xr.open_dataset('../../../Data/IGPERA5/DailyFiles/DailyERA5IGP_850_uv_3hourly_NovDecJan.nc')\n",
    "tz850D = tz850Data.sel(latitude=slice(32,24),longitude=slice(74,86))\n",
    "uv850D = uv850Data.sel(latitude=slice(32,24),longitude=slice(74,86))"
   ]
  },
  {
   "cell_type": "markdown",
   "metadata": {},
   "source": [
    "# Calculate inv"
   ]
  },
  {
   "cell_type": "code",
   "execution_count": 12,
   "metadata": {},
   "outputs": [],
   "source": [
    "inv=t2mD.t2m[:,0,:,:].values-tz850D.t[:,0,:,:].values\n",
    "inv_ds = xr.Dataset({'inv': (('time','latitude','longitude'), inv)}, coords={'time': v10D.time,'latitude': v10D.latitude,'longitude': v10D.longitude})\n",
    "inv_ds.attrs\n",
    "inv_ds.attrs['units']='K'\n",
    "inv_ds.attrs['long_name']='t2m - t850'\n",
    "#inv_ds.inv"
   ]
  },
  {
   "cell_type": "code",
   "execution_count": 38,
   "metadata": {},
   "outputs": [],
   "source": [
    "l = np.arange(-10,11,1)\n",
    "\n",
    "#inv_ds.inv[0,:,:].plot(levels=l,extend='both',cmap='bwr')"
   ]
  },
  {
   "cell_type": "markdown",
   "metadata": {},
   "source": [
    "# u shear calculation"
   ]
  },
  {
   "cell_type": "code",
   "execution_count": 39,
   "metadata": {},
   "outputs": [],
   "source": [
    "ushear=(uv850D.u[:,0,:,:].values-u10D.u10[:,0,:,:].values)/(tz850D.z[:,0,:,:].values/9.81) \n",
    "ushear_ds = xr.Dataset({'ushear': (('time','latitude','longitude'), ushear)}, coords={'time': v10D.time,'latitude': v10D.latitude,'longitude': v10D.longitude})\n",
    "\n",
    "ushear_ds.attrs['units']='s-1'\n",
    "ushear_ds.attrs['long_name']='(u10 - u850)/z850'\n",
    "\n",
    "#ushear_ds.ushear\n",
    "#inv"
   ]
  },
  {
   "cell_type": "markdown",
   "metadata": {},
   "source": [
    "# Read W700 "
   ]
  },
  {
   "cell_type": "code",
   "execution_count": 15,
   "metadata": {},
   "outputs": [],
   "source": [
    "w700Data = xr.open_dataset('../../../Data/IGPERA5/DailyFiles/DailyERA5IGP_700_w_3hourly_NovDecJan.nc')\n",
    "w700D = w700Data.sel(latitude=slice(32,24),longitude=slice(74,86))"
   ]
  },
  {
   "cell_type": "markdown",
   "metadata": {},
   "source": [
    "# Hilbert Vars                                    "
   ]
  },
  {
   "cell_type": "code",
   "execution_count": 67,
   "metadata": {},
   "outputs": [],
   "source": [
    "w700_hb = np.imag(hilbert(w700D.w.values[(t2mData.t2m.time.dt.year<2020),0,:,:],axis=0))\n",
    "w700_hb_ds = xr.Dataset({'w700_hb': (('time','latitude','longitude'), w700_hb)}, \n",
    "                    coords={'time': v10D.time[(t2mData.t2m.time.dt.year<2020)],\n",
    "                           'latitude': v10D.latitude,\n",
    "                          'longitude': v10D.longitude})\n",
    "\n",
    "\n",
    "t2m_hb = np.imag(hilbert(t2mD.t2m.values[(t2mData.t2m.time.dt.year<2020),0,:,:],axis=0))\n",
    "t2m_hb_ds = xr.Dataset({'t2m_hb': (('time','latitude','longitude'), t2m_hb)}, \n",
    "                    coords={'time': v10D.time[(t2mData.t2m.time.dt.year<2020)],\n",
    "                           'latitude': v10D.latitude,\n",
    "                          'longitude': v10D.longitude})\n",
    "\n",
    "ws_hb = np.imag(hilbert(ws_ds.ws.values[(ws_ds.ws.time.dt.year<2020),:,:],axis=0))\n",
    "ws_hb_ds = xr.Dataset({'ws_hb': (('time','latitude','longitude'), ws_hb)}, \n",
    "                    coords={'time': v10D.time[(ws_ds.ws.time.dt.year<2020)],\n",
    "                           'latitude': v10D.latitude,\n",
    "                          'longitude': v10D.longitude})\n",
    "\n",
    "inv_hb = np.imag(hilbert(inv_ds.inv.values[(inv_ds.inv.time.dt.year<2020),:,:],axis=0))\n",
    "inv_hb_ds = xr.Dataset({'inv_hb': (('time','latitude','longitude'), inv_hb)}, \n",
    "                    coords={'time': v10D.time[(inv_ds.inv.time.dt.year<2020)],\n",
    "                           'latitude': v10D.latitude,\n",
    "                          'longitude': v10D.longitude})\n",
    "\n",
    "ushear_hb = np.imag(hilbert(ushear_ds.ushear.values[(ushear_ds.ushear.time.dt.year<2020),:,:],axis=0))\n",
    "ushear_hb_ds = xr.Dataset({'ushear_hb': (('time','latitude','longitude'), ushear_hb)}, \n",
    "                    coords={'time': v10D.time[(ushear_ds.ushear.time.dt.year<2020)],\n",
    "                           'latitude': v10D.latitude,\n",
    "                          'longitude': v10D.longitude})\n",
    "\n",
    "rh_hb = np.imag(hilbert(rh_ds.rh.values[(rh_ds.rh.time.dt.year<2020),:,:],axis=0))\n",
    "rh_hb_ds = xr.Dataset({'rh_hb': (('time','latitude','longitude'), rh_hb)}, \n",
    "                    coords={'time': v10D.time[(rh_ds.rh.time.dt.year<2020)],\n",
    "                           'latitude': v10D.latitude,\n",
    "                          'longitude': v10D.longitude})\n",
    "\n"
   ]
  },
  {
   "cell_type": "markdown",
   "metadata": {},
   "source": [
    "# Read Orography\n"
   ]
  },
  {
   "cell_type": "code",
   "execution_count": 16,
   "metadata": {},
   "outputs": [],
   "source": [
    "OroData = xr.open_dataset('../../../Data/IGPERA5/DailyFiles/ERA5IGP_Orography.nc')\n",
    "OroData.data_vars\n",
    "OroD = OroData.sel(latitude=slice(32,24),longitude=slice(74,86))"
   ]
  },
  {
   "cell_type": "code",
   "execution_count": 17,
   "metadata": {},
   "outputs": [
    {
     "data": {
      "text/plain": [
       "<matplotlib.collections.QuadMesh at 0x2b1cf9fd2cd0>"
      ]
     },
     "execution_count": 17,
     "metadata": {},
     "output_type": "execute_result"
    },
    {
     "data": {
      "image/png": "[encoded data removed]",
      "text/plain": [
       "<Figure size 432x288 with 2 Axes>"
      ]
     },
     "metadata": {
      "needs_background": "light"
     },
     "output_type": "display_data"
    }
   ],
   "source": [
    "oro = OroD.z\n",
    "oro.values = OroD.z.values/9.81\n",
    "oro.attrs\n",
    "oro.attrs['units']='meter'\n",
    "oro.attrs['long_name']='Orography'\n",
    "l = np.arange(0,1000,100)\n",
    "oro[0,:,:].plot(levels=l,extend='both',cmap='jet')"
   ]
  },
  {
   "cell_type": "markdown",
   "metadata": {},
   "source": [
    "# Create Mask altitude >500 m NaN"
   ]
  },
  {
   "cell_type": "code",
   "execution_count": 18,
   "metadata": {},
   "outputs": [],
   "source": [
    "oro.values[oro.values>500.1]=np.NaN\n",
    "mask=oro.values/oro.values\n",
    "# chk mask\n",
    "t2mD.t2m.values=t2mD.t2m.values*mask\n",
    "#t2mData.t2m[0,0,:,:].plot(cmap='jet')\n",
    "#plt.figure(figsize=[20,10])\n",
    "#t2mData.mean(dim=['latitude','longitude']).t2m[:,0].plot()\n",
    "t2mTS=t2mD.mean(dim=['latitude','longitude'], skipna=True).t2m[:,0]\n"
   ]
  },
  {
   "cell_type": "code",
   "execution_count": 19,
   "metadata": {},
   "outputs": [
    {
     "data": {
      "text/plain": [
       "[<matplotlib.lines.Line2D at 0x2b1cfa05dfd0>]"
      ]
     },
     "execution_count": 19,
     "metadata": {},
     "output_type": "execute_result"
    },
    {
     "data": {
      "image/png": "[encoded data removed]",
      "text/plain": [
       "<Figure size 432x288 with 1 Axes>"
      ]
     },
     "metadata": {
      "needs_background": "light"
     },
     "output_type": "display_data"
    }
   ],
   "source": [
    "ws_ds.ws.values=ws_ds.ws.values*mask\n",
    "wsTS=ws_ds.mean(dim=['latitude','longitude'], skipna=True).ws\n",
    "wsTS.plot()\n"
   ]
  },
  {
   "cell_type": "code",
   "execution_count": 20,
   "metadata": {},
   "outputs": [
    {
     "data": {
      "text/plain": [
       "[<matplotlib.lines.Line2D at 0x2b1cfa0c6850>]"
      ]
     },
     "execution_count": 20,
     "metadata": {},
     "output_type": "execute_result"
    },
    {
     "data": {
      "image/png": "[encoded data removed]",
      "text/plain": [
       "<Figure size 432x288 with 1 Axes>"
      ]
     },
     "metadata": {
      "needs_background": "light"
     },
     "output_type": "display_data"
    }
   ],
   "source": [
    "rh_ds.rh.values=rh_ds.rh.values*mask\n",
    "rh_ds.rh[:].mean(dim=['latitude','longitude'], skipna=True).plot()\n"
   ]
  },
  {
   "cell_type": "code",
   "execution_count": 21,
   "metadata": {},
   "outputs": [
    {
     "data": {
      "text/plain": [
       "[<matplotlib.lines.Line2D at 0x2b1cfa121940>]"
      ]
     },
     "execution_count": 21,
     "metadata": {},
     "output_type": "execute_result"
    },
    {
     "data": {
      "image/png": "[encoded data removed]",
      "text/plain": [
       "<Figure size 432x288 with 1 Axes>"
      ]
     },
     "metadata": {
      "needs_background": "light"
     },
     "output_type": "display_data"
    }
   ],
   "source": [
    "rhTS=rh_ds.mean(dim=['latitude','longitude'], skipna=True).rh\n",
    "rhTS.plot()"
   ]
  },
  {
   "cell_type": "code",
   "execution_count": 22,
   "metadata": {},
   "outputs": [
    {
     "data": {
      "text/plain": [
       "[<matplotlib.lines.Line2D at 0x2b1cfa17ee50>]"
      ]
     },
     "execution_count": 22,
     "metadata": {},
     "output_type": "execute_result"
    },
    {
     "data": {
      "image/png": "[encoded data removed]",
      "text/plain": [
       "<Figure size 432x288 with 1 Axes>"
      ]
     },
     "metadata": {
      "needs_background": "light"
     },
     "output_type": "display_data"
    }
   ],
   "source": [
    "inv_ds.inv.values=inv_ds.inv.values*mask\n",
    "invTS=inv_ds.mean(dim=['latitude','longitude'], skipna=True).inv\n",
    "invTS.plot()"
   ]
  },
  {
   "cell_type": "code",
   "execution_count": 23,
   "metadata": {},
   "outputs": [
    {
     "data": {
      "text/plain": [
       "[<matplotlib.lines.Line2D at 0x2b1cfa1155b0>]"
      ]
     },
     "execution_count": 23,
     "metadata": {},
     "output_type": "execute_result"
    },
    {
     "data": {
      "image/png": "[encoded data removed]",
      "text/plain": [
       "<Figure size 432x288 with 1 Axes>"
      ]
     },
     "metadata": {
      "needs_background": "light"
     },
     "output_type": "display_data"
    }
   ],
   "source": [
    "w700D.w.values=w700D.w.values*mask\n",
    "w700D.mean(dim=['latitude','longitude'])\n",
    "wTS=w700D.mean(dim=['latitude','longitude'], skipna=True).w[:,0]\n",
    "wTS.plot()"
   ]
  },
  {
   "cell_type": "code",
   "execution_count": 24,
   "metadata": {},
   "outputs": [
    {
     "data": {
      "text/plain": [
       "[<matplotlib.lines.Line2D at 0x2b1cfa231790>]"
      ]
     },
     "execution_count": 24,
     "metadata": {},
     "output_type": "execute_result"
    },
    {
     "data": {
      "image/png": "[encoded data removed]",
      "text/plain": [
       "<Figure size 432x288 with 1 Axes>"
      ]
     },
     "metadata": {
      "needs_background": "light"
     },
     "output_type": "display_data"
    }
   ],
   "source": [
    "ushear_ds.ushear.values=ushear_ds.ushear.values*mask\n",
    "ushearTS=ushear_ds.mean(dim=['latitude','longitude'], skipna=True).ushear\n",
    "ushearTS.plot()"
   ]
  },
  {
   "cell_type": "code",
   "execution_count": 78,
   "metadata": {},
   "outputs": [],
   "source": [
    "t2m_hb_ds.t2m_hb.values=t2m_hb_ds.t2m_hb.values*mask\n",
    "t2m_hbTS=t2m_hb_ds.mean(dim=['latitude','longitude'], skipna=True).t2m_hb\n",
    "#t2m_hbTS.plot()\n",
    "\n",
    "inv_hb_ds.inv_hb.values=inv_hb_ds.inv_hb.values*mask\n",
    "inv_hbTS=inv_hb_ds.mean(dim=['latitude','longitude'], skipna=True).inv_hb\n",
    "#inv_hbTS.plot()\n",
    "\n",
    "ws_hb_ds.ws_hb.values=ws_hb_ds.ws_hb.values*mask\n",
    "ws_hbTS=ws_hb_ds.mean(dim=['latitude','longitude'], skipna=True).ws_hb\n",
    "#ws_hbTS.plot()\n",
    "\n",
    "ushear_hb_ds.ushear_hb.values=ushear_hb_ds.ushear_hb.values*mask\n",
    "ushear_hbTS=ushear_hb_ds.mean(dim=['latitude','longitude'], skipna=True).ushear_hb\n",
    "#ushear_hbTS.plot()\n",
    "\n",
    "rh_hb_ds.rh_hb.values=rh_hb_ds.rh_hb.values*mask\n",
    "rh_hbTS=rh_hb_ds.mean(dim=['latitude','longitude'], skipna=True).rh_hb\n",
    "#rh_hbTS.plot()\n",
    "\n",
    "w700_hb_ds.w700_hb.values=w700_hb_ds.w700_hb.values*mask\n",
    "w700_hbTS=w700_hb_ds.mean(dim=['latitude','longitude'], skipna=True).w700_hb\n",
    "#w700_hbTS.plot()\n"
   ]
  },
  {
   "cell_type": "markdown",
   "metadata": {},
   "source": [
    "#  Create area averaged values and get same days as fog days i.e. Dec Jan"
   ]
  },
  {
   "cell_type": "code",
   "execution_count": 77,
   "metadata": {},
   "outputs": [],
   "source": [
    "# a,b = xr.align(fg.fogdata.sum(dim='stations'),t2mTS)\n",
    "\n",
    "\n",
    "t2m=t2mTS[((t2mTS.time.dt.month>11) | (t2mTS.time.dt.month<2)) & (t2mTS.time.dt.year<2020)].sel(time=slice('1979-12-1','2019-1-31'))\n",
    "ws=wsTS[((wsTS.time.dt.month>11) | (wsTS.time.dt.month<2)) & (wsTS.time.dt.year<2020)].sel(time=slice('1979-12-1','2019-1-31'))\n",
    "inv=invTS[((wsTS.time.dt.month>11) | (wsTS.time.dt.month<2)) & (wsTS.time.dt.year<2020)].sel(time=slice('1979-12-1','2019-1-31'))\n",
    "rh=rhTS[((wsTS.time.dt.month>11) | (wsTS.time.dt.month<2)) & (wsTS.time.dt.year<2020)].sel(time=slice('1979-12-1','2019-1-31'))\n",
    "w=wTS[((wsTS.time.dt.month>11) | (wsTS.time.dt.month<2)) & (wsTS.time.dt.year<2020)].sel(time=slice('1979-12-1','2019-1-31'))\n",
    "ushear=ushearTS[((wsTS.time.dt.month>11) | (wsTS.time.dt.month<2)) & (wsTS.time.dt.year<2020)].sel(time=slice('1979-12-1','2019-1-31'))\n",
    "\n",
    "# fg.fogdata.sum(dim='stations')\n"
   ]
  },
  {
   "cell_type": "code",
   "execution_count": 83,
   "metadata": {},
   "outputs": [],
   "source": [
    "t2mhb=t2m_hbTS[((t2m_hb_ds.time.dt.month>11) | (t2m_hb_ds.time.dt.month<2)) \n",
    "                       & (t2m_hb_ds.time.dt.year<2020)].sel(time=slice('1979-12-1','2019-1-31'))\n",
    "\n",
    "invhb=inv_hbTS[((inv_hb_ds.time.dt.month>11) | (inv_hb_ds.time.dt.month<2))\n",
    "                       & (inv_hb_ds.time.dt.year<2020)].sel(time=slice('1979-12-1','2019-1-31'))\n",
    "\n",
    "wshb=ws_hbTS[((ws_hb_ds.time.dt.month>11) | (ws_hb_ds.time.dt.month<2))\n",
    "                    & (ws_hb_ds.time.dt.year<2020)].sel(time=slice('1979-12-1','2019-1-31'))\n",
    "\n",
    "rhhb=rh_hbTS[((rh_hb_ds.time.dt.month>11) | (rh_hb_ds.time.dt.month<2))\n",
    "                    & (rh_hb_ds.time.dt.year<2020)].sel(time=slice('1979-12-1','2019-1-31'))\n",
    "\n",
    "whb=w700_hbTS[((w_hb_ds.time.dt.month>11) | (w_hb_ds.time.dt.month<2))\n",
    "                 & (w_hb_ds.time.dt.year<2020)].sel(time=slice('1979-12-1','2019-1-31'))\n",
    "\n",
    "ushearhb=ushear_hbTS[((ushear_hb_ds.time.dt.month>11)\n",
    "                                 | (ushear_hb_ds.time.dt.month<2))\n",
    "                                & (ushear_hb_ds.time.dt.year<2020)].sel(time=slice('1979-12-1','2019-1-31'))"
   ]
  },
  {
   "cell_type": "code",
   "execution_count": 84,
   "metadata": {},
   "outputs": [
    {
     "data": {
      "text/html": [
       "<div>\n",
       "<style scoped>\n",
       "    .dataframe tbody tr th:only-of-type {\n",
       "        vertical-align: middle;\n",
       "    }\n",
       "\n",
       "    .dataframe tbody tr th {\n",
       "        vertical-align: top;\n",
       "    }\n",
       "\n",
       "    .dataframe thead th {\n",
       "        text-align: right;\n",
       "    }\n",
       "</style>\n",
       "<table border=\"1\" class=\"dataframe\">\n",
       "  <thead>\n",
       "    <tr style=\"text-align: right;\">\n",
       "      <th></th>\n",
       "      <th>0</th>\n",
       "      <th>1</th>\n",
       "      <th>2</th>\n",
       "      <th>3</th>\n",
       "      <th>4</th>\n",
       "      <th>5</th>\n",
       "      <th>6</th>\n",
       "      <th>7</th>\n",
       "      <th>8</th>\n",
       "      <th>9</th>\n",
       "      <th>10</th>\n",
       "      <th>11</th>\n",
       "    </tr>\n",
       "  </thead>\n",
       "  <tbody>\n",
       "    <tr>\n",
       "      <th>1979-12-01 10:30:00</th>\n",
       "      <td>1.718231</td>\n",
       "      <td>1.834932</td>\n",
       "      <td>0.708859</td>\n",
       "      <td>6.891872</td>\n",
       "      <td>0.098325</td>\n",
       "      <td>0.090997</td>\n",
       "      <td>3.601679</td>\n",
       "      <td>0.038903</td>\n",
       "      <td>0.151368</td>\n",
       "      <td>-0.546598</td>\n",
       "      <td>-0.012106</td>\n",
       "      <td>2.694765e-04</td>\n",
       "    </tr>\n",
       "    <tr>\n",
       "      <th>1979-12-02 10:30:00</th>\n",
       "      <td>1.739563</td>\n",
       "      <td>1.639527</td>\n",
       "      <td>0.666631</td>\n",
       "      <td>5.898264</td>\n",
       "      <td>0.054857</td>\n",
       "      <td>0.109640</td>\n",
       "      <td>3.807241</td>\n",
       "      <td>0.014750</td>\n",
       "      <td>0.129374</td>\n",
       "      <td>-0.232701</td>\n",
       "      <td>0.019394</td>\n",
       "      <td>7.810134e-05</td>\n",
       "    </tr>\n",
       "    <tr>\n",
       "      <th>1979-12-03 10:30:00</th>\n",
       "      <td>1.452362</td>\n",
       "      <td>1.591589</td>\n",
       "      <td>0.661128</td>\n",
       "      <td>5.731346</td>\n",
       "      <td>0.037788</td>\n",
       "      <td>0.106097</td>\n",
       "      <td>3.978117</td>\n",
       "      <td>0.250979</td>\n",
       "      <td>0.108878</td>\n",
       "      <td>-0.840632</td>\n",
       "      <td>0.030353</td>\n",
       "      <td>3.611430e-04</td>\n",
       "    </tr>\n",
       "    <tr>\n",
       "      <th>1979-12-04 10:30:00</th>\n",
       "      <td>0.891174</td>\n",
       "      <td>1.124852</td>\n",
       "      <td>0.657937</td>\n",
       "      <td>5.910801</td>\n",
       "      <td>-0.015733</td>\n",
       "      <td>0.087947</td>\n",
       "      <td>3.670402</td>\n",
       "      <td>0.096814</td>\n",
       "      <td>0.113694</td>\n",
       "      <td>-1.268007</td>\n",
       "      <td>0.036459</td>\n",
       "      <td>2.381013e-04</td>\n",
       "    </tr>\n",
       "    <tr>\n",
       "      <th>1979-12-05 10:30:00</th>\n",
       "      <td>1.426697</td>\n",
       "      <td>1.167518</td>\n",
       "      <td>0.646613</td>\n",
       "      <td>7.185572</td>\n",
       "      <td>-0.043891</td>\n",
       "      <td>0.093900</td>\n",
       "      <td>3.435359</td>\n",
       "      <td>-0.389744</td>\n",
       "      <td>0.105176</td>\n",
       "      <td>-1.139987</td>\n",
       "      <td>-0.038256</td>\n",
       "      <td>4.473549e-04</td>\n",
       "    </tr>\n",
       "    <tr>\n",
       "      <th>...</th>\n",
       "      <td>...</td>\n",
       "      <td>...</td>\n",
       "      <td>...</td>\n",
       "      <td>...</td>\n",
       "      <td>...</td>\n",
       "      <td>...</td>\n",
       "      <td>...</td>\n",
       "      <td>...</td>\n",
       "      <td>...</td>\n",
       "      <td>...</td>\n",
       "      <td>...</td>\n",
       "      <td>...</td>\n",
       "    </tr>\n",
       "    <tr>\n",
       "      <th>2019-01-27 10:30:00</th>\n",
       "      <td>-3.800201</td>\n",
       "      <td>2.450720</td>\n",
       "      <td>0.678568</td>\n",
       "      <td>7.223832</td>\n",
       "      <td>0.064727</td>\n",
       "      <td>0.040415</td>\n",
       "      <td>-4.066809</td>\n",
       "      <td>-0.345170</td>\n",
       "      <td>0.117046</td>\n",
       "      <td>-1.452214</td>\n",
       "      <td>-0.046514</td>\n",
       "      <td>-3.247449e-04</td>\n",
       "    </tr>\n",
       "    <tr>\n",
       "      <th>2019-01-28 10:30:00</th>\n",
       "      <td>-4.062836</td>\n",
       "      <td>2.626605</td>\n",
       "      <td>0.607172</td>\n",
       "      <td>6.774362</td>\n",
       "      <td>0.109470</td>\n",
       "      <td>0.074526</td>\n",
       "      <td>-4.721529</td>\n",
       "      <td>0.235499</td>\n",
       "      <td>0.101919</td>\n",
       "      <td>-0.464942</td>\n",
       "      <td>-0.035040</td>\n",
       "      <td>2.617728e-04</td>\n",
       "    </tr>\n",
       "    <tr>\n",
       "      <th>2019-01-29 10:30:00</th>\n",
       "      <td>-4.069031</td>\n",
       "      <td>2.204186</td>\n",
       "      <td>0.581034</td>\n",
       "      <td>5.024248</td>\n",
       "      <td>0.153729</td>\n",
       "      <td>0.052181</td>\n",
       "      <td>-7.449447</td>\n",
       "      <td>0.970344</td>\n",
       "      <td>0.029602</td>\n",
       "      <td>-0.032698</td>\n",
       "      <td>0.067782</td>\n",
       "      <td>-9.647273e-08</td>\n",
       "    </tr>\n",
       "    <tr>\n",
       "      <th>2019-01-30 10:30:00</th>\n",
       "      <td>-3.030212</td>\n",
       "      <td>1.269493</td>\n",
       "      <td>0.590043</td>\n",
       "      <td>3.832262</td>\n",
       "      <td>-0.003099</td>\n",
       "      <td>0.048707</td>\n",
       "      <td>-8.406832</td>\n",
       "      <td>0.542304</td>\n",
       "      <td>-0.017982</td>\n",
       "      <td>-1.615671</td>\n",
       "      <td>0.191527</td>\n",
       "      <td>3.194640e-06</td>\n",
       "    </tr>\n",
       "    <tr>\n",
       "      <th>2019-01-31 10:30:00</th>\n",
       "      <td>-1.635040</td>\n",
       "      <td>1.756732</td>\n",
       "      <td>0.637625</td>\n",
       "      <td>4.573495</td>\n",
       "      <td>-0.146651</td>\n",
       "      <td>0.067231</td>\n",
       "      <td>-13.476013</td>\n",
       "      <td>0.295419</td>\n",
       "      <td>-0.066333</td>\n",
       "      <td>-3.338084</td>\n",
       "      <td>-0.021798</td>\n",
       "      <td>-7.473827e-04</td>\n",
       "    </tr>\n",
       "  </tbody>\n",
       "</table>\n",
       "<p>2480 rows × 12 columns</p>\n",
       "</div>"
      ],
      "text/plain": [
       "                           0         1         2         3         4   \\\n",
       "1979-12-01 10:30:00  1.718231  1.834932  0.708859  6.891872  0.098325   \n",
       "1979-12-02 10:30:00  1.739563  1.639527  0.666631  5.898264  0.054857   \n",
       "1979-12-03 10:30:00  1.452362  1.591589  0.661128  5.731346  0.037788   \n",
       "1979-12-04 10:30:00  0.891174  1.124852  0.657937  5.910801 -0.015733   \n",
       "1979-12-05 10:30:00  1.426697  1.167518  0.646613  7.185572 -0.043891   \n",
       "...                       ...       ...       ...       ...       ...   \n",
       "2019-01-27 10:30:00 -3.800201  2.450720  0.678568  7.223832  0.064727   \n",
       "2019-01-28 10:30:00 -4.062836  2.626605  0.607172  6.774362  0.109470   \n",
       "2019-01-29 10:30:00 -4.069031  2.204186  0.581034  5.024248  0.153729   \n",
       "2019-01-30 10:30:00 -3.030212  1.269493  0.590043  3.832262 -0.003099   \n",
       "2019-01-31 10:30:00 -1.635040  1.756732  0.637625  4.573495 -0.146651   \n",
       "\n",
       "                           5          6         7         8         9   \\\n",
       "1979-12-01 10:30:00  0.090997   3.601679  0.038903  0.151368 -0.546598   \n",
       "1979-12-02 10:30:00  0.109640   3.807241  0.014750  0.129374 -0.232701   \n",
       "1979-12-03 10:30:00  0.106097   3.978117  0.250979  0.108878 -0.840632   \n",
       "1979-12-04 10:30:00  0.087947   3.670402  0.096814  0.113694 -1.268007   \n",
       "1979-12-05 10:30:00  0.093900   3.435359 -0.389744  0.105176 -1.139987   \n",
       "...                       ...        ...       ...       ...       ...   \n",
       "2019-01-27 10:30:00  0.040415  -4.066809 -0.345170  0.117046 -1.452214   \n",
       "2019-01-28 10:30:00  0.074526  -4.721529  0.235499  0.101919 -0.464942   \n",
       "2019-01-29 10:30:00  0.052181  -7.449447  0.970344  0.029602 -0.032698   \n",
       "2019-01-30 10:30:00  0.048707  -8.406832  0.542304 -0.017982 -1.615671   \n",
       "2019-01-31 10:30:00  0.067231 -13.476013  0.295419 -0.066333 -3.338084   \n",
       "\n",
       "                           10            11  \n",
       "1979-12-01 10:30:00 -0.012106  2.694765e-04  \n",
       "1979-12-02 10:30:00  0.019394  7.810134e-05  \n",
       "1979-12-03 10:30:00  0.030353  3.611430e-04  \n",
       "1979-12-04 10:30:00  0.036459  2.381013e-04  \n",
       "1979-12-05 10:30:00 -0.038256  4.473549e-04  \n",
       "...                       ...           ...  \n",
       "2019-01-27 10:30:00 -0.046514 -3.247449e-04  \n",
       "2019-01-28 10:30:00 -0.035040  2.617728e-04  \n",
       "2019-01-29 10:30:00  0.067782 -9.647273e-08  \n",
       "2019-01-30 10:30:00  0.191527  3.194640e-06  \n",
       "2019-01-31 10:30:00 -0.021798 -7.473827e-04  \n",
       "\n",
       "[2480 rows x 12 columns]"
      ]
     },
     "execution_count": 84,
     "metadata": {},
     "output_type": "execute_result"
    }
   ],
   "source": [
    " X       = pd.DataFrame([t2m.values,ws.values,rh.values,inv.values,w.values,ushear.values*100.0,\n",
    "                        t2mhb.values,wshb.values,rhhb.values,invhb.values,whb.values,ushearhb.values]).T[:]\n",
    " X.index = pd.to_datetime(t2m.time.values)\n",
    "X"
   ]
  },
  {
   "cell_type": "code",
   "execution_count": 85,
   "metadata": {},
   "outputs": [
    {
     "data": {
      "text/html": [
       "<div><svg style=\"position: absolute; width: 0; height: 0; overflow: hidden\">\n",
       "<defs>\n",
       "<symbol id=\"icon-database\" viewBox=\"0 0 32 32\">\n",
       "<path d=\"M16 0c-8.837 0-16 2.239-16 5v4c0 2.761 7.163 5 16 5s16-2.239 16-5v-4c0-2.761-7.163-5-16-5z\"></path>\n",
       "<path d=\"M16 17c-8.837 0-16-2.239-16-5v6c0 2.761 7.163 5 16 5s16-2.239 16-5v-6c0 2.761-7.163 5-16 5z\"></path>\n",
       "<path d=\"M16 26c-8.837 0-16-2.239-16-5v6c0 2.761 7.163 5 16 5s16-2.239 16-5v-6c0 2.761-7.163 5-16 5z\"></path>\n",
       "</symbol>\n",
       "<symbol id=\"icon-file-text2\" viewBox=\"0 0 32 32\">\n",
       "<path d=\"M28.681 7.159c-0.694-0.947-1.662-2.053-2.724-3.116s-2.169-2.030-3.116-2.724c-1.612-1.182-2.393-1.319-2.841-1.319h-15.5c-1.378 0-2.5 1.121-2.5 2.5v27c0 1.378 1.122 2.5 2.5 2.5h23c1.378 0 2.5-1.122 2.5-2.5v-19.5c0-0.448-0.137-1.23-1.319-2.841zM24.543 5.457c0.959 0.959 1.712 1.825 2.268 2.543h-4.811v-4.811c0.718 0.556 1.584 1.309 2.543 2.268zM28 29.5c0 0.271-0.229 0.5-0.5 0.5h-23c-0.271 0-0.5-0.229-0.5-0.5v-27c0-0.271 0.229-0.5 0.5-0.5 0 0 15.499-0 15.5 0v7c0 0.552 0.448 1 1 1h7v19.5z\"></path>\n",
       "<path d=\"M23 26h-14c-0.552 0-1-0.448-1-1s0.448-1 1-1h14c0.552 0 1 0.448 1 1s-0.448 1-1 1z\"></path>\n",
       "<path d=\"M23 22h-14c-0.552 0-1-0.448-1-1s0.448-1 1-1h14c0.552 0 1 0.448 1 1s-0.448 1-1 1z\"></path>\n",
       "<path d=\"M23 18h-14c-0.552 0-1-0.448-1-1s0.448-1 1-1h14c0.552 0 1 0.448 1 1s-0.448 1-1 1z\"></path>\n",
       "</symbol>\n",
       "</defs>\n",
       "</svg>\n",
       "<style>/* CSS stylesheet for displaying xarray objects in jupyterlab.\n",
       " *\n",
       " */\n",
       "\n",
       ":root {\n",
       "  --xr-font-color0: var(--jp-content-font-color0, rgba(0, 0, 0, 1));\n",
       "  --xr-font-color2: var(--jp-content-font-color2, rgba(0, 0, 0, 0.54));\n",
       "  --xr-font-color3: var(--jp-content-font-color3, rgba(0, 0, 0, 0.38));\n",
       "  --xr-border-color: var(--jp-border-color2, #e0e0e0);\n",
       "  --xr-disabled-color: var(--jp-layout-color3, #bdbdbd);\n",
       "  --xr-background-color: var(--jp-layout-color0, white);\n",
       "  --xr-background-color-row-even: var(--jp-layout-color1, white);\n",
       "  --xr-background-color-row-odd: var(--jp-layout-color2, #eeeeee);\n",
       "}\n",
       "\n",
       "html[theme=dark],\n",
       "body.vscode-dark {\n",
       "  --xr-font-color0: rgba(255, 255, 255, 1);\n",
       "  --xr-font-color2: rgba(255, 255, 255, 0.54);\n",
       "  --xr-font-color3: rgba(255, 255, 255, 0.38);\n",
       "  --xr-border-color: #1F1F1F;\n",
       "  --xr-disabled-color: #515151;\n",
       "  --xr-background-color: #111111;\n",
       "  --xr-background-color-row-even: #111111;\n",
       "  --xr-background-color-row-odd: #313131;\n",
       "}\n",
       "\n",
       ".xr-wrap {\n",
       "  display: block;\n",
       "  min-width: 300px;\n",
       "  max-width: 700px;\n",
       "}\n",
       "\n",
       ".xr-text-repr-fallback {\n",
       "  /* fallback to plain text repr when CSS is not injected (untrusted notebook) */\n",
       "  display: none;\n",
       "}\n",
       "\n",
       ".xr-header {\n",
       "  padding-top: 6px;\n",
       "  padding-bottom: 6px;\n",
       "  margin-bottom: 4px;\n",
       "  border-bottom: solid 1px var(--xr-border-color);\n",
       "}\n",
       "\n",
       ".xr-header > div,\n",
       ".xr-header > ul {\n",
       "  display: inline;\n",
       "  margin-top: 0;\n",
       "  margin-bottom: 0;\n",
       "}\n",
       "\n",
       ".xr-obj-type,\n",
       ".xr-array-name {\n",
       "  margin-left: 2px;\n",
       "  margin-right: 10px;\n",
       "}\n",
       "\n",
       ".xr-obj-type {\n",
       "  color: var(--xr-font-color2);\n",
       "}\n",
       "\n",
       ".xr-sections {\n",
       "  padding-left: 0 !important;\n",
       "  display: grid;\n",
       "  grid-template-columns: 150px auto auto 1fr 20px 20px;\n",
       "}\n",
       "\n",
       ".xr-section-item {\n",
       "  display: contents;\n",
       "}\n",
       "\n",
       ".xr-section-item input {\n",
       "  display: none;\n",
       "}\n",
       "\n",
       ".xr-section-item input + label {\n",
       "  color: var(--xr-disabled-color);\n",
       "}\n",
       "\n",
       ".xr-section-item input:enabled + label {\n",
       "  cursor: pointer;\n",
       "  color: var(--xr-font-color2);\n",
       "}\n",
       "\n",
       ".xr-section-item input:enabled + label:hover {\n",
       "  color: var(--xr-font-color0);\n",
       "}\n",
       "\n",
       ".xr-section-summary {\n",
       "  grid-column: 1;\n",
       "  color: var(--xr-font-color2);\n",
       "  font-weight: 500;\n",
       "}\n",
       "\n",
       ".xr-section-summary > span {\n",
       "  display: inline-block;\n",
       "  padding-left: 0.5em;\n",
       "}\n",
       "\n",
       ".xr-section-summary-in:disabled + label {\n",
       "  color: var(--xr-font-color2);\n",
       "}\n",
       "\n",
       ".xr-section-summary-in + label:before {\n",
       "  display: inline-block;\n",
       "  content: '►';\n",
       "  font-size: 11px;\n",
       "  width: 15px;\n",
       "  text-align: center;\n",
       "}\n",
       "\n",
       ".xr-section-summary-in:disabled + label:before {\n",
       "  color: var(--xr-disabled-color);\n",
       "}\n",
       "\n",
       ".xr-section-summary-in:checked + label:before {\n",
       "  content: '▼';\n",
       "}\n",
       "\n",
       ".xr-section-summary-in:checked + label > span {\n",
       "  display: none;\n",
       "}\n",
       "\n",
       ".xr-section-summary,\n",
       ".xr-section-inline-details {\n",
       "  padding-top: 4px;\n",
       "  padding-bottom: 4px;\n",
       "}\n",
       "\n",
       ".xr-section-inline-details {\n",
       "  grid-column: 2 / -1;\n",
       "}\n",
       "\n",
       ".xr-section-details {\n",
       "  display: none;\n",
       "  grid-column: 1 / -1;\n",
       "  margin-bottom: 5px;\n",
       "}\n",
       "\n",
       ".xr-section-summary-in:checked ~ .xr-section-details {\n",
       "  display: contents;\n",
       "}\n",
       "\n",
       ".xr-array-wrap {\n",
       "  grid-column: 1 / -1;\n",
       "  display: grid;\n",
       "  grid-template-columns: 20px auto;\n",
       "}\n",
       "\n",
       ".xr-array-wrap > label {\n",
       "  grid-column: 1;\n",
       "  vertical-align: top;\n",
       "}\n",
       "\n",
       ".xr-preview {\n",
       "  color: var(--xr-font-color3);\n",
       "}\n",
       "\n",
       ".xr-array-preview,\n",
       ".xr-array-data {\n",
       "  padding: 0 5px !important;\n",
       "  grid-column: 2;\n",
       "}\n",
       "\n",
       ".xr-array-data,\n",
       ".xr-array-in:checked ~ .xr-array-preview {\n",
       "  display: none;\n",
       "}\n",
       "\n",
       ".xr-array-in:checked ~ .xr-array-data,\n",
       ".xr-array-preview {\n",
       "  display: inline-block;\n",
       "}\n",
       "\n",
       ".xr-dim-list {\n",
       "  display: inline-block !important;\n",
       "  list-style: none;\n",
       "  padding: 0 !important;\n",
       "  margin: 0;\n",
       "}\n",
       "\n",
       ".xr-dim-list li {\n",
       "  display: inline-block;\n",
       "  padding: 0;\n",
       "  margin: 0;\n",
       "}\n",
       "\n",
       ".xr-dim-list:before {\n",
       "  content: '(';\n",
       "}\n",
       "\n",
       ".xr-dim-list:after {\n",
       "  content: ')';\n",
       "}\n",
       "\n",
       ".xr-dim-list li:not(:last-child):after {\n",
       "  content: ',';\n",
       "  padding-right: 5px;\n",
       "}\n",
       "\n",
       ".xr-has-index {\n",
       "  font-weight: bold;\n",
       "}\n",
       "\n",
       ".xr-var-list,\n",
       ".xr-var-item {\n",
       "  display: contents;\n",
       "}\n",
       "\n",
       ".xr-var-item > div,\n",
       ".xr-var-item label,\n",
       ".xr-var-item > .xr-var-name span {\n",
       "  background-color: var(--xr-background-color-row-even);\n",
       "  margin-bottom: 0;\n",
       "}\n",
       "\n",
       ".xr-var-item > .xr-var-name:hover span {\n",
       "  padding-right: 5px;\n",
       "}\n",
       "\n",
       ".xr-var-list > li:nth-child(odd) > div,\n",
       ".xr-var-list > li:nth-child(odd) > label,\n",
       ".xr-var-list > li:nth-child(odd) > .xr-var-name span {\n",
       "  background-color: var(--xr-background-color-row-odd);\n",
       "}\n",
       "\n",
       ".xr-var-name {\n",
       "  grid-column: 1;\n",
       "}\n",
       "\n",
       ".xr-var-dims {\n",
       "  grid-column: 2;\n",
       "}\n",
       "\n",
       ".xr-var-dtype {\n",
       "  grid-column: 3;\n",
       "  text-align: right;\n",
       "  color: var(--xr-font-color2);\n",
       "}\n",
       "\n",
       ".xr-var-preview {\n",
       "  grid-column: 4;\n",
       "}\n",
       "\n",
       ".xr-var-name,\n",
       ".xr-var-dims,\n",
       ".xr-var-dtype,\n",
       ".xr-preview,\n",
       ".xr-attrs dt {\n",
       "  white-space: nowrap;\n",
       "  overflow: hidden;\n",
       "  text-overflow: ellipsis;\n",
       "  padding-right: 10px;\n",
       "}\n",
       "\n",
       ".xr-var-name:hover,\n",
       ".xr-var-dims:hover,\n",
       ".xr-var-dtype:hover,\n",
       ".xr-attrs dt:hover {\n",
       "  overflow: visible;\n",
       "  width: auto;\n",
       "  z-index: 1;\n",
       "}\n",
       "\n",
       ".xr-var-attrs,\n",
       ".xr-var-data {\n",
       "  display: none;\n",
       "  background-color: var(--xr-background-color) !important;\n",
       "  padding-bottom: 5px !important;\n",
       "}\n",
       "\n",
       ".xr-var-attrs-in:checked ~ .xr-var-attrs,\n",
       ".xr-var-data-in:checked ~ .xr-var-data {\n",
       "  display: block;\n",
       "}\n",
       "\n",
       ".xr-var-data > table {\n",
       "  float: right;\n",
       "}\n",
       "\n",
       ".xr-var-name span,\n",
       ".xr-var-data,\n",
       ".xr-attrs {\n",
       "  padding-left: 25px !important;\n",
       "}\n",
       "\n",
       ".xr-attrs,\n",
       ".xr-var-attrs,\n",
       ".xr-var-data {\n",
       "  grid-column: 1 / -1;\n",
       "}\n",
       "\n",
       "dl.xr-attrs {\n",
       "  padding: 0;\n",
       "  margin: 0;\n",
       "  display: grid;\n",
       "  grid-template-columns: 125px auto;\n",
       "}\n",
       "\n",
       ".xr-attrs dt,\n",
       ".xr-attrs dd {\n",
       "  padding: 0;\n",
       "  margin: 0;\n",
       "  float: left;\n",
       "  padding-right: 10px;\n",
       "  width: auto;\n",
       "}\n",
       "\n",
       ".xr-attrs dt {\n",
       "  font-weight: normal;\n",
       "  grid-column: 1;\n",
       "}\n",
       "\n",
       ".xr-attrs dt:hover span {\n",
       "  display: inline-block;\n",
       "  background: var(--xr-background-color);\n",
       "  padding-right: 10px;\n",
       "}\n",
       "\n",
       ".xr-attrs dd {\n",
       "  grid-column: 2;\n",
       "  white-space: pre-wrap;\n",
       "  word-break: break-all;\n",
       "}\n",
       "\n",
       ".xr-icon-database,\n",
       ".xr-icon-file-text2 {\n",
       "  display: inline-block;\n",
       "  vertical-align: middle;\n",
       "  width: 1em;\n",
       "  height: 1.5em !important;\n",
       "  stroke-width: 0;\n",
       "  stroke: currentColor;\n",
       "  fill: currentColor;\n",
       "}\n",
       "</style><pre class='xr-text-repr-fallback'>&lt;xarray.DataArray &#x27;fogdata&#x27; (time: 2480)&gt;\n",
       "array([4., 3., 3., ..., 1., 1., 4.])\n",
       "Coordinates:\n",
       "  * time     (time) datetime64[ns] 1979-12-01 1979-12-02 ... 2019-01-31</pre><div class='xr-wrap' hidden><div class='xr-header'><div class='xr-obj-type'>xarray.DataArray</div><div class='xr-array-name'>'fogdata'</div><ul class='xr-dim-list'><li><span class='xr-has-index'>time</span>: 2480</li></ul></div><ul class='xr-sections'><li class='xr-section-item'><div class='xr-array-wrap'><input id='section-2d89055e-4d01-4c8c-af3f-99216c4b0546' class='xr-array-in' type='checkbox' checked><label for='section-2d89055e-4d01-4c8c-af3f-99216c4b0546' title='Show/hide data repr'><svg class='icon xr-icon-database'><use xlink:href='#icon-database'></use></svg></label><div class='xr-array-preview xr-preview'><span>4.0 3.0 3.0 1.0 5.0 6.0 4.0 0.0 ... 7.0 7.0 6.0 6.0 4.0 1.0 1.0 4.0</span></div><div class='xr-array-data'><pre>array([4., 3., 3., ..., 1., 1., 4.])</pre></div></div></li><li class='xr-section-item'><input id='section-a7177e45-93ea-404f-9de2-243b88047f1c' class='xr-section-summary-in' type='checkbox'  checked><label for='section-a7177e45-93ea-404f-9de2-243b88047f1c' class='xr-section-summary' >Coordinates: <span>(1)</span></label><div class='xr-section-inline-details'></div><div class='xr-section-details'><ul class='xr-var-list'><li class='xr-var-item'><div class='xr-var-name'><span class='xr-has-index'>time</span></div><div class='xr-var-dims'>(time)</div><div class='xr-var-dtype'>datetime64[ns]</div><div class='xr-var-preview xr-preview'>1979-12-01 ... 2019-01-31</div><input id='attrs-b0cd773f-c316-48d4-8fd2-a4e03a04f659' class='xr-var-attrs-in' type='checkbox' disabled><label for='attrs-b0cd773f-c316-48d4-8fd2-a4e03a04f659' title='Show/Hide attributes'><svg class='icon xr-icon-file-text2'><use xlink:href='#icon-file-text2'></use></svg></label><input id='data-4ca6cf7d-a63f-4505-93fd-a454b5b9764c' class='xr-var-data-in' type='checkbox'><label for='data-4ca6cf7d-a63f-4505-93fd-a454b5b9764c' title='Show/Hide data repr'><svg class='icon xr-icon-database'><use xlink:href='#icon-database'></use></svg></label><div class='xr-var-attrs'><dl class='xr-attrs'></dl></div><div class='xr-var-data'><pre>array([&#x27;1979-12-01T00:00:00.000000000&#x27;, &#x27;1979-12-02T00:00:00.000000000&#x27;,\n",
       "       &#x27;1979-12-03T00:00:00.000000000&#x27;, ..., &#x27;2019-01-29T00:00:00.000000000&#x27;,\n",
       "       &#x27;2019-01-30T00:00:00.000000000&#x27;, &#x27;2019-01-31T00:00:00.000000000&#x27;],\n",
       "      dtype=&#x27;datetime64[ns]&#x27;)</pre></div></li></ul></div></li><li class='xr-section-item'><input id='section-687ff5a2-cde5-4a6a-aa96-3f99467345a4' class='xr-section-summary-in' type='checkbox' disabled ><label for='section-687ff5a2-cde5-4a6a-aa96-3f99467345a4' class='xr-section-summary'  title='Expand/collapse section'>Attributes: <span>(0)</span></label><div class='xr-section-inline-details'></div><div class='xr-section-details'><dl class='xr-attrs'></dl></div></li></ul></div></div>"
      ],
      "text/plain": [
       "<xarray.DataArray 'fogdata' (time: 2480)>\n",
       "array([4., 3., 3., ..., 1., 1., 4.])\n",
       "Coordinates:\n",
       "  * time     (time) datetime64[ns] 1979-12-01 1979-12-02 ... 2019-01-31"
      ]
     },
     "execution_count": 85,
     "metadata": {},
     "output_type": "execute_result"
    }
   ],
   "source": [
    "y=fg.fogdata.sum(dim='stations').sel(time=slice('1979-12-1','2019-1-31'))\n",
    "y"
   ]
  },
  {
   "cell_type": "markdown",
   "metadata": {},
   "source": [
    "# Gradient Boosting "
   ]
  },
  {
   "cell_type": "code",
   "execution_count": 86,
   "metadata": {},
   "outputs": [
    {
     "name": "stdout",
     "output_type": "stream",
     "text": [
      "17\n",
      "72\n",
      "97\n",
      "8\n",
      "32\n",
      "15\n",
      "63\n",
      "97\n",
      "57\n",
      "60\n",
      "[0.7430811475799074, 0.7515106157570776, 0.7609636373057773, 0.7438776756704399, 0.7505975317188774, 0.7558411508630987, 0.7470102256223634, 0.7609636373057773, 0.7484785823942453, 0.7618899524599296]\n",
      "[0.6124565454699138, 0.6145707889738126, 0.5766852186979641, 0.6272564143819075, 0.6216413382328851, 0.6318235667142587, 0.6123377639914194, 0.5766852186979641, 0.6472148086557634, 0.5322582508864233]\n",
      "0.7524214156677493\n",
      "0.6052929914702312\n"
     ]
    }
   ],
   "source": [
    "\n",
    "f_imp=np.zeros((12,10))\n",
    "train_score=[]\n",
    "test_score=[]\n",
    "seed(1)\n",
    "ranD_State=[randint(0,100),randint(0,100),randint(0,100),randint(0,100),randint(0,100),randint(0,100),randint(0,100),randint(0,100),randint(0,100),randint(0,100)]\n",
    "for i in range(10):\n",
    "        print(ranD_State[i])\n",
    "        X_train, X_test, y_train, y_test = train_test_split( X, y, test_size=0.20, random_state=ranD_State[i])\n",
    "        reg= GradientBoostingRegressor(n_estimators=300, min_samples_leaf=20, max_depth= 3,learning_rate=0.04,random_state=0).fit(X_train, y_train)\n",
    "        train_score.append(reg.score(X_train, y_train))\n",
    "        test_score.append(reg.score(X_test, y_test))\n",
    "        f_imp[:,i]=reg.feature_importances_\n",
    "        #print(type(reg.feature_importances_))\n",
    "        #print(reg.feature_importances_)\n",
    "print(train_score)\n",
    "print(test_score)\n",
    "print(statistics.mean(train_score))\n",
    "print(statistics.mean(test_score))\n",
    "\n"
   ]
  },
  {
   "cell_type": "code",
   "execution_count": 87,
   "metadata": {},
   "outputs": [
    {
     "name": "stderr",
     "output_type": "stream",
     "text": [
      "<ipython-input-87-2016177c7576>:6: MatplotlibDeprecationWarning: normalize=None does not normalize if the sum is less than 1 but this behavior is deprecated since 3.3 until two minor releases later. After the deprecation period the default value will be normalize=True. To prevent normalization pass normalize=False \n",
      "  plt.pie(sizes, labels=labels,colors=colors, autopct='%1.1f%%', pctdistance=0.8, labeldistance=1.0)\n"
     ]
    },
    {
     "name": "stdout",
     "output_type": "stream",
     "text": [
      "[[1.         0.85044352]\n",
      " [0.85044352 1.        ]]\n",
      "[[1.         0.87605103]\n",
      " [0.87605103 1.        ]]\n",
      "[[1.         0.73313484]\n",
      " [0.73313484 1.        ]]\n"
     ]
    },
    {
     "data": {
      "image/png": "[encoded data removed]",
      "text/plain": [
       "<Figure size 432x288 with 1 Axes>"
      ]
     },
     "metadata": {},
     "output_type": "display_data"
    }
   ],
   "source": [
    "\n",
    "labels = [\"t2m\",\"wind10\",\"rh2m\",\"inv850\",\"w700\",\"uShear850\",\"t2mh\",\"wind10h\",\"rh2mh\",\n",
    "          \"inv850h\",\"w700h\",\"uShear850h\"]\n",
    "sizes = np.mean(f_imp, axis=1)\n",
    "#print(sizes)\n",
    "colors = ['yellowgreen', 'gold', 'lightskyblue', 'lightcoral','green','blue','grey','red','brown','skyblue','yellow','pink']\n",
    "plt.pie(sizes, labels=labels,colors=colors, autopct='%1.1f%%', pctdistance=0.8, labeldistance=1.0)\n",
    "\n",
    "#patches, texts = plt.pie(sizes, colors=colors, shadow=True, startangle=90)\n",
    "#plt.legend(patches, labels, loc=\"best\")\n",
    "#plt.axis('equal')\n",
    "plt.tight_layout()\n",
    "#plt.show()\n",
    "plt.savefig('GradBoostAllDays.png')\n",
    "\n",
    "y_pred=reg.predict(X)\n",
    "y_pred_test=reg.predict(X_test)\n",
    "y_pred_train=reg.predict(X_train)\n",
    "\n",
    "print(np.corrcoef(y,y_pred))\n",
    "print(np.corrcoef(y_train,y_pred_train))\n",
    "print(np.corrcoef(y_test,y_pred_test))\n",
    "\n",
    "\n",
    "np.savetxt(\"y_predGradBoost.txt\",y_pred,fmt='%0.3f')\n"
   ]
  },
  {
   "cell_type": "code",
   "execution_count": null,
   "metadata": {},
   "outputs": [],
   "source": []
  }
 ],
 "metadata": {
  "kernelspec": {
   "display_name": "Python 3",
   "language": "python",
   "name": "python3"
  },
  "language_info": {
   "codemirror_mode": {
    "name": "ipython",
    "version": 3
   },
   "file_extension": ".py",
   "mimetype": "text/x-python",
   "name": "python",
   "nbconvert_exporter": "python",
   "pygments_lexer": "ipython3",
   "version": "3.8.5"
  }
 },
 "nbformat": 4,
 "nbformat_minor": 2
}
