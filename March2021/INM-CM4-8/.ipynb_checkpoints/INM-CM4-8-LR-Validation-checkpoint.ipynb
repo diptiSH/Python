{
 "cells": [
  {
   "cell_type": "code",
   "execution_count": 1,
   "metadata": {},
   "outputs": [],
   "source": [
    "import numpy as np\n",
    "import pandas as pd\n",
    "import xarray as xr\n",
    "from joblib import dump, load\n",
    "from sklearn.model_selection import train_test_split\n",
    "import math as mt\n",
    "from math import e\n",
    "from sklearn.preprocessing import StandardScaler"
   ]
  },
  {
   "cell_type": "code",
   "execution_count": 2,
   "metadata": {},
   "outputs": [],
   "source": [
    "# Read Orography\n",
    "OroData = xr.open_dataset('../../../Data/eraDown/ERA5_2degree_Down/DailyMean/ERA5IGP_Orography.nc')"
   ]
  },
  {
   "cell_type": "code",
   "execution_count": 3,
   "metadata": {},
   "outputs": [],
   "source": [
    "#Surface data\n",
    "t2mData = xr.open_dataset('../../../Data/CMIP6/INM-CM5-0/processed/Regrid_tas_day_INM-CM5-0_historical_r1i1p1f1_gr1_18500101-20141231.nc')\n",
    "rhData  = xr.open_dataset('../../../Data/CMIP6/INM-CM5-0/processed/Regrid_hurs_day_INM-CM5-0_historical_r1i1p1f1_gr1_18500101-20141231.nc')\n",
    "u10Data = xr.open_dataset('../../../Data/CMIP6/INM-CM5-0/processed/Regrid_uas_day_INM-CM5-0_historical_r1i1p1f1_gr1_18500101-20141231.nc')\n",
    "v10Data = xr.open_dataset('../../../Data/CMIP6/INM-CM5-0/processed/Regrid_vas_day_INM-CM5-0_historical_r1i1p1f1_gr1_18500101-20141231.nc')"
   ]
  },
  {
   "cell_type": "code",
   "execution_count": 4,
   "metadata": {},
   "outputs": [],
   "source": [
    "# Level Data\n",
    "tLevData = xr.open_dataset('../../../Data/CMIP6/INM-CM5-0/processed/Regrid_ta_day_INM-CM5-0_historical_r1i1p1f1_gr1_18500101-20141231.nc')\n",
    "zLevData = xr.open_dataset('../../../Data/CMIP6/INM-CM5-0/processed/Regrid_zg_day_INM-CM5-0_historical_r1i1p1f1_gr1_18500101-20141231.nc')\n",
    "wLevData = xr.open_dataset('../../../Data/CMIP6/INM-CM5-0/processed/Regrid_wap_day_INM-CM5-0_historical_r1i1p1f1_gr1_18500101-20141231.nc')\n",
    "uLevData = xr.open_dataset('../../../Data/CMIP6/INM-CM5-0/processed/Regrid_ua_day_INM-CM5-0_historical_r1i1p1f1_gr1_18500101-20141231.nc')"
   ]
  },
  {
   "cell_type": "code",
   "execution_count": 5,
   "metadata": {},
   "outputs": [],
   "source": [
    "t2mD = t2mData.sel(latitude=slice(32,24),longitude=slice(74,86))\n",
    "u10D = u10Data.sel(latitude=slice(32,24),longitude=slice(74,86))\n",
    "v10D = v10Data.sel(latitude=slice(32,24),longitude=slice(74,86))\n",
    "rhD  = rhData.sel(latitude=slice(32,24),longitude=slice(74,86))\n",
    "tLevD = tLevData.sel(latitude=slice(32,24),longitude=slice(74,86))\n",
    "uLevD = uLevData.sel(latitude=slice(32,24),longitude=slice(74,86))\n",
    "w700D = wLevData.sel(latitude=slice(32,24),longitude=slice(74,86)).sel(plev=70000,method='nearest')\n",
    "zLevD = zLevData.sel(latitude=slice(32,24),longitude=slice(74,86))\n",
    "OroD = OroData.sel(latitude=slice(32,24),longitude=slice(74,86))\n",
    "#w700D"
   ]
  },
  {
   "cell_type": "code",
   "execution_count": 6,
   "metadata": {},
   "outputs": [],
   "source": [
    "# Calculate wind speed and relative humidity inv  ushear\n",
    "ws = ((v10D.vas.values**2)+(u10D.uas.values**2))**0.5\n",
    "ws_ds = xr.Dataset({'ws': (('time','latitude','longitude'), ws)},\n",
    "                   coords={'time': v10D.time,'latitude': v10D.latitude,'longitude': v10D.longitude})\n",
    "\n",
    "rh_ds = xr.Dataset({'rh': (('time','latitude','longitude'), rhD.hurs)},\n",
    "                   coords={'time': v10D.time,'latitude': v10D.latitude,'longitude': v10D.longitude})\n",
    "\n",
    "#Calculate inv\n",
    "inv=t2mD.tas.values-tLevD.ta.sel(plev=85000,method='nearest').values\n",
    "inv_ds = xr.Dataset({'inv': (('time','latitude','longitude'), inv)}, \n",
    "                    coords={'time': v10D.time,'latitude': v10D.latitude,'longitude': v10D.longitude})\n",
    "inv_ds.attrs\n",
    "inv_ds.attrs['units']='K'\n",
    "inv_ds.attrs['long_name']='t2m - t850'\n",
    "\n",
    "#u shear calculation\n",
    "ushear=(uLevD.ua.sel(plev=85000,method='nearest').values-u10D.uas.values)/(zLevD.zg.sel(plev=85000,method='nearest').values) \n",
    "ushear_ds = xr.Dataset({'ushear': (('time','latitude','longitude'), ushear)}, \n",
    "                       coords={'time': v10D.time,'latitude': v10D.latitude,'longitude': v10D.longitude})\n",
    "ushear_ds.attrs['units']='s-1'\n",
    "ushear_ds.attrs['long_name']='(u10 - u850)/z850'"
   ]
  },
  {
   "cell_type": "code",
   "execution_count": 13,
   "metadata": {},
   "outputs": [
    {
     "name": "stderr",
     "output_type": "stream",
     "text": [
      "<ipython-input-13-4c9ea8655cc0>:4: RuntimeWarning: Converting a CFTimeIndex with dates from a non-standard calendar, 'noleap', to a pandas.DatetimeIndex, which uses dates from the standard calendar.  This may lead to subtle errors in operations that depend on the length of time between dates.\n",
      "  datetimeindex = AO.indexes['time'].to_datetimeindex()#\n"
     ]
    }
   ],
   "source": [
    "AOData = xr.open_dataset('INM-CM5-0-AOindex-NDJF-Daily-1980-2014.nc')\n",
    "\n",
    "AO=AOData.AO\n",
    "datetimeindex = AO.indexes['time'].to_datetimeindex()#\n",
    "datetimeindex\n",
    "AO['time'] = datetimeindex\n",
    "AO.values\n",
    "\n",
    "AO5D=AO.rolling(time=5).mean()\n",
    "\n",
    "AO5DAll=AO5D[((AO5D.time.dt.month>11) | (AO5D.time.dt.month<2)) & \n",
    "             (AO5D.time.dt.year<2020)].sel(time=slice('1980-1-1','2018-12-31'))\n",
    "#ao"
   ]
  },
  {
   "cell_type": "code",
   "execution_count": 14,
   "metadata": {},
   "outputs": [
    {
     "name": "stderr",
     "output_type": "stream",
     "text": [
      "<ipython-input-14-6930c8131591>:3: RuntimeWarning: Converting a CFTimeIndex with dates from a non-standard calendar, 'noleap', to a pandas.DatetimeIndex, which uses dates from the standard calendar.  This may lead to subtle errors in operations that depend on the length of time between dates.\n",
      "  datetimeindex = EU.indexes['time'].to_datetimeindex()\n"
     ]
    }
   ],
   "source": [
    "EUData = xr.open_dataset('INM-CM5-0-EUindex-NDJF-Daily-1980-2014.nc')\n",
    "EU=EUData.EU\n",
    "datetimeindex = EU.indexes['time'].to_datetimeindex()\n",
    "datetimeindex\n",
    "EU['time'] = datetimeindex\n",
    "EU.values\n",
    "EU5D=EU.rolling(time=5).mean()\n",
    "\n",
    "EU5DAll=EU5D[((EU5D.time.dt.month>11) | (EU5D.time.dt.month<2)) & \n",
    "             (EU5D.time.dt.year<2020)].sel(time=slice('1980-1-1','2018-12-31'))\n"
   ]
  },
  {
   "cell_type": "code",
   "execution_count": 15,
   "metadata": {},
   "outputs": [],
   "source": [
    "# create mask\n",
    "oro = OroD.z\n",
    "oro.values = OroD.z.values/9.81\n",
    "oro.attrs\n",
    "oro.attrs['units']='meter'\n",
    "oro.attrs['long_name']='Orography'\n",
    "oro.values[oro.values>500.1]=np.NaN\n",
    "mask=oro.values/oro.values"
   ]
  },
  {
   "cell_type": "code",
   "execution_count": 16,
   "metadata": {},
   "outputs": [],
   "source": [
    "# Apply Mask \n",
    "t2mD.tas.values=t2mD.tas.values*mask\n",
    "ws_ds.ws.values=ws_ds.ws.values*mask\n",
    "rh_ds.rh.values=rh_ds.rh.values*mask\n",
    "w700D.wap.values=w700D.wap.values*mask\n",
    "inv_ds.inv.values=inv_ds.inv.values*mask\n",
    "ushear_ds.ushear.values=ushear_ds.ushear.values*mask"
   ]
  },
  {
   "cell_type": "code",
   "execution_count": 17,
   "metadata": {},
   "outputs": [],
   "source": [
    "# Feild mean\n",
    "t2mTS1=t2mD.mean(dim=['latitude','longitude'], skipna=True).tas\n",
    "wsTS1=ws_ds.mean(dim=['latitude','longitude'], skipna=True).ws\n",
    "rhTS1=rh_ds.mean(dim=['latitude','longitude'], skipna=True).rh\n",
    "wTS1=w700D.mean(dim=['latitude','longitude'], skipna=True).wap\n",
    "invTS1=inv_ds.mean(dim=['latitude','longitude'], skipna=True).inv\n",
    "ushearTS1=ushear_ds.mean(dim=['latitude','longitude'], skipna=True).ushear"
   ]
  },
  {
   "cell_type": "code",
   "execution_count": 18,
   "metadata": {},
   "outputs": [
    {
     "name": "stderr",
     "output_type": "stream",
     "text": [
      "<ipython-input-18-cc712bdc98ec>:1: RuntimeWarning: Converting a CFTimeIndex with dates from a non-standard calendar, 'noleap', to a pandas.DatetimeIndex, which uses dates from the standard calendar.  This may lead to subtle errors in operations that depend on the length of time between dates.\n",
      "  datetimeindex = t2mTS1.indexes['time'].to_datetimeindex()\n"
     ]
    }
   ],
   "source": [
    "datetimeindex = t2mTS1.indexes['time'].to_datetimeindex()\n",
    "t2mTS1['time'] = datetimeindex\n",
    "wsTS1['time'] = datetimeindex\n",
    "rhTS1['time'] = datetimeindex\n",
    "wTS1['time'] = datetimeindex\n",
    "invTS1['time'] = datetimeindex\n",
    "ushearTS1['time'] = datetimeindex"
   ]
  },
  {
   "cell_type": "code",
   "execution_count": 19,
   "metadata": {},
   "outputs": [],
   "source": [
    "# shift one day so we can take values of previous day\n",
    "t2mTS=t2mTS1.shift(time=1)\n",
    "wsTS=wsTS1.shift(time=1)\n",
    "rhTS=rhTS1.shift(time=1)\n",
    "wTS=wTS1.shift(time=1)\n",
    "invTS=invTS1.shift(time=1)\n",
    "ushearTS=ushearTS1.shift(time=1)"
   ]
  },
  {
   "cell_type": "code",
   "execution_count": 20,
   "metadata": {},
   "outputs": [],
   "source": [
    "# Select required time \n",
    "t2m=t2mTS[((t2mTS.time.dt.month>11) | (t2mTS.time.dt.month<2)) & (t2mTS.time.dt.year<2020)].sel(time=slice('1980-1-1','2014-12-31'))\n",
    "ws=wsTS[((wsTS.time.dt.month>11) | (wsTS.time.dt.month<2)) & (wsTS.time.dt.year<2020)].sel(time=slice('1980-1-1','2014-12-31'))\n",
    "inv=invTS[((wsTS.time.dt.month>11) | (wsTS.time.dt.month<2)) & (wsTS.time.dt.year<2020)].sel(time=slice('1980-1-1','2014-12-31'))\n",
    "rh=rhTS[((wsTS.time.dt.month>11) | (wsTS.time.dt.month<2)) & (wsTS.time.dt.year<2020)].sel(time=slice('1980-1-1','2014-12-31'))\n",
    "w=wTS[((wsTS.time.dt.month>11) | (wsTS.time.dt.month<2)) & (wsTS.time.dt.year<2020)].sel(time=slice('1980-1-1','2014-12-31'))\n",
    "ushear=ushearTS[((wsTS.time.dt.month>11) | (wsTS.time.dt.month<2)) & (wsTS.time.dt.year<2020)].sel(time=slice('1980-1-1','2014-12-31'))"
   ]
  },
  {
   "cell_type": "code",
   "execution_count": 23,
   "metadata": {},
   "outputs": [
    {
     "data": {
      "text/html": [
       "<div>\n",
       "<style scoped>\n",
       "    .dataframe tbody tr th:only-of-type {\n",
       "        vertical-align: middle;\n",
       "    }\n",
       "\n",
       "    .dataframe tbody tr th {\n",
       "        vertical-align: top;\n",
       "    }\n",
       "\n",
       "    .dataframe thead th {\n",
       "        text-align: right;\n",
       "    }\n",
       "</style>\n",
       "<table border=\"1\" class=\"dataframe\">\n",
       "  <thead>\n",
       "    <tr style=\"text-align: right;\">\n",
       "      <th></th>\n",
       "      <th>t2m</th>\n",
       "      <th>ws</th>\n",
       "      <th>rh</th>\n",
       "      <th>inv</th>\n",
       "      <th>w</th>\n",
       "      <th>ushear</th>\n",
       "      <th>AO5D</th>\n",
       "      <th>EU5D</th>\n",
       "    </tr>\n",
       "  </thead>\n",
       "  <tbody>\n",
       "    <tr>\n",
       "      <th>count</th>\n",
       "      <td>2170.000000</td>\n",
       "      <td>2170.000000</td>\n",
       "      <td>2170.000000</td>\n",
       "      <td>2170.000000</td>\n",
       "      <td>2170.000000</td>\n",
       "      <td>2170.000000</td>\n",
       "      <td>2170.000000</td>\n",
       "      <td>2170.000000</td>\n",
       "    </tr>\n",
       "    <tr>\n",
       "      <th>mean</th>\n",
       "      <td>285.849825</td>\n",
       "      <td>2.246482</td>\n",
       "      <td>0.364187</td>\n",
       "      <td>1.769764</td>\n",
       "      <td>0.028667</td>\n",
       "      <td>0.121277</td>\n",
       "      <td>0.168582</td>\n",
       "      <td>-0.023801</td>\n",
       "    </tr>\n",
       "    <tr>\n",
       "      <th>std</th>\n",
       "      <td>2.119967</td>\n",
       "      <td>0.635551</td>\n",
       "      <td>0.134642</td>\n",
       "      <td>1.634049</td>\n",
       "      <td>0.094285</td>\n",
       "      <td>0.072481</td>\n",
       "      <td>0.925736</td>\n",
       "      <td>0.578353</td>\n",
       "    </tr>\n",
       "    <tr>\n",
       "      <th>min</th>\n",
       "      <td>278.696472</td>\n",
       "      <td>0.751256</td>\n",
       "      <td>0.139907</td>\n",
       "      <td>-3.310215</td>\n",
       "      <td>-0.375883</td>\n",
       "      <td>-0.107483</td>\n",
       "      <td>-3.643390</td>\n",
       "      <td>-1.620357</td>\n",
       "    </tr>\n",
       "    <tr>\n",
       "      <th>25%</th>\n",
       "      <td>284.448563</td>\n",
       "      <td>1.796790</td>\n",
       "      <td>0.261750</td>\n",
       "      <td>0.647003</td>\n",
       "      <td>-0.025086</td>\n",
       "      <td>0.075088</td>\n",
       "      <td>-0.447098</td>\n",
       "      <td>-0.413075</td>\n",
       "    </tr>\n",
       "    <tr>\n",
       "      <th>50%</th>\n",
       "      <td>285.880203</td>\n",
       "      <td>2.207645</td>\n",
       "      <td>0.336834</td>\n",
       "      <td>1.728654</td>\n",
       "      <td>0.037578</td>\n",
       "      <td>0.121211</td>\n",
       "      <td>0.267970</td>\n",
       "      <td>-0.018750</td>\n",
       "    </tr>\n",
       "    <tr>\n",
       "      <th>75%</th>\n",
       "      <td>287.280312</td>\n",
       "      <td>2.654878</td>\n",
       "      <td>0.440998</td>\n",
       "      <td>2.937090</td>\n",
       "      <td>0.092048</td>\n",
       "      <td>0.169564</td>\n",
       "      <td>0.865329</td>\n",
       "      <td>0.350951</td>\n",
       "    </tr>\n",
       "    <tr>\n",
       "      <th>max</th>\n",
       "      <td>292.449799</td>\n",
       "      <td>4.417838</td>\n",
       "      <td>0.868578</td>\n",
       "      <td>6.293035</td>\n",
       "      <td>0.334292</td>\n",
       "      <td>0.361855</td>\n",
       "      <td>2.252249</td>\n",
       "      <td>1.637731</td>\n",
       "    </tr>\n",
       "  </tbody>\n",
       "</table>\n",
       "</div>"
      ],
      "text/plain": [
       "               t2m           ws           rh          inv            w  \\\n",
       "count  2170.000000  2170.000000  2170.000000  2170.000000  2170.000000   \n",
       "mean    285.849825     2.246482     0.364187     1.769764     0.028667   \n",
       "std       2.119967     0.635551     0.134642     1.634049     0.094285   \n",
       "min     278.696472     0.751256     0.139907    -3.310215    -0.375883   \n",
       "25%     284.448563     1.796790     0.261750     0.647003    -0.025086   \n",
       "50%     285.880203     2.207645     0.336834     1.728654     0.037578   \n",
       "75%     287.280312     2.654878     0.440998     2.937090     0.092048   \n",
       "max     292.449799     4.417838     0.868578     6.293035     0.334292   \n",
       "\n",
       "            ushear         AO5D         EU5D  \n",
       "count  2170.000000  2170.000000  2170.000000  \n",
       "mean      0.121277     0.168582    -0.023801  \n",
       "std       0.072481     0.925736     0.578353  \n",
       "min      -0.107483    -3.643390    -1.620357  \n",
       "25%       0.075088    -0.447098    -0.413075  \n",
       "50%       0.121211     0.267970    -0.018750  \n",
       "75%       0.169564     0.865329     0.350951  \n",
       "max       0.361855     2.252249     1.637731  "
      ]
     },
     "execution_count": 23,
     "metadata": {},
     "output_type": "execute_result"
    }
   ],
   "source": [
    "X       = pd.DataFrame([t2m.values,ws.values,rh.values/100.0,inv.values,w.values,ushear.values*100.0,AO5DAll.values,\n",
    "                        EU5DAll.values],\n",
    "                       index=['t2m', 'ws', 'rh','inv', 'w', 'ushear', 'AO5D', 'EU5D']).T[:]\n",
    "X.index = pd.to_datetime(t2m.time.values)\n",
    "X.describe(include='all')"
   ]
  },
  {
   "cell_type": "code",
   "execution_count": 24,
   "metadata": {},
   "outputs": [
    {
     "data": {
      "text/html": [
       "<div>\n",
       "<style scoped>\n",
       "    .dataframe tbody tr th:only-of-type {\n",
       "        vertical-align: middle;\n",
       "    }\n",
       "\n",
       "    .dataframe tbody tr th {\n",
       "        vertical-align: top;\n",
       "    }\n",
       "\n",
       "    .dataframe thead th {\n",
       "        text-align: right;\n",
       "    }\n",
       "</style>\n",
       "<table border=\"1\" class=\"dataframe\">\n",
       "  <thead>\n",
       "    <tr style=\"text-align: right;\">\n",
       "      <th></th>\n",
       "      <th>0</th>\n",
       "      <th>1</th>\n",
       "      <th>2</th>\n",
       "      <th>3</th>\n",
       "      <th>4</th>\n",
       "      <th>5</th>\n",
       "      <th>6</th>\n",
       "      <th>7</th>\n",
       "    </tr>\n",
       "  </thead>\n",
       "  <tbody>\n",
       "    <tr>\n",
       "      <th>count</th>\n",
       "      <td>2170.000000</td>\n",
       "      <td>2170.000000</td>\n",
       "      <td>2170.000000</td>\n",
       "      <td>2170.000000</td>\n",
       "      <td>2170.000000</td>\n",
       "      <td>2170.000000</td>\n",
       "      <td>2170.000000</td>\n",
       "      <td>2170.000000</td>\n",
       "    </tr>\n",
       "    <tr>\n",
       "      <th>mean</th>\n",
       "      <td>-134.867976</td>\n",
       "      <td>-3.535516</td>\n",
       "      <td>-2.705487</td>\n",
       "      <td>-1.083304</td>\n",
       "      <td>-0.304114</td>\n",
       "      <td>-1.673621</td>\n",
       "      <td>-0.182148</td>\n",
       "      <td>0.041163</td>\n",
       "    </tr>\n",
       "    <tr>\n",
       "      <th>std</th>\n",
       "      <td>0.471923</td>\n",
       "      <td>1.574164</td>\n",
       "      <td>7.430543</td>\n",
       "      <td>0.612259</td>\n",
       "      <td>10.611061</td>\n",
       "      <td>13.803125</td>\n",
       "      <td>1.080720</td>\n",
       "      <td>1.729845</td>\n",
       "    </tr>\n",
       "    <tr>\n",
       "      <th>min</th>\n",
       "      <td>-136.460373</td>\n",
       "      <td>-7.238966</td>\n",
       "      <td>-15.082957</td>\n",
       "      <td>-2.986713</td>\n",
       "      <td>-45.833266</td>\n",
       "      <td>-45.238365</td>\n",
       "      <td>-4.632312</td>\n",
       "      <td>-4.734110</td>\n",
       "    </tr>\n",
       "    <tr>\n",
       "      <th>25%</th>\n",
       "      <td>-135.179909</td>\n",
       "      <td>-4.649335</td>\n",
       "      <td>-8.358751</td>\n",
       "      <td>-1.503990</td>\n",
       "      <td>-6.353624</td>\n",
       "      <td>-10.469838</td>\n",
       "      <td>-0.900903</td>\n",
       "      <td>-1.123147</td>\n",
       "    </tr>\n",
       "    <tr>\n",
       "      <th>50%</th>\n",
       "      <td>-134.861214</td>\n",
       "      <td>-3.631709</td>\n",
       "      <td>-4.215041</td>\n",
       "      <td>-1.098708</td>\n",
       "      <td>0.698740</td>\n",
       "      <td>-1.686166</td>\n",
       "      <td>-0.066121</td>\n",
       "      <td>0.056272</td>\n",
       "    </tr>\n",
       "    <tr>\n",
       "      <th>75%</th>\n",
       "      <td>-134.549537</td>\n",
       "      <td>-2.523981</td>\n",
       "      <td>1.533487</td>\n",
       "      <td>-0.645921</td>\n",
       "      <td>6.828944</td>\n",
       "      <td>7.521935</td>\n",
       "      <td>0.631247</td>\n",
       "      <td>1.162040</td>\n",
       "    </tr>\n",
       "    <tr>\n",
       "      <th>max</th>\n",
       "      <td>-133.398766</td>\n",
       "      <td>1.842606</td>\n",
       "      <td>25.130592</td>\n",
       "      <td>0.611512</td>\n",
       "      <td>34.091808</td>\n",
       "      <td>44.141524</td>\n",
       "      <td>2.250363</td>\n",
       "      <td>5.010779</td>\n",
       "    </tr>\n",
       "  </tbody>\n",
       "</table>\n",
       "</div>"
      ],
      "text/plain": [
       "                 0            1            2            3            4  \\\n",
       "count  2170.000000  2170.000000  2170.000000  2170.000000  2170.000000   \n",
       "mean   -134.867976    -3.535516    -2.705487    -1.083304    -0.304114   \n",
       "std       0.471923     1.574164     7.430543     0.612259    10.611061   \n",
       "min    -136.460373    -7.238966   -15.082957    -2.986713   -45.833266   \n",
       "25%    -135.179909    -4.649335    -8.358751    -1.503990    -6.353624   \n",
       "50%    -134.861214    -3.631709    -4.215041    -1.098708     0.698740   \n",
       "75%    -134.549537    -2.523981     1.533487    -0.645921     6.828944   \n",
       "max    -133.398766     1.842606    25.130592     0.611512    34.091808   \n",
       "\n",
       "                 5            6            7  \n",
       "count  2170.000000  2170.000000  2170.000000  \n",
       "mean     -1.673621    -0.182148     0.041163  \n",
       "std      13.803125     1.080720     1.729845  \n",
       "min     -45.238365    -4.632312    -4.734110  \n",
       "25%     -10.469838    -0.900903    -1.123147  \n",
       "50%      -1.686166    -0.066121     0.056272  \n",
       "75%       7.521935     0.631247     1.162040  \n",
       "max      44.141524     2.250363     5.010779  "
      ]
     },
     "execution_count": 24,
     "metadata": {},
     "output_type": "execute_result"
    }
   ],
   "source": [
    "norm = StandardScaler().fit(X)\n",
    "    # transform training data\n",
    "X = norm.transform(X)\n",
    "X\n",
    "X = pd.DataFrame(norm.transform(X))\n",
    "X.index = pd.to_datetime(t2m.time.values)\n",
    "X.describe(include='all')"
   ]
  },
  {
   "cell_type": "code",
   "execution_count": 28,
   "metadata": {},
   "outputs": [],
   "source": [
    "regLin=load('../../March2021/Observation_models/LRModel.joblib') "
   ]
  },
  {
   "cell_type": "code",
   "execution_count": 29,
   "metadata": {},
   "outputs": [],
   "source": [
    "yLR=regLin.predict(X)\n",
    "y_predLin_ds=xr.Dataset({'yLR': (('time'), yLR)}, coords={'time': t2m.time})"
   ]
  },
  {
   "cell_type": "code",
   "execution_count": 30,
   "metadata": {},
   "outputs": [
    {
     "data": {
      "text/plain": [
       "['../Model_plots/INM-CM5-0-LR-Y.joblib']"
      ]
     },
     "execution_count": 30,
     "metadata": {},
     "output_type": "execute_result"
    }
   ],
   "source": [
    "dump(y_predLin_ds.yLR,'../Model_plots/INM-CM5-0-LR-Y.joblib')"
   ]
  },
  {
   "cell_type": "code",
   "execution_count": null,
   "metadata": {},
   "outputs": [],
   "source": []
  }
 ],
 "metadata": {
  "kernelspec": {
   "display_name": "Python 3",
   "language": "python",
   "name": "python3"
  },
  "language_info": {
   "codemirror_mode": {
    "name": "ipython",
    "version": 3
   },
   "file_extension": ".py",
   "mimetype": "text/x-python",
   "name": "python",
   "nbconvert_exporter": "python",
   "pygments_lexer": "ipython3",
   "version": "3.8.5"
  }
 },
 "nbformat": 4,
 "nbformat_minor": 4
}
