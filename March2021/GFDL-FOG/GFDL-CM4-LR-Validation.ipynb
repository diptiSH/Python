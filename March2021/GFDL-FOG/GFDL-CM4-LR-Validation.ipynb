{
 "cells": [
  {
   "cell_type": "code",
   "execution_count": 1,
   "metadata": {},
   "outputs": [],
   "source": [
    "import numpy as np\n",
    "import pandas as pd\n",
    "import xarray as xr\n",
    "from joblib import dump, load\n",
    "from sklearn.model_selection import train_test_split\n",
    "import math as mt\n",
    "from math import e\n",
    "from sklearn.preprocessing import StandardScaler"
   ]
  },
  {
   "cell_type": "code",
   "execution_count": 2,
   "metadata": {},
   "outputs": [],
   "source": [
    "# Read Orography\n",
    "OroData = xr.open_dataset('../../../Data/eraDown/ERA5_2degree_Down/DailyMean/ERA5IGP_Orography.nc')"
   ]
  },
  {
   "cell_type": "code",
   "execution_count": 3,
   "metadata": {},
   "outputs": [],
   "source": [
    "#Surface data\n",
    "t2mData = xr.open_dataset('../../../Data/CMIP6/GFDL-ESM4/tasNHRegrid_NDJFday_GFDL-CM4_historical_r1i1p1f1_gr2_18500101-20141231.nc')\n",
    "rhData  = xr.open_dataset('../../../Data/CMIP6/GFDL-ESM4/hursNHRegrid_NDJFday_GFDL-CM4_historical_r1i1p1f1_gr2_18500101-20141231.nc')\n",
    "u10Data = xr.open_dataset('../../../Data/CMIP6/GFDL-ESM4/uasNHRegrid_NDJFday_GFDL-CM4_historical_r1i1p1f1_gr2_18500101-20141231.nc')\n",
    "v10Data = xr.open_dataset('../../../Data/CMIP6/GFDL-ESM4/vasNHRegrid_NDJFday_GFDL-CM4_historical_r1i1p1f1_gr2_18500101-20141231.nc')"
   ]
  },
  {
   "cell_type": "code",
   "execution_count": 4,
   "metadata": {},
   "outputs": [],
   "source": [
    "# Level Data\n",
    "tLevData = xr.open_dataset('../../../Data/CMIP6/GFDL-ESM4/taNHRegrid_NDJFday_GFDL-CM4_historical_r1i1p1f1_gr2_18500101-20141231.nc')\n",
    "zLevData = xr.open_dataset('../../../Data/CMIP6/GFDL-ESM4/zgNHRegrid_NDJFday_GFDL-CM4_historical_r1i1p1f1_gr2_18500101-20141231.nc')\n",
    "wLevData = xr.open_dataset('../../../Data/CMIP6/GFDL-ESM4/wapNHRegrid_NDJFday_GFDL-CM4_historical_r1i1p1f1_gr2_18500101-20141231.nc')\n",
    "uLevData = xr.open_dataset('../../../Data/CMIP6/GFDL-ESM4/uaNHRegrid_NDJFday_GFDL-CM4_historical_r1i1p1f1_gr2_18500101-20141231.nc')"
   ]
  },
  {
   "cell_type": "code",
   "execution_count": 5,
   "metadata": {},
   "outputs": [],
   "source": [
    "t2mD = t2mData.sel(latitude=slice(32,24),longitude=slice(74,86))\n",
    "u10D = u10Data.sel(latitude=slice(32,24),longitude=slice(74,86))\n",
    "v10D = v10Data.sel(latitude=slice(32,24),longitude=slice(74,86))\n",
    "rhD  = rhData.sel(latitude=slice(32,24),longitude=slice(74,86))\n",
    "tLevD = tLevData.sel(latitude=slice(32,24),longitude=slice(74,86))\n",
    "uLevD = uLevData.sel(latitude=slice(32,24),longitude=slice(74,86))\n",
    "w700D = wLevData.sel(latitude=slice(32,24),longitude=slice(74,86)).sel(plev=70000,method='nearest')\n",
    "zLevD = zLevData.sel(latitude=slice(32,24),longitude=slice(74,86))\n",
    "OroD = OroData.sel(latitude=slice(32,24),longitude=slice(74,86))\n",
    "#w700D"
   ]
  },
  {
   "cell_type": "code",
   "execution_count": 6,
   "metadata": {},
   "outputs": [],
   "source": [
    "# Calculate wind speed and relative humidity inv  ushear\n",
    "ws = ((v10D.vas.values**2)+(u10D.uas.values**2))**0.5\n",
    "ws_ds = xr.Dataset({'ws': (('time','latitude','longitude'), ws)},\n",
    "                   coords={'time': v10D.time,'latitude': v10D.latitude,'longitude': v10D.longitude})\n",
    "\n",
    "rh_ds = xr.Dataset({'rh': (('time','latitude','longitude'), rhD.hurs)},\n",
    "                   coords={'time': v10D.time,'latitude': v10D.latitude,'longitude': v10D.longitude})\n",
    "\n",
    "#Calculate inv\n",
    "inv=t2mD.tas.values-tLevD.ta.sel(plev=85000,method='nearest').values\n",
    "inv_ds = xr.Dataset({'inv': (('time','latitude','longitude'), inv)}, \n",
    "                    coords={'time': v10D.time,'latitude': v10D.latitude,'longitude': v10D.longitude})\n",
    "inv_ds.attrs\n",
    "inv_ds.attrs['units']='K'\n",
    "inv_ds.attrs['long_name']='t2m - t850'\n",
    "\n",
    "#u shear calculation\n",
    "ushear=(uLevD.ua.sel(plev=85000,method='nearest').values-u10D.uas.values)/(zLevD.zg.sel(plev=85000,method='nearest').values) \n",
    "ushear_ds = xr.Dataset({'ushear': (('time','latitude','longitude'), ushear)}, \n",
    "                       coords={'time': v10D.time,'latitude': v10D.latitude,'longitude': v10D.longitude})\n",
    "ushear_ds.attrs['units']='s-1'\n",
    "ushear_ds.attrs['long_name']='(u10 - u850)/z850'"
   ]
  },
  {
   "cell_type": "code",
   "execution_count": 7,
   "metadata": {},
   "outputs": [
    {
     "name": "stderr",
     "output_type": "stream",
     "text": [
      "<ipython-input-7-db568de8984f>:4: RuntimeWarning: Converting a CFTimeIndex with dates from a non-standard calendar, 'noleap', to a pandas.DatetimeIndex, which uses dates from the standard calendar.  This may lead to subtle errors in operations that depend on the length of time between dates.\n",
      "  datetimeindex = AO.indexes['time'].to_datetimeindex()\n"
     ]
    }
   ],
   "source": [
    "AOData = xr.open_dataset('GFDL-CM4-AOindex-NDJF-Daily-1980-2014.nc')\n",
    "\n",
    "AO=AOData.AO\n",
    "datetimeindex = AO.indexes['time'].to_datetimeindex()\n",
    "datetimeindex\n",
    "AO['time'] = datetimeindex\n",
    "AO.values\n",
    "\n",
    "AO5D=AO.rolling(time=5).mean()\n",
    "\n",
    "AO5DAll=AO5D[((AO5D.time.dt.month>11) | (AO5D.time.dt.month<2)) & \n",
    "             (AO5D.time.dt.year<2020)].sel(time=slice('1980-1-1','2018-12-31'))\n",
    "#ao"
   ]
  },
  {
   "cell_type": "code",
   "execution_count": 8,
   "metadata": {},
   "outputs": [
    {
     "name": "stderr",
     "output_type": "stream",
     "text": [
      "<ipython-input-8-268572d48fd1>:3: RuntimeWarning: Converting a CFTimeIndex with dates from a non-standard calendar, 'noleap', to a pandas.DatetimeIndex, which uses dates from the standard calendar.  This may lead to subtle errors in operations that depend on the length of time between dates.\n",
      "  datetimeindex = EU.indexes['time'].to_datetimeindex()\n"
     ]
    }
   ],
   "source": [
    "EUData = xr.open_dataset('GFDL-CM4-EUindex-NDJF-Daily-1980-2014.nc')\n",
    "EU=EUData.EU\n",
    "datetimeindex = EU.indexes['time'].to_datetimeindex()\n",
    "datetimeindex\n",
    "EU['time'] = datetimeindex\n",
    "EU.values\n",
    "EU5D=EU.rolling(time=5).mean()\n",
    "\n",
    "EU5DAll=EU5D[((EU5D.time.dt.month>11) | (EU5D.time.dt.month<2)) & \n",
    "             (EU5D.time.dt.year<2020)].sel(time=slice('1980-1-1','2018-12-31'))\n"
   ]
  },
  {
   "cell_type": "code",
   "execution_count": 9,
   "metadata": {},
   "outputs": [],
   "source": [
    "# create mask\n",
    "oro = OroD.z\n",
    "oro.values = OroD.z.values/9.81\n",
    "oro.attrs\n",
    "oro.attrs['units']='meter'\n",
    "oro.attrs['long_name']='Orography'\n",
    "oro.values[oro.values>500.1]=np.NaN\n",
    "mask=oro.values/oro.values"
   ]
  },
  {
   "cell_type": "code",
   "execution_count": 10,
   "metadata": {},
   "outputs": [],
   "source": [
    "# Apply Mask \n",
    "t2mD.tas.values=t2mD.tas.values*mask\n",
    "ws_ds.ws.values=ws_ds.ws.values*mask\n",
    "rh_ds.rh.values=rh_ds.rh.values*mask\n",
    "w700D.wap.values=w700D.wap.values*mask\n",
    "inv_ds.inv.values=inv_ds.inv.values*mask\n",
    "ushear_ds.ushear.values=ushear_ds.ushear.values*mask"
   ]
  },
  {
   "cell_type": "code",
   "execution_count": 11,
   "metadata": {},
   "outputs": [],
   "source": [
    "# Feild mean\n",
    "t2mTS1=t2mD.mean(dim=['latitude','longitude'], skipna=True).tas\n",
    "wsTS1=ws_ds.mean(dim=['latitude','longitude'], skipna=True).ws\n",
    "rhTS1=rh_ds.mean(dim=['latitude','longitude'], skipna=True).rh\n",
    "wTS1=w700D.mean(dim=['latitude','longitude'], skipna=True).wap\n",
    "invTS1=inv_ds.mean(dim=['latitude','longitude'], skipna=True).inv\n",
    "ushearTS1=ushear_ds.mean(dim=['latitude','longitude'], skipna=True).ushear"
   ]
  },
  {
   "cell_type": "code",
   "execution_count": 12,
   "metadata": {},
   "outputs": [
    {
     "name": "stderr",
     "output_type": "stream",
     "text": [
      "<ipython-input-12-cc712bdc98ec>:1: RuntimeWarning: Converting a CFTimeIndex with dates from a non-standard calendar, 'noleap', to a pandas.DatetimeIndex, which uses dates from the standard calendar.  This may lead to subtle errors in operations that depend on the length of time between dates.\n",
      "  datetimeindex = t2mTS1.indexes['time'].to_datetimeindex()\n"
     ]
    }
   ],
   "source": [
    "datetimeindex = t2mTS1.indexes['time'].to_datetimeindex()\n",
    "t2mTS1['time'] = datetimeindex\n",
    "wsTS1['time'] = datetimeindex\n",
    "rhTS1['time'] = datetimeindex\n",
    "wTS1['time'] = datetimeindex\n",
    "invTS1['time'] = datetimeindex\n",
    "ushearTS1['time'] = datetimeindex"
   ]
  },
  {
   "cell_type": "code",
   "execution_count": 13,
   "metadata": {},
   "outputs": [],
   "source": [
    "# shift one day so we can take values of previous day\n",
    "t2mTS=t2mTS1.shift(time=1)\n",
    "wsTS=wsTS1.shift(time=1)\n",
    "rhTS=rhTS1.shift(time=1)\n",
    "wTS=wTS1.shift(time=1)\n",
    "invTS=invTS1.shift(time=1)\n",
    "ushearTS=ushearTS1.shift(time=1)"
   ]
  },
  {
   "cell_type": "code",
   "execution_count": 14,
   "metadata": {},
   "outputs": [],
   "source": [
    "# Select required time \n",
    "t2m=t2mTS[((t2mTS.time.dt.month>11) | (t2mTS.time.dt.month<2)) & (t2mTS.time.dt.year<2020)].sel(time=slice('1980-1-1','2014-12-31'))\n",
    "ws=wsTS[((wsTS.time.dt.month>11) | (wsTS.time.dt.month<2)) & (wsTS.time.dt.year<2020)].sel(time=slice('1980-1-1','2014-12-31'))\n",
    "inv=invTS[((wsTS.time.dt.month>11) | (wsTS.time.dt.month<2)) & (wsTS.time.dt.year<2020)].sel(time=slice('1980-1-1','2014-12-31'))\n",
    "rh=rhTS[((wsTS.time.dt.month>11) | (wsTS.time.dt.month<2)) & (wsTS.time.dt.year<2020)].sel(time=slice('1980-1-1','2014-12-31'))\n",
    "w=wTS[((wsTS.time.dt.month>11) | (wsTS.time.dt.month<2)) & (wsTS.time.dt.year<2020)].sel(time=slice('1980-1-1','2014-12-31'))\n",
    "ushear=ushearTS[((wsTS.time.dt.month>11) | (wsTS.time.dt.month<2)) & (wsTS.time.dt.year<2020)].sel(time=slice('1980-1-1','2014-12-31'))"
   ]
  },
  {
   "cell_type": "code",
   "execution_count": 15,
   "metadata": {},
   "outputs": [
    {
     "data": {
      "text/html": [
       "<div>\n",
       "<style scoped>\n",
       "    .dataframe tbody tr th:only-of-type {\n",
       "        vertical-align: middle;\n",
       "    }\n",
       "\n",
       "    .dataframe tbody tr th {\n",
       "        vertical-align: top;\n",
       "    }\n",
       "\n",
       "    .dataframe thead th {\n",
       "        text-align: right;\n",
       "    }\n",
       "</style>\n",
       "<table border=\"1\" class=\"dataframe\">\n",
       "  <thead>\n",
       "    <tr style=\"text-align: right;\">\n",
       "      <th></th>\n",
       "      <th>t2m</th>\n",
       "      <th>ws</th>\n",
       "      <th>rh</th>\n",
       "      <th>inv</th>\n",
       "      <th>w</th>\n",
       "      <th>ushear</th>\n",
       "      <th>AO5D</th>\n",
       "      <th>EU5D</th>\n",
       "    </tr>\n",
       "  </thead>\n",
       "  <tbody>\n",
       "    <tr>\n",
       "      <th>count</th>\n",
       "      <td>2170.000000</td>\n",
       "      <td>2170.000000</td>\n",
       "      <td>2170.000000</td>\n",
       "      <td>2170.000000</td>\n",
       "      <td>2170.000000</td>\n",
       "      <td>2170.000000</td>\n",
       "      <td>2170.000000</td>\n",
       "      <td>2170.000000</td>\n",
       "    </tr>\n",
       "    <tr>\n",
       "      <th>mean</th>\n",
       "      <td>283.896439</td>\n",
       "      <td>1.629439</td>\n",
       "      <td>0.579713</td>\n",
       "      <td>2.271117</td>\n",
       "      <td>0.022779</td>\n",
       "      <td>0.136908</td>\n",
       "      <td>-0.036220</td>\n",
       "      <td>0.019196</td>\n",
       "    </tr>\n",
       "    <tr>\n",
       "      <th>std</th>\n",
       "      <td>2.225390</td>\n",
       "      <td>0.504814</td>\n",
       "      <td>0.137624</td>\n",
       "      <td>1.978540</td>\n",
       "      <td>0.100687</td>\n",
       "      <td>0.118351</td>\n",
       "      <td>0.917866</td>\n",
       "      <td>0.593310</td>\n",
       "    </tr>\n",
       "    <tr>\n",
       "      <th>min</th>\n",
       "      <td>276.511017</td>\n",
       "      <td>0.453322</td>\n",
       "      <td>0.184784</td>\n",
       "      <td>-3.945501</td>\n",
       "      <td>-0.432205</td>\n",
       "      <td>-0.346720</td>\n",
       "      <td>-2.670958</td>\n",
       "      <td>-1.726749</td>\n",
       "    </tr>\n",
       "    <tr>\n",
       "      <th>25%</th>\n",
       "      <td>282.297844</td>\n",
       "      <td>1.260378</td>\n",
       "      <td>0.480503</td>\n",
       "      <td>0.850053</td>\n",
       "      <td>-0.032971</td>\n",
       "      <td>0.053105</td>\n",
       "      <td>-0.746139</td>\n",
       "      <td>-0.390820</td>\n",
       "    </tr>\n",
       "    <tr>\n",
       "      <th>50%</th>\n",
       "      <td>283.811371</td>\n",
       "      <td>1.553374</td>\n",
       "      <td>0.583293</td>\n",
       "      <td>2.556624</td>\n",
       "      <td>0.034953</td>\n",
       "      <td>0.139830</td>\n",
       "      <td>-0.007431</td>\n",
       "      <td>0.040936</td>\n",
       "    </tr>\n",
       "    <tr>\n",
       "      <th>75%</th>\n",
       "      <td>285.349258</td>\n",
       "      <td>1.919869</td>\n",
       "      <td>0.678760</td>\n",
       "      <td>3.770207</td>\n",
       "      <td>0.092390</td>\n",
       "      <td>0.217083</td>\n",
       "      <td>0.635056</td>\n",
       "      <td>0.444027</td>\n",
       "    </tr>\n",
       "    <tr>\n",
       "      <th>max</th>\n",
       "      <td>291.222870</td>\n",
       "      <td>4.129824</td>\n",
       "      <td>0.919062</td>\n",
       "      <td>7.057856</td>\n",
       "      <td>0.320617</td>\n",
       "      <td>0.546873</td>\n",
       "      <td>2.494878</td>\n",
       "      <td>1.528951</td>\n",
       "    </tr>\n",
       "  </tbody>\n",
       "</table>\n",
       "</div>"
      ],
      "text/plain": [
       "               t2m           ws           rh          inv            w  \\\n",
       "count  2170.000000  2170.000000  2170.000000  2170.000000  2170.000000   \n",
       "mean    283.896439     1.629439     0.579713     2.271117     0.022779   \n",
       "std       2.225390     0.504814     0.137624     1.978540     0.100687   \n",
       "min     276.511017     0.453322     0.184784    -3.945501    -0.432205   \n",
       "25%     282.297844     1.260378     0.480503     0.850053    -0.032971   \n",
       "50%     283.811371     1.553374     0.583293     2.556624     0.034953   \n",
       "75%     285.349258     1.919869     0.678760     3.770207     0.092390   \n",
       "max     291.222870     4.129824     0.919062     7.057856     0.320617   \n",
       "\n",
       "            ushear         AO5D         EU5D  \n",
       "count  2170.000000  2170.000000  2170.000000  \n",
       "mean      0.136908    -0.036220     0.019196  \n",
       "std       0.118351     0.917866     0.593310  \n",
       "min      -0.346720    -2.670958    -1.726749  \n",
       "25%       0.053105    -0.746139    -0.390820  \n",
       "50%       0.139830    -0.007431     0.040936  \n",
       "75%       0.217083     0.635056     0.444027  \n",
       "max       0.546873     2.494878     1.528951  "
      ]
     },
     "execution_count": 15,
     "metadata": {},
     "output_type": "execute_result"
    }
   ],
   "source": [
    "X       = pd.DataFrame([t2m.values,ws.values,rh.values/100.0,inv.values,w.values,ushear.values*100.0,AO5DAll.values,\n",
    "                        EU5DAll.values],\n",
    "                       index=['t2m', 'ws', 'rh','inv', 'w', 'ushear', 'AO5D', 'EU5D']).T[:]\n",
    "X.index = pd.to_datetime(t2m.time.values)\n",
    "X.describe(include='all')"
   ]
  },
  {
   "cell_type": "code",
   "execution_count": 16,
   "metadata": {},
   "outputs": [
    {
     "data": {
      "text/html": [
       "<div>\n",
       "<style scoped>\n",
       "    .dataframe tbody tr th:only-of-type {\n",
       "        vertical-align: middle;\n",
       "    }\n",
       "\n",
       "    .dataframe tbody tr th {\n",
       "        vertical-align: top;\n",
       "    }\n",
       "\n",
       "    .dataframe thead th {\n",
       "        text-align: right;\n",
       "    }\n",
       "</style>\n",
       "<table border=\"1\" class=\"dataframe\">\n",
       "  <thead>\n",
       "    <tr style=\"text-align: right;\">\n",
       "      <th></th>\n",
       "      <th>0</th>\n",
       "      <th>1</th>\n",
       "      <th>2</th>\n",
       "      <th>3</th>\n",
       "      <th>4</th>\n",
       "      <th>5</th>\n",
       "      <th>6</th>\n",
       "      <th>7</th>\n",
       "    </tr>\n",
       "  </thead>\n",
       "  <tbody>\n",
       "    <tr>\n",
       "      <th>count</th>\n",
       "      <td>2170.000000</td>\n",
       "      <td>2170.000000</td>\n",
       "      <td>2170.000000</td>\n",
       "      <td>2170.000000</td>\n",
       "      <td>2170.000000</td>\n",
       "      <td>2170.000000</td>\n",
       "      <td>2170.000000</td>\n",
       "      <td>2170.000000</td>\n",
       "    </tr>\n",
       "    <tr>\n",
       "      <th>mean</th>\n",
       "      <td>-127.600945</td>\n",
       "      <td>-3.228542</td>\n",
       "      <td>-4.213255</td>\n",
       "      <td>-1.148140</td>\n",
       "      <td>-0.226287</td>\n",
       "      <td>-1.157058</td>\n",
       "      <td>0.039470</td>\n",
       "      <td>-0.032361</td>\n",
       "    </tr>\n",
       "    <tr>\n",
       "      <th>std</th>\n",
       "      <td>0.449567</td>\n",
       "      <td>1.981839</td>\n",
       "      <td>7.269499</td>\n",
       "      <td>0.505656</td>\n",
       "      <td>9.936366</td>\n",
       "      <td>8.453327</td>\n",
       "      <td>1.089986</td>\n",
       "      <td>1.686238</td>\n",
       "    </tr>\n",
       "    <tr>\n",
       "      <th>min</th>\n",
       "      <td>-129.092926</td>\n",
       "      <td>-7.845831</td>\n",
       "      <td>-25.073909</td>\n",
       "      <td>-2.736924</td>\n",
       "      <td>-45.126769</td>\n",
       "      <td>-35.700559</td>\n",
       "      <td>-3.089337</td>\n",
       "      <td>-4.994491</td>\n",
       "    </tr>\n",
       "    <tr>\n",
       "      <th>25%</th>\n",
       "      <td>-127.923889</td>\n",
       "      <td>-4.677430</td>\n",
       "      <td>-9.453660</td>\n",
       "      <td>-1.511322</td>\n",
       "      <td>-5.728033</td>\n",
       "      <td>-7.142715</td>\n",
       "      <td>-0.803574</td>\n",
       "      <td>-1.197663</td>\n",
       "    </tr>\n",
       "    <tr>\n",
       "      <th>50%</th>\n",
       "      <td>-127.618130</td>\n",
       "      <td>-3.527164</td>\n",
       "      <td>-4.024154</td>\n",
       "      <td>-1.075173</td>\n",
       "      <td>0.975124</td>\n",
       "      <td>-0.948354</td>\n",
       "      <td>0.073658</td>\n",
       "      <td>0.029427</td>\n",
       "    </tr>\n",
       "    <tr>\n",
       "      <th>75%</th>\n",
       "      <td>-127.307451</td>\n",
       "      <td>-2.088352</td>\n",
       "      <td>1.018510</td>\n",
       "      <td>-0.765017</td>\n",
       "      <td>6.643311</td>\n",
       "      <td>4.569513</td>\n",
       "      <td>0.836624</td>\n",
       "      <td>1.175047</td>\n",
       "    </tr>\n",
       "    <tr>\n",
       "      <th>max</th>\n",
       "      <td>-126.120882</td>\n",
       "      <td>6.587659</td>\n",
       "      <td>13.711545</td>\n",
       "      <td>0.075209</td>\n",
       "      <td>29.166137</td>\n",
       "      <td>28.125048</td>\n",
       "      <td>3.045202</td>\n",
       "      <td>4.258498</td>\n",
       "    </tr>\n",
       "  </tbody>\n",
       "</table>\n",
       "</div>"
      ],
      "text/plain": [
       "                 0            1            2            3            4  \\\n",
       "count  2170.000000  2170.000000  2170.000000  2170.000000  2170.000000   \n",
       "mean   -127.600945    -3.228542    -4.213255    -1.148140    -0.226287   \n",
       "std       0.449567     1.981839     7.269499     0.505656     9.936366   \n",
       "min    -129.092926    -7.845831   -25.073909    -2.736924   -45.126769   \n",
       "25%    -127.923889    -4.677430    -9.453660    -1.511322    -5.728033   \n",
       "50%    -127.618130    -3.527164    -4.024154    -1.075173     0.975124   \n",
       "75%    -127.307451    -2.088352     1.018510    -0.765017     6.643311   \n",
       "max    -126.120882     6.587659    13.711545     0.075209    29.166137   \n",
       "\n",
       "                 5            6            7  \n",
       "count  2170.000000  2170.000000  2170.000000  \n",
       "mean     -1.157058     0.039470    -0.032361  \n",
       "std       8.453327     1.089986     1.686238  \n",
       "min     -35.700559    -3.089337    -4.994491  \n",
       "25%      -7.142715    -0.803574    -1.197663  \n",
       "50%      -0.948354     0.073658     0.029427  \n",
       "75%       4.569513     0.836624     1.175047  \n",
       "max      28.125048     3.045202     4.258498  "
      ]
     },
     "execution_count": 16,
     "metadata": {},
     "output_type": "execute_result"
    }
   ],
   "source": [
    "norm = StandardScaler().fit(X)\n",
    "    # transform training data\n",
    "X = norm.transform(X)\n",
    "X\n",
    "X = pd.DataFrame(norm.transform(X))\n",
    "X.index = pd.to_datetime(t2m.time.values)\n",
    "X\n",
    "X.describe(include='all')"
   ]
  },
  {
   "cell_type": "code",
   "execution_count": 17,
   "metadata": {},
   "outputs": [],
   "source": [
    "regLin=load('../../March2021/Observation_models/LRModel.joblib') "
   ]
  },
  {
   "cell_type": "code",
   "execution_count": 18,
   "metadata": {},
   "outputs": [],
   "source": [
    "yLR=regLin.predict(X)\n",
    "y_predLin_ds=xr.Dataset({'yLR': (('time'), yLR)}, coords={'time': t2m.time})"
   ]
  },
  {
   "cell_type": "code",
   "execution_count": 19,
   "metadata": {},
   "outputs": [
    {
     "data": {
      "text/plain": [
       "['../Model_plots/GFDL-CM4-LR-Y.joblib']"
      ]
     },
     "execution_count": 19,
     "metadata": {},
     "output_type": "execute_result"
    }
   ],
   "source": [
    "dump(y_predLin_ds.yLR,'../Model_plots/GFDL-CM4-LR-Y.joblib')"
   ]
  },
  {
   "cell_type": "code",
   "execution_count": null,
   "metadata": {},
   "outputs": [],
   "source": []
  }
 ],
 "metadata": {
  "kernelspec": {
   "display_name": "Python 3",
   "language": "python",
   "name": "python3"
  },
  "language_info": {
   "codemirror_mode": {
    "name": "ipython",
    "version": 3
   },
   "file_extension": ".py",
   "mimetype": "text/x-python",
   "name": "python",
   "nbconvert_exporter": "python",
   "pygments_lexer": "ipython3",
   "version": "3.8.5"
  }
 },
 "nbformat": 4,
 "nbformat_minor": 4
}
