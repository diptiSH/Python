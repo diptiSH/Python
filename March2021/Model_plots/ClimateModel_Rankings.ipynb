{
 "cells": [
  {
   "cell_type": "code",
   "execution_count": 2,
   "metadata": {},
   "outputs": [],
   "source": [
    "import xarray as xr\n",
    "import numpy as np\n",
    "import pandas as pd\n",
    "import datetime\n",
    "import matplotlib.pyplot as plt\n",
    "from joblib import dump, load\n",
    "import statistics as st"
   ]
  },
  {
   "cell_type": "code",
   "execution_count": 3,
   "metadata": {},
   "outputs": [],
   "source": [
    "y   = load('../../March2021/Observation_models/ObsY.joblib') \n",
    "CNN = load('../../March2021/Observation_models/CNNY.joblib') \n",
    "LR  = load('../../March2021/Observation_models/LRY.joblib')\n",
    "SVR  = load('../../March2021/Observation_models/SVRY.joblib')\n",
    "\n",
    "ACCESS_CM2_CNN = load('ACCESS-CM2-CNN-Y1.joblib')\n",
    "ACCESS_CM2_LR = load('ACCESS-CM2-LR-Y.joblib')\n",
    "ACCESS_CM2_SVR = load('ACCESS-CM2-SVR-Y.joblib')\n",
    "\n",
    "CanESM5_CNN = load('CanESM5-CNN-Y.joblib')\n",
    "CanESM5_LR = load('CanESM5-LR-Y.joblib')\n",
    "CanESM5_SVR = load('CanESM5-SVR-Y.joblib')\n",
    "\n",
    "IITMESM_CNN = load('IITM-ESM-CNN-Y1.joblib')\n",
    "IITMESM_LR = load('IITM-ESM-LR-Y.joblib')\n",
    "IITMESM_SVR = load('IITM-ESM-SVR-Y.joblib')\n",
    "\n",
    "INM_CM4_8_CNN = load('INM-CM4-8-CNN-Y.joblib')\n",
    "INM_CM4_8_LR = load('INM-CM4-8-LR-Y.joblib')\n",
    "INM_CM4_8_SVR = load('INM-CM4-8-SVR-Y.joblib')\n",
    "\n",
    "INM_CM5_0_CNN = load('INM-CM5-0-CNN-Y.joblib')\n",
    "INM_CM5_0_LR = load('INM-CM5-0-LR-Y.joblib')\n",
    "INM_CM5_0_SVR = load('INM-CM5-0-SVR-Y.joblib')\n",
    "\n",
    "IPSL_CM6A_LR_CNN = load('IPSL-CM6A-LR-CNN-Y1.joblib')\n",
    "IPSL_CM6A_LR_LR = load('IPSL-CM6A-LR-LR-Y.joblib')\n",
    "IPSL_CM6A_LR_SVR = load('IPSL-CM6A-LR-SVR-Y.joblib')\n",
    "\n",
    "MIROC6_CNN = load('MIROC6-CNN-Y.joblib')\n",
    "MIROC6_LR = load('MIROC6-LR-Y.joblib')\n",
    "MIROC6_SVR = load('MIROC6-SVR-Y.joblib')\n",
    "\n",
    "MRI_ESM2_0_CNN = load('MRI-ESM2-0-CNN-Y.joblib')\n",
    "MRI_ESM2_0_LR = load('MRI-ESM2-0-LR-Y.joblib')\n",
    "MRI_ESM2_0_SVR = load('MRI-ESM2-0-SVR-Y.joblib')\n",
    "\n",
    "MPI_ESM1_2_LR_CNN = load('MPI-ESM1-2-LR-CNN-Y1.joblib')\n",
    "MPI_ESM1_2_LR_LR = load('MPI-ESM1-2-LR-LR-Y.joblib')\n",
    "MPI_ESM1_2_LR_SVR = load('MPI-ESM1-2-LR-SVR-Y.joblib')\n",
    "\n",
    "MPI_ESM1_2_HR_CNN = load('MPI-ESM1-2-HR-CNN-Y.joblib')\n",
    "MPI_ESM1_2_HR_LR = load('MPI-ESM1-2-HR-LR-Y.joblib')\n",
    "MPI_ESM1_2_HR_SVR = load('MPI-ESM1-2-HR-SVR-Y.joblib')\n",
    "\n",
    "EC_Earth3_CNN = load('EC-Earth3-CNN-Y1.joblib')\n",
    "EC_Earth3_LR = load('EC-Earth3-LR-Y.joblib')\n",
    "EC_Earth3_SVR = load('EC-Earth3-SVR-Y.joblib')\n"
   ]
  },
  {
   "cell_type": "code",
   "execution_count": 4,
   "metadata": {},
   "outputs": [
    {
     "data": {
      "text/html": [
       "<div><svg style=\"position: absolute; width: 0; height: 0; overflow: hidden\">\n",
       "<defs>\n",
       "<symbol id=\"icon-database\" viewBox=\"0 0 32 32\">\n",
       "<path d=\"M16 0c-8.837 0-16 2.239-16 5v4c0 2.761 7.163 5 16 5s16-2.239 16-5v-4c0-2.761-7.163-5-16-5z\"></path>\n",
       "<path d=\"M16 17c-8.837 0-16-2.239-16-5v6c0 2.761 7.163 5 16 5s16-2.239 16-5v-6c0 2.761-7.163 5-16 5z\"></path>\n",
       "<path d=\"M16 26c-8.837 0-16-2.239-16-5v6c0 2.761 7.163 5 16 5s16-2.239 16-5v-6c0 2.761-7.163 5-16 5z\"></path>\n",
       "</symbol>\n",
       "<symbol id=\"icon-file-text2\" viewBox=\"0 0 32 32\">\n",
       "<path d=\"M28.681 7.159c-0.694-0.947-1.662-2.053-2.724-3.116s-2.169-2.030-3.116-2.724c-1.612-1.182-2.393-1.319-2.841-1.319h-15.5c-1.378 0-2.5 1.121-2.5 2.5v27c0 1.378 1.122 2.5 2.5 2.5h23c1.378 0 2.5-1.122 2.5-2.5v-19.5c0-0.448-0.137-1.23-1.319-2.841zM24.543 5.457c0.959 0.959 1.712 1.825 2.268 2.543h-4.811v-4.811c0.718 0.556 1.584 1.309 2.543 2.268zM28 29.5c0 0.271-0.229 0.5-0.5 0.5h-23c-0.271 0-0.5-0.229-0.5-0.5v-27c0-0.271 0.229-0.5 0.5-0.5 0 0 15.499-0 15.5 0v7c0 0.552 0.448 1 1 1h7v19.5z\"></path>\n",
       "<path d=\"M23 26h-14c-0.552 0-1-0.448-1-1s0.448-1 1-1h14c0.552 0 1 0.448 1 1s-0.448 1-1 1z\"></path>\n",
       "<path d=\"M23 22h-14c-0.552 0-1-0.448-1-1s0.448-1 1-1h14c0.552 0 1 0.448 1 1s-0.448 1-1 1z\"></path>\n",
       "<path d=\"M23 18h-14c-0.552 0-1-0.448-1-1s0.448-1 1-1h14c0.552 0 1 0.448 1 1s-0.448 1-1 1z\"></path>\n",
       "</symbol>\n",
       "</defs>\n",
       "</svg>\n",
       "<style>/* CSS stylesheet for displaying xarray objects in jupyterlab.\n",
       " *\n",
       " */\n",
       "\n",
       ":root {\n",
       "  --xr-font-color0: var(--jp-content-font-color0, rgba(0, 0, 0, 1));\n",
       "  --xr-font-color2: var(--jp-content-font-color2, rgba(0, 0, 0, 0.54));\n",
       "  --xr-font-color3: var(--jp-content-font-color3, rgba(0, 0, 0, 0.38));\n",
       "  --xr-border-color: var(--jp-border-color2, #e0e0e0);\n",
       "  --xr-disabled-color: var(--jp-layout-color3, #bdbdbd);\n",
       "  --xr-background-color: var(--jp-layout-color0, white);\n",
       "  --xr-background-color-row-even: var(--jp-layout-color1, white);\n",
       "  --xr-background-color-row-odd: var(--jp-layout-color2, #eeeeee);\n",
       "}\n",
       "\n",
       "html[theme=dark],\n",
       "body.vscode-dark {\n",
       "  --xr-font-color0: rgba(255, 255, 255, 1);\n",
       "  --xr-font-color2: rgba(255, 255, 255, 0.54);\n",
       "  --xr-font-color3: rgba(255, 255, 255, 0.38);\n",
       "  --xr-border-color: #1F1F1F;\n",
       "  --xr-disabled-color: #515151;\n",
       "  --xr-background-color: #111111;\n",
       "  --xr-background-color-row-even: #111111;\n",
       "  --xr-background-color-row-odd: #313131;\n",
       "}\n",
       "\n",
       ".xr-wrap {\n",
       "  display: block;\n",
       "  min-width: 300px;\n",
       "  max-width: 700px;\n",
       "}\n",
       "\n",
       ".xr-text-repr-fallback {\n",
       "  /* fallback to plain text repr when CSS is not injected (untrusted notebook) */\n",
       "  display: none;\n",
       "}\n",
       "\n",
       ".xr-header {\n",
       "  padding-top: 6px;\n",
       "  padding-bottom: 6px;\n",
       "  margin-bottom: 4px;\n",
       "  border-bottom: solid 1px var(--xr-border-color);\n",
       "}\n",
       "\n",
       ".xr-header > div,\n",
       ".xr-header > ul {\n",
       "  display: inline;\n",
       "  margin-top: 0;\n",
       "  margin-bottom: 0;\n",
       "}\n",
       "\n",
       ".xr-obj-type,\n",
       ".xr-array-name {\n",
       "  margin-left: 2px;\n",
       "  margin-right: 10px;\n",
       "}\n",
       "\n",
       ".xr-obj-type {\n",
       "  color: var(--xr-font-color2);\n",
       "}\n",
       "\n",
       ".xr-sections {\n",
       "  padding-left: 0 !important;\n",
       "  display: grid;\n",
       "  grid-template-columns: 150px auto auto 1fr 20px 20px;\n",
       "}\n",
       "\n",
       ".xr-section-item {\n",
       "  display: contents;\n",
       "}\n",
       "\n",
       ".xr-section-item input {\n",
       "  display: none;\n",
       "}\n",
       "\n",
       ".xr-section-item input + label {\n",
       "  color: var(--xr-disabled-color);\n",
       "}\n",
       "\n",
       ".xr-section-item input:enabled + label {\n",
       "  cursor: pointer;\n",
       "  color: var(--xr-font-color2);\n",
       "}\n",
       "\n",
       ".xr-section-item input:enabled + label:hover {\n",
       "  color: var(--xr-font-color0);\n",
       "}\n",
       "\n",
       ".xr-section-summary {\n",
       "  grid-column: 1;\n",
       "  color: var(--xr-font-color2);\n",
       "  font-weight: 500;\n",
       "}\n",
       "\n",
       ".xr-section-summary > span {\n",
       "  display: inline-block;\n",
       "  padding-left: 0.5em;\n",
       "}\n",
       "\n",
       ".xr-section-summary-in:disabled + label {\n",
       "  color: var(--xr-font-color2);\n",
       "}\n",
       "\n",
       ".xr-section-summary-in + label:before {\n",
       "  display: inline-block;\n",
       "  content: '►';\n",
       "  font-size: 11px;\n",
       "  width: 15px;\n",
       "  text-align: center;\n",
       "}\n",
       "\n",
       ".xr-section-summary-in:disabled + label:before {\n",
       "  color: var(--xr-disabled-color);\n",
       "}\n",
       "\n",
       ".xr-section-summary-in:checked + label:before {\n",
       "  content: '▼';\n",
       "}\n",
       "\n",
       ".xr-section-summary-in:checked + label > span {\n",
       "  display: none;\n",
       "}\n",
       "\n",
       ".xr-section-summary,\n",
       ".xr-section-inline-details {\n",
       "  padding-top: 4px;\n",
       "  padding-bottom: 4px;\n",
       "}\n",
       "\n",
       ".xr-section-inline-details {\n",
       "  grid-column: 2 / -1;\n",
       "}\n",
       "\n",
       ".xr-section-details {\n",
       "  display: none;\n",
       "  grid-column: 1 / -1;\n",
       "  margin-bottom: 5px;\n",
       "}\n",
       "\n",
       ".xr-section-summary-in:checked ~ .xr-section-details {\n",
       "  display: contents;\n",
       "}\n",
       "\n",
       ".xr-array-wrap {\n",
       "  grid-column: 1 / -1;\n",
       "  display: grid;\n",
       "  grid-template-columns: 20px auto;\n",
       "}\n",
       "\n",
       ".xr-array-wrap > label {\n",
       "  grid-column: 1;\n",
       "  vertical-align: top;\n",
       "}\n",
       "\n",
       ".xr-preview {\n",
       "  color: var(--xr-font-color3);\n",
       "}\n",
       "\n",
       ".xr-array-preview,\n",
       ".xr-array-data {\n",
       "  padding: 0 5px !important;\n",
       "  grid-column: 2;\n",
       "}\n",
       "\n",
       ".xr-array-data,\n",
       ".xr-array-in:checked ~ .xr-array-preview {\n",
       "  display: none;\n",
       "}\n",
       "\n",
       ".xr-array-in:checked ~ .xr-array-data,\n",
       ".xr-array-preview {\n",
       "  display: inline-block;\n",
       "}\n",
       "\n",
       ".xr-dim-list {\n",
       "  display: inline-block !important;\n",
       "  list-style: none;\n",
       "  padding: 0 !important;\n",
       "  margin: 0;\n",
       "}\n",
       "\n",
       ".xr-dim-list li {\n",
       "  display: inline-block;\n",
       "  padding: 0;\n",
       "  margin: 0;\n",
       "}\n",
       "\n",
       ".xr-dim-list:before {\n",
       "  content: '(';\n",
       "}\n",
       "\n",
       ".xr-dim-list:after {\n",
       "  content: ')';\n",
       "}\n",
       "\n",
       ".xr-dim-list li:not(:last-child):after {\n",
       "  content: ',';\n",
       "  padding-right: 5px;\n",
       "}\n",
       "\n",
       ".xr-has-index {\n",
       "  font-weight: bold;\n",
       "}\n",
       "\n",
       ".xr-var-list,\n",
       ".xr-var-item {\n",
       "  display: contents;\n",
       "}\n",
       "\n",
       ".xr-var-item > div,\n",
       ".xr-var-item label,\n",
       ".xr-var-item > .xr-var-name span {\n",
       "  background-color: var(--xr-background-color-row-even);\n",
       "  margin-bottom: 0;\n",
       "}\n",
       "\n",
       ".xr-var-item > .xr-var-name:hover span {\n",
       "  padding-right: 5px;\n",
       "}\n",
       "\n",
       ".xr-var-list > li:nth-child(odd) > div,\n",
       ".xr-var-list > li:nth-child(odd) > label,\n",
       ".xr-var-list > li:nth-child(odd) > .xr-var-name span {\n",
       "  background-color: var(--xr-background-color-row-odd);\n",
       "}\n",
       "\n",
       ".xr-var-name {\n",
       "  grid-column: 1;\n",
       "}\n",
       "\n",
       ".xr-var-dims {\n",
       "  grid-column: 2;\n",
       "}\n",
       "\n",
       ".xr-var-dtype {\n",
       "  grid-column: 3;\n",
       "  text-align: right;\n",
       "  color: var(--xr-font-color2);\n",
       "}\n",
       "\n",
       ".xr-var-preview {\n",
       "  grid-column: 4;\n",
       "}\n",
       "\n",
       ".xr-var-name,\n",
       ".xr-var-dims,\n",
       ".xr-var-dtype,\n",
       ".xr-preview,\n",
       ".xr-attrs dt {\n",
       "  white-space: nowrap;\n",
       "  overflow: hidden;\n",
       "  text-overflow: ellipsis;\n",
       "  padding-right: 10px;\n",
       "}\n",
       "\n",
       ".xr-var-name:hover,\n",
       ".xr-var-dims:hover,\n",
       ".xr-var-dtype:hover,\n",
       ".xr-attrs dt:hover {\n",
       "  overflow: visible;\n",
       "  width: auto;\n",
       "  z-index: 1;\n",
       "}\n",
       "\n",
       ".xr-var-attrs,\n",
       ".xr-var-data {\n",
       "  display: none;\n",
       "  background-color: var(--xr-background-color) !important;\n",
       "  padding-bottom: 5px !important;\n",
       "}\n",
       "\n",
       ".xr-var-attrs-in:checked ~ .xr-var-attrs,\n",
       ".xr-var-data-in:checked ~ .xr-var-data {\n",
       "  display: block;\n",
       "}\n",
       "\n",
       ".xr-var-data > table {\n",
       "  float: right;\n",
       "}\n",
       "\n",
       ".xr-var-name span,\n",
       ".xr-var-data,\n",
       ".xr-attrs {\n",
       "  padding-left: 25px !important;\n",
       "}\n",
       "\n",
       ".xr-attrs,\n",
       ".xr-var-attrs,\n",
       ".xr-var-data {\n",
       "  grid-column: 1 / -1;\n",
       "}\n",
       "\n",
       "dl.xr-attrs {\n",
       "  padding: 0;\n",
       "  margin: 0;\n",
       "  display: grid;\n",
       "  grid-template-columns: 125px auto;\n",
       "}\n",
       "\n",
       ".xr-attrs dt,\n",
       ".xr-attrs dd {\n",
       "  padding: 0;\n",
       "  margin: 0;\n",
       "  float: left;\n",
       "  padding-right: 10px;\n",
       "  width: auto;\n",
       "}\n",
       "\n",
       ".xr-attrs dt {\n",
       "  font-weight: normal;\n",
       "  grid-column: 1;\n",
       "}\n",
       "\n",
       ".xr-attrs dt:hover span {\n",
       "  display: inline-block;\n",
       "  background: var(--xr-background-color);\n",
       "  padding-right: 10px;\n",
       "}\n",
       "\n",
       ".xr-attrs dd {\n",
       "  grid-column: 2;\n",
       "  white-space: pre-wrap;\n",
       "  word-break: break-all;\n",
       "}\n",
       "\n",
       ".xr-icon-database,\n",
       ".xr-icon-file-text2 {\n",
       "  display: inline-block;\n",
       "  vertical-align: middle;\n",
       "  width: 1em;\n",
       "  height: 1.5em !important;\n",
       "  stroke-width: 0;\n",
       "  stroke: currentColor;\n",
       "  fill: currentColor;\n",
       "}\n",
       "</style><pre class='xr-text-repr-fallback'>&lt;xarray.DataArray &#x27;yLR&#x27; (time: 2170)&gt;\n",
       "array([-0.28488582, -0.55015635, -0.5512383 , ..., -0.34962042,\n",
       "       -0.318164  , -0.26831738])\n",
       "Coordinates:\n",
       "    height   float64 2.0\n",
       "  * time     (time) datetime64[ns] 1980-01-01T12:00:00 ... 2014-12-31T12:00:00</pre><div class='xr-wrap' hidden><div class='xr-header'><div class='xr-obj-type'>xarray.DataArray</div><div class='xr-array-name'>'yLR'</div><ul class='xr-dim-list'><li><span class='xr-has-index'>time</span>: 2170</li></ul></div><ul class='xr-sections'><li class='xr-section-item'><div class='xr-array-wrap'><input id='section-5817020d-1e0a-4088-a552-9b05d3bb097f' class='xr-array-in' type='checkbox' checked><label for='section-5817020d-1e0a-4088-a552-9b05d3bb097f' title='Show/hide data repr'><svg class='icon xr-icon-database'><use xlink:href='#icon-database'></use></svg></label><div class='xr-array-preview xr-preview'><span>-0.2849 -0.5502 -0.5512 -0.3303 ... -0.2745 -0.3496 -0.3182 -0.2683</span></div><div class='xr-array-data'><pre>array([-0.28488582, -0.55015635, -0.5512383 , ..., -0.34962042,\n",
       "       -0.318164  , -0.26831738])</pre></div></div></li><li class='xr-section-item'><input id='section-e5f89a98-b165-4849-a50e-0fb6e848b44d' class='xr-section-summary-in' type='checkbox'  checked><label for='section-e5f89a98-b165-4849-a50e-0fb6e848b44d' class='xr-section-summary' >Coordinates: <span>(2)</span></label><div class='xr-section-inline-details'></div><div class='xr-section-details'><ul class='xr-var-list'><li class='xr-var-item'><div class='xr-var-name'><span>height</span></div><div class='xr-var-dims'>()</div><div class='xr-var-dtype'>float64</div><div class='xr-var-preview xr-preview'>...</div><input id='attrs-dca26c51-e25e-4bd7-9ccc-73e7f35791b0' class='xr-var-attrs-in' type='checkbox' ><label for='attrs-dca26c51-e25e-4bd7-9ccc-73e7f35791b0' title='Show/Hide attributes'><svg class='icon xr-icon-file-text2'><use xlink:href='#icon-file-text2'></use></svg></label><input id='data-7f2cca16-e249-45ac-9a32-b2132714cb0a' class='xr-var-data-in' type='checkbox'><label for='data-7f2cca16-e249-45ac-9a32-b2132714cb0a' title='Show/Hide data repr'><svg class='icon xr-icon-database'><use xlink:href='#icon-database'></use></svg></label><div class='xr-var-attrs'><dl class='xr-attrs'><dt><span>standard_name :</span></dt><dd>height</dd><dt><span>long_name :</span></dt><dd>height</dd><dt><span>units :</span></dt><dd>m</dd><dt><span>positive :</span></dt><dd>up</dd><dt><span>axis :</span></dt><dd>Z</dd></dl></div><div class='xr-var-data'><pre>array(2.)</pre></div></li><li class='xr-var-item'><div class='xr-var-name'><span class='xr-has-index'>time</span></div><div class='xr-var-dims'>(time)</div><div class='xr-var-dtype'>datetime64[ns]</div><div class='xr-var-preview xr-preview'>1980-01-01T12:00:00 ... 2014-12-...</div><input id='attrs-966874e6-f7bd-4c2c-905b-e61fbb5490ee' class='xr-var-attrs-in' type='checkbox' ><label for='attrs-966874e6-f7bd-4c2c-905b-e61fbb5490ee' title='Show/Hide attributes'><svg class='icon xr-icon-file-text2'><use xlink:href='#icon-file-text2'></use></svg></label><input id='data-d31c1a9b-1933-4371-963a-b02ef2fef32c' class='xr-var-data-in' type='checkbox'><label for='data-d31c1a9b-1933-4371-963a-b02ef2fef32c' title='Show/Hide data repr'><svg class='icon xr-icon-database'><use xlink:href='#icon-database'></use></svg></label><div class='xr-var-attrs'><dl class='xr-attrs'><dt><span>standard_name :</span></dt><dd>time</dd><dt><span>long_name :</span></dt><dd>time</dd><dt><span>bounds :</span></dt><dd>time_bnds</dd><dt><span>axis :</span></dt><dd>T</dd></dl></div><div class='xr-var-data'><pre>array([&#x27;1980-01-01T12:00:00.000000000&#x27;, &#x27;1980-01-02T12:00:00.000000000&#x27;,\n",
       "       &#x27;1980-01-03T12:00:00.000000000&#x27;, ..., &#x27;2014-12-29T12:00:00.000000000&#x27;,\n",
       "       &#x27;2014-12-30T12:00:00.000000000&#x27;, &#x27;2014-12-31T12:00:00.000000000&#x27;],\n",
       "      dtype=&#x27;datetime64[ns]&#x27;)</pre></div></li></ul></div></li><li class='xr-section-item'><input id='section-39a5d015-6954-4727-a557-9bebf0a75bf6' class='xr-section-summary-in' type='checkbox' disabled ><label for='section-39a5d015-6954-4727-a557-9bebf0a75bf6' class='xr-section-summary'  title='Expand/collapse section'>Attributes: <span>(0)</span></label><div class='xr-section-inline-details'></div><div class='xr-section-details'><dl class='xr-attrs'></dl></div></li></ul></div></div>"
      ],
      "text/plain": [
       "<xarray.DataArray 'yLR' (time: 2170)>\n",
       "array([-0.28488582, -0.55015635, -0.5512383 , ..., -0.34962042,\n",
       "       -0.318164  , -0.26831738])\n",
       "Coordinates:\n",
       "    height   float64 ...\n",
       "  * time     (time) datetime64[ns] 1980-01-01T12:00:00 ... 2014-12-31T12:00:00"
      ]
     },
     "execution_count": 4,
     "metadata": {},
     "output_type": "execute_result"
    }
   ],
   "source": [
    "EC_Earth3_SVR\n",
    "MIROC6_SVR"
   ]
  },
  {
   "cell_type": "code",
   "execution_count": 5,
   "metadata": {},
   "outputs": [],
   "source": [
    "def getFogTS( dArray ):\n",
    "   #\"This function gives TS of  for each season e.g. if year\n",
    "   #  is 1981 then it will contain values between 1dec1980 to 31jan1981\"\n",
    "    fg=list()\n",
    "    \n",
    "    for yr in range(1981,2015,1):\n",
    "        dStart=datetime.datetime(yr-1, 12, 1)\n",
    "        dEnd=datetime.datetime(yr, 1, 31)\n",
    "        ySMean = dArray.sel(time=slice(dStart,dEnd)).mean(dim='time').values.tolist()\n",
    "        #print(yAct)\n",
    "        fg.append(ySMean)\n",
    "        \n",
    "    \n",
    "    return fg"
   ]
  },
  {
   "cell_type": "code",
   "execution_count": 6,
   "metadata": {},
   "outputs": [
    {
     "name": "stdout",
     "output_type": "stream",
     "text": [
      "0.2832827324478178\n",
      "0.11073566489111651\n"
     ]
    }
   ],
   "source": [
    "fO=getFogTS(y)\n",
    "ObsMean=st.mean(fO)\n",
    "print(ObsMean)\n",
    "ObsStd=st.stdev(fO)\n",
    "print(ObsStd)"
   ]
  },
  {
   "cell_type": "code",
   "execution_count": 7,
   "metadata": {},
   "outputs": [
    {
     "data": {
      "text/plain": [
       "16"
      ]
     },
     "execution_count": 7,
     "metadata": {},
     "output_type": "execute_result"
    }
   ],
   "source": [
    "pow(4, 2)"
   ]
  },
  {
   "cell_type": "code",
   "execution_count": 8,
   "metadata": {},
   "outputs": [
    {
     "name": "stdout",
     "output_type": "stream",
     "text": [
      "[0.0, 2.899718268806138, -1.4525278365297047, 1.5104495761974048, 2.0482425249240257, -3.2809725021899134, -3.1962824826806133, -3.801534517274971, -3.67619929737507, 1.1100139722684201, 0.89136421544705, -0.30901417584353763, -0.5414211410265126, 1.9943645863405672, 0.7843299875728]\n",
      "[0.0, 0.634131379049697, 0.68288298827451, 0.0002646566658969368, 0.42638071489767215, 0.5858882491530298, 1.1122758073220114, 1.5703174991636382, 3.5055875901808875, 0.4092651313656827, 1.23428575155686, 1.6151085843437882, 0.34163123014274804, 0.7385936336130301, 0.0027097060227614022]\n"
     ]
    }
   ],
   "source": [
    "RE=list()\n",
    "IVS=list()\n",
    "fList=(y,LR,SVR,CNN,ACCESS_CM2_CNN,CanESM5_CNN,IITMESM_CNN,INM_CM4_8_CNN,INM_CM5_0_CNN ,IPSL_CM6A_LR_CNN,MIROC6_CNN,MRI_ESM2_0_CNN, MPI_ESM1_2_LR_CNN, MPI_ESM1_2_HR_CNN,EC_Earth3_CNN)\n",
    "for fL in fList :\n",
    "    ts=getFogTS(fL)\n",
    "    re1=((st.mean(ts)-ObsMean)/ObsMean)*100.0\n",
    "    RE.append(re1)\n",
    "    stdCal=((st.stdev(ts)/ObsStd)-(ObsStd/st.stdev(ts)))\n",
    "    ivs1=pow(stdCal,2)\n",
    "    IVS.append(ivs1)\n",
    "    \n",
    "print(RE)    \n",
    "print(IVS)\n",
    "    \n"
   ]
  },
  {
   "cell_type": "code",
   "execution_count": 9,
   "metadata": {},
   "outputs": [
    {
     "name": "stdout",
     "output_type": "stream",
     "text": [
      "[0.0, 2.899718268806138, -1.4525278365297047, 1.5104495761974048, 2.0482425249240257, -3.2809725021899134, -3.1962824826806133, -3.801534517274971, -3.67619929737507, 1.1100139722684201, 0.89136421544705, -0.30901417584353763, -0.5414211410265126, 1.9943645863405672, 0.7843299875728]\n",
      "[0.0, 0.634131379049697, 0.68288298827451, 0.0002646566658969368, 0.42638071489767215, 0.5858882491530298, 1.1122758073220114, 1.5703174991636382, 3.5055875901808875, 0.4092651313656827, 1.23428575155686, 1.6151085843437882, 0.34163123014274804, 0.7385936336130301, 0.0027097060227614022]\n"
     ]
    }
   ],
   "source": [
    "RE=list()\n",
    "IVS=list()\n",
    "fList=(y,LR,SVR,CNN,ACCESS_CM2_CNN,CanESM5_CNN,IITMESM_CNN,INM_CM4_8_CNN,INM_CM5_0_CNN ,IPSL_CM6A_LR_CNN,MIROC6_CNN,MRI_ESM2_0_CNN, MPI_ESM1_2_LR_CNN, MPI_ESM1_2_HR_CNN,EC_Earth3_CNN)\n",
    "for fL in fList :\n",
    "    ts=getFogTS(fL)\n",
    "    re1=((st.mean(ts)-ObsMean)/ObsMean)*100.0\n",
    "    RE.append(re1)\n",
    "    stdCal=((st.stdev(ts)/ObsStd)-(ObsStd/st.stdev(ts)))\n",
    "    ivs1=pow(stdCal,2)\n",
    "    IVS.append(ivs1)\n",
    "    \n",
    "print(RE)    \n",
    "print(IVS)"
   ]
  },
  {
   "cell_type": "code",
   "execution_count": 10,
   "metadata": {},
   "outputs": [
    {
     "data": {
      "image/png": "[encoded data removed]",
      "text/plain": [
       "<Figure size 432x288 with 1 Axes>"
      ]
     },
     "metadata": {
      "needs_background": "light"
     },
     "output_type": "display_data"
    },
    {
     "data": {
      "text/plain": [
       "<matplotlib.legend.Legend at 0x2ad68a5df880>"
      ]
     },
     "execution_count": 10,
     "metadata": {},
     "output_type": "execute_result"
    },
    {
     "data": {
      "image/png": "[encoded data removed]",
      "text/plain": [
       "<Figure size 432x288 with 1 Axes>"
      ]
     },
     "metadata": {
      "needs_background": "light"
     },
     "output_type": "display_data"
    }
   ],
   "source": [
    "\n",
    "import matplotlib.patches as mpatches\n",
    "classes = ['Y','LR','SVR','CNN','ACCESS-CM2','CanESM','IITM-ESM','INM-CM4-8','INM-CM5-0','IPSL-CM6A-LR','MIROC6','MRI-ESM2-0','MPI-ESM1-2-LR','MPI-ESM1-2-HR','EC-Earth3']\n",
    "class_colours = ['black','red','navy','blue','lightcoral','chocolate','yellow','green','lime','magenta','aqua','plum','tan','brown','grey']\n",
    "\n",
    "figure, axes = plt.subplots()\n",
    "plt.scatter(RE, IVS, c=class_colours, s=65)\n",
    "plt.ylim(top=5) #ymax is your value\n",
    "plt.ylim(bottom=-1) #ymin is your value\n",
    "plt.xlim(right=4) #xmax is your value\n",
    "plt.xlim(left=-4) #xmin is your value\n",
    "plt.xlabel('Relative Error (%)')\n",
    "plt.ylabel('Interannual Variability Skill')\n",
    "x1, y1 = [RE[0], RE[0]], [-1, 5]\n",
    "x2, y2 = [-4, 4], [IVS[0], IVS[0]]\n",
    "plt.plot(x1, y1,'--',  x2, y2,'--', linewidth=1,color='black')\n",
    "#c=plt.Circle(( fMean[0] ,fCV[0] ), fMean[0]*10/100.0 )\n",
    "#axes.set_aspect( 1 )\n",
    "#axes.add_artist( c)\n",
    "plt.show()\n",
    "\n",
    "\n",
    "recs = []\n",
    "for i in range(0,len(class_colours)):\n",
    "    recs.append(mpatches.Rectangle((0,0),1,1,fc=class_colours[i]))\n",
    "plt.legend(recs,classes,loc=4)"
   ]
  },
  {
   "cell_type": "code",
   "execution_count": 18,
   "metadata": {},
   "outputs": [
    {
     "name": "stderr",
     "output_type": "stream",
     "text": [
      "The PostScript backend does not support transparency; partially transparent artists will be rendered opaque.\n",
      "The PostScript backend does not support transparency; partially transparent artists will be rendered opaque.\n"
     ]
    },
    {
     "data": {
      "image/png": "[encoded data removed]",
      "text/plain": [
       "<Figure size 1080x720 with 1 Axes>"
      ]
     },
     "metadata": {
      "needs_background": "light"
     },
     "output_type": "display_data"
    }
   ],
   "source": [
    "\n",
    "import matplotlib.patches as mpatches\n",
    "classes = ['Obs','LR','SVR','CNN','ACCESS-CM2','CanESM','IITM-ESM','INM-CM4-8','INM-CM5-0','IPSL-CM6A-LR',\n",
    "           'MIROC6','MRI-ESM2-0','MPI-ESM1-2-LR','MPI-ESM1-2-HR','EC-Earth3']\n",
    "#class_colours = ['black','red','navy','blue','lightcoral','chocolate','yellow','green','lime','magenta','aqua','plum','tan','brown','grey']\n",
    "class_colours = ['black','black','black','black','black','black','black',\n",
    "                 'black','black','black','black','black','black','black','black']\n",
    "markers=['o','+','v','s','1','<','^','4','h','x','X','p','P','d','>']\n",
    "\n",
    "figure, axes = plt.subplots(figsize=(15,10))\n",
    "\n",
    "\n",
    "for r,i,m,c in zip(RE,IVS,markers,classes):\n",
    "    plt.scatter(r, i, c='black', marker=m, label=c,s=100)\n",
    "plt.ylim(top=5) #ymax is your value\n",
    "plt.ylim(bottom=-1) #ymin is your value\n",
    "plt.xlim(right=4) #xmax is your value\n",
    "plt.xlim(left=-4) #xmin is your value\n",
    "plt.xlabel('Relative Error (%)')\n",
    "plt.ylabel('Interannual Variability Skill')\n",
    "plt.legend()\n",
    "x1, y1 = [RE[0], RE[0]], [-1, 5]\n",
    "x2, y2 = [-4, 4], [IVS[0], IVS[0]]\n",
    "plt.plot(x1, y1,'--',  x2, y2,'--', linewidth=1,color='black',fillstyle='none')\n",
    "#c=plt.Circle(( fMean[0] ,fCV[0] ), fMean[0]*10/100.0 )\n",
    "#axes.set_aspect( 1 )\n",
    "#axes.add_artist( c)\n",
    "plt.legend()\n",
    "\n",
    "\n",
    "plt.savefig('FogFraction_RE_IVS.eps')\n",
    "plt.show()\n",
    "\n",
    "#recs = []\n",
    "#for i in range(0,len(class_colours)):\n",
    "#    recs.append(mpatches.Rectangle((0,0),1,1,fc=class_colours[i]))\n",
    "#plt.legend(recs,classes,loc=4)"
   ]
  },
  {
   "cell_type": "code",
   "execution_count": 11,
   "metadata": {},
   "outputs": [
    {
     "name": "stdout",
     "output_type": "stream",
     "text": [
      "[0.0, 2.0482425249240257, -3.2809725021899134, -3.1962824826806133, -3.801534517274971, -3.67619929737507, 1.1100139722684201, 0.89136421544705, -0.30901417584353763, -0.5414211410265126, 1.9943645863405672, 0.7843299875728]\n",
      "[0.0, 0.42638071489767215, 0.5858882491530298, 1.1122758073220114, 1.5703174991636382, 3.5055875901808875, 0.4092651313656827, 1.23428575155686, 1.6151085843437882, 0.34163123014274804, 0.7385936336130301, 0.0027097060227614022]\n"
     ]
    }
   ],
   "source": [
    "RE=list()\n",
    "IVS=list()\n",
    "fList=(y,ACCESS_CM2_CNN,CanESM5_CNN,IITMESM_CNN,INM_CM4_8_CNN,INM_CM5_0_CNN ,IPSL_CM6A_LR_CNN,MIROC6_CNN,MRI_ESM2_0_CNN, MPI_ESM1_2_LR_CNN, MPI_ESM1_2_HR_CNN,EC_Earth3_CNN)\n",
    "for fL in fList :\n",
    "    ts=getFogTS(fL)\n",
    "    re1=((st.mean(ts)-ObsMean)/ObsMean)*100.0\n",
    "    RE.append(re1)\n",
    "    stdCal=((st.stdev(ts)/ObsStd)-(ObsStd/st.stdev(ts)))\n",
    "    ivs1=pow(stdCal,2)\n",
    "    IVS.append(ivs1)\n",
    "    \n",
    "print(RE)    \n",
    "print(IVS)\n",
    "    \n"
   ]
  },
  {
   "cell_type": "code",
   "execution_count": 12,
   "metadata": {},
   "outputs": [
    {
     "data": {
      "image/png": "[encoded data removed]",
      "text/plain": [
       "<Figure size 504x360 with 1 Axes>"
      ]
     },
     "metadata": {
      "needs_background": "light"
     },
     "output_type": "display_data"
    },
    {
     "data": {
      "image/png": "[encoded data removed]",
      "text/plain": [
       "<Figure size 432x288 with 1 Axes>"
      ]
     },
     "metadata": {
      "needs_background": "light"
     },
     "output_type": "display_data"
    }
   ],
   "source": [
    "\n",
    "import matplotlib.patches as mpatches\n",
    "classes = ['Y','ACCESS-CM2','CanESM','IITM-ESM','INM-CM4-8','INM-CM5-0','IPSL-CM6A-LR','MIROC6','MRI-ESM2-0','MPI-ESM1-2-LR','MPI-ESM1-2-HR','EC-Earth3']\n",
    "class_colours = ['black','red','blue','chocolate','yellow','green','lime','magenta','aqua','plum','brown','grey']\n",
    "\n",
    "fig = plt.figure(figsize=(7,5))\n",
    "plt.scatter(RE, IVS, c=class_colours, s=65)\n",
    "plt.ylim(top=5) #ymax is your value\n",
    "plt.ylim(bottom=-1) #ymin is your value\n",
    "plt.xlim(right=4) #xmax is your value\n",
    "plt.xlim(left=-4) #xmin is your value\n",
    "plt.xlabel('Relative Error (%)')\n",
    "plt.ylabel('Interannual Variability Skill')\n",
    "x1, y1 = [RE[0], RE[0]], [-1, 5]\n",
    "x2, y2 = [-4, 4], [IVS[0], IVS[0]]\n",
    "plt.plot(x1, y1,'--',  x2, y2,'--', linewidth=1,color='black')\n",
    "#c=plt.Circle(( fMean[0] ,fCV[0] ), fMean[0]*10/100.0 )\n",
    "#axes.set_aspect( 1 )\n",
    "#axes.add_artist( c)\n",
    "plt.savefig('FogFraction_RE_IVS.png')\n",
    "plt.show()\n",
    "\n",
    "\n",
    "recs = []\n",
    "for i in range(0,len(class_colours)):\n",
    "    recs.append(mpatches.Rectangle((0,0),1,1,fc=class_colours[i]))\n",
    "plt.legend(recs,classes,loc=4)\n",
    "plt.savefig('FogFraction_RE_IVS_legend.png')"
   ]
  },
  {
   "cell_type": "code",
   "execution_count": 13,
   "metadata": {},
   "outputs": [
    {
     "name": "stdout",
     "output_type": "stream",
     "text": [
      "[0.0, -259.408571528145, -1209.5710820630666, -557.2436035518218, -689.7154598808701, -462.31601693080995, -1267.9302817966984, -196.91745392338518, -895.937825037389, -491.3529235831609, -224.13790283006335, -865.3039699555159]\n",
      "[0.0, 5.312002315081889, 7.216794671212778, 4.155484887000405, 26.64973689731897, 29.1362216851692, 8.128652626564286, 2.313117805901321, 3.4726119689749244, 2.678544985218266, 2.1482864700478195, 2.4173016588878706]\n"
     ]
    },
    {
     "data": {
      "image/png": "[encoded data removed]",
      "text/plain": [
       "<Figure size 432x288 with 1 Axes>"
      ]
     },
     "metadata": {
      "needs_background": "light"
     },
     "output_type": "display_data"
    },
    {
     "data": {
      "text/plain": [
       "<matplotlib.legend.Legend at 0x2b907e7b5f70>"
      ]
     },
     "execution_count": 13,
     "metadata": {},
     "output_type": "execute_result"
    },
    {
     "data": {
      "image/png": "[encoded data removed]",
      "text/plain": [
       "<Figure size 432x288 with 1 Axes>"
      ]
     },
     "metadata": {
      "needs_background": "light"
     },
     "output_type": "display_data"
    }
   ],
   "source": [
    "RE=list()\n",
    "IVS=list()\n",
    "fList=(y,ACCESS_CM2_LR,CanESM5_LR,IITMESM_LR,INM_CM4_8_LR,INM_CM5_0_LR ,IPSL_CM6A_LR_LR,MIROC6_LR,MRI_ESM2_0_LR, MPI_ESM1_2_LR_LR, MPI_ESM1_2_HR_LR,EC_Earth3_LR)\n",
    "for fL in fList :\n",
    "    ts=getFogTS(fL)\n",
    "    re1=((st.mean(ts)-ObsMean)/ObsMean)*100.0\n",
    "    RE.append(re1)\n",
    "    stdCal=((st.stdev(ts)/ObsStd)-(ObsStd/st.stdev(ts)))\n",
    "    ivs1=pow(stdCal,2)\n",
    "    IVS.append(ivs1)\n",
    "    \n",
    "print(RE)    \n",
    "print(IVS)\n",
    "\n",
    "\n",
    "import matplotlib.patches as mpatches\n",
    "classes = ['Y','ACCESS-CM2','CanESM','IITM-ESM','INM-CM4-8','INM-CM5-0','IPSL-CM6A-LR','MIROC6','MRI-ESM2-0','MPI-ESM1-2-LR','MPI-ESM1-2-HR','EC-Earth3']\n",
    "class_colours = ['black','red','blue','chocolate','yellow','green','lime','magenta','aqua','plum','brown','grey']\n",
    "\n",
    "figure, axes = plt.subplots()\n",
    "plt.scatter(RE, IVS, c=class_colours, s=65)\n",
    "#plt.ylim(top=5) #ymax is your value\n",
    "#plt.ylim(bottom=-1) #ymin is your value\n",
    "#plt.xlim(right=4) #xmax is your value\n",
    "#plt.xlim(left=-4) #xmin is your value\n",
    "plt.xlabel('Relative Error (%)')\n",
    "plt.ylabel('Interannual Variability Skill')\n",
    "x1, y1 = [RE[0], RE[0]], [-1, 5]\n",
    "x2, y2 = [-4, 4], [IVS[0], IVS[0]]\n",
    "plt.plot(x1, y1,'--',  x2, y2,'--', linewidth=1,color='black')\n",
    "#c=plt.Circle(( fMean[0] ,fCV[0] ), fMean[0]*10/100.0 )\n",
    "#axes.set_aspect( 1 )\n",
    "#axes.add_artist( c)\n",
    "plt.show()\n",
    "\n",
    "\n",
    "recs = []\n",
    "for i in range(0,len(class_colours)):\n",
    "    recs.append(mpatches.Rectangle((0,0),1,1,fc=class_colours[i]))\n",
    "plt.legend(recs,classes,loc=4)\n"
   ]
  },
  {
   "cell_type": "code",
   "execution_count": 15,
   "metadata": {},
   "outputs": [
    {
     "name": "stdout",
     "output_type": "stream",
     "text": [
      "[0.0, -271.54592554519155, -1124.4658059057092, -573.4034846565338, -694.2496168387277, -475.81166143226375, -1158.2109599240762, -229.66621122082037, -877.4697828859963, -506.5915470406762, -232.33665365784682, -852.0619118498041]\n",
      "[0.0, 5.756039913824451, 8.335391561627379, 5.890349813065015, 18.947218907206548, 36.443509515514286, 12.26205430584594, 2.9255240225103645, 12.061773345421056, 5.185589235825935, 2.8490482382872626, 5.983218584764867]\n"
     ]
    },
    {
     "data": {
      "image/png": "[encoded data removed]",
      "text/plain": [
       "<Figure size 432x288 with 1 Axes>"
      ]
     },
     "metadata": {
      "needs_background": "light"
     },
     "output_type": "display_data"
    },
    {
     "data": {
      "text/plain": [
       "<matplotlib.legend.Legend at 0x2b907e978cd0>"
      ]
     },
     "execution_count": 15,
     "metadata": {},
     "output_type": "execute_result"
    },
    {
     "data": {
      "image/png": "[encoded data removed]",
      "text/plain": [
       "<Figure size 432x288 with 1 Axes>"
      ]
     },
     "metadata": {
      "needs_background": "light"
     },
     "output_type": "display_data"
    }
   ],
   "source": [
    "RE=list()\n",
    "IVS=list()\n",
    "fList=(y,ACCESS_CM2_SVR,CanESM5_SVR,IITMESM_SVR,INM_CM4_8_SVR,INM_CM5_0_SVR ,IPSL_CM6A_LR_SVR,MIROC6_SVR,MRI_ESM2_0_SVR, MPI_ESM1_2_LR_SVR, MPI_ESM1_2_HR_SVR,EC_Earth3_SVR)\n",
    "for fL in fList :\n",
    "    ts=getFogTS(fL)\n",
    "    re1=((st.mean(ts)-ObsMean)/ObsMean)*100.0\n",
    "    RE.append(re1)\n",
    "    stdCal=((st.stdev(ts)/ObsStd)-(ObsStd/st.stdev(ts)))\n",
    "    ivs1=pow(stdCal,2)\n",
    "    IVS.append(ivs1)\n",
    "    \n",
    "print(RE)    \n",
    "print(IVS)\n",
    "\n",
    "\n",
    "import matplotlib.patches as mpatches\n",
    "classes = ['Y','ACCESS-CM2','CanESM','IITM-ESM','INM-CM4-8','INM-CM5-0','IPSL-CM6A-SVR','MIROC6','MRI-ESM2-0','MPI-ESM1-2-SVR','MPI-ESM1-2-HR','EC-Earth3']\n",
    "class_colours = ['black','red','blue','chocolate','yellow','green','lime','magenta','aqua','plum','brown','grey']\n",
    "\n",
    "figure, axes = plt.subplots()\n",
    "plt.scatter(RE, IVS, c=class_colours, s=65)\n",
    "#plt.ylim(top=5) #ymax is your value\n",
    "#plt.ylim(bottom=-1) #ymin is your value\n",
    "#plt.xlim(right=4) #xmax is your value\n",
    "#plt.xlim(left=-4) #xmin is your value\n",
    "plt.xlabel('Relative Error (%)')\n",
    "plt.ylabel('Interannual Variability Skill')\n",
    "x1, y1 = [RE[0], RE[0]], [-1, 5]\n",
    "x2, y2 = [-4, 4], [IVS[0], IVS[0]]\n",
    "plt.plot(x1, y1,'--',  x2, y2,'--', linewidth=1,color='black')\n",
    "#c=plt.Circle(( fMean[0] ,fCV[0] ), fMean[0]*10/100.0 )\n",
    "#axes.set_aspect( 1 )\n",
    "#axes.add_artist( c)\n",
    "plt.show()\n",
    "\n",
    "\n",
    "recs = []\n",
    "for i in range(0,len(class_colours)):\n",
    "    recs.append(mpatches.Rectangle((0,0),1,1,fc=class_colours[i]))\n",
    "plt.legend(recs,classes,loc=4)\n"
   ]
  },
  {
   "cell_type": "code",
   "execution_count": null,
   "metadata": {},
   "outputs": [],
   "source": []
  }
 ],
 "metadata": {
  "kernelspec": {
   "display_name": "Python 3",
   "language": "python",
   "name": "python3"
  },
  "language_info": {
   "codemirror_mode": {
    "name": "ipython",
    "version": 3
   },
   "file_extension": ".py",
   "mimetype": "text/x-python",
   "name": "python",
   "nbconvert_exporter": "python",
   "pygments_lexer": "ipython3",
   "version": "3.8.5"
  }
 },
 "nbformat": 4,
 "nbformat_minor": 4
}
