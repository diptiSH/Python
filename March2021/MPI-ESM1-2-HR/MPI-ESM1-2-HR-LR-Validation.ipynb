{
 "cells": [
  {
   "cell_type": "code",
   "execution_count": 1,
   "metadata": {},
   "outputs": [],
   "source": [
    "import numpy as np\n",
    "import pandas as pd\n",
    "import xarray as xr\n",
    "from joblib import dump, load\n",
    "from sklearn.model_selection import train_test_split\n",
    "import math as mt\n",
    "from math import e\n",
    "from sklearn.preprocessing import StandardScaler"
   ]
  },
  {
   "cell_type": "code",
   "execution_count": 2,
   "metadata": {},
   "outputs": [],
   "source": [
    "# Read Orography\n",
    "OroData = xr.open_dataset('../../../Data/eraDown/ERA5_2degree_Down/DailyMean/ERA5IGP_Orography.nc')"
   ]
  },
  {
   "cell_type": "code",
   "execution_count": 3,
   "metadata": {},
   "outputs": [],
   "source": [
    "#Surface data\n",
    "t2mData = xr.open_dataset('../../../Data/CMIP6/MPI-ESM1-2-HR/processed/Regrid_tas_day_MPI-ESM1-2-HR_historical_r1i1p1f1_gn_18500101-20141231.nc')\n",
    "rhData  = xr.open_dataset('../../../Data/CMIP6/MPI-ESM1-2-HR/processed/Regrid_hurs_day_MPI-ESM1-2-HR_historical_r1i1p1f1_gn_18500101-20141231.nc')\n",
    "u10Data = xr.open_dataset('../../../Data/CMIP6/MPI-ESM1-2-HR/processed/Regrid_uas_day_MPI-ESM1-2-HR_historical_r1i1p1f1_gn_18500101-20141231.nc')\n",
    "v10Data = xr.open_dataset('../../../Data/CMIP6/MPI-ESM1-2-HR/processed/Regrid_vas_day_MPI-ESM1-2-HR_historical_r1i1p1f1_gn_18500101-20141231.nc')"
   ]
  },
  {
   "cell_type": "code",
   "execution_count": 4,
   "metadata": {},
   "outputs": [],
   "source": [
    "# Level Data\n",
    "tLevData = xr.open_dataset('../../../Data/CMIP6/MPI-ESM1-2-HR/processed/Regrid_ta_day_MPI-ESM1-2-HR_historical_r1i1p1f1_gn_18500101-20141231.nc')\n",
    "zLevData = xr.open_dataset('../../../Data/CMIP6/MPI-ESM1-2-HR/processed/Regrid_zg_day_MPI-ESM1-2-HR_historical_r1i1p1f1_gn_18500101-20141231.nc')\n",
    "wLevData = xr.open_dataset('../../../Data/CMIP6/MPI-ESM1-2-HR/processed/Regrid_wap_day_MPI-ESM1-2-HR_historical_r1i1p1f1_gn_18500101-20141231.nc')\n",
    "uLevData = xr.open_dataset('../../../Data/CMIP6/MPI-ESM1-2-HR/processed/Regrid_ua_day_MPI-ESM1-2-HR_historical_r1i1p1f1_gn_18500101-20141231.nc')"
   ]
  },
  {
   "cell_type": "code",
   "execution_count": 5,
   "metadata": {},
   "outputs": [],
   "source": [
    "t2mD = t2mData.sel(latitude=slice(32,24),longitude=slice(74,86))\n",
    "u10D = u10Data.sel(latitude=slice(32,24),longitude=slice(74,86))\n",
    "v10D = v10Data.sel(latitude=slice(32,24),longitude=slice(74,86))\n",
    "rhD  = rhData.sel(latitude=slice(32,24),longitude=slice(74,86))\n",
    "tLevD = tLevData.sel(latitude=slice(32,24),longitude=slice(74,86))\n",
    "uLevD = uLevData.sel(latitude=slice(32,24),longitude=slice(74,86))\n",
    "w700D = wLevData.sel(latitude=slice(32,24),longitude=slice(74,86)).sel(plev=70000,method='nearest')\n",
    "zLevD = zLevData.sel(latitude=slice(32,24),longitude=slice(74,86))\n",
    "OroD = OroData.sel(latitude=slice(32,24),longitude=slice(74,86))\n",
    "#w700D"
   ]
  },
  {
   "cell_type": "code",
   "execution_count": 6,
   "metadata": {},
   "outputs": [],
   "source": [
    "# Calculate wind speed and relative humidity inv  ushear\n",
    "ws = ((v10D.vas.values**2)+(u10D.uas.values**2))**0.5\n",
    "ws_ds = xr.Dataset({'ws': (('time','latitude','longitude'), ws)},\n",
    "                   coords={'time': v10D.time,'latitude': v10D.latitude,'longitude': v10D.longitude})\n",
    "\n",
    "rh_ds = xr.Dataset({'rh': (('time','latitude','longitude'), rhD.hurs)},\n",
    "                   coords={'time': v10D.time,'latitude': v10D.latitude,'longitude': v10D.longitude})\n",
    "\n",
    "#Calculate inv\n",
    "inv=t2mD.tas.values-tLevD.ta.sel(plev=85000,method='nearest').values\n",
    "inv_ds = xr.Dataset({'inv': (('time','latitude','longitude'), inv)}, \n",
    "                    coords={'time': v10D.time,'latitude': v10D.latitude,'longitude': v10D.longitude})\n",
    "inv_ds.attrs\n",
    "inv_ds.attrs['units']='K'\n",
    "inv_ds.attrs['long_name']='t2m - t850'\n",
    "\n",
    "#u shear calculation\n",
    "ushear=(uLevD.ua.sel(plev=85000,method='nearest').values-u10D.uas.values)/(zLevD.zg.sel(plev=85000,method='nearest').values) \n",
    "ushear_ds = xr.Dataset({'ushear': (('time','latitude','longitude'), ushear)}, \n",
    "                       coords={'time': v10D.time,'latitude': v10D.latitude,'longitude': v10D.longitude})\n",
    "ushear_ds.attrs['units']='s-1'\n",
    "ushear_ds.attrs['long_name']='(u10 - u850)/z850'"
   ]
  },
  {
   "cell_type": "code",
   "execution_count": 7,
   "metadata": {},
   "outputs": [],
   "source": [
    "AOData = xr.open_dataset('MPI-ESM1-2-HR-AOindex-NDJF-Daily-1980-2014.nc')\n",
    "\n",
    "AO=AOData.AO\n",
    "#datetimeindex = AO.indexes['time'].to_datetimeindex()#\n",
    "#datetimeindex\n",
    "#AO['time'] = datetimeindex\n",
    "AO.values\n",
    "\n",
    "AO5D=AO.rolling(time=5).mean()\n",
    "\n",
    "AO5DAll=AO5D[((AO5D.time.dt.month>11) | (AO5D.time.dt.month<2)) & \n",
    "             (AO5D.time.dt.year<2020)].sel(time=slice('1980-1-1','2018-12-31'))\n",
    "#ao"
   ]
  },
  {
   "cell_type": "code",
   "execution_count": 8,
   "metadata": {},
   "outputs": [],
   "source": [
    "EUData = xr.open_dataset('MPI-ESM1-2-HR-EUindex-NDJF-Daily-1980-2014.nc')\n",
    "EU=EUData.EU\n",
    "#datetimeindex = EU.indexes['time'].to_datetimeindex()\n",
    "#datetimeindex\n",
    "#EU['time'] = datetimeindex\n",
    "EU.values\n",
    "EU5D=EU.rolling(time=5).mean()\n",
    "\n",
    "EU5DAll=EU5D[((EU5D.time.dt.month>11) | (EU5D.time.dt.month<2)) & \n",
    "             (EU5D.time.dt.year<2020)].sel(time=slice('1980-1-1','2018-12-31'))\n"
   ]
  },
  {
   "cell_type": "code",
   "execution_count": 9,
   "metadata": {},
   "outputs": [],
   "source": [
    "# create mask\n",
    "oro = OroD.z\n",
    "oro.values = OroD.z.values/9.81\n",
    "oro.attrs\n",
    "oro.attrs['units']='meter'\n",
    "oro.attrs['long_name']='Orography'\n",
    "oro.values[oro.values>500.1]=np.NaN\n",
    "mask=oro.values/oro.values"
   ]
  },
  {
   "cell_type": "code",
   "execution_count": 10,
   "metadata": {},
   "outputs": [],
   "source": [
    "# Apply Mask \n",
    "t2mD.tas.values=t2mD.tas.values*mask\n",
    "ws_ds.ws.values=ws_ds.ws.values*mask\n",
    "rh_ds.rh.values=rh_ds.rh.values*mask\n",
    "w700D.wap.values=w700D.wap.values*mask\n",
    "inv_ds.inv.values=inv_ds.inv.values*mask\n",
    "ushear_ds.ushear.values=ushear_ds.ushear.values*mask"
   ]
  },
  {
   "cell_type": "code",
   "execution_count": 11,
   "metadata": {},
   "outputs": [],
   "source": [
    "# Feild mean\n",
    "t2mTS1=t2mD.mean(dim=['latitude','longitude'], skipna=True).tas\n",
    "wsTS1=ws_ds.mean(dim=['latitude','longitude'], skipna=True).ws\n",
    "rhTS1=rh_ds.mean(dim=['latitude','longitude'], skipna=True).rh\n",
    "wTS1=w700D.mean(dim=['latitude','longitude'], skipna=True).wap\n",
    "invTS1=inv_ds.mean(dim=['latitude','longitude'], skipna=True).inv\n",
    "ushearTS1=ushear_ds.mean(dim=['latitude','longitude'], skipna=True).ushear"
   ]
  },
  {
   "cell_type": "raw",
   "metadata": {},
   "source": [
    "datetimeindex = t2mTS1.indexes['time'].to_datetimeindex()\n",
    "t2mTS1['time'] = datetimeindex\n",
    "wsTS1['time'] = datetimeindex\n",
    "rhTS1['time'] = datetimeindex\n",
    "wTS1['time'] = datetimeindex\n",
    "invTS1['time'] = datetimeindex\n",
    "ushearTS1['time'] = datetimeindex"
   ]
  },
  {
   "cell_type": "code",
   "execution_count": 12,
   "metadata": {},
   "outputs": [],
   "source": [
    "# shift one day so we can take values of previous day\n",
    "t2mTS=t2mTS1.shift(time=1)\n",
    "wsTS=wsTS1.shift(time=1)\n",
    "rhTS=rhTS1.shift(time=1)\n",
    "wTS=wTS1.shift(time=1)\n",
    "invTS=invTS1.shift(time=1)\n",
    "ushearTS=ushearTS1.shift(time=1)"
   ]
  },
  {
   "cell_type": "code",
   "execution_count": 13,
   "metadata": {},
   "outputs": [],
   "source": [
    "# Select required time \n",
    "t2m=t2mTS[((t2mTS.time.dt.month>11) | (t2mTS.time.dt.month<2)) & (t2mTS.time.dt.year<2020)].sel(time=slice('1980-1-1','2014-12-31'))\n",
    "ws=wsTS[((wsTS.time.dt.month>11) | (wsTS.time.dt.month<2)) & (wsTS.time.dt.year<2020)].sel(time=slice('1980-1-1','2014-12-31'))\n",
    "inv=invTS[((wsTS.time.dt.month>11) | (wsTS.time.dt.month<2)) & (wsTS.time.dt.year<2020)].sel(time=slice('1980-1-1','2014-12-31'))\n",
    "rh=rhTS[((wsTS.time.dt.month>11) | (wsTS.time.dt.month<2)) & (wsTS.time.dt.year<2020)].sel(time=slice('1980-1-1','2014-12-31'))\n",
    "w=wTS[((wsTS.time.dt.month>11) | (wsTS.time.dt.month<2)) & (wsTS.time.dt.year<2020)].sel(time=slice('1980-1-1','2014-12-31'))\n",
    "ushear=ushearTS[((wsTS.time.dt.month>11) | (wsTS.time.dt.month<2)) & (wsTS.time.dt.year<2020)].sel(time=slice('1980-1-1','2014-12-31'))"
   ]
  },
  {
   "cell_type": "code",
   "execution_count": 14,
   "metadata": {},
   "outputs": [
    {
     "data": {
      "text/html": [
       "<div>\n",
       "<style scoped>\n",
       "    .dataframe tbody tr th:only-of-type {\n",
       "        vertical-align: middle;\n",
       "    }\n",
       "\n",
       "    .dataframe tbody tr th {\n",
       "        vertical-align: top;\n",
       "    }\n",
       "\n",
       "    .dataframe thead th {\n",
       "        text-align: right;\n",
       "    }\n",
       "</style>\n",
       "<table border=\"1\" class=\"dataframe\">\n",
       "  <thead>\n",
       "    <tr style=\"text-align: right;\">\n",
       "      <th></th>\n",
       "      <th>t2m</th>\n",
       "      <th>ws</th>\n",
       "      <th>rh</th>\n",
       "      <th>inv</th>\n",
       "      <th>w</th>\n",
       "      <th>ushear</th>\n",
       "      <th>AO5D</th>\n",
       "      <th>EU5D</th>\n",
       "    </tr>\n",
       "  </thead>\n",
       "  <tbody>\n",
       "    <tr>\n",
       "      <th>count</th>\n",
       "      <td>2170.000000</td>\n",
       "      <td>2170.000000</td>\n",
       "      <td>2170.000000</td>\n",
       "      <td>2170.000000</td>\n",
       "      <td>2170.000000</td>\n",
       "      <td>2170.000000</td>\n",
       "      <td>2170.000000</td>\n",
       "      <td>2170.000000</td>\n",
       "    </tr>\n",
       "    <tr>\n",
       "      <th>mean</th>\n",
       "      <td>287.232439</td>\n",
       "      <td>1.410732</td>\n",
       "      <td>0.496818</td>\n",
       "      <td>2.630077</td>\n",
       "      <td>0.016342</td>\n",
       "      <td>0.059214</td>\n",
       "      <td>0.093349</td>\n",
       "      <td>-0.016323</td>\n",
       "    </tr>\n",
       "    <tr>\n",
       "      <th>std</th>\n",
       "      <td>1.991534</td>\n",
       "      <td>0.487827</td>\n",
       "      <td>0.126959</td>\n",
       "      <td>2.187358</td>\n",
       "      <td>0.093077</td>\n",
       "      <td>0.126125</td>\n",
       "      <td>0.965970</td>\n",
       "      <td>0.602941</td>\n",
       "    </tr>\n",
       "    <tr>\n",
       "      <th>min</th>\n",
       "      <td>277.726562</td>\n",
       "      <td>0.492839</td>\n",
       "      <td>0.189946</td>\n",
       "      <td>-3.911548</td>\n",
       "      <td>-0.533049</td>\n",
       "      <td>-0.401228</td>\n",
       "      <td>-2.957917</td>\n",
       "      <td>-1.770167</td>\n",
       "    </tr>\n",
       "    <tr>\n",
       "      <th>25%</th>\n",
       "      <td>285.944275</td>\n",
       "      <td>1.063231</td>\n",
       "      <td>0.406578</td>\n",
       "      <td>1.127648</td>\n",
       "      <td>-0.035162</td>\n",
       "      <td>-0.022867</td>\n",
       "      <td>-0.525240</td>\n",
       "      <td>-0.455671</td>\n",
       "    </tr>\n",
       "    <tr>\n",
       "      <th>50%</th>\n",
       "      <td>287.276382</td>\n",
       "      <td>1.308085</td>\n",
       "      <td>0.488078</td>\n",
       "      <td>2.737949</td>\n",
       "      <td>0.025924</td>\n",
       "      <td>0.056325</td>\n",
       "      <td>0.070219</td>\n",
       "      <td>-0.008947</td>\n",
       "    </tr>\n",
       "    <tr>\n",
       "      <th>75%</th>\n",
       "      <td>288.576546</td>\n",
       "      <td>1.654369</td>\n",
       "      <td>0.571659</td>\n",
       "      <td>4.308302</td>\n",
       "      <td>0.078360</td>\n",
       "      <td>0.134941</td>\n",
       "      <td>0.712594</td>\n",
       "      <td>0.409346</td>\n",
       "    </tr>\n",
       "    <tr>\n",
       "      <th>max</th>\n",
       "      <td>293.409363</td>\n",
       "      <td>4.565917</td>\n",
       "      <td>0.920332</td>\n",
       "      <td>7.322722</td>\n",
       "      <td>0.317220</td>\n",
       "      <td>0.653336</td>\n",
       "      <td>3.101817</td>\n",
       "      <td>1.619869</td>\n",
       "    </tr>\n",
       "  </tbody>\n",
       "</table>\n",
       "</div>"
      ],
      "text/plain": [
       "               t2m           ws           rh          inv            w  \\\n",
       "count  2170.000000  2170.000000  2170.000000  2170.000000  2170.000000   \n",
       "mean    287.232439     1.410732     0.496818     2.630077     0.016342   \n",
       "std       1.991534     0.487827     0.126959     2.187358     0.093077   \n",
       "min     277.726562     0.492839     0.189946    -3.911548    -0.533049   \n",
       "25%     285.944275     1.063231     0.406578     1.127648    -0.035162   \n",
       "50%     287.276382     1.308085     0.488078     2.737949     0.025924   \n",
       "75%     288.576546     1.654369     0.571659     4.308302     0.078360   \n",
       "max     293.409363     4.565917     0.920332     7.322722     0.317220   \n",
       "\n",
       "            ushear         AO5D         EU5D  \n",
       "count  2170.000000  2170.000000  2170.000000  \n",
       "mean      0.059214     0.093349    -0.016323  \n",
       "std       0.126125     0.965970     0.602941  \n",
       "min      -0.401228    -2.957917    -1.770167  \n",
       "25%      -0.022867    -0.525240    -0.455671  \n",
       "50%       0.056325     0.070219    -0.008947  \n",
       "75%       0.134941     0.712594     0.409346  \n",
       "max       0.653336     3.101817     1.619869  "
      ]
     },
     "execution_count": 14,
     "metadata": {},
     "output_type": "execute_result"
    }
   ],
   "source": [
    "X       = pd.DataFrame([t2m.values,ws.values,rh.values/100.0,inv.values,w.values,ushear.values*100.0,AO5DAll.values,\n",
    "                        EU5DAll.values],\n",
    "                       index=['t2m', 'ws', 'rh','inv', 'w', 'ushear', 'AO5D', 'EU5D']).T[:]\n",
    "X.index = pd.to_datetime(t2m.time.values)\n",
    "X.describe(include='all')"
   ]
  },
  {
   "cell_type": "code",
   "execution_count": 15,
   "metadata": {},
   "outputs": [
    {
     "data": {
      "text/html": [
       "<div>\n",
       "<style scoped>\n",
       "    .dataframe tbody tr th:only-of-type {\n",
       "        vertical-align: middle;\n",
       "    }\n",
       "\n",
       "    .dataframe tbody tr th {\n",
       "        vertical-align: top;\n",
       "    }\n",
       "\n",
       "    .dataframe thead th {\n",
       "        text-align: right;\n",
       "    }\n",
       "</style>\n",
       "<table border=\"1\" class=\"dataframe\">\n",
       "  <thead>\n",
       "    <tr style=\"text-align: right;\">\n",
       "      <th></th>\n",
       "      <th>0</th>\n",
       "      <th>1</th>\n",
       "      <th>2</th>\n",
       "      <th>3</th>\n",
       "      <th>4</th>\n",
       "      <th>5</th>\n",
       "      <th>6</th>\n",
       "      <th>7</th>\n",
       "    </tr>\n",
       "  </thead>\n",
       "  <tbody>\n",
       "    <tr>\n",
       "      <th>count</th>\n",
       "      <td>2170.000000</td>\n",
       "      <td>2170.000000</td>\n",
       "      <td>2170.000000</td>\n",
       "      <td>2170.000000</td>\n",
       "      <td>2170.000000</td>\n",
       "      <td>2170.000000</td>\n",
       "      <td>2170.000000</td>\n",
       "      <td>2170.000000</td>\n",
       "    </tr>\n",
       "    <tr>\n",
       "      <th>mean</th>\n",
       "      <td>-144.259985</td>\n",
       "      <td>-2.892538</td>\n",
       "      <td>-3.914125</td>\n",
       "      <td>-1.202676</td>\n",
       "      <td>-0.175617</td>\n",
       "      <td>-0.469598</td>\n",
       "      <td>-0.096660</td>\n",
       "      <td>0.027078</td>\n",
       "    </tr>\n",
       "    <tr>\n",
       "      <th>std</th>\n",
       "      <td>0.502357</td>\n",
       "      <td>2.050853</td>\n",
       "      <td>7.880198</td>\n",
       "      <td>0.457383</td>\n",
       "      <td>10.748727</td>\n",
       "      <td>7.932296</td>\n",
       "      <td>1.035707</td>\n",
       "      <td>1.659301</td>\n",
       "    </tr>\n",
       "    <tr>\n",
       "      <th>min</th>\n",
       "      <td>-146.657807</td>\n",
       "      <td>-6.751417</td>\n",
       "      <td>-22.961344</td>\n",
       "      <td>-2.570551</td>\n",
       "      <td>-63.620375</td>\n",
       "      <td>-29.427903</td>\n",
       "      <td>-3.368209</td>\n",
       "      <td>-4.799520</td>\n",
       "    </tr>\n",
       "    <tr>\n",
       "      <th>25%</th>\n",
       "      <td>-144.584920</td>\n",
       "      <td>-4.353455</td>\n",
       "      <td>-9.515244</td>\n",
       "      <td>-1.516839</td>\n",
       "      <td>-6.123467</td>\n",
       "      <td>-5.631876</td>\n",
       "      <td>-0.759908</td>\n",
       "      <td>-1.182012</td>\n",
       "    </tr>\n",
       "    <tr>\n",
       "      <th>50%</th>\n",
       "      <td>-144.248900</td>\n",
       "      <td>-3.324072</td>\n",
       "      <td>-4.456660</td>\n",
       "      <td>-1.180120</td>\n",
       "      <td>0.930897</td>\n",
       "      <td>-0.651327</td>\n",
       "      <td>-0.121460</td>\n",
       "      <td>0.047376</td>\n",
       "    </tr>\n",
       "    <tr>\n",
       "      <th>75%</th>\n",
       "      <td>-143.920939</td>\n",
       "      <td>-1.868275</td>\n",
       "      <td>0.731141</td>\n",
       "      <td>-0.851754</td>\n",
       "      <td>6.986302</td>\n",
       "      <td>4.293021</td>\n",
       "      <td>0.567290</td>\n",
       "      <td>1.198524</td>\n",
       "    </tr>\n",
       "    <tr>\n",
       "      <th>max</th>\n",
       "      <td>-142.701879</td>\n",
       "      <td>10.372054</td>\n",
       "      <td>22.372884</td>\n",
       "      <td>-0.221430</td>\n",
       "      <td>34.570303</td>\n",
       "      <td>36.896095</td>\n",
       "      <td>3.128999</td>\n",
       "      <td>4.529894</td>\n",
       "    </tr>\n",
       "  </tbody>\n",
       "</table>\n",
       "</div>"
      ],
      "text/plain": [
       "                 0            1            2            3            4  \\\n",
       "count  2170.000000  2170.000000  2170.000000  2170.000000  2170.000000   \n",
       "mean   -144.259985    -2.892538    -3.914125    -1.202676    -0.175617   \n",
       "std       0.502357     2.050853     7.880198     0.457383    10.748727   \n",
       "min    -146.657807    -6.751417   -22.961344    -2.570551   -63.620375   \n",
       "25%    -144.584920    -4.353455    -9.515244    -1.516839    -6.123467   \n",
       "50%    -144.248900    -3.324072    -4.456660    -1.180120     0.930897   \n",
       "75%    -143.920939    -1.868275     0.731141    -0.851754     6.986302   \n",
       "max    -142.701879    10.372054    22.372884    -0.221430    34.570303   \n",
       "\n",
       "                 5            6            7  \n",
       "count  2170.000000  2170.000000  2170.000000  \n",
       "mean     -0.469598    -0.096660     0.027078  \n",
       "std       7.932296     1.035707     1.659301  \n",
       "min     -29.427903    -3.368209    -4.799520  \n",
       "25%      -5.631876    -0.759908    -1.182012  \n",
       "50%      -0.651327    -0.121460     0.047376  \n",
       "75%       4.293021     0.567290     1.198524  \n",
       "max      36.896095     3.128999     4.529894  "
      ]
     },
     "execution_count": 15,
     "metadata": {},
     "output_type": "execute_result"
    }
   ],
   "source": [
    "norm = StandardScaler().fit(X)\n",
    "    # transform training data\n",
    "X = norm.transform(X)\n",
    "X\n",
    "X = pd.DataFrame(norm.transform(X))\n",
    "X.index = pd.to_datetime(t2m.time.values)\n",
    "X.describe(include='all')"
   ]
  },
  {
   "cell_type": "code",
   "execution_count": 16,
   "metadata": {},
   "outputs": [],
   "source": [
    "regLin=load('../../March2021/Observation_models/LRModel.joblib') "
   ]
  },
  {
   "cell_type": "code",
   "execution_count": 17,
   "metadata": {},
   "outputs": [],
   "source": [
    "yLR=regLin.predict(X)\n",
    "y_predLin_ds=xr.Dataset({'yLR': (('time'), yLR)}, coords={'time': t2m.time})"
   ]
  },
  {
   "cell_type": "code",
   "execution_count": 18,
   "metadata": {},
   "outputs": [
    {
     "data": {
      "text/plain": [
       "['../Model_plots/MPI-ESM1-2-HR-LR-Y.joblib']"
      ]
     },
     "execution_count": 18,
     "metadata": {},
     "output_type": "execute_result"
    }
   ],
   "source": [
    "dump(y_predLin_ds.yLR,'../Model_plots/MPI-ESM1-2-HR-LR-Y.joblib')"
   ]
  },
  {
   "cell_type": "code",
   "execution_count": 19,
   "metadata": {},
   "outputs": [
    {
     "data": {
      "text/plain": [
       "['../Model_plots/MPI-ESM1-2-HR-SVR-Y.joblib']"
      ]
     },
     "execution_count": 19,
     "metadata": {},
     "output_type": "execute_result"
    }
   ],
   "source": [
    "regLin2=load('../../March2021/Observation_models/SVRModel.joblib') \n",
    "yLR=regLin2.predict(X)\n",
    "y_predLin_ds=xr.Dataset({'yLR': (('time'), yLR)}, coords={'time': t2m.time})\n",
    "dump(y_predLin_ds.yLR,'../Model_plots/MPI-ESM1-2-HR-SVR-Y.joblib')"
   ]
  }
 ],
 "metadata": {
  "kernelspec": {
   "display_name": "Python 3",
   "language": "python",
   "name": "python3"
  },
  "language_info": {
   "codemirror_mode": {
    "name": "ipython",
    "version": 3
   },
   "file_extension": ".py",
   "mimetype": "text/x-python",
   "name": "python",
   "nbconvert_exporter": "python",
   "pygments_lexer": "ipython3",
   "version": "3.8.5"
  }
 },
 "nbformat": 4,
 "nbformat_minor": 4
}
