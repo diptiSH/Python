{
 "cells": [
  {
   "cell_type": "code",
   "execution_count": 1,
   "metadata": {},
   "outputs": [],
   "source": [
    "import numpy as np\n",
    "import pandas as pd\n",
    "import xarray as xr\n",
    "from joblib import dump, load\n",
    "from sklearn.model_selection import train_test_split\n",
    "import math as mt\n",
    "from math import e\n",
    "from sklearn.preprocessing import StandardScaler"
   ]
  },
  {
   "cell_type": "code",
   "execution_count": 2,
   "metadata": {},
   "outputs": [],
   "source": [
    "# Read Orography\n",
    "OroData = xr.open_dataset('../../../Data/eraDown/ERA5_2degree_Down/DailyMean/ERA5IGP_Orography.nc')"
   ]
  },
  {
   "cell_type": "code",
   "execution_count": 3,
   "metadata": {},
   "outputs": [],
   "source": [
    "#Surface data\n",
    "t2mData = xr.open_dataset('../../../Data/CMIP6/ESM/historic/tasNHRegrid_NDJFday_IITM-ESM_historical_r1i1p1f1_gn_18500101-20141231.nc')\n",
    "rhData  = xr.open_dataset('../../../Data/CMIP6/ESM/historic/hursNHRegrid_NDJFday_IITM-ESM_historical_r1i1p1f1_gn_18500101-20141231.nc')\n",
    "u10Data = xr.open_dataset('../../../Data/CMIP6/ESM/historic/uasNHRegrid_NDJFday_IITM-ESM_historical_r1i1p1f1_gn_18500101-20141231.nc')\n",
    "v10Data = xr.open_dataset('../../../Data/CMIP6/ESM/historic/vasNHRegrid_NDJFday_IITM-ESM_historical_r1i1p1f1_gn_18500101-20141231.nc')"
   ]
  },
  {
   "cell_type": "code",
   "execution_count": 4,
   "metadata": {},
   "outputs": [],
   "source": [
    "# Level Data\n",
    "tLevData = xr.open_dataset('../../../Data/CMIP6/ESM/historic/taNHRegrid_NDJFday_IITM-ESM_historical_r1i1p1f1_gn_18500101-20141231.nc')\n",
    "zLevData = xr.open_dataset('../../../Data/CMIP6/ESM/historic/zgNHRegrid_NDJFday_IITM-ESM_historical_r1i1p1f1_gn_18500101-20141231.nc')\n",
    "wLevData = xr.open_dataset('../../../Data/CMIP6/ESM/historic/wapNHRegrid_NDJFday_IITM-ESM_historical_r1i1p1f1_gn_18500101-20141231.nc')\n",
    "uLevData = xr.open_dataset('../../../Data/CMIP6/ESM/historic/uaNHRegrid_NDJFday_IITM-ESM_historical_r1i1p1f1_gn_18500101-20141231.nc')"
   ]
  },
  {
   "cell_type": "code",
   "execution_count": 5,
   "metadata": {},
   "outputs": [],
   "source": [
    "t2mD = t2mData.sel(latitude=slice(32,24),longitude=slice(74,86))\n",
    "u10D = u10Data.sel(latitude=slice(32,24),longitude=slice(74,86))\n",
    "v10D = v10Data.sel(latitude=slice(32,24),longitude=slice(74,86))\n",
    "rhD  = rhData.sel(latitude=slice(32,24),longitude=slice(74,86))\n",
    "tLevD = tLevData.sel(latitude=slice(32,24),longitude=slice(74,86))\n",
    "uLevD = uLevData.sel(latitude=slice(32,24),longitude=slice(74,86))\n",
    "w700D = wLevData.sel(latitude=slice(32,24),longitude=slice(74,86)).sel(plev=70000,method='nearest')\n",
    "zLevD = zLevData.sel(latitude=slice(32,24),longitude=slice(74,86))\n",
    "OroD = OroData.sel(latitude=slice(32,24),longitude=slice(74,86))\n",
    "#w700D"
   ]
  },
  {
   "cell_type": "code",
   "execution_count": 6,
   "metadata": {},
   "outputs": [],
   "source": [
    "# Calculate wind speed and relative humidity inv  ushear\n",
    "ws = ((v10D.vas.values**2)+(u10D.uas.values**2))**0.5\n",
    "ws_ds = xr.Dataset({'ws': (('time','latitude','longitude'), ws)},\n",
    "                   coords={'time': v10D.time,'latitude': v10D.latitude,'longitude': v10D.longitude})\n",
    "\n",
    "rh_ds = xr.Dataset({'rh': (('time','latitude','longitude'), rhD.hurs)},\n",
    "                   coords={'time': v10D.time,'latitude': v10D.latitude,'longitude': v10D.longitude})\n",
    "\n",
    "#Calculate inv\n",
    "inv=t2mD.tas.values-tLevD.ta.sel(plev=85000,method='nearest').values\n",
    "inv_ds = xr.Dataset({'inv': (('time','latitude','longitude'), inv)}, \n",
    "                    coords={'time': v10D.time,'latitude': v10D.latitude,'longitude': v10D.longitude})\n",
    "inv_ds.attrs\n",
    "inv_ds.attrs['units']='K'\n",
    "inv_ds.attrs['long_name']='t2m - t850'\n",
    "\n",
    "#u shear calculation\n",
    "ushear=(uLevD.ua.sel(plev=85000,method='nearest').values-u10D.uas.values)/(zLevD.zg.sel(plev=85000,method='nearest').values) \n",
    "ushear_ds = xr.Dataset({'ushear': (('time','latitude','longitude'), ushear)}, \n",
    "                       coords={'time': v10D.time,'latitude': v10D.latitude,'longitude': v10D.longitude})\n",
    "ushear_ds.attrs['units']='s-1'\n",
    "ushear_ds.attrs['long_name']='(u10 - u850)/z850'"
   ]
  },
  {
   "cell_type": "code",
   "execution_count": 7,
   "metadata": {},
   "outputs": [],
   "source": [
    "AOData = xr.open_dataset('IITM-ESM-AOindex-NDJF-Daily-1980-2014.nc')\n",
    "\n",
    "AO=AOData.AO\n",
    "#datetimeindex = AO.indexes['time'].to_datetimeindex()\n",
    "#datetimeindex\n",
    "#AO['time'] = datetimeindex\n",
    "AO.values\n",
    "\n",
    "AO5D=AO.rolling(time=5).mean()\n",
    "\n",
    "AO5DAll=AO5D[((AO5D.time.dt.month>11) | (AO5D.time.dt.month<2)) & \n",
    "             (AO5D.time.dt.year<2020)].sel(time=slice('1980-1-1','2018-12-31'))\n",
    "#ao"
   ]
  },
  {
   "cell_type": "code",
   "execution_count": 8,
   "metadata": {},
   "outputs": [],
   "source": [
    "EUData = xr.open_dataset('IITM-ESM-EUindex-NDJF-Daily-1980-2014.nc')\n",
    "EU=EUData.EU\n",
    "#datetimeindex = EU.indexes['time'].to_datetimeindex()\n",
    "#datetimeindex\n",
    "#EU['time'] = datetimeindex\n",
    "EU.values\n",
    "EU5D=EU.rolling(time=5).mean()\n",
    "\n",
    "EU5DAll=EU5D[((EU5D.time.dt.month>11) | (EU5D.time.dt.month<2)) & \n",
    "             (EU5D.time.dt.year<2020)].sel(time=slice('1980-1-1','2018-12-31'))\n"
   ]
  },
  {
   "cell_type": "code",
   "execution_count": 9,
   "metadata": {},
   "outputs": [],
   "source": [
    "# create mask\n",
    "oro = OroD.z\n",
    "oro.values = OroD.z.values/9.81\n",
    "oro.attrs\n",
    "oro.attrs['units']='meter'\n",
    "oro.attrs['long_name']='Orography'\n",
    "oro.values[oro.values>500.1]=np.NaN\n",
    "mask=oro.values/oro.values"
   ]
  },
  {
   "cell_type": "code",
   "execution_count": 10,
   "metadata": {},
   "outputs": [],
   "source": [
    "# Apply Mask \n",
    "t2mD.tas.values=t2mD.tas.values*mask\n",
    "ws_ds.ws.values=ws_ds.ws.values*mask\n",
    "rh_ds.rh.values=rh_ds.rh.values*mask\n",
    "w700D.wap.values=w700D.wap.values*mask\n",
    "inv_ds.inv.values=inv_ds.inv.values*mask\n",
    "ushear_ds.ushear.values=ushear_ds.ushear.values*mask"
   ]
  },
  {
   "cell_type": "code",
   "execution_count": 11,
   "metadata": {},
   "outputs": [],
   "source": [
    "# Feild mean\n",
    "t2mTS1=t2mD.mean(dim=['latitude','longitude'], skipna=True).tas\n",
    "wsTS1=ws_ds.mean(dim=['latitude','longitude'], skipna=True).ws\n",
    "rhTS1=rh_ds.mean(dim=['latitude','longitude'], skipna=True).rh\n",
    "wTS1=w700D.mean(dim=['latitude','longitude'], skipna=True).wap\n",
    "invTS1=inv_ds.mean(dim=['latitude','longitude'], skipna=True).inv\n",
    "ushearTS1=ushear_ds.mean(dim=['latitude','longitude'], skipna=True).ushear"
   ]
  },
  {
   "cell_type": "code",
   "execution_count": 12,
   "metadata": {},
   "outputs": [],
   "source": [
    "#datetimeindex = t2mTS1.indexes['time'].to_datetimeindex()\n",
    "#t2mTS1['time'] = datetimeindex\n",
    "#wsTS1['time'] = datetimeindex\n",
    "#rhTS1['time'] = datetimeindex\n",
    "#wTS1['time'] = datetimeindex\n",
    "#invTS1['time'] = datetimeindex\n",
    "#ushearTS1['time'] = datetimeindex"
   ]
  },
  {
   "cell_type": "code",
   "execution_count": 13,
   "metadata": {},
   "outputs": [],
   "source": [
    "# shift one day so we can take values of previous day\n",
    "t2mTS=t2mTS1.shift(time=1)\n",
    "wsTS=wsTS1.shift(time=1)\n",
    "rhTS=rhTS1.shift(time=1)\n",
    "wTS=wTS1.shift(time=1)\n",
    "invTS=invTS1.shift(time=1)\n",
    "ushearTS=ushearTS1.shift(time=1)"
   ]
  },
  {
   "cell_type": "code",
   "execution_count": 14,
   "metadata": {},
   "outputs": [],
   "source": [
    "# Select required time \n",
    "t2m=t2mTS[((t2mTS.time.dt.month>11) | (t2mTS.time.dt.month<2)) & (t2mTS.time.dt.year<2020)].sel(time=slice('1980-1-1','2014-12-31'))\n",
    "ws=wsTS[((wsTS.time.dt.month>11) | (wsTS.time.dt.month<2)) & (wsTS.time.dt.year<2020)].sel(time=slice('1980-1-1','2014-12-31'))\n",
    "inv=invTS[((wsTS.time.dt.month>11) | (wsTS.time.dt.month<2)) & (wsTS.time.dt.year<2020)].sel(time=slice('1980-1-1','2014-12-31'))\n",
    "rh=rhTS[((wsTS.time.dt.month>11) | (wsTS.time.dt.month<2)) & (wsTS.time.dt.year<2020)].sel(time=slice('1980-1-1','2014-12-31'))\n",
    "w=wTS[((wsTS.time.dt.month>11) | (wsTS.time.dt.month<2)) & (wsTS.time.dt.year<2020)].sel(time=slice('1980-1-1','2014-12-31'))\n",
    "ushear=ushearTS[((wsTS.time.dt.month>11) | (wsTS.time.dt.month<2)) & (wsTS.time.dt.year<2020)].sel(time=slice('1980-1-1','2014-12-31'))"
   ]
  },
  {
   "cell_type": "code",
   "execution_count": 15,
   "metadata": {},
   "outputs": [
    {
     "data": {
      "text/html": [
       "<div>\n",
       "<style scoped>\n",
       "    .dataframe tbody tr th:only-of-type {\n",
       "        vertical-align: middle;\n",
       "    }\n",
       "\n",
       "    .dataframe tbody tr th {\n",
       "        vertical-align: top;\n",
       "    }\n",
       "\n",
       "    .dataframe thead th {\n",
       "        text-align: right;\n",
       "    }\n",
       "</style>\n",
       "<table border=\"1\" class=\"dataframe\">\n",
       "  <thead>\n",
       "    <tr style=\"text-align: right;\">\n",
       "      <th></th>\n",
       "      <th>t2m</th>\n",
       "      <th>ws</th>\n",
       "      <th>rh</th>\n",
       "      <th>inv</th>\n",
       "      <th>w</th>\n",
       "      <th>ushear</th>\n",
       "      <th>AO5D</th>\n",
       "      <th>EU5D</th>\n",
       "    </tr>\n",
       "  </thead>\n",
       "  <tbody>\n",
       "    <tr>\n",
       "      <th>count</th>\n",
       "      <td>2170.000000</td>\n",
       "      <td>2170.000000</td>\n",
       "      <td>2170.000000</td>\n",
       "      <td>2170.000000</td>\n",
       "      <td>2170.000000</td>\n",
       "      <td>2170.000000</td>\n",
       "      <td>2170.000000</td>\n",
       "      <td>2170.000000</td>\n",
       "    </tr>\n",
       "    <tr>\n",
       "      <th>mean</th>\n",
       "      <td>286.414563</td>\n",
       "      <td>1.667717</td>\n",
       "      <td>0.430048</td>\n",
       "      <td>4.508903</td>\n",
       "      <td>0.005553</td>\n",
       "      <td>0.133769</td>\n",
       "      <td>-0.138423</td>\n",
       "      <td>0.015104</td>\n",
       "    </tr>\n",
       "    <tr>\n",
       "      <th>std</th>\n",
       "      <td>2.250422</td>\n",
       "      <td>0.406617</td>\n",
       "      <td>0.134721</td>\n",
       "      <td>1.151146</td>\n",
       "      <td>0.073720</td>\n",
       "      <td>0.084394</td>\n",
       "      <td>0.892817</td>\n",
       "      <td>0.545051</td>\n",
       "    </tr>\n",
       "    <tr>\n",
       "      <th>min</th>\n",
       "      <td>280.122345</td>\n",
       "      <td>0.483658</td>\n",
       "      <td>0.168903</td>\n",
       "      <td>0.301007</td>\n",
       "      <td>-0.359173</td>\n",
       "      <td>-0.148487</td>\n",
       "      <td>-2.770549</td>\n",
       "      <td>-1.488529</td>\n",
       "    </tr>\n",
       "    <tr>\n",
       "      <th>25%</th>\n",
       "      <td>284.753662</td>\n",
       "      <td>1.382392</td>\n",
       "      <td>0.321469</td>\n",
       "      <td>3.802252</td>\n",
       "      <td>-0.028906</td>\n",
       "      <td>0.080253</td>\n",
       "      <td>-0.761915</td>\n",
       "      <td>-0.385373</td>\n",
       "    </tr>\n",
       "    <tr>\n",
       "      <th>50%</th>\n",
       "      <td>286.430359</td>\n",
       "      <td>1.650569</td>\n",
       "      <td>0.412564</td>\n",
       "      <td>4.672349</td>\n",
       "      <td>0.018008</td>\n",
       "      <td>0.133195</td>\n",
       "      <td>-0.083269</td>\n",
       "      <td>0.011751</td>\n",
       "    </tr>\n",
       "    <tr>\n",
       "      <th>75%</th>\n",
       "      <td>287.990028</td>\n",
       "      <td>1.910301</td>\n",
       "      <td>0.523088</td>\n",
       "      <td>5.396351</td>\n",
       "      <td>0.052084</td>\n",
       "      <td>0.186234</td>\n",
       "      <td>0.492434</td>\n",
       "      <td>0.392092</td>\n",
       "    </tr>\n",
       "    <tr>\n",
       "      <th>max</th>\n",
       "      <td>292.757019</td>\n",
       "      <td>3.927615</td>\n",
       "      <td>0.840322</td>\n",
       "      <td>7.009196</td>\n",
       "      <td>0.229153</td>\n",
       "      <td>0.531272</td>\n",
       "      <td>2.103287</td>\n",
       "      <td>1.580786</td>\n",
       "    </tr>\n",
       "  </tbody>\n",
       "</table>\n",
       "</div>"
      ],
      "text/plain": [
       "               t2m           ws           rh          inv            w  \\\n",
       "count  2170.000000  2170.000000  2170.000000  2170.000000  2170.000000   \n",
       "mean    286.414563     1.667717     0.430048     4.508903     0.005553   \n",
       "std       2.250422     0.406617     0.134721     1.151146     0.073720   \n",
       "min     280.122345     0.483658     0.168903     0.301007    -0.359173   \n",
       "25%     284.753662     1.382392     0.321469     3.802252    -0.028906   \n",
       "50%     286.430359     1.650569     0.412564     4.672349     0.018008   \n",
       "75%     287.990028     1.910301     0.523088     5.396351     0.052084   \n",
       "max     292.757019     3.927615     0.840322     7.009196     0.229153   \n",
       "\n",
       "            ushear         AO5D         EU5D  \n",
       "count  2170.000000  2170.000000  2170.000000  \n",
       "mean      0.133769    -0.138423     0.015104  \n",
       "std       0.084394     0.892817     0.545051  \n",
       "min      -0.148487    -2.770549    -1.488529  \n",
       "25%       0.080253    -0.761915    -0.385373  \n",
       "50%       0.133195    -0.083269     0.011751  \n",
       "75%       0.186234     0.492434     0.392092  \n",
       "max       0.531272     2.103287     1.580786  "
      ]
     },
     "execution_count": 15,
     "metadata": {},
     "output_type": "execute_result"
    }
   ],
   "source": [
    "X       = pd.DataFrame([t2m.values,ws.values,rh.values/100.0,inv.values,w.values,ushear.values*100.0,AO5DAll.values,\n",
    "                        EU5DAll.values],\n",
    "                       index=['t2m', 'ws', 'rh','inv', 'w', 'ushear', 'AO5D', 'EU5D']).T[:]\n",
    "X.index = pd.to_datetime(t2m.time.values)\n",
    "X\n",
    "X.describe(include='all')"
   ]
  },
  {
   "cell_type": "code",
   "execution_count": 16,
   "metadata": {},
   "outputs": [
    {
     "data": {
      "text/html": [
       "<div>\n",
       "<style scoped>\n",
       "    .dataframe tbody tr th:only-of-type {\n",
       "        vertical-align: middle;\n",
       "    }\n",
       "\n",
       "    .dataframe tbody tr th {\n",
       "        vertical-align: top;\n",
       "    }\n",
       "\n",
       "    .dataframe thead th {\n",
       "        text-align: right;\n",
       "    }\n",
       "</style>\n",
       "<table border=\"1\" class=\"dataframe\">\n",
       "  <thead>\n",
       "    <tr style=\"text-align: right;\">\n",
       "      <th></th>\n",
       "      <th>0</th>\n",
       "      <th>1</th>\n",
       "      <th>2</th>\n",
       "      <th>3</th>\n",
       "      <th>4</th>\n",
       "      <th>5</th>\n",
       "      <th>6</th>\n",
       "      <th>7</th>\n",
       "    </tr>\n",
       "  </thead>\n",
       "  <tbody>\n",
       "    <tr>\n",
       "      <th>count</th>\n",
       "      <td>2170.000000</td>\n",
       "      <td>2170.000000</td>\n",
       "      <td>2170.000000</td>\n",
       "      <td>2170.000000</td>\n",
       "      <td>2170.000000</td>\n",
       "      <td>2170.000000</td>\n",
       "      <td>2170.000000</td>\n",
       "      <td>2170.000000</td>\n",
       "    </tr>\n",
       "    <tr>\n",
       "      <th>mean</th>\n",
       "      <td>-127.300824</td>\n",
       "      <td>-4.102392</td>\n",
       "      <td>-3.192884</td>\n",
       "      <td>-3.917783</td>\n",
       "      <td>-0.075339</td>\n",
       "      <td>-1.585419</td>\n",
       "      <td>0.155077</td>\n",
       "      <td>-0.027718</td>\n",
       "    </tr>\n",
       "    <tr>\n",
       "      <th>std</th>\n",
       "      <td>0.444566</td>\n",
       "      <td>2.460452</td>\n",
       "      <td>7.426195</td>\n",
       "      <td>0.869100</td>\n",
       "      <td>13.571048</td>\n",
       "      <td>11.854654</td>\n",
       "      <td>1.120567</td>\n",
       "      <td>1.835538</td>\n",
       "    </tr>\n",
       "    <tr>\n",
       "      <th>min</th>\n",
       "      <td>-128.543838</td>\n",
       "      <td>-11.267174</td>\n",
       "      <td>-17.587961</td>\n",
       "      <td>-7.094687</td>\n",
       "      <td>-67.217190</td>\n",
       "      <td>-41.233324</td>\n",
       "      <td>-3.148484</td>\n",
       "      <td>-5.091428</td>\n",
       "    </tr>\n",
       "    <tr>\n",
       "      <th>25%</th>\n",
       "      <td>-127.628931</td>\n",
       "      <td>-5.828905</td>\n",
       "      <td>-9.178095</td>\n",
       "      <td>-4.451296</td>\n",
       "      <td>-6.418755</td>\n",
       "      <td>-9.102691</td>\n",
       "      <td>-0.627464</td>\n",
       "      <td>-1.376387</td>\n",
       "    </tr>\n",
       "    <tr>\n",
       "      <th>50%</th>\n",
       "      <td>-127.297704</td>\n",
       "      <td>-4.206156</td>\n",
       "      <td>-4.156645</td>\n",
       "      <td>-3.794384</td>\n",
       "      <td>2.217528</td>\n",
       "      <td>-1.665980</td>\n",
       "      <td>0.224300</td>\n",
       "      <td>-0.039011</td>\n",
       "    </tr>\n",
       "    <tr>\n",
       "      <th>75%</th>\n",
       "      <td>-126.989594</td>\n",
       "      <td>-2.634509</td>\n",
       "      <td>1.935736</td>\n",
       "      <td>-3.247773</td>\n",
       "      <td>8.490493</td>\n",
       "      <td>5.784184</td>\n",
       "      <td>0.946860</td>\n",
       "      <td>1.241844</td>\n",
       "    </tr>\n",
       "    <tr>\n",
       "      <th>max</th>\n",
       "      <td>-126.047886</td>\n",
       "      <td>9.572332</td>\n",
       "      <td>19.422620</td>\n",
       "      <td>-2.030097</td>\n",
       "      <td>41.086930</td>\n",
       "      <td>54.251039</td>\n",
       "      <td>2.968631</td>\n",
       "      <td>5.244946</td>\n",
       "    </tr>\n",
       "  </tbody>\n",
       "</table>\n",
       "</div>"
      ],
      "text/plain": [
       "                 0            1            2            3            4  \\\n",
       "count  2170.000000  2170.000000  2170.000000  2170.000000  2170.000000   \n",
       "mean   -127.300824    -4.102392    -3.192884    -3.917783    -0.075339   \n",
       "std       0.444566     2.460452     7.426195     0.869100    13.571048   \n",
       "min    -128.543838   -11.267174   -17.587961    -7.094687   -67.217190   \n",
       "25%    -127.628931    -5.828905    -9.178095    -4.451296    -6.418755   \n",
       "50%    -127.297704    -4.206156    -4.156645    -3.794384     2.217528   \n",
       "75%    -126.989594    -2.634509     1.935736    -3.247773     8.490493   \n",
       "max    -126.047886     9.572332    19.422620    -2.030097    41.086930   \n",
       "\n",
       "                 5            6            7  \n",
       "count  2170.000000  2170.000000  2170.000000  \n",
       "mean     -1.585419     0.155077    -0.027718  \n",
       "std      11.854654     1.120567     1.835538  \n",
       "min     -41.233324    -3.148484    -5.091428  \n",
       "25%      -9.102691    -0.627464    -1.376387  \n",
       "50%      -1.665980     0.224300    -0.039011  \n",
       "75%       5.784184     0.946860     1.241844  \n",
       "max      54.251039     2.968631     5.244946  "
      ]
     },
     "execution_count": 16,
     "metadata": {},
     "output_type": "execute_result"
    }
   ],
   "source": [
    "norm = StandardScaler().fit(X)\n",
    "    # transform training data\n",
    "X = norm.transform(X)\n",
    "X\n",
    "X = pd.DataFrame(norm.transform(X))\n",
    "X.index = pd.to_datetime(t2m.time.values)\n",
    "X\n",
    "X.describe(include='all')"
   ]
  },
  {
   "cell_type": "code",
   "execution_count": 17,
   "metadata": {},
   "outputs": [],
   "source": [
    "regLin=load('../../March2021/Observation_models/LRModel.joblib') "
   ]
  },
  {
   "cell_type": "code",
   "execution_count": 18,
   "metadata": {},
   "outputs": [],
   "source": [
    "yLR=regLin.predict(X)\n",
    "y_predLin_ds=xr.Dataset({'yLR': (('time'), yLR)}, coords={'time': t2m.time})"
   ]
  },
  {
   "cell_type": "code",
   "execution_count": 19,
   "metadata": {},
   "outputs": [
    {
     "data": {
      "text/plain": [
       "['../Model_plots/IITM-ESM-LR-Y.joblib']"
      ]
     },
     "execution_count": 19,
     "metadata": {},
     "output_type": "execute_result"
    }
   ],
   "source": [
    "dump(y_predLin_ds.yLR,'../Model_plots/IITM-ESM-LR-Y.joblib')"
   ]
  },
  {
   "cell_type": "code",
   "execution_count": 20,
   "metadata": {},
   "outputs": [
    {
     "data": {
      "text/plain": [
       "['../Model_plots/IITM-ESM-SVR-Y.joblib']"
      ]
     },
     "execution_count": 20,
     "metadata": {},
     "output_type": "execute_result"
    }
   ],
   "source": [
    "regLin2=load('../../March2021/Observation_models/SVRModel.joblib') \n",
    "yLR=regLin2.predict(X)\n",
    "y_predLin_ds=xr.Dataset({'yLR': (('time'), yLR)}, coords={'time': t2m.time})\n",
    "dump(y_predLin_ds.yLR,'../Model_plots/IITM-ESM-SVR-Y.joblib')"
   ]
  }
 ],
 "metadata": {
  "kernelspec": {
   "display_name": "Python 3",
   "language": "python",
   "name": "python3"
  },
  "language_info": {
   "codemirror_mode": {
    "name": "ipython",
    "version": 3
   },
   "file_extension": ".py",
   "mimetype": "text/x-python",
   "name": "python",
   "nbconvert_exporter": "python",
   "pygments_lexer": "ipython3",
   "version": "3.8.5"
  }
 },
 "nbformat": 4,
 "nbformat_minor": 4
}
