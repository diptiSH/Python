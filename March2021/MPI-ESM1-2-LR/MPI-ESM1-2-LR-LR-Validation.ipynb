{
 "cells": [
  {
   "cell_type": "code",
   "execution_count": 1,
   "metadata": {},
   "outputs": [],
   "source": [
    "import numpy as np\n",
    "import pandas as pd\n",
    "import xarray as xr\n",
    "from joblib import dump, load\n",
    "from sklearn.model_selection import train_test_split\n",
    "import math as mt\n",
    "from math import e\n",
    "from sklearn.preprocessing import StandardScaler"
   ]
  },
  {
   "cell_type": "code",
   "execution_count": 2,
   "metadata": {},
   "outputs": [],
   "source": [
    "# Read Orography\n",
    "OroData = xr.open_dataset('../../../Data/eraDown/ERA5_2degree_Down/DailyMean/ERA5IGP_Orography.nc')"
   ]
  },
  {
   "cell_type": "code",
   "execution_count": 3,
   "metadata": {},
   "outputs": [],
   "source": [
    "#Surface data\n",
    "t2mData = xr.open_dataset('../../../Data/CMIP6/MPI-ESM1-2-LR/processed/Regrid_tas_day_MPI-ESM1-2-LR_historical_r1i1p1f1_gn_18500101-20141231.nc')\n",
    "rhData  = xr.open_dataset('../../../Data/CMIP6/MPI-ESM1-2-LR/processed/Regrid_hurs_day_MPI-ESM1-2-LR_historical_r1i1p1f1_gn_18500101-20141231.nc')\n",
    "u10Data = xr.open_dataset('../../../Data/CMIP6/MPI-ESM1-2-LR/processed/Regrid_uas_day_MPI-ESM1-2-LR_historical_r1i1p1f1_gn_18500101-20141231.nc')\n",
    "v10Data = xr.open_dataset('../../../Data/CMIP6/MPI-ESM1-2-LR/processed/Regrid_vas_day_MPI-ESM1-2-LR_historical_r1i1p1f1_gn_18500101-20141231.nc')"
   ]
  },
  {
   "cell_type": "code",
   "execution_count": 4,
   "metadata": {},
   "outputs": [],
   "source": [
    "# Level Data\n",
    "tLevData = xr.open_dataset('../../../Data/CMIP6/MPI-ESM1-2-LR/processed/Regrid_ta_day_MPI-ESM1-2-LR_historical_r1i1p1f1_gn_18500101-20141231.nc')\n",
    "zLevData = xr.open_dataset('../../../Data/CMIP6/MPI-ESM1-2-LR/processed/Regrid_zg_day_MPI-ESM1-2-LR_historical_r1i1p1f1_gn_18500101-20141231.nc')\n",
    "wLevData = xr.open_dataset('../../../Data/CMIP6/MPI-ESM1-2-LR/processed/Regrid_wap_day_MPI-ESM1-2-LR_historical_r1i1p1f1_gn_18500101-20141231.nc')\n",
    "uLevData = xr.open_dataset('../../../Data/CMIP6/MPI-ESM1-2-LR/processed/Regrid_ua_day_MPI-ESM1-2-LR_historical_r1i1p1f1_gn_18500101-20141231.nc')"
   ]
  },
  {
   "cell_type": "code",
   "execution_count": 5,
   "metadata": {},
   "outputs": [],
   "source": [
    "t2mD = t2mData.sel(latitude=slice(32,24),longitude=slice(74,86))\n",
    "u10D = u10Data.sel(latitude=slice(32,24),longitude=slice(74,86))\n",
    "v10D = v10Data.sel(latitude=slice(32,24),longitude=slice(74,86))\n",
    "rhD  = rhData.sel(latitude=slice(32,24),longitude=slice(74,86))\n",
    "tLevD = tLevData.sel(latitude=slice(32,24),longitude=slice(74,86))\n",
    "uLevD = uLevData.sel(latitude=slice(32,24),longitude=slice(74,86))\n",
    "w700D = wLevData.sel(latitude=slice(32,24),longitude=slice(74,86)).sel(plev=70000,method='nearest')\n",
    "zLevD = zLevData.sel(latitude=slice(32,24),longitude=slice(74,86))\n",
    "OroD = OroData.sel(latitude=slice(32,24),longitude=slice(74,86))\n",
    "#w700D"
   ]
  },
  {
   "cell_type": "code",
   "execution_count": 6,
   "metadata": {},
   "outputs": [],
   "source": [
    "# Calculate wind speed and relative humidity inv  ushear\n",
    "ws = ((v10D.vas.values**2)+(u10D.uas.values**2))**0.5\n",
    "ws_ds = xr.Dataset({'ws': (('time','latitude','longitude'), ws)},\n",
    "                   coords={'time': v10D.time,'latitude': v10D.latitude,'longitude': v10D.longitude})\n",
    "\n",
    "rh_ds = xr.Dataset({'rh': (('time','latitude','longitude'), rhD.hurs)},\n",
    "                   coords={'time': v10D.time,'latitude': v10D.latitude,'longitude': v10D.longitude})\n",
    "\n",
    "#Calculate inv\n",
    "inv=t2mD.tas.values-tLevD.ta.sel(plev=85000,method='nearest').values\n",
    "inv_ds = xr.Dataset({'inv': (('time','latitude','longitude'), inv)}, \n",
    "                    coords={'time': v10D.time,'latitude': v10D.latitude,'longitude': v10D.longitude})\n",
    "inv_ds.attrs\n",
    "inv_ds.attrs['units']='K'\n",
    "inv_ds.attrs['long_name']='t2m - t850'\n",
    "\n",
    "#u shear calculation\n",
    "ushear=(uLevD.ua.sel(plev=85000,method='nearest').values-u10D.uas.values)/(zLevD.zg.sel(plev=85000,method='nearest').values) \n",
    "ushear_ds = xr.Dataset({'ushear': (('time','latitude','longitude'), ushear)}, \n",
    "                       coords={'time': v10D.time,'latitude': v10D.latitude,'longitude': v10D.longitude})\n",
    "ushear_ds.attrs['units']='s-1'\n",
    "ushear_ds.attrs['long_name']='(u10 - u850)/z850'"
   ]
  },
  {
   "cell_type": "code",
   "execution_count": 7,
   "metadata": {},
   "outputs": [],
   "source": [
    "AOData = xr.open_dataset('MPI-ESM1-2-LR-AOindex-NDJF-Daily-1980-2014.nc')\n",
    "\n",
    "AO=AOData.AO\n",
    "#datetimeindex = AO.indexes['time'].to_datetimeindex()#\n",
    "#datetimeindex\n",
    "#AO['time'] = datetimeindex\n",
    "AO.values\n",
    "\n",
    "AO5D=AO.rolling(time=5).mean()\n",
    "\n",
    "AO5DAll=AO5D[((AO5D.time.dt.month>11) | (AO5D.time.dt.month<2)) & \n",
    "             (AO5D.time.dt.year<2020)].sel(time=slice('1980-1-1','2018-12-31'))\n",
    "#ao"
   ]
  },
  {
   "cell_type": "code",
   "execution_count": 8,
   "metadata": {},
   "outputs": [],
   "source": [
    "EUData = xr.open_dataset('MPI-ESM1-2-LR-EUindex-NDJF-Daily-1980-2014.nc')\n",
    "EU=EUData.EU\n",
    "#datetimeindex = EU.indexes['time'].to_datetimeindex()\n",
    "#datetimeindex\n",
    "#EU['time'] = datetimeindex\n",
    "EU.values\n",
    "EU5D=EU.rolling(time=5).mean()\n",
    "\n",
    "EU5DAll=EU5D[((EU5D.time.dt.month>11) | (EU5D.time.dt.month<2)) & \n",
    "             (EU5D.time.dt.year<2020)].sel(time=slice('1980-1-1','2018-12-31'))\n"
   ]
  },
  {
   "cell_type": "code",
   "execution_count": 9,
   "metadata": {},
   "outputs": [],
   "source": [
    "# create mask\n",
    "oro = OroD.z\n",
    "oro.values = OroD.z.values/9.81\n",
    "oro.attrs\n",
    "oro.attrs['units']='meter'\n",
    "oro.attrs['long_name']='Orography'\n",
    "oro.values[oro.values>500.1]=np.NaN\n",
    "mask=oro.values/oro.values"
   ]
  },
  {
   "cell_type": "code",
   "execution_count": 10,
   "metadata": {},
   "outputs": [],
   "source": [
    "# Apply Mask \n",
    "t2mD.tas.values=t2mD.tas.values*mask\n",
    "ws_ds.ws.values=ws_ds.ws.values*mask\n",
    "rh_ds.rh.values=rh_ds.rh.values*mask\n",
    "w700D.wap.values=w700D.wap.values*mask\n",
    "inv_ds.inv.values=inv_ds.inv.values*mask\n",
    "ushear_ds.ushear.values=ushear_ds.ushear.values*mask"
   ]
  },
  {
   "cell_type": "code",
   "execution_count": 11,
   "metadata": {},
   "outputs": [],
   "source": [
    "# Feild mean\n",
    "t2mTS1=t2mD.mean(dim=['latitude','longitude'], skipna=True).tas\n",
    "wsTS1=ws_ds.mean(dim=['latitude','longitude'], skipna=True).ws\n",
    "rhTS1=rh_ds.mean(dim=['latitude','longitude'], skipna=True).rh\n",
    "wTS1=w700D.mean(dim=['latitude','longitude'], skipna=True).wap\n",
    "invTS1=inv_ds.mean(dim=['latitude','longitude'], skipna=True).inv\n",
    "ushearTS1=ushear_ds.mean(dim=['latitude','longitude'], skipna=True).ushear"
   ]
  },
  {
   "cell_type": "raw",
   "metadata": {},
   "source": [
    "datetimeindex = t2mTS1.indexes['time'].to_datetimeindex()\n",
    "t2mTS1['time'] = datetimeindex\n",
    "wsTS1['time'] = datetimeindex\n",
    "rhTS1['time'] = datetimeindex\n",
    "wTS1['time'] = datetimeindex\n",
    "invTS1['time'] = datetimeindex\n",
    "ushearTS1['time'] = datetimeindex"
   ]
  },
  {
   "cell_type": "code",
   "execution_count": 12,
   "metadata": {},
   "outputs": [],
   "source": [
    "# shift one day so we can take values of previous day\n",
    "t2mTS=t2mTS1.shift(time=1)\n",
    "wsTS=wsTS1.shift(time=1)\n",
    "rhTS=rhTS1.shift(time=1)\n",
    "wTS=wTS1.shift(time=1)\n",
    "invTS=invTS1.shift(time=1)\n",
    "ushearTS=ushearTS1.shift(time=1)"
   ]
  },
  {
   "cell_type": "code",
   "execution_count": 13,
   "metadata": {},
   "outputs": [],
   "source": [
    "# Select required time \n",
    "t2m=t2mTS[((t2mTS.time.dt.month>11) | (t2mTS.time.dt.month<2)) & (t2mTS.time.dt.year<2020)].sel(time=slice('1980-1-1','2014-12-31'))\n",
    "ws=wsTS[((wsTS.time.dt.month>11) | (wsTS.time.dt.month<2)) & (wsTS.time.dt.year<2020)].sel(time=slice('1980-1-1','2014-12-31'))\n",
    "inv=invTS[((wsTS.time.dt.month>11) | (wsTS.time.dt.month<2)) & (wsTS.time.dt.year<2020)].sel(time=slice('1980-1-1','2014-12-31'))\n",
    "rh=rhTS[((wsTS.time.dt.month>11) | (wsTS.time.dt.month<2)) & (wsTS.time.dt.year<2020)].sel(time=slice('1980-1-1','2014-12-31'))\n",
    "w=wTS[((wsTS.time.dt.month>11) | (wsTS.time.dt.month<2)) & (wsTS.time.dt.year<2020)].sel(time=slice('1980-1-1','2014-12-31'))\n",
    "ushear=ushearTS[((wsTS.time.dt.month>11) | (wsTS.time.dt.month<2)) & (wsTS.time.dt.year<2020)].sel(time=slice('1980-1-1','2014-12-31'))"
   ]
  },
  {
   "cell_type": "code",
   "execution_count": 14,
   "metadata": {},
   "outputs": [
    {
     "data": {
      "text/html": [
       "<div>\n",
       "<style scoped>\n",
       "    .dataframe tbody tr th:only-of-type {\n",
       "        vertical-align: middle;\n",
       "    }\n",
       "\n",
       "    .dataframe tbody tr th {\n",
       "        vertical-align: top;\n",
       "    }\n",
       "\n",
       "    .dataframe thead th {\n",
       "        text-align: right;\n",
       "    }\n",
       "</style>\n",
       "<table border=\"1\" class=\"dataframe\">\n",
       "  <thead>\n",
       "    <tr style=\"text-align: right;\">\n",
       "      <th></th>\n",
       "      <th>t2m</th>\n",
       "      <th>ws</th>\n",
       "      <th>rh</th>\n",
       "      <th>inv</th>\n",
       "      <th>w</th>\n",
       "      <th>ushear</th>\n",
       "      <th>AO5D</th>\n",
       "      <th>EU5D</th>\n",
       "    </tr>\n",
       "  </thead>\n",
       "  <tbody>\n",
       "    <tr>\n",
       "      <th>count</th>\n",
       "      <td>2170.000000</td>\n",
       "      <td>2170.000000</td>\n",
       "      <td>2170.000000</td>\n",
       "      <td>2170.000000</td>\n",
       "      <td>2170.000000</td>\n",
       "      <td>2170.000000</td>\n",
       "      <td>2170.000000</td>\n",
       "      <td>2170.000000</td>\n",
       "    </tr>\n",
       "    <tr>\n",
       "      <th>mean</th>\n",
       "      <td>286.986919</td>\n",
       "      <td>1.778659</td>\n",
       "      <td>0.463905</td>\n",
       "      <td>3.199970</td>\n",
       "      <td>0.016084</td>\n",
       "      <td>0.032836</td>\n",
       "      <td>-0.063573</td>\n",
       "      <td>-0.033758</td>\n",
       "    </tr>\n",
       "    <tr>\n",
       "      <th>std</th>\n",
       "      <td>2.156770</td>\n",
       "      <td>0.504330</td>\n",
       "      <td>0.124671</td>\n",
       "      <td>1.923724</td>\n",
       "      <td>0.103717</td>\n",
       "      <td>0.115755</td>\n",
       "      <td>0.930857</td>\n",
       "      <td>0.592370</td>\n",
       "    </tr>\n",
       "    <tr>\n",
       "      <th>min</th>\n",
       "      <td>279.506927</td>\n",
       "      <td>0.604827</td>\n",
       "      <td>0.178244</td>\n",
       "      <td>-3.213243</td>\n",
       "      <td>-0.447715</td>\n",
       "      <td>-0.351528</td>\n",
       "      <td>-2.504789</td>\n",
       "      <td>-1.892424</td>\n",
       "    </tr>\n",
       "    <tr>\n",
       "      <th>25%</th>\n",
       "      <td>285.676270</td>\n",
       "      <td>1.429569</td>\n",
       "      <td>0.371191</td>\n",
       "      <td>1.815930</td>\n",
       "      <td>-0.039987</td>\n",
       "      <td>-0.046358</td>\n",
       "      <td>-0.747668</td>\n",
       "      <td>-0.469864</td>\n",
       "    </tr>\n",
       "    <tr>\n",
       "      <th>50%</th>\n",
       "      <td>287.096710</td>\n",
       "      <td>1.693228</td>\n",
       "      <td>0.448470</td>\n",
       "      <td>3.311842</td>\n",
       "      <td>0.030168</td>\n",
       "      <td>0.032021</td>\n",
       "      <td>-0.046287</td>\n",
       "      <td>-0.016551</td>\n",
       "    </tr>\n",
       "    <tr>\n",
       "      <th>75%</th>\n",
       "      <td>288.488281</td>\n",
       "      <td>2.027122</td>\n",
       "      <td>0.538146</td>\n",
       "      <td>4.666699</td>\n",
       "      <td>0.084373</td>\n",
       "      <td>0.104276</td>\n",
       "      <td>0.534930</td>\n",
       "      <td>0.405586</td>\n",
       "    </tr>\n",
       "    <tr>\n",
       "      <th>max</th>\n",
       "      <td>292.566833</td>\n",
       "      <td>4.535131</td>\n",
       "      <td>0.902833</td>\n",
       "      <td>7.286118</td>\n",
       "      <td>0.367549</td>\n",
       "      <td>0.406510</td>\n",
       "      <td>2.843463</td>\n",
       "      <td>1.685801</td>\n",
       "    </tr>\n",
       "  </tbody>\n",
       "</table>\n",
       "</div>"
      ],
      "text/plain": [
       "               t2m           ws           rh          inv            w  \\\n",
       "count  2170.000000  2170.000000  2170.000000  2170.000000  2170.000000   \n",
       "mean    286.986919     1.778659     0.463905     3.199970     0.016084   \n",
       "std       2.156770     0.504330     0.124671     1.923724     0.103717   \n",
       "min     279.506927     0.604827     0.178244    -3.213243    -0.447715   \n",
       "25%     285.676270     1.429569     0.371191     1.815930    -0.039987   \n",
       "50%     287.096710     1.693228     0.448470     3.311842     0.030168   \n",
       "75%     288.488281     2.027122     0.538146     4.666699     0.084373   \n",
       "max     292.566833     4.535131     0.902833     7.286118     0.367549   \n",
       "\n",
       "            ushear         AO5D         EU5D  \n",
       "count  2170.000000  2170.000000  2170.000000  \n",
       "mean      0.032836    -0.063573    -0.033758  \n",
       "std       0.115755     0.930857     0.592370  \n",
       "min      -0.351528    -2.504789    -1.892424  \n",
       "25%      -0.046358    -0.747668    -0.469864  \n",
       "50%       0.032021    -0.046287    -0.016551  \n",
       "75%       0.104276     0.534930     0.405586  \n",
       "max       0.406510     2.843463     1.685801  "
      ]
     },
     "execution_count": 14,
     "metadata": {},
     "output_type": "execute_result"
    }
   ],
   "source": [
    "X       = pd.DataFrame([t2m.values,ws.values,rh.values/100.0,inv.values,w.values,ushear.values*100.0,AO5DAll.values,\n",
    "                        EU5DAll.values],\n",
    "                       index=['t2m', 'ws', 'rh','inv', 'w', 'ushear', 'AO5D', 'EU5D']).T[:]\n",
    "X.index = pd.to_datetime(t2m.time.values)\n",
    "X.describe(include='all')"
   ]
  },
  {
   "cell_type": "code",
   "execution_count": 15,
   "metadata": {},
   "outputs": [
    {
     "data": {
      "text/html": [
       "<div>\n",
       "<style scoped>\n",
       "    .dataframe tbody tr th:only-of-type {\n",
       "        vertical-align: middle;\n",
       "    }\n",
       "\n",
       "    .dataframe tbody tr th {\n",
       "        vertical-align: top;\n",
       "    }\n",
       "\n",
       "    .dataframe thead th {\n",
       "        text-align: right;\n",
       "    }\n",
       "</style>\n",
       "<table border=\"1\" class=\"dataframe\">\n",
       "  <thead>\n",
       "    <tr style=\"text-align: right;\">\n",
       "      <th></th>\n",
       "      <th>0</th>\n",
       "      <th>1</th>\n",
       "      <th>2</th>\n",
       "      <th>3</th>\n",
       "      <th>4</th>\n",
       "      <th>5</th>\n",
       "      <th>6</th>\n",
       "      <th>7</th>\n",
       "    </tr>\n",
       "  </thead>\n",
       "  <tbody>\n",
       "    <tr>\n",
       "      <th>count</th>\n",
       "      <td>2170.000000</td>\n",
       "      <td>2170.000000</td>\n",
       "      <td>2170.000000</td>\n",
       "      <td>2170.000000</td>\n",
       "      <td>2170.000000</td>\n",
       "      <td>2170.000000</td>\n",
       "      <td>2170.000000</td>\n",
       "      <td>2170.000000</td>\n",
       "    </tr>\n",
       "    <tr>\n",
       "      <th>mean</th>\n",
       "      <td>-133.093968</td>\n",
       "      <td>-3.527585</td>\n",
       "      <td>-3.721895</td>\n",
       "      <td>-1.663808</td>\n",
       "      <td>-0.155109</td>\n",
       "      <td>-0.283729</td>\n",
       "      <td>0.068311</td>\n",
       "      <td>0.057002</td>\n",
       "    </tr>\n",
       "    <tr>\n",
       "      <th>std</th>\n",
       "      <td>0.463870</td>\n",
       "      <td>1.983741</td>\n",
       "      <td>8.024820</td>\n",
       "      <td>0.520065</td>\n",
       "      <td>9.646087</td>\n",
       "      <td>8.642882</td>\n",
       "      <td>1.074774</td>\n",
       "      <td>1.688912</td>\n",
       "    </tr>\n",
       "    <tr>\n",
       "      <th>min</th>\n",
       "      <td>-134.702736</td>\n",
       "      <td>-8.144752</td>\n",
       "      <td>-22.109337</td>\n",
       "      <td>-3.397574</td>\n",
       "      <td>-43.290318</td>\n",
       "      <td>-28.982263</td>\n",
       "      <td>-2.750332</td>\n",
       "      <td>-5.242257</td>\n",
       "    </tr>\n",
       "    <tr>\n",
       "      <th>25%</th>\n",
       "      <td>-133.375857</td>\n",
       "      <td>-4.900702</td>\n",
       "      <td>-9.689713</td>\n",
       "      <td>-2.037973</td>\n",
       "      <td>-5.369955</td>\n",
       "      <td>-6.196689</td>\n",
       "      <td>-0.721549</td>\n",
       "      <td>-1.186383</td>\n",
       "    </tr>\n",
       "    <tr>\n",
       "      <th>50%</th>\n",
       "      <td>-133.070354</td>\n",
       "      <td>-3.863618</td>\n",
       "      <td>-4.715383</td>\n",
       "      <td>-1.633564</td>\n",
       "      <td>1.154803</td>\n",
       "      <td>-0.344584</td>\n",
       "      <td>0.088270</td>\n",
       "      <td>0.106061</td>\n",
       "    </tr>\n",
       "    <tr>\n",
       "      <th>75%</th>\n",
       "      <td>-132.771060</td>\n",
       "      <td>-2.550276</td>\n",
       "      <td>1.056849</td>\n",
       "      <td>-1.267289</td>\n",
       "      <td>6.196120</td>\n",
       "      <td>5.050375</td>\n",
       "      <td>0.759347</td>\n",
       "      <td>1.309619</td>\n",
       "    </tr>\n",
       "    <tr>\n",
       "      <th>max</th>\n",
       "      <td>-131.893860</td>\n",
       "      <td>7.314762</td>\n",
       "      <td>24.531026</td>\n",
       "      <td>-0.559148</td>\n",
       "      <td>32.532571</td>\n",
       "      <td>27.616627</td>\n",
       "      <td>3.424794</td>\n",
       "      <td>4.959653</td>\n",
       "    </tr>\n",
       "  </tbody>\n",
       "</table>\n",
       "</div>"
      ],
      "text/plain": [
       "                 0            1            2            3            4  \\\n",
       "count  2170.000000  2170.000000  2170.000000  2170.000000  2170.000000   \n",
       "mean   -133.093968    -3.527585    -3.721895    -1.663808    -0.155109   \n",
       "std       0.463870     1.983741     8.024820     0.520065     9.646087   \n",
       "min    -134.702736    -8.144752   -22.109337    -3.397574   -43.290318   \n",
       "25%    -133.375857    -4.900702    -9.689713    -2.037973    -5.369955   \n",
       "50%    -133.070354    -3.863618    -4.715383    -1.633564     1.154803   \n",
       "75%    -132.771060    -2.550276     1.056849    -1.267289     6.196120   \n",
       "max    -131.893860     7.314762    24.531026    -0.559148    32.532571   \n",
       "\n",
       "                 5            6            7  \n",
       "count  2170.000000  2170.000000  2170.000000  \n",
       "mean     -0.283729     0.068311     0.057002  \n",
       "std       8.642882     1.074774     1.688912  \n",
       "min     -28.982263    -2.750332    -5.242257  \n",
       "25%      -6.196689    -0.721549    -1.186383  \n",
       "50%      -0.344584     0.088270     0.106061  \n",
       "75%       5.050375     0.759347     1.309619  \n",
       "max      27.616627     3.424794     4.959653  "
      ]
     },
     "execution_count": 15,
     "metadata": {},
     "output_type": "execute_result"
    }
   ],
   "source": [
    "norm = StandardScaler().fit(X)\n",
    "    # transform training data\n",
    "X = norm.transform(X)\n",
    "X\n",
    "X = pd.DataFrame(norm.transform(X))\n",
    "X.index = pd.to_datetime(t2m.time.values)\n",
    "X.describe(include='all')"
   ]
  },
  {
   "cell_type": "code",
   "execution_count": 16,
   "metadata": {},
   "outputs": [],
   "source": [
    "regLin=load('../../March2021/Observation_models/LRModel.joblib') "
   ]
  },
  {
   "cell_type": "code",
   "execution_count": 17,
   "metadata": {},
   "outputs": [],
   "source": [
    "yLR=regLin.predict(X)\n",
    "y_predLin_ds=xr.Dataset({'yLR': (('time'), yLR)}, coords={'time': t2m.time})"
   ]
  },
  {
   "cell_type": "code",
   "execution_count": 18,
   "metadata": {},
   "outputs": [
    {
     "data": {
      "text/plain": [
       "['../Model_plots/MPI-ESM1-2-LR-LR-Y.joblib']"
      ]
     },
     "execution_count": 18,
     "metadata": {},
     "output_type": "execute_result"
    }
   ],
   "source": [
    "dump(y_predLin_ds.yLR,'../Model_plots/MPI-ESM1-2-LR-LR-Y.joblib')"
   ]
  },
  {
   "cell_type": "code",
   "execution_count": 19,
   "metadata": {},
   "outputs": [
    {
     "data": {
      "text/plain": [
       "['../Model_plots/MPI-ESM1-2-LR-SVR-Y.joblib']"
      ]
     },
     "execution_count": 19,
     "metadata": {},
     "output_type": "execute_result"
    }
   ],
   "source": [
    "regLin2=load('../../March2021/Observation_models/SVRModel.joblib') \n",
    "yLR=regLin2.predict(X)\n",
    "y_predLin_ds=xr.Dataset({'yLR': (('time'), yLR)}, coords={'time': t2m.time})\n",
    "dump(y_predLin_ds.yLR,'../Model_plots/MPI-ESM1-2-LR-SVR-Y.joblib')"
   ]
  }
 ],
 "metadata": {
  "kernelspec": {
   "display_name": "Python 3",
   "language": "python",
   "name": "python3"
  },
  "language_info": {
   "codemirror_mode": {
    "name": "ipython",
    "version": 3
   },
   "file_extension": ".py",
   "mimetype": "text/x-python",
   "name": "python",
   "nbconvert_exporter": "python",
   "pygments_lexer": "ipython3",
   "version": "3.8.5"
  }
 },
 "nbformat": 4,
 "nbformat_minor": 4
}
