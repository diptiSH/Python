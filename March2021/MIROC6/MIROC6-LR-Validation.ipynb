{
 "cells": [
  {
   "cell_type": "code",
   "execution_count": 1,
   "metadata": {},
   "outputs": [],
   "source": [
    "import numpy as np\n",
    "import pandas as pd\n",
    "import xarray as xr\n",
    "from joblib import dump, load\n",
    "from sklearn.model_selection import train_test_split\n",
    "import math as mt\n",
    "from math import e\n",
    "from sklearn.preprocessing import StandardScaler"
   ]
  },
  {
   "cell_type": "code",
   "execution_count": 2,
   "metadata": {},
   "outputs": [],
   "source": [
    "# Read Orography\n",
    "OroData = xr.open_dataset('../../../Data/eraDown/ERA5_2degree_Down/DailyMean/ERA5IGP_Orography.nc')"
   ]
  },
  {
   "cell_type": "code",
   "execution_count": 3,
   "metadata": {},
   "outputs": [],
   "source": [
    "#Surface data\n",
    "t2mData = xr.open_dataset('../../../Data/CMIP6/MIROC6/tasNHRegrid_NDJFday_MIROC6_historical_r1i1p1f1_gn_18500101-20141231.nc')\n",
    "rhData  = xr.open_dataset('../../../Data/CMIP6/MIROC6/hursNHRegrid_NDJFday_MIROC6_historical_r1i1p1f1_gn_18500101-20141231.nc')\n",
    "u10Data = xr.open_dataset('../../../Data/CMIP6/MIROC6/uasNHRegrid_NDJFday_MIROC6_historical_r1i1p1f1_gn_18500101-20141231.nc')\n",
    "v10Data = xr.open_dataset('../../../Data/CMIP6/MIROC6/vasNHRegrid_NDJFday_MIROC6_historical_r1i1p1f1_gn_18500101-20141231.nc')\n"
   ]
  },
  {
   "cell_type": "code",
   "execution_count": 4,
   "metadata": {},
   "outputs": [],
   "source": [
    "# Level Data\n",
    "tLevData = xr.open_dataset('../../../Data/CMIP6/MIROC6/taNHRegrid_NDJFday_MIROC6_historical_r1i1p1f1_gn_18500101-20141231.nc')\n",
    "zLevData = xr.open_dataset('../../../Data/CMIP6/MIROC6/zgNHRegrid_NDJFday_MIROC6_historical_r1i1p1f1_gn_18500101-20141231.nc')\n",
    "wLevData = xr.open_dataset('../../../Data/CMIP6/MIROC6/wapNHRegrid_NDJFday_MIROC6_historical_r1i1p1f1_gn_18500101-20141231.nc')\n",
    "uLevData = xr.open_dataset('../../../Data/CMIP6/MIROC6/uaNHRegrid_NDJFday_MIROC6_historical_r1i1p1f1_gn_18500101-20141231.nc')"
   ]
  },
  {
   "cell_type": "code",
   "execution_count": 5,
   "metadata": {},
   "outputs": [],
   "source": [
    "t2mD = t2mData.sel(latitude=slice(32,24),longitude=slice(74,86))\n",
    "u10D = u10Data.sel(latitude=slice(32,24),longitude=slice(74,86))\n",
    "v10D = v10Data.sel(latitude=slice(32,24),longitude=slice(74,86))\n",
    "rhD  = rhData.sel(latitude=slice(32,24),longitude=slice(74,86))\n",
    "tLevD = tLevData.sel(latitude=slice(32,24),longitude=slice(74,86))\n",
    "uLevD = uLevData.sel(latitude=slice(32,24),longitude=slice(74,86))\n",
    "w700D = wLevData.sel(latitude=slice(32,24),longitude=slice(74,86)).sel(plev=70000,method='nearest')\n",
    "zLevD = zLevData.sel(latitude=slice(32,24),longitude=slice(74,86))\n",
    "OroD = OroData.sel(latitude=slice(32,24),longitude=slice(74,86))\n",
    "#w700D"
   ]
  },
  {
   "cell_type": "code",
   "execution_count": 6,
   "metadata": {},
   "outputs": [],
   "source": [
    "# Calculate wind speed and relative humidity inv  ushear\n",
    "ws = ((v10D.vas.values**2)+(u10D.uas.values**2))**0.5\n",
    "ws_ds = xr.Dataset({'ws': (('time','latitude','longitude'), ws)},\n",
    "                   coords={'time': v10D.time,'latitude': v10D.latitude,'longitude': v10D.longitude})\n",
    "\n",
    "rh_ds = xr.Dataset({'rh': (('time','latitude','longitude'), rhD.hurs)},\n",
    "                   coords={'time': v10D.time,'latitude': v10D.latitude,'longitude': v10D.longitude})\n",
    "\n",
    "#Calculate inv\n",
    "inv=t2mD.tas.values-tLevD.ta.sel(plev=85000,method='nearest').values\n",
    "inv_ds = xr.Dataset({'inv': (('time','latitude','longitude'), inv)}, \n",
    "                    coords={'time': v10D.time,'latitude': v10D.latitude,'longitude': v10D.longitude})\n",
    "inv_ds.attrs\n",
    "inv_ds.attrs['units']='K'\n",
    "inv_ds.attrs['long_name']='t2m - t850'\n",
    "\n",
    "#u shear calculation\n",
    "ushear=(uLevD.ua.sel(plev=85000,method='nearest').values-u10D.uas.values)/(zLevD.zg.sel(plev=85000,method='nearest').values) \n",
    "ushear_ds = xr.Dataset({'ushear': (('time','latitude','longitude'), ushear)}, \n",
    "                       coords={'time': v10D.time,'latitude': v10D.latitude,'longitude': v10D.longitude})\n",
    "ushear_ds.attrs['units']='s-1'\n",
    "ushear_ds.attrs['long_name']='(u10 - u850)/z850'"
   ]
  },
  {
   "cell_type": "code",
   "execution_count": 7,
   "metadata": {},
   "outputs": [],
   "source": [
    "AOData = xr.open_dataset('MIROC6-AOindex-NDJF-Daily-1980-2014.nc')\n",
    "\n",
    "AO=AOData.AO\n",
    "#datetimeindex = AO.indexes['time'].to_datetimeindex()#\n",
    "#datetimeindex\n",
    "#AO['time'] = datetimeindex\n",
    "AO.values\n",
    "\n",
    "AO5D=AO.rolling(time=5).mean()\n",
    "\n",
    "AO5DAll=AO5D[((AO5D.time.dt.month>11) | (AO5D.time.dt.month<2)) & \n",
    "             (AO5D.time.dt.year<2020)].sel(time=slice('1980-1-1','2018-12-31'))\n",
    "#ao"
   ]
  },
  {
   "cell_type": "code",
   "execution_count": 8,
   "metadata": {},
   "outputs": [],
   "source": [
    "EUData = xr.open_dataset('MIROC6-EUindex-NDJF-Daily-1980-2014.nc')\n",
    "EU=EUData.EU\n",
    "#datetimeindex = EU.indexes['time'].to_datetimeindex()\n",
    "#datetimeindex\n",
    "#EU['time'] = datetimeindex\n",
    "EU.values\n",
    "EU5D=EU.rolling(time=5).mean()\n",
    "\n",
    "EU5DAll=EU5D[((EU5D.time.dt.month>11) | (EU5D.time.dt.month<2)) & \n",
    "             (EU5D.time.dt.year<2020)].sel(time=slice('1980-1-1','2018-12-31'))\n"
   ]
  },
  {
   "cell_type": "code",
   "execution_count": 9,
   "metadata": {},
   "outputs": [],
   "source": [
    "# create mask\n",
    "oro = OroD.z\n",
    "oro.values = OroD.z.values/9.81\n",
    "oro.attrs\n",
    "oro.attrs['units']='meter'\n",
    "oro.attrs['long_name']='Orography'\n",
    "oro.values[oro.values>500.1]=np.NaN\n",
    "mask=oro.values/oro.values"
   ]
  },
  {
   "cell_type": "code",
   "execution_count": 10,
   "metadata": {},
   "outputs": [],
   "source": [
    "# Apply Mask \n",
    "t2mD.tas.values=t2mD.tas.values*mask\n",
    "ws_ds.ws.values=ws_ds.ws.values*mask\n",
    "rh_ds.rh.values=rh_ds.rh.values*mask\n",
    "w700D.wap.values=w700D.wap.values*mask\n",
    "inv_ds.inv.values=inv_ds.inv.values*mask\n",
    "ushear_ds.ushear.values=ushear_ds.ushear.values*mask"
   ]
  },
  {
   "cell_type": "code",
   "execution_count": 11,
   "metadata": {},
   "outputs": [],
   "source": [
    "# Feild mean\n",
    "t2mTS1=t2mD.mean(dim=['latitude','longitude'], skipna=True).tas\n",
    "wsTS1=ws_ds.mean(dim=['latitude','longitude'], skipna=True).ws\n",
    "rhTS1=rh_ds.mean(dim=['latitude','longitude'], skipna=True).rh\n",
    "wTS1=w700D.mean(dim=['latitude','longitude'], skipna=True).wap\n",
    "invTS1=inv_ds.mean(dim=['latitude','longitude'], skipna=True).inv\n",
    "ushearTS1=ushear_ds.mean(dim=['latitude','longitude'], skipna=True).ushear"
   ]
  },
  {
   "cell_type": "raw",
   "metadata": {},
   "source": [
    "datetimeindex = t2mTS1.indexes['time'].to_datetimeindex()\n",
    "t2mTS1['time'] = datetimeindex\n",
    "wsTS1['time'] = datetimeindex\n",
    "rhTS1['time'] = datetimeindex\n",
    "wTS1['time'] = datetimeindex\n",
    "invTS1['time'] = datetimeindex\n",
    "ushearTS1['time'] = datetimeindex"
   ]
  },
  {
   "cell_type": "code",
   "execution_count": 12,
   "metadata": {},
   "outputs": [],
   "source": [
    "# shift one day so we can take values of previous day\n",
    "t2mTS=t2mTS1.shift(time=1)\n",
    "wsTS=wsTS1.shift(time=1)\n",
    "rhTS=rhTS1.shift(time=1)\n",
    "wTS=wTS1.shift(time=1)\n",
    "invTS=invTS1.shift(time=1)\n",
    "ushearTS=ushearTS1.shift(time=1)"
   ]
  },
  {
   "cell_type": "code",
   "execution_count": 13,
   "metadata": {},
   "outputs": [],
   "source": [
    "# Select required time \n",
    "t2m=t2mTS[((t2mTS.time.dt.month>11) | (t2mTS.time.dt.month<2)) & (t2mTS.time.dt.year<2020)].sel(time=slice('1980-1-1','2014-12-31'))\n",
    "ws=wsTS[((wsTS.time.dt.month>11) | (wsTS.time.dt.month<2)) & (wsTS.time.dt.year<2020)].sel(time=slice('1980-1-1','2014-12-31'))\n",
    "inv=invTS[((wsTS.time.dt.month>11) | (wsTS.time.dt.month<2)) & (wsTS.time.dt.year<2020)].sel(time=slice('1980-1-1','2014-12-31'))\n",
    "rh=rhTS[((wsTS.time.dt.month>11) | (wsTS.time.dt.month<2)) & (wsTS.time.dt.year<2020)].sel(time=slice('1980-1-1','2014-12-31'))\n",
    "w=wTS[((wsTS.time.dt.month>11) | (wsTS.time.dt.month<2)) & (wsTS.time.dt.year<2020)].sel(time=slice('1980-1-1','2014-12-31'))\n",
    "ushear=ushearTS[((wsTS.time.dt.month>11) | (wsTS.time.dt.month<2)) & (wsTS.time.dt.year<2020)].sel(time=slice('1980-1-1','2014-12-31'))"
   ]
  },
  {
   "cell_type": "code",
   "execution_count": 14,
   "metadata": {},
   "outputs": [
    {
     "data": {
      "text/html": [
       "<div>\n",
       "<style scoped>\n",
       "    .dataframe tbody tr th:only-of-type {\n",
       "        vertical-align: middle;\n",
       "    }\n",
       "\n",
       "    .dataframe tbody tr th {\n",
       "        vertical-align: top;\n",
       "    }\n",
       "\n",
       "    .dataframe thead th {\n",
       "        text-align: right;\n",
       "    }\n",
       "</style>\n",
       "<table border=\"1\" class=\"dataframe\">\n",
       "  <thead>\n",
       "    <tr style=\"text-align: right;\">\n",
       "      <th></th>\n",
       "      <th>t2m</th>\n",
       "      <th>ws</th>\n",
       "      <th>rh</th>\n",
       "      <th>inv</th>\n",
       "      <th>w</th>\n",
       "      <th>ushear</th>\n",
       "      <th>AO5D</th>\n",
       "      <th>EU5D</th>\n",
       "    </tr>\n",
       "  </thead>\n",
       "  <tbody>\n",
       "    <tr>\n",
       "      <th>count</th>\n",
       "      <td>2170.000000</td>\n",
       "      <td>2170.000000</td>\n",
       "      <td>2170.000000</td>\n",
       "      <td>2170.000000</td>\n",
       "      <td>2170.000000</td>\n",
       "      <td>2170.000000</td>\n",
       "      <td>2170.000000</td>\n",
       "      <td>2170.000000</td>\n",
       "    </tr>\n",
       "    <tr>\n",
       "      <th>mean</th>\n",
       "      <td>291.046909</td>\n",
       "      <td>1.347635</td>\n",
       "      <td>0.341624</td>\n",
       "      <td>6.482689</td>\n",
       "      <td>0.034536</td>\n",
       "      <td>0.094668</td>\n",
       "      <td>0.062032</td>\n",
       "      <td>-0.027935</td>\n",
       "    </tr>\n",
       "    <tr>\n",
       "      <th>std</th>\n",
       "      <td>2.112291</td>\n",
       "      <td>0.454813</td>\n",
       "      <td>0.111280</td>\n",
       "      <td>0.954333</td>\n",
       "      <td>0.078101</td>\n",
       "      <td>0.115322</td>\n",
       "      <td>0.998374</td>\n",
       "      <td>0.569681</td>\n",
       "    </tr>\n",
       "    <tr>\n",
       "      <th>min</th>\n",
       "      <td>284.061432</td>\n",
       "      <td>0.411126</td>\n",
       "      <td>0.116601</td>\n",
       "      <td>1.887170</td>\n",
       "      <td>-0.369412</td>\n",
       "      <td>-0.335652</td>\n",
       "      <td>-3.403053</td>\n",
       "      <td>-1.700168</td>\n",
       "    </tr>\n",
       "    <tr>\n",
       "      <th>25%</th>\n",
       "      <td>289.615669</td>\n",
       "      <td>1.033683</td>\n",
       "      <td>0.264722</td>\n",
       "      <td>5.987456</td>\n",
       "      <td>-0.000247</td>\n",
       "      <td>0.019445</td>\n",
       "      <td>-0.606389</td>\n",
       "      <td>-0.428672</td>\n",
       "    </tr>\n",
       "    <tr>\n",
       "      <th>50%</th>\n",
       "      <td>291.097870</td>\n",
       "      <td>1.260156</td>\n",
       "      <td>0.317668</td>\n",
       "      <td>6.558190</td>\n",
       "      <td>0.043149</td>\n",
       "      <td>0.095671</td>\n",
       "      <td>0.119816</td>\n",
       "      <td>-0.027952</td>\n",
       "    </tr>\n",
       "    <tr>\n",
       "      <th>75%</th>\n",
       "      <td>292.544327</td>\n",
       "      <td>1.573884</td>\n",
       "      <td>0.393941</td>\n",
       "      <td>7.101623</td>\n",
       "      <td>0.082365</td>\n",
       "      <td>0.168105</td>\n",
       "      <td>0.781874</td>\n",
       "      <td>0.370362</td>\n",
       "    </tr>\n",
       "    <tr>\n",
       "      <th>max</th>\n",
       "      <td>297.227936</td>\n",
       "      <td>5.448400</td>\n",
       "      <td>0.771439</td>\n",
       "      <td>9.269017</td>\n",
       "      <td>0.287407</td>\n",
       "      <td>0.623184</td>\n",
       "      <td>2.550519</td>\n",
       "      <td>1.757498</td>\n",
       "    </tr>\n",
       "  </tbody>\n",
       "</table>\n",
       "</div>"
      ],
      "text/plain": [
       "               t2m           ws           rh          inv            w  \\\n",
       "count  2170.000000  2170.000000  2170.000000  2170.000000  2170.000000   \n",
       "mean    291.046909     1.347635     0.341624     6.482689     0.034536   \n",
       "std       2.112291     0.454813     0.111280     0.954333     0.078101   \n",
       "min     284.061432     0.411126     0.116601     1.887170    -0.369412   \n",
       "25%     289.615669     1.033683     0.264722     5.987456    -0.000247   \n",
       "50%     291.097870     1.260156     0.317668     6.558190     0.043149   \n",
       "75%     292.544327     1.573884     0.393941     7.101623     0.082365   \n",
       "max     297.227936     5.448400     0.771439     9.269017     0.287407   \n",
       "\n",
       "            ushear         AO5D         EU5D  \n",
       "count  2170.000000  2170.000000  2170.000000  \n",
       "mean      0.094668     0.062032    -0.027935  \n",
       "std       0.115322     0.998374     0.569681  \n",
       "min      -0.335652    -3.403053    -1.700168  \n",
       "25%       0.019445    -0.606389    -0.428672  \n",
       "50%       0.095671     0.119816    -0.027952  \n",
       "75%       0.168105     0.781874     0.370362  \n",
       "max       0.623184     2.550519     1.757498  "
      ]
     },
     "execution_count": 14,
     "metadata": {},
     "output_type": "execute_result"
    }
   ],
   "source": [
    "X       = pd.DataFrame([t2m.values,ws.values,rh.values/100.0,inv.values,w.values,ushear.values*100.0,AO5DAll.values,\n",
    "                        EU5DAll.values],\n",
    "                       index=['t2m', 'ws', 'rh','inv', 'w', 'ushear', 'AO5D', 'EU5D']).T[:]\n",
    "X.index = pd.to_datetime(t2m.time.values)\n",
    "X.describe(include='all')"
   ]
  },
  {
   "cell_type": "code",
   "execution_count": 15,
   "metadata": {},
   "outputs": [
    {
     "data": {
      "text/html": [
       "<div>\n",
       "<style scoped>\n",
       "    .dataframe tbody tr th:only-of-type {\n",
       "        vertical-align: middle;\n",
       "    }\n",
       "\n",
       "    .dataframe tbody tr th {\n",
       "        vertical-align: top;\n",
       "    }\n",
       "\n",
       "    .dataframe thead th {\n",
       "        text-align: right;\n",
       "    }\n",
       "</style>\n",
       "<table border=\"1\" class=\"dataframe\">\n",
       "  <thead>\n",
       "    <tr style=\"text-align: right;\">\n",
       "      <th></th>\n",
       "      <th>0</th>\n",
       "      <th>1</th>\n",
       "      <th>2</th>\n",
       "      <th>3</th>\n",
       "      <th>4</th>\n",
       "      <th>5</th>\n",
       "      <th>6</th>\n",
       "      <th>7</th>\n",
       "    </tr>\n",
       "  </thead>\n",
       "  <tbody>\n",
       "    <tr>\n",
       "      <th>count</th>\n",
       "      <td>2170.000000</td>\n",
       "      <td>2170.000000</td>\n",
       "      <td>2170.000000</td>\n",
       "      <td>2170.000000</td>\n",
       "      <td>2170.000000</td>\n",
       "      <td>2170.000000</td>\n",
       "      <td>2170.000000</td>\n",
       "      <td>2170.000000</td>\n",
       "    </tr>\n",
       "    <tr>\n",
       "      <th>mean</th>\n",
       "      <td>-137.819045</td>\n",
       "      <td>-2.963737</td>\n",
       "      <td>-3.070650</td>\n",
       "      <td>-6.794465</td>\n",
       "      <td>-0.442301</td>\n",
       "      <td>-0.821094</td>\n",
       "      <td>-0.062147</td>\n",
       "      <td>0.049048</td>\n",
       "    </tr>\n",
       "    <tr>\n",
       "      <th>std</th>\n",
       "      <td>0.473638</td>\n",
       "      <td>2.199721</td>\n",
       "      <td>8.990458</td>\n",
       "      <td>1.048335</td>\n",
       "      <td>12.809859</td>\n",
       "      <td>8.675373</td>\n",
       "      <td>1.002091</td>\n",
       "      <td>1.756177</td>\n",
       "    </tr>\n",
       "    <tr>\n",
       "      <th>min</th>\n",
       "      <td>-139.385394</td>\n",
       "      <td>-7.493204</td>\n",
       "      <td>-21.250546</td>\n",
       "      <td>-11.842642</td>\n",
       "      <td>-66.696542</td>\n",
       "      <td>-33.192974</td>\n",
       "      <td>-3.540132</td>\n",
       "      <td>-5.106009</td>\n",
       "    </tr>\n",
       "    <tr>\n",
       "      <th>25%</th>\n",
       "      <td>-138.139971</td>\n",
       "      <td>-4.482179</td>\n",
       "      <td>-9.283664</td>\n",
       "      <td>-7.338478</td>\n",
       "      <td>-6.147343</td>\n",
       "      <td>-6.479984</td>\n",
       "      <td>-0.733056</td>\n",
       "      <td>-1.186318</td>\n",
       "    </tr>\n",
       "    <tr>\n",
       "      <th>50%</th>\n",
       "      <td>-137.807618</td>\n",
       "      <td>-3.386832</td>\n",
       "      <td>-5.006082</td>\n",
       "      <td>-6.711527</td>\n",
       "      <td>0.970338</td>\n",
       "      <td>-0.745683</td>\n",
       "      <td>-0.004148</td>\n",
       "      <td>0.048995</td>\n",
       "    </tr>\n",
       "    <tr>\n",
       "      <th>75%</th>\n",
       "      <td>-137.483280</td>\n",
       "      <td>-1.869475</td>\n",
       "      <td>1.156048</td>\n",
       "      <td>-6.114566</td>\n",
       "      <td>7.402359</td>\n",
       "      <td>4.703356</td>\n",
       "      <td>0.660374</td>\n",
       "      <td>1.276894</td>\n",
       "    </tr>\n",
       "    <tr>\n",
       "      <th>max</th>\n",
       "      <td>-136.433077</td>\n",
       "      <td>16.869779</td>\n",
       "      <td>31.654572</td>\n",
       "      <td>-3.733684</td>\n",
       "      <td>41.032820</td>\n",
       "      <td>38.937760</td>\n",
       "      <td>2.435604</td>\n",
       "      <td>5.553068</td>\n",
       "    </tr>\n",
       "  </tbody>\n",
       "</table>\n",
       "</div>"
      ],
      "text/plain": [
       "                 0            1            2            3            4  \\\n",
       "count  2170.000000  2170.000000  2170.000000  2170.000000  2170.000000   \n",
       "mean   -137.819045    -2.963737    -3.070650    -6.794465    -0.442301   \n",
       "std       0.473638     2.199721     8.990458     1.048335    12.809859   \n",
       "min    -139.385394    -7.493204   -21.250546   -11.842642   -66.696542   \n",
       "25%    -138.139971    -4.482179    -9.283664    -7.338478    -6.147343   \n",
       "50%    -137.807618    -3.386832    -5.006082    -6.711527     0.970338   \n",
       "75%    -137.483280    -1.869475     1.156048    -6.114566     7.402359   \n",
       "max    -136.433077    16.869779    31.654572    -3.733684    41.032820   \n",
       "\n",
       "                 5            6            7  \n",
       "count  2170.000000  2170.000000  2170.000000  \n",
       "mean     -0.821094    -0.062147     0.049048  \n",
       "std       8.675373     1.002091     1.756177  \n",
       "min     -33.192974    -3.540132    -5.106009  \n",
       "25%      -6.479984    -0.733056    -1.186318  \n",
       "50%      -0.745683    -0.004148     0.048995  \n",
       "75%       4.703356     0.660374     1.276894  \n",
       "max      38.937760     2.435604     5.553068  "
      ]
     },
     "execution_count": 15,
     "metadata": {},
     "output_type": "execute_result"
    }
   ],
   "source": [
    "norm = StandardScaler().fit(X)\n",
    "    # transform training data\n",
    "X = norm.transform(X)\n",
    "X\n",
    "X = pd.DataFrame(norm.transform(X))\n",
    "X.index = pd.to_datetime(t2m.time.values)\n",
    "X.describe(include='all')"
   ]
  },
  {
   "cell_type": "code",
   "execution_count": 16,
   "metadata": {},
   "outputs": [],
   "source": [
    "regLin=load('../../March2021/Observation_models/LRModel.joblib') "
   ]
  },
  {
   "cell_type": "code",
   "execution_count": 17,
   "metadata": {},
   "outputs": [],
   "source": [
    "yLR=regLin.predict(X)\n",
    "y_predLin_ds=xr.Dataset({'yLR': (('time'), yLR)}, coords={'time': t2m.time})"
   ]
  },
  {
   "cell_type": "code",
   "execution_count": 18,
   "metadata": {},
   "outputs": [
    {
     "data": {
      "text/plain": [
       "['../Model_plots/MIROC6-LR-Y.joblib']"
      ]
     },
     "execution_count": 18,
     "metadata": {},
     "output_type": "execute_result"
    }
   ],
   "source": [
    "dump(y_predLin_ds.yLR,'../Model_plots/MIROC6-LR-Y.joblib')"
   ]
  },
  {
   "cell_type": "code",
   "execution_count": 19,
   "metadata": {},
   "outputs": [
    {
     "data": {
      "text/plain": [
       "['../Model_plots/MIROC6-SVR-Y.joblib']"
      ]
     },
     "execution_count": 19,
     "metadata": {},
     "output_type": "execute_result"
    }
   ],
   "source": [
    "regLin2=load('../../March2021/Observation_models/SVRModel.joblib') \n",
    "yLR=regLin2.predict(X)\n",
    "y_predLin_ds=xr.Dataset({'yLR': (('time'), yLR)}, coords={'time': t2m.time})\n",
    "dump(y_predLin_ds.yLR,'../Model_plots/MIROC6-SVR-Y.joblib')"
   ]
  },
  {
   "cell_type": "code",
   "execution_count": null,
   "metadata": {},
   "outputs": [],
   "source": []
  }
 ],
 "metadata": {
  "kernelspec": {
   "display_name": "Python 3",
   "language": "python",
   "name": "python3"
  },
  "language_info": {
   "codemirror_mode": {
    "name": "ipython",
    "version": 3
   },
   "file_extension": ".py",
   "mimetype": "text/x-python",
   "name": "python",
   "nbconvert_exporter": "python",
   "pygments_lexer": "ipython3",
   "version": "3.8.5"
  }
 },
 "nbformat": 4,
 "nbformat_minor": 4
}
