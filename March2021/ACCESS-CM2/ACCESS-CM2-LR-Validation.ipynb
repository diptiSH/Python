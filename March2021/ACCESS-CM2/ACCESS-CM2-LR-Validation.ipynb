{
 "cells": [
  {
   "cell_type": "code",
   "execution_count": 2,
   "metadata": {},
   "outputs": [],
   "source": [
    "import numpy as np\n",
    "import pandas as pd\n",
    "import xarray as xr\n",
    "from joblib import dump, load\n",
    "from sklearn.model_selection import train_test_split\n",
    "import math as mt\n",
    "from math import e\n",
    "from sklearn.preprocessing import StandardScaler"
   ]
  },
  {
   "cell_type": "code",
   "execution_count": 3,
   "metadata": {},
   "outputs": [],
   "source": [
    "# Read Orography\n",
    "OroData = xr.open_dataset('../../../Data/eraDown/ERA5_2degree_Down/DailyMean/ERA5IGP_Orography.nc')"
   ]
  },
  {
   "cell_type": "code",
   "execution_count": 4,
   "metadata": {},
   "outputs": [],
   "source": [
    "#Surface data\n",
    "t2mData = xr.open_dataset('../../../Data/CMIP6/ACCESS-CM2/tasNHRegrid_NDJFday_ACCESS-CM2_historical_r1i1p1f1_gn_19500101-20141231.nc')\n",
    "rhData  = xr.open_dataset('../../../Data/CMIP6/ACCESS-CM2/hursNHRegrid_NDJFday_ACCESS-CM2_historical_r1i1p1f1_gn_19500101-20141231.nc')\n",
    "u10Data = xr.open_dataset('../../../Data/CMIP6/ACCESS-CM2/uasNHRegrid_NDJFday_ACCESS-CM2_historical_r1i1p1f1_gn_19500101-20141231.nc')\n",
    "v10Data = xr.open_dataset('../../../Data/CMIP6/ACCESS-CM2/vasNHRegrid_NDJFday_ACCESS-CM2_historical_r1i1p1f1_gn_19500101-20141231.nc')\n"
   ]
  },
  {
   "cell_type": "code",
   "execution_count": 5,
   "metadata": {},
   "outputs": [],
   "source": [
    "# Level Data\n",
    "tLevData = xr.open_dataset('../../../Data/CMIP6/ACCESS-CM2/taNHRegrid_NDJFday_ACCESS-CM2_historical_r1i1p1f1_gn_19500101-20141231.nc')\n",
    "zLevData = xr.open_dataset('../../../Data/CMIP6/ACCESS-CM2/zgNHRegrid_NDJFday_ACCESS-CM2_historical_r1i1p1f1_gn_19500101-20141231.nc')\n",
    "wLevData = xr.open_dataset('../../../Data/CMIP6/ACCESS-CM2/wapNHRegrid_NDJFday_ACCESS-CM2_historical_r1i1p1f1_gn_19500101-20141231.nc')\n",
    "uLevData = xr.open_dataset('../../../Data/CMIP6/ACCESS-CM2/uaNHRegrid_NDJFday_ACCESS-CM2_historical_r1i1p1f1_gn_19500101-20141231.nc')"
   ]
  },
  {
   "cell_type": "code",
   "execution_count": 6,
   "metadata": {},
   "outputs": [],
   "source": [
    "t2mD = t2mData.sel(latitude=slice(32,24),longitude=slice(74,86))\n",
    "u10D = u10Data.sel(latitude=slice(32,24),longitude=slice(74,86))\n",
    "v10D = v10Data.sel(latitude=slice(32,24),longitude=slice(74,86))\n",
    "rhD  = rhData.sel(latitude=slice(32,24),longitude=slice(74,86))\n",
    "tLevD = tLevData.sel(latitude=slice(32,24),longitude=slice(74,86))\n",
    "uLevD = uLevData.sel(latitude=slice(32,24),longitude=slice(74,86))\n",
    "w700D = wLevData.sel(latitude=slice(32,24),longitude=slice(74,86)).sel(plev=70000,method='nearest')\n",
    "zLevD = zLevData.sel(latitude=slice(32,24),longitude=slice(74,86))\n",
    "OroD = OroData.sel(latitude=slice(32,24),longitude=slice(74,86))\n",
    "#w700D"
   ]
  },
  {
   "cell_type": "code",
   "execution_count": 7,
   "metadata": {},
   "outputs": [],
   "source": [
    "# Calculate wind speed and relative humidity inv  ushear\n",
    "ws = ((v10D.vas.values**2)+(u10D.uas.values**2))**0.5\n",
    "ws_ds = xr.Dataset({'ws': (('time','latitude','longitude'), ws)},\n",
    "                   coords={'time': v10D.time,'latitude': v10D.latitude,'longitude': v10D.longitude})\n",
    "\n",
    "rh_ds = xr.Dataset({'rh': (('time','latitude','longitude'), rhD.hurs)},\n",
    "                   coords={'time': v10D.time,'latitude': v10D.latitude,'longitude': v10D.longitude})\n",
    "\n",
    "#Calculate inv\n",
    "inv=t2mD.tas.values-tLevD.ta.sel(plev=85000,method='nearest').values\n",
    "inv_ds = xr.Dataset({'inv': (('time','latitude','longitude'), inv)}, \n",
    "                    coords={'time': v10D.time,'latitude': v10D.latitude,'longitude': v10D.longitude})\n",
    "inv_ds.attrs\n",
    "inv_ds.attrs['units']='K'\n",
    "inv_ds.attrs['long_name']='t2m - t850'\n",
    "\n",
    "#u shear calculation\n",
    "ushear=(uLevD.ua.sel(plev=85000,method='nearest').values-u10D.uas.values)/(zLevD.zg.sel(plev=85000,method='nearest').values) \n",
    "ushear_ds = xr.Dataset({'ushear': (('time','latitude','longitude'), ushear)}, \n",
    "                       coords={'time': v10D.time,'latitude': v10D.latitude,'longitude': v10D.longitude})\n",
    "ushear_ds.attrs['units']='s-1'\n",
    "ushear_ds.attrs['long_name']='(u10 - u850)/z850'"
   ]
  },
  {
   "cell_type": "code",
   "execution_count": 8,
   "metadata": {},
   "outputs": [],
   "source": [
    "AOData = xr.open_dataset('ACCESS-CM2-AOindex-NDJF-Daily-1980-2014.nc')\n",
    "AO5D=AOData.AO.rolling(time=5).mean()\n",
    "\n",
    "AO5DAll=AO5D[((AO5D.time.dt.month>11) | (AO5D.time.dt.month<2)) & \n",
    "             (AO5D.time.dt.year<2020)].sel(time=slice('1980-1-1','2018-12-31'))\n",
    "#ao"
   ]
  },
  {
   "cell_type": "code",
   "execution_count": 9,
   "metadata": {},
   "outputs": [],
   "source": [
    "EUData = xr.open_dataset('ACCESS-CM2-EUindex-NDJF-Daily-1980-2014.nc')\n",
    "EU5D=EUData.EU.rolling(time=5).mean()\n",
    "\n",
    "EU5DAll=EU5D[((EU5D.time.dt.month>11) | (EU5D.time.dt.month<2)) & \n",
    "             (EU5D.time.dt.year<2020)].sel(time=slice('1980-1-1','2018-12-31'))\n"
   ]
  },
  {
   "cell_type": "code",
   "execution_count": 10,
   "metadata": {},
   "outputs": [],
   "source": [
    "# create mask\n",
    "oro = OroD.z\n",
    "oro.values = OroD.z.values/9.81\n",
    "oro.attrs\n",
    "oro.attrs['units']='meter'\n",
    "oro.attrs['long_name']='Orography'\n",
    "oro.values[oro.values>500.1]=np.NaN\n",
    "mask=oro.values/oro.values"
   ]
  },
  {
   "cell_type": "code",
   "execution_count": 11,
   "metadata": {},
   "outputs": [],
   "source": [
    "# Apply Mask \n",
    "t2mD.tas.values=t2mD.tas.values*mask\n",
    "ws_ds.ws.values=ws_ds.ws.values*mask\n",
    "rh_ds.rh.values=rh_ds.rh.values*mask\n",
    "w700D.wap.values=w700D.wap.values*mask\n",
    "inv_ds.inv.values=inv_ds.inv.values*mask\n",
    "ushear_ds.ushear.values=ushear_ds.ushear.values*mask"
   ]
  },
  {
   "cell_type": "code",
   "execution_count": 12,
   "metadata": {},
   "outputs": [],
   "source": [
    "# Feild mean\n",
    "t2mTS1=t2mD.mean(dim=['latitude','longitude'], skipna=True).tas\n",
    "wsTS1=ws_ds.mean(dim=['latitude','longitude'], skipna=True).ws\n",
    "rhTS1=rh_ds.mean(dim=['latitude','longitude'], skipna=True).rh\n",
    "wTS1=w700D.mean(dim=['latitude','longitude'], skipna=True).wap\n",
    "invTS1=inv_ds.mean(dim=['latitude','longitude'], skipna=True).inv\n",
    "ushearTS1=ushear_ds.mean(dim=['latitude','longitude'], skipna=True).ushear"
   ]
  },
  {
   "cell_type": "code",
   "execution_count": 13,
   "metadata": {},
   "outputs": [],
   "source": [
    "# shift one day so we can take values of previous day\n",
    "t2mTS=t2mTS1.shift(time=1)\n",
    "wsTS=wsTS1.shift(time=1)\n",
    "rhTS=rhTS1.shift(time=1)\n",
    "wTS=wTS1.shift(time=1)\n",
    "invTS=invTS1.shift(time=1)\n",
    "ushearTS=ushearTS1.shift(time=1)"
   ]
  },
  {
   "cell_type": "code",
   "execution_count": 14,
   "metadata": {},
   "outputs": [],
   "source": [
    "# Select required time \n",
    "t2m=t2mTS[((t2mTS.time.dt.month>11) | (t2mTS.time.dt.month<2)) & (t2mTS.time.dt.year<2020)].sel(time=slice('1980-1-1','2014-12-31'))\n",
    "ws=wsTS[((wsTS.time.dt.month>11) | (wsTS.time.dt.month<2)) & (wsTS.time.dt.year<2020)].sel(time=slice('1980-1-1','2014-12-31'))\n",
    "inv=invTS[((wsTS.time.dt.month>11) | (wsTS.time.dt.month<2)) & (wsTS.time.dt.year<2020)].sel(time=slice('1980-1-1','2014-12-31'))\n",
    "rh=rhTS[((wsTS.time.dt.month>11) | (wsTS.time.dt.month<2)) & (wsTS.time.dt.year<2020)].sel(time=slice('1980-1-1','2014-12-31'))\n",
    "w=wTS[((wsTS.time.dt.month>11) | (wsTS.time.dt.month<2)) & (wsTS.time.dt.year<2020)].sel(time=slice('1980-1-1','2014-12-31'))\n",
    "ushear=ushearTS[((wsTS.time.dt.month>11) | (wsTS.time.dt.month<2)) & (wsTS.time.dt.year<2020)].sel(time=slice('1980-1-1','2014-12-31'))"
   ]
  },
  {
   "cell_type": "code",
   "execution_count": 15,
   "metadata": {},
   "outputs": [
    {
     "data": {
      "text/html": [
       "<div>\n",
       "<style scoped>\n",
       "    .dataframe tbody tr th:only-of-type {\n",
       "        vertical-align: middle;\n",
       "    }\n",
       "\n",
       "    .dataframe tbody tr th {\n",
       "        vertical-align: top;\n",
       "    }\n",
       "\n",
       "    .dataframe thead th {\n",
       "        text-align: right;\n",
       "    }\n",
       "</style>\n",
       "<table border=\"1\" class=\"dataframe\">\n",
       "  <thead>\n",
       "    <tr style=\"text-align: right;\">\n",
       "      <th></th>\n",
       "      <th>t2m</th>\n",
       "      <th>ws</th>\n",
       "      <th>rh</th>\n",
       "      <th>inv</th>\n",
       "      <th>w</th>\n",
       "      <th>ushear</th>\n",
       "      <th>AO5D</th>\n",
       "      <th>EU5D</th>\n",
       "    </tr>\n",
       "  </thead>\n",
       "  <tbody>\n",
       "    <tr>\n",
       "      <th>count</th>\n",
       "      <td>2170.000000</td>\n",
       "      <td>2170.000000</td>\n",
       "      <td>2170.000000</td>\n",
       "      <td>2170.000000</td>\n",
       "      <td>2170.000000</td>\n",
       "      <td>2170.000000</td>\n",
       "      <td>2170.000000</td>\n",
       "      <td>2170.000000</td>\n",
       "    </tr>\n",
       "    <tr>\n",
       "      <th>mean</th>\n",
       "      <td>288.542541</td>\n",
       "      <td>1.216049</td>\n",
       "      <td>0.524149</td>\n",
       "      <td>2.860578</td>\n",
       "      <td>0.011511</td>\n",
       "      <td>0.145055</td>\n",
       "      <td>0.052820</td>\n",
       "      <td>-0.030743</td>\n",
       "    </tr>\n",
       "    <tr>\n",
       "      <th>std</th>\n",
       "      <td>2.033577</td>\n",
       "      <td>0.376660</td>\n",
       "      <td>0.150194</td>\n",
       "      <td>1.577638</td>\n",
       "      <td>0.097219</td>\n",
       "      <td>0.121128</td>\n",
       "      <td>1.019916</td>\n",
       "      <td>0.566579</td>\n",
       "    </tr>\n",
       "    <tr>\n",
       "      <th>min</th>\n",
       "      <td>281.933624</td>\n",
       "      <td>0.446215</td>\n",
       "      <td>0.165345</td>\n",
       "      <td>-4.763562</td>\n",
       "      <td>-0.453197</td>\n",
       "      <td>-0.331755</td>\n",
       "      <td>-2.880800</td>\n",
       "      <td>-1.761969</td>\n",
       "    </tr>\n",
       "    <tr>\n",
       "      <th>25%</th>\n",
       "      <td>287.235466</td>\n",
       "      <td>0.941786</td>\n",
       "      <td>0.404413</td>\n",
       "      <td>1.795293</td>\n",
       "      <td>-0.036699</td>\n",
       "      <td>0.067823</td>\n",
       "      <td>-0.723142</td>\n",
       "      <td>-0.399858</td>\n",
       "    </tr>\n",
       "    <tr>\n",
       "      <th>50%</th>\n",
       "      <td>288.632401</td>\n",
       "      <td>1.170480</td>\n",
       "      <td>0.513271</td>\n",
       "      <td>2.904227</td>\n",
       "      <td>0.027308</td>\n",
       "      <td>0.150432</td>\n",
       "      <td>0.074470</td>\n",
       "      <td>0.001088</td>\n",
       "    </tr>\n",
       "    <tr>\n",
       "      <th>75%</th>\n",
       "      <td>289.865646</td>\n",
       "      <td>1.436326</td>\n",
       "      <td>0.640370</td>\n",
       "      <td>3.985495</td>\n",
       "      <td>0.074067</td>\n",
       "      <td>0.226875</td>\n",
       "      <td>0.837952</td>\n",
       "      <td>0.354670</td>\n",
       "    </tr>\n",
       "    <tr>\n",
       "      <th>max</th>\n",
       "      <td>294.130615</td>\n",
       "      <td>3.104255</td>\n",
       "      <td>0.920271</td>\n",
       "      <td>7.273778</td>\n",
       "      <td>0.303052</td>\n",
       "      <td>0.538976</td>\n",
       "      <td>2.636928</td>\n",
       "      <td>1.408751</td>\n",
       "    </tr>\n",
       "  </tbody>\n",
       "</table>\n",
       "</div>"
      ],
      "text/plain": [
       "               t2m           ws           rh          inv            w  \\\n",
       "count  2170.000000  2170.000000  2170.000000  2170.000000  2170.000000   \n",
       "mean    288.542541     1.216049     0.524149     2.860578     0.011511   \n",
       "std       2.033577     0.376660     0.150194     1.577638     0.097219   \n",
       "min     281.933624     0.446215     0.165345    -4.763562    -0.453197   \n",
       "25%     287.235466     0.941786     0.404413     1.795293    -0.036699   \n",
       "50%     288.632401     1.170480     0.513271     2.904227     0.027308   \n",
       "75%     289.865646     1.436326     0.640370     3.985495     0.074067   \n",
       "max     294.130615     3.104255     0.920271     7.273778     0.303052   \n",
       "\n",
       "            ushear         AO5D         EU5D  \n",
       "count  2170.000000  2170.000000  2170.000000  \n",
       "mean      0.145055     0.052820    -0.030743  \n",
       "std       0.121128     1.019916     0.566579  \n",
       "min      -0.331755    -2.880800    -1.761969  \n",
       "25%       0.067823    -0.723142    -0.399858  \n",
       "50%       0.150432     0.074470     0.001088  \n",
       "75%       0.226875     0.837952     0.354670  \n",
       "max       0.538976     2.636928     1.408751  "
      ]
     },
     "execution_count": 15,
     "metadata": {},
     "output_type": "execute_result"
    }
   ],
   "source": [
    "X       = pd.DataFrame([t2m.values,ws.values,rh.values/100.0,inv.values,w.values,ushear.values*100.0,AO5DAll.values,\n",
    "                        EU5DAll.values],\n",
    "                       index=['t2m', 'ws', 'rh','inv', 'w', 'ushear', 'AO5D', 'EU5D']).T[:]\n",
    "X.index = pd.to_datetime(t2m.time.values)\n",
    "X\n",
    "X.describe(include='all')"
   ]
  },
  {
   "cell_type": "code",
   "execution_count": 16,
   "metadata": {},
   "outputs": [
    {
     "data": {
      "text/html": [
       "<div>\n",
       "<style scoped>\n",
       "    .dataframe tbody tr th:only-of-type {\n",
       "        vertical-align: middle;\n",
       "    }\n",
       "\n",
       "    .dataframe tbody tr th {\n",
       "        vertical-align: top;\n",
       "    }\n",
       "\n",
       "    .dataframe thead th {\n",
       "        text-align: right;\n",
       "    }\n",
       "</style>\n",
       "<table border=\"1\" class=\"dataframe\">\n",
       "  <thead>\n",
       "    <tr style=\"text-align: right;\">\n",
       "      <th></th>\n",
       "      <th>0</th>\n",
       "      <th>1</th>\n",
       "      <th>2</th>\n",
       "      <th>3</th>\n",
       "      <th>4</th>\n",
       "      <th>5</th>\n",
       "      <th>6</th>\n",
       "      <th>7</th>\n",
       "    </tr>\n",
       "  </thead>\n",
       "  <tbody>\n",
       "    <tr>\n",
       "      <th>count</th>\n",
       "      <td>2170.000000</td>\n",
       "      <td>2170.000000</td>\n",
       "      <td>2170.000000</td>\n",
       "      <td>2170.000000</td>\n",
       "      <td>2170.000000</td>\n",
       "      <td>2170.000000</td>\n",
       "      <td>2170.000000</td>\n",
       "      <td>2170.000000</td>\n",
       "    </tr>\n",
       "    <tr>\n",
       "      <th>mean</th>\n",
       "      <td>-141.921869</td>\n",
       "      <td>-3.229253</td>\n",
       "      <td>-3.490617</td>\n",
       "      <td>-1.813621</td>\n",
       "      <td>-0.118432</td>\n",
       "      <td>-1.197806</td>\n",
       "      <td>-0.051801</td>\n",
       "      <td>0.054274</td>\n",
       "    </tr>\n",
       "    <tr>\n",
       "      <th>std</th>\n",
       "      <td>0.491971</td>\n",
       "      <td>2.656140</td>\n",
       "      <td>6.661118</td>\n",
       "      <td>0.634151</td>\n",
       "      <td>10.290762</td>\n",
       "      <td>8.259508</td>\n",
       "      <td>0.980925</td>\n",
       "      <td>1.765794</td>\n",
       "    </tr>\n",
       "    <tr>\n",
       "      <th>min</th>\n",
       "      <td>-143.520725</td>\n",
       "      <td>-8.657992</td>\n",
       "      <td>-19.403595</td>\n",
       "      <td>-4.878239</td>\n",
       "      <td>-49.308249</td>\n",
       "      <td>-33.710553</td>\n",
       "      <td>-2.873270</td>\n",
       "      <td>-5.341247</td>\n",
       "    </tr>\n",
       "    <tr>\n",
       "      <th>25%</th>\n",
       "      <td>-142.238082</td>\n",
       "      <td>-5.163312</td>\n",
       "      <td>-8.800951</td>\n",
       "      <td>-2.241825</td>\n",
       "      <td>-5.221535</td>\n",
       "      <td>-6.464089</td>\n",
       "      <td>-0.798099</td>\n",
       "      <td>-1.096107</td>\n",
       "    </tr>\n",
       "    <tr>\n",
       "      <th>50%</th>\n",
       "      <td>-141.900130</td>\n",
       "      <td>-3.550596</td>\n",
       "      <td>-3.973087</td>\n",
       "      <td>-1.796076</td>\n",
       "      <td>1.553664</td>\n",
       "      <td>-0.831149</td>\n",
       "      <td>-0.030979</td>\n",
       "      <td>0.153477</td>\n",
       "    </tr>\n",
       "    <tr>\n",
       "      <th>75%</th>\n",
       "      <td>-141.601778</td>\n",
       "      <td>-1.675898</td>\n",
       "      <td>1.663769</td>\n",
       "      <td>-1.361447</td>\n",
       "      <td>6.503107</td>\n",
       "      <td>4.381313</td>\n",
       "      <td>0.703315</td>\n",
       "      <td>1.255449</td>\n",
       "    </tr>\n",
       "    <tr>\n",
       "      <th>max</th>\n",
       "      <td>-140.569980</td>\n",
       "      <td>10.086051</td>\n",
       "      <td>14.077374</td>\n",
       "      <td>-0.039681</td>\n",
       "      <td>30.741405</td>\n",
       "      <td>25.662890</td>\n",
       "      <td>2.433518</td>\n",
       "      <td>4.540586</td>\n",
       "    </tr>\n",
       "  </tbody>\n",
       "</table>\n",
       "</div>"
      ],
      "text/plain": [
       "                 0            1            2            3            4  \\\n",
       "count  2170.000000  2170.000000  2170.000000  2170.000000  2170.000000   \n",
       "mean   -141.921869    -3.229253    -3.490617    -1.813621    -0.118432   \n",
       "std       0.491971     2.656140     6.661118     0.634151    10.290762   \n",
       "min    -143.520725    -8.657992   -19.403595    -4.878239   -49.308249   \n",
       "25%    -142.238082    -5.163312    -8.800951    -2.241825    -5.221535   \n",
       "50%    -141.900130    -3.550596    -3.973087    -1.796076     1.553664   \n",
       "75%    -141.601778    -1.675898     1.663769    -1.361447     6.503107   \n",
       "max    -140.569980    10.086051    14.077374    -0.039681    30.741405   \n",
       "\n",
       "                 5            6            7  \n",
       "count  2170.000000  2170.000000  2170.000000  \n",
       "mean     -1.197806    -0.051801     0.054274  \n",
       "std       8.259508     0.980925     1.765794  \n",
       "min     -33.710553    -2.873270    -5.341247  \n",
       "25%      -6.464089    -0.798099    -1.096107  \n",
       "50%      -0.831149    -0.030979     0.153477  \n",
       "75%       4.381313     0.703315     1.255449  \n",
       "max      25.662890     2.433518     4.540586  "
      ]
     },
     "execution_count": 16,
     "metadata": {},
     "output_type": "execute_result"
    }
   ],
   "source": [
    "norm = StandardScaler().fit(X)\n",
    "    # transform training data\n",
    "X = norm.transform(X)\n",
    "X\n",
    "X = pd.DataFrame(norm.transform(X))\n",
    "X.index = pd.to_datetime(t2m.time.values)\n",
    "X\n",
    "X.describe(include='all')"
   ]
  },
  {
   "cell_type": "code",
   "execution_count": 17,
   "metadata": {},
   "outputs": [],
   "source": [
    "regLin=load('../../March2021/Observation_models/LRModel.joblib') "
   ]
  },
  {
   "cell_type": "code",
   "execution_count": 18,
   "metadata": {},
   "outputs": [],
   "source": [
    "yLR=regLin.predict(X)\n",
    "y_predLin_ds=xr.Dataset({'yLR': (('time'), yLR)}, coords={'time': t2m.time})"
   ]
  },
  {
   "cell_type": "code",
   "execution_count": 19,
   "metadata": {},
   "outputs": [
    {
     "data": {
      "text/plain": [
       "['../Model_plots/ACCESS-CM2-LR-Y.joblib']"
      ]
     },
     "execution_count": 19,
     "metadata": {},
     "output_type": "execute_result"
    }
   ],
   "source": [
    "dump(y_predLin_ds.yLR,'../Model_plots/ACCESS-CM2-LR-Y.joblib')"
   ]
  },
  {
   "cell_type": "code",
   "execution_count": 20,
   "metadata": {},
   "outputs": [
    {
     "name": "stdout",
     "output_type": "stream",
     "text": [
      "[-0.67468503 -0.52614679 -0.43258723 ... -0.44668034 -0.38110805\n",
      " -0.31323671]\n"
     ]
    }
   ],
   "source": [
    "print(yLR)"
   ]
  },
  {
   "cell_type": "code",
   "execution_count": 21,
   "metadata": {},
   "outputs": [],
   "source": [
    "# test on observed data for checking code"
   ]
  },
  {
   "cell_type": "code",
   "execution_count": 22,
   "metadata": {},
   "outputs": [],
   "source": [
    "testObsData=load('../../Feb2021/Final_Models/AO_EU_SST_included/X.joblib') "
   ]
  },
  {
   "cell_type": "code",
   "execution_count": 23,
   "metadata": {},
   "outputs": [],
   "source": [
    "testPred=regLin.predict(testObsData)"
   ]
  },
  {
   "cell_type": "code",
   "execution_count": 24,
   "metadata": {},
   "outputs": [
    {
     "name": "stdout",
     "output_type": "stream",
     "text": [
      "[0.26434078 0.26316564 0.41732781 ... 0.17074161 0.31416257 0.31920742]\n"
     ]
    }
   ],
   "source": [
    "print(testPred)"
   ]
  },
  {
   "cell_type": "code",
   "execution_count": 25,
   "metadata": {},
   "outputs": [
    {
     "data": {
      "text/plain": [
       "['../Model_plots/ACCESS-CM2-SVR-Y.joblib']"
      ]
     },
     "execution_count": 25,
     "metadata": {},
     "output_type": "execute_result"
    }
   ],
   "source": [
    "regLin2=load('../../March2021/Observation_models/SVRModel.joblib') \n",
    "yLR=regLin2.predict(X)\n",
    "y_predLin_ds=xr.Dataset({'yLR': (('time'), yLR)}, coords={'time': t2m.time})\n",
    "dump(y_predLin_ds.yLR,'../Model_plots/ACCESS-CM2-SVR-Y.joblib')"
   ]
  },
  {
   "cell_type": "code",
   "execution_count": null,
   "metadata": {},
   "outputs": [],
   "source": []
  }
 ],
 "metadata": {
  "kernelspec": {
   "display_name": "Python 3",
   "language": "python",
   "name": "python3"
  },
  "language_info": {
   "codemirror_mode": {
    "name": "ipython",
    "version": 3
   },
   "file_extension": ".py",
   "mimetype": "text/x-python",
   "name": "python",
   "nbconvert_exporter": "python",
   "pygments_lexer": "ipython3",
   "version": "3.8.5"
  }
 },
 "nbformat": 4,
 "nbformat_minor": 4
}
