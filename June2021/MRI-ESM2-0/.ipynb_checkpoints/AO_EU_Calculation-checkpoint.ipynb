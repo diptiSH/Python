{
 "cells": [
  {
   "cell_type": "code",
   "execution_count": 1,
   "metadata": {},
   "outputs": [],
   "source": [
    "import numpy as np\n",
    "import pandas as pd\n",
    "import xarray as xr\n",
    "from joblib import dump, load\n",
    "from sklearn.decomposition import PCA\n",
    "from sklearn.preprocessing import StandardScaler\n",
    "import glob\n",
    "\n",
    "import matplotlib as mpl\n",
    "\n",
    "import matplotlib.pyplot as plt\n",
    "\n",
    "import math as mt\n",
    "\n",
    "import cartopy.crs as ccrs\n",
    "\n",
    "import cartopy.feature as cfeature\n",
    "\n",
    "from cartopy.mpl.ticker import LongitudeFormatter, LatitudeFormatter"
   ]
  },
  {
   "cell_type": "markdown",
   "metadata": {},
   "source": [
    "#AO Calculation"
   ]
  },
  {
   "cell_type": "code",
   "execution_count": 2,
   "metadata": {},
   "outputs": [
    {
     "data": {
      "text/plain": [
       "array([[[1.0000000e-12, 1.0000000e-12, 1.0000000e-12, ...,\n",
       "         1.0000000e-12, 1.0000000e-12, 1.0000000e-12],\n",
       "        [1.0000000e-12, 1.0000000e-12, 1.0000000e-12, ...,\n",
       "         1.0000000e-12, 1.0000000e-12, 1.0000000e-12],\n",
       "        [1.0000000e-12, 1.0000000e-12, 1.0000000e-12, ...,\n",
       "         1.0000000e-12, 1.0000000e-12, 1.0000000e-12],\n",
       "        ...,\n",
       "        [5.7029354e+01, 5.7059544e+01, 5.7088417e+01, ...,\n",
       "         5.6941372e+01, 5.6976742e+01, 5.7005386e+01],\n",
       "        [4.6716553e+01, 4.6717819e+01, 4.6713989e+01, ...,\n",
       "         4.6720196e+01, 4.6716892e+01, 4.6717125e+01],\n",
       "        [3.1329012e+01, 3.1325508e+01, 3.1323137e+01, ...,\n",
       "         3.1345144e+01, 3.1342911e+01, 3.1337147e+01]],\n",
       "\n",
       "       [[1.0000000e-12, 1.0000000e-12, 1.0000000e-12, ...,\n",
       "         1.0000000e-12, 1.0000000e-12, 1.0000000e-12],\n",
       "        [1.0000000e-12, 1.0000000e-12, 1.0000000e-12, ...,\n",
       "         1.0000000e-12, 1.0000000e-12, 1.0000000e-12],\n",
       "        [1.0000000e-12, 1.0000000e-12, 1.0000000e-12, ...,\n",
       "         1.0000000e-12, 1.0000000e-12, 1.0000000e-12],\n",
       "        ...,\n",
       "        [6.0656868e+01, 6.0623260e+01, 6.0583500e+01, ...,\n",
       "         6.0755173e+01, 6.0725487e+01, 6.0694237e+01],\n",
       "        [4.9315784e+01, 4.9284889e+01, 4.9253204e+01, ...,\n",
       "         4.9407906e+01, 4.9375118e+01, 4.9348534e+01],\n",
       "        [3.2930557e+01, 3.2918583e+01, 3.2905968e+01, ...,\n",
       "         3.2968487e+01, 3.2955509e+01, 3.2943645e+01]],\n",
       "\n",
       "       [[1.0000000e-12, 1.0000000e-12, 1.0000000e-12, ...,\n",
       "         1.0000000e-12, 1.0000000e-12, 1.0000000e-12],\n",
       "        [1.0000000e-12, 1.0000000e-12, 1.0000000e-12, ...,\n",
       "         1.0000000e-12, 1.0000000e-12, 1.0000000e-12],\n",
       "        [1.0000000e-12, 1.0000000e-12, 1.0000000e-12, ...,\n",
       "         1.0000000e-12, 1.0000000e-12, 1.0000000e-12],\n",
       "        ...,\n",
       "        [6.0789829e+01, 6.0714840e+01, 6.0637505e+01, ...,\n",
       "         6.0997795e+01, 6.0927856e+01, 6.0861198e+01],\n",
       "        [4.8744991e+01, 4.8702343e+01, 4.8667240e+01, ...,\n",
       "         4.8855965e+01, 4.8821377e+01, 4.8785271e+01],\n",
       "        [3.2370281e+01, 3.2359196e+01, 3.2346821e+01, ...,\n",
       "         3.2405163e+01, 3.2395031e+01, 3.2384781e+01]],\n",
       "\n",
       "       ...,\n",
       "\n",
       "       [[1.0000000e-12, 1.0000000e-12, 1.0000000e-12, ...,\n",
       "         1.0000000e-12, 1.0000000e-12, 1.0000000e-12],\n",
       "        [1.0000000e-12, 1.0000000e-12, 1.0000000e-12, ...,\n",
       "         1.0000000e-12, 1.0000000e-12, 1.0000000e-12],\n",
       "        [1.0000000e-12, 1.0000000e-12, 1.0000000e-12, ...,\n",
       "         1.0000000e-12, 1.0000000e-12, 1.0000000e-12],\n",
       "        ...,\n",
       "        [1.0000000e-12, 1.0000000e-12, 1.0000000e-12, ...,\n",
       "         1.0000000e-12, 1.0000000e-12, 1.0000000e-12],\n",
       "        [1.0000000e-12, 1.0000000e-12, 1.0000000e-12, ...,\n",
       "         1.0000000e-12, 1.0000000e-12, 1.0000000e-12],\n",
       "        [1.0000000e-12, 1.0000000e-12, 1.0000000e-12, ...,\n",
       "         1.0000000e-12, 1.0000000e-12, 1.0000000e-12]],\n",
       "\n",
       "       [[1.0000000e-12, 1.0000000e-12, 1.0000000e-12, ...,\n",
       "         1.0000000e-12, 1.0000000e-12, 1.0000000e-12],\n",
       "        [1.0000000e-12, 1.0000000e-12, 1.0000000e-12, ...,\n",
       "         1.0000000e-12, 1.0000000e-12, 1.0000000e-12],\n",
       "        [1.0000000e-12, 1.0000000e-12, 1.0000000e-12, ...,\n",
       "         1.0000000e-12, 1.0000000e-12, 1.0000000e-12],\n",
       "        ...,\n",
       "        [5.3308439e+00, 5.4173870e+00, 5.3947043e+00, ...,\n",
       "         5.1207733e+00, 5.2278886e+00, 5.2275815e+00],\n",
       "        [1.0000000e-12, 1.0000000e-12, 1.0000000e-12, ...,\n",
       "         1.0000000e-12, 1.0000000e-12, 1.0000000e-12],\n",
       "        [1.0000000e-12, 1.0000000e-12, 1.0000000e-12, ...,\n",
       "         1.0000000e-12, 1.0000000e-12, 1.0000000e-12]],\n",
       "\n",
       "       [[1.0000000e-12, 1.0000000e-12, 1.0000000e-12, ...,\n",
       "         1.0000000e-12, 1.0000000e-12, 1.0000000e-12],\n",
       "        [1.0000000e-12, 1.0000000e-12, 1.0000000e-12, ...,\n",
       "         1.0000000e-12, 1.0000000e-12, 1.0000000e-12],\n",
       "        [1.0000000e-12, 1.0000000e-12, 1.0000000e-12, ...,\n",
       "         1.0000000e-12, 1.0000000e-12, 1.0000000e-12],\n",
       "        ...,\n",
       "        [1.4843154e+01, 1.4599290e+01, 1.4353413e+01, ...,\n",
       "         1.5132070e+01, 1.4881694e+01, 1.4642451e+01],\n",
       "        [1.0000000e-12, 1.0000000e-12, 1.0000000e-12, ...,\n",
       "         1.0021718e+01, 9.9050789e+00, 9.7943287e+00],\n",
       "        [1.0000000e-12, 1.0000000e-12, 1.0000000e-12, ...,\n",
       "         1.0000000e-12, 1.0000000e-12, 1.0000000e-12]]], dtype=float32)"
      ]
     },
     "execution_count": 2,
     "metadata": {},
     "output_type": "execute_result"
    }
   ],
   "source": [
    "# Calculate AO - input std normal latitude wighted 1000mb z\n",
    "ZData = xr.open_dataset('../../../Data/CMIP6/MRI-ESM2-0/processed/weighted1000Std.nc')\n",
    "#SLPData = xr.open_dataset('../eraDown/ERA5_2degree_Down/DailyMean/weighted1000.nc')\n",
    "\n",
    "ZData.zg.values\n",
    "ZData.zg.values=xr.where(np.isnan(ZData.zg.values),  0.000000000001,ZData.zg.values)\n",
    "ZData.zg.values"
   ]
  },
  {
   "cell_type": "code",
   "execution_count": null,
   "metadata": {},
   "outputs": [],
   "source": [
    "\n",
    "\n",
    "t1=ZData.zg.stack(z=(\"lat\", \"lon\"))\n",
    "# fit scaler on training data\n",
    "zg_PC =PCA().fit_transform(t1)\n"
   ]
  },
  {
   "cell_type": "code",
   "execution_count": null,
   "metadata": {},
   "outputs": [],
   "source": []
  },
  {
   "cell_type": "code",
   "execution_count": null,
   "metadata": {},
   "outputs": [],
   "source": [
    "print(zg_PC[:,0].shape)\n",
    "AO_ds = xr.Dataset({'AO': (('time'), zg_PC[:,0])}, coords={'time': ZData.time})\n",
    "\n",
    "\n",
    "norm = StandardScaler().fit(zg_PC[:,0].reshape(-1, 1))\n",
    "    # transform training data\n",
    "aoX = norm.transform(zg_PC[:,0].reshape(-1, 1))\n",
    "aoX.shape\n",
    "\n",
    "AO_ds = xr.Dataset({'AO': (('time'), aoX[:,0]*-1.0)}, coords={'time': ZData.time})\n"
   ]
  },
  {
   "cell_type": "code",
   "execution_count": null,
   "metadata": {},
   "outputs": [],
   "source": [
    "AO_ds.to_netcdf('MRI-ESM2-0-AOindex-NDJF-Daily-1980-2014.nc')"
   ]
  },
  {
   "cell_type": "code",
   "execution_count": null,
   "metadata": {},
   "outputs": [],
   "source": [
    "AO_ds.AO.where(AO_ds.AO==AO_ds.AO.max(), drop=True).squeeze()"
   ]
  },
  {
   "cell_type": "code",
   "execution_count": null,
   "metadata": {},
   "outputs": [],
   "source": [
    "#AO_ds.AO.where(AO_ds.AO>2.0, drop=True).squeeze()"
   ]
  },
  {
   "cell_type": "code",
   "execution_count": null,
   "metadata": {},
   "outputs": [],
   "source": [
    "AO_ds.AO.where(AO_ds.AO==AO_ds.AO.min(), drop=True).squeeze()"
   ]
  },
  {
   "cell_type": "code",
   "execution_count": null,
   "metadata": {},
   "outputs": [],
   "source": [
    "#AO_ds.AO.where(AO_ds.AO<-2, drop=True).squeeze()"
   ]
  },
  {
   "cell_type": "markdown",
   "metadata": {},
   "source": [
    "#EU Calculation"
   ]
  },
  {
   "cell_type": "code",
   "execution_count": null,
   "metadata": {},
   "outputs": [],
   "source": [
    "zLevData = xr.open_dataset('../../../Data/CMIP6/MRI-ESM2-0/processed/NDJF_New_zg_day_MRI-ESM2-0_historical_r1i1p1f1_gn_18500101-20141231.nc')"
   ]
  },
  {
   "cell_type": "code",
   "execution_count": null,
   "metadata": {},
   "outputs": [],
   "source": [
    "zLevData.plev"
   ]
  },
  {
   "cell_type": "code",
   "execution_count": null,
   "metadata": {},
   "outputs": [],
   "source": [
    "z500=zLevData.zg.sel(plev=50000.0,method='nearest')\n",
    "z500"
   ]
  },
  {
   "cell_type": "code",
   "execution_count": null,
   "metadata": {},
   "outputs": [],
   "source": [
    "z145E40N=z500.sel(lat=40,lon=145,method='nearest')"
   ]
  },
  {
   "cell_type": "code",
   "execution_count": null,
   "metadata": {},
   "outputs": [],
   "source": [
    "#z145E40N"
   ]
  },
  {
   "cell_type": "code",
   "execution_count": null,
   "metadata": {},
   "outputs": [],
   "source": [
    "z20E55N=z500.sel(lat=55,lon=20,method='nearest')"
   ]
  },
  {
   "cell_type": "code",
   "execution_count": null,
   "metadata": {},
   "outputs": [],
   "source": [
    "#z20E55N"
   ]
  },
  {
   "cell_type": "code",
   "execution_count": null,
   "metadata": {},
   "outputs": [],
   "source": [
    "z75E55N=z500.sel(lat=55,lon=75,method='nearest')"
   ]
  },
  {
   "cell_type": "code",
   "execution_count": null,
   "metadata": {},
   "outputs": [],
   "source": [
    "#z75E55N"
   ]
  },
  {
   "cell_type": "code",
   "execution_count": null,
   "metadata": {},
   "outputs": [],
   "source": [
    "#Calculate Anomaly\n",
    "z145E40N_Anom = z145E40N.groupby(\"time.dayofyear\") - z145E40N.groupby(\"time.dayofyear\").mean(\"time\")\n",
    "z75E55N_Anom  = z75E55N.groupby(\"time.dayofyear\")  - z75E55N.groupby(\"time.dayofyear\").mean(\"time\")\n",
    "z20E55N_Anom  = z20E55N.groupby(\"time.dayofyear\")  - z20E55N.groupby(\"time.dayofyear\").mean(\"time\")"
   ]
  },
  {
   "cell_type": "code",
   "execution_count": null,
   "metadata": {},
   "outputs": [],
   "source": [
    "# calculate std normal anomalies\n",
    "z145E40N_AnomStd = z145E40N_Anom.groupby(\"time.dayofyear\")  / z145E40N.groupby(\"time.dayofyear\").std(\"time\")\n",
    "z75E55N_AnomStd  = z75E55N_Anom.groupby(\"time.dayofyear\")   / z75E55N.groupby(\"time.dayofyear\").std(\"time\")\n",
    "z20E55N_AnomStd  = z20E55N_Anom.groupby(\"time.dayofyear\")   / z20E55N.groupby(\"time.dayofyear\").std(\"time\")"
   ]
  },
  {
   "cell_type": "code",
   "execution_count": null,
   "metadata": {},
   "outputs": [],
   "source": [
    "EUVal = -(1.0/4.0)*z20E55N_AnomStd + (1.0/2.0)*z75E55N_AnomStd - (1.0/4.0)*z145E40N_AnomStd"
   ]
  },
  {
   "cell_type": "code",
   "execution_count": null,
   "metadata": {},
   "outputs": [],
   "source": [
    "EUVal"
   ]
  },
  {
   "cell_type": "code",
   "execution_count": null,
   "metadata": {},
   "outputs": [],
   "source": [
    "EU_ds = xr.Dataset({'EU': (('time'), EUVal)}, coords={'time': zLevData.time})"
   ]
  },
  {
   "cell_type": "code",
   "execution_count": null,
   "metadata": {},
   "outputs": [],
   "source": [
    "EU_ds.to_netcdf('MRI-ESM2-0-EUindex-NDJF-Daily-1980-2014.nc')"
   ]
  },
  {
   "cell_type": "code",
   "execution_count": null,
   "metadata": {},
   "outputs": [],
   "source": []
  }
 ],
 "metadata": {
  "kernelspec": {
   "display_name": "Python 3",
   "language": "python",
   "name": "python3"
  },
  "language_info": {
   "codemirror_mode": {
    "name": "ipython",
    "version": 3
   },
   "file_extension": ".py",
   "mimetype": "text/x-python",
   "name": "python",
   "nbconvert_exporter": "python",
   "pygments_lexer": "ipython3",
   "version": "3.8.5"
  }
 },
 "nbformat": 4,
 "nbformat_minor": 4
}
