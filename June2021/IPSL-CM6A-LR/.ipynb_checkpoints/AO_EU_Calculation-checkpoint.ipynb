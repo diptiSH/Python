{
 "cells": [
  {
   "cell_type": "code",
   "execution_count": 1,
   "metadata": {},
   "outputs": [],
   "source": [
    "import numpy as np\n",
    "import pandas as pd\n",
    "import xarray as xr\n",
    "from joblib import dump, load\n",
    "from sklearn.decomposition import PCA\n",
    "from sklearn.preprocessing import StandardScaler\n",
    "import glob\n",
    "\n",
    "import matplotlib as mpl\n",
    "\n",
    "import matplotlib.pyplot as plt\n",
    "\n",
    "import math as mt\n",
    "\n",
    "import cartopy.crs as ccrs\n",
    "\n",
    "import cartopy.feature as cfeature\n",
    "\n",
    "from cartopy.mpl.ticker import LongitudeFormatter, LatitudeFormatter"
   ]
  },
  {
   "cell_type": "markdown",
   "metadata": {},
   "source": [
    "#AO Calculation"
   ]
  },
  {
   "cell_type": "code",
   "execution_count": 2,
   "metadata": {},
   "outputs": [
    {
     "data": {
      "text/plain": [
       "array([[[1.0000000e-12, 1.0000000e-12, 1.0000000e-12, ...,\n",
       "         1.0000000e-12, 1.0000000e-12, 1.0000000e-12],\n",
       "        [1.0000000e-12, 1.0000000e-12, 1.0000000e-12, ...,\n",
       "         1.0000000e-12, 1.0000000e-12, 1.0000000e-12],\n",
       "        [1.0000000e-12, 1.0000000e-12, 1.0000000e-12, ...,\n",
       "         1.0000000e-12, 1.0000000e-12, 1.0000000e-12],\n",
       "        ...,\n",
       "        [4.3787098e+01, 4.3882660e+01, 4.3970936e+01, ...,\n",
       "         4.3484932e+01, 4.3587749e+01, 4.3690601e+01],\n",
       "        [3.0332964e+01, 3.0326052e+01, 3.0321266e+01, ...,\n",
       "         3.0328671e+01, 3.0333899e+01, 3.0332882e+01],\n",
       "        [0.0000000e+00, 0.0000000e+00, 0.0000000e+00, ...,\n",
       "         0.0000000e+00, 0.0000000e+00, 0.0000000e+00]],\n",
       "\n",
       "       [[1.0000000e-12, 1.0000000e-12, 1.0000000e-12, ...,\n",
       "         1.0000000e-12, 1.0000000e-12, 1.0000000e-12],\n",
       "        [1.0000000e-12, 1.0000000e-12, 1.0000000e-12, ...,\n",
       "         1.0000000e-12, 1.0000000e-12, 1.0000000e-12],\n",
       "        [1.0000000e-12, 1.0000000e-12, 1.0000000e-12, ...,\n",
       "         1.0000000e-12, 1.0000000e-12, 1.0000000e-12],\n",
       "        ...,\n",
       "        [4.3992653e+01, 4.4252037e+01, 4.4501904e+01, ...,\n",
       "         4.3216640e+01, 4.3470669e+01, 4.3739288e+01],\n",
       "        [3.1010078e+01, 3.1076443e+01, 3.1134413e+01, ...,\n",
       "         3.0808832e+01, 3.0877996e+01, 3.0945415e+01],\n",
       "        [0.0000000e+00, 0.0000000e+00, 0.0000000e+00, ...,\n",
       "         0.0000000e+00, 0.0000000e+00, 0.0000000e+00]],\n",
       "\n",
       "       [[1.0000000e-12, 1.0000000e-12, 1.0000000e-12, ...,\n",
       "         1.0000000e-12, 1.0000000e-12, 1.0000000e-12],\n",
       "        [1.0000000e-12, 1.0000000e-12, 1.0000000e-12, ...,\n",
       "         1.0000000e-12, 1.0000000e-12, 1.0000000e-12],\n",
       "        [1.0000000e-12, 1.0000000e-12, 1.0000000e-12, ...,\n",
       "         1.0000000e-12, 1.0000000e-12, 1.0000000e-12],\n",
       "        ...,\n",
       "        [3.4423450e+01, 3.4767830e+01, 3.5096962e+01, ...,\n",
       "         3.3398125e+01, 3.3725334e+01, 3.4078690e+01],\n",
       "        [2.2965740e+01, 2.3084057e+01, 2.3212610e+01, ...,\n",
       "         2.2573744e+01, 2.2706991e+01, 2.2826130e+01],\n",
       "        [0.0000000e+00, 0.0000000e+00, 0.0000000e+00, ...,\n",
       "         0.0000000e+00, 0.0000000e+00, 0.0000000e+00]],\n",
       "\n",
       "       ...,\n",
       "\n",
       "       [[1.0000000e-12, 1.0000000e-12, 1.0000000e-12, ...,\n",
       "         1.0000000e-12, 1.0000000e-12, 1.0000000e-12],\n",
       "        [1.0000000e-12, 1.0000000e-12, 1.0000000e-12, ...,\n",
       "         1.0000000e-12, 1.0000000e-12, 1.0000000e-12],\n",
       "        [1.0000000e-12, 1.0000000e-12, 1.0000000e-12, ...,\n",
       "         1.0000000e-12, 1.0000000e-12, 1.0000000e-12],\n",
       "        ...,\n",
       "        [8.0712509e+00, 8.0288448e+00, 7.9788060e+00, ...,\n",
       "         8.1577520e+00, 8.1500807e+00, 8.1102638e+00],\n",
       "        [5.2346430e+00, 5.1789103e+00, 5.1543198e+00, ...,\n",
       "         5.2289066e+00, 5.2228169e+00, 5.2293520e+00],\n",
       "        [0.0000000e+00, 0.0000000e+00, 0.0000000e+00, ...,\n",
       "         0.0000000e+00, 0.0000000e+00, 0.0000000e+00]],\n",
       "\n",
       "       [[1.0000000e-12, 1.0000000e-12, 1.0000000e-12, ...,\n",
       "         1.0000000e-12, 1.0000000e-12, 1.0000000e-12],\n",
       "        [1.0000000e-12, 1.0000000e-12, 1.0000000e-12, ...,\n",
       "         1.0000000e-12, 1.0000000e-12, 1.0000000e-12],\n",
       "        [1.0000000e-12, 1.0000000e-12, 1.0000000e-12, ...,\n",
       "         1.0000000e-12, 1.0000000e-12, 1.0000000e-12],\n",
       "        ...,\n",
       "        [9.3916492e+00, 9.2862511e+00, 9.1884193e+00, ...,\n",
       "         9.7229271e+00, 9.6148872e+00, 9.4979124e+00],\n",
       "        [7.1510191e+00, 7.1099758e+00, 7.0696187e+00, ...,\n",
       "         7.2661371e+00, 7.2306170e+00, 7.1950417e+00],\n",
       "        [0.0000000e+00, 0.0000000e+00, 0.0000000e+00, ...,\n",
       "         0.0000000e+00, 0.0000000e+00, 0.0000000e+00]],\n",
       "\n",
       "       [[1.0000000e-12, 1.0000000e-12, 1.0000000e-12, ...,\n",
       "         1.0000000e-12, 1.0000000e-12, 1.0000000e-12],\n",
       "        [1.0000000e-12, 1.0000000e-12, 1.0000000e-12, ...,\n",
       "         1.0000000e-12, 1.0000000e-12, 1.0000000e-12],\n",
       "        [1.0000000e-12, 1.0000000e-12, 1.0000000e-12, ...,\n",
       "         1.0000000e-12, 1.0000000e-12, 1.0000000e-12],\n",
       "        ...,\n",
       "        [1.8115988e+01, 1.8085052e+01, 1.8050413e+01, ...,\n",
       "         1.8387791e+01, 1.8265562e+01, 1.8175440e+01],\n",
       "        [1.4678047e+01, 1.4666236e+01, 1.4648164e+01, ...,\n",
       "         1.4774575e+01, 1.4731596e+01, 1.4705717e+01],\n",
       "        [0.0000000e+00, 0.0000000e+00, 0.0000000e+00, ...,\n",
       "         0.0000000e+00, 0.0000000e+00, 0.0000000e+00]]], dtype=float32)"
      ]
     },
     "execution_count": 2,
     "metadata": {},
     "output_type": "execute_result"
    }
   ],
   "source": [
    "# Calculate AO - input std normal latitude wighted 1000mb z\n",
    "ZData = xr.open_dataset('../../../Data/CMIP6/IPSL-CM6A-LR/NDJF/weighted1000Std.nc')\n",
    "#SLPData = xr.open_dataset('../eraDown/ERA5_2degree_Down/DailyMean/weighted1000.nc')\n",
    "\n",
    "ZData.zg.values\n",
    "ZData.zg.values=xr.where(np.isnan(ZData.zg.values),  0.000000000001,ZData.zg.values)\n",
    "ZData.zg.values"
   ]
  },
  {
   "cell_type": "code",
   "execution_count": null,
   "metadata": {},
   "outputs": [],
   "source": [
    "\n",
    "\n",
    "t1=ZData.zg.stack(z=(\"lat\", \"lon\"))\n",
    "# fit scaler on training data\n",
    "zg_PC =PCA().fit_transform(t1)\n"
   ]
  },
  {
   "cell_type": "code",
   "execution_count": null,
   "metadata": {},
   "outputs": [],
   "source": []
  },
  {
   "cell_type": "code",
   "execution_count": null,
   "metadata": {},
   "outputs": [],
   "source": [
    "print(zg_PC[:,0].shape)\n",
    "AO_ds = xr.Dataset({'AO': (('time'), zg_PC[:,0])}, coords={'time': ZData.time})\n",
    "\n",
    "\n",
    "norm = StandardScaler().fit(zg_PC[:,0].reshape(-1, 1))\n",
    "    # transform training data\n",
    "aoX = norm.transform(zg_PC[:,0].reshape(-1, 1))\n",
    "aoX.shape\n",
    "\n",
    "AO_ds = xr.Dataset({'AO': (('time'), aoX[:,0]*-1.0)}, coords={'time': ZData.time})\n"
   ]
  },
  {
   "cell_type": "code",
   "execution_count": null,
   "metadata": {},
   "outputs": [],
   "source": [
    "AO_ds.to_netcdf('IPSL-CM6A-LR-AOindex-NDJF-Daily-1980-2014.nc')"
   ]
  },
  {
   "cell_type": "code",
   "execution_count": null,
   "metadata": {},
   "outputs": [],
   "source": [
    "AO_ds.AO.where(AO_ds.AO==AO_ds.AO.max(), drop=True).squeeze()"
   ]
  },
  {
   "cell_type": "code",
   "execution_count": null,
   "metadata": {},
   "outputs": [],
   "source": [
    "#AO_ds.AO.where(AO_ds.AO>2.0, drop=True).squeeze()"
   ]
  },
  {
   "cell_type": "code",
   "execution_count": null,
   "metadata": {},
   "outputs": [],
   "source": [
    "AO_ds.AO.where(AO_ds.AO==AO_ds.AO.min(), drop=True).squeeze()"
   ]
  },
  {
   "cell_type": "code",
   "execution_count": null,
   "metadata": {},
   "outputs": [],
   "source": [
    "#AO_ds.AO.where(AO_ds.AO<-2, drop=True).squeeze()"
   ]
  },
  {
   "cell_type": "markdown",
   "metadata": {},
   "source": [
    "#EU Calculation"
   ]
  },
  {
   "cell_type": "code",
   "execution_count": null,
   "metadata": {},
   "outputs": [],
   "source": [
    "zLevData = xr.open_dataset('../../../Data/CMIP6/IPSL-CM6A-LR/NDJF/zg_NDJFday_IPSL-CM6A-LR_historical_r1i1p1f1_gr_19750101-20141231.nc')"
   ]
  },
  {
   "cell_type": "code",
   "execution_count": null,
   "metadata": {},
   "outputs": [],
   "source": [
    "zLevData.plev"
   ]
  },
  {
   "cell_type": "code",
   "execution_count": null,
   "metadata": {},
   "outputs": [],
   "source": [
    "z500=zLevData.zg.sel(plev=50000.0,method='nearest')\n",
    "z500"
   ]
  },
  {
   "cell_type": "code",
   "execution_count": null,
   "metadata": {},
   "outputs": [],
   "source": [
    "z145E40N=z500.sel(lat=40,lon=145,method='nearest')"
   ]
  },
  {
   "cell_type": "code",
   "execution_count": null,
   "metadata": {},
   "outputs": [],
   "source": [
    "#z145E40N"
   ]
  },
  {
   "cell_type": "code",
   "execution_count": null,
   "metadata": {},
   "outputs": [],
   "source": [
    "z20E55N=z500.sel(lat=55,lon=20,method='nearest')"
   ]
  },
  {
   "cell_type": "code",
   "execution_count": null,
   "metadata": {},
   "outputs": [],
   "source": [
    "#z20E55N"
   ]
  },
  {
   "cell_type": "code",
   "execution_count": null,
   "metadata": {},
   "outputs": [],
   "source": [
    "z75E55N=z500.sel(lat=55,lon=75,method='nearest')"
   ]
  },
  {
   "cell_type": "code",
   "execution_count": null,
   "metadata": {},
   "outputs": [],
   "source": [
    "#z75E55N"
   ]
  },
  {
   "cell_type": "code",
   "execution_count": null,
   "metadata": {},
   "outputs": [],
   "source": [
    "#Calculate Anomaly\n",
    "z145E40N_Anom = z145E40N.groupby(\"time.dayofyear\") - z145E40N.groupby(\"time.dayofyear\").mean(\"time\")\n",
    "z75E55N_Anom  = z75E55N.groupby(\"time.dayofyear\")  - z75E55N.groupby(\"time.dayofyear\").mean(\"time\")\n",
    "z20E55N_Anom  = z20E55N.groupby(\"time.dayofyear\")  - z20E55N.groupby(\"time.dayofyear\").mean(\"time\")"
   ]
  },
  {
   "cell_type": "code",
   "execution_count": null,
   "metadata": {},
   "outputs": [],
   "source": [
    "# calculate std normal anomalies\n",
    "z145E40N_AnomStd = z145E40N_Anom.groupby(\"time.dayofyear\")  / z145E40N.groupby(\"time.dayofyear\").std(\"time\")\n",
    "z75E55N_AnomStd  = z75E55N_Anom.groupby(\"time.dayofyear\")   / z75E55N.groupby(\"time.dayofyear\").std(\"time\")\n",
    "z20E55N_AnomStd  = z20E55N_Anom.groupby(\"time.dayofyear\")   / z20E55N.groupby(\"time.dayofyear\").std(\"time\")"
   ]
  },
  {
   "cell_type": "code",
   "execution_count": null,
   "metadata": {},
   "outputs": [],
   "source": [
    "EUVal = -(1.0/4.0)*z20E55N_AnomStd + (1.0/2.0)*z75E55N_AnomStd - (1.0/4.0)*z145E40N_AnomStd"
   ]
  },
  {
   "cell_type": "code",
   "execution_count": null,
   "metadata": {},
   "outputs": [],
   "source": [
    "EUVal"
   ]
  },
  {
   "cell_type": "code",
   "execution_count": null,
   "metadata": {},
   "outputs": [],
   "source": [
    "EU_ds = xr.Dataset({'EU': (('time'), EUVal)}, coords={'time': zLevData.time})"
   ]
  },
  {
   "cell_type": "code",
   "execution_count": null,
   "metadata": {},
   "outputs": [],
   "source": [
    "EU_ds.to_netcdf('IPSL-CM6A-LR-EUindex-NDJF-Daily-1980-2014.nc')"
   ]
  },
  {
   "cell_type": "code",
   "execution_count": null,
   "metadata": {},
   "outputs": [],
   "source": []
  }
 ],
 "metadata": {
  "kernelspec": {
   "display_name": "Python 3",
   "language": "python",
   "name": "python3"
  },
  "language_info": {
   "codemirror_mode": {
    "name": "ipython",
    "version": 3
   },
   "file_extension": ".py",
   "mimetype": "text/x-python",
   "name": "python",
   "nbconvert_exporter": "python",
   "pygments_lexer": "ipython3",
   "version": "3.8.5"
  }
 },
 "nbformat": 4,
 "nbformat_minor": 4
}
