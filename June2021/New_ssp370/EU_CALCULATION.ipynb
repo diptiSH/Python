{
 "cells": [
  {
   "cell_type": "code",
   "execution_count": 1,
   "metadata": {},
   "outputs": [],
   "source": [
    "import xarray as xr\n",
    "import numpy as np\n",
    "import pandas as pd\n",
    "import datetime\n",
    "import matplotlib.pyplot as plt\n",
    "from keras.models import Sequential\n",
    "from keras.layers import Dense, Conv3D, Flatten,MaxPooling3D,AveragePooling3D, concatenate,Input ,SpatialDropout3D,Dropout\n",
    "import keras\n",
    "from math import e\n",
    "from keras.models import Model\n",
    "from sklearn.preprocessing import StandardScaler\n",
    "from joblib import dump, load\n",
    "from keras.models import load_model\n",
    "from sklearn.decomposition import PCA"
   ]
  },
  {
   "cell_type": "code",
   "execution_count": 2,
   "metadata": {},
   "outputs": [],
   "source": [
    "modelName=('ACCESS-CM2','EC-Earth3','IITM-ESM','IPSL-CM6A-LR','MPI-ESM1-2-LR')\n",
    "gridList=('gn','gr','gn','gr','gn')           \n",
    "#NH_NDJF_zg_day_ACCESS-CM2_ssp370_r1i1p1f1_gn_20150101-21001231.nc\n",
    "for m,g in zip(modelName,gridList):\n",
    "    zLevData = xr.open_dataset('../../../Data/ssp370/'+m+'/processed/NH_NDJF_zg_day_'+m+'_ssp370_r1i1p1f1_'+g+'_20150101-21001231.nc')\n",
    "    zLevData.plev\n",
    "    z500=zLevData.zg.sel(plev=50000.0,method='nearest')\n",
    "    z500\n",
    "    z145E40N=z500.sel(lat=40,lon=145,method='nearest')\n",
    "    z20E55N=z500.sel(lat=55,lon=20,method='nearest')\n",
    "    z75E55N=z500.sel(lat=55,lon=75,method='nearest')\n",
    "    #Calculate Anomaly\n",
    "    z145E40N_Anom = z145E40N.groupby(\"time.dayofyear\") - z145E40N.groupby(\"time.dayofyear\").mean(\"time\")\n",
    "    z75E55N_Anom  = z75E55N.groupby(\"time.dayofyear\")  - z75E55N.groupby(\"time.dayofyear\").mean(\"time\")\n",
    "    z20E55N_Anom  = z20E55N.groupby(\"time.dayofyear\")  - z20E55N.groupby(\"time.dayofyear\").mean(\"time\")\n",
    "    # calculate std normal anomalies\n",
    "    z145E40N_AnomStd = z145E40N_Anom.groupby(\"time.dayofyear\")  / z145E40N.groupby(\"time.dayofyear\").std(\"time\")\n",
    "    z75E55N_AnomStd  = z75E55N_Anom.groupby(\"time.dayofyear\")   / z75E55N.groupby(\"time.dayofyear\").std(\"time\")\n",
    "    z20E55N_AnomStd  = z20E55N_Anom.groupby(\"time.dayofyear\")   / z20E55N.groupby(\"time.dayofyear\").std(\"time\")\n",
    "\n",
    "\n",
    "    EUVal = -(1.0/4.0)*z20E55N_AnomStd + (1.0/2.0)*z75E55N_AnomStd - (1.0/4.0)*z145E40N_AnomStd\n",
    "    EU_ds = xr.Dataset({'EU': (('time'), EUVal)}, coords={'time': zLevData.time})\n",
    "\n",
    "    EU_ds.to_netcdf(m+'-EUindex-NDJF-Daily-2015-2100.nc')\n",
    "    \n",
    "    "
   ]
  },
  {
   "cell_type": "code",
   "execution_count": null,
   "metadata": {},
   "outputs": [],
   "source": []
  },
  {
   "cell_type": "code",
   "execution_count": null,
   "metadata": {},
   "outputs": [],
   "source": []
  },
  {
   "cell_type": "code",
   "execution_count": null,
   "metadata": {},
   "outputs": [],
   "source": []
  },
  {
   "cell_type": "code",
   "execution_count": null,
   "metadata": {},
   "outputs": [],
   "source": []
  },
  {
   "cell_type": "code",
   "execution_count": null,
   "metadata": {},
   "outputs": [],
   "source": []
  }
 ],
 "metadata": {
  "kernelspec": {
   "display_name": "Python 3",
   "language": "python",
   "name": "python3"
  },
  "language_info": {
   "codemirror_mode": {
    "name": "ipython",
    "version": 3
   },
   "file_extension": ".py",
   "mimetype": "text/x-python",
   "name": "python",
   "nbconvert_exporter": "python",
   "pygments_lexer": "ipython3",
   "version": "3.8.5"
  }
 },
 "nbformat": 4,
 "nbformat_minor": 4
}
