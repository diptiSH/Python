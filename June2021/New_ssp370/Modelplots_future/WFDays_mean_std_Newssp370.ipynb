{
 "cells": [
  {
   "cell_type": "code",
   "execution_count": 1,
   "metadata": {},
   "outputs": [],
   "source": [
    "import xarray as xr\n",
    "import numpy as np\n",
    "import pandas as pd\n",
    "import datetime\n",
    "import matplotlib.pyplot as plt\n",
    "from joblib import dump, load\n",
    "import statistics as st"
   ]
  },
  {
   "cell_type": "markdown",
   "metadata": {},
   "source": [
    "# Obs historical"
   ]
  },
  {
   "cell_type": "code",
   "execution_count": 2,
   "metadata": {},
   "outputs": [],
   "source": [
    "y   = load('../../../March2021/Observation_models/ObsY.joblib') \n",
    "y.values=y.where(y>=0.46,0)\n",
    "y.values=y.where(y==0.0,1)"
   ]
  },
  {
   "cell_type": "code",
   "execution_count": 3,
   "metadata": {},
   "outputs": [],
   "source": [
    "def getFogTS( dArray ):\n",
    "   #\"This function gives TS of  for each season e.g. if year\n",
    "   #  is 1981 then it will contain values between 1dec1980 to 31jan1981\"\n",
    "    fg=list()\n",
    "    \n",
    "    for yr in range(1981,2015,1):\n",
    "        dStart=datetime.datetime(yr-1, 12, 1)\n",
    "        dEnd=datetime.datetime(yr, 1, 31)\n",
    "        ySMean = dArray.sel(time=slice(dStart,dEnd)).sum(dim='time').values.tolist()\n",
    "        #print(yAct)\n",
    "        fg.append(ySMean)\n",
    "        \n",
    "    \n",
    "    return fg"
   ]
  },
  {
   "cell_type": "code",
   "execution_count": 4,
   "metadata": {},
   "outputs": [
    {
     "name": "stdout",
     "output_type": "stream",
     "text": [
      "13.5\n",
      "11.098047876390995\n"
     ]
    }
   ],
   "source": [
    "fO=getFogTS(y)\n",
    "ObsMean=st.mean(fO)\n",
    "print(ObsMean)\n",
    "ObsStd=st.stdev(fO)\n",
    "print(ObsStd)"
   ]
  },
  {
   "cell_type": "markdown",
   "metadata": {},
   "source": [
    "# Future projections"
   ]
  },
  {
   "cell_type": "code",
   "execution_count": 5,
   "metadata": {},
   "outputs": [],
   "source": [
    "def getFogTS_firsthalf( dArray ):\n",
    "   #\"This function gives TS of  for each season e.g. if year\n",
    "   #  is 1981 then it will contain values between 1dec1980 to 31jan1981\"\n",
    "    # 2015-2065\n",
    "    fg=list()\n",
    "    \n",
    "    for yr in range(2015,2066,1):\n",
    "        dStart=datetime.datetime(yr-1, 12, 1)\n",
    "        dEnd=datetime.datetime(yr, 1, 31)\n",
    "        ySMean = dArray.sel(time=slice(dStart,dEnd)).sum(dim='time').values.tolist()\n",
    "        #print(yAct)\n",
    "        fg.append(ySMean)\n",
    "        \n",
    "    \n",
    "    return fg"
   ]
  },
  {
   "cell_type": "code",
   "execution_count": 6,
   "metadata": {},
   "outputs": [],
   "source": [
    "def getFogTS_secondhalf( dArray ):\n",
    "   #\"This function gives TS of  for each season e.g. if year\n",
    "   #  is 1981 then it will contain values between 1dec1980 to 31jan1981\"\n",
    "    # 2065-2100\n",
    "    fg=list()\n",
    "    \n",
    "    for yr in range(2065,2101,1):\n",
    "        dStart=datetime.datetime(yr-1, 12, 1)\n",
    "        dEnd=datetime.datetime(yr, 1, 31)\n",
    "        ySMean = dArray.sel(time=slice(dStart,dEnd)).sum(dim='time').values.tolist()\n",
    "        #print(yAct)\n",
    "        fg.append(ySMean)\n",
    "        \n",
    "    \n",
    "    return fg"
   ]
  },
  {
   "cell_type": "code",
   "execution_count": 7,
   "metadata": {},
   "outputs": [],
   "source": [
    "ACCESS_CM2_ssp370   = load('ACCESS-CM2_ssp370.joblib') \n",
    "IITM_ESM_ssp370   = load('IITM-ESM_ssp370.joblib') \n",
    "IPSL_CM6A_LR_ssp370   = load('IPSL-CM6A-LR_ssp370.joblib') \n",
    "MPI_ESM1_2_LR_ssp370   = load('MPI-ESM1-2-LR_ssp370.joblib') \n",
    "EC_Earth3_ssp370   = load('EC-Earth3_ssp370.joblib') "
   ]
  },
  {
   "cell_type": "code",
   "execution_count": 8,
   "metadata": {},
   "outputs": [],
   "source": [
    "ACCESS_CM2_ssp370.values=ACCESS_CM2_ssp370.where(ACCESS_CM2_ssp370>=0.46,0)\n",
    "IITM_ESM_ssp370.values=IITM_ESM_ssp370.where(IITM_ESM_ssp370>=0.46,0)\n",
    "IPSL_CM6A_LR_ssp370.values=IPSL_CM6A_LR_ssp370.where(IPSL_CM6A_LR_ssp370>=0.46,0)\n",
    "MPI_ESM1_2_LR_ssp370.values=MPI_ESM1_2_LR_ssp370.where(MPI_ESM1_2_LR_ssp370>=0.46,0)\n",
    "EC_Earth3_ssp370.values=EC_Earth3_ssp370.where(EC_Earth3_ssp370>=0.46,0)"
   ]
  },
  {
   "cell_type": "code",
   "execution_count": 9,
   "metadata": {},
   "outputs": [],
   "source": [
    "ACCESS_CM2_ssp370.values=ACCESS_CM2_ssp370.where(ACCESS_CM2_ssp370==0.0,1)\n",
    "IITM_ESM_ssp370.values=IITM_ESM_ssp370.where(IITM_ESM_ssp370==0.0,1)\n",
    "IPSL_CM6A_LR_ssp370.values=IPSL_CM6A_LR_ssp370.where(IPSL_CM6A_LR_ssp370==0.0,1)\n",
    "MPI_ESM1_2_LR_ssp370.values=MPI_ESM1_2_LR_ssp370.where(MPI_ESM1_2_LR_ssp370==0.0,1)\n",
    "EC_Earth3_ssp370.values=EC_Earth3_ssp370.where(EC_Earth3_ssp370==0.0,1)"
   ]
  },
  {
   "cell_type": "code",
   "execution_count": 10,
   "metadata": {},
   "outputs": [
    {
     "name": "stdout",
     "output_type": "stream",
     "text": [
      "[14.588235294117647, 16.980392156862745, 11.490196078431373, 16.215686274509803, 23.627450980392158]\n",
      "[9.364136843485865, 11.02087146477706, 10.419928116872223, 9.952514708334162, 17.475652530665315]\n",
      "[9.222222222222221, 16.333333333333332, 4.694444444444445, 17.11111111111111, 15.222222222222221]\n",
      "[8.6424570286501, 9.353379832216495, 4.547020653724461, 9.15822121773742, 10.98339294730552]\n"
     ]
    }
   ],
   "source": [
    "mList=(ACCESS_CM2_ssp370,IITM_ESM_ssp370,IPSL_CM6A_LR_ssp370,MPI_ESM1_2_LR_ssp370,EC_Earth3_ssp370)\n",
    "#mList=(ACCESS_CM2_ssp370,IITM_ESM_ssp370,IPSL_CM6A_LR_ssp370,MPI_ESM1_2_LR_ssp370)\n",
    "\n",
    "firstMean=list()\n",
    "firstSD=list()\n",
    "secondMean=list()\n",
    "secondSD=list()\n",
    "\n",
    "for m in mList:\n",
    "    fO=getFogTS_firsthalf(m)\n",
    "    firstMean.append(st.mean(fO))\n",
    "    firstSD.append(st.stdev(fO))\n",
    "    fO1=getFogTS_secondhalf(m)\n",
    "    secondMean.append(st.mean(fO1))\n",
    "    secondSD.append(st.stdev(fO1))\n",
    "\n",
    "print(firstMean) \n",
    "print(firstSD) \n",
    "print(secondMean) \n",
    "print(secondSD) \n",
    "   \n",
    "    "
   ]
  },
  {
   "cell_type": "code",
   "execution_count": 14,
   "metadata": {},
   "outputs": [
    {
     "name": "stdout",
     "output_type": "stream",
     "text": [
      "[8.061002178649234, 25.780682643427742, -14.887436456063906, 20.116194625998542, 75.01815541031227]\n",
      "[-15.623567786130199, -0.6954052863487261, -6.110261616021174, -10.321933918610485, 57.46600415953757]\n",
      "[-31.687242798353914, 20.987654320987644, -65.22633744855968, 26.748971193415635, 12.757201646090529]\n",
      "[-22.126331361073888, -15.720494843836024, -59.02864445739696, -17.47898982108547, -1.0331089788266439]\n"
     ]
    },
    {
     "data": {
      "text/plain": [
       "['../../Future_projection_plots/WFD_Newssp370_secondSD.joblib']"
      ]
     },
     "execution_count": 14,
     "metadata": {},
     "output_type": "execute_result"
    }
   ],
   "source": [
    "mList=(ACCESS_CM2_ssp370,IITM_ESM_ssp370,IPSL_CM6A_LR_ssp370,MPI_ESM1_2_LR_ssp370,EC_Earth3_ssp370)\n",
    "#mList=(ACCESS_CM2_ssp370,IITM_ESM_ssp370,IPSL_CM6A_LR_ssp370,MPI_ESM1_2_LR_ssp370)\n",
    "\n",
    "firstMean=list()\n",
    "firstSD=list()\n",
    "secondMean=list()\n",
    "secondSD=list()\n",
    "n=1\n",
    "\n",
    "for m in mList:\n",
    "    \n",
    "    fO=getFogTS_firsthalf(m)\n",
    "    RCM=(st.mean(fO)-ObsMean)*100.0/ObsMean\n",
    "    firstMean.append(RCM)\n",
    "    RCSD=(st.stdev(fO)-ObsStd)*100.0/ObsStd\n",
    "    firstSD.append(RCSD)\n",
    "    #if(n == 2):\n",
    "    fO1=getFogTS_secondhalf(m)\n",
    "   # else :\n",
    "    #    fO1=getFogTS_secondhalf(m)\n",
    "    RCM=(st.mean(fO1)-ObsMean)*100.0/ObsMean\n",
    "    secondMean.append(RCM)\n",
    "    RCSD=(st.stdev(fO1)-ObsStd)*100.0/ObsStd\n",
    "    secondSD.append(RCSD)\n",
    "    n=n+1\n",
    "\n",
    "print(firstMean) \n",
    "print(firstSD) \n",
    "print(secondMean) \n",
    "print(secondSD) \n",
    "dump(firstMean,'../../Future_projection_plots/WFD_Newssp370_firstMean.joblib')  \n",
    "dump(firstSD,'../../Future_projection_plots/WFD_Newssp370_firstSD.joblib')\n",
    "dump(secondMean,'../../Future_projection_plots/WFD_Newssp370_secondMean.joblib')\n",
    "dump(secondSD,'../../Future_projection_plots/WFD_Newssp370_secondSD.joblib')\n",
    "    "
   ]
  },
  {
   "cell_type": "code",
   "execution_count": null,
   "metadata": {},
   "outputs": [],
   "source": []
  }
 ],
 "metadata": {
  "kernelspec": {
   "display_name": "Python 3",
   "language": "python",
   "name": "python3"
  },
  "language_info": {
   "codemirror_mode": {
    "name": "ipython",
    "version": 3
   },
   "file_extension": ".py",
   "mimetype": "text/x-python",
   "name": "python",
   "nbconvert_exporter": "python",
   "pygments_lexer": "ipython3",
   "version": "3.8.5"
  }
 },
 "nbformat": 4,
 "nbformat_minor": 4
}
