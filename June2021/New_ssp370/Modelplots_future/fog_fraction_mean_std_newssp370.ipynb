{
 "cells": [
  {
   "cell_type": "code",
   "execution_count": 11,
   "metadata": {},
   "outputs": [],
   "source": [
    "import xarray as xr\n",
    "import numpy as np\n",
    "import pandas as pd\n",
    "import datetime\n",
    "import matplotlib.pyplot as plt\n",
    "from joblib import dump, load\n",
    "import statistics as st"
   ]
  },
  {
   "cell_type": "markdown",
   "metadata": {},
   "source": [
    "# Obs historical"
   ]
  },
  {
   "cell_type": "code",
   "execution_count": 12,
   "metadata": {},
   "outputs": [],
   "source": [
    "y   = load('../../../March2021/Observation_models/ObsY.joblib') "
   ]
  },
  {
   "cell_type": "code",
   "execution_count": 13,
   "metadata": {},
   "outputs": [],
   "source": [
    "def getFogTS( dArray ):\n",
    "   #\"This function gives TS of  for each season e.g. if year\n",
    "   #  is 1981 then it will contain values between 1dec1980 to 31jan1981\"\n",
    "    fg=list()\n",
    "    \n",
    "    for yr in range(1981,2015,1):\n",
    "        dStart=datetime.datetime(yr-1, 12, 1)\n",
    "        dEnd=datetime.datetime(yr, 1, 31)\n",
    "        ySMean = dArray.sel(time=slice(dStart,dEnd)).mean(dim='time').values.tolist()\n",
    "        #print(yAct)\n",
    "        fg.append(ySMean)\n",
    "        \n",
    "    \n",
    "    return fg"
   ]
  },
  {
   "cell_type": "code",
   "execution_count": 14,
   "metadata": {},
   "outputs": [
    {
     "name": "stdout",
     "output_type": "stream",
     "text": [
      "0.2832827324478178\n",
      "0.11073566489111651\n"
     ]
    }
   ],
   "source": [
    "fO=getFogTS(y)\n",
    "ObsMean=st.mean(fO)\n",
    "print(ObsMean)\n",
    "ObsStd=st.stdev(fO)\n",
    "print(ObsStd)"
   ]
  },
  {
   "cell_type": "markdown",
   "metadata": {},
   "source": [
    "# Future projections"
   ]
  },
  {
   "cell_type": "code",
   "execution_count": 15,
   "metadata": {},
   "outputs": [],
   "source": [
    "def getFogTS_firsthalf( dArray ):\n",
    "   #\"This function gives TS of  for each season e.g. if year\n",
    "   #  is 1981 then it will contain values between 1dec1980 to 31jan1981\"\n",
    "    # 2015-2065\n",
    "    fg=list()\n",
    "    \n",
    "    for yr in range(2015,2066,1):\n",
    "        dStart=datetime.datetime(yr-1, 12, 1)\n",
    "        dEnd=datetime.datetime(yr, 1, 31)\n",
    "        ySMean = dArray.sel(time=slice(dStart,dEnd)).mean(dim='time').values.tolist()\n",
    "        #print(yAct)\n",
    "        fg.append(ySMean)\n",
    "        \n",
    "    \n",
    "    return fg"
   ]
  },
  {
   "cell_type": "code",
   "execution_count": 16,
   "metadata": {},
   "outputs": [],
   "source": [
    "def getFogTS_secondhalf( dArray ):\n",
    "   #\"This function gives TS of  for each season e.g. if year\n",
    "   #  is 1981 then it will contain values between 1dec1980 to 31jan1981\"\n",
    "    # 2065-2100\n",
    "    fg=list()\n",
    "    \n",
    "    for yr in range(2065,2101,1):\n",
    "        dStart=datetime.datetime(yr-1, 12, 1)\n",
    "        dEnd=datetime.datetime(yr, 1, 31)\n",
    "        ySMean = dArray.sel(time=slice(dStart,dEnd)).mean(dim='time').values.tolist()\n",
    "        #print(yAct)\n",
    "        fg.append(ySMean)\n",
    "        \n",
    "    \n",
    "    return fg"
   ]
  },
  {
   "cell_type": "code",
   "execution_count": 17,
   "metadata": {},
   "outputs": [],
   "source": [
    "def getFogTS_secondhalf2( dArray ):\n",
    "   #\"This function gives TS of  for each season e.g. if year\n",
    "   #  is 1981 then it will contain values between 1dec1980 to 31jan1981\"\n",
    "    # 2065-2100\n",
    "    fg=list()\n",
    "    \n",
    "    for yr in range(2065,2100,1):\n",
    "        dStart=datetime.datetime(yr-1, 12, 1)\n",
    "        dEnd=datetime.datetime(yr, 1, 31)\n",
    "        ySMean = dArray.sel(time=slice(dStart,dEnd)).mean(dim='time').values.tolist()\n",
    "        #print(yAct)\n",
    "        fg.append(ySMean)\n",
    "        \n",
    "    \n",
    "    return fg"
   ]
  },
  {
   "cell_type": "code",
   "execution_count": 18,
   "metadata": {},
   "outputs": [],
   "source": [
    "ACCESS_CM2_ssp370   = load('ACCESS-CM2_ssp370.joblib') \n",
    "IITM_ESM_ssp370   = load('IITM-ESM_ssp370.joblib') \n",
    "IPSL_CM6A_LR_ssp370   = load('IPSL-CM6A-LR_ssp370.joblib') \n",
    "MPI_ESM1_2_LR_ssp370   = load('MPI-ESM1-2-LR_ssp370.joblib') \n",
    "EC_Earth3_ssp370   = load('EC-Earth3_ssp370.joblib') "
   ]
  },
  {
   "cell_type": "code",
   "execution_count": 26,
   "metadata": {},
   "outputs": [
    {
     "name": "stdout",
     "output_type": "stream",
     "text": [
      "[0.3552452328742719, 0.36318595327583014, 0.30509577253285575, 0.3550408345227148, 0.4079691230082044]\n",
      "[0.06905642098719784, 0.0804504482817882, 0.08392284380902751, 0.07695759877273126, 0.12515261129729124]\n",
      "[0.3243298509882556, 0.3658346163375037, 0.2517157639894221, 0.3696183040738106, 0.3486594412889745]\n",
      "[0.0706163047359418, 0.06898547845986586, 0.0627467936873547, 0.05487691307994374, 0.08517821625776761]\n"
     ]
    }
   ],
   "source": [
    "mList=(ACCESS_CM2_ssp370,IITM_ESM_ssp370,IPSL_CM6A_LR_ssp370,MPI_ESM1_2_LR_ssp370,EC_Earth3_ssp370)\n",
    "\n",
    "firstMean=list()\n",
    "firstSD=list()\n",
    "secondMean=list()\n",
    "secondSD=list()\n",
    "n=1\n",
    "\n",
    "for m in mList:\n",
    "    fO=getFogTS_firsthalf(m)\n",
    "    firstMean.append(st.mean(fO))\n",
    "    firstSD.append(st.stdev(fO))\n",
    "    if(n==2) :\n",
    "        fO1=getFogTS_secondhalf2(m)\n",
    "    else :\n",
    "        fO1=getFogTS_secondhalf(m)\n",
    "    \n",
    "    secondMean.append(st.mean(fO1))\n",
    "    secondSD.append(st.stdev(fO1))\n",
    "    n=n+1\n",
    "\n",
    "print(firstMean) \n",
    "print(firstSD) \n",
    "print(secondMean) \n",
    "print(secondSD) \n",
    "   \n",
    "    "
   ]
  },
  {
   "cell_type": "code",
   "execution_count": 21,
   "metadata": {},
   "outputs": [
    {
     "name": "stdout",
     "output_type": "stream",
     "text": [
      "[0.36318595327583014]\n",
      "[0.0804504482817882]\n",
      "[0.3658346163375037]\n",
      "[0.06898547845986586]\n"
     ]
    }
   ],
   "source": [
    "mList=[IITM_ESM_ssp370]\n",
    "\n",
    "firstMean=list()\n",
    "firstSD=list()\n",
    "secondMean=list()\n",
    "secondSD=list()\n",
    "\n",
    "for m in mList:\n",
    "    fO=getFogTS_firsthalf(m)\n",
    "    firstMean.append(st.mean(fO))\n",
    "    firstSD.append(st.stdev(fO))\n",
    "    fO1=getFogTS_secondhalf2(m)\n",
    "    secondMean.append(st.mean(fO1))\n",
    "    secondSD.append(st.stdev(fO1))\n",
    "\n",
    "print(firstMean) \n",
    "print(firstSD) \n",
    "print(secondMean) \n",
    "print(secondSD) \n",
    "   \n",
    "    "
   ]
  },
  {
   "cell_type": "code",
   "execution_count": 27,
   "metadata": {},
   "outputs": [
    {
     "name": "stdout",
     "output_type": "stream",
     "text": [
      "[25.403066330458373, 28.206174141846404, 7.700095200492322, 25.33091284980287, 44.0148220412109]\n",
      "[-37.63850060854448, -27.34910802143734, -24.213356291718075, -30.503330748587953, 13.019243999077027]\n",
      "[14.489806062569977, 29.14116337990787, -11.14327307761709, 30.47682111789014, 23.078254108975543]\n",
      "[-36.22984536610046, -37.70256535895867, -43.33641853412631, -50.44332543277473, -23.079690412730955]\n"
     ]
    },
    {
     "data": {
      "text/plain": [
       "['../../Future_projection_plots/FF_Newssp370_secondSD.joblib']"
      ]
     },
     "execution_count": 27,
     "metadata": {},
     "output_type": "execute_result"
    }
   ],
   "source": [
    "mList=(ACCESS_CM2_ssp370,IITM_ESM_ssp370,IPSL_CM6A_LR_ssp370,MPI_ESM1_2_LR_ssp370,EC_Earth3_ssp370)\n",
    "#mList=(ACCESS_CM2_ssp370,IITM_ESM_ssp370,IPSL_CM6A_LR_ssp370,MPI_ESM1_2_LR_ssp370)\n",
    "\n",
    "firstMean=list()\n",
    "firstSD=list()\n",
    "secondMean=list()\n",
    "secondSD=list()\n",
    "n=1\n",
    "\n",
    "for m in mList:\n",
    "    \n",
    "    fO=getFogTS_firsthalf(m)\n",
    "    RCM=(st.mean(fO)-ObsMean)*100.0/ObsMean\n",
    "    firstMean.append(RCM)\n",
    "    RCSD=(st.stdev(fO)-ObsStd)*100.0/ObsStd\n",
    "    firstSD.append(RCSD)\n",
    "    if(n == 2):\n",
    "        fO1=getFogTS_secondhalf2(m)\n",
    "    else :\n",
    "        fO1=getFogTS_secondhalf(m)\n",
    "    \n",
    "    \n",
    "    \n",
    "    RCM=(st.mean(fO1)-ObsMean)*100.0/ObsMean\n",
    "    secondMean.append(RCM)\n",
    "    RCSD=(st.stdev(fO1)-ObsStd)*100.0/ObsStd\n",
    "    secondSD.append(RCSD)\n",
    "    n=n+1\n",
    "\n",
    "print(firstMean) \n",
    "print(firstSD) \n",
    "print(secondMean) \n",
    "print(secondSD) \n",
    "dump(firstMean,'../../Future_projection_plots/FF_Newssp370_firstMean.joblib')  \n",
    "dump(firstSD,'../../Future_projection_plots/FF_Newssp370_firstSD.joblib')\n",
    "dump(secondMean,'../../Future_projection_plots/FF_Newssp370_secondMean.joblib')\n",
    "dump(secondSD,'../../Future_projection_plots/FF_Newssp370_secondSD.joblib')\n",
    "    "
   ]
  },
  {
   "cell_type": "code",
   "execution_count": null,
   "metadata": {},
   "outputs": [],
   "source": []
  }
 ],
 "metadata": {
  "kernelspec": {
   "display_name": "Python 3",
   "language": "python",
   "name": "python3"
  },
  "language_info": {
   "codemirror_mode": {
    "name": "ipython",
    "version": 3
   },
   "file_extension": ".py",
   "mimetype": "text/x-python",
   "name": "python",
   "nbconvert_exporter": "python",
   "pygments_lexer": "ipython3",
   "version": "3.8.5"
  }
 },
 "nbformat": 4,
 "nbformat_minor": 4
}
