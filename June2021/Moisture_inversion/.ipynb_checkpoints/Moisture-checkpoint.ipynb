{
 "cells": [
  {
   "cell_type": "code",
   "execution_count": 87,
   "metadata": {},
   "outputs": [],
   "source": [
    "import xarray as xr\n",
    "import numpy as np\n",
    "import pandas as pd\n",
    "import datetime\n",
    "import matplotlib.pyplot as plt\n",
    "from math import e\n",
    "from joblib import dump, load\n",
    "import statistics as st\n",
    "from calendar import isleap"
   ]
  },
  {
   "cell_type": "markdown",
   "metadata": {},
   "source": [
    "# ERA5 Historical"
   ]
  },
  {
   "cell_type": "code",
   "execution_count": 88,
   "metadata": {},
   "outputs": [],
   "source": [
    "# create mask\n",
    "oro = OroD.z\n",
    "oro.values = OroD.z.values/9.81\n",
    "oro.attrs\n",
    "oro.attrs['units']='meter'\n",
    "oro.attrs['long_name']='Orography'\n",
    "oro.values[oro.values>500.1]=np.NaN\n",
    "mask=oro.values/oro.values"
   ]
  },
  {
   "cell_type": "code",
   "execution_count": 89,
   "metadata": {},
   "outputs": [
    {
     "name": "stdout",
     "output_type": "stream",
     "text": [
      "<xarray.DataArray 'rh' (dayofyear: 63)>\n",
      "array([67.286026, 67.56734 , 67.284775, 67.234726, 67.52001 , 67.55411 ,\n",
      "       68.079865, 68.18569 , 67.42123 , 66.94109 , 66.49118 , 65.93868 ,\n",
      "       64.518394, 63.760098, 64.338806, 64.463196, 64.37656 , 63.85966 ,\n",
      "       63.07877 , 62.449364, 61.583897, 61.53422 , 60.97212 , 59.67968 ,\n",
      "       59.637337, 60.02772 , 60.29982 , 60.794548, 60.764893, 60.389885,\n",
      "       60.48477 , 57.714287, 58.22636 , 58.8427  , 58.57728 , 58.24046 ,\n",
      "       58.81778 , 59.661865, 60.46652 , 60.81354 , 60.84201 , 61.012444,\n",
      "       61.94148 , 61.884613, 61.47194 , 61.70144 , 62.309578, 62.755623,\n",
      "       62.375896, 62.29729 , 62.843174, 63.485107, 64.27218 , 65.027855,\n",
      "       65.49678 , 66.08308 , 66.06476 , 65.60512 , 65.72246 , 65.56235 ,\n",
      "       65.59348 , 65.90942 , 66.566605], dtype=float32)\n",
      "Coordinates:\n",
      "  * dayofyear  (dayofyear) int64 1 2 3 4 5 6 7 8 ... 360 361 362 363 364 365 366\n"
     ]
    },
    {
     "name": "stderr",
     "output_type": "stream",
     "text": [
      "/home/cccr/diptih/anaconda3/lib/python3.8/site-packages/xarray/core/dataarray.py:3127: FutureWarning: roll_coords will be set to False in the future. Explicitly set roll_coords to silence warning.\n",
      "  ds = self._to_temp_dataset().roll(\n"
     ]
    },
    {
     "data": {
      "image/png": "[encoded data removed]",
      "text/plain": [
       "<Figure size 432x288 with 1 Axes>"
      ]
     },
     "metadata": {
      "needs_background": "light"
     },
     "output_type": "display_data"
    }
   ],
   "source": [
    "#Surface data\n",
    "t2mData = xr.open_dataset('../../../Data/eraDown/ERA5_2degree_Down/DailyMean/ERA5NH_t2m_daily_NovDecJan.nc')\n",
    "d2mData = xr.open_dataset('../../../Data/eraDown/ERA5_2degree_Down/DailyMean/ERA5NH_d2m_daily_NovDecJan.nc')\n",
    "# Read Orography\n",
    "OroData = xr.open_dataset('../../../Data/eraDown/ERA5_2degree_Down/DailyMean/ERA5IGP_Orography.nc')\n",
    "t2mD = t2mData.sel(latitude=slice(32,24),longitude=slice(74,86))\n",
    "d2mD = d2mData.sel(latitude=slice(32,24),longitude=slice(74,86))\n",
    "OroD = OroData.sel(latitude=slice(32,24),longitude=slice(74,86))\n",
    "\n",
    "rh = (e**((17.625*(d2mD.d2m.values-273.15))/(243.04+(d2mD.d2m.values-273.15)))/e**((17.625*(t2mD.t2m.values-273.15))/(243.04+(t2mD.t2m.values-273.15)))*100.0)\n",
    "rh_ds = xr.Dataset({'rh': (('time','latitude','longitude'), rh)}, coords={'time': t2mD.time,'latitude': t2mD.latitude,'longitude': t2mD.longitude})\n",
    "\n",
    "# apply mask\n",
    "rh_ds.rh.values=rh_ds.rh.values*mask\n",
    "\n",
    "# Area Average\n",
    "rhTS1=rh_ds.mean(dim=['latitude','longitude'], skipna=True).rh\n",
    "\n",
    "rhTs=(rhTS1[((rhTS1.time.dt.month>11) | (rhTS1.time.dt.month<2)) ].sel(time=slice('1980-12-1','2014-1-31')))\n",
    "# # Historical Moisture\n",
    "x=np.arange(1,63)\n",
    "rhHistMean1=rhTs.groupby('time.dayofyear').mean()\n",
    "rhHistMean2=rhHistMean1.roll(dayofyear=31)\n",
    "histRH=rhHistMean2[(rhHistMean2.dayofyear<366) | (rhHistMean2.dayofyear>366)]\n",
    "plt.plot(x,histRH,label='histRH', color='red')\n",
    "plt.legend()\n",
    "\n",
    "rhERA5HistMean=rhTs.groupby('time.dayofyear').mean()\n",
    "rhERA5HistMean\n",
    "rhERA5HistStd=rhTs.groupby('time.dayofyear').std()\n",
    "rhERA5HistStd\n",
    "\n",
    "print(rhERA5HistMean)"
   ]
  },
  {
   "cell_type": "code",
   "execution_count": 90,
   "metadata": {},
   "outputs": [
    {
     "name": "stdout",
     "output_type": "stream",
     "text": [
      "[46.405945 46.373646 47.49052  ... 64.187996 61.724712 59.635265]\n"
     ]
    },
    {
     "name": "stderr",
     "output_type": "stream",
     "text": [
      "/home/cccr/diptih/anaconda3/lib/python3.8/site-packages/xarray/core/dataarray.py:3127: FutureWarning: roll_coords will be set to False in the future. Explicitly set roll_coords to silence warning.\n",
      "  ds = self._to_temp_dataset().roll(\n"
     ]
    },
    {
     "data": {
      "text/plain": [
       "<matplotlib.legend.Legend at 0x2b459c737400>"
      ]
     },
     "execution_count": 90,
     "metadata": {},
     "output_type": "execute_result"
    },
    {
     "data": {
      "image/png": "[encoded data removed]",
      "text/plain": [
       "<Figure size 432x288 with 1 Axes>"
      ]
     },
     "metadata": {
      "needs_background": "light"
     },
     "output_type": "display_data"
    }
   ],
   "source": [
    "# IPSL\n",
    "\n",
    "rhData  = xr.open_dataset('../../../Data/CMIP6/IPSL-CM6A-LR/NDJF/Regrid_NH_hurs_NDJFday_IPSL-CM6A-LR_historical_r1i1p1f1_gr_18500101-20141231.nc')\n",
    "rhD  = rhData.hurs.sel(latitude=slice(32,24),longitude=slice(74,86))\n",
    "rhTS1=rhD.mean(dim=['latitude','longitude'], skipna=True)\n",
    "rhTsIPSL=(rhTS1[((rhTS1.time.dt.month>11) | (rhTS1.time.dt.month<2)) ].sel(time=slice('1980-12-1','2014-1-31')))\n",
    "\n",
    "# EC-Earth3\n",
    "rhData  = xr.open_dataset('../../../Data/CMIP6/EC-Earth3/processed/Regrid_hurs_day_EC-Earth3_historical_r1i1p1f1_gr_18500101-20141231.nc')\n",
    "rhD  = rhData.hurs.sel(latitude=slice(32,24),longitude=slice(74,86))\n",
    "rhTS1=rhD.mean(dim=['latitude','longitude'], skipna=True)\n",
    "rhTsEC=(rhTS1[((rhTS1.time.dt.month>11) | (rhTS1.time.dt.month<2)) ].sel(time=slice('1980-12-1','2014-1-31')))\n",
    "\n",
    "\n",
    "# ACCESS-CM2\n",
    "\n",
    "rhData  = xr.open_dataset('../../../Data/CMIP6/ACCESS-CM2/hursNHRegrid_NDJFday_ACCESS-CM2_historical_r1i1p1f1_gn_19500101-20141231.nc')\n",
    "rhD  = rhData.hurs.sel(latitude=slice(32,24),longitude=slice(74,86))\n",
    "rhTS1=rhD.mean(dim=['latitude','longitude'], skipna=True)\n",
    "rhTsACCESS=(rhTS1[((rhTS1.time.dt.month>11) | (rhTS1.time.dt.month<2)) ].sel(time=slice('1980-12-1','2014-1-31')))\n",
    "\n",
    "\n",
    "\n",
    "MTs=[rhTsIPSL,rhTsEC,rhTsACCESS]\n",
    "\n",
    "MS=np.array(MTs)\n",
    "meanMS=np.mean(MS, axis=0)\n",
    "print(meanMS)\n",
    "\n",
    "ensTs=rhTs.copy()\n",
    "ensTs.values=meanMS\n",
    "\n",
    "\n",
    "# # Historical Moisture\n",
    "x=np.arange(1,63)\n",
    "rhHistMean1=ensTs.groupby('time.dayofyear').mean()\n",
    "rhHistMean2=rhHistMean1.roll(dayofyear=31)\n",
    "histRH_ens=rhHistMean2[(rhHistMean2.dayofyear<366) | (rhHistMean2.dayofyear>366)]\n",
    "plt.plot(x,histRH_ens,label='ens', color='red')\n",
    "plt.plot(x,histRH,label='hisRH', color='black')\n",
    "\n",
    "plt.ylim([40, 80])\n",
    "plt.legend()\n",
    "\n"
   ]
  },
  {
   "cell_type": "code",
   "execution_count": 91,
   "metadata": {},
   "outputs": [
    {
     "name": "stdout",
     "output_type": "stream",
     "text": [
      "[46.405945 46.373646 47.49052  ... 64.187996 61.724712 59.635265]\n"
     ]
    },
    {
     "data": {
      "text/html": [
       "<div><svg style=\"position: absolute; width: 0; height: 0; overflow: hidden\">\n",
       "<defs>\n",
       "<symbol id=\"icon-database\" viewBox=\"0 0 32 32\">\n",
       "<path d=\"M16 0c-8.837 0-16 2.239-16 5v4c0 2.761 7.163 5 16 5s16-2.239 16-5v-4c0-2.761-7.163-5-16-5z\"></path>\n",
       "<path d=\"M16 17c-8.837 0-16-2.239-16-5v6c0 2.761 7.163 5 16 5s16-2.239 16-5v-6c0 2.761-7.163 5-16 5z\"></path>\n",
       "<path d=\"M16 26c-8.837 0-16-2.239-16-5v6c0 2.761 7.163 5 16 5s16-2.239 16-5v-6c0 2.761-7.163 5-16 5z\"></path>\n",
       "</symbol>\n",
       "<symbol id=\"icon-file-text2\" viewBox=\"0 0 32 32\">\n",
       "<path d=\"M28.681 7.159c-0.694-0.947-1.662-2.053-2.724-3.116s-2.169-2.030-3.116-2.724c-1.612-1.182-2.393-1.319-2.841-1.319h-15.5c-1.378 0-2.5 1.121-2.5 2.5v27c0 1.378 1.122 2.5 2.5 2.5h23c1.378 0 2.5-1.122 2.5-2.5v-19.5c0-0.448-0.137-1.23-1.319-2.841zM24.543 5.457c0.959 0.959 1.712 1.825 2.268 2.543h-4.811v-4.811c0.718 0.556 1.584 1.309 2.543 2.268zM28 29.5c0 0.271-0.229 0.5-0.5 0.5h-23c-0.271 0-0.5-0.229-0.5-0.5v-27c0-0.271 0.229-0.5 0.5-0.5 0 0 15.499-0 15.5 0v7c0 0.552 0.448 1 1 1h7v19.5z\"></path>\n",
       "<path d=\"M23 26h-14c-0.552 0-1-0.448-1-1s0.448-1 1-1h14c0.552 0 1 0.448 1 1s-0.448 1-1 1z\"></path>\n",
       "<path d=\"M23 22h-14c-0.552 0-1-0.448-1-1s0.448-1 1-1h14c0.552 0 1 0.448 1 1s-0.448 1-1 1z\"></path>\n",
       "<path d=\"M23 18h-14c-0.552 0-1-0.448-1-1s0.448-1 1-1h14c0.552 0 1 0.448 1 1s-0.448 1-1 1z\"></path>\n",
       "</symbol>\n",
       "</defs>\n",
       "</svg>\n",
       "<style>/* CSS stylesheet for displaying xarray objects in jupyterlab.\n",
       " *\n",
       " */\n",
       "\n",
       ":root {\n",
       "  --xr-font-color0: var(--jp-content-font-color0, rgba(0, 0, 0, 1));\n",
       "  --xr-font-color2: var(--jp-content-font-color2, rgba(0, 0, 0, 0.54));\n",
       "  --xr-font-color3: var(--jp-content-font-color3, rgba(0, 0, 0, 0.38));\n",
       "  --xr-border-color: var(--jp-border-color2, #e0e0e0);\n",
       "  --xr-disabled-color: var(--jp-layout-color3, #bdbdbd);\n",
       "  --xr-background-color: var(--jp-layout-color0, white);\n",
       "  --xr-background-color-row-even: var(--jp-layout-color1, white);\n",
       "  --xr-background-color-row-odd: var(--jp-layout-color2, #eeeeee);\n",
       "}\n",
       "\n",
       "html[theme=dark],\n",
       "body.vscode-dark {\n",
       "  --xr-font-color0: rgba(255, 255, 255, 1);\n",
       "  --xr-font-color2: rgba(255, 255, 255, 0.54);\n",
       "  --xr-font-color3: rgba(255, 255, 255, 0.38);\n",
       "  --xr-border-color: #1F1F1F;\n",
       "  --xr-disabled-color: #515151;\n",
       "  --xr-background-color: #111111;\n",
       "  --xr-background-color-row-even: #111111;\n",
       "  --xr-background-color-row-odd: #313131;\n",
       "}\n",
       "\n",
       ".xr-wrap {\n",
       "  display: block;\n",
       "  min-width: 300px;\n",
       "  max-width: 700px;\n",
       "}\n",
       "\n",
       ".xr-text-repr-fallback {\n",
       "  /* fallback to plain text repr when CSS is not injected (untrusted notebook) */\n",
       "  display: none;\n",
       "}\n",
       "\n",
       ".xr-header {\n",
       "  padding-top: 6px;\n",
       "  padding-bottom: 6px;\n",
       "  margin-bottom: 4px;\n",
       "  border-bottom: solid 1px var(--xr-border-color);\n",
       "}\n",
       "\n",
       ".xr-header > div,\n",
       ".xr-header > ul {\n",
       "  display: inline;\n",
       "  margin-top: 0;\n",
       "  margin-bottom: 0;\n",
       "}\n",
       "\n",
       ".xr-obj-type,\n",
       ".xr-array-name {\n",
       "  margin-left: 2px;\n",
       "  margin-right: 10px;\n",
       "}\n",
       "\n",
       ".xr-obj-type {\n",
       "  color: var(--xr-font-color2);\n",
       "}\n",
       "\n",
       ".xr-sections {\n",
       "  padding-left: 0 !important;\n",
       "  display: grid;\n",
       "  grid-template-columns: 150px auto auto 1fr 20px 20px;\n",
       "}\n",
       "\n",
       ".xr-section-item {\n",
       "  display: contents;\n",
       "}\n",
       "\n",
       ".xr-section-item input {\n",
       "  display: none;\n",
       "}\n",
       "\n",
       ".xr-section-item input + label {\n",
       "  color: var(--xr-disabled-color);\n",
       "}\n",
       "\n",
       ".xr-section-item input:enabled + label {\n",
       "  cursor: pointer;\n",
       "  color: var(--xr-font-color2);\n",
       "}\n",
       "\n",
       ".xr-section-item input:enabled + label:hover {\n",
       "  color: var(--xr-font-color0);\n",
       "}\n",
       "\n",
       ".xr-section-summary {\n",
       "  grid-column: 1;\n",
       "  color: var(--xr-font-color2);\n",
       "  font-weight: 500;\n",
       "}\n",
       "\n",
       ".xr-section-summary > span {\n",
       "  display: inline-block;\n",
       "  padding-left: 0.5em;\n",
       "}\n",
       "\n",
       ".xr-section-summary-in:disabled + label {\n",
       "  color: var(--xr-font-color2);\n",
       "}\n",
       "\n",
       ".xr-section-summary-in + label:before {\n",
       "  display: inline-block;\n",
       "  content: '►';\n",
       "  font-size: 11px;\n",
       "  width: 15px;\n",
       "  text-align: center;\n",
       "}\n",
       "\n",
       ".xr-section-summary-in:disabled + label:before {\n",
       "  color: var(--xr-disabled-color);\n",
       "}\n",
       "\n",
       ".xr-section-summary-in:checked + label:before {\n",
       "  content: '▼';\n",
       "}\n",
       "\n",
       ".xr-section-summary-in:checked + label > span {\n",
       "  display: none;\n",
       "}\n",
       "\n",
       ".xr-section-summary,\n",
       ".xr-section-inline-details {\n",
       "  padding-top: 4px;\n",
       "  padding-bottom: 4px;\n",
       "}\n",
       "\n",
       ".xr-section-inline-details {\n",
       "  grid-column: 2 / -1;\n",
       "}\n",
       "\n",
       ".xr-section-details {\n",
       "  display: none;\n",
       "  grid-column: 1 / -1;\n",
       "  margin-bottom: 5px;\n",
       "}\n",
       "\n",
       ".xr-section-summary-in:checked ~ .xr-section-details {\n",
       "  display: contents;\n",
       "}\n",
       "\n",
       ".xr-array-wrap {\n",
       "  grid-column: 1 / -1;\n",
       "  display: grid;\n",
       "  grid-template-columns: 20px auto;\n",
       "}\n",
       "\n",
       ".xr-array-wrap > label {\n",
       "  grid-column: 1;\n",
       "  vertical-align: top;\n",
       "}\n",
       "\n",
       ".xr-preview {\n",
       "  color: var(--xr-font-color3);\n",
       "}\n",
       "\n",
       ".xr-array-preview,\n",
       ".xr-array-data {\n",
       "  padding: 0 5px !important;\n",
       "  grid-column: 2;\n",
       "}\n",
       "\n",
       ".xr-array-data,\n",
       ".xr-array-in:checked ~ .xr-array-preview {\n",
       "  display: none;\n",
       "}\n",
       "\n",
       ".xr-array-in:checked ~ .xr-array-data,\n",
       ".xr-array-preview {\n",
       "  display: inline-block;\n",
       "}\n",
       "\n",
       ".xr-dim-list {\n",
       "  display: inline-block !important;\n",
       "  list-style: none;\n",
       "  padding: 0 !important;\n",
       "  margin: 0;\n",
       "}\n",
       "\n",
       ".xr-dim-list li {\n",
       "  display: inline-block;\n",
       "  padding: 0;\n",
       "  margin: 0;\n",
       "}\n",
       "\n",
       ".xr-dim-list:before {\n",
       "  content: '(';\n",
       "}\n",
       "\n",
       ".xr-dim-list:after {\n",
       "  content: ')';\n",
       "}\n",
       "\n",
       ".xr-dim-list li:not(:last-child):after {\n",
       "  content: ',';\n",
       "  padding-right: 5px;\n",
       "}\n",
       "\n",
       ".xr-has-index {\n",
       "  font-weight: bold;\n",
       "}\n",
       "\n",
       ".xr-var-list,\n",
       ".xr-var-item {\n",
       "  display: contents;\n",
       "}\n",
       "\n",
       ".xr-var-item > div,\n",
       ".xr-var-item label,\n",
       ".xr-var-item > .xr-var-name span {\n",
       "  background-color: var(--xr-background-color-row-even);\n",
       "  margin-bottom: 0;\n",
       "}\n",
       "\n",
       ".xr-var-item > .xr-var-name:hover span {\n",
       "  padding-right: 5px;\n",
       "}\n",
       "\n",
       ".xr-var-list > li:nth-child(odd) > div,\n",
       ".xr-var-list > li:nth-child(odd) > label,\n",
       ".xr-var-list > li:nth-child(odd) > .xr-var-name span {\n",
       "  background-color: var(--xr-background-color-row-odd);\n",
       "}\n",
       "\n",
       ".xr-var-name {\n",
       "  grid-column: 1;\n",
       "}\n",
       "\n",
       ".xr-var-dims {\n",
       "  grid-column: 2;\n",
       "}\n",
       "\n",
       ".xr-var-dtype {\n",
       "  grid-column: 3;\n",
       "  text-align: right;\n",
       "  color: var(--xr-font-color2);\n",
       "}\n",
       "\n",
       ".xr-var-preview {\n",
       "  grid-column: 4;\n",
       "}\n",
       "\n",
       ".xr-var-name,\n",
       ".xr-var-dims,\n",
       ".xr-var-dtype,\n",
       ".xr-preview,\n",
       ".xr-attrs dt {\n",
       "  white-space: nowrap;\n",
       "  overflow: hidden;\n",
       "  text-overflow: ellipsis;\n",
       "  padding-right: 10px;\n",
       "}\n",
       "\n",
       ".xr-var-name:hover,\n",
       ".xr-var-dims:hover,\n",
       ".xr-var-dtype:hover,\n",
       ".xr-attrs dt:hover {\n",
       "  overflow: visible;\n",
       "  width: auto;\n",
       "  z-index: 1;\n",
       "}\n",
       "\n",
       ".xr-var-attrs,\n",
       ".xr-var-data {\n",
       "  display: none;\n",
       "  background-color: var(--xr-background-color) !important;\n",
       "  padding-bottom: 5px !important;\n",
       "}\n",
       "\n",
       ".xr-var-attrs-in:checked ~ .xr-var-attrs,\n",
       ".xr-var-data-in:checked ~ .xr-var-data {\n",
       "  display: block;\n",
       "}\n",
       "\n",
       ".xr-var-data > table {\n",
       "  float: right;\n",
       "}\n",
       "\n",
       ".xr-var-name span,\n",
       ".xr-var-data,\n",
       ".xr-attrs {\n",
       "  padding-left: 25px !important;\n",
       "}\n",
       "\n",
       ".xr-attrs,\n",
       ".xr-var-attrs,\n",
       ".xr-var-data {\n",
       "  grid-column: 1 / -1;\n",
       "}\n",
       "\n",
       "dl.xr-attrs {\n",
       "  padding: 0;\n",
       "  margin: 0;\n",
       "  display: grid;\n",
       "  grid-template-columns: 125px auto;\n",
       "}\n",
       "\n",
       ".xr-attrs dt,\n",
       ".xr-attrs dd {\n",
       "  padding: 0;\n",
       "  margin: 0;\n",
       "  float: left;\n",
       "  padding-right: 10px;\n",
       "  width: auto;\n",
       "}\n",
       "\n",
       ".xr-attrs dt {\n",
       "  font-weight: normal;\n",
       "  grid-column: 1;\n",
       "}\n",
       "\n",
       ".xr-attrs dt:hover span {\n",
       "  display: inline-block;\n",
       "  background: var(--xr-background-color);\n",
       "  padding-right: 10px;\n",
       "}\n",
       "\n",
       ".xr-attrs dd {\n",
       "  grid-column: 2;\n",
       "  white-space: pre-wrap;\n",
       "  word-break: break-all;\n",
       "}\n",
       "\n",
       ".xr-icon-database,\n",
       ".xr-icon-file-text2 {\n",
       "  display: inline-block;\n",
       "  vertical-align: middle;\n",
       "  width: 1em;\n",
       "  height: 1.5em !important;\n",
       "  stroke-width: 0;\n",
       "  stroke: currentColor;\n",
       "  fill: currentColor;\n",
       "}\n",
       "</style><pre class='xr-text-repr-fallback'>&lt;xarray.DataArray &#x27;rh&#x27; (dayofyear: 63)&gt;\n",
       "array([54.02684 , 54.87179 , 54.91794 , 54.447388, 53.986996, 52.883675,\n",
       "       51.970905, 52.141617, 52.479256, 52.462128, 52.57988 , 52.69113 ,\n",
       "       53.37062 , 53.11801 , 52.498848, 51.92467 , 51.965454, 51.432365,\n",
       "       51.227333, 51.32986 , 51.883408, 52.053383, 51.35251 , 50.666836,\n",
       "       50.524353, 50.695206, 50.062435, 49.423557, 49.924335, 49.78654 ,\n",
       "       49.589584, 46.88496 , 47.51752 , 47.393944, 48.429794, 48.85906 ,\n",
       "       48.875553, 49.312653, 49.242268, 48.47603 , 48.519817, 49.181526,\n",
       "       50.22827 , 49.64344 , 49.473186, 50.585556, 51.425644, 52.088814,\n",
       "       52.616962, 52.655342, 52.4205  , 52.72681 , 53.01823 , 53.129436,\n",
       "       53.032314, 53.126595, 53.226   , 52.938564, 52.95391 , 53.263824,\n",
       "       53.36624 , 53.817604, 58.963814], dtype=float32)\n",
       "Coordinates:\n",
       "  * dayofyear  (dayofyear) int64 1 2 3 4 5 6 7 8 ... 360 361 362 363 364 365 366</pre><div class='xr-wrap' hidden><div class='xr-header'><div class='xr-obj-type'>xarray.DataArray</div><div class='xr-array-name'>'rh'</div><ul class='xr-dim-list'><li><span class='xr-has-index'>dayofyear</span>: 63</li></ul></div><ul class='xr-sections'><li class='xr-section-item'><div class='xr-array-wrap'><input id='section-dcc7abd7-53a3-4ca8-90df-d04e93c9262a' class='xr-array-in' type='checkbox' checked><label for='section-dcc7abd7-53a3-4ca8-90df-d04e93c9262a' title='Show/hide data repr'><svg class='icon xr-icon-database'><use xlink:href='#icon-database'></use></svg></label><div class='xr-array-preview xr-preview'><span>54.03 54.87 54.92 54.45 53.99 52.88 ... 52.95 53.26 53.37 53.82 58.96</span></div><div class='xr-array-data'><pre>array([54.02684 , 54.87179 , 54.91794 , 54.447388, 53.986996, 52.883675,\n",
       "       51.970905, 52.141617, 52.479256, 52.462128, 52.57988 , 52.69113 ,\n",
       "       53.37062 , 53.11801 , 52.498848, 51.92467 , 51.965454, 51.432365,\n",
       "       51.227333, 51.32986 , 51.883408, 52.053383, 51.35251 , 50.666836,\n",
       "       50.524353, 50.695206, 50.062435, 49.423557, 49.924335, 49.78654 ,\n",
       "       49.589584, 46.88496 , 47.51752 , 47.393944, 48.429794, 48.85906 ,\n",
       "       48.875553, 49.312653, 49.242268, 48.47603 , 48.519817, 49.181526,\n",
       "       50.22827 , 49.64344 , 49.473186, 50.585556, 51.425644, 52.088814,\n",
       "       52.616962, 52.655342, 52.4205  , 52.72681 , 53.01823 , 53.129436,\n",
       "       53.032314, 53.126595, 53.226   , 52.938564, 52.95391 , 53.263824,\n",
       "       53.36624 , 53.817604, 58.963814], dtype=float32)</pre></div></div></li><li class='xr-section-item'><input id='section-90dda2f1-ed3d-476f-9b16-429099356f35' class='xr-section-summary-in' type='checkbox'  checked><label for='section-90dda2f1-ed3d-476f-9b16-429099356f35' class='xr-section-summary' >Coordinates: <span>(1)</span></label><div class='xr-section-inline-details'></div><div class='xr-section-details'><ul class='xr-var-list'><li class='xr-var-item'><div class='xr-var-name'><span class='xr-has-index'>dayofyear</span></div><div class='xr-var-dims'>(dayofyear)</div><div class='xr-var-dtype'>int64</div><div class='xr-var-preview xr-preview'>1 2 3 4 5 6 ... 362 363 364 365 366</div><input id='attrs-df9b439f-cbb8-4424-9f42-90bf48c8f800' class='xr-var-attrs-in' type='checkbox' disabled><label for='attrs-df9b439f-cbb8-4424-9f42-90bf48c8f800' title='Show/Hide attributes'><svg class='icon xr-icon-file-text2'><use xlink:href='#icon-file-text2'></use></svg></label><input id='data-806ecff7-2875-4230-8791-6620dd196824' class='xr-var-data-in' type='checkbox'><label for='data-806ecff7-2875-4230-8791-6620dd196824' title='Show/Hide data repr'><svg class='icon xr-icon-database'><use xlink:href='#icon-database'></use></svg></label><div class='xr-var-attrs'><dl class='xr-attrs'></dl></div><div class='xr-var-data'><pre>array([  1,   2,   3,   4,   5,   6,   7,   8,   9,  10,  11,  12,  13,  14,\n",
       "        15,  16,  17,  18,  19,  20,  21,  22,  23,  24,  25,  26,  27,  28,\n",
       "        29,  30,  31, 335, 336, 337, 338, 339, 340, 341, 342, 343, 344, 345,\n",
       "       346, 347, 348, 349, 350, 351, 352, 353, 354, 355, 356, 357, 358, 359,\n",
       "       360, 361, 362, 363, 364, 365, 366])</pre></div></li></ul></div></li><li class='xr-section-item'><input id='section-beda81d2-1d7b-45c0-9654-1be6ee0f2e73' class='xr-section-summary-in' type='checkbox' disabled ><label for='section-beda81d2-1d7b-45c0-9654-1be6ee0f2e73' class='xr-section-summary'  title='Expand/collapse section'>Attributes: <span>(0)</span></label><div class='xr-section-inline-details'></div><div class='xr-section-details'><dl class='xr-attrs'></dl></div></li></ul></div></div>"
      ],
      "text/plain": [
       "<xarray.DataArray 'rh' (dayofyear: 63)>\n",
       "array([54.02684 , 54.87179 , 54.91794 , 54.447388, 53.986996, 52.883675,\n",
       "       51.970905, 52.141617, 52.479256, 52.462128, 52.57988 , 52.69113 ,\n",
       "       53.37062 , 53.11801 , 52.498848, 51.92467 , 51.965454, 51.432365,\n",
       "       51.227333, 51.32986 , 51.883408, 52.053383, 51.35251 , 50.666836,\n",
       "       50.524353, 50.695206, 50.062435, 49.423557, 49.924335, 49.78654 ,\n",
       "       49.589584, 46.88496 , 47.51752 , 47.393944, 48.429794, 48.85906 ,\n",
       "       48.875553, 49.312653, 49.242268, 48.47603 , 48.519817, 49.181526,\n",
       "       50.22827 , 49.64344 , 49.473186, 50.585556, 51.425644, 52.088814,\n",
       "       52.616962, 52.655342, 52.4205  , 52.72681 , 53.01823 , 53.129436,\n",
       "       53.032314, 53.126595, 53.226   , 52.938564, 52.95391 , 53.263824,\n",
       "       53.36624 , 53.817604, 58.963814], dtype=float32)\n",
       "Coordinates:\n",
       "  * dayofyear  (dayofyear) int64 1 2 3 4 5 6 7 8 ... 360 361 362 363 364 365 366"
      ]
     },
     "execution_count": 91,
     "metadata": {},
     "output_type": "execute_result"
    }
   ],
   "source": [
    "# # Historica/ref best3 ensemble mean and std\n",
    "\n",
    "# IPSL\n",
    "\n",
    "rhData  = xr.open_dataset('../../../Data/CMIP6/IPSL-CM6A-LR/NDJF/Regrid_NH_hurs_NDJFday_IPSL-CM6A-LR_historical_r1i1p1f1_gr_18500101-20141231.nc')\n",
    "rhD  = rhData.hurs.sel(latitude=slice(32,24),longitude=slice(74,86))\n",
    "rhTS1=rhD.mean(dim=['latitude','longitude'], skipna=True)\n",
    "rhTsIPSL=(rhTS1[((rhTS1.time.dt.month>11) | (rhTS1.time.dt.month<2)) ].sel(time=slice('1980-12-1','2014-1-31')))\n",
    "\n",
    "# EC-Earth3\n",
    "rhData  = xr.open_dataset('../../../Data/CMIP6/EC-Earth3/processed/Regrid_hurs_day_EC-Earth3_historical_r1i1p1f1_gr_18500101-20141231.nc')\n",
    "rhD  = rhData.hurs.sel(latitude=slice(32,24),longitude=slice(74,86))\n",
    "rhTS1=rhD.mean(dim=['latitude','longitude'], skipna=True)\n",
    "rhTsEC=(rhTS1[((rhTS1.time.dt.month>11) | (rhTS1.time.dt.month<2)) ].sel(time=slice('1980-12-1','2014-1-31')))\n",
    "\n",
    "\n",
    "# ACCESS-CM2\n",
    "\n",
    "rhData  = xr.open_dataset('../../../Data/CMIP6/ACCESS-CM2/hursNHRegrid_NDJFday_ACCESS-CM2_historical_r1i1p1f1_gn_19500101-20141231.nc')\n",
    "rhD  = rhData.hurs.sel(latitude=slice(32,24),longitude=slice(74,86))\n",
    "rhTS1=rhD.mean(dim=['latitude','longitude'], skipna=True)\n",
    "rhTsACCESS=(rhTS1[((rhTS1.time.dt.month>11) | (rhTS1.time.dt.month<2)) ].sel(time=slice('1980-12-1','2014-1-31')))\n",
    "\n",
    "\n",
    "\n",
    "MTs=[rhTsIPSL,rhTsEC,rhTsACCESS]\n",
    "\n",
    "MS=np.array(MTs)\n",
    "meanMS=np.mean(MS, axis=0)\n",
    "print(meanMS)\n",
    "\n",
    "ensTs=rhTs.copy()\n",
    "ensTs.values=meanMS\n",
    "\n",
    "ensTsMean=ensTs.groupby('time.dayofyear').mean()\n",
    "ensTsStd=ensTs.groupby('time.dayofyear').std()\n",
    "ensTsMean\n"
   ]
  },
  {
   "cell_type": "code",
   "execution_count": 93,
   "metadata": {},
   "outputs": [
    {
     "name": "stdout",
     "output_type": "stream",
     "text": [
      "51.514783870110705\n"
     ]
    },
    {
     "name": "stderr",
     "output_type": "stream",
     "text": [
      "/home/cccr/diptih/anaconda3/lib/python3.8/site-packages/xarray/core/dataarray.py:3127: FutureWarning: roll_coords will be set to False in the future. Explicitly set roll_coords to silence warning.\n",
      "  ds = self._to_temp_dataset().roll(\n",
      "The PostScript backend does not support transparency; partially transparent artists will be rendered opaque.\n",
      "The PostScript backend does not support transparency; partially transparent artists will be rendered opaque.\n"
     ]
    },
    {
     "data": {
      "image/png": "[encoded data removed]",
      "text/plain": [
       "<Figure size 432x288 with 1 Axes>"
      ]
     },
     "metadata": {
      "needs_background": "light"
     },
     "output_type": "display_data"
    }
   ],
   "source": [
    "### Historical Bias Correction\n",
    "\n",
    "x=np.arange(1,63)\n",
    "plt.plot(x,histRH,label='ERA5Hist_RH', color='black')\n",
    "\n",
    "# IPSL\n",
    "\n",
    "rhData  = xr.open_dataset('../../../Data/CMIP6/IPSL-CM6A-LR/NDJF/Regrid_NH_hurs_NDJFday_IPSL-CM6A-LR_historical_r1i1p1f1_gr_18500101-20141231.nc')\n",
    "rhD  = rhData.hurs.sel(latitude=slice(32,24),longitude=slice(74,86))\n",
    "rhTS1=rhD.mean(dim=['latitude','longitude'], skipna=True)\n",
    "rhTsIPSL=(rhTS1[((rhTS1.time.dt.month>11) | (rhTS1.time.dt.month<2)) ].sel(time=slice('1980-12-1','2014-1-31')))\n",
    "\n",
    "# EC-Earth3\n",
    "rhData  = xr.open_dataset('../../../Data/CMIP6/EC-Earth3/processed/Regrid_hurs_day_EC-Earth3_historical_r1i1p1f1_gr_18500101-20141231.nc')\n",
    "rhD  = rhData.hurs.sel(latitude=slice(32,24),longitude=slice(74,86))\n",
    "rhTS1=rhD.mean(dim=['latitude','longitude'], skipna=True)\n",
    "rhTsEC=(rhTS1[((rhTS1.time.dt.month>11) | (rhTS1.time.dt.month<2)) ].sel(time=slice('1980-12-1','2014-1-31')))\n",
    "\n",
    "\n",
    "# ACCESS-CM2\n",
    "\n",
    "rhData  = xr.open_dataset('../../../Data/CMIP6/ACCESS-CM2/hursNHRegrid_NDJFday_ACCESS-CM2_historical_r1i1p1f1_gn_19500101-20141231.nc')\n",
    "rhD  = rhData.hurs.sel(latitude=slice(32,24),longitude=slice(74,86))\n",
    "rhTS1=rhD.mean(dim=['latitude','longitude'], skipna=True)\n",
    "rhTsACCESS=(rhTS1[((rhTS1.time.dt.month>11) | (rhTS1.time.dt.month<2)) ].sel(time=slice('1980-12-1','2014-1-31')))\n",
    "\n",
    "\n",
    "\n",
    "MTs=[]\n",
    "for c in rhTsACCESS.time:\n",
    "        \n",
    "    MTs.append((rhTsACCESS.sel(time=c)+rhTsIPSL.sel(time=c)+\n",
    "                rhTsEC.sel(time=c))/3.0)\n",
    "    \n",
    "ensFu=rhTsACCESS.copy()\n",
    "ensFu.values=MTs\n",
    "\n",
    "\n",
    "MS=np.array(MTs)\n",
    "meanMS=np.mean(MS, axis=0)\n",
    "print(meanMS)\n",
    "\n",
    "ensFu=rhTsACCESS.copy()\n",
    "ensFu.values=MTs\n",
    "\n",
    "ensFuMean=ensFu.groupby('time.dayofyear').mean()\n",
    "ensFuStd=ensFu.groupby('time.dayofyear').std()\n",
    "\n",
    "### Change factor\n",
    "\n",
    "BC=[]\n",
    "\n",
    "\n",
    "for d in ensFu.time:\n",
    "    t=pd.Period(d.values, freq='H').dayofyear\n",
    "    yr=d.dt.year.values\n",
    "    if(isleap(yr) & t>334 ):\n",
    "        t=t-1\n",
    "    \n",
    "    BC.append(rhERA5HistMean.sel(dayofyear=t).values+\n",
    "                               (rhERA5HistStd.sel(dayofyear=t).values/ensTsStd.sel(dayofyear=t).values)*\n",
    "                               (ensFu.sel(time=d).values-ensTsMean.sel(dayofyear=t).values))\n",
    "    \n",
    "\n",
    "#ensFuBC=np.array(BC)\n",
    "\n",
    "ensFuBC = xr.DataArray( data=BC,dims=[ \"time\"], coords=dict(time=ensFu.time))\n",
    "#print(ensFuBC)\n",
    "#print(ensFu)\n",
    "\n",
    "#print(ensFuBC)\n",
    "#print(cnnObs)\n",
    "\n",
    "ensFuBCHistMean1=ensFuBC.groupby('time.dayofyear').mean()\n",
    "ensFuBCHistMean2=ensFuBCHistMean1.roll(dayofyear=31)\n",
    "histBCens=ensFuBCHistMean2[(ensFuBCHistMean2.dayofyear<366) | (ensFuBCHistMean2.dayofyear>366)]\n",
    "plt.plot(x,histBCens,label='histBCens', color='red')\n",
    "plt.legend()\n",
    "plt.savefig('histEnsBCTS.eps')\n",
    "plt.show()\n",
    "\n",
    "df=ensFuBC.to_dataframe(name='histEnsBCTS')\n",
    "#np.savetxt('histEnsTS.txt', df.values, fmt='%1.3f')\n",
    "\n"
   ]
  },
  {
   "cell_type": "code",
   "execution_count": null,
   "metadata": {},
   "outputs": [],
   "source": []
  },
  {
   "cell_type": "code",
   "execution_count": null,
   "metadata": {},
   "outputs": [],
   "source": []
  },
  {
   "cell_type": "markdown",
   "metadata": {},
   "source": [
    "\n",
    "# Future proj"
   ]
  },
  {
   "cell_type": "code",
   "execution_count": 62,
   "metadata": {},
   "outputs": [],
   "source": [
    "## CF Future\n",
    "ssps=['370','585']\n",
    "#ssps=['370']"
   ]
  },
  {
   "cell_type": "code",
   "execution_count": 69,
   "metadata": {},
   "outputs": [
    {
     "name": "stdout",
     "output_type": "stream",
     "text": [
      "ACCESS-CM2\n",
      "EC-Earth3\n",
      "IPSL-CM6A-LR\n",
      "[46.646484 51.68372  57.67279  ... 55.181824 54.438046 53.818897]\n",
      "ACCESS-CM2\n"
     ]
    },
    {
     "name": "stderr",
     "output_type": "stream",
     "text": [
      "/home/cccr/diptih/anaconda3/lib/python3.8/site-packages/xarray/core/dataarray.py:3127: FutureWarning: roll_coords will be set to False in the future. Explicitly set roll_coords to silence warning.\n",
      "  ds = self._to_temp_dataset().roll(\n"
     ]
    },
    {
     "name": "stdout",
     "output_type": "stream",
     "text": [
      "EC-Earth3\n",
      "IPSL-CM6A-LR\n",
      "[46.633503 51.747787 57.53831  ... 61.449818 60.93408  59.558777]\n"
     ]
    },
    {
     "name": "stderr",
     "output_type": "stream",
     "text": [
      "/home/cccr/diptih/anaconda3/lib/python3.8/site-packages/xarray/core/dataarray.py:3127: FutureWarning: roll_coords will be set to False in the future. Explicitly set roll_coords to silence warning.\n",
      "  ds = self._to_temp_dataset().roll(\n"
     ]
    },
    {
     "data": {
      "text/plain": [
       "Text(0.5, 1.0, 'Future 2015-2045')"
      ]
     },
     "execution_count": 69,
     "metadata": {},
     "output_type": "execute_result"
    },
    {
     "data": {
      "image/png": "[encoded data removed]",
      "text/plain": [
       "<Figure size 432x288 with 1 Axes>"
      ]
     },
     "metadata": {
      "needs_background": "light"
     },
     "output_type": "display_data"
    }
   ],
   "source": [
    "# # Historical Moisture\n",
    "x=np.arange(1,63)\n",
    "plt.plot(x,histRH_ens,label='ens', color='red')\n",
    "plt.plot(x,histRH*100.0,label='hisRH', color='black')\n",
    "\n",
    "\n",
    "for sp in ssps:\n",
    "\n",
    "    folderString='/home/cccr/diptih/dipti/Data/ssp'+sp+'/'+m+'/processed/'\n",
    "    \n",
    "    rhData=xr.open_dataset(folderString+'Regrid_hurs_day_IPSL-CM6A-LR_ssp'+sp+'_r1i1p1f1_gr_20150101-21001231.nc')\n",
    "    rhD  = rhData.hurs.sel(latitude=slice(32,24),longitude=slice(74,86))\n",
    "    rhTS1=rhD.mean(dim=['latitude','longitude'], skipna=True)\n",
    "    rhTIPSL=(rhTS1[((rhTS1.time.dt.month>11) | (rhTS1.time.dt.month<2)) ].sel(time=slice('2015-1-1','2045-12-31')))\n",
    "\n",
    "    rhData=xr.open_dataset(folderString+'Regrid_hurs_day_EC-Earth3_ssp'+sp+'_r1i1p1f1_gr_20150101-21001231.nc')\n",
    "    rhD  = rhData.hurs.sel(latitude=slice(32,24),longitude=slice(74,86))\n",
    "    rhTS1=rhD.mean(dim=['latitude','longitude'], skipna=True)\n",
    "    rhTEC=(rhTS1[((rhTS1.time.dt.month>11) | (rhTS1.time.dt.month<2)) ].sel(time=slice('2015-1-1','2045-12-31')))\n",
    "\n",
    "    rhData=xr.open_dataset(folderString+'Regrid_hurs_day_ACCESS-CM2_ssp'+sp+'_r1i1p1f1_gn_20150101-21001231.nc')\n",
    "    rhD  = rhData.hurs.sel(latitude=slice(32,24),longitude=slice(74,86))\n",
    "    rhTS1=rhD.mean(dim=['latitude','longitude'], skipna=True)\n",
    "    rhTACCESS=(rhTS1[((rhTS1.time.dt.month>11) | (rhTS1.time.dt.month<2)) ].sel(time=slice('2015-1-1','2045-12-31')))\n",
    "\n",
    "    \n",
    "    \n",
    "    MS=np.array(MTs)\n",
    "    meanMS=np.mean(MS, axis=0)\n",
    "    print(meanMS)\n",
    "\n",
    "    ensTs=rhT.copy()\n",
    "    ensTs.values=meanMS  \n",
    "\n",
    "    rhMean1=ensTs.groupby('time.dayofyear').mean()\n",
    "    rhMean2=rhMean1.roll(dayofyear=31)\n",
    "    RH_ens=rhMean2[(rhMean2.dayofyear<366) | (rhMean2.dayofyear>366)]\n",
    "    plt.plot(x,RH_ens,label='SSP'+sp+'_ens')\n",
    "plt.ylim([40, 70])\n",
    "plt.legend()\n",
    "plt.ylabel('Relative Humidity') \n",
    "plt.xlabel('Day of season')     \n",
    "plt.title('Future 2015-2045') \n",
    "    "
   ]
  },
  {
   "cell_type": "code",
   "execution_count": 70,
   "metadata": {},
   "outputs": [
    {
     "name": "stdout",
     "output_type": "stream",
     "text": [
      "ACCESS-CM2\n",
      "EC-Earth3\n",
      "IPSL-CM6A-LR\n",
      "[54.108776 53.11615  51.000965 ... 55.21835  59.58626  55.26836 ]\n",
      "ACCESS-CM2\n"
     ]
    },
    {
     "name": "stderr",
     "output_type": "stream",
     "text": [
      "/home/cccr/diptih/anaconda3/lib/python3.8/site-packages/xarray/core/dataarray.py:3127: FutureWarning: roll_coords will be set to False in the future. Explicitly set roll_coords to silence warning.\n",
      "  ds = self._to_temp_dataset().roll(\n"
     ]
    },
    {
     "name": "stdout",
     "output_type": "stream",
     "text": [
      "EC-Earth3\n",
      "IPSL-CM6A-LR\n",
      "[61.601887 60.165813 54.280865 ... 42.257694 47.8903   43.926167]\n"
     ]
    },
    {
     "name": "stderr",
     "output_type": "stream",
     "text": [
      "/home/cccr/diptih/anaconda3/lib/python3.8/site-packages/xarray/core/dataarray.py:3127: FutureWarning: roll_coords will be set to False in the future. Explicitly set roll_coords to silence warning.\n",
      "  ds = self._to_temp_dataset().roll(\n"
     ]
    },
    {
     "data": {
      "text/plain": [
       "Text(0.5, 1.0, 'Future 2046-2076')"
      ]
     },
     "execution_count": 70,
     "metadata": {},
     "output_type": "execute_result"
    },
    {
     "data": {
      "image/png": "[encoded data removed]",
      "text/plain": [
       "<Figure size 432x288 with 1 Axes>"
      ]
     },
     "metadata": {
      "needs_background": "light"
     },
     "output_type": "display_data"
    }
   ],
   "source": [
    "# # Historical Moisture\n",
    "x=np.arange(1,63)\n",
    "plt.plot(x,histRH_ens,label='ens', color='red')\n",
    "plt.plot(x,histRH*100.0,label='hisRH', color='black')\n",
    "\n",
    "\n",
    "for sp in ssps:\n",
    "\n",
    "    ModelList=['ACCESS-CM2','EC-Earth3','IPSL-CM6A-LR']\n",
    "    gridlist=['gn','gr','gr']\n",
    "    normList=['AccessCm2','EcEarth3','IpslCm6aLr']\n",
    "\n",
    "    MTs=[]\n",
    "    for m,g,n in zip(ModelList,gridlist,normList) :\n",
    "        print(m)\n",
    "        folderString='/home/cccr/diptih/dipti/Data/ssp'+sp+'/'+m+'/processed/'\n",
    "        rhData=xr.open_dataset(folderString+'Regrid_hurs_day_'+m+'_ssp'+sp+'_r1i1p1f1_'+g+'_20150101-21001231.nc')\n",
    "        rhD  = rhData.hurs.sel(latitude=slice(32,24),longitude=slice(74,86))\n",
    "        rhTS1=rhD.mean(dim=['latitude','longitude'], skipna=True)\n",
    "        rhT=(rhTS1[((rhTS1.time.dt.month>11) | (rhTS1.time.dt.month<2)) ].sel(time=slice('2046-1-1','2076-12-31')))\n",
    "        MTs.append(rhT)\n",
    "    \n",
    "    MS=np.array(MTs)\n",
    "    meanMS=np.mean(MS, axis=0)\n",
    "    print(meanMS)\n",
    "\n",
    "    ensTs=rhT.copy()\n",
    "    ensTs.values=meanMS  \n",
    "\n",
    "    rhMean1=ensTs.groupby('time.dayofyear').mean()\n",
    "    rhMean2=rhMean1.roll(dayofyear=31)\n",
    "    RH_ens=rhMean2[(rhMean2.dayofyear<366) | (rhMean2.dayofyear>366)]\n",
    "    plt.plot(x,RH_ens,label='SSP'+sp+'_ens')\n",
    "plt.ylim([40, 70])\n",
    "plt.legend()\n",
    "plt.ylabel('Relative Humidity') \n",
    "plt.xlabel('Day of season')     \n",
    "plt.title('Future 2046-2076') \n",
    "    "
   ]
  },
  {
   "cell_type": "code",
   "execution_count": 71,
   "metadata": {},
   "outputs": [
    {
     "name": "stdout",
     "output_type": "stream",
     "text": [
      "ACCESS-CM2\n",
      "EC-Earth3\n",
      "IPSL-CM6A-LR\n",
      "[52.721363 51.59038  49.176533 ... 45.904247 43.315655 40.98566 ]\n",
      "ACCESS-CM2\n"
     ]
    },
    {
     "name": "stderr",
     "output_type": "stream",
     "text": [
      "/home/cccr/diptih/anaconda3/lib/python3.8/site-packages/xarray/core/dataarray.py:3127: FutureWarning: roll_coords will be set to False in the future. Explicitly set roll_coords to silence warning.\n",
      "  ds = self._to_temp_dataset().roll(\n"
     ]
    },
    {
     "name": "stdout",
     "output_type": "stream",
     "text": [
      "EC-Earth3\n",
      "IPSL-CM6A-LR\n",
      "[39.74004  41.26872  40.64976  ... 52.83839  50.97229  52.149597]\n"
     ]
    },
    {
     "name": "stderr",
     "output_type": "stream",
     "text": [
      "/home/cccr/diptih/anaconda3/lib/python3.8/site-packages/xarray/core/dataarray.py:3127: FutureWarning: roll_coords will be set to False in the future. Explicitly set roll_coords to silence warning.\n",
      "  ds = self._to_temp_dataset().roll(\n"
     ]
    },
    {
     "data": {
      "text/plain": [
       "Text(0.5, 1.0, 'Future 2077-2100')"
      ]
     },
     "execution_count": 71,
     "metadata": {},
     "output_type": "execute_result"
    },
    {
     "data": {
      "image/png": "[encoded data removed]",
      "text/plain": [
       "<Figure size 432x288 with 1 Axes>"
      ]
     },
     "metadata": {
      "needs_background": "light"
     },
     "output_type": "display_data"
    }
   ],
   "source": [
    "# # Historical Moisture\n",
    "x=np.arange(1,63)\n",
    "plt.plot(x,histRH_ens,label='ens', color='red')\n",
    "plt.plot(x,histRH*100.0,label='hisRH', color='black')\n",
    "\n",
    "\n",
    "for sp in ssps:\n",
    "\n",
    "    ModelList=['ACCESS-CM2','EC-Earth3','IPSL-CM6A-LR']\n",
    "    gridlist=['gn','gr','gr']\n",
    "    normList=['AccessCm2','EcEarth3','IpslCm6aLr']\n",
    "\n",
    "    MTs=[]\n",
    "    for m,g,n in zip(ModelList,gridlist,normList) :\n",
    "        print(m)\n",
    "        folderString='/home/cccr/diptih/dipti/Data/ssp'+sp+'/'+m+'/processed/'\n",
    "        rhData=xr.open_dataset(folderString+'Regrid_hurs_day_'+m+'_ssp'+sp+'_r1i1p1f1_'+g+'_20150101-21001231.nc')\n",
    "        rhD  = rhData.hurs.sel(latitude=slice(32,24),longitude=slice(74,86))\n",
    "        rhTS1=rhD.mean(dim=['latitude','longitude'], skipna=True)\n",
    "        rhT=(rhTS1[((rhTS1.time.dt.month>11) | (rhTS1.time.dt.month<2)) ].sel(time=slice('2077-1-1','2100-12-31')))\n",
    "        MTs.append(rhT)\n",
    "    \n",
    "    MS=np.array(MTs)\n",
    "    meanMS=np.mean(MS, axis=0)\n",
    "    print(meanMS)\n",
    "\n",
    "    ensTs=rhT.copy()\n",
    "    ensTs.values=meanMS  \n",
    "\n",
    "    rhMean1=ensTs.groupby('time.dayofyear').mean()\n",
    "    rhMean2=rhMean1.roll(dayofyear=31)\n",
    "    RH_ens=rhMean2[(rhMean2.dayofyear<366) | (rhMean2.dayofyear>366)]\n",
    "    plt.plot(x,RH_ens,label='SSP'+sp+'_ens')\n",
    "plt.ylim([40, 70])\n",
    "plt.legend()\n",
    "plt.ylabel('Relative Humidity') \n",
    "plt.xlabel('Day of season')     \n",
    "plt.title('Future 2077-2100') \n",
    "    "
   ]
  },
  {
   "cell_type": "code",
   "execution_count": null,
   "metadata": {},
   "outputs": [],
   "source": []
  }
 ],
 "metadata": {
  "kernelspec": {
   "display_name": "Python 3",
   "language": "python",
   "name": "python3"
  },
  "language_info": {
   "codemirror_mode": {
    "name": "ipython",
    "version": 3
   },
   "file_extension": ".py",
   "mimetype": "text/x-python",
   "name": "python",
   "nbconvert_exporter": "python",
   "pygments_lexer": "ipython3",
   "version": "3.8.5"
  }
 },
 "nbformat": 4,
 "nbformat_minor": 4
}
