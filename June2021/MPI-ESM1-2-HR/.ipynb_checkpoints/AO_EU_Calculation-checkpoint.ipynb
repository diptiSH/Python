{
 "cells": [
  {
   "cell_type": "code",
   "execution_count": 1,
   "metadata": {},
   "outputs": [],
   "source": [
    "import numpy as np\n",
    "import pandas as pd\n",
    "import xarray as xr\n",
    "from joblib import dump, load\n",
    "from sklearn.decomposition import PCA\n",
    "from sklearn.preprocessing import StandardScaler\n",
    "import glob\n",
    "\n",
    "import matplotlib as mpl\n",
    "\n",
    "import matplotlib.pyplot as plt\n",
    "\n",
    "import math as mt\n",
    "\n",
    "import cartopy.crs as ccrs\n",
    "\n",
    "import cartopy.feature as cfeature\n",
    "\n",
    "from cartopy.mpl.ticker import LongitudeFormatter, LatitudeFormatter"
   ]
  },
  {
   "cell_type": "markdown",
   "metadata": {},
   "source": [
    "#AO Calculation"
   ]
  },
  {
   "cell_type": "code",
   "execution_count": 2,
   "metadata": {},
   "outputs": [
    {
     "data": {
      "text/plain": [
       "array([[[168.2589   , 170.89351  , 175.64795  , ..., 166.16936  ,\n",
       "         165.73026  , 166.56305  ],\n",
       "        [172.81638  , 173.84285  , 177.01285  , ..., 172.55975  ,\n",
       "         171.51819  , 171.95595  ],\n",
       "        [179.25833  , 177.81384  , 177.94926  , ..., 179.95049  ,\n",
       "         179.21318  , 179.69469  ],\n",
       "        ...,\n",
       "        [ 35.2512   ,  35.237953 ,  35.244576 , ...,  35.241264 ,\n",
       "          35.254513 ,  35.257824 ],\n",
       "        [ 26.852762 ,  26.858055 ,  26.850117 , ...,  26.879221 ,\n",
       "          26.865992 ,  26.873928 ],\n",
       "        [ 16.75734  ,  16.760834 ,  16.7521   , ...,  16.760834 ,\n",
       "          16.75734  ,  16.7521   ]],\n",
       "\n",
       "       [[159.85748  , 163.02206  , 168.18532  , ..., 152.6804   ,\n",
       "         154.86078  , 157.4197   ],\n",
       "        [162.97641  , 165.5426   , 169.92021  , ..., 155.67033  ,\n",
       "         157.57233  , 160.33475  ],\n",
       "        [166.22995  , 167.79482  , 170.11201  , ..., 158.19499  ,\n",
       "         160.33162  , 163.56668  ],\n",
       "        ...,\n",
       "        [ 27.418009 ,  27.52069  ,  27.646559 , ...,  27.07684  ,\n",
       "          27.199396 ,  27.312014 ],\n",
       "        [ 23.164968 ,  23.223175 ,  23.268152 , ...,  23.043264 ,\n",
       "          23.075014 ,  23.135866 ],\n",
       "        [ 15.8389845,  15.854702 ,  15.858195 , ...,  15.809297 ,\n",
       "          15.816282 ,  15.821521 ]],\n",
       "\n",
       "       [[132.88832  , 137.08252  , 143.75992  , ..., 124.2728   ,\n",
       "         126.21091  , 129.49661  ],\n",
       "        [132.42159  , 136.16519  , 142.08252  , ..., 124.10412  ,\n",
       "         126.09669  , 129.2365   ],\n",
       "        [132.47797  , 136.42021  , 141.2051   , ..., 124.427956 ,\n",
       "         126.05301  , 128.92694  ],\n",
       "        ...,\n",
       "        [  2.7042577,   2.8301263,   2.979181 , ...,   2.3100905,\n",
       "           2.4458961,   2.5783892],\n",
       "        [  3.3109407,   3.4035418,   3.4855597, ...,   3.083407 ,\n",
       "           3.1521962,   3.2447972],\n",
       "        [  3.6664073,   3.6978424,   3.718799 , ...,   3.5913126,\n",
       "           3.6140158,   3.6349723]],\n",
       "\n",
       "       ...,\n",
       "\n",
       "       [[148.54346  , 147.8318   , 149.73964  , ..., 155.90224  ,\n",
       "         152.84364  , 150.54214  ],\n",
       "        [156.02931  , 153.74994  , 153.34236  , ..., 162.3542   ,\n",
       "         159.2295   , 157.76526  ],\n",
       "        [164.57152  , 160.10263  , 157.52963  , ..., 170.66545  ,\n",
       "         168.51376  , 167.55078  ],\n",
       "        ...,\n",
       "        [ 53.458813 ,  53.518436 ,  53.601242 , ...,  53.24351  ,\n",
       "          53.32301  ,  53.392567 ],\n",
       "        [ 42.621185 ,  42.6741   ,  42.713787 , ...,  42.51271  ,\n",
       "          42.541813 ,  42.594727 ],\n",
       "        [ 27.666897 ,  27.68436  ,  27.6896   , ...,  27.633715 ,\n",
       "          27.642447 ,  27.649433 ]],\n",
       "\n",
       "       [[156.1154   , 157.70526  , 161.46036  , ..., 158.53804  ,\n",
       "         156.58478  , 155.79742  ],\n",
       "        [161.3893   , 160.90625  , 162.0233   , ..., 165.20839  ,\n",
       "         162.68748  , 161.76668  ],\n",
       "        [169.02654  , 165.38522  , 163.6398   , ..., 173.42018  ,\n",
       "         172.08102  , 171.43402  ],\n",
       "        ...,\n",
       "        [ 43.628082 ,  43.717514 ,  43.82682  , ...,  43.336594 ,\n",
       "          43.439278 ,  43.535336 ],\n",
       "        [ 36.181652 ,  36.242504 ,  36.29542  , ...,  36.049366 ,\n",
       "          36.08376  ,  36.14726  ],\n",
       "        [ 24.759295 ,  24.778505 ,  24.787237 , ...,  24.719128 ,\n",
       "          24.729607 ,  24.738338 ]],\n",
       "\n",
       "       [[171.00694  , 172.91478  , 177.00299  , ..., 168.67516  ,\n",
       "         168.29662  , 169.35652  ],\n",
       "        [174.72578  , 175.38997  , 177.97125  , ..., 173.7446   ,\n",
       "         172.82379  , 173.60873  ],\n",
       "        [180.12338  , 178.33282  , 178.81432  , ..., 180.22871  ,\n",
       "         180.21367  , 180.95096  ],\n",
       "        ...,\n",
       "        [ 45.22294  ,  45.345493 ,  45.48461  , ...,  44.838707 ,\n",
       "          44.974514 ,  45.10038  ],\n",
       "        [ 37.063984 ,  37.13542  ,  37.196274 , ...,  36.897305 ,\n",
       "          36.944927 ,  37.01901  ],\n",
       "        [ 25.001154 ,  25.022112 ,  25.030844 , ...,  24.955748 ,\n",
       "          24.967974 ,  24.97845  ]]], dtype=float32)"
      ]
     },
     "execution_count": 2,
     "metadata": {},
     "output_type": "execute_result"
    }
   ],
   "source": [
    "# Calculate AO - input std normal latitude wighted 1000mb z\n",
    "ZData = xr.open_dataset('../../../Data/CMIP6/MPI-ESM1-2-HR/processed/weighted1000Std.nc')\n",
    "#SLPData = xr.open_dataset('../eraDown/ERA5_2degree_Down/DailyMean/weighted1000.nc')\n",
    "\n",
    "ZData.zg.values\n",
    "ZData.zg.values=xr.where(np.isnan(ZData.zg.values),  0.000000000001,ZData.zg.values)\n",
    "ZData.zg.values"
   ]
  },
  {
   "cell_type": "code",
   "execution_count": null,
   "metadata": {},
   "outputs": [],
   "source": [
    "\n",
    "\n",
    "t1=ZData.zg.stack(z=(\"lat\", \"lon\"))\n",
    "# fit scaler on training data\n",
    "zg_PC =PCA().fit_transform(t1)\n"
   ]
  },
  {
   "cell_type": "code",
   "execution_count": null,
   "metadata": {},
   "outputs": [],
   "source": []
  },
  {
   "cell_type": "code",
   "execution_count": null,
   "metadata": {},
   "outputs": [],
   "source": [
    "print(zg_PC[:,0].shape)\n",
    "AO_ds = xr.Dataset({'AO': (('time'), zg_PC[:,0])}, coords={'time': ZData.time})\n",
    "\n",
    "\n",
    "norm = StandardScaler().fit(zg_PC[:,0].reshape(-1, 1))\n",
    "    # transform training data\n",
    "aoX = norm.transform(zg_PC[:,0].reshape(-1, 1))\n",
    "aoX.shape\n",
    "\n",
    "AO_ds = xr.Dataset({'AO': (('time'), aoX[:,0]*-1.0)}, coords={'time': ZData.time})\n"
   ]
  },
  {
   "cell_type": "code",
   "execution_count": null,
   "metadata": {},
   "outputs": [],
   "source": [
    "AO_ds.to_netcdf('MPI-ESM1-2-HR-AOindex-NDJF-Daily-1980-2014.nc')"
   ]
  },
  {
   "cell_type": "code",
   "execution_count": null,
   "metadata": {},
   "outputs": [],
   "source": [
    "AO_ds.AO.where(AO_ds.AO==AO_ds.AO.max(), drop=True).squeeze()"
   ]
  },
  {
   "cell_type": "code",
   "execution_count": null,
   "metadata": {},
   "outputs": [],
   "source": [
    "#AO_ds.AO.where(AO_ds.AO>2.0, drop=True).squeeze()"
   ]
  },
  {
   "cell_type": "code",
   "execution_count": null,
   "metadata": {},
   "outputs": [],
   "source": [
    "AO_ds.AO.where(AO_ds.AO==AO_ds.AO.min(), drop=True).squeeze()"
   ]
  },
  {
   "cell_type": "code",
   "execution_count": null,
   "metadata": {},
   "outputs": [],
   "source": [
    "#AO_ds.AO.where(AO_ds.AO<-2, drop=True).squeeze()"
   ]
  },
  {
   "cell_type": "markdown",
   "metadata": {},
   "source": [
    "#EU Calculation"
   ]
  },
  {
   "cell_type": "code",
   "execution_count": null,
   "metadata": {},
   "outputs": [],
   "source": [
    "zLevData = xr.open_dataset('../../../Data/CMIP6/MPI-ESM1-2-HR/processed/NDJF_New_zg_day_MPI-ESM1-2-HR_historical_r1i1p1f1_gn_18500101-20091231.nc')"
   ]
  },
  {
   "cell_type": "code",
   "execution_count": null,
   "metadata": {},
   "outputs": [],
   "source": [
    "zLevData.plev"
   ]
  },
  {
   "cell_type": "code",
   "execution_count": null,
   "metadata": {},
   "outputs": [],
   "source": [
    "z500=zLevData.zg.sel(plev=50000.0,method='nearest')\n",
    "z500"
   ]
  },
  {
   "cell_type": "code",
   "execution_count": null,
   "metadata": {},
   "outputs": [],
   "source": [
    "z145E40N=z500.sel(lat=40,lon=145,method='nearest')"
   ]
  },
  {
   "cell_type": "code",
   "execution_count": null,
   "metadata": {},
   "outputs": [],
   "source": [
    "#z145E40N"
   ]
  },
  {
   "cell_type": "code",
   "execution_count": null,
   "metadata": {},
   "outputs": [],
   "source": [
    "z20E55N=z500.sel(lat=55,lon=20,method='nearest')"
   ]
  },
  {
   "cell_type": "code",
   "execution_count": null,
   "metadata": {},
   "outputs": [],
   "source": [
    "#z20E55N"
   ]
  },
  {
   "cell_type": "code",
   "execution_count": null,
   "metadata": {},
   "outputs": [],
   "source": [
    "z75E55N=z500.sel(lat=55,lon=75,method='nearest')"
   ]
  },
  {
   "cell_type": "code",
   "execution_count": null,
   "metadata": {},
   "outputs": [],
   "source": [
    "#z75E55N"
   ]
  },
  {
   "cell_type": "code",
   "execution_count": null,
   "metadata": {},
   "outputs": [],
   "source": [
    "#Calculate Anomaly\n",
    "z145E40N_Anom = z145E40N.groupby(\"time.dayofyear\") - z145E40N.groupby(\"time.dayofyear\").mean(\"time\")\n",
    "z75E55N_Anom  = z75E55N.groupby(\"time.dayofyear\")  - z75E55N.groupby(\"time.dayofyear\").mean(\"time\")\n",
    "z20E55N_Anom  = z20E55N.groupby(\"time.dayofyear\")  - z20E55N.groupby(\"time.dayofyear\").mean(\"time\")"
   ]
  },
  {
   "cell_type": "code",
   "execution_count": null,
   "metadata": {},
   "outputs": [],
   "source": [
    "# calculate std normal anomalies\n",
    "z145E40N_AnomStd = z145E40N_Anom.groupby(\"time.dayofyear\")  / z145E40N.groupby(\"time.dayofyear\").std(\"time\")\n",
    "z75E55N_AnomStd  = z75E55N_Anom.groupby(\"time.dayofyear\")   / z75E55N.groupby(\"time.dayofyear\").std(\"time\")\n",
    "z20E55N_AnomStd  = z20E55N_Anom.groupby(\"time.dayofyear\")   / z20E55N.groupby(\"time.dayofyear\").std(\"time\")"
   ]
  },
  {
   "cell_type": "code",
   "execution_count": null,
   "metadata": {},
   "outputs": [],
   "source": [
    "EUVal = -(1.0/4.0)*z20E55N_AnomStd + (1.0/2.0)*z75E55N_AnomStd - (1.0/4.0)*z145E40N_AnomStd"
   ]
  },
  {
   "cell_type": "code",
   "execution_count": null,
   "metadata": {},
   "outputs": [],
   "source": [
    "EUVal"
   ]
  },
  {
   "cell_type": "code",
   "execution_count": null,
   "metadata": {},
   "outputs": [],
   "source": [
    "EU_ds = xr.Dataset({'EU': (('time'), EUVal)}, coords={'time': zLevData.time})"
   ]
  },
  {
   "cell_type": "code",
   "execution_count": null,
   "metadata": {},
   "outputs": [],
   "source": [
    "EU_ds.to_netcdf('MPI-ESM1-2-HR-EUindex-NDJF-Daily-1980-2014.nc')"
   ]
  },
  {
   "cell_type": "code",
   "execution_count": null,
   "metadata": {},
   "outputs": [],
   "source": []
  }
 ],
 "metadata": {
  "kernelspec": {
   "display_name": "Python 3",
   "language": "python",
   "name": "python3"
  },
  "language_info": {
   "codemirror_mode": {
    "name": "ipython",
    "version": 3
   },
   "file_extension": ".py",
   "mimetype": "text/x-python",
   "name": "python",
   "nbconvert_exporter": "python",
   "pygments_lexer": "ipython3",
   "version": "3.8.5"
  }
 },
 "nbformat": 4,
 "nbformat_minor": 4
}
