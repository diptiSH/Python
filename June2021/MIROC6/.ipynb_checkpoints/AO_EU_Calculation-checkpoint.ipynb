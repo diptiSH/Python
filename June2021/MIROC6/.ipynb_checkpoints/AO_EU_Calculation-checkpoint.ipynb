{
 "cells": [
  {
   "cell_type": "code",
   "execution_count": 6,
   "metadata": {},
   "outputs": [],
   "source": [
    "import numpy as np\n",
    "import pandas as pd\n",
    "import xarray as xr\n",
    "from joblib import dump, load\n",
    "from sklearn.decomposition import PCA\n",
    "from sklearn.preprocessing import StandardScaler\n",
    "import glob\n",
    "\n",
    "import matplotlib as mpl\n",
    "\n",
    "import matplotlib.pyplot as plt\n",
    "\n",
    "import math as mt\n",
    "\n",
    "import cartopy.crs as ccrs\n",
    "\n",
    "import cartopy.feature as cfeature\n",
    "\n",
    "from cartopy.mpl.ticker import LongitudeFormatter, LatitudeFormatter"
   ]
  },
  {
   "cell_type": "markdown",
   "metadata": {},
   "source": [
    "#AO Calculation"
   ]
  },
  {
   "cell_type": "code",
   "execution_count": 7,
   "metadata": {},
   "outputs": [
    {
     "data": {
      "text/plain": [
       "array([[[1.0000000e-12, 1.0000000e-12, 1.0000000e-12, ...,\n",
       "         1.0000000e-12, 1.0000000e-12, 1.0000000e-12],\n",
       "        [1.0000000e-12, 1.0000000e-12, 1.0000000e-12, ...,\n",
       "         1.0000000e-12, 1.0000000e-12, 1.0000000e-12],\n",
       "        [1.0000000e-12, 1.0000000e-12, 1.0000000e-12, ...,\n",
       "         1.0000000e-12, 1.0000000e-12, 1.0000000e-12],\n",
       "        ...,\n",
       "        [1.0000000e-12, 1.0000000e-12, 1.0000000e-12, ...,\n",
       "         1.0000000e-12, 1.0000000e-12, 1.0000000e-12],\n",
       "        [1.0000000e-12, 1.0000000e-12, 1.0000000e-12, ...,\n",
       "         1.0000000e-12, 1.0000000e-12, 1.0000000e-12],\n",
       "        [1.0000000e-12, 1.0000000e-12, 1.0000000e-12, ...,\n",
       "         1.0000000e-12, 1.0000000e-12, 1.0000000e-12]],\n",
       "\n",
       "       [[1.0000000e-12, 1.0000000e-12, 1.0000000e-12, ...,\n",
       "         1.0000000e-12, 1.0000000e-12, 1.0000000e-12],\n",
       "        [1.0000000e-12, 1.0000000e-12, 1.0000000e-12, ...,\n",
       "         1.0000000e-12, 1.0000000e-12, 1.0000000e-12],\n",
       "        [1.0000000e-12, 1.0000000e-12, 1.0000000e-12, ...,\n",
       "         1.0000000e-12, 1.0000000e-12, 1.0000000e-12],\n",
       "        ...,\n",
       "        [8.0946827e+00, 8.1385117e+00, 8.1596699e+00, ...,\n",
       "         7.9949350e+00, 8.0312071e+00, 8.0553885e+00],\n",
       "        [4.8269248e+00, 4.8353763e+00, 4.8389983e+00, ...,\n",
       "         5.0104399e+00, 4.9452438e+00, 4.8257179e+00],\n",
       "        [1.0000000e-12, 1.0000000e-12, 1.0000000e-12, ...,\n",
       "         1.0000000e-12, 1.0000000e-12, 1.0000000e-12]],\n",
       "\n",
       "       [[1.0000000e-12, 1.0000000e-12, 1.0000000e-12, ...,\n",
       "         1.0000000e-12, 1.0000000e-12, 1.0000000e-12],\n",
       "        [1.0000000e-12, 1.0000000e-12, 1.0000000e-12, ...,\n",
       "         1.0000000e-12, 1.0000000e-12, 1.0000000e-12],\n",
       "        [1.0000000e-12, 1.0000000e-12, 1.0000000e-12, ...,\n",
       "         1.0000000e-12, 1.0000000e-12, 1.0000000e-12],\n",
       "        ...,\n",
       "        [1.0000000e-12, 1.0000000e-12, 1.0000000e-12, ...,\n",
       "         1.0000000e-12, 1.0000000e-12, 1.0000000e-12],\n",
       "        [1.0000000e-12, 1.0000000e-12, 1.0000000e-12, ...,\n",
       "         1.0000000e-12, 1.0000000e-12, 1.0000000e-12],\n",
       "        [1.0000000e-12, 1.0000000e-12, 1.0000000e-12, ...,\n",
       "         1.0000000e-12, 1.0000000e-12, 1.0000000e-12]],\n",
       "\n",
       "       ...,\n",
       "\n",
       "       [[1.0000000e-12, 1.0000000e-12, 1.0000000e-12, ...,\n",
       "         1.0000000e-12, 1.0000000e-12, 1.0000000e-12],\n",
       "        [1.0000000e-12, 1.0000000e-12, 1.0000000e-12, ...,\n",
       "         1.0000000e-12, 1.0000000e-12, 1.0000000e-12],\n",
       "        [1.0000000e-12, 1.0000000e-12, 1.0000000e-12, ...,\n",
       "         1.0000000e-12, 1.0000000e-12, 1.0000000e-12],\n",
       "        ...,\n",
       "        [2.0653324e+01, 2.0717512e+01, 2.0783129e+01, ...,\n",
       "         2.0459330e+01, 2.0524944e+01, 2.0587708e+01],\n",
       "        [1.6334942e+01, 1.6372545e+01, 1.6409010e+01, ...,\n",
       "         1.6210735e+01, 1.6254036e+01, 1.6295057e+01],\n",
       "        [1.0092511e+01, 1.0104547e+01, 1.0115830e+01, ...,\n",
       "         1.0052644e+01, 1.0066936e+01, 1.0079722e+01]],\n",
       "\n",
       "       [[1.0000000e-12, 1.0000000e-12, 1.0000000e-12, ...,\n",
       "         1.0000000e-12, 1.0000000e-12, 1.0000000e-12],\n",
       "        [1.0000000e-12, 1.0000000e-12, 1.0000000e-12, ...,\n",
       "         1.0000000e-12, 1.0000000e-12, 1.0000000e-12],\n",
       "        [1.0000000e-12, 1.0000000e-12, 1.0000000e-12, ...,\n",
       "         1.0000000e-12, 1.0000000e-12, 1.0000000e-12],\n",
       "        ...,\n",
       "        [2.7380804e+01, 2.7595343e+01, 2.7793827e+01, ...,\n",
       "         2.6649616e+01, 2.6909399e+01, 2.7153128e+01],\n",
       "        [2.2809532e+01, 2.2919125e+01, 2.3024055e+01, ...,\n",
       "         2.2453934e+01, 2.2577518e+01, 2.2696440e+01],\n",
       "        [1.5587339e+01, 1.5615816e+01, 1.5644293e+01, ...,\n",
       "         1.5497293e+01, 1.5528077e+01, 1.5558094e+01]],\n",
       "\n",
       "       [[1.0000000e-12, 1.0000000e-12, 1.0000000e-12, ...,\n",
       "         1.0000000e-12, 1.0000000e-12, 1.0000000e-12],\n",
       "        [1.0000000e-12, 1.0000000e-12, 1.0000000e-12, ...,\n",
       "         1.0000000e-12, 1.0000000e-12, 1.0000000e-12],\n",
       "        [1.0000000e-12, 1.0000000e-12, 1.0000000e-12, ...,\n",
       "         1.0000000e-12, 1.0000000e-12, 1.0000000e-12],\n",
       "        ...,\n",
       "        [2.5826248e+01, 2.6064785e+01, 2.6293940e+01, ...,\n",
       "         2.5053017e+01, 2.5321035e+01, 2.5578333e+01],\n",
       "        [2.1987829e+01, 2.2097023e+01, 2.2205149e+01, ...,\n",
       "         2.1644186e+01, 2.1760874e+01, 2.1875422e+01],\n",
       "        [1.5299769e+01, 1.5331570e+01, 1.5363371e+01, ...,\n",
       "         1.5203660e+01, 1.5235460e+01, 1.5267968e+01]]], dtype=float32)"
      ]
     },
     "execution_count": 7,
     "metadata": {},
     "output_type": "execute_result"
    }
   ],
   "source": [
    "# Calculate AO - input std normal latitude wighted 1000mb z\n",
    "ZData = xr.open_dataset('../../../Data/CMIP6/MIROC6/weighted1000Std.nc')\n",
    "#SLPData = xr.open_dataset('../eraDown/ERA5_2degree_Down/DailyMean/weighted1000.nc')\n",
    "\n",
    "ZData.zg.values\n",
    "ZData.zg.values=xr.where(np.isnan(ZData.zg.values),  0.000000000001,ZData.zg.values)\n",
    "ZData.zg.values\n"
   ]
  },
  {
   "cell_type": "code",
   "execution_count": null,
   "metadata": {},
   "outputs": [],
   "source": [
    "\n",
    "\n",
    "t1=ZData.zg.stack(z=(\"lat\", \"lon\"))\n",
    "# fit scaler on training data\n",
    "zg_PC =PCA().fit_transform(t1)\n"
   ]
  },
  {
   "cell_type": "code",
   "execution_count": null,
   "metadata": {},
   "outputs": [],
   "source": []
  },
  {
   "cell_type": "code",
   "execution_count": null,
   "metadata": {},
   "outputs": [],
   "source": [
    "print(zg_PC[:,0].shape)\n",
    "AO_ds = xr.Dataset({'AO': (('time'), zg_PC[:,0])}, coords={'time': ZData.time})\n",
    "\n",
    "\n",
    "norm = StandardScaler().fit(zg_PC[:,0].reshape(-1, 1))\n",
    "    # transform training data\n",
    "aoX = norm.transform(zg_PC[:,0].reshape(-1, 1))\n",
    "aoX.shape\n",
    "\n",
    "AO_ds = xr.Dataset({'AO': (('time'), aoX[:,0]*-1.0)}, coords={'time': ZData.time})\n"
   ]
  },
  {
   "cell_type": "code",
   "execution_count": null,
   "metadata": {},
   "outputs": [],
   "source": [
    "AO_ds.to_netcdf('MIROC6-AOindex-NDJF-Daily-1980-2014.nc')"
   ]
  },
  {
   "cell_type": "code",
   "execution_count": null,
   "metadata": {},
   "outputs": [],
   "source": [
    "AO_ds.AO.where(AO_ds.AO==AO_ds.AO.max(), drop=True).squeeze()"
   ]
  },
  {
   "cell_type": "code",
   "execution_count": null,
   "metadata": {},
   "outputs": [],
   "source": [
    "#AO_ds.AO.where(AO_ds.AO>2.0, drop=True).squeeze()"
   ]
  },
  {
   "cell_type": "code",
   "execution_count": null,
   "metadata": {},
   "outputs": [],
   "source": [
    "AO_ds.AO.where(AO_ds.AO==AO_ds.AO.min(), drop=True).squeeze()"
   ]
  },
  {
   "cell_type": "code",
   "execution_count": null,
   "metadata": {},
   "outputs": [],
   "source": [
    "#AO_ds.AO.where(AO_ds.AO<-2, drop=True).squeeze()"
   ]
  },
  {
   "cell_type": "markdown",
   "metadata": {},
   "source": [
    "#EU Calculation"
   ]
  },
  {
   "cell_type": "code",
   "execution_count": null,
   "metadata": {},
   "outputs": [],
   "source": [
    "zLevData = xr.open_dataset('../../../Data/CMIP6/MIROC6/zg_NDJFday_MIROC6_historical_r1i1p1f1_gn_18500101-20141231.nc')"
   ]
  },
  {
   "cell_type": "code",
   "execution_count": null,
   "metadata": {},
   "outputs": [],
   "source": [
    "zLevData.time"
   ]
  },
  {
   "cell_type": "code",
   "execution_count": null,
   "metadata": {},
   "outputs": [],
   "source": [
    "z500=zLevData.zg.sel(plev=50000.0,method='nearest')\n",
    "z500"
   ]
  },
  {
   "cell_type": "code",
   "execution_count": null,
   "metadata": {},
   "outputs": [],
   "source": [
    "z145E40N=z500.sel(lat=40,lon=145,method='nearest')"
   ]
  },
  {
   "cell_type": "code",
   "execution_count": null,
   "metadata": {},
   "outputs": [],
   "source": [
    "#z145E40N"
   ]
  },
  {
   "cell_type": "code",
   "execution_count": null,
   "metadata": {},
   "outputs": [],
   "source": [
    "z20E55N=z500.sel(lat=55,lon=20,method='nearest')"
   ]
  },
  {
   "cell_type": "code",
   "execution_count": null,
   "metadata": {},
   "outputs": [],
   "source": [
    "#z20E55N"
   ]
  },
  {
   "cell_type": "code",
   "execution_count": null,
   "metadata": {},
   "outputs": [],
   "source": [
    "z75E55N=z500.sel(lat=55,lon=75,method='nearest')"
   ]
  },
  {
   "cell_type": "code",
   "execution_count": null,
   "metadata": {},
   "outputs": [],
   "source": [
    "#z75E55N"
   ]
  },
  {
   "cell_type": "code",
   "execution_count": null,
   "metadata": {},
   "outputs": [],
   "source": [
    "#Calculate Anomaly\n",
    "z145E40N_Anom = z145E40N.groupby(\"time.dayofyear\") - z145E40N.groupby(\"time.dayofyear\").mean(\"time\")\n",
    "z75E55N_Anom  = z75E55N.groupby(\"time.dayofyear\")  - z75E55N.groupby(\"time.dayofyear\").mean(\"time\")\n",
    "z20E55N_Anom  = z20E55N.groupby(\"time.dayofyear\")  - z20E55N.groupby(\"time.dayofyear\").mean(\"time\")"
   ]
  },
  {
   "cell_type": "code",
   "execution_count": null,
   "metadata": {},
   "outputs": [],
   "source": [
    "# calculate std normal anomalies\n",
    "z145E40N_AnomStd = z145E40N_Anom.groupby(\"time.dayofyear\")  / z145E40N.groupby(\"time.dayofyear\").std(\"time\")\n",
    "z75E55N_AnomStd  = z75E55N_Anom.groupby(\"time.dayofyear\")   / z75E55N.groupby(\"time.dayofyear\").std(\"time\")\n",
    "z20E55N_AnomStd  = z20E55N_Anom.groupby(\"time.dayofyear\")   / z20E55N.groupby(\"time.dayofyear\").std(\"time\")"
   ]
  },
  {
   "cell_type": "code",
   "execution_count": null,
   "metadata": {},
   "outputs": [],
   "source": [
    "EUVal = -(1.0/4.0)*z20E55N_AnomStd + (1.0/2.0)*z75E55N_AnomStd - (1.0/4.0)*z145E40N_AnomStd"
   ]
  },
  {
   "cell_type": "code",
   "execution_count": null,
   "metadata": {},
   "outputs": [],
   "source": [
    "EUVal"
   ]
  },
  {
   "cell_type": "code",
   "execution_count": null,
   "metadata": {},
   "outputs": [],
   "source": [
    "EU_ds = xr.Dataset({'EU': (('time'), EUVal)}, coords={'time': zLevData.time})"
   ]
  },
  {
   "cell_type": "code",
   "execution_count": null,
   "metadata": {},
   "outputs": [],
   "source": [
    "EU_ds.to_netcdf('MIROC6-EUindex-NDJF-Daily-1980-2014.nc')"
   ]
  },
  {
   "cell_type": "code",
   "execution_count": null,
   "metadata": {},
   "outputs": [],
   "source": []
  }
 ],
 "metadata": {
  "kernelspec": {
   "display_name": "Python 3",
   "language": "python",
   "name": "python3"
  },
  "language_info": {
   "codemirror_mode": {
    "name": "ipython",
    "version": 3
   },
   "file_extension": ".py",
   "mimetype": "text/x-python",
   "name": "python",
   "nbconvert_exporter": "python",
   "pygments_lexer": "ipython3",
   "version": "3.8.5"
  }
 },
 "nbformat": 4,
 "nbformat_minor": 4
}
