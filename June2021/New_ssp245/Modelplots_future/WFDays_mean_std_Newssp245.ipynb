{
 "cells": [
  {
   "cell_type": "code",
   "execution_count": 2,
   "metadata": {},
   "outputs": [],
   "source": [
    "import xarray as xr\n",
    "import numpy as np\n",
    "import pandas as pd\n",
    "import datetime\n",
    "import matplotlib.pyplot as plt\n",
    "from joblib import dump, load\n",
    "import statistics as st"
   ]
  },
  {
   "cell_type": "markdown",
   "metadata": {},
   "source": [
    "# Obs historical"
   ]
  },
  {
   "cell_type": "code",
   "execution_count": 3,
   "metadata": {},
   "outputs": [],
   "source": [
    "y   = load('../../../March2021/Observation_models/ObsY.joblib') \n",
    "y.values=y.where(y>=0.46,0)\n",
    "y.values=y.where(y==0.0,1)"
   ]
  },
  {
   "cell_type": "code",
   "execution_count": 4,
   "metadata": {},
   "outputs": [],
   "source": [
    "def getFogTS( dArray ):\n",
    "   #\"This function gives TS of  for each season e.g. if year\n",
    "   #  is 1981 then it will contain values between 1dec1980 to 31jan1981\"\n",
    "    fg=list()\n",
    "    \n",
    "    for yr in range(1981,2015,1):\n",
    "        dStart=datetime.datetime(yr-1, 12, 1)\n",
    "        dEnd=datetime.datetime(yr, 1, 31)\n",
    "        ySMean = dArray.sel(time=slice(dStart,dEnd)).sum(dim='time').values.tolist()\n",
    "        #print(yAct)\n",
    "        fg.append(ySMean)\n",
    "        \n",
    "    \n",
    "    return fg"
   ]
  },
  {
   "cell_type": "code",
   "execution_count": 5,
   "metadata": {},
   "outputs": [
    {
     "name": "stdout",
     "output_type": "stream",
     "text": [
      "13.5\n",
      "11.098047876390995\n"
     ]
    }
   ],
   "source": [
    "fO=getFogTS(y)\n",
    "ObsMean=st.mean(fO)\n",
    "print(ObsMean)\n",
    "ObsStd=st.stdev(fO)\n",
    "print(ObsStd)"
   ]
  },
  {
   "cell_type": "markdown",
   "metadata": {},
   "source": [
    "# Future projections"
   ]
  },
  {
   "cell_type": "code",
   "execution_count": 6,
   "metadata": {},
   "outputs": [],
   "source": [
    "def getFogTS_firsthalf( dArray ):\n",
    "   #\"This function gives TS of  for each season e.g. if year\n",
    "   #  is 1981 then it will contain values between 1dec1980 to 31jan1981\"\n",
    "    # 2015-2065\n",
    "    fg=list()\n",
    "    \n",
    "    for yr in range(2015,2066,1):\n",
    "        dStart=datetime.datetime(yr-1, 12, 1)\n",
    "        dEnd=datetime.datetime(yr, 1, 31)\n",
    "        ySMean = dArray.sel(time=slice(dStart,dEnd)).sum(dim='time').values.tolist()\n",
    "        #print(yAct)\n",
    "        fg.append(ySMean)\n",
    "        \n",
    "    \n",
    "    return fg"
   ]
  },
  {
   "cell_type": "code",
   "execution_count": 7,
   "metadata": {},
   "outputs": [],
   "source": [
    "def getFogTS_secondhalf( dArray ):\n",
    "   #\"This function gives TS of  for each season e.g. if year\n",
    "   #  is 1981 then it will contain values between 1dec1980 to 31jan1981\"\n",
    "    # 2065-2100\n",
    "    fg=list()\n",
    "    \n",
    "    for yr in range(2065,2101,1):\n",
    "        dStart=datetime.datetime(yr-1, 12, 1)\n",
    "        dEnd=datetime.datetime(yr, 1, 31)\n",
    "        ySMean = dArray.sel(time=slice(dStart,dEnd)).sum(dim='time').values.tolist()\n",
    "        #print(yAct)\n",
    "        fg.append(ySMean)\n",
    "        \n",
    "    \n",
    "    return fg"
   ]
  },
  {
   "cell_type": "code",
   "execution_count": 8,
   "metadata": {},
   "outputs": [],
   "source": [
    "ACCESS_CM2_ssp245   = load('ACCESS-CM2_ssp245.joblib') \n",
    "IITM_ESM_ssp245   = load('IITM-ESM_ssp245.joblib') \n",
    "IPSL_CM6A_LR_ssp245   = load('IPSL-CM6A-LR_ssp245.joblib') \n",
    "MPI_ESM1_2_LR_ssp245   = load('MPI-ESM1-2-LR_ssp245.joblib') \n",
    "EC_Earth3_ssp245   = load('EC-Earth3_ssp245.joblib') "
   ]
  },
  {
   "cell_type": "code",
   "execution_count": 9,
   "metadata": {},
   "outputs": [],
   "source": [
    "ACCESS_CM2_ssp245.values=ACCESS_CM2_ssp245.where(ACCESS_CM2_ssp245>=0.46,0)\n",
    "IITM_ESM_ssp245.values=IITM_ESM_ssp245.where(IITM_ESM_ssp245>=0.46,0)\n",
    "IPSL_CM6A_LR_ssp245.values=IPSL_CM6A_LR_ssp245.where(IPSL_CM6A_LR_ssp245>=0.46,0)\n",
    "MPI_ESM1_2_LR_ssp245.values=MPI_ESM1_2_LR_ssp245.where(MPI_ESM1_2_LR_ssp245>=0.46,0)\n",
    "EC_Earth3_ssp245.values=EC_Earth3_ssp245.where(EC_Earth3_ssp245>=0.46,0)"
   ]
  },
  {
   "cell_type": "code",
   "execution_count": 10,
   "metadata": {},
   "outputs": [],
   "source": [
    "ACCESS_CM2_ssp245.values=ACCESS_CM2_ssp245.where(ACCESS_CM2_ssp245==0.0,1)\n",
    "IITM_ESM_ssp245.values=IITM_ESM_ssp245.where(IITM_ESM_ssp245==0.0,1)\n",
    "IPSL_CM6A_LR_ssp245.values=IPSL_CM6A_LR_ssp245.where(IPSL_CM6A_LR_ssp245==0.0,1)\n",
    "MPI_ESM1_2_LR_ssp245.values=MPI_ESM1_2_LR_ssp245.where(MPI_ESM1_2_LR_ssp245==0.0,1)\n",
    "EC_Earth3_ssp245.values=EC_Earth3_ssp245.where(EC_Earth3_ssp245==0.0,1)"
   ]
  },
  {
   "cell_type": "code",
   "execution_count": 11,
   "metadata": {},
   "outputs": [
    {
     "name": "stdout",
     "output_type": "stream",
     "text": [
      "[16.627450980392158, 9.098039215686274, 13.254901960784315, 14.27450980392157, 14.098039215686274]\n",
      "[12.840499654318325, 7.874655299023023, 10.504938147851993, 9.202344117392153, 9.024976237000924]\n",
      "[9.0, 9.61111111111111, 5.5, 14.25, 8.805555555555555]\n",
      "[10.620734437881403, 9.72853763134236, 10.055559940365614, 7.929600962757926, 8.558435920004623]\n"
     ]
    }
   ],
   "source": [
    "#mList=(ACCESS_CM2_ssp245,IITM_ESM_ssp245,IPSL_CM6A_LR_ssp245,MPI_ESM1_2_LR_ssp245,EC_Earth3_ssp245)\n",
    "#mList=(ACCESS_CM2_ssp245,IITM_ESM_ssp245,IPSL_CM6A_LR_ssp245,MPI_ESM1_2_LR_ssp245)\n",
    "mList=(EC_Earth3_ssp245,IPSL_CM6A_LR_ssp245,ACCESS_CM2_ssp245,IITM_ESM_ssp245,MPI_ESM1_2_LR_ssp245)\n",
    "\n",
    "firstMean=list()\n",
    "firstSD=list()\n",
    "secondMean=list()\n",
    "secondSD=list()\n",
    "\n",
    "for m in mList:\n",
    "    fO=getFogTS_firsthalf(m)\n",
    "    firstMean.append(st.mean(fO))\n",
    "    firstSD.append(st.stdev(fO))\n",
    "    fO1=getFogTS_secondhalf(m)\n",
    "    secondMean.append(st.mean(fO1))\n",
    "    secondSD.append(st.stdev(fO1))\n",
    "\n",
    "print(firstMean) \n",
    "print(firstSD) \n",
    "print(secondMean) \n",
    "print(secondSD) \n",
    "   \n",
    "    "
   ]
  },
  {
   "cell_type": "code",
   "execution_count": 12,
   "metadata": {},
   "outputs": [
    {
     "name": "stdout",
     "output_type": "stream",
     "text": [
      "[-1.8155410312272993, 5.737109658678292, -32.607116920842415, 4.429920116194624, 23.16630355846043]\n",
      "[-5.344270768562198, -17.081416300533306, -29.04468076971565, -18.67960620173697, 15.700524969207136]\n",
      "[-59.25925925925926, 5.555555555555555, -28.80658436213992, -34.77366255144033, -33.333333333333336]\n",
      "[-9.393435202627641, -28.54958771959655, -12.340100351900704, -22.883411431202397, -4.300877450033228]\n"
     ]
    },
    {
     "data": {
      "text/plain": [
       "['../../Future_projection_plots/WFD_Newssp245_secondSD.joblib']"
      ]
     },
     "execution_count": 12,
     "metadata": {},
     "output_type": "execute_result"
    }
   ],
   "source": [
    "mList=(ACCESS_CM2_ssp245,IITM_ESM_ssp245,IPSL_CM6A_LR_ssp245,MPI_ESM1_2_LR_ssp245,EC_Earth3_ssp245)\n",
    "#mList=(ACCESS_CM2_ssp245,IITM_ESM_ssp245,IPSL_CM6A_LR_ssp245,MPI_ESM1_2_LR_ssp245)\n",
    "\n",
    "firstMean=list()\n",
    "firstSD=list()\n",
    "secondMean=list()\n",
    "secondSD=list()\n",
    "n=1\n",
    "\n",
    "for m in mList:\n",
    "    \n",
    "    fO=getFogTS_firsthalf(m)\n",
    "    RCM=(st.mean(fO)-ObsMean)*100.0/ObsMean\n",
    "    firstMean.append(RCM)\n",
    "    RCSD=(st.stdev(fO)-ObsStd)*100.0/ObsStd\n",
    "    firstSD.append(RCSD)\n",
    "    #if(n == 2):\n",
    "    fO1=getFogTS_secondhalf(m)\n",
    "   # else :\n",
    "    #    fO1=getFogTS_secondhalf(m)\n",
    "    RCM=(st.mean(fO1)-ObsMean)*100.0/ObsMean\n",
    "    secondMean.append(RCM)\n",
    "    RCSD=(st.stdev(fO1)-ObsStd)*100.0/ObsStd\n",
    "    secondSD.append(RCSD)\n",
    "    n=n+1\n",
    "\n",
    "print(firstMean) \n",
    "print(firstSD) \n",
    "print(secondMean) \n",
    "print(secondSD) \n",
    "dump(firstMean,'../../Future_projection_plots/WFD_Newssp245_firstMean.joblib')  \n",
    "dump(firstSD,'../../Future_projection_plots/WFD_Newssp245_firstSD.joblib')\n",
    "dump(secondMean,'../../Future_projection_plots/WFD_Newssp245_secondMean.joblib')\n",
    "dump(secondSD,'../../Future_projection_plots/WFD_Newssp245_secondSD.joblib')\n",
    "    "
   ]
  },
  {
   "cell_type": "code",
   "execution_count": null,
   "metadata": {},
   "outputs": [],
   "source": []
  }
 ],
 "metadata": {
  "kernelspec": {
   "display_name": "Python 3",
   "language": "python",
   "name": "python3"
  },
  "language_info": {
   "codemirror_mode": {
    "name": "ipython",
    "version": 3
   },
   "file_extension": ".py",
   "mimetype": "text/x-python",
   "name": "python",
   "nbconvert_exporter": "python",
   "pygments_lexer": "ipython3",
   "version": "3.8.5"
  }
 },
 "nbformat": 4,
 "nbformat_minor": 4
}
