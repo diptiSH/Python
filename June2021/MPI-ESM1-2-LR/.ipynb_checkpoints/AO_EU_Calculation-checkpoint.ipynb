{
 "cells": [
  {
   "cell_type": "code",
   "execution_count": 1,
   "metadata": {},
   "outputs": [],
   "source": [
    "import numpy as np\n",
    "import pandas as pd\n",
    "import xarray as xr\n",
    "from joblib import dump, load\n",
    "from sklearn.decomposition import PCA\n",
    "from sklearn.preprocessing import StandardScaler\n",
    "import glob\n",
    "\n",
    "import matplotlib as mpl\n",
    "\n",
    "import matplotlib.pyplot as plt\n",
    "\n",
    "import math as mt\n",
    "\n",
    "import cartopy.crs as ccrs\n",
    "\n",
    "import cartopy.feature as cfeature\n",
    "\n",
    "from cartopy.mpl.ticker import LongitudeFormatter, LatitudeFormatter"
   ]
  },
  {
   "cell_type": "markdown",
   "metadata": {},
   "source": [
    "#AO Calculation"
   ]
  },
  {
   "cell_type": "code",
   "execution_count": 2,
   "metadata": {},
   "outputs": [
    {
     "data": {
      "text/plain": [
       "array([[[182.09337 , 185.12328 , 191.77098 , ..., 183.34453 ,\n",
       "         184.55046 , 183.40483 ],\n",
       "        [193.34953 , 191.80728 , 196.22444 , ..., 194.8918  ,\n",
       "         196.77846 , 196.14957 ],\n",
       "        [206.29562 , 204.83894 , 209.01573 , ..., 204.11061 ,\n",
       "         206.04292 , 207.4996  ],\n",
       "        ...,\n",
       "        [ 21.480396,  20.362854,  19.343506, ...,  25.020061,\n",
       "          23.813677,  22.616644],\n",
       "        [ 22.101713,  21.55999 ,  21.059362, ...,  23.78292 ,\n",
       "          23.203838,  22.635963],\n",
       "        [ 20.306034,  20.222174,  20.13338 , ...,  20.60941 ,\n",
       "          20.503351,  20.407158]],\n",
       "\n",
       "       [[184.17784 , 188.95634 , 196.29745 , ..., 183.03221 ,\n",
       "         184.10248 , 183.69547 ],\n",
       "        [193.90776 , 193.89279 , 199.14847 , ..., 194.17729 ,\n",
       "         196.1987  , 195.76447 ],\n",
       "        [206.03224 , 205.30391 , 210.432   , ..., 204.30801 ,\n",
       "         206.68626 , 207.6227  ],\n",
       "        ...,\n",
       "        [ 53.591183,  52.819656,  52.06216 , ...,  55.681313,\n",
       "          55.017334,  54.31127 ],\n",
       "        [ 41.743023,  41.48897 ,  41.25734 , ...,  42.404297,\n",
       "          42.191345,  41.95971 ],\n",
       "        [ 25.5603  ,  25.520838,  25.473974, ...,  25.695957,\n",
       "          25.649094,  25.60963 ]],\n",
       "\n",
       "       [[189.30283 , 194.1567  , 201.19632 , ..., 184.20776 ,\n",
       "         187.49393 , 188.33807 ],\n",
       "        [197.86052 , 197.8156  , 201.10976 , ..., 195.06049 ,\n",
       "         198.47443 , 198.96855 ],\n",
       "        [208.52917 , 207.6076  , 208.91563 , ..., 204.57533 ,\n",
       "         207.3995  , 209.01968 ],\n",
       "        ...,\n",
       "        [ 53.039352,  53.146896,  53.23574 , ...,  52.33329 ,\n",
       "          52.627872,  52.84764 ],\n",
       "        [ 39.493877,  39.445312,  39.404213, ...,  39.50135 ,\n",
       "          39.516296,  39.50509 ],\n",
       "        [ 22.972939,  22.938408,  22.894012, ...,  23.086397,\n",
       "          23.046932,  23.01487 ]],\n",
       "\n",
       "       ...,\n",
       "\n",
       "       [[163.78793 , 155.09015 , 154.96956 , ..., 183.94208 ,\n",
       "         181.93721 , 174.40015 ],\n",
       "        [173.47441 , 164.52031 , 163.92137 , ..., 193.76341 ,\n",
       "         191.86179 , 184.55475 ],\n",
       "        [190.95059 , 183.47398 , 184.90092 , ..., 207.34563 ,\n",
       "         205.8295  , 200.83517 ],\n",
       "        ...,\n",
       "        [ 29.90003 ,  30.316185,  30.807156, ...,  28.84795 ,\n",
       "          29.165913,  29.502577],\n",
       "        [ 28.67203 ,  28.948494,  29.269793, ...,  27.898674,\n",
       "          28.13778 ,  28.388092],\n",
       "        [ 23.726135,  23.80753 ,  23.886456, ...,  23.538685,\n",
       "          23.592947,  23.662008]],\n",
       "\n",
       "       [[175.68332 , 176.30136 , 184.10977 , ..., 194.81242 ,\n",
       "         191.01373 , 182.90384 ],\n",
       "        [193.7503  , 190.27647 , 193.85512 , ..., 211.46388 ,\n",
       "         208.87347 , 201.80602 ],\n",
       "        [219.26843 , 214.11061 , 216.78615 , ..., 230.99615 ,\n",
       "         230.20837 , 226.86395 ],\n",
       "        ...,\n",
       "        [ 32.33676 ,  33.5712  ,  34.786938, ...,  28.221962,\n",
       "          29.657467,  31.013481],\n",
       "        [ 30.27525 ,  30.861805,  31.46704 , ...,  28.422184,\n",
       "          29.046099,  29.65507 ],\n",
       "        [ 24.227137,  24.35046 ,  24.468851, ...,  23.899097,\n",
       "          24.00269 ,  24.116146]],\n",
       "\n",
       "       [[190.86748 , 191.87744 , 198.14828 , ..., 201.47968 ,\n",
       "         200.49985 , 195.6912  ],\n",
       "        [209.7314  , 206.39233 , 209.47685 , ..., 219.23953 ,\n",
       "         219.47911 , 215.67586 ],\n",
       "        [233.11127 , 228.20613 , 230.2871  , ..., 237.68939 ,\n",
       "         238.50691 , 238.1799  ],\n",
       "        ...,\n",
       "        [ 32.632732,  34.31606 ,  36.013416, ...,  27.55002 ,\n",
       "          29.233347,  30.916676],\n",
       "        [ 31.023561,  31.923943,  32.843002, ...,  28.270115,\n",
       "          29.18544 ,  30.093294],\n",
       "        [ 25.179926,  25.404373,  25.62389 , ...,  24.553442,\n",
       "          24.755693,  24.970276]]], dtype=float32)"
      ]
     },
     "execution_count": 2,
     "metadata": {},
     "output_type": "execute_result"
    }
   ],
   "source": [
    "# Calculate AO - input std normal latitude wighted 1000mb z\n",
    "ZData = xr.open_dataset('../../../Data/CMIP6/MPI-ESM1-2-LR/processed/weighted1000Std.nc')\n",
    "#SLPData = xr.open_dataset('../eraDown/ERA5_2degree_Down/DailyMean/weighted1000.nc')\n",
    "\n",
    "ZData.zg.values\n",
    "ZData.zg.values=xr.where(np.isnan(ZData.zg.values),  0.000000000001,ZData.zg.values)\n",
    "ZData.zg.values"
   ]
  },
  {
   "cell_type": "code",
   "execution_count": null,
   "metadata": {},
   "outputs": [],
   "source": [
    "\n",
    "\n",
    "t1=ZData.zg.stack(z=(\"lat\", \"lon\"))\n",
    "# fit scaler on training data\n",
    "zg_PC =PCA().fit_transform(t1)\n"
   ]
  },
  {
   "cell_type": "code",
   "execution_count": null,
   "metadata": {},
   "outputs": [],
   "source": []
  },
  {
   "cell_type": "code",
   "execution_count": null,
   "metadata": {},
   "outputs": [],
   "source": [
    "print(zg_PC[:,0].shape)\n",
    "AO_ds = xr.Dataset({'AO': (('time'), zg_PC[:,0])}, coords={'time': ZData.time})\n",
    "\n",
    "\n",
    "norm = StandardScaler().fit(zg_PC[:,0].reshape(-1, 1))\n",
    "    # transform training data\n",
    "aoX = norm.transform(zg_PC[:,0].reshape(-1, 1))\n",
    "aoX.shape\n",
    "\n",
    "AO_ds = xr.Dataset({'AO': (('time'), aoX[:,0]*-1.0)}, coords={'time': ZData.time})\n"
   ]
  },
  {
   "cell_type": "code",
   "execution_count": null,
   "metadata": {},
   "outputs": [],
   "source": [
    "AO_ds.to_netcdf('MPI-ESM1-2-LR-AOindex-NDJF-Daily-1980-2014.nc')"
   ]
  },
  {
   "cell_type": "code",
   "execution_count": null,
   "metadata": {},
   "outputs": [],
   "source": [
    "AO_ds.AO.where(AO_ds.AO==AO_ds.AO.max(), drop=True).squeeze()"
   ]
  },
  {
   "cell_type": "code",
   "execution_count": null,
   "metadata": {},
   "outputs": [],
   "source": [
    "#AO_ds.AO.where(AO_ds.AO>2.0, drop=True).squeeze()"
   ]
  },
  {
   "cell_type": "code",
   "execution_count": null,
   "metadata": {},
   "outputs": [],
   "source": [
    "AO_ds.AO.where(AO_ds.AO==AO_ds.AO.min(), drop=True).squeeze()"
   ]
  },
  {
   "cell_type": "code",
   "execution_count": null,
   "metadata": {},
   "outputs": [],
   "source": [
    "#AO_ds.AO.where(AO_ds.AO<-2, drop=True).squeeze()"
   ]
  },
  {
   "cell_type": "markdown",
   "metadata": {},
   "source": [
    "#EU Calculation"
   ]
  },
  {
   "cell_type": "code",
   "execution_count": null,
   "metadata": {},
   "outputs": [],
   "source": [
    "zLevData = xr.open_dataset('../../../Data/CMIP6/MPI-ESM1-2-LR/processed/NDJF_New_zg_day_MPI-ESM1-2-LR_historical_r1i1p1f1_gn_18500101-20141231.nc')"
   ]
  },
  {
   "cell_type": "code",
   "execution_count": null,
   "metadata": {},
   "outputs": [],
   "source": [
    "zLevData.plev"
   ]
  },
  {
   "cell_type": "code",
   "execution_count": null,
   "metadata": {},
   "outputs": [],
   "source": [
    "z500=zLevData.zg.sel(plev=50000.0,method='nearest')\n",
    "z500"
   ]
  },
  {
   "cell_type": "code",
   "execution_count": null,
   "metadata": {},
   "outputs": [],
   "source": [
    "z145E40N=z500.sel(lat=40,lon=145,method='nearest')"
   ]
  },
  {
   "cell_type": "code",
   "execution_count": null,
   "metadata": {},
   "outputs": [],
   "source": [
    "#z145E40N"
   ]
  },
  {
   "cell_type": "code",
   "execution_count": null,
   "metadata": {},
   "outputs": [],
   "source": [
    "z20E55N=z500.sel(lat=55,lon=20,method='nearest')"
   ]
  },
  {
   "cell_type": "code",
   "execution_count": null,
   "metadata": {},
   "outputs": [],
   "source": [
    "#z20E55N"
   ]
  },
  {
   "cell_type": "code",
   "execution_count": null,
   "metadata": {},
   "outputs": [],
   "source": [
    "z75E55N=z500.sel(lat=55,lon=75,method='nearest')"
   ]
  },
  {
   "cell_type": "code",
   "execution_count": null,
   "metadata": {},
   "outputs": [],
   "source": [
    "#z75E55N"
   ]
  },
  {
   "cell_type": "code",
   "execution_count": null,
   "metadata": {},
   "outputs": [],
   "source": [
    "#Calculate Anomaly\n",
    "z145E40N_Anom = z145E40N.groupby(\"time.dayofyear\") - z145E40N.groupby(\"time.dayofyear\").mean(\"time\")\n",
    "z75E55N_Anom  = z75E55N.groupby(\"time.dayofyear\")  - z75E55N.groupby(\"time.dayofyear\").mean(\"time\")\n",
    "z20E55N_Anom  = z20E55N.groupby(\"time.dayofyear\")  - z20E55N.groupby(\"time.dayofyear\").mean(\"time\")"
   ]
  },
  {
   "cell_type": "code",
   "execution_count": null,
   "metadata": {},
   "outputs": [],
   "source": [
    "# calculate std normal anomalies\n",
    "z145E40N_AnomStd = z145E40N_Anom.groupby(\"time.dayofyear\")  / z145E40N.groupby(\"time.dayofyear\").std(\"time\")\n",
    "z75E55N_AnomStd  = z75E55N_Anom.groupby(\"time.dayofyear\")   / z75E55N.groupby(\"time.dayofyear\").std(\"time\")\n",
    "z20E55N_AnomStd  = z20E55N_Anom.groupby(\"time.dayofyear\")   / z20E55N.groupby(\"time.dayofyear\").std(\"time\")"
   ]
  },
  {
   "cell_type": "code",
   "execution_count": null,
   "metadata": {},
   "outputs": [],
   "source": [
    "EUVal = -(1.0/4.0)*z20E55N_AnomStd + (1.0/2.0)*z75E55N_AnomStd - (1.0/4.0)*z145E40N_AnomStd"
   ]
  },
  {
   "cell_type": "code",
   "execution_count": null,
   "metadata": {},
   "outputs": [],
   "source": [
    "EUVal"
   ]
  },
  {
   "cell_type": "code",
   "execution_count": null,
   "metadata": {},
   "outputs": [],
   "source": [
    "EU_ds = xr.Dataset({'EU': (('time'), EUVal)}, coords={'time': zLevData.time})"
   ]
  },
  {
   "cell_type": "code",
   "execution_count": null,
   "metadata": {},
   "outputs": [],
   "source": [
    "EU_ds.to_netcdf('MPI-ESM1-2-LR-EUindex-NDJF-Daily-1980-2014.nc')"
   ]
  },
  {
   "cell_type": "code",
   "execution_count": null,
   "metadata": {},
   "outputs": [],
   "source": []
  }
 ],
 "metadata": {
  "kernelspec": {
   "display_name": "Python 3",
   "language": "python",
   "name": "python3"
  },
  "language_info": {
   "codemirror_mode": {
    "name": "ipython",
    "version": 3
   },
   "file_extension": ".py",
   "mimetype": "text/x-python",
   "name": "python",
   "nbconvert_exporter": "python",
   "pygments_lexer": "ipython3",
   "version": "3.8.5"
  }
 },
 "nbformat": 4,
 "nbformat_minor": 4
}
