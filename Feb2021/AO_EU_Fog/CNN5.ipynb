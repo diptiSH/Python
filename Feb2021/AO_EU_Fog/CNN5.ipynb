{
 "cells": [
  {
   "cell_type": "code",
   "execution_count": 1,
   "metadata": {},
   "outputs": [],
   "source": [
    "# CNN5"
   ]
  },
  {
   "cell_type": "code",
   "execution_count": 2,
   "metadata": {},
   "outputs": [],
   "source": [
    "import xarray as xr\n",
    "import numpy as np\n",
    "import pandas as pd\n",
    "import datetime\n",
    "import matplotlib.pyplot as plt\n",
    "from keras.models import Sequential\n",
    "from keras.layers import Dense, Conv3D, Flatten,MaxPooling3D,AveragePooling3D, concatenate,Input ,SpatialDropout3D,Dropout\n",
    "import keras\n",
    "from math import e\n",
    "from sklearn.model_selection import train_test_split\n",
    "from keras.models import Model\n",
    "from sklearn.preprocessing import StandardScaler\n",
    "from joblib import dump, load\n",
    "from hyperopt import Trials, STATUS_OK, tpe\n",
    "from hyperas import optim\n",
    "from hyperas.distributions import choice, uniform\n",
    "from sklearn.model_selection import KFold"
   ]
  },
  {
   "cell_type": "code",
   "execution_count": null,
   "metadata": {},
   "outputs": [],
   "source": []
  },
  {
   "cell_type": "code",
   "execution_count": 3,
   "metadata": {},
   "outputs": [],
   "source": [
    "def model(X_train, Y_train, X_val, Y_val):\n",
    "    model = Sequential()\n",
    "    if model_choice == 'one':\n",
    "        model.add(Conv2D(16, kernel_size=3, activation='relu',padding='same', input_shape=(X_train.shape[1],X_train.shape[2],X_train.shape[3],1), data_format='channels_first'))\n",
    "        model.add(Conv2D(16, kernel_size=3, activation='relu',padding='same'))\n",
    "        model.add(AveragePooling2D(pool_size=2,padding='same'))\n",
    "        model.add(Dropout({{uniform(0, 1)}}))\n",
    "        model.add(Conv2D(32, kernel_size=3,padding='same', activation='relu'))\n",
    "        model.add(Conv2D(32, kernel_size=3,padding='same', activation='relu'))\n",
    "        \n",
    "        model.add(AveragePooling2D(pool_size=2,padding='same'))\n",
    "        model.add(Dropout({{uniform(0, 1)}}))\n",
    "    \n",
    "    elif model_choice == 'two':\n",
    "        model.add(Conv2D(32, kernel_size=3, activation='relu',padding='same', input_shape=(X_train.shape[1],X_train.shape[2],X_train.shape[3],1), data_format='channels_first'))\n",
    "        model.add(Conv2D(32, kernel_size=3, activation='relu',padding='same'))\n",
    "        model.add(AveragePooling2D(pool_size=2,padding='same'))\n",
    "        model.add(Dropout({{uniform(0, 1)}}))\n",
    "        model.add(Conv2D(64, kernel_size=3,padding='same', activation='relu'))\n",
    "        model.add(Conv2D(64, kernel_size=3,padding='same', activation='relu'))\n",
    "        \n",
    "        model.add(AveragePooling2D(pool_size=2,padding='same'))\n",
    "        model.add(Dropout({{uniform(0, 1)}}))\n",
    "        \n",
    "    model.add(Flatten())\n",
    "    model.add(Dense({{choice([256, 512,1024])}}, activation='relu'))\n",
    "    \n",
    "    model.add(Dropout({{uniform(0, 1)}}))\n",
    "    choiceval = {{choice(['one', 'two'])}}\n",
    "    if choiceval == 'two':\n",
    "        model.add(Dense({{choice([256, 512,1024])}}, activation='relu'))\n",
    "        \n",
    "        model.add(Dropout({{uniform(0, 1)}}))\n",
    "    \n",
    "    model.add(Dense(units=1, activation = 'linear'))\n",
    "    \n",
    "    adam = keras.optimizers.Adam(lr=0.001)\n",
    "    model.compile(optimizer='adam', loss='mae',  metrics='accuracy')\n",
    "    model.fit(X_train, Y_train,epochs=20,verbose=2,\n",
    "              validation_data=(X_val, Y_val))\n",
    "    score, acc = model.evaluate(X_val, Y_val, verbose=0)\n",
    "    print('Val accuracy:', acc)\n",
    "    return {'loss': -acc, 'status': STATUS_OK, 'model': model}"
   ]
  },
  {
   "cell_type": "code",
   "execution_count": null,
   "metadata": {},
   "outputs": [],
   "source": []
  }
 ],
 "metadata": {
  "kernelspec": {
   "display_name": "Python 3",
   "language": "python",
   "name": "python3"
  },
  "language_info": {
   "codemirror_mode": {
    "name": "ipython",
    "version": 3
   },
   "file_extension": ".py",
   "mimetype": "text/x-python",
   "name": "python",
   "nbconvert_exporter": "python",
   "pygments_lexer": "ipython3",
   "version": "3.8.5"
  }
 },
 "nbformat": 4,
 "nbformat_minor": 4
}
