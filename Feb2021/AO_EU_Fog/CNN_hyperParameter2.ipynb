{
 "cells": [
  {
   "cell_type": "code",
   "execution_count": 2,
   "metadata": {},
   "outputs": [],
   "source": [
    "import xarray as xr\n",
    "import numpy as np\n",
    "import pandas as pd\n",
    "import datetime\n",
    "import matplotlib.pyplot as plt\n",
    "from keras.models import Sequential\n",
    "from keras.layers import Dense, Conv3D, Flatten,MaxPooling3D,AveragePooling3D, concatenate,Input ,SpatialDropout3D,Dropout\n",
    "import keras\n",
    "from math import e\n",
    "from sklearn.model_selection import train_test_split\n",
    "from keras.models import Model\n",
    "from sklearn.preprocessing import StandardScaler\n",
    "from joblib import dump, load"
   ]
  },
  {
   "cell_type": "code",
   "execution_count": 3,
   "metadata": {},
   "outputs": [],
   "source": [
    "fogData = xr.open_dataset('../../../Data/FogData/CombinedFogData_25Stations.nc')\n",
    "#plt.figure(figsize=[16,8])\n",
    "StackFog=fogData.fogdata.stack(a=('years','months','days'))\n",
    "StackFog\n",
    "dd =[];\n",
    "for i in range(StackFog.years.values.shape[0]):\n",
    "    dd=dd+[str(StackFog.years[i].values)+'-'+str(StackFog.months[i].values)+\"-\"+str(StackFog.days[i].values)]\n",
    "fg = xr.Dataset({'fogdata': (('time','stations'), StackFog.values.T)}, coords={'time': pd.to_datetime(dd),'stations': fogData.stations})\n",
    "y_All=fg.fogdata.sum(dim='stations').sel(time=slice('1980-1-1','2018-12-31'))\n",
    "y_All=y_All/25.0"
   ]
  },
  {
   "cell_type": "code",
   "execution_count": 4,
   "metadata": {},
   "outputs": [],
   "source": [
    "#Surface data\n",
    "t2mData = xr.open_dataset('../../../Data/eraDown/ERA5_2degree_Down/DailyMean/ERA5NH_t2m_daily_NovDecJan.nc')\n",
    "d2mData = xr.open_dataset('../../../Data/eraDown/ERA5_2degree_Down/DailyMean/ERA5NH_d2m_daily_NovDecJan.nc')\n",
    "u10Data = xr.open_dataset('../../../Data/eraDown/ERA5_2degree_Down/DailyMean/ERA5NH_u10_daily_NovDecJan.nc')\n",
    "v10Data = xr.open_dataset('../../../Data/eraDown/ERA5_2degree_Down/DailyMean/ERA5NH_v10_daily_NovDecJan.nc')\n",
    "# 850 Data\n",
    "tuv850Data = xr.open_dataset('../../../Data/eraDown/ERA5_2degree_Down/DailyMean/ERA5NH_850_uvt_daily_NovDecJan.nc')\n",
    "z850Data = xr.open_dataset('../../../Data/eraDown/ERA5_2degree_Down/DailyMean/ERA5NH_850_z_daily_NovDecJan.nc')\n",
    "#700 Data\n",
    "w700Data = xr.open_dataset('../../../Data/eraDown/ERA5_2degree_Down/DailyMean/ERA5NH_700_w_daily_NovDecJan.nc')"
   ]
  },
  {
   "cell_type": "code",
   "execution_count": 5,
   "metadata": {},
   "outputs": [],
   "source": [
    "rh = (e**((17.625*(d2mData.d2m.values-273.15))/(243.04+(d2mData.d2m.values-273.15)))/e**((17.625*(t2mData.t2m.values-273.15))/(243.04+(t2mData.t2m.values-273.15))))\n",
    "\n",
    "rh_ds = xr.Dataset({'rh': (('time','latitude','longitude'), rh)}, coords={'time': t2mData.time,'latitude': t2mData.latitude,'longitude': t2mData.longitude})\n"
   ]
  },
  {
   "cell_type": "code",
   "execution_count": 6,
   "metadata": {},
   "outputs": [],
   "source": [
    "# Calculate wind speed \n",
    "ws = ((v10Data.v10.values**2)+(u10Data.u10.values**2))**0.5\n",
    "ws_ds = xr.Dataset({'ws': (('time','latitude','longitude'), ws)}, coords={'time': t2mData.time,'latitude': t2mData.latitude,'longitude': t2mData.longitude})\n"
   ]
  },
  {
   "cell_type": "code",
   "execution_count": 7,
   "metadata": {},
   "outputs": [],
   "source": [
    "#Calculate inv\n",
    "inv=t2mData.t2m.values-tuv850Data.t.values\n",
    "inv_ds = xr.Dataset({'inv': (('time','latitude','longitude'), inv)}, coords={'time': t2mData.time,'latitude': t2mData.latitude,'longitude': t2mData.longitude})\n",
    "inv_ds.attrs\n",
    "inv_ds.attrs['units']='K'\n",
    "inv_ds.attrs['long_name']='t2m - t850'"
   ]
  },
  {
   "cell_type": "code",
   "execution_count": 8,
   "metadata": {},
   "outputs": [],
   "source": [
    "#u shear calculation\n",
    "ushear=(tuv850Data.u.values-u10Data.u10.values)/(z850Data.z.values/9.81) \n",
    "ushear_ds = xr.Dataset({'ushear': (('time','latitude','longitude'), ushear)}, coords={'time': t2mData.time,'latitude': t2mData.latitude,'longitude': t2mData.longitude})\n",
    "ushear_ds.attrs['units']='s-1'\n",
    "ushear_ds.attrs['long_name']='(u10 - u850)/z850'"
   ]
  },
  {
   "cell_type": "code",
   "execution_count": 9,
   "metadata": {},
   "outputs": [
    {
     "name": "stdout",
     "output_type": "stream",
     "text": [
      "<xarray.Dataset>\n",
      "Dimensions:  (time: 3772)\n",
      "Coordinates:\n",
      "  * time     (time) datetime64[ns] 1979-01-01T09:00:00 ... 2019-12-31T09:00:00\n",
      "Data variables:\n",
      "    AO       (time) float32 ...\n"
     ]
    }
   ],
   "source": [
    "# AO Input\n",
    "AOData1 = xr.open_dataset('../../../Data/AO_EU/AO_Calculated.nc')\n",
    "print(AOData1)\n",
    "\n",
    "Darray=np.zeros((t2mData.time.shape[0],t2mData.latitude.shape[0], t2mData.longitude.shape[0]))\n",
    "for t in range(AOData1.time.shape[0]) :\n",
    "    Darray[t,:,:]=np.full((t2mData.latitude.shape[0], t2mData.longitude.shape[0]), AOData1.AO[t].values)\n",
    "AOData=xr.Dataset({'AO': (('time','latitude','longitude'), Darray)}, coords={'time': t2mData.time,'latitude': t2mData.latitude,'longitude': t2mData.longitude})    "
   ]
  },
  {
   "cell_type": "code",
   "execution_count": 10,
   "metadata": {},
   "outputs": [],
   "source": [
    "#EU Input\n",
    "EUData1 = xr.open_dataset('../../../Data/AO_EU/EU_NovDecJan.nc')\n",
    "Darray=np.zeros((t2mData.time.shape[0],t2mData.latitude.shape[0], t2mData.longitude.shape[0]))\n",
    "for t in range(EUData1.time.shape[0]) :\n",
    "    Darray[t,:,:]=np.full((t2mData.latitude.shape[0], t2mData.longitude.shape[0]), EUData1.EUVal[t].values)\n",
    "EUData=xr.Dataset({'EU': (('time','latitude','longitude'), Darray)}, coords={'time': t2mData.time,'latitude': t2mData.latitude,'longitude': t2mData.longitude})    "
   ]
  },
  {
   "cell_type": "code",
   "execution_count": 11,
   "metadata": {},
   "outputs": [],
   "source": [
    "t2m=t2mData.t2m.shift(time=1)\n",
    "ws=ws_ds.ws.shift(time=1)\n",
    "rh=rh_ds.rh.shift(time=1)\n",
    "inv=inv_ds.inv.shift(time=1)\n",
    "w=w700Data.w.shift(time=1)\n",
    "ushear=ushear_ds.ushear.shift(time=1)\n",
    "ao=AOData.AO.shift(time=1)\n",
    "eu=EUData.EU.shift(time=1)"
   ]
  },
  {
   "cell_type": "code",
   "execution_count": 12,
   "metadata": {},
   "outputs": [],
   "source": [
    "t2mTsAll=t2m[((t2m.time.dt.month>11) | (t2m.time.dt.month<2)) & (t2m.time.dt.year<2020)].sel(time=slice('1980-1-1','2018-12-31'),latitude=slice(35,0),longitude=slice(50,100))\n",
    "wsTsAll=ws[((ws.time.dt.month>11) | (ws.time.dt.month<2)) & (ws.time.dt.year<2020)].sel(time=slice('1980-1-1','2018-12-31'),latitude=slice(35,0),longitude=slice(50,100))\n",
    "rhTsAll=rh[((rh.time.dt.month>11) | (rh.time.dt.month<2)) & (rh.time.dt.year<2020)].sel(time=slice('1980-1-1','2018-12-31'),latitude=slice(35,0),longitude=slice(50,100))\n",
    "invTsAll=inv[((inv.time.dt.month>11) | (inv.time.dt.month<2)) & (inv.time.dt.year<2020)].sel(time=slice('1980-1-1','2018-12-31'),latitude=slice(35,0),longitude=slice(50,100))\n",
    "ushearTsAll=ushear[((ushear.time.dt.month>11) | (ushear.time.dt.month<2)) & (ushear.time.dt.year<2020)].sel(time=slice('1980-1-1','2018-12-31'),latitude=slice(35,0),longitude=slice(50,100))\n",
    "aoTsAll=ao[((ao.time.dt.month>11) | (ao.time.dt.month<2)) & (ao.time.dt.year<2020)].sel(time=slice('1980-1-1','2018-12-31'),latitude=slice(35,0),longitude=slice(50,100))\n",
    "euTsAll=eu[((eu.time.dt.month>11) | (eu.time.dt.month<2)) & (eu.time.dt.year<2020)].sel(time=slice('1980-1-1','2018-12-31'),latitude=slice(35,0),longitude=slice(50,100))\n",
    "wTsAll=w[((w.time.dt.month>11) | (w.time.dt.month<2)) & (w.time.dt.year<2020)].sel(time=slice('1980-1-1','2018-12-31'),latitude=slice(35,0),longitude=slice(50,100))"
   ]
  },
  {
   "cell_type": "code",
   "execution_count": 13,
   "metadata": {},
   "outputs": [],
   "source": [
    "t1=t2mTsAll.stack(z=(\"latitude\", \"longitude\"))\n",
    "# fit scaler on training data\n",
    "norm = StandardScaler().fit(t1)\n",
    "# transform training data\n",
    "t1.values = norm.transform(t1)\n",
    "t2mTsAll.values=t1.unstack()\n",
    "\n",
    "t1=wsTsAll.stack(z=(\"latitude\", \"longitude\"))\n",
    "# fit scaler on training data\n",
    "norm = StandardScaler().fit(t1)\n",
    "# transform training data\n",
    "t1.values = norm.transform(t1)\n",
    "wsTsAll.values=t1.unstack()\n",
    "\n",
    "t1=rhTsAll.stack(z=(\"latitude\", \"longitude\"))\n",
    "# fit scaler on training data\n",
    "norm = StandardScaler().fit(t1)\n",
    "# transform training data\n",
    "t1.values = norm.transform(t1)\n",
    "rhTsAll.values=t1.unstack()\n",
    "\n",
    "t1=invTsAll.stack(z=(\"latitude\", \"longitude\"))\n",
    "# fit scaler on training data\n",
    "norm = StandardScaler().fit(t1)\n",
    "# transform training data\n",
    "t1.values = norm.transform(t1)\n",
    "invTsAll.values=t1.unstack()\n",
    "\n",
    "t1=ushearTsAll.stack(z=(\"latitude\", \"longitude\"))\n",
    "# fit scaler on training data\n",
    "norm = StandardScaler().fit(t1)\n",
    "# transform training data\n",
    "t1.values = norm.transform(t1)\n",
    "ushearTsAll.values=t1.unstack()\n",
    "\n",
    "t1=aoTsAll.stack(z=(\"latitude\", \"longitude\"))\n",
    "# fit scaler on training data\n",
    "norm = StandardScaler().fit(t1)\n",
    "# transform training data\n",
    "t1.values = norm.transform(t1)\n",
    "aoTsAll.values=t1.unstack()\n",
    "\n",
    "t1=euTsAll.stack(z=(\"latitude\", \"longitude\"))\n",
    "# fit scaler on training data\n",
    "norm = StandardScaler().fit(t1)\n",
    "# transform training data\n",
    "t1.values = norm.transform(t1)\n",
    "euTsAll.values=t1.unstack()\n",
    "\n",
    "t1=wTsAll.stack(z=(\"latitude\", \"longitude\"))\n",
    "# fit scaler on training data\n",
    "norm = StandardScaler().fit(t1)\n",
    "# transform training data\n",
    "t1.values = norm.transform(t1)\n",
    "wTsAll.values=t1.unstack()\n"
   ]
  },
  {
   "cell_type": "code",
   "execution_count": 14,
   "metadata": {},
   "outputs": [
    {
     "data": {
      "text/plain": [
       "(2418, 18, 26, 1)"
      ]
     },
     "execution_count": 14,
     "metadata": {},
     "output_type": "execute_result"
    }
   ],
   "source": [
    "t2mAll=t2mTsAll.values\n",
    "t2mAll=t2mAll[:,:,:,None]\n",
    "t2mAll.shape\n",
    "\n",
    "\n",
    "wsAll=wsTsAll.values\n",
    "wsAll=wsAll[:,:,:,None]\n",
    "wsAll.shape\n",
    "\n",
    "rhAll=rhTsAll.values\n",
    "rhAll=rhAll[:,:,:,None]\n",
    "rhAll.shape\n",
    "\n",
    "\n",
    "invAll=invTsAll.values\n",
    "invAll=invAll[:,:,:,None]\n",
    "invAll.shape\n",
    "\n",
    "wAll=wTsAll.values\n",
    "wAll=wAll[:,:,:,None]\n",
    "wAll.shape\n",
    "\n",
    "ushearAll=ushearTsAll.values\n",
    "ushearAll=ushearAll[:,:,:,None]\n",
    "ushearAll.shape\n",
    "\n",
    "aoAll=aoTsAll.values\n",
    "aoAll=aoAll[:,:,:,None]\n",
    "aoAll.shape\n",
    "\n",
    "euAll=euTsAll.values\n",
    "euAll=euAll[:,:,:,None]\n",
    "euAll.shape"
   ]
  },
  {
   "cell_type": "code",
   "execution_count": 15,
   "metadata": {},
   "outputs": [
    {
     "data": {
      "text/plain": [
       "(2418, 1)"
      ]
     },
     "execution_count": 15,
     "metadata": {},
     "output_type": "execute_result"
    }
   ],
   "source": [
    "yAll=y_All.values\n",
    "yAll=yAll[:,None]\n",
    "yAll.shape"
   ]
  },
  {
   "cell_type": "code",
   "execution_count": 16,
   "metadata": {},
   "outputs": [
    {
     "data": {
      "text/plain": [
       "(2418, 7, 18, 26, 1)"
      ]
     },
     "execution_count": 16,
     "metadata": {},
     "output_type": "execute_result"
    }
   ],
   "source": [
    "XAll=np.array([rhAll,wsAll,invAll,wAll,ushearAll,aoAll,euAll])\n",
    "\n",
    "XAll_reshape = np.einsum('lkija->klija',XAll)\n",
    "XAll_reshape.shape\n"
   ]
  },
  {
   "cell_type": "code",
   "execution_count": 17,
   "metadata": {},
   "outputs": [],
   "source": [
    "X_train,X_test,y_train,y_test= train_test_split(XAll_reshape ,yAll,test_size=0.20, random_state=0)"
   ]
  },
  {
   "cell_type": "code",
   "execution_count": 18,
   "metadata": {},
   "outputs": [],
   "source": [
    "Xtrain,XVal,ytrain,yVal= train_test_split(X_train ,y_train,test_size=0.20, random_state=50)"
   ]
  },
  {
   "cell_type": "code",
   "execution_count": 19,
   "metadata": {},
   "outputs": [],
   "source": [
    "######## First let use choose best architecture using following 6 ways"
   ]
  },
  {
   "cell_type": "code",
   "execution_count": 20,
   "metadata": {},
   "outputs": [],
   "source": [
    "#  LeNet-5 "
   ]
  },
  {
   "cell_type": "code",
   "execution_count": 21,
   "metadata": {},
   "outputs": [
    {
     "name": "stdout",
     "output_type": "stream",
     "text": [
      "Epoch 1/20\n",
      "49/49 [==============================] - 8s 135ms/step - loss: 0.2861 - accuracy: 0.0461 - val_loss: 0.1841 - val_accuracy: 0.0336\n",
      "Epoch 2/20\n",
      "49/49 [==============================] - 6s 123ms/step - loss: 0.1673 - accuracy: 0.0591 - val_loss: 0.1601 - val_accuracy: 0.0336\n",
      "Epoch 3/20\n",
      "49/49 [==============================] - 6s 126ms/step - loss: 0.1399 - accuracy: 0.0676 - val_loss: 0.1302 - val_accuracy: 0.0336\n",
      "Epoch 4/20\n",
      "49/49 [==============================] - 6s 124ms/step - loss: 0.1183 - accuracy: 0.0581 - val_loss: 0.1261 - val_accuracy: 0.0336\n",
      "Epoch 5/20\n",
      "49/49 [==============================] - 6s 127ms/step - loss: 0.1054 - accuracy: 0.0509 - val_loss: 0.1137 - val_accuracy: 0.0336\n",
      "Epoch 6/20\n",
      "49/49 [==============================] - 6s 127ms/step - loss: 0.0999 - accuracy: 0.0468 - val_loss: 0.1099 - val_accuracy: 0.0336\n",
      "Epoch 7/20\n",
      "49/49 [==============================] - 6s 126ms/step - loss: 0.0919 - accuracy: 0.0500 - val_loss: 0.1067 - val_accuracy: 0.0336\n",
      "Epoch 8/20\n",
      "49/49 [==============================] - 6s 122ms/step - loss: 0.0885 - accuracy: 0.0524 - val_loss: 0.1086 - val_accuracy: 0.0336\n",
      "Epoch 9/20\n",
      "49/49 [==============================] - 6s 124ms/step - loss: 0.0779 - accuracy: 0.0517 - val_loss: 0.1122 - val_accuracy: 0.0336\n",
      "Epoch 10/20\n",
      "49/49 [==============================] - 6s 125ms/step - loss: 0.0746 - accuracy: 0.0612 - val_loss: 0.1063 - val_accuracy: 0.0336\n",
      "Epoch 11/20\n",
      "49/49 [==============================] - 6s 124ms/step - loss: 0.0719 - accuracy: 0.0578 - val_loss: 0.1059 - val_accuracy: 0.0336\n",
      "Epoch 12/20\n",
      "49/49 [==============================] - 6s 124ms/step - loss: 0.0720 - accuracy: 0.0509 - val_loss: 0.1098 - val_accuracy: 0.0336\n",
      "Epoch 13/20\n",
      "49/49 [==============================] - 6s 123ms/step - loss: 0.0656 - accuracy: 0.0657 - val_loss: 0.1057 - val_accuracy: 0.0336\n",
      "Epoch 14/20\n",
      "49/49 [==============================] - 6s 125ms/step - loss: 0.0636 - accuracy: 0.0597 - val_loss: 0.1057 - val_accuracy: 0.0336\n",
      "Epoch 15/20\n",
      "49/49 [==============================] - 6s 124ms/step - loss: 0.0556 - accuracy: 0.0479 - val_loss: 0.1060 - val_accuracy: 0.0336\n",
      "Epoch 16/20\n",
      "49/49 [==============================] - 6s 123ms/step - loss: 0.0547 - accuracy: 0.0545 - val_loss: 0.1058 - val_accuracy: 0.0336\n",
      "Epoch 17/20\n",
      "49/49 [==============================] - 6s 122ms/step - loss: 0.0529 - accuracy: 0.0509 - val_loss: 0.1065 - val_accuracy: 0.0336\n",
      "Epoch 18/20\n",
      "49/49 [==============================] - 6s 123ms/step - loss: 0.0483 - accuracy: 0.0584 - val_loss: 0.1027 - val_accuracy: 0.0336\n",
      "Epoch 19/20\n",
      "49/49 [==============================] - 6s 123ms/step - loss: 0.0471 - accuracy: 0.0611 - val_loss: 0.1012 - val_accuracy: 0.0336\n",
      "Epoch 20/20\n",
      "49/49 [==============================] - 6s 123ms/step - loss: 0.0465 - accuracy: 0.0463 - val_loss: 0.1081 - val_accuracy: 0.0336\n",
      "Model: \"sequential\"\n",
      "_________________________________________________________________\n",
      "Layer (type)                 Output Shape              Param #   \n",
      "=================================================================\n",
      "conv3d (Conv3D)              (None, 7, 18, 26, 8)      224       \n",
      "_________________________________________________________________\n",
      "max_pooling3d (MaxPooling3D) (None, 4, 9, 13, 8)       0         \n",
      "_________________________________________________________________\n",
      "conv3d_1 (Conv3D)            (None, 4, 9, 13, 16)      16016     \n",
      "_________________________________________________________________\n",
      "max_pooling3d_1 (MaxPooling3 (None, 2, 5, 7, 16)       0         \n",
      "_________________________________________________________________\n",
      "flatten (Flatten)            (None, 1120)              0         \n",
      "_________________________________________________________________\n",
      "dense (Dense)                (None, 120)               134520    \n",
      "_________________________________________________________________\n",
      "dense_1 (Dense)              (None, 84)                10164     \n",
      "_________________________________________________________________\n",
      "dense_2 (Dense)              (None, 1)                 85        \n",
      "=================================================================\n",
      "Total params: 161,009\n",
      "Trainable params: 161,009\n",
      "Non-trainable params: 0\n",
      "_________________________________________________________________\n"
     ]
    },
    {
     "data": {
      "image/png": "[encoded data removed]",
      "text/plain": [
       "<Figure size 432x288 with 1 Axes>"
      ]
     },
     "metadata": {
      "needs_background": "light"
     },
     "output_type": "display_data"
    }
   ],
   "source": [
    "cnn1 = Sequential()\n",
    "cnn1.add(Conv3D(8, kernel_size=3, activation='relu',padding='same',input_shape=(Xtrain.shape[1],Xtrain.shape[2],Xtrain.shape[3],1)),)\n",
    "cnn1.add(MaxPooling3D(pool_size=2,padding='same'))\n",
    "cnn1.add(Conv3D(16, kernel_size=5, activation='relu',padding='same'))\n",
    "cnn1.add(MaxPooling3D(pool_size=2,padding='same'))\n",
    "\n",
    "cnn1.add(Flatten())\n",
    "\n",
    "cnn1.add(Dense(120, activation='relu'))\n",
    "cnn1.add(Dense(84, activation='relu'))\n",
    "cnn1.add(Dense(units=1, activation = 'linear'))\n",
    "\n",
    "adam = keras.optimizers.Adam(lr=0.001)\n",
    "cnn1.compile(optimizer='adam', loss='mae',  metrics='accuracy')\n",
    "history = cnn1.fit(Xtrain, ytrain, validation_data=(XVal, yVal), epochs=20)\n",
    "yy_test = cnn1.predict(XVal)\n",
    "\n",
    "test_corr = np.corrcoef(yy_test[:,0],yVal[:,0])[0,1]\n",
    "plt.title('corr = %f'%test_corr)\n",
    "\n",
    "plt.plot(yy_test,yVal,'+')\n",
    "cnn1.summary()\n",
    "\n",
    "\n"
   ]
  },
  {
   "cell_type": "code",
   "execution_count": 22,
   "metadata": {},
   "outputs": [
    {
     "name": "stdout",
     "output_type": "stream",
     "text": [
      "Epoch 1/20\n",
      "49/49 [==============================] - 2s 32ms/step - loss: 0.1863 - accuracy: 0.0521 - val_loss: 0.1704 - val_accuracy: 0.0336\n",
      "Epoch 2/20\n",
      "49/49 [==============================] - 1s 26ms/step - loss: 0.1550 - accuracy: 0.0660 - val_loss: 0.1429 - val_accuracy: 0.0336\n",
      "Epoch 3/20\n",
      "49/49 [==============================] - 1s 27ms/step - loss: 0.1352 - accuracy: 0.0583 - val_loss: 0.1215 - val_accuracy: 0.0336\n",
      "Epoch 4/20\n",
      "49/49 [==============================] - 1s 28ms/step - loss: 0.1133 - accuracy: 0.0615 - val_loss: 0.1215 - val_accuracy: 0.0336\n",
      "Epoch 5/20\n",
      "49/49 [==============================] - 1s 27ms/step - loss: 0.1043 - accuracy: 0.0508 - val_loss: 0.1087 - val_accuracy: 0.0336\n",
      "Epoch 6/20\n",
      "49/49 [==============================] - 1s 27ms/step - loss: 0.0969 - accuracy: 0.0548 - val_loss: 0.1111 - val_accuracy: 0.0336\n",
      "Epoch 7/20\n",
      "49/49 [==============================] - 1s 27ms/step - loss: 0.0945 - accuracy: 0.0631 - val_loss: 0.1070 - val_accuracy: 0.0336\n",
      "Epoch 8/20\n",
      "49/49 [==============================] - 1s 27ms/step - loss: 0.0851 - accuracy: 0.0646 - val_loss: 0.1062 - val_accuracy: 0.0336\n",
      "Epoch 9/20\n",
      "49/49 [==============================] - 1s 27ms/step - loss: 0.0774 - accuracy: 0.0641 - val_loss: 0.1157 - val_accuracy: 0.0336\n",
      "Epoch 10/20\n",
      "49/49 [==============================] - 2s 31ms/step - loss: 0.0828 - accuracy: 0.0519 - val_loss: 0.1025 - val_accuracy: 0.0336\n",
      "Epoch 11/20\n",
      "49/49 [==============================] - 2s 31ms/step - loss: 0.0701 - accuracy: 0.0531 - val_loss: 0.0988 - val_accuracy: 0.0336\n",
      "Epoch 12/20\n",
      "49/49 [==============================] - 1s 30ms/step - loss: 0.0685 - accuracy: 0.0565 - val_loss: 0.0969 - val_accuracy: 0.0336\n",
      "Epoch 13/20\n",
      "49/49 [==============================] - 1s 28ms/step - loss: 0.0675 - accuracy: 0.0622 - val_loss: 0.0993 - val_accuracy: 0.0336\n",
      "Epoch 14/20\n",
      "49/49 [==============================] - 1s 29ms/step - loss: 0.0602 - accuracy: 0.0523 - val_loss: 0.0969 - val_accuracy: 0.0336\n",
      "Epoch 15/20\n",
      "49/49 [==============================] - 1s 28ms/step - loss: 0.0623 - accuracy: 0.0586 - val_loss: 0.0996 - val_accuracy: 0.0336\n",
      "Epoch 16/20\n",
      "49/49 [==============================] - 1s 28ms/step - loss: 0.0601 - accuracy: 0.0576 - val_loss: 0.0959 - val_accuracy: 0.0336\n",
      "Epoch 17/20\n",
      "49/49 [==============================] - 1s 27ms/step - loss: 0.0535 - accuracy: 0.0559 - val_loss: 0.0967 - val_accuracy: 0.0336\n",
      "Epoch 18/20\n",
      "49/49 [==============================] - 1s 28ms/step - loss: 0.0537 - accuracy: 0.0492 - val_loss: 0.0956 - val_accuracy: 0.0336\n",
      "Epoch 19/20\n",
      "49/49 [==============================] - 1s 29ms/step - loss: 0.0516 - accuracy: 0.0527 - val_loss: 0.0982 - val_accuracy: 0.0336\n",
      "Epoch 20/20\n",
      "49/49 [==============================] - 1s 28ms/step - loss: 0.0484 - accuracy: 0.0574 - val_loss: 0.0990 - val_accuracy: 0.0336\n",
      "Model: \"sequential_1\"\n",
      "_________________________________________________________________\n",
      "Layer (type)                 Output Shape              Param #   \n",
      "=================================================================\n",
      "conv3d_2 (Conv3D)            (None, 7, 18, 26, 8)      224       \n",
      "_________________________________________________________________\n",
      "average_pooling3d (AveragePo (None, 4, 9, 13, 8)       0         \n",
      "_________________________________________________________________\n",
      "conv3d_3 (Conv3D)            (None, 4, 9, 13, 16)      16016     \n",
      "_________________________________________________________________\n",
      "average_pooling3d_1 (Average (None, 2, 5, 7, 16)       0         \n",
      "_________________________________________________________________\n",
      "flatten_1 (Flatten)          (None, 1120)              0         \n",
      "_________________________________________________________________\n",
      "dense_3 (Dense)              (None, 120)               134520    \n",
      "_________________________________________________________________\n",
      "dense_4 (Dense)              (None, 84)                10164     \n",
      "_________________________________________________________________\n",
      "dense_5 (Dense)              (None, 1)                 85        \n",
      "=================================================================\n",
      "Total params: 161,009\n",
      "Trainable params: 161,009\n",
      "Non-trainable params: 0\n",
      "_________________________________________________________________\n"
     ]
    },
    {
     "data": {
      "image/png": "[encoded data removed]",
      "text/plain": [
       "<Figure size 432x288 with 1 Axes>"
      ]
     },
     "metadata": {
      "needs_background": "light"
     },
     "output_type": "display_data"
    }
   ],
   "source": [
    "cnn2 = Sequential()\n",
    "cnn2.add(Conv3D(8, kernel_size=3, activation='relu',padding='same',input_shape=(Xtrain.shape[1],Xtrain.shape[2],Xtrain.shape[3],1)),)\n",
    "cnn2.add(AveragePooling3D(pool_size=2,padding='same'))\n",
    "cnn2.add(Conv3D(16, kernel_size=5, activation='relu',padding='same'))\n",
    "cnn2.add(AveragePooling3D(pool_size=2,padding='same'))\n",
    "\n",
    "cnn2.add(Flatten())\n",
    "\n",
    "cnn2.add(Dense(120, activation='relu'))\n",
    "cnn2.add(Dense(84, activation='relu'))\n",
    "cnn2.add(Dense(units=1, activation = 'linear'))\n",
    "\n",
    "adam = keras.optimizers.Adam(lr=0.001)\n",
    "cnn2.compile(optimizer='adam', loss='mae',  metrics='accuracy')\n",
    "history = cnn2.fit(Xtrain, ytrain, validation_data=(XVal, yVal), epochs=20)\n",
    "yy_test = cnn2.predict(XVal)\n",
    "\n",
    "test_corr = np.corrcoef(yy_test[:,0],yVal[:,0])[0,1]\n",
    "plt.title('corr = %f'%test_corr)\n",
    "\n",
    "plt.plot(yy_test,yVal,'+')\n",
    "cnn2.summary()"
   ]
  },
  {
   "cell_type": "code",
   "execution_count": 23,
   "metadata": {},
   "outputs": [],
   "source": [
    "# Conv-Pool-Conv-Pool kind of architecture with doubling the number of filters every stage"
   ]
  },
  {
   "cell_type": "code",
   "execution_count": 24,
   "metadata": {},
   "outputs": [
    {
     "name": "stdout",
     "output_type": "stream",
     "text": [
      "Epoch 1/20\n",
      "49/49 [==============================] - 23s 456ms/step - loss: 0.3158 - accuracy: 0.0523 - val_loss: 0.1837 - val_accuracy: 0.0336\n",
      "Epoch 2/20\n",
      "49/49 [==============================] - 22s 458ms/step - loss: 0.1617 - accuracy: 0.0536 - val_loss: 0.1552 - val_accuracy: 0.0336\n",
      "Epoch 3/20\n",
      "49/49 [==============================] - 22s 456ms/step - loss: 0.1441 - accuracy: 0.0606 - val_loss: 0.1420 - val_accuracy: 0.0336\n",
      "Epoch 4/20\n",
      "49/49 [==============================] - 22s 457ms/step - loss: 0.1207 - accuracy: 0.0564 - val_loss: 0.1171 - val_accuracy: 0.0336\n",
      "Epoch 5/20\n",
      "49/49 [==============================] - 22s 454ms/step - loss: 0.1051 - accuracy: 0.0664 - val_loss: 0.1124 - val_accuracy: 0.0336\n",
      "Epoch 6/20\n",
      "49/49 [==============================] - 22s 452ms/step - loss: 0.0949 - accuracy: 0.0580 - val_loss: 0.1133 - val_accuracy: 0.0336\n",
      "Epoch 7/20\n",
      "49/49 [==============================] - 22s 458ms/step - loss: 0.0868 - accuracy: 0.0494 - val_loss: 0.1041 - val_accuracy: 0.0336\n",
      "Epoch 8/20\n",
      "49/49 [==============================] - 22s 454ms/step - loss: 0.0865 - accuracy: 0.0544 - val_loss: 0.1118 - val_accuracy: 0.0336\n",
      "Epoch 9/20\n",
      "49/49 [==============================] - 22s 457ms/step - loss: 0.0778 - accuracy: 0.0540 - val_loss: 0.1151 - val_accuracy: 0.0336\n",
      "Epoch 10/20\n",
      "49/49 [==============================] - 22s 454ms/step - loss: 0.0791 - accuracy: 0.0541 - val_loss: 0.0983 - val_accuracy: 0.0336\n",
      "Epoch 11/20\n",
      "49/49 [==============================] - 23s 460ms/step - loss: 0.0717 - accuracy: 0.0542 - val_loss: 0.1024 - val_accuracy: 0.0336\n",
      "Epoch 12/20\n",
      "49/49 [==============================] - 22s 451ms/step - loss: 0.0663 - accuracy: 0.0487 - val_loss: 0.1045 - val_accuracy: 0.0336\n",
      "Epoch 13/20\n",
      "49/49 [==============================] - 22s 455ms/step - loss: 0.0649 - accuracy: 0.0607 - val_loss: 0.1019 - val_accuracy: 0.0336\n",
      "Epoch 14/20\n",
      "49/49 [==============================] - 22s 458ms/step - loss: 0.0522 - accuracy: 0.0586 - val_loss: 0.1070 - val_accuracy: 0.0336\n",
      "Epoch 15/20\n",
      "49/49 [==============================] - 22s 455ms/step - loss: 0.0665 - accuracy: 0.0618 - val_loss: 0.0958 - val_accuracy: 0.0336\n",
      "Epoch 16/20\n",
      "49/49 [==============================] - 22s 454ms/step - loss: 0.0502 - accuracy: 0.0458 - val_loss: 0.0972 - val_accuracy: 0.0336\n",
      "Epoch 17/20\n",
      "49/49 [==============================] - 22s 455ms/step - loss: 0.0499 - accuracy: 0.0460 - val_loss: 0.0955 - val_accuracy: 0.0336\n",
      "Epoch 18/20\n",
      "49/49 [==============================] - 22s 454ms/step - loss: 0.0456 - accuracy: 0.0470 - val_loss: 0.0958 - val_accuracy: 0.0336\n",
      "Epoch 19/20\n",
      "49/49 [==============================] - 22s 452ms/step - loss: 0.0495 - accuracy: 0.0528 - val_loss: 0.1011 - val_accuracy: 0.0336\n",
      "Epoch 20/20\n",
      "49/49 [==============================] - 22s 453ms/step - loss: 0.0513 - accuracy: 0.0545 - val_loss: 0.0978 - val_accuracy: 0.0336\n",
      "Model: \"sequential_2\"\n",
      "_________________________________________________________________\n",
      "Layer (type)                 Output Shape              Param #   \n",
      "=================================================================\n",
      "conv3d_4 (Conv3D)            (None, 7, 18, 26, 32)     896       \n",
      "_________________________________________________________________\n",
      "max_pooling3d_2 (MaxPooling3 (None, 4, 9, 13, 32)      0         \n",
      "_________________________________________________________________\n",
      "conv3d_5 (Conv3D)            (None, 4, 9, 13, 64)      55360     \n",
      "_________________________________________________________________\n",
      "max_pooling3d_3 (MaxPooling3 (None, 2, 5, 7, 64)       0         \n",
      "_________________________________________________________________\n",
      "conv3d_6 (Conv3D)            (None, 2, 5, 7, 128)      221312    \n",
      "_________________________________________________________________\n",
      "max_pooling3d_4 (MaxPooling3 (None, 1, 3, 4, 128)      0         \n",
      "_________________________________________________________________\n",
      "flatten_2 (Flatten)          (None, 1536)              0         \n",
      "_________________________________________________________________\n",
      "dense_6 (Dense)              (None, 64)                98368     \n",
      "_________________________________________________________________\n",
      "dense_7 (Dense)              (None, 1)                 65        \n",
      "=================================================================\n",
      "Total params: 376,001\n",
      "Trainable params: 376,001\n",
      "Non-trainable params: 0\n",
      "_________________________________________________________________\n"
     ]
    },
    {
     "data": {
      "image/png": "[encoded data removed]",
      "text/plain": [
       "<Figure size 432x288 with 1 Axes>"
      ]
     },
     "metadata": {
      "needs_background": "light"
     },
     "output_type": "display_data"
    }
   ],
   "source": [
    "cnn3 = Sequential()\n",
    "cnn3.add(Conv3D(32, kernel_size=3, activation='relu',padding='same',input_shape=(Xtrain.shape[1],Xtrain.shape[2],Xtrain.shape[3],1)),)\n",
    "cnn3.add(MaxPooling3D(pool_size=2,padding='same'))\n",
    "cnn3.add(Conv3D(64, kernel_size=3, activation='relu',padding='same'))\n",
    "cnn3.add(MaxPooling3D(pool_size=2,padding='same'))\n",
    "cnn3.add(Conv3D(128, kernel_size=3, activation='relu',padding='same'))\n",
    "cnn3.add(MaxPooling3D(pool_size=2,padding='same'))\n",
    "\n",
    "cnn3.add(Flatten())\n",
    "\n",
    "cnn3.add(Dense(64, activation='relu'))\n",
    "cnn3.add(Dense(units=1, activation = 'linear'))\n",
    "\n",
    "adam = keras.optimizers.Adam(lr=0.001)\n",
    "cnn3.compile(optimizer='adam', loss='mae',  metrics='accuracy')\n",
    "history = cnn3.fit(Xtrain, ytrain, validation_data=(XVal, yVal), epochs=20)\n",
    "yy_test = cnn3.predict(XVal)\n",
    "\n",
    "test_corr = np.corrcoef(yy_test[:,0],yVal[:,0])[0,1]\n",
    "plt.title('corr = %f'%test_corr)\n",
    "\n",
    "plt.plot(yy_test,yVal,'+')\n",
    "cnn3.summary()"
   ]
  },
  {
   "cell_type": "code",
   "execution_count": 25,
   "metadata": {},
   "outputs": [
    {
     "name": "stdout",
     "output_type": "stream",
     "text": [
      "Epoch 1/20\n",
      "49/49 [==============================] - 3s 53ms/step - loss: 0.1958 - accuracy: 0.0548 - val_loss: 0.1802 - val_accuracy: 0.0336\n",
      "Epoch 2/20\n",
      "49/49 [==============================] - 2s 50ms/step - loss: 0.1747 - accuracy: 0.0587 - val_loss: 0.1797 - val_accuracy: 0.0336\n",
      "Epoch 3/20\n",
      "49/49 [==============================] - 2s 50ms/step - loss: 0.1568 - accuracy: 0.0515 - val_loss: 0.1447 - val_accuracy: 0.0336\n",
      "Epoch 4/20\n",
      "49/49 [==============================] - 2s 51ms/step - loss: 0.1396 - accuracy: 0.0517 - val_loss: 0.1306 - val_accuracy: 0.0336\n",
      "Epoch 5/20\n",
      "49/49 [==============================] - 2s 50ms/step - loss: 0.1133 - accuracy: 0.0482 - val_loss: 0.1378 - val_accuracy: 0.0336\n",
      "Epoch 6/20\n",
      "49/49 [==============================] - 2s 50ms/step - loss: 0.1092 - accuracy: 0.0596 - val_loss: 0.1117 - val_accuracy: 0.0336\n",
      "Epoch 7/20\n",
      "49/49 [==============================] - 2s 51ms/step - loss: 0.0944 - accuracy: 0.0554 - val_loss: 0.1104 - val_accuracy: 0.0336\n",
      "Epoch 8/20\n",
      "49/49 [==============================] - 3s 52ms/step - loss: 0.0934 - accuracy: 0.0515 - val_loss: 0.1178 - val_accuracy: 0.0336\n",
      "Epoch 9/20\n",
      "49/49 [==============================] - 3s 51ms/step - loss: 0.0999 - accuracy: 0.0578 - val_loss: 0.1083 - val_accuracy: 0.0336\n",
      "Epoch 10/20\n",
      "49/49 [==============================] - 2s 49ms/step - loss: 0.0831 - accuracy: 0.0539 - val_loss: 0.1005 - val_accuracy: 0.0336\n",
      "Epoch 11/20\n",
      "49/49 [==============================] - 2s 50ms/step - loss: 0.0867 - accuracy: 0.0565 - val_loss: 0.0992 - val_accuracy: 0.0336\n",
      "Epoch 12/20\n",
      "49/49 [==============================] - 2s 50ms/step - loss: 0.0798 - accuracy: 0.0532 - val_loss: 0.1126 - val_accuracy: 0.0336\n",
      "Epoch 13/20\n",
      "49/49 [==============================] - 2s 51ms/step - loss: 0.0760 - accuracy: 0.0564 - val_loss: 0.0941 - val_accuracy: 0.0336\n",
      "Epoch 14/20\n",
      "49/49 [==============================] - 2s 50ms/step - loss: 0.0694 - accuracy: 0.0579 - val_loss: 0.1000 - val_accuracy: 0.0336\n",
      "Epoch 15/20\n",
      "49/49 [==============================] - 2s 51ms/step - loss: 0.0705 - accuracy: 0.0554 - val_loss: 0.0965 - val_accuracy: 0.0336\n",
      "Epoch 16/20\n",
      "49/49 [==============================] - 2s 50ms/step - loss: 0.0679 - accuracy: 0.0643 - val_loss: 0.0967 - val_accuracy: 0.0336\n",
      "Epoch 17/20\n",
      "49/49 [==============================] - 2s 50ms/step - loss: 0.0622 - accuracy: 0.0480 - val_loss: 0.0945 - val_accuracy: 0.0336\n",
      "Epoch 18/20\n",
      "49/49 [==============================] - 3s 52ms/step - loss: 0.0599 - accuracy: 0.0665 - val_loss: 0.1003 - val_accuracy: 0.0336\n",
      "Epoch 19/20\n",
      "49/49 [==============================] - 3s 53ms/step - loss: 0.0611 - accuracy: 0.0465 - val_loss: 0.1009 - val_accuracy: 0.0336\n",
      "Epoch 20/20\n",
      "49/49 [==============================] - 3s 52ms/step - loss: 0.0563 - accuracy: 0.0481 - val_loss: 0.0940 - val_accuracy: 0.0336\n",
      "Model: \"sequential_3\"\n",
      "_________________________________________________________________\n",
      "Layer (type)                 Output Shape              Param #   \n",
      "=================================================================\n",
      "conv3d_7 (Conv3D)            (None, 7, 18, 26, 32)     896       \n",
      "_________________________________________________________________\n",
      "average_pooling3d_2 (Average (None, 4, 9, 13, 32)      0         \n",
      "_________________________________________________________________\n",
      "conv3d_8 (Conv3D)            (None, 4, 9, 13, 64)      55360     \n",
      "_________________________________________________________________\n",
      "average_pooling3d_3 (Average (None, 2, 5, 7, 64)       0         \n",
      "_________________________________________________________________\n",
      "conv3d_9 (Conv3D)            (None, 2, 5, 7, 128)      221312    \n",
      "_________________________________________________________________\n",
      "average_pooling3d_4 (Average (None, 1, 3, 4, 128)      0         \n",
      "_________________________________________________________________\n",
      "flatten_3 (Flatten)          (None, 1536)              0         \n",
      "_________________________________________________________________\n",
      "dense_8 (Dense)              (None, 64)                98368     \n",
      "_________________________________________________________________\n",
      "dense_9 (Dense)              (None, 1)                 65        \n",
      "=================================================================\n",
      "Total params: 376,001\n",
      "Trainable params: 376,001\n",
      "Non-trainable params: 0\n",
      "_________________________________________________________________\n"
     ]
    },
    {
     "data": {
      "image/png": "[encoded data removed]",
      "text/plain": [
       "<Figure size 432x288 with 1 Axes>"
      ]
     },
     "metadata": {
      "needs_background": "light"
     },
     "output_type": "display_data"
    }
   ],
   "source": [
    "cnn4 = Sequential()\n",
    "cnn4.add(Conv3D(32, kernel_size=3, activation='relu',padding='same',input_shape=(Xtrain.shape[1],Xtrain.shape[2],Xtrain.shape[3],1)),)\n",
    "cnn4.add(AveragePooling3D(pool_size=2,padding='same'))\n",
    "cnn4.add(Conv3D(64, kernel_size=3, activation='relu',padding='same'))\n",
    "cnn4.add(AveragePooling3D(pool_size=2,padding='same'))\n",
    "cnn4.add(Conv3D(128, kernel_size=3, activation='relu',padding='same'))\n",
    "cnn4.add(AveragePooling3D(pool_size=2,padding='same'))\n",
    "\n",
    "cnn4.add(Flatten())\n",
    "\n",
    "cnn4.add(Dense(64, activation='relu'))\n",
    "cnn4.add(Dense(units=1, activation = 'linear'))\n",
    "\n",
    "adam = keras.optimizers.Adam(lr=0.001)\n",
    "cnn4.compile(optimizer='adam', loss='mae',  metrics='accuracy')\n",
    "history = cnn4.fit(Xtrain, ytrain, validation_data=(XVal, yVal), epochs=20)\n",
    "yy_test = cnn4.predict(XVal)\n",
    "\n",
    "test_corr = np.corrcoef(yy_test[:,0],yVal[:,0])[0,1]\n",
    "plt.title('corr = %f'%test_corr)\n",
    "\n",
    "plt.plot(yy_test,yVal,'+')\n",
    "cnn4.summary()"
   ]
  },
  {
   "cell_type": "code",
   "execution_count": 26,
   "metadata": {},
   "outputs": [],
   "source": [
    "# a vgg like model with the trend Conv-Conv-Pool-Conv-Conv-Pool"
   ]
  },
  {
   "cell_type": "code",
   "execution_count": 27,
   "metadata": {},
   "outputs": [
    {
     "name": "stdout",
     "output_type": "stream",
     "text": [
      "Epoch 1/20\n",
      "49/49 [==============================] - 14s 274ms/step - loss: 0.4576 - accuracy: 0.0571 - val_loss: 0.1802 - val_accuracy: 0.0336\n",
      "Epoch 2/20\n",
      "49/49 [==============================] - 13s 271ms/step - loss: 0.1736 - accuracy: 0.0584 - val_loss: 0.1682 - val_accuracy: 0.0336\n",
      "Epoch 3/20\n",
      "49/49 [==============================] - 13s 274ms/step - loss: 0.1428 - accuracy: 0.0622 - val_loss: 0.1403 - val_accuracy: 0.0336\n",
      "Epoch 4/20\n",
      "49/49 [==============================] - 13s 272ms/step - loss: 0.1142 - accuracy: 0.0509 - val_loss: 0.1136 - val_accuracy: 0.0336\n",
      "Epoch 5/20\n",
      "49/49 [==============================] - 13s 271ms/step - loss: 0.1075 - accuracy: 0.0638 - val_loss: 0.1182 - val_accuracy: 0.0336\n",
      "Epoch 6/20\n",
      "49/49 [==============================] - 13s 267ms/step - loss: 0.0930 - accuracy: 0.0478 - val_loss: 0.1012 - val_accuracy: 0.0336\n",
      "Epoch 7/20\n",
      "49/49 [==============================] - 13s 267ms/step - loss: 0.0824 - accuracy: 0.0523 - val_loss: 0.1001 - val_accuracy: 0.0336\n",
      "Epoch 8/20\n",
      "49/49 [==============================] - 13s 269ms/step - loss: 0.0705 - accuracy: 0.0621 - val_loss: 0.1318 - val_accuracy: 0.0336\n",
      "Epoch 9/20\n",
      "49/49 [==============================] - 13s 271ms/step - loss: 0.0753 - accuracy: 0.0474 - val_loss: 0.0992 - val_accuracy: 0.0336\n",
      "Epoch 10/20\n",
      "49/49 [==============================] - 13s 269ms/step - loss: 0.0602 - accuracy: 0.0570 - val_loss: 0.0935 - val_accuracy: 0.0336\n",
      "Epoch 11/20\n",
      "49/49 [==============================] - 13s 269ms/step - loss: 0.0547 - accuracy: 0.0585 - val_loss: 0.0986 - val_accuracy: 0.0336\n",
      "Epoch 12/20\n",
      "49/49 [==============================] - 13s 271ms/step - loss: 0.0548 - accuracy: 0.0599 - val_loss: 0.0940 - val_accuracy: 0.0336\n",
      "Epoch 13/20\n",
      "49/49 [==============================] - 13s 276ms/step - loss: 0.0490 - accuracy: 0.0557 - val_loss: 0.1024 - val_accuracy: 0.0336\n",
      "Epoch 14/20\n",
      "49/49 [==============================] - 13s 271ms/step - loss: 0.0495 - accuracy: 0.0551 - val_loss: 0.0973 - val_accuracy: 0.0336\n",
      "Epoch 15/20\n",
      "49/49 [==============================] - 13s 270ms/step - loss: 0.0488 - accuracy: 0.0534 - val_loss: 0.1003 - val_accuracy: 0.0336\n",
      "Epoch 16/20\n",
      "49/49 [==============================] - 13s 270ms/step - loss: 0.0449 - accuracy: 0.0534 - val_loss: 0.0928 - val_accuracy: 0.0336\n",
      "Epoch 17/20\n",
      "49/49 [==============================] - 13s 274ms/step - loss: 0.0426 - accuracy: 0.0605 - val_loss: 0.0955 - val_accuracy: 0.0336\n",
      "Epoch 18/20\n",
      "49/49 [==============================] - 13s 268ms/step - loss: 0.0406 - accuracy: 0.0504 - val_loss: 0.0880 - val_accuracy: 0.0336\n",
      "Epoch 19/20\n",
      "49/49 [==============================] - 13s 268ms/step - loss: 0.0397 - accuracy: 0.0597 - val_loss: 0.0937 - val_accuracy: 0.0336\n",
      "Epoch 20/20\n",
      "49/49 [==============================] - 13s 270ms/step - loss: 0.0386 - accuracy: 0.0639 - val_loss: 0.0900 - val_accuracy: 0.0336\n",
      "Model: \"sequential_4\"\n",
      "_________________________________________________________________\n",
      "Layer (type)                 Output Shape              Param #   \n",
      "=================================================================\n",
      "conv3d_10 (Conv3D)           (None, 7, 18, 26, 16)     448       \n",
      "_________________________________________________________________\n",
      "conv3d_11 (Conv3D)           (None, 7, 18, 26, 16)     6928      \n",
      "_________________________________________________________________\n",
      "max_pooling3d_5 (MaxPooling3 (None, 4, 9, 13, 16)      0         \n",
      "_________________________________________________________________\n",
      "conv3d_12 (Conv3D)           (None, 4, 9, 13, 32)      13856     \n",
      "_________________________________________________________________\n",
      "conv3d_13 (Conv3D)           (None, 4, 9, 13, 32)      27680     \n",
      "_________________________________________________________________\n",
      "max_pooling3d_6 (MaxPooling3 (None, 2, 5, 7, 32)       0         \n",
      "_________________________________________________________________\n",
      "flatten_4 (Flatten)          (None, 2240)              0         \n",
      "_________________________________________________________________\n",
      "dense_10 (Dense)             (None, 512)               1147392   \n",
      "_________________________________________________________________\n",
      "dense_11 (Dense)             (None, 1)                 513       \n",
      "=================================================================\n",
      "Total params: 1,196,817\n",
      "Trainable params: 1,196,817\n",
      "Non-trainable params: 0\n",
      "_________________________________________________________________\n"
     ]
    },
    {
     "data": {
      "image/png": "[encoded data removed]",
      "text/plain": [
       "<Figure size 432x288 with 1 Axes>"
      ]
     },
     "metadata": {
      "needs_background": "light"
     },
     "output_type": "display_data"
    }
   ],
   "source": [
    "cnn5 = Sequential()\n",
    "cnn5.add(Conv3D(16, kernel_size=3, activation='relu',padding='same',input_shape=(Xtrain.shape[1],Xtrain.shape[2],Xtrain.shape[3],1)),)\n",
    "cnn5.add(Conv3D(16, kernel_size=3, activation='relu',padding='same'))\n",
    "cnn5.add(MaxPooling3D(pool_size=2,padding='same'))\n",
    "cnn5.add(Conv3D(32, kernel_size=3, activation='relu',padding='same'))\n",
    "cnn5.add(Conv3D(32, kernel_size=3, activation='relu',padding='same'))\n",
    "cnn5.add(MaxPooling3D(pool_size=2,padding='same'))\n",
    "\n",
    "\n",
    "cnn5.add(Flatten())\n",
    "\n",
    "cnn5.add(Dense(512, activation='relu'))\n",
    "cnn5.add(Dense(units=1, activation = 'linear'))\n",
    "\n",
    "adam = keras.optimizers.Adam(lr=0.001)\n",
    "cnn5.compile(optimizer='adam', loss='mae',  metrics='accuracy')\n",
    "history = cnn5.fit(Xtrain, ytrain, validation_data=(XVal, yVal), epochs=20)\n",
    "yy_test = cnn5.predict(XVal)\n",
    "\n",
    "test_corr = np.corrcoef(yy_test[:,0],yVal[:,0])[0,1]\n",
    "plt.title('corr = %f'%test_corr)\n",
    "\n",
    "plt.plot(yy_test,yVal,'+')\n",
    "cnn5.summary()"
   ]
  },
  {
   "cell_type": "code",
   "execution_count": 28,
   "metadata": {},
   "outputs": [
    {
     "name": "stdout",
     "output_type": "stream",
     "text": [
      "Epoch 1/20\n",
      "49/49 [==============================] - 4s 82ms/step - loss: 0.2350 - accuracy: 0.0492 - val_loss: 0.1831 - val_accuracy: 0.0336\n",
      "Epoch 2/20\n",
      "49/49 [==============================] - 4s 80ms/step - loss: 0.1729 - accuracy: 0.0631 - val_loss: 0.1781 - val_accuracy: 0.0336\n",
      "Epoch 3/20\n",
      "49/49 [==============================] - 4s 79ms/step - loss: 0.1715 - accuracy: 0.0535 - val_loss: 0.1695 - val_accuracy: 0.0336\n",
      "Epoch 4/20\n",
      "49/49 [==============================] - 4s 80ms/step - loss: 0.1486 - accuracy: 0.0622 - val_loss: 0.1202 - val_accuracy: 0.0336\n",
      "Epoch 5/20\n",
      "49/49 [==============================] - 4s 80ms/step - loss: 0.1120 - accuracy: 0.0543 - val_loss: 0.1105 - val_accuracy: 0.0336\n",
      "Epoch 6/20\n",
      "49/49 [==============================] - 4s 79ms/step - loss: 0.0987 - accuracy: 0.0494 - val_loss: 0.1145 - val_accuracy: 0.0336\n",
      "Epoch 7/20\n",
      "49/49 [==============================] - 4s 79ms/step - loss: 0.0897 - accuracy: 0.0490 - val_loss: 0.1019 - val_accuracy: 0.0336\n",
      "Epoch 8/20\n",
      "49/49 [==============================] - 4s 79ms/step - loss: 0.0799 - accuracy: 0.0556 - val_loss: 0.1011 - val_accuracy: 0.0336\n",
      "Epoch 9/20\n",
      "49/49 [==============================] - 4s 79ms/step - loss: 0.0781 - accuracy: 0.0595 - val_loss: 0.0961 - val_accuracy: 0.0336\n",
      "Epoch 10/20\n",
      "49/49 [==============================] - 4s 78ms/step - loss: 0.0779 - accuracy: 0.0526 - val_loss: 0.0995 - val_accuracy: 0.0336\n",
      "Epoch 11/20\n",
      "49/49 [==============================] - 4s 79ms/step - loss: 0.0711 - accuracy: 0.0587 - val_loss: 0.0999 - val_accuracy: 0.0336\n",
      "Epoch 12/20\n",
      "49/49 [==============================] - 4s 79ms/step - loss: 0.0648 - accuracy: 0.0477 - val_loss: 0.0985 - val_accuracy: 0.0336\n",
      "Epoch 13/20\n",
      "49/49 [==============================] - 4s 79ms/step - loss: 0.0631 - accuracy: 0.0573 - val_loss: 0.1021 - val_accuracy: 0.0336\n",
      "Epoch 14/20\n",
      "49/49 [==============================] - 4s 79ms/step - loss: 0.0588 - accuracy: 0.0580 - val_loss: 0.1032 - val_accuracy: 0.0336\n",
      "Epoch 15/20\n",
      "49/49 [==============================] - 4s 78ms/step - loss: 0.0548 - accuracy: 0.0490 - val_loss: 0.0997 - val_accuracy: 0.0336\n",
      "Epoch 16/20\n",
      "49/49 [==============================] - 4s 78ms/step - loss: 0.0551 - accuracy: 0.0543 - val_loss: 0.0958 - val_accuracy: 0.0336\n",
      "Epoch 17/20\n",
      "49/49 [==============================] - 4s 78ms/step - loss: 0.0525 - accuracy: 0.0551 - val_loss: 0.1078 - val_accuracy: 0.0336\n",
      "Epoch 18/20\n",
      "49/49 [==============================] - 4s 80ms/step - loss: 0.0556 - accuracy: 0.0600 - val_loss: 0.0945 - val_accuracy: 0.0336\n",
      "Epoch 19/20\n",
      "49/49 [==============================] - 4s 79ms/step - loss: 0.0475 - accuracy: 0.0619 - val_loss: 0.0935 - val_accuracy: 0.0336\n",
      "Epoch 20/20\n",
      "49/49 [==============================] - 4s 79ms/step - loss: 0.0460 - accuracy: 0.0586 - val_loss: 0.0955 - val_accuracy: 0.0336\n",
      "Model: \"sequential_5\"\n",
      "_________________________________________________________________\n",
      "Layer (type)                 Output Shape              Param #   \n",
      "=================================================================\n",
      "conv3d_14 (Conv3D)           (None, 7, 18, 26, 16)     448       \n",
      "_________________________________________________________________\n",
      "conv3d_15 (Conv3D)           (None, 7, 18, 26, 16)     6928      \n",
      "_________________________________________________________________\n",
      "average_pooling3d_5 (Average (None, 4, 9, 13, 16)      0         \n",
      "_________________________________________________________________\n",
      "conv3d_16 (Conv3D)           (None, 4, 9, 13, 32)      13856     \n",
      "_________________________________________________________________\n",
      "conv3d_17 (Conv3D)           (None, 4, 9, 13, 32)      27680     \n",
      "_________________________________________________________________\n",
      "average_pooling3d_6 (Average (None, 2, 5, 7, 32)       0         \n",
      "_________________________________________________________________\n",
      "flatten_5 (Flatten)          (None, 2240)              0         \n",
      "_________________________________________________________________\n",
      "dense_12 (Dense)             (None, 512)               1147392   \n",
      "_________________________________________________________________\n",
      "dense_13 (Dense)             (None, 1)                 513       \n",
      "=================================================================\n",
      "Total params: 1,196,817\n",
      "Trainable params: 1,196,817\n",
      "Non-trainable params: 0\n",
      "_________________________________________________________________\n"
     ]
    },
    {
     "data": {
      "image/png": "[encoded data removed]",
      "text/plain": [
       "<Figure size 432x288 with 1 Axes>"
      ]
     },
     "metadata": {
      "needs_background": "light"
     },
     "output_type": "display_data"
    }
   ],
   "source": [
    "cnn6 = Sequential()\n",
    "cnn6.add(Conv3D(16, kernel_size=3, activation='relu',padding='same',input_shape=(Xtrain.shape[1],Xtrain.shape[2],Xtrain.shape[3],1)),)\n",
    "cnn6.add(Conv3D(16, kernel_size=3, activation='relu',padding='same'))\n",
    "cnn6.add(AveragePooling3D(pool_size=2,padding='same'))\n",
    "cnn6.add(Conv3D(32, kernel_size=3, activation='relu',padding='same'))\n",
    "cnn6.add(Conv3D(32, kernel_size=3, activation='relu',padding='same'))\n",
    "cnn6.add(AveragePooling3D(pool_size=2,padding='same'))\n",
    "\n",
    "\n",
    "cnn6.add(Flatten())\n",
    "\n",
    "cnn6.add(Dense(512, activation='relu'))\n",
    "cnn6.add(Dense(units=1, activation = 'linear'))\n",
    "\n",
    "adam = keras.optimizers.Adam(lr=0.001)\n",
    "cnn6.compile(optimizer='adam', loss='mae',  metrics='accuracy')\n",
    "history = cnn6.fit(Xtrain, ytrain, validation_data=(XVal, yVal), epochs=20)\n",
    "yy_test = cnn6.predict(XVal)\n",
    "\n",
    "test_corr = np.corrcoef(yy_test[:,0],yVal[:,0])[0,1]\n",
    "plt.title('corr = %f'%test_corr)\n",
    "\n",
    "plt.plot(yy_test,yVal,'+')\n",
    "cnn6.summary()"
   ]
  },
  {
   "cell_type": "code",
   "execution_count": null,
   "metadata": {},
   "outputs": [],
   "source": []
  },
  {
   "cell_type": "code",
   "execution_count": null,
   "metadata": {},
   "outputs": [],
   "source": []
  }
 ],
 "metadata": {
  "kernelspec": {
   "display_name": "Python 3",
   "language": "python",
   "name": "python3"
  },
  "language_info": {
   "codemirror_mode": {
    "name": "ipython",
    "version": 3
   },
   "file_extension": ".py",
   "mimetype": "text/x-python",
   "name": "python",
   "nbconvert_exporter": "python",
   "pygments_lexer": "ipython3",
   "version": "3.8.5"
  }
 },
 "nbformat": 4,
 "nbformat_minor": 4
}
