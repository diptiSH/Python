{
 "cells": [
  {
   "cell_type": "code",
   "execution_count": 1,
   "metadata": {},
   "outputs": [],
   "source": [
    "import xarray as xr\n",
    "import numpy as np\n",
    "import pandas as pd\n",
    "import datetime\n",
    "import matplotlib.pyplot as plt\n",
    "from keras.models import Sequential\n",
    "from keras.layers import Dense, Conv3D, Flatten,MaxPooling3D,AveragePooling3D, concatenate,Input ,SpatialDropout3D,Dropout\n",
    "import keras\n",
    "from math import e\n",
    "from sklearn.model_selection import train_test_split\n",
    "from keras.models import Model\n",
    "from sklearn.preprocessing import StandardScaler\n",
    "from joblib import dump, load\n",
    "from hyperopt import Trials, STATUS_OK, tpe\n",
    "from hyperas import optim\n",
    "from hyperas.distributions import choice, uniform\n",
    "from sklearn.model_selection import KFold"
   ]
  },
  {
   "cell_type": "code",
   "execution_count": 2,
   "metadata": {},
   "outputs": [],
   "source": [
    "fogData = xr.open_dataset('../../../Data/FogData/CombinedFogData_25Stations.nc')\n",
    "#plt.figure(figsize=[16,8])\n",
    "StackFog=fogData.fogdata.stack(a=('years','months','days'))\n",
    "StackFog\n",
    "dd =[];\n",
    "for i in range(StackFog.years.values.shape[0]):\n",
    "    dd=dd+[str(StackFog.years[i].values)+'-'+str(StackFog.months[i].values)+\"-\"+str(StackFog.days[i].values)]\n",
    "fg = xr.Dataset({'fogdata': (('time','stations'), StackFog.values.T)}, coords={'time': pd.to_datetime(dd),'stations': fogData.stations})\n",
    "y_All=fg.fogdata.sum(dim='stations').sel(time=slice('1980-1-1','2018-12-31'))\n",
    "y_All=y_All/25.0"
   ]
  },
  {
   "cell_type": "code",
   "execution_count": 3,
   "metadata": {},
   "outputs": [],
   "source": [
    "#Surface data\n",
    "t2mData = xr.open_dataset('../../../Data/eraDown/ERA5_2degree_Down/DailyMean/ERA5NH_t2m_daily_NovDecJan.nc')\n",
    "d2mData = xr.open_dataset('../../../Data/eraDown/ERA5_2degree_Down/DailyMean/ERA5NH_d2m_daily_NovDecJan.nc')\n",
    "u10Data = xr.open_dataset('../../../Data/eraDown/ERA5_2degree_Down/DailyMean/ERA5NH_u10_daily_NovDecJan.nc')\n",
    "v10Data = xr.open_dataset('../../../Data/eraDown/ERA5_2degree_Down/DailyMean/ERA5NH_v10_daily_NovDecJan.nc')\n",
    "# 850 Data\n",
    "tuv850Data = xr.open_dataset('../../../Data/eraDown/ERA5_2degree_Down/DailyMean/ERA5NH_850_uvt_daily_NovDecJan.nc')\n",
    "z850Data = xr.open_dataset('../../../Data/eraDown/ERA5_2degree_Down/DailyMean/ERA5NH_850_z_daily_NovDecJan.nc')\n",
    "#700 Data\n",
    "w700Data = xr.open_dataset('../../../Data/eraDown/ERA5_2degree_Down/DailyMean/ERA5NH_700_w_daily_NovDecJan.nc')"
   ]
  },
  {
   "cell_type": "code",
   "execution_count": 4,
   "metadata": {},
   "outputs": [],
   "source": [
    "rh = (e**((17.625*(d2mData.d2m.values-273.15))/(243.04+(d2mData.d2m.values-273.15)))/e**((17.625*(t2mData.t2m.values-273.15))/(243.04+(t2mData.t2m.values-273.15))))\n",
    "\n",
    "rh_ds = xr.Dataset({'rh': (('time','latitude','longitude'), rh)}, coords={'time': t2mData.time,'latitude': t2mData.latitude,'longitude': t2mData.longitude})\n"
   ]
  },
  {
   "cell_type": "code",
   "execution_count": 5,
   "metadata": {},
   "outputs": [],
   "source": [
    "# Calculate wind speed \n",
    "ws = ((v10Data.v10.values**2)+(u10Data.u10.values**2))**0.5\n",
    "ws_ds = xr.Dataset({'ws': (('time','latitude','longitude'), ws)}, coords={'time': t2mData.time,'latitude': t2mData.latitude,'longitude': t2mData.longitude})\n"
   ]
  },
  {
   "cell_type": "code",
   "execution_count": 6,
   "metadata": {},
   "outputs": [],
   "source": [
    "#Calculate inv\n",
    "inv=t2mData.t2m.values-tuv850Data.t.values\n",
    "inv_ds = xr.Dataset({'inv': (('time','latitude','longitude'), inv)}, coords={'time': t2mData.time,'latitude': t2mData.latitude,'longitude': t2mData.longitude})\n",
    "inv_ds.attrs\n",
    "inv_ds.attrs['units']='K'\n",
    "inv_ds.attrs['long_name']='t2m - t850'"
   ]
  },
  {
   "cell_type": "code",
   "execution_count": 7,
   "metadata": {},
   "outputs": [],
   "source": [
    "#u shear calculation\n",
    "ushear=(tuv850Data.u.values-u10Data.u10.values)/(z850Data.z.values/9.81) \n",
    "ushear_ds = xr.Dataset({'ushear': (('time','latitude','longitude'), ushear)}, coords={'time': t2mData.time,'latitude': t2mData.latitude,'longitude': t2mData.longitude})\n",
    "ushear_ds.attrs['units']='s-1'\n",
    "ushear_ds.attrs['long_name']='(u10 - u850)/z850'"
   ]
  },
  {
   "cell_type": "code",
   "execution_count": 8,
   "metadata": {},
   "outputs": [
    {
     "name": "stdout",
     "output_type": "stream",
     "text": [
      "<xarray.Dataset>\n",
      "Dimensions:  (time: 3772)\n",
      "Coordinates:\n",
      "  * time     (time) datetime64[ns] 1979-01-01T09:00:00 ... 2019-12-31T09:00:00\n",
      "Data variables:\n",
      "    AO       (time) float32 ...\n"
     ]
    }
   ],
   "source": [
    "# AO Input\n",
    "AOData1 = xr.open_dataset('../../../Data/AO_EU/AO_Calculated.nc')\n",
    "print(AOData1)\n",
    "\n",
    "Darray=np.zeros((t2mData.time.shape[0],t2mData.latitude.shape[0], t2mData.longitude.shape[0]))\n",
    "for t in range(AOData1.time.shape[0]) :\n",
    "    Darray[t,:,:]=np.full((t2mData.latitude.shape[0], t2mData.longitude.shape[0]), AOData1.AO[t].values)\n",
    "AOData=xr.Dataset({'AO': (('time','latitude','longitude'), Darray)}, coords={'time': t2mData.time,'latitude': t2mData.latitude,'longitude': t2mData.longitude})    "
   ]
  },
  {
   "cell_type": "code",
   "execution_count": 9,
   "metadata": {},
   "outputs": [],
   "source": [
    "#EU Input\n",
    "EUData1 = xr.open_dataset('../../../Data/AO_EU/EU_NovDecJan.nc')\n",
    "Darray=np.zeros((t2mData.time.shape[0],t2mData.latitude.shape[0], t2mData.longitude.shape[0]))\n",
    "for t in range(EUData1.time.shape[0]) :\n",
    "    Darray[t,:,:]=np.full((t2mData.latitude.shape[0], t2mData.longitude.shape[0]), EUData1.EUVal[t].values)\n",
    "EUData=xr.Dataset({'EU': (('time','latitude','longitude'), Darray)}, coords={'time': t2mData.time,'latitude': t2mData.latitude,'longitude': t2mData.longitude})    "
   ]
  },
  {
   "cell_type": "code",
   "execution_count": 10,
   "metadata": {},
   "outputs": [],
   "source": [
    "t2m=t2mData.t2m.shift(time=1)\n",
    "ws=ws_ds.ws.shift(time=1)\n",
    "rh=rh_ds.rh.shift(time=1)\n",
    "inv=inv_ds.inv.shift(time=1)\n",
    "w=w700Data.w.shift(time=1)\n",
    "ushear=ushear_ds.ushear.shift(time=1)\n",
    "ao=AOData.AO.shift(time=1)\n",
    "eu=EUData.EU.shift(time=1)"
   ]
  },
  {
   "cell_type": "code",
   "execution_count": 11,
   "metadata": {},
   "outputs": [],
   "source": [
    "t2mTsAll=t2m[((t2m.time.dt.month>11) | (t2m.time.dt.month<2)) & (t2m.time.dt.year<2020)].sel(time=slice('1980-1-1','2018-12-31'),latitude=slice(35,0),longitude=slice(50,100))\n",
    "wsTsAll=ws[((ws.time.dt.month>11) | (ws.time.dt.month<2)) & (ws.time.dt.year<2020)].sel(time=slice('1980-1-1','2018-12-31'),latitude=slice(35,0),longitude=slice(50,100))\n",
    "rhTsAll=rh[((rh.time.dt.month>11) | (rh.time.dt.month<2)) & (rh.time.dt.year<2020)].sel(time=slice('1980-1-1','2018-12-31'),latitude=slice(35,0),longitude=slice(50,100))\n",
    "invTsAll=inv[((inv.time.dt.month>11) | (inv.time.dt.month<2)) & (inv.time.dt.year<2020)].sel(time=slice('1980-1-1','2018-12-31'),latitude=slice(35,0),longitude=slice(50,100))\n",
    "ushearTsAll=ushear[((ushear.time.dt.month>11) | (ushear.time.dt.month<2)) & (ushear.time.dt.year<2020)].sel(time=slice('1980-1-1','2018-12-31'),latitude=slice(35,0),longitude=slice(50,100))\n",
    "aoTsAll=ao[((ao.time.dt.month>11) | (ao.time.dt.month<2)) & (ao.time.dt.year<2020)].sel(time=slice('1980-1-1','2018-12-31'),latitude=slice(35,0),longitude=slice(50,100))\n",
    "euTsAll=eu[((eu.time.dt.month>11) | (eu.time.dt.month<2)) & (eu.time.dt.year<2020)].sel(time=slice('1980-1-1','2018-12-31'),latitude=slice(35,0),longitude=slice(50,100))\n",
    "wTsAll=w[((w.time.dt.month>11) | (w.time.dt.month<2)) & (w.time.dt.year<2020)].sel(time=slice('1980-1-1','2018-12-31'),latitude=slice(35,0),longitude=slice(50,100))"
   ]
  },
  {
   "cell_type": "code",
   "execution_count": 12,
   "metadata": {},
   "outputs": [],
   "source": [
    "t1=t2mTsAll.stack(z=(\"latitude\", \"longitude\"))\n",
    "# fit scaler on training data\n",
    "norm = StandardScaler().fit(t1)\n",
    "# transform training data\n",
    "t1.values = norm.transform(t1)\n",
    "t2mTsAll.values=t1.unstack()\n",
    "\n",
    "t1=wsTsAll.stack(z=(\"latitude\", \"longitude\"))\n",
    "# fit scaler on training data\n",
    "norm = StandardScaler().fit(t1)\n",
    "# transform training data\n",
    "t1.values = norm.transform(t1)\n",
    "wsTsAll.values=t1.unstack()\n",
    "\n",
    "t1=rhTsAll.stack(z=(\"latitude\", \"longitude\"))\n",
    "# fit scaler on training data\n",
    "norm = StandardScaler().fit(t1)\n",
    "# transform training data\n",
    "t1.values = norm.transform(t1)\n",
    "rhTsAll.values=t1.unstack()\n",
    "\n",
    "t1=invTsAll.stack(z=(\"latitude\", \"longitude\"))\n",
    "# fit scaler on training data\n",
    "norm = StandardScaler().fit(t1)\n",
    "# transform training data\n",
    "t1.values = norm.transform(t1)\n",
    "invTsAll.values=t1.unstack()\n",
    "\n",
    "t1=ushearTsAll.stack(z=(\"latitude\", \"longitude\"))\n",
    "# fit scaler on training data\n",
    "norm = StandardScaler().fit(t1)\n",
    "# transform training data\n",
    "t1.values = norm.transform(t1)\n",
    "ushearTsAll.values=t1.unstack()\n",
    "\n",
    "t1=aoTsAll.stack(z=(\"latitude\", \"longitude\"))\n",
    "# fit scaler on training data\n",
    "norm = StandardScaler().fit(t1)\n",
    "# transform training data\n",
    "t1.values = norm.transform(t1)\n",
    "aoTsAll.values=t1.unstack()\n",
    "\n",
    "t1=euTsAll.stack(z=(\"latitude\", \"longitude\"))\n",
    "# fit scaler on training data\n",
    "norm = StandardScaler().fit(t1)\n",
    "# transform training data\n",
    "t1.values = norm.transform(t1)\n",
    "euTsAll.values=t1.unstack()\n",
    "\n",
    "t1=wTsAll.stack(z=(\"latitude\", \"longitude\"))\n",
    "# fit scaler on training data\n",
    "norm = StandardScaler().fit(t1)\n",
    "# transform training data\n",
    "t1.values = norm.transform(t1)\n",
    "wTsAll.values=t1.unstack()\n"
   ]
  },
  {
   "cell_type": "code",
   "execution_count": 13,
   "metadata": {},
   "outputs": [
    {
     "data": {
      "text/plain": [
       "(2418, 18, 26, 1)"
      ]
     },
     "execution_count": 13,
     "metadata": {},
     "output_type": "execute_result"
    }
   ],
   "source": [
    "t2mAll=t2mTsAll.values\n",
    "t2mAll=t2mAll[:,:,:,None]\n",
    "t2mAll.shape\n",
    "\n",
    "\n",
    "wsAll=wsTsAll.values\n",
    "wsAll=wsAll[:,:,:,None]\n",
    "wsAll.shape\n",
    "\n",
    "rhAll=rhTsAll.values\n",
    "rhAll=rhAll[:,:,:,None]\n",
    "rhAll.shape\n",
    "\n",
    "\n",
    "invAll=invTsAll.values\n",
    "invAll=invAll[:,:,:,None]\n",
    "invAll.shape\n",
    "\n",
    "wAll=wTsAll.values\n",
    "wAll=wAll[:,:,:,None]\n",
    "wAll.shape\n",
    "\n",
    "ushearAll=ushearTsAll.values\n",
    "ushearAll=ushearAll[:,:,:,None]\n",
    "ushearAll.shape\n",
    "\n",
    "aoAll=aoTsAll.values\n",
    "aoAll=aoAll[:,:,:,None]\n",
    "aoAll.shape\n",
    "\n",
    "euAll=euTsAll.values\n",
    "euAll=euAll[:,:,:,None]\n",
    "euAll.shape"
   ]
  },
  {
   "cell_type": "code",
   "execution_count": 24,
   "metadata": {},
   "outputs": [
    {
     "data": {
      "text/plain": [
       "(2418, 1)"
      ]
     },
     "execution_count": 24,
     "metadata": {},
     "output_type": "execute_result"
    }
   ],
   "source": [
    "y=y_All.values\n",
    "y=y[:,None]\n",
    "y.shape"
   ]
  },
  {
   "cell_type": "code",
   "execution_count": 23,
   "metadata": {},
   "outputs": [
    {
     "data": {
      "text/plain": [
       "(2418, 7, 18, 26, 1)"
      ]
     },
     "execution_count": 23,
     "metadata": {},
     "output_type": "execute_result"
    }
   ],
   "source": [
    "X=np.array([rhAll,wsAll,invAll,wAll,ushearAll,aoAll,euAll])\n",
    "\n",
    "X = np.einsum('lkija->klija',X)\n",
    "X.shape\n"
   ]
  },
  {
   "cell_type": "markdown",
   "metadata": {},
   "source": [
    "### KFold CV"
   ]
  },
  {
   "cell_type": "markdown",
   "metadata": {},
   "source": [
    "#  LeNet-5  Architecture"
   ]
  },
  {
   "cell_type": "code",
   "execution_count": null,
   "metadata": {},
   "outputs": [
    {
     "name": "stdout",
     "output_type": "stream",
     "text": [
      "Epoch 1/20\n",
      "68/68 [==============================] - 9s 124ms/step - loss: 0.2722 - accuracy: 0.0481 - val_loss: 0.1667 - val_accuracy: 0.0289\n",
      "Epoch 2/20\n",
      "68/68 [==============================] - 8s 124ms/step - loss: 0.1583 - accuracy: 0.0597 - val_loss: 0.1456 - val_accuracy: 0.0289\n",
      "Epoch 3/20\n",
      "68/68 [==============================] - 8s 123ms/step - loss: 0.1287 - accuracy: 0.0469 - val_loss: 0.1199 - val_accuracy: 0.0289\n",
      "Epoch 4/20\n",
      "68/68 [==============================] - 9s 126ms/step - loss: 0.1214 - accuracy: 0.0484 - val_loss: 0.1171 - val_accuracy: 0.0289\n",
      "Epoch 5/20\n",
      "68/68 [==============================] - 8s 123ms/step - loss: 0.1069 - accuracy: 0.0497 - val_loss: 0.1024 - val_accuracy: 0.0289\n",
      "Epoch 6/20\n",
      "68/68 [==============================] - 8s 122ms/step - loss: 0.0958 - accuracy: 0.0508 - val_loss: 0.0997 - val_accuracy: 0.0289\n",
      "Epoch 7/20\n",
      "32/68 [=============>................] - ETA: 4s - loss: 0.0861 - accuracy: 0.0418"
     ]
    }
   ],
   "source": [
    "# define 10-fold cross validation test harness\n",
    "kfold = KFold(n_splits=10, shuffle=True, random_state=123)\n",
    "cvscores = []\n",
    "\n",
    "for train, test in kfold.split(X, y):\n",
    "    cnn1 = Sequential()\n",
    "    cnn1.add(Conv3D(8, kernel_size=3, activation='relu',padding='same',input_shape=(X[train].shape[1],X[train].shape[2],X[train].shape[3],1)),)\n",
    "    cnn1.add(MaxPooling3D(pool_size=2,padding='same'))\n",
    "    cnn1.add(Conv3D(16, kernel_size=5, activation='relu',padding='same'))\n",
    "    cnn1.add(MaxPooling3D(pool_size=2,padding='same'))\n",
    "\n",
    "    cnn1.add(Flatten())\n",
    "\n",
    "    cnn1.add(Dense(120, activation='relu'))\n",
    "    cnn1.add(Dense(84, activation='relu'))\n",
    "    cnn1.add(Dense(units=1, activation = 'linear'))\n",
    "\n",
    "    adam = keras.optimizers.Adam(lr=0.001)\n",
    "    cnn1.compile(optimizer='adam', loss='mae',  metrics='accuracy')\n",
    "    history = cnn1.fit(X[train], y[train], validation_data=(X[test], y[test]), epochs=20)\n",
    "    yy_test = cnn1.predict(X[test])\n",
    "\n",
    "    test_corr = np.corrcoef(yy_test[:,0],y[test][:,0])[0,1]\n",
    "    plt.title('corr = %f'%test_corr)\n",
    "\n",
    "    plt.plot(yy_test,y[test],'+')\n",
    "    scores = cnn1.evaluate(X[test], y[test], verbose=0)\n",
    "    print(\"%s: %.2f%%\" % (cnn1.metrics_names[1], scores[1]*100))\n",
    "    cvscores.append(scores[1] * 100)\n",
    "\n",
    "print(\"CNN1 LeNet-5\")    \n",
    "print(\"%.2f%% (+/- %.2f%%)\" % (np.mean(cvscores), np.std(cvscores)))    \n",
    "\n"
   ]
  },
  {
   "cell_type": "code",
   "execution_count": 33,
   "metadata": {},
   "outputs": [
    {
     "name": "stdout",
     "output_type": "stream",
     "text": [
      "Epoch 1/2\n",
      "38/38 [==============================] - 2s 44ms/step - loss: 0.1958 - accuracy: 0.0456 - val_loss: 0.1575 - val_accuracy: 0.0488\n",
      "Epoch 2/2\n",
      "38/38 [==============================] - 1s 35ms/step - loss: 0.1553 - accuracy: 0.0539 - val_loss: 0.1415 - val_accuracy: 0.0488\n",
      "accuracy: 4.88%\n",
      "Epoch 1/2\n",
      "38/38 [==============================] - 2s 36ms/step - loss: 0.1990 - accuracy: 0.0481 - val_loss: 0.1745 - val_accuracy: 0.0546\n",
      "Epoch 2/2\n",
      "38/38 [==============================] - 1s 34ms/step - loss: 0.1595 - accuracy: 0.0410 - val_loss: 0.1621 - val_accuracy: 0.0538\n",
      "accuracy: 5.38%\n",
      "cnn2 LeNet-5 AvgPooling\n",
      "5.13% (+/- 0.25%)\n"
     ]
    },
    {
     "data": {
      "image/png": "[encoded data removed]",
      "text/plain": [
       "<Figure size 432x288 with 1 Axes>"
      ]
     },
     "metadata": {
      "needs_background": "light"
     },
     "output_type": "display_data"
    }
   ],
   "source": [
    "# define 10-fold cross validation test harness\n",
    "kfold = KFold(n_splits=10, shuffle=True, random_state=123)\n",
    "cvscores = []\n",
    "\n",
    "for train, test in kfold.split(X, y):\n",
    "    cnn2 = Sequential()\n",
    "    cnn2.add(Conv3D(8, kernel_size=3, activation='relu',padding='same',input_shape=(X[train].shape[1],X[train].shape[2],X[train].shape[3],1)),)\n",
    "    cnn2.add(AveragePooling3D(pool_size=2,padding='same'))\n",
    "    cnn2.add(Conv3D(16, kernel_size=5, activation='relu',padding='same'))\n",
    "    cnn2.add(AveragePooling3D(pool_size=2,padding='same'))\n",
    "\n",
    "    cnn2.add(Flatten())\n",
    "\n",
    "    cnn2.add(Dense(120, activation='relu'))\n",
    "    cnn2.add(Dense(84, activation='relu'))\n",
    "    cnn2.add(Dense(units=1, activation = 'linear'))\n",
    "\n",
    "    adam = keras.optimizers.Adam(lr=0.001)\n",
    "    cnn2.compile(optimizer='adam', loss='mae',  metrics='accuracy')\n",
    "    history = cnn2.fit(X[train], y[train], validation_data=(X[test], y[test]), epochs=20)\n",
    "    yy_test = cnn2.predict(X[test])\n",
    "\n",
    "    test_corr = np.corrcoef(yy_test[:,0],y[test][:,0])[0,1]\n",
    "    plt.title('corr = %f'%test_corr)\n",
    "\n",
    "    plt.plot(yy_test,y[test],'+')\n",
    "    scores = cnn2.evaluate(X[test], y[test], verbose=0)\n",
    "    print(\"%s: %.2f%%\" % (cnn2.metrics_names[1], scores[1]*100))\n",
    "    cvscores.append(scores[1] * 100)\n",
    "\n",
    "print(\"cnn2 LeNet-5 AvgPooling\")    \n",
    "print(\"%.2f%% (+/- %.2f%%)\" % (np.mean(cvscores), np.std(cvscores)))    "
   ]
  },
  {
   "cell_type": "markdown",
   "metadata": {},
   "source": [
    "# Conv-Pool-Conv-Pool kind of architecture with doubling the number of filters every stage"
   ]
  },
  {
   "cell_type": "code",
   "execution_count": 36,
   "metadata": {},
   "outputs": [
    {
     "name": "stdout",
     "output_type": "stream",
     "text": [
      "Epoch 1/2\n",
      "38/38 [==============================] - 18s 477ms/step - loss: 0.3198 - accuracy: 0.0430 - val_loss: 0.1922 - val_accuracy: 0.0488\n",
      "Epoch 2/2\n",
      "38/38 [==============================] - 18s 474ms/step - loss: 0.1928 - accuracy: 0.0505 - val_loss: 0.1566 - val_accuracy: 0.0488\n",
      "accuracy: 4.88%\n",
      "Epoch 1/2\n",
      "38/38 [==============================] - 19s 478ms/step - loss: 0.4349 - accuracy: 0.0430 - val_loss: 0.1790 - val_accuracy: 0.0546\n",
      "Epoch 2/2\n",
      "38/38 [==============================] - 18s 479ms/step - loss: 0.1682 - accuracy: 0.0477 - val_loss: 0.1769 - val_accuracy: 0.0546\n",
      "accuracy: 5.46%\n",
      "cnn3 Conv-Pool-Conv-Pool MaxPooling\n",
      "5.17% (+/- 0.29%)\n"
     ]
    },
    {
     "data": {
      "image/png": "[encoded data removed]",
      "text/plain": [
       "<Figure size 432x288 with 1 Axes>"
      ]
     },
     "metadata": {
      "needs_background": "light"
     },
     "output_type": "display_data"
    }
   ],
   "source": [
    "# define 10-fold cross validation test harness\n",
    "kfold = KFold(n_splits=10, shuffle=True, random_state=123)\n",
    "cvscores = []\n",
    "\n",
    "for train, test in kfold.split(X, y):\n",
    "    cnn3 = Sequential()\n",
    "    cnn3.add(Conv3D(32, kernel_size=3, activation='relu',padding='same',input_shape=(X[train].shape[1],X[train].shape[2],X[train].shape[3],1)),)\n",
    "    cnn3.add(MaxPooling3D(pool_size=2,padding='same'))\n",
    "    cnn3.add(Conv3D(64, kernel_size=3, activation='relu',padding='same'))\n",
    "    cnn3.add(MaxPooling3D(pool_size=2,padding='same'))\n",
    "    cnn3.add(Conv3D(128, kernel_size=3, activation='relu',padding='same'))\n",
    "    cnn3.add(MaxPooling3D(pool_size=2,padding='same'))\n",
    "\n",
    "    cnn3.add(Flatten())\n",
    "\n",
    "    cnn3.add(Dense(64, activation='relu'))\n",
    "    cnn3.add(Dense(units=1, activation = 'linear'))\n",
    "\n",
    "    adam = keras.optimizers.Adam(lr=0.001)\n",
    "    cnn3.compile(optimizer='adam', loss='mae',  metrics='accuracy')\n",
    "    history = cnn3.fit(X[train], y[train], validation_data=(X[test], y[test]), epochs=20)\n",
    "    yy_test = cnn3.predict(X[test])\n",
    "\n",
    "    test_corr = np.corrcoef(yy_test[:,0],y[test][:,0])[0,1]\n",
    "    plt.title('corr = %f'%test_corr)\n",
    "\n",
    "    plt.plot(yy_test,y[test],'+')\n",
    "    scores = cnn3.evaluate(X[test], y[test], verbose=0)\n",
    "    print(\"%s: %.2f%%\" % (cnn3.metrics_names[1], scores[1]*100))\n",
    "    cvscores.append(scores[1] * 100)\n",
    "\n",
    "print(\"cnn3 Conv-Pool-Conv-Pool MaxPooling\")    \n",
    "print(\"%.2f%% (+/- %.2f%%)\" % (np.mean(cvscores), np.std(cvscores)))"
   ]
  },
  {
   "cell_type": "code",
   "execution_count": 37,
   "metadata": {},
   "outputs": [
    {
     "name": "stdout",
     "output_type": "stream",
     "text": [
      "Epoch 1/2\n",
      "38/38 [==============================] - 3s 70ms/step - loss: 0.2253 - accuracy: 0.0518 - val_loss: 0.1814 - val_accuracy: 0.0488\n",
      "Epoch 2/2\n",
      "38/38 [==============================] - 2s 64ms/step - loss: 0.1822 - accuracy: 0.0512 - val_loss: 0.1683 - val_accuracy: 0.0488\n",
      "accuracy: 4.88%\n",
      "Epoch 1/2\n",
      "38/38 [==============================] - 3s 66ms/step - loss: 0.2029 - accuracy: 0.0419 - val_loss: 0.1888 - val_accuracy: 0.0521\n",
      "Epoch 2/2\n",
      "38/38 [==============================] - 2s 61ms/step - loss: 0.1735 - accuracy: 0.0492 - val_loss: 0.1740 - val_accuracy: 0.0546\n",
      "accuracy: 5.46%\n",
      "cnn4 Conv-Pool-Conv-Pool AvgPooling\n",
      "5.17% (+/- 0.29%)\n"
     ]
    },
    {
     "data": {
      "image/png": "[encoded data removed]",
      "text/plain": [
       "<Figure size 432x288 with 1 Axes>"
      ]
     },
     "metadata": {
      "needs_background": "light"
     },
     "output_type": "display_data"
    }
   ],
   "source": [
    "# define 10-fold cross validation test harness\n",
    "kfold = KFold(n_splits=10, shuffle=True, random_state=123)\n",
    "cvscores = []\n",
    "\n",
    "for train, test in kfold.split(X, y):\n",
    "    cnn4 = Sequential()\n",
    "    cnn4.add(Conv3D(32, kernel_size=3, activation='relu',padding='same',input_shape=(X[train].shape[1],X[train].shape[2],X[train].shape[3],1)),)\n",
    "    cnn4.add(AveragePooling3D(pool_size=2,padding='same'))\n",
    "    cnn4.add(Conv3D(64, kernel_size=3, activation='relu',padding='same'))\n",
    "    cnn4.add(AveragePooling3D(pool_size=2,padding='same'))\n",
    "    cnn4.add(Conv3D(128, kernel_size=3, activation='relu',padding='same'))\n",
    "    cnn4.add(AveragePooling3D(pool_size=2,padding='same'))\n",
    "\n",
    "    cnn4.add(Flatten())\n",
    "\n",
    "    cnn4.add(Dense(64, activation='relu'))\n",
    "    cnn4.add(Dense(units=1, activation = 'linear'))\n",
    "\n",
    "    adam = keras.optimizers.Adam(lr=0.001)\n",
    "    cnn4.compile(optimizer='adam', loss='mae',  metrics='accuracy')\n",
    "    history = cnn4.fit(X[train], y[train], validation_data=(X[test], y[test]), epochs=20)\n",
    "    yy_test = cnn4.predict(X[test])\n",
    "\n",
    "    test_corr = np.corrcoef(yy_test[:,0],y[test][:,0])[0,1]\n",
    "    plt.title('corr = %f'%test_corr)\n",
    "\n",
    "    plt.plot(yy_test,y[test],'+')\n",
    "    scores = cnn4.evaluate(X[test], y[test], verbose=0)\n",
    "    print(\"%s: %.2f%%\" % (cnn4.metrics_names[1], scores[1]*100))\n",
    "    cvscores.append(scores[1] * 100)\n",
    "\n",
    "print(\"cnn4 Conv-Pool-Conv-Pool AvgPooling\")    \n",
    "print(\"%.2f%% (+/- %.2f%%)\" % (np.mean(cvscores), np.std(cvscores)))    \n"
   ]
  },
  {
   "cell_type": "markdown",
   "metadata": {},
   "source": [
    "# a vgg like model with the trend Conv-Conv-Pool-Conv-Conv-Pool"
   ]
  },
  {
   "cell_type": "code",
   "execution_count": 40,
   "metadata": {},
   "outputs": [
    {
     "name": "stdout",
     "output_type": "stream",
     "text": [
      "Epoch 1/2\n",
      "38/38 [==============================] - 12s 291ms/step - loss: 0.4046 - accuracy: 0.0505 - val_loss: 0.1761 - val_accuracy: 0.0488\n",
      "Epoch 2/2\n",
      "38/38 [==============================] - 11s 293ms/step - loss: 0.1867 - accuracy: 0.0529 - val_loss: 0.1696 - val_accuracy: 0.0488\n",
      "accuracy: 4.88%\n",
      "Epoch 1/2\n",
      "38/38 [==============================] - 11s 290ms/step - loss: 0.5132 - accuracy: 0.0343 - val_loss: 0.1947 - val_accuracy: 0.0546\n",
      "Epoch 2/2\n",
      "38/38 [==============================] - 11s 288ms/step - loss: 0.1783 - accuracy: 0.0539 - val_loss: 0.1893 - val_accuracy: 0.0529\n",
      "accuracy: 5.29%\n",
      "cnn5 Vgg MaxPooling\n",
      "5.09% (+/- 0.21%)\n"
     ]
    },
    {
     "data": {
      "image/png": "[encoded data removed]",
      "text/plain": [
       "<Figure size 432x288 with 1 Axes>"
      ]
     },
     "metadata": {
      "needs_background": "light"
     },
     "output_type": "display_data"
    }
   ],
   "source": [
    "# define 10-fold cross validation test harness\n",
    "kfold = KFold(n_splits=10, shuffle=True, random_state=123)\n",
    "cvscores = []\n",
    "\n",
    "for train, test in kfold.split(X, y):\n",
    "    cnn5 = Sequential()\n",
    "    cnn5.add(Conv3D(16, kernel_size=3, activation='relu',padding='same',input_shape=(X[train].shape[1],X[train].shape[2],X[train].shape[3],1)),)\n",
    "    cnn5.add(Conv3D(16, kernel_size=3, activation='relu',padding='same'))\n",
    "    cnn5.add(MaxPooling3D(pool_size=2,padding='same'))\n",
    "    cnn5.add(Conv3D(32, kernel_size=3, activation='relu',padding='same'))\n",
    "    cnn5.add(Conv3D(32, kernel_size=3, activation='relu',padding='same'))\n",
    "    cnn5.add(MaxPooling3D(pool_size=2,padding='same'))\n",
    "    \n",
    "\n",
    "    cnn5.add(Flatten())\n",
    "\n",
    "    cnn5.add(Dense(512, activation='relu'))\n",
    "    cnn5.add(Dense(units=1, activation = 'linear'))\n",
    "\n",
    "    adam = keras.optimizers.Adam(lr=0.001)\n",
    "    cnn5.compile(optimizer='adam', loss='mae',  metrics='accuracy')\n",
    "    history = cnn5.fit(X[train], y[train], validation_data=(X[test], y[test]), epochs=20)\n",
    "    yy_test = cnn5.predict(X[test])\n",
    "\n",
    "    test_corr = np.corrcoef(yy_test[:,0],y[test][:,0])[0,1]\n",
    "    plt.title('corr = %f'%test_corr)\n",
    "\n",
    "    plt.plot(yy_test,y[test],'+')\n",
    "    scores = cnn5.evaluate(X[test], y[test], verbose=0)\n",
    "    print(\"%s: %.2f%%\" % (cnn5.metrics_names[1], scores[1]*100))\n",
    "    cvscores.append(scores[1] * 100)\n",
    "\n",
    "print(\"cnn5 Vgg MaxPooling\")    \n",
    "print(\"%.2f%% (+/- %.2f%%)\" % (np.mean(cvscores), np.std(cvscores)))    \n"
   ]
  },
  {
   "cell_type": "code",
   "execution_count": 41,
   "metadata": {},
   "outputs": [
    {
     "name": "stdout",
     "output_type": "stream",
     "text": [
      "Epoch 1/2\n",
      "38/38 [==============================] - 4s 99ms/step - loss: 0.2474 - accuracy: 0.0500 - val_loss: 0.1694 - val_accuracy: 0.0488\n",
      "Epoch 2/2\n",
      "38/38 [==============================] - 4s 96ms/step - loss: 0.1787 - accuracy: 0.0573 - val_loss: 0.1679 - val_accuracy: 0.0488\n",
      "accuracy: 4.88%\n",
      "Epoch 1/2\n",
      "38/38 [==============================] - 4s 100ms/step - loss: 0.2022 - accuracy: 0.0401 - val_loss: 0.1796 - val_accuracy: 0.0546\n",
      "Epoch 2/2\n",
      "38/38 [==============================] - 4s 94ms/step - loss: 0.1625 - accuracy: 0.0470 - val_loss: 0.1708 - val_accuracy: 0.0546\n",
      "accuracy: 5.46%\n",
      "cnn6 Vgg AveragePooling\n",
      "5.17% (+/- 0.29%)\n"
     ]
    },
    {
     "data": {
      "image/png": "[encoded data removed]",
      "text/plain": [
       "<Figure size 432x288 with 1 Axes>"
      ]
     },
     "metadata": {
      "needs_background": "light"
     },
     "output_type": "display_data"
    }
   ],
   "source": [
    "# define 10-fold cross validation test harness\n",
    "kfold = KFold(n_splits=10, shuffle=True, random_state=123)\n",
    "cvscores = []\n",
    "\n",
    "for train, test in kfold.split(X, y):\n",
    "    cnn6 = Sequential()\n",
    "    cnn6.add(Conv3D(16, kernel_size=3, activation='relu',padding='same',input_shape=(X[train].shape[1],X[train].shape[2],X[train].shape[3],1)),)\n",
    "    cnn6.add(Conv3D(16, kernel_size=3, activation='relu',padding='same'))\n",
    "    cnn6.add(AveragePooling3D(pool_size=2,padding='same'))\n",
    "    cnn6.add(Conv3D(32, kernel_size=3, activation='relu',padding='same'))\n",
    "    cnn6.add(Conv3D(32, kernel_size=3, activation='relu',padding='same'))\n",
    "    cnn6.add(AveragePooling3D(pool_size=2,padding='same'))\n",
    "    \n",
    "\n",
    "    cnn6.add(Flatten())\n",
    "\n",
    "    cnn6.add(Dense(512, activation='relu'))\n",
    "    cnn6.add(Dense(units=1, activation = 'linear'))\n",
    "\n",
    "    adam = keras.optimizers.Adam(lr=0.001)\n",
    "    cnn6.compile(optimizer='adam', loss='mae',  metrics='accuracy')\n",
    "    history = cnn6.fit(X[train], y[train], validation_data=(X[test], y[test]), epochs=20)\n",
    "    yy_test = cnn6.predict(X[test])\n",
    "\n",
    "    test_corr = np.corrcoef(yy_test[:,0],y[test][:,0])[0,1]\n",
    "    plt.title('corr = %f'%test_corr)\n",
    "\n",
    "    plt.plot(yy_test,y[test],'+')\n",
    "    scores = cnn6.evaluate(X[test], y[test], verbose=0)\n",
    "    print(\"%s: %.2f%%\" % (cnn6.metrics_names[1], scores[1]*100))\n",
    "    cvscores.append(scores[1] * 100)\n",
    "\n",
    "print(\"cnn6 Vgg AveragePooling\")    \n",
    "print(\"%.2f%% (+/- %.2f%%)\" % (np.mean(cvscores), np.std(cvscores))) "
   ]
  },
  {
   "cell_type": "code",
   "execution_count": null,
   "metadata": {},
   "outputs": [],
   "source": []
  }
 ],
 "metadata": {
  "kernelspec": {
   "display_name": "Python 3",
   "language": "python",
   "name": "python3"
  },
  "language_info": {
   "codemirror_mode": {
    "name": "ipython",
    "version": 3
   },
   "file_extension": ".py",
   "mimetype": "text/x-python",
   "name": "python",
   "nbconvert_exporter": "python",
   "pygments_lexer": "ipython3",
   "version": "3.8.5"
  }
 },
 "nbformat": 4,
 "nbformat_minor": 4
}
