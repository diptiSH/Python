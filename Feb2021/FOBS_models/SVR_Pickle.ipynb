{
 "cells": [
  {
   "cell_type": "code",
   "execution_count": 14,
   "metadata": {},
   "outputs": [],
   "source": [
    "import numpy as np\n",
    "import pandas as pd\n",
    "import xarray as xr\n",
    "import math as mt\n",
    "from joblib import dump, load\n",
    "\n",
    "import datetime\n",
    "\n",
    "import glob\n",
    "import matplotlib as mpl\n",
    "import matplotlib.pyplot as plt\n",
    "import cartopy.crs as ccrs\n",
    "import matplotlib.ticker as ticker\n",
    "from cartopy.mpl.ticker import LongitudeFormatter, LatitudeFormatter\n",
    "\n",
    "from sklearn.model_selection import train_test_split\n",
    "from random import seed\n",
    "from random import randint\n",
    "import statistics\n",
    "from scipy.stats import stats\n",
    "from sklearn.svm import SVR\n",
    "from sklearn.preprocessing import StandardScaler\n",
    "from sklearn.model_selection import GridSearchCV, RandomizedSearchCV\n",
    "from time import time\n",
    "from math import e\n"
   ]
  },
  {
   "cell_type": "code",
   "execution_count": 3,
   "metadata": {},
   "outputs": [],
   "source": [
    "fogData = xr.open_dataset('../../../Data/FogData/CombinedFogData_25Stations.nc')\n",
    "\n",
    "#plt.figure(figsize=[16,8])\n",
    "StackFog=fogData.fogdata.stack(a=('years','months','days'))\n",
    "StackFog\n",
    "dd =[];\n",
    "for i in range(StackFog.years.values.shape[0]):\n",
    "    dd=dd+[str(StackFog.years[i].values)+'-'+str(StackFog.months[i].values)+\"-\"+str(StackFog.days[i].values)]\n",
    "fg = xr.Dataset({'fogdata': (('time','stations'), StackFog.values.T)}, coords={'time': pd.to_datetime(dd),'stations': fogData.stations})\n",
    "y=fg.fogdata.sum(dim='stations').sel(time=slice('1980-1-1','2018-12-31'))\n",
    "y=y/25.0"
   ]
  },
  {
   "cell_type": "code",
   "execution_count": 5,
   "metadata": {},
   "outputs": [],
   "source": [
    "#Surface data\n",
    "t2mData = xr.open_dataset('../../../Data/eraDown/ERA5_2degree_Down/DailyMean/ERA5NH_t2m_daily_NovDecJan.nc')\n",
    "d2mData = xr.open_dataset('../../../Data/eraDown/ERA5_2degree_Down/DailyMean/ERA5NH_d2m_daily_NovDecJan.nc')\n",
    "u10Data = xr.open_dataset('../../../Data/eraDown/ERA5_2degree_Down/DailyMean/ERA5NH_u10_daily_NovDecJan.nc')\n",
    "v10Data = xr.open_dataset('../../../Data/eraDown/ERA5_2degree_Down/DailyMean/ERA5NH_v10_daily_NovDecJan.nc')\n",
    "# 850 Data\n",
    "tuv850Data = xr.open_dataset('../../../Data/eraDown/ERA5_2degree_Down/DailyMean/ERA5NH_850_uvt_daily_NovDecJan.nc')\n",
    "z850Data = xr.open_dataset('../../../Data/eraDown/ERA5_2degree_Down/DailyMean/ERA5NH_850_z_daily_NovDecJan.nc')\n",
    "#700 Data\n",
    "w700Data = xr.open_dataset('../../../Data/eraDown/ERA5_2degree_Down/DailyMean/ERA5NH_700_w_daily_NovDecJan.nc')\n",
    "# Read Orography\n",
    "OroData = xr.open_dataset('../../../Data/eraDown/ERA5_2degree_Down/DailyMean/ERA5IGP_Orography.nc')"
   ]
  },
  {
   "cell_type": "code",
   "execution_count": 6,
   "metadata": {},
   "outputs": [],
   "source": [
    "t2mD = t2mData.sel(latitude=slice(32,24),longitude=slice(74,86))\n",
    "u10D = u10Data.sel(latitude=slice(32,24),longitude=slice(74,86))\n",
    "v10D = v10Data.sel(latitude=slice(32,24),longitude=slice(74,86))\n",
    "d2mD = d2mData.sel(latitude=slice(32,24),longitude=slice(74,86))\n",
    "tuv850D = tuv850Data.sel(latitude=slice(32,24),longitude=slice(74,86))\n",
    "z850D = z850Data.sel(latitude=slice(32,24),longitude=slice(74,86))\n",
    "w700D = w700Data.sel(latitude=slice(32,24),longitude=slice(74,86))\n",
    "OroD = OroData.sel(latitude=slice(32,24),longitude=slice(74,86))"
   ]
  },
  {
   "cell_type": "code",
   "execution_count": 15,
   "metadata": {},
   "outputs": [],
   "source": [
    "# Calculate wind speed and relative humidity\n",
    "ws = ((v10D.v10.values**2)+(u10D.u10.values**2))**0.5\n",
    "ws_ds = xr.Dataset({'ws': (('time','latitude','longitude'), ws)}, coords={'time': v10D.time,'latitude': v10D.latitude,'longitude': v10D.longitude})\n",
    "rh = (e**((17.625*(d2mD.d2m.values-273.15))/(243.04+(d2mD.d2m.values-273.15)))/e**((17.625*(t2mD.t2m.values-273.15))/(243.04+(t2mD.t2m.values-273.15))))\n",
    "rh_ds = xr.Dataset({'rh': (('time','latitude','longitude'), rh)}, coords={'time': v10D.time,'latitude': v10D.latitude,'longitude': v10D.longitude})\n",
    "#Calculate inv\n",
    "inv=t2mD.t2m.values-tuv850D.t.values\n",
    "inv_ds = xr.Dataset({'inv': (('time','latitude','longitude'), inv)}, coords={'time': v10D.time,'latitude': v10D.latitude,'longitude': v10D.longitude})\n",
    "inv_ds.attrs\n",
    "inv_ds.attrs['units']='K'\n",
    "inv_ds.attrs['long_name']='t2m - t850'"
   ]
  },
  {
   "cell_type": "code",
   "execution_count": 16,
   "metadata": {},
   "outputs": [],
   "source": [
    "#u shear calculation\n",
    "ushear=(tuv850D.u.values-u10D.u10.values)/(z850D.z.values/9.81) \n",
    "ushear_ds = xr.Dataset({'ushear': (('time','latitude','longitude'), ushear)}, coords={'time': v10D.time,'latitude': v10D.latitude,'longitude': v10D.longitude})\n",
    "ushear_ds.attrs['units']='s-1'\n",
    "ushear_ds.attrs['long_name']='(u10 - u850)/z850'"
   ]
  },
  {
   "cell_type": "code",
   "execution_count": 17,
   "metadata": {},
   "outputs": [],
   "source": [
    "# create mask\n",
    "oro = OroD.z\n",
    "oro.values = OroD.z.values/9.81\n",
    "oro.attrs\n",
    "oro.attrs['units']='meter'\n",
    "oro.attrs['long_name']='Orography'\n",
    "oro.values[oro.values>500.1]=np.NaN\n",
    "mask=oro.values/oro.values\n",
    "# Chk mask\n",
    "#t2mD.t2m.values=t2mD.t2m.values*mask\n",
    "#t2mD.t2m[0,:,:].plot(cmap='jet')"
   ]
  },
  {
   "cell_type": "code",
   "execution_count": 18,
   "metadata": {},
   "outputs": [],
   "source": [
    "# Apply Mask \n",
    "t2mD.t2m.values=t2mD.t2m.values*mask\n",
    "ws_ds.ws.values=ws_ds.ws.values*mask\n",
    "rh_ds.rh.values=rh_ds.rh.values*mask\n",
    "w700D.w.values=w700D.w.values*mask\n",
    "inv_ds.inv.values=inv_ds.inv.values*mask\n",
    "ushear_ds.ushear.values=ushear_ds.ushear.values*mask"
   ]
  },
  {
   "cell_type": "code",
   "execution_count": 19,
   "metadata": {},
   "outputs": [],
   "source": [
    "# Feild mean\n",
    "t2mTS1=t2mD.mean(dim=['latitude','longitude'], skipna=True).t2m\n",
    "wsTS1=ws_ds.mean(dim=['latitude','longitude'], skipna=True).ws\n",
    "rhTS1=rh_ds.mean(dim=['latitude','longitude'], skipna=True).rh\n",
    "wTS1=w700D.mean(dim=['latitude','longitude'], skipna=True).w\n",
    "invTS1=inv_ds.mean(dim=['latitude','longitude'], skipna=True).inv\n",
    "ushearTS1=ushear_ds.mean(dim=['latitude','longitude'], skipna=True).ushear"
   ]
  },
  {
   "cell_type": "code",
   "execution_count": 20,
   "metadata": {},
   "outputs": [],
   "source": [
    "# shift one day so we can take values of previous day\n",
    "t2mTS=t2mTS1.shift(time=1)\n",
    "wsTS=wsTS1.shift(time=1)\n",
    "rhTS=rhTS1.shift(time=1)\n",
    "wTS=wTS1.shift(time=1)\n",
    "invTS=invTS1.shift(time=1)\n",
    "ushearTS=ushearTS1.shift(time=1)"
   ]
  },
  {
   "cell_type": "code",
   "execution_count": 21,
   "metadata": {},
   "outputs": [],
   "source": [
    "# Select required time \n",
    "t2m=t2mTS[((t2mTS.time.dt.month>11) | (t2mTS.time.dt.month<2)) & (t2mTS.time.dt.year<2020)].sel(time=slice('1980-1-1','2018-12-31'))\n",
    "ws=wsTS[((wsTS.time.dt.month>11) | (wsTS.time.dt.month<2)) & (wsTS.time.dt.year<2020)].sel(time=slice('1980-1-1','2018-12-31'))\n",
    "inv=invTS[((wsTS.time.dt.month>11) | (wsTS.time.dt.month<2)) & (wsTS.time.dt.year<2020)].sel(time=slice('1980-1-1','2018-12-31'))\n",
    "rh=rhTS[((wsTS.time.dt.month>11) | (wsTS.time.dt.month<2)) & (wsTS.time.dt.year<2020)].sel(time=slice('1980-1-1','2018-12-31'))\n",
    "w=wTS[((wsTS.time.dt.month>11) | (wsTS.time.dt.month<2)) & (wsTS.time.dt.year<2020)].sel(time=slice('1980-1-1','2018-12-31'))\n",
    "ushear=ushearTS[((wsTS.time.dt.month>11) | (wsTS.time.dt.month<2)) & (wsTS.time.dt.year<2020)].sel(time=slice('1980-1-1','2018-12-31'))"
   ]
  },
  {
   "cell_type": "code",
   "execution_count": 22,
   "metadata": {},
   "outputs": [
    {
     "data": {
      "text/html": [
       "<div>\n",
       "<style scoped>\n",
       "    .dataframe tbody tr th:only-of-type {\n",
       "        vertical-align: middle;\n",
       "    }\n",
       "\n",
       "    .dataframe tbody tr th {\n",
       "        vertical-align: top;\n",
       "    }\n",
       "\n",
       "    .dataframe thead th {\n",
       "        text-align: right;\n",
       "    }\n",
       "</style>\n",
       "<table border=\"1\" class=\"dataframe\">\n",
       "  <thead>\n",
       "    <tr style=\"text-align: right;\">\n",
       "      <th></th>\n",
       "      <th>0</th>\n",
       "      <th>1</th>\n",
       "      <th>2</th>\n",
       "      <th>3</th>\n",
       "      <th>4</th>\n",
       "      <th>5</th>\n",
       "    </tr>\n",
       "  </thead>\n",
       "  <tbody>\n",
       "    <tr>\n",
       "      <th>1980-01-01 09:00:00</th>\n",
       "      <td>289.120636</td>\n",
       "      <td>1.737170</td>\n",
       "      <td>0.681204</td>\n",
       "      <td>5.449228</td>\n",
       "      <td>-0.103194</td>\n",
       "      <td>0.353420</td>\n",
       "    </tr>\n",
       "    <tr>\n",
       "      <th>1980-01-02 09:00:00</th>\n",
       "      <td>288.971771</td>\n",
       "      <td>2.071385</td>\n",
       "      <td>0.743338</td>\n",
       "      <td>5.749483</td>\n",
       "      <td>-0.125205</td>\n",
       "      <td>0.273085</td>\n",
       "    </tr>\n",
       "    <tr>\n",
       "      <th>1980-01-03 09:00:00</th>\n",
       "      <td>288.303253</td>\n",
       "      <td>1.375861</td>\n",
       "      <td>0.758891</td>\n",
       "      <td>6.781636</td>\n",
       "      <td>-0.049128</td>\n",
       "      <td>0.160400</td>\n",
       "    </tr>\n",
       "    <tr>\n",
       "      <th>1980-01-04 09:00:00</th>\n",
       "      <td>287.083527</td>\n",
       "      <td>1.883535</td>\n",
       "      <td>0.746639</td>\n",
       "      <td>6.586329</td>\n",
       "      <td>0.070247</td>\n",
       "      <td>0.053234</td>\n",
       "    </tr>\n",
       "    <tr>\n",
       "      <th>1980-01-05 09:00:00</th>\n",
       "      <td>286.249054</td>\n",
       "      <td>1.991354</td>\n",
       "      <td>0.709822</td>\n",
       "      <td>5.626440</td>\n",
       "      <td>0.038802</td>\n",
       "      <td>0.038249</td>\n",
       "    </tr>\n",
       "    <tr>\n",
       "      <th>...</th>\n",
       "      <td>...</td>\n",
       "      <td>...</td>\n",
       "      <td>...</td>\n",
       "      <td>...</td>\n",
       "      <td>...</td>\n",
       "      <td>...</td>\n",
       "    </tr>\n",
       "    <tr>\n",
       "      <th>2018-12-27 09:00:00</th>\n",
       "      <td>287.116974</td>\n",
       "      <td>1.433200</td>\n",
       "      <td>0.588758</td>\n",
       "      <td>4.247632</td>\n",
       "      <td>-0.025993</td>\n",
       "      <td>0.314777</td>\n",
       "    </tr>\n",
       "    <tr>\n",
       "      <th>2018-12-28 09:00:00</th>\n",
       "      <td>287.040436</td>\n",
       "      <td>1.897564</td>\n",
       "      <td>0.547522</td>\n",
       "      <td>5.767006</td>\n",
       "      <td>0.163933</td>\n",
       "      <td>0.249560</td>\n",
       "    </tr>\n",
       "    <tr>\n",
       "      <th>2018-12-29 09:00:00</th>\n",
       "      <td>286.180817</td>\n",
       "      <td>2.137837</td>\n",
       "      <td>0.552296</td>\n",
       "      <td>4.413174</td>\n",
       "      <td>0.137729</td>\n",
       "      <td>0.143824</td>\n",
       "    </tr>\n",
       "    <tr>\n",
       "      <th>2018-12-30 09:00:00</th>\n",
       "      <td>286.110046</td>\n",
       "      <td>1.636086</td>\n",
       "      <td>0.564291</td>\n",
       "      <td>1.974165</td>\n",
       "      <td>0.078003</td>\n",
       "      <td>0.081137</td>\n",
       "    </tr>\n",
       "    <tr>\n",
       "      <th>2018-12-31 09:00:00</th>\n",
       "      <td>286.772278</td>\n",
       "      <td>1.588799</td>\n",
       "      <td>0.574377</td>\n",
       "      <td>1.721367</td>\n",
       "      <td>0.060394</td>\n",
       "      <td>0.051555</td>\n",
       "    </tr>\n",
       "  </tbody>\n",
       "</table>\n",
       "<p>2418 rows × 6 columns</p>\n",
       "</div>"
      ],
      "text/plain": [
       "                              0         1         2         3         4  \\\n",
       "1980-01-01 09:00:00  289.120636  1.737170  0.681204  5.449228 -0.103194   \n",
       "1980-01-02 09:00:00  288.971771  2.071385  0.743338  5.749483 -0.125205   \n",
       "1980-01-03 09:00:00  288.303253  1.375861  0.758891  6.781636 -0.049128   \n",
       "1980-01-04 09:00:00  287.083527  1.883535  0.746639  6.586329  0.070247   \n",
       "1980-01-05 09:00:00  286.249054  1.991354  0.709822  5.626440  0.038802   \n",
       "...                         ...       ...       ...       ...       ...   \n",
       "2018-12-27 09:00:00  287.116974  1.433200  0.588758  4.247632 -0.025993   \n",
       "2018-12-28 09:00:00  287.040436  1.897564  0.547522  5.767006  0.163933   \n",
       "2018-12-29 09:00:00  286.180817  2.137837  0.552296  4.413174  0.137729   \n",
       "2018-12-30 09:00:00  286.110046  1.636086  0.564291  1.974165  0.078003   \n",
       "2018-12-31 09:00:00  286.772278  1.588799  0.574377  1.721367  0.060394   \n",
       "\n",
       "                            5  \n",
       "1980-01-01 09:00:00  0.353420  \n",
       "1980-01-02 09:00:00  0.273085  \n",
       "1980-01-03 09:00:00  0.160400  \n",
       "1980-01-04 09:00:00  0.053234  \n",
       "1980-01-05 09:00:00  0.038249  \n",
       "...                       ...  \n",
       "2018-12-27 09:00:00  0.314777  \n",
       "2018-12-28 09:00:00  0.249560  \n",
       "2018-12-29 09:00:00  0.143824  \n",
       "2018-12-30 09:00:00  0.081137  \n",
       "2018-12-31 09:00:00  0.051555  \n",
       "\n",
       "[2418 rows x 6 columns]"
      ]
     },
     "execution_count": 22,
     "metadata": {},
     "output_type": "execute_result"
    }
   ],
   "source": [
    "# input X\n",
    "X       = pd.DataFrame([t2m.values,ws.values,rh.values,inv.values,w.values,ushear.values*100.0]).T[:]\n",
    "#X       = pd.DataFrame([ws.values,rh.values,inv.values,w.values]).T[:]\n",
    "X.index = pd.to_datetime(t2m.time.values)\n",
    "X"
   ]
  },
  {
   "cell_type": "code",
   "execution_count": 23,
   "metadata": {},
   "outputs": [
    {
     "data": {
      "text/html": [
       "<div>\n",
       "<style scoped>\n",
       "    .dataframe tbody tr th:only-of-type {\n",
       "        vertical-align: middle;\n",
       "    }\n",
       "\n",
       "    .dataframe tbody tr th {\n",
       "        vertical-align: top;\n",
       "    }\n",
       "\n",
       "    .dataframe thead th {\n",
       "        text-align: right;\n",
       "    }\n",
       "</style>\n",
       "<table border=\"1\" class=\"dataframe\">\n",
       "  <thead>\n",
       "    <tr style=\"text-align: right;\">\n",
       "      <th></th>\n",
       "      <th>0</th>\n",
       "      <th>1</th>\n",
       "      <th>2</th>\n",
       "      <th>3</th>\n",
       "      <th>4</th>\n",
       "      <th>5</th>\n",
       "    </tr>\n",
       "  </thead>\n",
       "  <tbody>\n",
       "    <tr>\n",
       "      <th>1980-01-01 09:00:00</th>\n",
       "      <td>0.069270</td>\n",
       "      <td>0.145201</td>\n",
       "      <td>0.579576</td>\n",
       "      <td>0.856872</td>\n",
       "      <td>-2.178138</td>\n",
       "      <td>1.754678</td>\n",
       "    </tr>\n",
       "    <tr>\n",
       "      <th>1980-01-02 09:00:00</th>\n",
       "      <td>-0.008947</td>\n",
       "      <td>1.028973</td>\n",
       "      <td>1.367958</td>\n",
       "      <td>1.024354</td>\n",
       "      <td>-2.510069</td>\n",
       "      <td>1.000578</td>\n",
       "    </tr>\n",
       "    <tr>\n",
       "      <th>1980-01-03 09:00:00</th>\n",
       "      <td>-0.360198</td>\n",
       "      <td>-0.810212</td>\n",
       "      <td>1.565310</td>\n",
       "      <td>1.600091</td>\n",
       "      <td>-1.362824</td>\n",
       "      <td>-0.057176</td>\n",
       "    </tr>\n",
       "    <tr>\n",
       "      <th>1980-01-04 09:00:00</th>\n",
       "      <td>-1.001064</td>\n",
       "      <td>0.532239</td>\n",
       "      <td>1.409848</td>\n",
       "      <td>1.491148</td>\n",
       "      <td>0.437363</td>\n",
       "      <td>-1.063134</td>\n",
       "    </tr>\n",
       "    <tr>\n",
       "      <th>1980-01-05 09:00:00</th>\n",
       "      <td>-1.439511</td>\n",
       "      <td>0.817345</td>\n",
       "      <td>0.942694</td>\n",
       "      <td>0.955721</td>\n",
       "      <td>-0.036824</td>\n",
       "      <td>-1.203800</td>\n",
       "    </tr>\n",
       "    <tr>\n",
       "      <th>...</th>\n",
       "      <td>...</td>\n",
       "      <td>...</td>\n",
       "      <td>...</td>\n",
       "      <td>...</td>\n",
       "      <td>...</td>\n",
       "      <td>...</td>\n",
       "    </tr>\n",
       "    <tr>\n",
       "      <th>2018-12-27 09:00:00</th>\n",
       "      <td>-0.983490</td>\n",
       "      <td>-0.658592</td>\n",
       "      <td>-0.593436</td>\n",
       "      <td>0.186620</td>\n",
       "      <td>-1.013936</td>\n",
       "      <td>1.391936</td>\n",
       "    </tr>\n",
       "    <tr>\n",
       "      <th>2018-12-28 09:00:00</th>\n",
       "      <td>-1.023705</td>\n",
       "      <td>0.569334</td>\n",
       "      <td>-1.116653</td>\n",
       "      <td>1.034129</td>\n",
       "      <td>1.850152</td>\n",
       "      <td>0.779749</td>\n",
       "    </tr>\n",
       "    <tr>\n",
       "      <th>2018-12-29 09:00:00</th>\n",
       "      <td>-1.475364</td>\n",
       "      <td>1.204693</td>\n",
       "      <td>-1.056081</td>\n",
       "      <td>0.278960</td>\n",
       "      <td>1.454996</td>\n",
       "      <td>-0.212779</td>\n",
       "    </tr>\n",
       "    <tr>\n",
       "      <th>2018-12-30 09:00:00</th>\n",
       "      <td>-1.512548</td>\n",
       "      <td>-0.122095</td>\n",
       "      <td>-0.903881</td>\n",
       "      <td>-1.081522</td>\n",
       "      <td>0.554328</td>\n",
       "      <td>-0.801216</td>\n",
       "    </tr>\n",
       "    <tr>\n",
       "      <th>2018-12-31 09:00:00</th>\n",
       "      <td>-1.164600</td>\n",
       "      <td>-0.247137</td>\n",
       "      <td>-0.775903</td>\n",
       "      <td>-1.222533</td>\n",
       "      <td>0.288784</td>\n",
       "      <td>-1.078898</td>\n",
       "    </tr>\n",
       "  </tbody>\n",
       "</table>\n",
       "<p>2418 rows × 6 columns</p>\n",
       "</div>"
      ],
      "text/plain": [
       "                            0         1         2         3         4  \\\n",
       "1980-01-01 09:00:00  0.069270  0.145201  0.579576  0.856872 -2.178138   \n",
       "1980-01-02 09:00:00 -0.008947  1.028973  1.367958  1.024354 -2.510069   \n",
       "1980-01-03 09:00:00 -0.360198 -0.810212  1.565310  1.600091 -1.362824   \n",
       "1980-01-04 09:00:00 -1.001064  0.532239  1.409848  1.491148  0.437363   \n",
       "1980-01-05 09:00:00 -1.439511  0.817345  0.942694  0.955721 -0.036824   \n",
       "...                       ...       ...       ...       ...       ...   \n",
       "2018-12-27 09:00:00 -0.983490 -0.658592 -0.593436  0.186620 -1.013936   \n",
       "2018-12-28 09:00:00 -1.023705  0.569334 -1.116653  1.034129  1.850152   \n",
       "2018-12-29 09:00:00 -1.475364  1.204693 -1.056081  0.278960  1.454996   \n",
       "2018-12-30 09:00:00 -1.512548 -0.122095 -0.903881 -1.081522  0.554328   \n",
       "2018-12-31 09:00:00 -1.164600 -0.247137 -0.775903 -1.222533  0.288784   \n",
       "\n",
       "                            5  \n",
       "1980-01-01 09:00:00  1.754678  \n",
       "1980-01-02 09:00:00  1.000578  \n",
       "1980-01-03 09:00:00 -0.057176  \n",
       "1980-01-04 09:00:00 -1.063134  \n",
       "1980-01-05 09:00:00 -1.203800  \n",
       "...                       ...  \n",
       "2018-12-27 09:00:00  1.391936  \n",
       "2018-12-28 09:00:00  0.779749  \n",
       "2018-12-29 09:00:00 -0.212779  \n",
       "2018-12-30 09:00:00 -0.801216  \n",
       "2018-12-31 09:00:00 -1.078898  \n",
       "\n",
       "[2418 rows x 6 columns]"
      ]
     },
     "execution_count": 23,
     "metadata": {},
     "output_type": "execute_result"
    }
   ],
   "source": [
    "norm = StandardScaler().fit(X)\n",
    "    # transform training data\n",
    "X = pd.DataFrame(norm.transform(X))\n",
    "X.index = pd.to_datetime(t2m.time.values)\n",
    "X"
   ]
  },
  {
   "cell_type": "code",
   "execution_count": 24,
   "metadata": {},
   "outputs": [
    {
     "data": {
      "text/plain": [
       "SVR(C=1)"
      ]
     },
     "execution_count": 24,
     "metadata": {},
     "output_type": "execute_result"
    }
   ],
   "source": [
    "regressor = SVR(C= 1, gamma='scale', kernel= 'rbf')\n",
    "regressor.fit(X, y)"
   ]
  },
  {
   "cell_type": "code",
   "execution_count": 28,
   "metadata": {},
   "outputs": [],
   "source": [
    "yLR = regressor.predict(X)"
   ]
  },
  {
   "cell_type": "code",
   "execution_count": 29,
   "metadata": {},
   "outputs": [],
   "source": [
    "test_corr = np.corrcoef(yLR,y)[0,1]"
   ]
  },
  {
   "cell_type": "code",
   "execution_count": 30,
   "metadata": {},
   "outputs": [
    {
     "data": {
      "text/plain": [
       "[<matplotlib.lines.Line2D at 0x2af8f2a2dee0>]"
      ]
     },
     "execution_count": 30,
     "metadata": {},
     "output_type": "execute_result"
    },
    {
     "data": {
      "image/png": "[encoded data removed]",
      "text/plain": [
       "<Figure size 432x288 with 1 Axes>"
      ]
     },
     "metadata": {
      "needs_background": "light"
     },
     "output_type": "display_data"
    }
   ],
   "source": [
    "plt.title(' SVR corr = %f'%test_corr)\n",
    "plt.plot(y,yLR,'+')"
   ]
  },
  {
   "cell_type": "code",
   "execution_count": 31,
   "metadata": {},
   "outputs": [
    {
     "data": {
      "text/plain": [
       "<matplotlib.legend.Legend at 0x2af8f33b9d00>"
      ]
     },
     "execution_count": 31,
     "metadata": {},
     "output_type": "execute_result"
    },
    {
     "data": {
      "image/png": "[encoded data removed]",
      "text/plain": [
       "<Figure size 1080x360 with 1 Axes>"
      ]
     },
     "metadata": {
      "needs_background": "light"
     },
     "output_type": "display_data"
    }
   ],
   "source": [
    "y_predLin_ds=xr.Dataset({'yLR': (('time'), yLR)}, coords={'time': y.time})\n",
    "dump(y_predLin_ds.yLR,'TS1dataSVR.joblib')\n",
    "plt.figure(figsize=[15,5])\n",
    "y.resample(time='1Y').mean().plot(label='Obs')\n",
    "y_predLin_ds.resample(time='1Y').mean().yLR.plot(label='Pred_SVR')\n",
    "plt.ylim(0, 0.6)\n",
    "plt.legend()\n"
   ]
  },
  {
   "cell_type": "code",
   "execution_count": 32,
   "metadata": {},
   "outputs": [],
   "source": [
    "ynf=y.where(y==0, drop=True)\n",
    "ynf\n",
    "\n",
    "yLRnf=y_predLin_ds.where(y_predLin_ds.yLR<0.04,drop=True)\n",
    "\n",
    "yWd=y.where(y>0.44, drop=True)\n",
    "yWd\n",
    "\n",
    "yLRWd=y_predLin_ds.where(y_predLin_ds.yLR>0.44,drop=True)\n",
    "\n",
    "yint1=y.where(y>0,drop=True)\n",
    "yintf=yint1.where(yint1<0.48,drop=True)\n",
    "yintf\n",
    "\n",
    "yLRint1=y_predLin_ds.where(y_predLin_ds.yLR>0.039,drop=True)\n",
    "yLRintf=yLRint1.where(yLRint1<0.48,drop=True)"
   ]
  },
  {
   "cell_type": "code",
   "execution_count": 33,
   "metadata": {},
   "outputs": [
    {
     "data": {
      "image/png": "[encoded data removed]",
      "text/plain": [
       "<Figure size 432x288 with 2 Axes>"
      ]
     },
     "metadata": {},
     "output_type": "display_data"
    }
   ],
   "source": [
    "fig = plt.figure()\n",
    "ax = fig.add_axes([0,0,1,1])\n",
    "ax.axis('equal')\n",
    "pieLabs = ['No Fog', 'Intermediate Fog (1-11)', 'Widespread Fog (>11)']\n",
    "piedata = [ynf.shape[0],yintf.shape[0],yWd.shape[0]]\n",
    "ax.pie(piedata, labels = pieLabs,autopct='%1.2f%%')\n",
    "ax.set_title('Station Observation')\n",
    "\n",
    "ax1 = fig.add_axes([1,0,1,1])\n",
    "ax1.axis('equal')\n",
    "pieLabs = ['No Fog', 'Intermediate Fog (1-11)', 'Widespread Fog (>11)']\n",
    "piedata = [yLRnf.yLR.shape[0],yLRintf.yLR.shape[0],yLRWd.yLR.shape[0]]\n",
    "ax1.pie(piedata, labels = pieLabs,autopct='%1.2f%%')\n",
    "ax1.set_title('SVR')\n",
    "plt.show()"
   ]
  },
  {
   "cell_type": "code",
   "execution_count": null,
   "metadata": {},
   "outputs": [],
   "source": []
  }
 ],
 "metadata": {
  "kernelspec": {
   "display_name": "Python 3",
   "language": "python",
   "name": "python3"
  },
  "language_info": {
   "codemirror_mode": {
    "name": "ipython",
    "version": 3
   },
   "file_extension": ".py",
   "mimetype": "text/x-python",
   "name": "python",
   "nbconvert_exporter": "python",
   "pygments_lexer": "ipython3",
   "version": "3.8.5"
  }
 },
 "nbformat": 4,
 "nbformat_minor": 4
}
