{
 "cells": [
  {
   "cell_type": "code",
   "execution_count": 1,
   "metadata": {},
   "outputs": [],
   "source": [
    "import xarray as xr\n",
    "import numpy as np\n",
    "import pandas as pd\n",
    "import datetime\n",
    "import matplotlib.pyplot as plt\n",
    "from keras.models import Sequential\n",
    "from keras.layers import Dense, Conv3D, Flatten,MaxPooling3D,AveragePooling3D, concatenate,Input ,SpatialDropout3D,Dropout\n",
    "import keras\n",
    "from math import e\n",
    "from sklearn.model_selection import train_test_split\n",
    "from keras.models import Model\n",
    "from sklearn.preprocessing import StandardScaler\n",
    "from joblib import dump, load\n",
    "from hyperopt import Trials, STATUS_OK, tpe\n",
    "from hyperas import optim\n",
    "from hyperas.distributions import choice, uniform\n",
    "from sklearn.model_selection import KFold"
   ]
  },
  {
   "cell_type": "code",
   "execution_count": 3,
   "metadata": {},
   "outputs": [],
   "source": [
    "inputData = xr.open_dataset('CNN_input.nc')"
   ]
  },
  {
   "cell_type": "code",
   "execution_count": 9,
   "metadata": {},
   "outputs": [],
   "source": [
    "t2mTsAll=inputData.t2mTsAll\n",
    "wsTsAll=inputData.wsTsAll\n",
    "rhTsAll=inputData.rhTsAll\n",
    "invTsAll=inputData.invTsAll\n",
    "wTsAll=inputData.wTsAll\n",
    "ushearTsAll=inputData.ushearTsAll\n",
    "AO1DAll=inputData.AO1DAll\n",
    "AO5DAll=inputData.AO5DAll\n",
    "AO7DAll=inputData.AO7DAll\n",
    "AO14DAll=inputData.AO14DAll\n",
    "AO30DAll=inputData.AO30DAll"
   ]
  },
  {
   "cell_type": "code",
   "execution_count": 10,
   "metadata": {},
   "outputs": [],
   "source": [
    "fogData = xr.open_dataset('../../../../Data/FogData/CombinedFogData_25Stations.nc')\n",
    "#plt.figure(figsize=[16,8])\n",
    "StackFog=fogData.fogdata.stack(a=('years','months','days'))\n",
    "StackFog\n",
    "dd =[];\n",
    "for i in range(StackFog.years.values.shape[0]):\n",
    "    dd=dd+[str(StackFog.years[i].values)+'-'+str(StackFog.months[i].values)+\"-\"+str(StackFog.days[i].values)]\n",
    "fg = xr.Dataset({'fogdata': (('time','stations'), StackFog.values.T)}, coords={'time': pd.to_datetime(dd),'stations': fogData.stations})\n",
    "yAll=fg.fogdata.sum(dim='stations').sel(time=slice('1980-1-1','2018-12-31'))\n",
    "yAll=yAll/25.0"
   ]
  },
  {
   "cell_type": "code",
   "execution_count": 11,
   "metadata": {},
   "outputs": [],
   "source": [
    "t2m_train,t2m_test,ws_train,ws_test,rh_train,rh_test,inv_train,inv_test, w_train, w_test,ushear_train, ushear_test,AO1D_train,AO1D_test,AO5D_train,AO5D_test,AO7D_train,AO7D_test,AO14D_train,AO14D_test,AO30D_train,AO30D_test,y_train,y_test= train_test_split( t2mTsAll,wsTsAll,rhTsAll,invTsAll, wTsAll,ushearTsAll,AO1DAll,AO5DAll,AO7DAll,AO14DAll,AO30DAll,yAll,test_size=0.20, random_state=0)"
   ]
  },
  {
   "cell_type": "code",
   "execution_count": 12,
   "metadata": {},
   "outputs": [
    {
     "data": {
      "text/plain": [
       "(1934, 18, 26, 1)"
      ]
     },
     "execution_count": 12,
     "metadata": {},
     "output_type": "execute_result"
    }
   ],
   "source": [
    "t2mtrain=t2m_train.values\n",
    "t2mtrain=t2mtrain[:,:,:,None]\n",
    "t2mtrain.shape\n",
    "\n",
    "\n",
    "wstrain=ws_train.values\n",
    "wstrain=wstrain[:,:,:,None]\n",
    "wstrain.shape\n",
    "\n",
    "rhtrain=rh_train.values\n",
    "rhtrain=rhtrain[:,:,:,None]\n",
    "rhtrain.shape\n",
    "\n",
    "\n",
    "invtrain=inv_train.values\n",
    "invtrain=invtrain[:,:,:,None]\n",
    "invtrain.shape\n",
    "\n",
    "wtrain=w_train.values\n",
    "wtrain=wtrain[:,:,:,None]\n",
    "wtrain.shape\n",
    "\n",
    "usheartrain=ushear_train.values\n",
    "usheartrain=usheartrain[:,:,:,None]\n",
    "usheartrain.shape\n",
    "\n",
    "AO1Dtrain=AO1D_train.values\n",
    "AO1Dtrain=AO1Dtrain[:,:,:,None]\n",
    "AO1Dtrain.shape\n",
    "\n",
    "AO5Dtrain=AO5D_train.values\n",
    "AO5Dtrain=AO5Dtrain[:,:,:,None]\n",
    "AO5Dtrain.shape\n",
    "\n",
    "AO7Dtrain=AO7D_train.values\n",
    "AO7Dtrain=AO7Dtrain[:,:,:,None]\n",
    "AO7Dtrain.shape\n",
    "\n",
    "AO14Dtrain=AO14D_train.values\n",
    "AO14Dtrain=AO14Dtrain[:,:,:,None]\n",
    "AO14Dtrain.shape\n",
    "\n",
    "AO30Dtrain=AO30D_train.values\n",
    "AO30Dtrain=AO30Dtrain[:,:,:,None]\n",
    "AO30Dtrain.shape"
   ]
  },
  {
   "cell_type": "code",
   "execution_count": 13,
   "metadata": {},
   "outputs": [
    {
     "data": {
      "text/plain": [
       "(484, 18, 26, 1)"
      ]
     },
     "execution_count": 13,
     "metadata": {},
     "output_type": "execute_result"
    }
   ],
   "source": [
    "t2mtest=t2m_test.values\n",
    "t2mtest=t2mtest[:,:,:,None]\n",
    "t2mtest.shape\n",
    "\n",
    "\n",
    "wstest=ws_test.values\n",
    "wstest=wstest[:,:,:,None]\n",
    "wstest.shape\n",
    "\n",
    "rhtest=rh_test.values\n",
    "rhtest=rhtest[:,:,:,None]\n",
    "rhtest.shape\n",
    "\n",
    "\n",
    "invtest=inv_test.values\n",
    "invtest=invtest[:,:,:,None]\n",
    "invtest.shape\n",
    "\n",
    "wtest=w_test.values\n",
    "wtest=wtest[:,:,:,None]\n",
    "wtest.shape\n",
    "\n",
    "usheartest=ushear_test.values\n",
    "usheartest=usheartest[:,:,:,None]\n",
    "usheartest.shape\n",
    "\n",
    "AO1Dtest=AO1D_test.values\n",
    "AO1Dtest=AO1Dtest[:,:,:,None]\n",
    "AO1Dtest.shape\n",
    "\n",
    "AO5Dtest=AO5D_test.values\n",
    "AO5Dtest=AO5Dtest[:,:,:,None]\n",
    "AO5Dtest.shape\n",
    "\n",
    "AO7Dtest=AO7D_test.values\n",
    "AO7Dtest=AO7Dtest[:,:,:,None]\n",
    "AO7Dtest.shape\n",
    "\n",
    "AO14Dtest=AO14D_test.values\n",
    "AO14Dtest=AO14Dtest[:,:,:,None]\n",
    "AO14Dtest.shape\n",
    "\n",
    "AO30Dtest=AO30D_test.values\n",
    "AO30Dtest=AO30Dtest[:,:,:,None]\n",
    "AO30Dtest.shape"
   ]
  },
  {
   "cell_type": "code",
   "execution_count": 14,
   "metadata": {},
   "outputs": [
    {
     "data": {
      "text/plain": [
       "(484, 1)"
      ]
     },
     "execution_count": 14,
     "metadata": {},
     "output_type": "execute_result"
    }
   ],
   "source": [
    "ytrain=y_train.values\n",
    "ytrain=ytrain[:,None]\n",
    "ytrain.shape\n",
    "ytest=y_test.values\n",
    "ytest=ytest[:,None]\n",
    "ytest.shape"
   ]
  },
  {
   "cell_type": "markdown",
   "metadata": {},
   "source": [
    "#AO1D"
   ]
  },
  {
   "cell_type": "code",
   "execution_count": 17,
   "metadata": {},
   "outputs": [
    {
     "name": "stdout",
     "output_type": "stream",
     "text": [
      "WARNING:tensorflow:Keras is training/fitting/evaluating on array-like data. Keras may not be optimized for this format, so if your input data format is supported by TensorFlow I/O (https://github.com/tensorflow/io) we recommend using that to load a Dataset instead.\n",
      "Epoch 1/20\n",
      "61/61 [==============================] - 4s 23ms/step - loss: 0.1978 - mse: 0.0629\n",
      "Epoch 2/20\n",
      "61/61 [==============================] - 1s 21ms/step - loss: 0.1693 - mse: 0.0448\n",
      "Epoch 3/20\n",
      "61/61 [==============================] - 1s 20ms/step - loss: 0.1563 - mse: 0.0383\n",
      "Epoch 4/20\n",
      "61/61 [==============================] - 1s 21ms/step - loss: 0.1292 - mse: 0.0271\n",
      "Epoch 5/20\n",
      "61/61 [==============================] - 1s 21ms/step - loss: 0.1213 - mse: 0.0242\n",
      "Epoch 6/20\n",
      "61/61 [==============================] - 1s 21ms/step - loss: 0.1121 - mse: 0.0209\n",
      "Epoch 7/20\n",
      "61/61 [==============================] - 1s 21ms/step - loss: 0.1006 - mse: 0.0172\n",
      "Epoch 8/20\n",
      "61/61 [==============================] - 1s 21ms/step - loss: 0.1027 - mse: 0.0179\n",
      "Epoch 9/20\n",
      "61/61 [==============================] - 1s 21ms/step - loss: 0.1000 - mse: 0.0172\n",
      "Epoch 10/20\n",
      "61/61 [==============================] - 1s 20ms/step - loss: 0.0915 - mse: 0.0140\n",
      "Epoch 11/20\n",
      "61/61 [==============================] - 1s 20ms/step - loss: 0.0901 - mse: 0.0139\n",
      "Epoch 12/20\n",
      "61/61 [==============================] - 1s 21ms/step - loss: 0.0856 - mse: 0.0126\n",
      "Epoch 13/20\n",
      "61/61 [==============================] - 1s 20ms/step - loss: 0.0827 - mse: 0.0118\n",
      "Epoch 14/20\n",
      "61/61 [==============================] - 1s 20ms/step - loss: 0.0819 - mse: 0.0117\n",
      "Epoch 15/20\n",
      "61/61 [==============================] - 1s 21ms/step - loss: 0.0808 - mse: 0.0117\n",
      "Epoch 16/20\n",
      "61/61 [==============================] - 1s 20ms/step - loss: 0.0743 - mse: 0.0097\n",
      "Epoch 17/20\n",
      "61/61 [==============================] - 1s 21ms/step - loss: 0.0770 - mse: 0.0101\n",
      "Epoch 18/20\n",
      "61/61 [==============================] - 1s 20ms/step - loss: 0.0725 - mse: 0.0091\n",
      "Epoch 19/20\n",
      "61/61 [==============================] - 1s 20ms/step - loss: 0.0719 - mse: 0.0088\n",
      "Epoch 20/20\n",
      "61/61 [==============================] - 1s 21ms/step - loss: 0.0721 - mse: 0.0091\n",
      "WARNING:tensorflow:Keras is training/fitting/evaluating on array-like data. Keras may not be optimized for this format, so if your input data format is supported by TensorFlow I/O (https://github.com/tensorflow/io) we recommend using that to load a Dataset instead.\n",
      "mse: 1.55%\n"
     ]
    },
    {
     "data": {
      "image/png": "[encoded data removed]",
      "text/plain": [
       "<Figure size 432x288 with 1 Axes>"
      ]
     },
     "metadata": {
      "needs_background": "light"
     },
     "output_type": "display_data"
    }
   ],
   "source": [
    "X_test=np.array([t2mtest,rhtest,wstest,invtest,wtest,usheartest,AO1Dtest])\n",
    "#X_test=np.array([rhtest,wstest,invtest,wtest,usheartest,aotest,eutest])\n",
    "X_test.shape\n",
    "\n",
    "X_train=np.array([t2mtrain,rhtrain,wstrain,invtrain,wtrain,usheartrain,AO1Dtrain])\n",
    "#X_train=np.array([rhtrain,wstrain,invtrain,wtrain,usheartrain,aotrain,eutrain])\n",
    "X_train.shape\n",
    "\n",
    "X_train_reshape = np.einsum('lkija->klija',X_train)\n",
    "X_train_reshape.shape\n",
    "\n",
    "X_test_reshape = np.einsum('lkija->klija',X_test)\n",
    "X_test_reshape.shape\n",
    "\n",
    "\n",
    "model = Sequential()\n",
    "model.add(Conv3D(16, kernel_size=3, activation='relu',padding='same',\n",
    "                     input_shape=(X_train_reshape.shape[1],X_train_reshape.shape[2],X_train_reshape.shape[3],1)),)\n",
    "model.add(AveragePooling3D(pool_size=2,padding='same'))\n",
    "model.add(Conv3D(32, kernel_size=3, activation='relu',padding='same'))\n",
    "model.add(AveragePooling3D(pool_size=2,padding='same'))\n",
    "model.add(Dropout(0.2))\n",
    "model.add(Conv3D(64, kernel_size=3, activation='relu',padding='same'))\n",
    "model.add(AveragePooling3D(pool_size=2,padding='same'))\n",
    "model.add(Dropout(0.2))\n",
    "\n",
    "\n",
    "model.add(Flatten())\n",
    "\n",
    "model.add(Dense(32, activation='relu'))\n",
    "model.add(Dense(units=1, activation = 'linear'))\n",
    "\n",
    "adam = keras.optimizers.Adam(lr=0.01)\n",
    "model.compile(optimizer='adam', loss='mae',  metrics='mse')\n",
    "history = model.fit(X_train_reshape, y_train, epochs=20)\n",
    "yy_test = model.predict(X_test_reshape)\n",
    "    \n",
    "test_corr = np.corrcoef(yy_test[:,0],y_test)[0,1]\n",
    "plt.title('corr = %f'%test_corr)\n",
    "\n",
    "plt.plot(yy_test,y_test,'+')\n",
    "scores = model.evaluate(X_test_reshape, y_test, verbose=0)\n",
    "print(\"%s: %.2f%%\" % (model.metrics_names[1], scores[1]*100))"
   ]
  },
  {
   "cell_type": "markdown",
   "metadata": {},
   "source": [
    "#AO5D"
   ]
  },
  {
   "cell_type": "code",
   "execution_count": 18,
   "metadata": {},
   "outputs": [
    {
     "name": "stdout",
     "output_type": "stream",
     "text": [
      "WARNING:tensorflow:Keras is training/fitting/evaluating on array-like data. Keras may not be optimized for this format, so if your input data format is supported by TensorFlow I/O (https://github.com/tensorflow/io) we recommend using that to load a Dataset instead.\n",
      "Epoch 1/20\n",
      "61/61 [==============================] - 2s 21ms/step - loss: 0.1832 - mse: 0.0549\n",
      "Epoch 2/20\n",
      "61/61 [==============================] - 1s 20ms/step - loss: 0.1663 - mse: 0.0440\n",
      "Epoch 3/20\n",
      "61/61 [==============================] - 1s 20ms/step - loss: 0.1435 - mse: 0.0333\n",
      "Epoch 4/20\n",
      "61/61 [==============================] - 1s 21ms/step - loss: 0.1290 - mse: 0.0272\n",
      "Epoch 5/20\n",
      "61/61 [==============================] - 1s 20ms/step - loss: 0.1223 - mse: 0.0248\n",
      "Epoch 6/20\n",
      "61/61 [==============================] - 1s 21ms/step - loss: 0.1085 - mse: 0.0205\n",
      "Epoch 7/20\n",
      "61/61 [==============================] - 1s 20ms/step - loss: 0.1045 - mse: 0.0185\n",
      "Epoch 8/20\n",
      "61/61 [==============================] - 1s 21ms/step - loss: 0.1019 - mse: 0.0181\n",
      "Epoch 9/20\n",
      "61/61 [==============================] - 1s 21ms/step - loss: 0.1014 - mse: 0.0169\n",
      "Epoch 10/20\n",
      "61/61 [==============================] - 1s 21ms/step - loss: 0.0970 - mse: 0.0161\n",
      "Epoch 11/20\n",
      "61/61 [==============================] - 1s 21ms/step - loss: 0.0876 - mse: 0.0133\n",
      "Epoch 12/20\n",
      "61/61 [==============================] - 1s 21ms/step - loss: 0.0875 - mse: 0.0131\n",
      "Epoch 13/20\n",
      "61/61 [==============================] - 1s 21ms/step - loss: 0.0878 - mse: 0.0129\n",
      "Epoch 14/20\n",
      "61/61 [==============================] - 1s 21ms/step - loss: 0.0812 - mse: 0.0116\n",
      "Epoch 15/20\n",
      "61/61 [==============================] - 1s 21ms/step - loss: 0.0815 - mse: 0.0113\n",
      "Epoch 16/20\n",
      "61/61 [==============================] - 1s 20ms/step - loss: 0.0738 - mse: 0.0095\n",
      "Epoch 17/20\n",
      "61/61 [==============================] - 1s 21ms/step - loss: 0.0798 - mse: 0.0108\n",
      "Epoch 18/20\n",
      "61/61 [==============================] - 1s 21ms/step - loss: 0.0728 - mse: 0.0091\n",
      "Epoch 19/20\n",
      "61/61 [==============================] - 1s 20ms/step - loss: 0.0697 - mse: 0.0083\n",
      "Epoch 20/20\n",
      "61/61 [==============================] - 1s 21ms/step - loss: 0.0701 - mse: 0.0086\n",
      "WARNING:tensorflow:Keras is training/fitting/evaluating on array-like data. Keras may not be optimized for this format, so if your input data format is supported by TensorFlow I/O (https://github.com/tensorflow/io) we recommend using that to load a Dataset instead.\n",
      "mse: 1.23%\n"
     ]
    },
    {
     "data": {
      "image/png": "[encoded data removed]",
      "text/plain": [
       "<Figure size 432x288 with 1 Axes>"
      ]
     },
     "metadata": {
      "needs_background": "light"
     },
     "output_type": "display_data"
    }
   ],
   "source": [
    "X_test=np.array([t2mtest,rhtest,wstest,invtest,wtest,usheartest,AO5Dtest])\n",
    "#X_test=np.array([rhtest,wstest,invtest,wtest,usheartest,aotest,eutest])\n",
    "X_test.shape\n",
    "\n",
    "X_train=np.array([t2mtrain,rhtrain,wstrain,invtrain,wtrain,usheartrain,AO5Dtrain])\n",
    "#X_train=np.array([rhtrain,wstrain,invtrain,wtrain,usheartrain,aotrain,eutrain])\n",
    "X_train.shape\n",
    "\n",
    "X_train_reshape = np.einsum('lkija->klija',X_train)\n",
    "X_train_reshape.shape\n",
    "\n",
    "X_test_reshape = np.einsum('lkija->klija',X_test)\n",
    "X_test_reshape.shape\n",
    "\n",
    "\n",
    "model = Sequential()\n",
    "model.add(Conv3D(16, kernel_size=3, activation='relu',padding='same',\n",
    "                     input_shape=(X_train_reshape.shape[1],X_train_reshape.shape[2],X_train_reshape.shape[3],1)),)\n",
    "model.add(AveragePooling3D(pool_size=2,padding='same'))\n",
    "model.add(Conv3D(32, kernel_size=3, activation='relu',padding='same'))\n",
    "model.add(AveragePooling3D(pool_size=2,padding='same'))\n",
    "model.add(Dropout(0.2))\n",
    "model.add(Conv3D(64, kernel_size=3, activation='relu',padding='same'))\n",
    "model.add(AveragePooling3D(pool_size=2,padding='same'))\n",
    "model.add(Dropout(0.2))\n",
    "\n",
    "\n",
    "model.add(Flatten())\n",
    "\n",
    "model.add(Dense(32, activation='relu'))\n",
    "model.add(Dense(units=1, activation = 'linear'))\n",
    "\n",
    "adam = keras.optimizers.Adam(lr=0.01)\n",
    "model.compile(optimizer='adam', loss='mae',  metrics='mse')\n",
    "history = model.fit(X_train_reshape, y_train, epochs=20)\n",
    "yy_test = model.predict(X_test_reshape)\n",
    "    \n",
    "test_corr = np.corrcoef(yy_test[:,0],y_test)[0,1]\n",
    "plt.title('corr = %f'%test_corr)\n",
    "\n",
    "plt.plot(yy_test,y_test,'+')\n",
    "scores = model.evaluate(X_test_reshape, y_test, verbose=0)\n",
    "print(\"%s: %.2f%%\" % (model.metrics_names[1], scores[1]*100))"
   ]
  },
  {
   "cell_type": "markdown",
   "metadata": {},
   "source": [
    "#AO7D"
   ]
  },
  {
   "cell_type": "code",
   "execution_count": 19,
   "metadata": {},
   "outputs": [
    {
     "name": "stdout",
     "output_type": "stream",
     "text": [
      "WARNING:tensorflow:Keras is training/fitting/evaluating on array-like data. Keras may not be optimized for this format, so if your input data format is supported by TensorFlow I/O (https://github.com/tensorflow/io) we recommend using that to load a Dataset instead.\n",
      "Epoch 1/20\n",
      "61/61 [==============================] - 2s 21ms/step - loss: 0.1939 - mse: 0.0617\n",
      "Epoch 2/20\n",
      "61/61 [==============================] - 1s 20ms/step - loss: 0.1659 - mse: 0.0412\n",
      "Epoch 3/20\n",
      "61/61 [==============================] - 1s 20ms/step - loss: 0.1311 - mse: 0.0282\n",
      "Epoch 4/20\n",
      "61/61 [==============================] - 1s 19ms/step - loss: 0.1199 - mse: 0.0241\n",
      "Epoch 5/20\n",
      "61/61 [==============================] - 1s 21ms/step - loss: 0.1089 - mse: 0.0194\n",
      "Epoch 6/20\n",
      "61/61 [==============================] - 1s 20ms/step - loss: 0.1122 - mse: 0.0207\n",
      "Epoch 7/20\n",
      "61/61 [==============================] - 1s 20ms/step - loss: 0.1049 - mse: 0.0185\n",
      "Epoch 8/20\n",
      "61/61 [==============================] - 1s 20ms/step - loss: 0.1001 - mse: 0.0171\n",
      "Epoch 9/20\n",
      "61/61 [==============================] - 1s 20ms/step - loss: 0.0953 - mse: 0.0151\n",
      "Epoch 10/20\n",
      "61/61 [==============================] - 1s 20ms/step - loss: 0.0937 - mse: 0.0149\n",
      "Epoch 11/20\n",
      "61/61 [==============================] - 1s 20ms/step - loss: 0.0890 - mse: 0.0136\n",
      "Epoch 12/20\n",
      "61/61 [==============================] - 1s 20ms/step - loss: 0.0884 - mse: 0.0136\n",
      "Epoch 13/20\n",
      "61/61 [==============================] - 1s 20ms/step - loss: 0.0885 - mse: 0.0135\n",
      "Epoch 14/20\n",
      "61/61 [==============================] - 1s 20ms/step - loss: 0.0823 - mse: 0.0114\n",
      "Epoch 15/20\n",
      "61/61 [==============================] - 1s 20ms/step - loss: 0.0799 - mse: 0.0109\n",
      "Epoch 16/20\n",
      "61/61 [==============================] - 1s 20ms/step - loss: 0.0842 - mse: 0.0119\n",
      "Epoch 17/20\n",
      "61/61 [==============================] - 1s 19ms/step - loss: 0.0789 - mse: 0.0104\n",
      "Epoch 18/20\n",
      "61/61 [==============================] - 1s 19ms/step - loss: 0.0758 - mse: 0.0096\n",
      "Epoch 19/20\n",
      "61/61 [==============================] - 1s 20ms/step - loss: 0.0734 - mse: 0.0094\n",
      "Epoch 20/20\n",
      "61/61 [==============================] - 1s 19ms/step - loss: 0.0703 - mse: 0.0086\n",
      "WARNING:tensorflow:Keras is training/fitting/evaluating on array-like data. Keras may not be optimized for this format, so if your input data format is supported by TensorFlow I/O (https://github.com/tensorflow/io) we recommend using that to load a Dataset instead.\n",
      "mse: 1.33%\n"
     ]
    },
    {
     "data": {
      "image/png": "[encoded data removed]",
      "text/plain": [
       "<Figure size 432x288 with 1 Axes>"
      ]
     },
     "metadata": {
      "needs_background": "light"
     },
     "output_type": "display_data"
    }
   ],
   "source": [
    "X_test=np.array([t2mtest,rhtest,wstest,invtest,wtest,usheartest,AO7Dtest])\n",
    "#X_test=np.array([rhtest,wstest,invtest,wtest,usheartest,aotest,eutest])\n",
    "X_test.shape\n",
    "\n",
    "X_train=np.array([t2mtrain,rhtrain,wstrain,invtrain,wtrain,usheartrain,AO7Dtrain])\n",
    "#X_train=np.array([rhtrain,wstrain,invtrain,wtrain,usheartrain,aotrain,eutrain])\n",
    "X_train.shape\n",
    "\n",
    "X_train_reshape = np.einsum('lkija->klija',X_train)\n",
    "X_train_reshape.shape\n",
    "\n",
    "X_test_reshape = np.einsum('lkija->klija',X_test)\n",
    "X_test_reshape.shape\n",
    "\n",
    "\n",
    "model = Sequential()\n",
    "model.add(Conv3D(16, kernel_size=3, activation='relu',padding='same',\n",
    "                     input_shape=(X_train_reshape.shape[1],X_train_reshape.shape[2],X_train_reshape.shape[3],1)),)\n",
    "model.add(AveragePooling3D(pool_size=2,padding='same'))\n",
    "model.add(Conv3D(32, kernel_size=3, activation='relu',padding='same'))\n",
    "model.add(AveragePooling3D(pool_size=2,padding='same'))\n",
    "model.add(Dropout(0.2))\n",
    "model.add(Conv3D(64, kernel_size=3, activation='relu',padding='same'))\n",
    "model.add(AveragePooling3D(pool_size=2,padding='same'))\n",
    "model.add(Dropout(0.2))\n",
    "\n",
    "\n",
    "model.add(Flatten())\n",
    "\n",
    "model.add(Dense(32, activation='relu'))\n",
    "model.add(Dense(units=1, activation = 'linear'))\n",
    "\n",
    "adam = keras.optimizers.Adam(lr=0.01)\n",
    "model.compile(optimizer='adam', loss='mae',  metrics='mse')\n",
    "history = model.fit(X_train_reshape, y_train, epochs=20)\n",
    "yy_test = model.predict(X_test_reshape)\n",
    "    \n",
    "test_corr = np.corrcoef(yy_test[:,0],y_test)[0,1]\n",
    "plt.title('corr = %f'%test_corr)\n",
    "\n",
    "plt.plot(yy_test,y_test,'+')\n",
    "scores = model.evaluate(X_test_reshape, y_test, verbose=0)\n",
    "print(\"%s: %.2f%%\" % (model.metrics_names[1], scores[1]*100))"
   ]
  },
  {
   "cell_type": "markdown",
   "metadata": {},
   "source": [
    "#AO14D"
   ]
  },
  {
   "cell_type": "code",
   "execution_count": 20,
   "metadata": {},
   "outputs": [
    {
     "name": "stdout",
     "output_type": "stream",
     "text": [
      "WARNING:tensorflow:Keras is training/fitting/evaluating on array-like data. Keras may not be optimized for this format, so if your input data format is supported by TensorFlow I/O (https://github.com/tensorflow/io) we recommend using that to load a Dataset instead.\n",
      "Epoch 1/20\n",
      "61/61 [==============================] - 2s 21ms/step - loss: 0.2130 - mse: 0.0721\n",
      "Epoch 2/20\n",
      "61/61 [==============================] - 1s 20ms/step - loss: 0.1767 - mse: 0.0479\n",
      "Epoch 3/20\n",
      "61/61 [==============================] - 1s 19ms/step - loss: 0.1680 - mse: 0.0452\n",
      "Epoch 4/20\n",
      "61/61 [==============================] - 1s 21ms/step - loss: 0.1442 - mse: 0.0333\n",
      "Epoch 5/20\n",
      "61/61 [==============================] - 1s 20ms/step - loss: 0.1192 - mse: 0.0236\n",
      "Epoch 6/20\n",
      "61/61 [==============================] - 1s 19ms/step - loss: 0.1110 - mse: 0.0211\n",
      "Epoch 7/20\n",
      "61/61 [==============================] - 1s 19ms/step - loss: 0.1017 - mse: 0.0182\n",
      "Epoch 8/20\n",
      "61/61 [==============================] - 1s 19ms/step - loss: 0.1009 - mse: 0.0171\n",
      "Epoch 9/20\n",
      "61/61 [==============================] - 1s 19ms/step - loss: 0.0966 - mse: 0.0154\n",
      "Epoch 10/20\n",
      "61/61 [==============================] - 1s 19ms/step - loss: 0.0969 - mse: 0.0157\n",
      "Epoch 11/20\n",
      "61/61 [==============================] - 1s 20ms/step - loss: 0.0948 - mse: 0.0151\n",
      "Epoch 12/20\n",
      "61/61 [==============================] - 1s 19ms/step - loss: 0.0896 - mse: 0.0139\n",
      "Epoch 13/20\n",
      "61/61 [==============================] - 1s 19ms/step - loss: 0.0873 - mse: 0.0126\n",
      "Epoch 14/20\n",
      "61/61 [==============================] - 1s 19ms/step - loss: 0.0853 - mse: 0.0124\n",
      "Epoch 15/20\n",
      "61/61 [==============================] - 1s 19ms/step - loss: 0.0850 - mse: 0.0123\n",
      "Epoch 16/20\n",
      "61/61 [==============================] - 1s 19ms/step - loss: 0.0833 - mse: 0.0118\n",
      "Epoch 17/20\n",
      "61/61 [==============================] - 1s 19ms/step - loss: 0.0807 - mse: 0.0110\n",
      "Epoch 18/20\n",
      "61/61 [==============================] - 1s 19ms/step - loss: 0.0750 - mse: 0.0101\n",
      "Epoch 19/20\n",
      "61/61 [==============================] - 1s 19ms/step - loss: 0.0807 - mse: 0.0111\n",
      "Epoch 20/20\n",
      "61/61 [==============================] - 1s 19ms/step - loss: 0.0738 - mse: 0.0095\n",
      "WARNING:tensorflow:Keras is training/fitting/evaluating on array-like data. Keras may not be optimized for this format, so if your input data format is supported by TensorFlow I/O (https://github.com/tensorflow/io) we recommend using that to load a Dataset instead.\n",
      "mse: 1.28%\n"
     ]
    },
    {
     "data": {
      "image/png": "[encoded data removed]",
      "text/plain": [
       "<Figure size 432x288 with 1 Axes>"
      ]
     },
     "metadata": {
      "needs_background": "light"
     },
     "output_type": "display_data"
    }
   ],
   "source": [
    "X_test=np.array([t2mtest,rhtest,wstest,invtest,wtest,usheartest,AO14Dtest])\n",
    "#X_test=np.array([rhtest,wstest,invtest,wtest,usheartest,aotest,eutest])\n",
    "X_test.shape\n",
    "\n",
    "X_train=np.array([t2mtrain,rhtrain,wstrain,invtrain,wtrain,usheartrain,AO14Dtrain])\n",
    "#X_train=np.array([rhtrain,wstrain,invtrain,wtrain,usheartrain,aotrain,eutrain])\n",
    "X_train.shape\n",
    "\n",
    "X_train_reshape = np.einsum('lkija->klija',X_train)\n",
    "X_train_reshape.shape\n",
    "\n",
    "X_test_reshape = np.einsum('lkija->klija',X_test)\n",
    "X_test_reshape.shape\n",
    "\n",
    "\n",
    "model = Sequential()\n",
    "model.add(Conv3D(16, kernel_size=3, activation='relu',padding='same',\n",
    "                     input_shape=(X_train_reshape.shape[1],X_train_reshape.shape[2],X_train_reshape.shape[3],1)),)\n",
    "model.add(AveragePooling3D(pool_size=2,padding='same'))\n",
    "model.add(Conv3D(32, kernel_size=3, activation='relu',padding='same'))\n",
    "model.add(AveragePooling3D(pool_size=2,padding='same'))\n",
    "model.add(Dropout(0.2))\n",
    "model.add(Conv3D(64, kernel_size=3, activation='relu',padding='same'))\n",
    "model.add(AveragePooling3D(pool_size=2,padding='same'))\n",
    "model.add(Dropout(0.2))\n",
    "\n",
    "\n",
    "model.add(Flatten())\n",
    "\n",
    "model.add(Dense(32, activation='relu'))\n",
    "model.add(Dense(units=1, activation = 'linear'))\n",
    "\n",
    "adam = keras.optimizers.Adam(lr=0.01)\n",
    "model.compile(optimizer='adam', loss='mae',  metrics='mse')\n",
    "history = model.fit(X_train_reshape, y_train, epochs=20)\n",
    "yy_test = model.predict(X_test_reshape)\n",
    "    \n",
    "test_corr = np.corrcoef(yy_test[:,0],y_test)[0,1]\n",
    "plt.title('corr = %f'%test_corr)\n",
    "\n",
    "plt.plot(yy_test,y_test,'+')\n",
    "scores = model.evaluate(X_test_reshape, y_test, verbose=0)\n",
    "print(\"%s: %.2f%%\" % (model.metrics_names[1], scores[1]*100))"
   ]
  },
  {
   "cell_type": "markdown",
   "metadata": {},
   "source": [
    "#AO30D"
   ]
  },
  {
   "cell_type": "code",
   "execution_count": 21,
   "metadata": {},
   "outputs": [
    {
     "name": "stdout",
     "output_type": "stream",
     "text": [
      "WARNING:tensorflow:Keras is training/fitting/evaluating on array-like data. Keras may not be optimized for this format, so if your input data format is supported by TensorFlow I/O (https://github.com/tensorflow/io) we recommend using that to load a Dataset instead.\n",
      "Epoch 1/20\n",
      "61/61 [==============================] - 2s 20ms/step - loss: 0.2067 - mse: 0.0687\n",
      "Epoch 2/20\n",
      "61/61 [==============================] - 1s 19ms/step - loss: 0.1721 - mse: 0.0467\n",
      "Epoch 3/20\n",
      "61/61 [==============================] - 1s 19ms/step - loss: 0.1728 - mse: 0.0473\n",
      "Epoch 4/20\n",
      "61/61 [==============================] - 1s 19ms/step - loss: 0.1395 - mse: 0.0327\n",
      "Epoch 5/20\n",
      "61/61 [==============================] - 1s 19ms/step - loss: 0.1283 - mse: 0.0264\n",
      "Epoch 6/20\n",
      "61/61 [==============================] - 1s 20ms/step - loss: 0.1152 - mse: 0.0223\n",
      "Epoch 7/20\n",
      "61/61 [==============================] - 1s 19ms/step - loss: 0.1085 - mse: 0.0200\n",
      "Epoch 8/20\n",
      "61/61 [==============================] - 1s 20ms/step - loss: 0.1064 - mse: 0.0190\n",
      "Epoch 9/20\n",
      "61/61 [==============================] - 1s 21ms/step - loss: 0.0967 - mse: 0.0158\n",
      "Epoch 10/20\n",
      "61/61 [==============================] - 1s 21ms/step - loss: 0.0979 - mse: 0.0165\n",
      "Epoch 11/20\n",
      "61/61 [==============================] - 1s 20ms/step - loss: 0.0935 - mse: 0.0150\n",
      "Epoch 12/20\n",
      "61/61 [==============================] - 1s 20ms/step - loss: 0.0949 - mse: 0.0154\n",
      "Epoch 13/20\n",
      "61/61 [==============================] - 1s 20ms/step - loss: 0.0892 - mse: 0.0136\n",
      "Epoch 14/20\n",
      "61/61 [==============================] - 1s 20ms/step - loss: 0.0884 - mse: 0.0138\n",
      "Epoch 15/20\n",
      "61/61 [==============================] - 1s 19ms/step - loss: 0.0858 - mse: 0.0125\n",
      "Epoch 16/20\n",
      "61/61 [==============================] - 1s 20ms/step - loss: 0.0820 - mse: 0.0116\n",
      "Epoch 17/20\n",
      "61/61 [==============================] - 1s 19ms/step - loss: 0.0803 - mse: 0.0111\n",
      "Epoch 18/20\n",
      "61/61 [==============================] - 1s 19ms/step - loss: 0.0772 - mse: 0.0105\n",
      "Epoch 19/20\n",
      "61/61 [==============================] - 1s 20ms/step - loss: 0.0778 - mse: 0.0104\n",
      "Epoch 20/20\n",
      "61/61 [==============================] - 1s 19ms/step - loss: 0.0790 - mse: 0.0112\n",
      "WARNING:tensorflow:Keras is training/fitting/evaluating on array-like data. Keras may not be optimized for this format, so if your input data format is supported by TensorFlow I/O (https://github.com/tensorflow/io) we recommend using that to load a Dataset instead.\n",
      "mse: 1.29%\n"
     ]
    },
    {
     "data": {
      "image/png": "[encoded data removed]",
      "text/plain": [
       "<Figure size 432x288 with 1 Axes>"
      ]
     },
     "metadata": {
      "needs_background": "light"
     },
     "output_type": "display_data"
    }
   ],
   "source": [
    "X_test=np.array([t2mtest,rhtest,wstest,invtest,wtest,usheartest,AO30Dtest])\n",
    "#X_test=np.array([rhtest,wstest,invtest,wtest,usheartest,aotest,eutest])\n",
    "X_test.shape\n",
    "\n",
    "X_train=np.array([t2mtrain,rhtrain,wstrain,invtrain,wtrain,usheartrain,AO30Dtrain])\n",
    "#X_train=np.array([rhtrain,wstrain,invtrain,wtrain,usheartrain,aotrain,eutrain])\n",
    "X_train.shape\n",
    "\n",
    "X_train_reshape = np.einsum('lkija->klija',X_train)\n",
    "X_train_reshape.shape\n",
    "\n",
    "X_test_reshape = np.einsum('lkija->klija',X_test)\n",
    "X_test_reshape.shape\n",
    "\n",
    "\n",
    "model = Sequential()\n",
    "model.add(Conv3D(16, kernel_size=3, activation='relu',padding='same',\n",
    "                     input_shape=(X_train_reshape.shape[1],X_train_reshape.shape[2],X_train_reshape.shape[3],1)),)\n",
    "model.add(AveragePooling3D(pool_size=2,padding='same'))\n",
    "model.add(Conv3D(32, kernel_size=3, activation='relu',padding='same'))\n",
    "model.add(AveragePooling3D(pool_size=2,padding='same'))\n",
    "model.add(Dropout(0.2))\n",
    "model.add(Conv3D(64, kernel_size=3, activation='relu',padding='same'))\n",
    "model.add(AveragePooling3D(pool_size=2,padding='same'))\n",
    "model.add(Dropout(0.2))\n",
    "\n",
    "\n",
    "model.add(Flatten())\n",
    "\n",
    "model.add(Dense(32, activation='relu'))\n",
    "model.add(Dense(units=1, activation = 'linear'))\n",
    "\n",
    "adam = keras.optimizers.Adam(lr=0.01)\n",
    "model.compile(optimizer='adam', loss='mae',  metrics='mse')\n",
    "history = model.fit(X_train_reshape, y_train, epochs=20)\n",
    "yy_test = model.predict(X_test_reshape)\n",
    "    \n",
    "test_corr = np.corrcoef(yy_test[:,0],y_test)[0,1]\n",
    "plt.title('corr = %f'%test_corr)\n",
    "\n",
    "plt.plot(yy_test,y_test,'+')\n",
    "scores = model.evaluate(X_test_reshape, y_test, verbose=0)\n",
    "print(\"%s: %.2f%%\" % (model.metrics_names[1], scores[1]*100))"
   ]
  },
  {
   "cell_type": "code",
   "execution_count": null,
   "metadata": {},
   "outputs": [],
   "source": []
  }
 ],
 "metadata": {
  "kernelspec": {
   "display_name": "Python 3",
   "language": "python",
   "name": "python3"
  },
  "language_info": {
   "codemirror_mode": {
    "name": "ipython",
    "version": 3
   },
   "file_extension": ".py",
   "mimetype": "text/x-python",
   "name": "python",
   "nbconvert_exporter": "python",
   "pygments_lexer": "ipython3",
   "version": "3.8.5"
  }
 },
 "nbformat": 4,
 "nbformat_minor": 4
}
