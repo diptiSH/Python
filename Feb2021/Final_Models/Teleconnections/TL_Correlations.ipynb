{
 "cells": [
  {
   "cell_type": "code",
   "execution_count": 53,
   "metadata": {},
   "outputs": [],
   "source": [
    "import xarray as xr\n",
    "import numpy as np\n",
    "import pandas as pd\n",
    "import datetime\n",
    "import matplotlib.pyplot as plt\n",
    "from joblib import dump, load\n",
    "from sklearn.model_selection import train_test_split\n",
    "import math as mt\n",
    "from math import e\n",
    "from sklearn.preprocessing import StandardScaler"
   ]
  },
  {
   "cell_type": "markdown",
   "metadata": {},
   "source": [
    "#AO Data "
   ]
  },
  {
   "cell_type": "code",
   "execution_count": 2,
   "metadata": {},
   "outputs": [],
   "source": [
    "AOData = xr.open_dataset('../../../../Data/AO_EU/AO_Calculated.nc')\n",
    "aoTS=AOData.AO\n",
    "#ao=aoTS[((aoTS.time.dt.month>10) | (aoTS.time.dt.month<2)) & \n",
    "#        (aoTS.time.dt.year<2020)].sel(time=slice('1980-1-1','2018-12-31'))\n",
    "#ao"
   ]
  },
  {
   "cell_type": "markdown",
   "metadata": {},
   "source": [
    "#EU Data"
   ]
  },
  {
   "cell_type": "code",
   "execution_count": 3,
   "metadata": {},
   "outputs": [],
   "source": [
    "EUData = xr.open_dataset('../../../../Data/AO_EU/EU.nc')\n",
    "EUData.EUVal\n",
    "euTS=EUData.EUVal\n",
    "#eu=euTS[((euTS.time.dt.month>10) | (euTS.time.dt.month<2)) & \n",
    "#        (euTS.time.dt.year<2020)].sel(time=slice('1980-1-1','2018-12-31'))"
   ]
  },
  {
   "cell_type": "markdown",
   "metadata": {},
   "source": [
    "#SST Data"
   ]
  },
  {
   "cell_type": "code",
   "execution_count": 39,
   "metadata": {},
   "outputs": [],
   "source": [
    "sstData=xr.open_dataset('../../../../Data/eraDown/ERA5_2degree_Down/DailyMean/AnomERA5_sst_daily.nc')\n",
    "sst1=sstData.sst.sel(latitude=slice(5,-5),longitude=slice(-170%360,-120%360)) # nino3.4 region 5S-5N 170W-120W\n",
    "sstTS=sst1.mean(dim=['latitude','longitude'], skipna=True)  "
   ]
  },
  {
   "cell_type": "markdown",
   "metadata": {},
   "source": [
    "#Fog Data"
   ]
  },
  {
   "cell_type": "code",
   "execution_count": 7,
   "metadata": {},
   "outputs": [],
   "source": [
    "fogData = xr.open_dataset('../../../../Data/FogData/CombinedFogData_25Stations.nc')\n",
    "#plt.figure(figsize=[16,8])\n",
    "StackFog=fogData.fogdata.stack(a=('years','months','days'))\n",
    "StackFog\n",
    "dd =[];\n",
    "for i in range(StackFog.years.values.shape[0]):\n",
    "    dd=dd+[str(StackFog.years[i].values)+'-'+str(StackFog.months[i].values)+\"-\"+str(StackFog.days[i].values)]\n",
    "fg = xr.Dataset({'fogdata': (('time','stations'), StackFog.values.T)}, coords={'time': pd.to_datetime(dd),'stations': fogData.stations})\n",
    "y=fg.fogdata.sum(dim='stations').sel(time=slice('1980-1-1','2018-12-31'))\n",
    "y=y/25.0"
   ]
  },
  {
   "cell_type": "markdown",
   "metadata": {},
   "source": [
    "#Instantaneos i.e. day before Correlations"
   ]
  },
  {
   "cell_type": "code",
   "execution_count": 8,
   "metadata": {},
   "outputs": [],
   "source": [
    "AOVar=aoTS.shift(time=1)\n",
    "ao1D=AOVar[((AOVar.time.dt.month>11) | (AOVar.time.dt.month<2)) & \n",
    "           (AOVar.time.dt.year<2020)].sel(time=slice('1980-1-1','2018-12-31'))"
   ]
  },
  {
   "cell_type": "code",
   "execution_count": 9,
   "metadata": {},
   "outputs": [],
   "source": [
    "EUVar=euTS.shift(time=1)\n",
    "eu1D=EUVar[((EUVar.time.dt.month>11) | (EUVar.time.dt.month<2)) & \n",
    "           (EUVar.time.dt.year<2020)].sel(time=slice('1980-1-1','2018-12-31'))"
   ]
  },
  {
   "cell_type": "code",
   "execution_count": 41,
   "metadata": {},
   "outputs": [],
   "source": [
    "SSTVar=sstTS.shift(time=1)\n",
    "SST1D=SSTVar[((SSTVar.time.dt.month>11) | (SSTVar.time.dt.month<2)) & \n",
    "           (SSTVar.time.dt.year<2020)].sel(time=slice('1980-1-1','2018-12-31'))"
   ]
  },
  {
   "cell_type": "code",
   "execution_count": 10,
   "metadata": {},
   "outputs": [
    {
     "data": {
      "text/plain": [
       "0.004271596099816575"
      ]
     },
     "execution_count": 10,
     "metadata": {},
     "output_type": "execute_result"
    }
   ],
   "source": [
    "corr_AO = np.corrcoef(y,ao1D)[0,1]\n",
    "corr_AO"
   ]
  },
  {
   "cell_type": "code",
   "execution_count": 11,
   "metadata": {},
   "outputs": [
    {
     "data": {
      "text/plain": [
       "-0.01958108766806569"
      ]
     },
     "execution_count": 11,
     "metadata": {},
     "output_type": "execute_result"
    }
   ],
   "source": [
    "corr_EU = np.corrcoef(y,eu1D)[0,1]\n",
    "corr_EU"
   ]
  },
  {
   "cell_type": "code",
   "execution_count": 42,
   "metadata": {},
   "outputs": [
    {
     "data": {
      "text/plain": [
       "0.03982708201140668"
      ]
     },
     "execution_count": 42,
     "metadata": {},
     "output_type": "execute_result"
    }
   ],
   "source": [
    "corr_SST = np.corrcoef(y,SST1D)[0,1]\n",
    "corr_SST"
   ]
  },
  {
   "cell_type": "markdown",
   "metadata": {},
   "source": [
    "#5Day Mean Correlations"
   ]
  },
  {
   "cell_type": "code",
   "execution_count": 12,
   "metadata": {},
   "outputs": [],
   "source": [
    "FivedayMeanAO=aoTS.rolling(time=5).mean()\n",
    "ao5D=FivedayMeanAO[((FivedayMeanAO.time.dt.month>11) | (FivedayMeanAO.time.dt.month<2)) & \n",
    "           (FivedayMeanAO.time.dt.year<2020)].sel(time=slice('1980-1-1','2018-12-31'))"
   ]
  },
  {
   "cell_type": "code",
   "execution_count": 13,
   "metadata": {},
   "outputs": [],
   "source": [
    "FivedayMeanEU=euTS.rolling(time=5).mean()\n",
    "eu5D=FivedayMeanEU[((FivedayMeanEU.time.dt.month>11) | (FivedayMeanEU.time.dt.month<2)) & \n",
    "           (FivedayMeanEU.time.dt.year<2020)].sel(time=slice('1980-1-1','2018-12-31'))"
   ]
  },
  {
   "cell_type": "code",
   "execution_count": 43,
   "metadata": {},
   "outputs": [],
   "source": [
    "FivedayMeanSST=sstTS.rolling(time=5).mean()\n",
    "SST5D=FivedayMeanSST[((FivedayMeanSST.time.dt.month>11) | (FivedayMeanSST.time.dt.month<2)) & \n",
    "           (FivedayMeanSST.time.dt.year<2020)].sel(time=slice('1980-1-1','2018-12-31'))"
   ]
  },
  {
   "cell_type": "code",
   "execution_count": 14,
   "metadata": {},
   "outputs": [
    {
     "data": {
      "text/plain": [
       "-0.011599709602252867"
      ]
     },
     "execution_count": 14,
     "metadata": {},
     "output_type": "execute_result"
    }
   ],
   "source": [
    "corr_AO5D = np.corrcoef(y,ao5D)[0,1]\n",
    "corr_AO5D"
   ]
  },
  {
   "cell_type": "code",
   "execution_count": 15,
   "metadata": {},
   "outputs": [
    {
     "data": {
      "text/plain": [
       "-0.011485224923242176"
      ]
     },
     "execution_count": 15,
     "metadata": {},
     "output_type": "execute_result"
    }
   ],
   "source": [
    "corr_EU5D = np.corrcoef(y,eu5D)[0,1]\n",
    "corr_EU5D"
   ]
  },
  {
   "cell_type": "code",
   "execution_count": 44,
   "metadata": {},
   "outputs": [
    {
     "data": {
      "text/plain": [
       "0.04055574575695332"
      ]
     },
     "execution_count": 44,
     "metadata": {},
     "output_type": "execute_result"
    }
   ],
   "source": [
    "corr_SST5D = np.corrcoef(y,SST5D)[0,1]\n",
    "corr_SST5D"
   ]
  },
  {
   "cell_type": "markdown",
   "metadata": {},
   "source": [
    "#7 Day Mean Correlations"
   ]
  },
  {
   "cell_type": "code",
   "execution_count": 16,
   "metadata": {},
   "outputs": [],
   "source": [
    "SevendayMeanAO=aoTS.rolling(time=7).mean()\n",
    "ao7D=SevendayMeanAO[((SevendayMeanAO.time.dt.month>11) | (SevendayMeanAO.time.dt.month<2)) & \n",
    "           (SevendayMeanAO.time.dt.year<2020)].sel(time=slice('1980-1-1','2018-12-31'))\n",
    "SevendayMeanEU=euTS.rolling(time=7).mean()\n",
    "eu7D=SevendayMeanEU[((SevendayMeanEU.time.dt.month>11) | (SevendayMeanEU.time.dt.month<2)) & \n",
    "           (SevendayMeanEU.time.dt.year<2020)].sel(time=slice('1980-1-1','2018-12-31'))"
   ]
  },
  {
   "cell_type": "code",
   "execution_count": 17,
   "metadata": {},
   "outputs": [
    {
     "name": "stdout",
     "output_type": "stream",
     "text": [
      "-0.018467348338237582\n",
      "-0.005535713717814655\n"
     ]
    }
   ],
   "source": [
    "corr_AO7D = np.corrcoef(y,ao7D)[0,1]\n",
    "print(corr_AO7D)\n",
    "\n",
    "corr_EU7D = np.corrcoef(y,eu7D)[0,1]\n",
    "print(corr_EU7D)"
   ]
  },
  {
   "cell_type": "code",
   "execution_count": 47,
   "metadata": {},
   "outputs": [
    {
     "name": "stdout",
     "output_type": "stream",
     "text": [
      "0.0405565497931307\n"
     ]
    }
   ],
   "source": [
    "SevendayMeanSST=sstTS.rolling(time=7).mean()\n",
    "SST7D=SevendayMeanSST[((SevendayMeanSST.time.dt.month>11) | (SevendayMeanSST.time.dt.month<2)) & \n",
    "           (SevendayMeanSST.time.dt.year<2020)].sel(time=slice('1980-1-1','2018-12-31'))\n",
    "corr_SST7D = np.corrcoef(y,SST7D)[0,1]\n",
    "print(corr_SST7D)"
   ]
  },
  {
   "cell_type": "markdown",
   "metadata": {},
   "source": [
    "#14 Day Mean Correlations"
   ]
  },
  {
   "cell_type": "code",
   "execution_count": 18,
   "metadata": {},
   "outputs": [],
   "source": [
    "FourteendayMeanAO=aoTS.rolling(time=14).mean()\n",
    "ao14D=FourteendayMeanAO[((FourteendayMeanAO.time.dt.month>11) | (FourteendayMeanAO.time.dt.month<2)) & \n",
    "           (FourteendayMeanAO.time.dt.year<2020)].sel(time=slice('1980-1-1','2018-12-31'))\n",
    "FourteendayMeanEU=euTS.rolling(time=14).mean()\n",
    "eu14D=FourteendayMeanEU[((FourteendayMeanEU.time.dt.month>11) | (FourteendayMeanEU.time.dt.month<2)) & \n",
    "           (FourteendayMeanEU.time.dt.year<2020)].sel(time=slice('1980-1-1','2018-12-31'))"
   ]
  },
  {
   "cell_type": "code",
   "execution_count": 19,
   "metadata": {},
   "outputs": [
    {
     "name": "stdout",
     "output_type": "stream",
     "text": [
      "-0.02734786338749436\n",
      "0.021315249694369407\n"
     ]
    }
   ],
   "source": [
    "corr_AO14D = np.corrcoef(y,ao14D)[0,1]\n",
    "print(corr_AO14D)\n",
    "\n",
    "corr_EU14D = np.corrcoef(y,eu14D)[0,1]\n",
    "print(corr_EU14D)"
   ]
  },
  {
   "cell_type": "code",
   "execution_count": 48,
   "metadata": {},
   "outputs": [
    {
     "name": "stdout",
     "output_type": "stream",
     "text": [
      "0.040882610632990944\n"
     ]
    }
   ],
   "source": [
    "FourteendayMeanSST=sstTS.rolling(time=14).mean()\n",
    "SST14D=FourteendayMeanSST[((FourteendayMeanSST.time.dt.month>11) | (FourteendayMeanSST.time.dt.month<2)) & \n",
    "           (FourteendayMeanSST.time.dt.year<2020)].sel(time=slice('1980-1-1','2018-12-31'))\n",
    "corr_SST14D = np.corrcoef(y,SST14D)[0,1]\n",
    "print(corr_SST14D)"
   ]
  },
  {
   "cell_type": "markdown",
   "metadata": {},
   "source": [
    "#30 Day Mean Correlations"
   ]
  },
  {
   "cell_type": "code",
   "execution_count": 20,
   "metadata": {},
   "outputs": [],
   "source": [
    "ThirtydayMeanAO=aoTS.rolling(time=30).mean()\n",
    "ao30D=ThirtydayMeanAO[((ThirtydayMeanAO.time.dt.month>11) | (ThirtydayMeanAO.time.dt.month<2)) & \n",
    "           (ThirtydayMeanAO.time.dt.year<2020)].sel(time=slice('1980-1-1','2018-12-31'))\n",
    "ThirtydayMeanEU=euTS.rolling(time=30).mean()\n",
    "eu30D=ThirtydayMeanEU[((ThirtydayMeanEU.time.dt.month>11) | (ThirtydayMeanEU.time.dt.month<2)) & \n",
    "           (ThirtydayMeanEU.time.dt.year<2020)].sel(time=slice('1980-1-1','2018-12-31'))"
   ]
  },
  {
   "cell_type": "code",
   "execution_count": 21,
   "metadata": {},
   "outputs": [
    {
     "name": "stdout",
     "output_type": "stream",
     "text": [
      "-0.056287160093617644\n",
      "0.04078934364679231\n"
     ]
    }
   ],
   "source": [
    "corr_AO30D = np.corrcoef(y,ao30D)[0,1]\n",
    "print(corr_AO30D)\n",
    "\n",
    "corr_EU30D = np.corrcoef(y,eu30D)[0,1]\n",
    "print(corr_EU30D)"
   ]
  },
  {
   "cell_type": "code",
   "execution_count": 49,
   "metadata": {},
   "outputs": [
    {
     "name": "stdout",
     "output_type": "stream",
     "text": [
      "0.047266557799266536\n"
     ]
    }
   ],
   "source": [
    "ThirtydayMeanSST=sstTS.rolling(time=30).mean()\n",
    "SST30D=ThirtydayMeanSST[((ThirtydayMeanSST.time.dt.month>11) | (ThirtydayMeanSST.time.dt.month<2)) & \n",
    "           (ThirtydayMeanSST.time.dt.year<2020)].sel(time=slice('1980-1-1','2018-12-31'))\n",
    "corr_SST30D = np.corrcoef(y,SST30D)[0,1]\n",
    "print(corr_SST30D)\n"
   ]
  },
  {
   "cell_type": "markdown",
   "metadata": {},
   "source": [
    "#Input dump "
   ]
  },
  {
   "cell_type": "code",
   "execution_count": 50,
   "metadata": {},
   "outputs": [],
   "source": [
    "#Surface data\n",
    "t2mData = xr.open_dataset('../../../../Data/eraDown/ERA5_2degree_Down/DailyMean/ERA5NH_t2m_daily_NovDecJan.nc')\n",
    "d2mData = xr.open_dataset('../../../../Data/eraDown/ERA5_2degree_Down/DailyMean/ERA5NH_d2m_daily_NovDecJan.nc')\n",
    "u10Data = xr.open_dataset('../../../../Data/eraDown/ERA5_2degree_Down/DailyMean/ERA5NH_u10_daily_NovDecJan.nc')\n",
    "v10Data = xr.open_dataset('../../../../Data/eraDown/ERA5_2degree_Down/DailyMean/ERA5NH_v10_daily_NovDecJan.nc')\n",
    "# 850 Data\n",
    "tuv850Data = xr.open_dataset('../../../../Data/eraDown/ERA5_2degree_Down/DailyMean/ERA5NH_850_uvt_daily_NovDecJan.nc')\n",
    "z850Data = xr.open_dataset('../../../../Data/eraDown/ERA5_2degree_Down/DailyMean/ERA5NH_850_z_daily_NovDecJan.nc')\n",
    "#700 Data\n",
    "w700Data = xr.open_dataset('../../../../Data/eraDown/ERA5_2degree_Down/DailyMean/ERA5NH_700_w_daily_NovDecJan.nc')\n",
    "# Read Orography\n",
    "OroData = xr.open_dataset('../../../../Data/eraDown/ERA5_2degree_Down/DailyMean/ERA5IGP_Orography.nc')\n",
    "z500Data = xr.open_dataset('../../../../Data/eraDown/ERA5_2degree_Down/DailyMean/ERA5NH_500_z_daily_NovDecJan.nc')"
   ]
  },
  {
   "cell_type": "code",
   "execution_count": 51,
   "metadata": {},
   "outputs": [],
   "source": [
    "t2mD = t2mData.sel(latitude=slice(32,24),longitude=slice(74,86))\n",
    "u10D = u10Data.sel(latitude=slice(32,24),longitude=slice(74,86))\n",
    "v10D = v10Data.sel(latitude=slice(32,24),longitude=slice(74,86))\n",
    "d2mD = d2mData.sel(latitude=slice(32,24),longitude=slice(74,86))\n",
    "tuv850D = tuv850Data.sel(latitude=slice(32,24),longitude=slice(74,86))\n",
    "z850D = z850Data.sel(latitude=slice(32,24),longitude=slice(74,86))\n",
    "w700D = w700Data.sel(latitude=slice(32,24),longitude=slice(74,86))\n",
    "OroD = OroData.sel(latitude=slice(32,24),longitude=slice(74,86))\n",
    "zD=z500Data.sel(latitude=slice(32,24),longitude=slice(74,86))"
   ]
  },
  {
   "cell_type": "code",
   "execution_count": 54,
   "metadata": {},
   "outputs": [],
   "source": [
    "# Calculate wind speed and relative humidity\n",
    "ws = ((v10D.v10.values**2)+(u10D.u10.values**2))**0.5\n",
    "ws_ds = xr.Dataset({'ws': (('time','latitude','longitude'), ws)}, coords={'time': v10D.time,'latitude': v10D.latitude,'longitude': v10D.longitude})\n",
    "rh = (e**((17.625*(d2mD.d2m.values-273.15))/(243.04+(d2mD.d2m.values-273.15)))/e**((17.625*(t2mD.t2m.values-273.15))/(243.04+(t2mD.t2m.values-273.15))))\n",
    "rh_ds = xr.Dataset({'rh': (('time','latitude','longitude'), rh)}, coords={'time': v10D.time,'latitude': v10D.latitude,'longitude': v10D.longitude})\n",
    "#Calculate inv\n",
    "inv=t2mD.t2m.values-tuv850D.t.values\n",
    "inv_ds = xr.Dataset({'inv': (('time','latitude','longitude'), inv)}, coords={'time': v10D.time,'latitude': v10D.latitude,'longitude': v10D.longitude})\n",
    "inv_ds.attrs\n",
    "inv_ds.attrs['units']='K'\n",
    "inv_ds.attrs['long_name']='t2m - t850'\n",
    "#u shear calculation\n",
    "ushear=(tuv850D.u.values-u10D.u10.values)/(z850D.z.values/9.81) \n",
    "ushear_ds = xr.Dataset({'ushear': (('time','latitude','longitude'), ushear)}, coords={'time': v10D.time,'latitude': v10D.latitude,'longitude': v10D.longitude})\n",
    "ushear_ds.attrs['units']='s-1'\n",
    "ushear_ds.attrs['long_name']='(u10 - u850)/z850'"
   ]
  },
  {
   "cell_type": "code",
   "execution_count": 55,
   "metadata": {},
   "outputs": [],
   "source": [
    "# create mask\n",
    "oro = OroD.z\n",
    "oro.values = OroD.z.values/9.81\n",
    "oro.attrs\n",
    "oro.attrs['units']='meter'\n",
    "oro.attrs['long_name']='Orography'\n",
    "oro.values[oro.values>500.1]=np.NaN\n",
    "mask=oro.values/oro.values"
   ]
  },
  {
   "cell_type": "code",
   "execution_count": 56,
   "metadata": {},
   "outputs": [],
   "source": [
    "# Apply Mask \n",
    "t2mD.t2m.values=t2mD.t2m.values*mask\n",
    "ws_ds.ws.values=ws_ds.ws.values*mask\n",
    "rh_ds.rh.values=rh_ds.rh.values*mask\n",
    "w700D.w.values=w700D.w.values*mask\n",
    "inv_ds.inv.values=inv_ds.inv.values*mask\n",
    "ushear_ds.ushear.values=ushear_ds.ushear.values*mask\n",
    "zD.z.values=zD.z.values*mask"
   ]
  },
  {
   "cell_type": "code",
   "execution_count": 57,
   "metadata": {},
   "outputs": [],
   "source": [
    "# Feild mean\n",
    "t2mTS1=t2mD.mean(dim=['latitude','longitude'], skipna=True).t2m\n",
    "wsTS1=ws_ds.mean(dim=['latitude','longitude'], skipna=True).ws\n",
    "rhTS1=rh_ds.mean(dim=['latitude','longitude'], skipna=True).rh\n",
    "wTS1=w700D.mean(dim=['latitude','longitude'], skipna=True).w\n",
    "invTS1=inv_ds.mean(dim=['latitude','longitude'], skipna=True).inv\n",
    "ushearTS1=ushear_ds.mean(dim=['latitude','longitude'], skipna=True).ushear\n",
    "zTS1=zD.mean(dim=['latitude','longitude'], skipna=True).z"
   ]
  },
  {
   "cell_type": "code",
   "execution_count": 58,
   "metadata": {},
   "outputs": [],
   "source": [
    "# shift one day so we can take values of previous day\n",
    "t2mTS=t2mTS1.shift(time=1)\n",
    "wsTS=wsTS1.shift(time=1)\n",
    "rhTS=rhTS1.shift(time=1)\n",
    "wTS=wTS1.shift(time=1)\n",
    "invTS=invTS1.shift(time=1)\n",
    "ushearTS=ushearTS1.shift(time=1)\n",
    "zTS=zTS1.shift(time=1)\n"
   ]
  },
  {
   "cell_type": "code",
   "execution_count": 59,
   "metadata": {},
   "outputs": [],
   "source": [
    "# Select required time \n",
    "t2m=t2mTS[((t2mTS.time.dt.month>11) | (t2mTS.time.dt.month<2)) & (t2mTS.time.dt.year<2020)].sel(time=slice('1980-1-1','2018-12-31'))\n",
    "ws=wsTS[((wsTS.time.dt.month>11) | (wsTS.time.dt.month<2)) & (wsTS.time.dt.year<2020)].sel(time=slice('1980-1-1','2018-12-31'))\n",
    "inv=invTS[((wsTS.time.dt.month>11) | (wsTS.time.dt.month<2)) & (wsTS.time.dt.year<2020)].sel(time=slice('1980-1-1','2018-12-31'))\n",
    "rh=rhTS[((wsTS.time.dt.month>11) | (wsTS.time.dt.month<2)) & (wsTS.time.dt.year<2020)].sel(time=slice('1980-1-1','2018-12-31'))\n",
    "w=wTS[((wsTS.time.dt.month>11) | (wsTS.time.dt.month<2)) & (wsTS.time.dt.year<2020)].sel(time=slice('1980-1-1','2018-12-31'))\n",
    "ushear=ushearTS[((wsTS.time.dt.month>11) | (wsTS.time.dt.month<2)) & (wsTS.time.dt.year<2020)].sel(time=slice('1980-1-1','2018-12-31'))\n",
    "z=zTS[((zTS.time.dt.month>11) | (zTS.time.dt.month<2)) & (zTS.time.dt.year<2020)].sel(time=slice('1980-1-1','2018-12-31'))"
   ]
  },
  {
   "cell_type": "code",
   "execution_count": 72,
   "metadata": {},
   "outputs": [
    {
     "data": {
      "text/html": [
       "<div>\n",
       "<style scoped>\n",
       "    .dataframe tbody tr th:only-of-type {\n",
       "        vertical-align: middle;\n",
       "    }\n",
       "\n",
       "    .dataframe tbody tr th {\n",
       "        vertical-align: top;\n",
       "    }\n",
       "\n",
       "    .dataframe thead th {\n",
       "        text-align: right;\n",
       "    }\n",
       "</style>\n",
       "<table border=\"1\" class=\"dataframe\">\n",
       "  <thead>\n",
       "    <tr style=\"text-align: right;\">\n",
       "      <th></th>\n",
       "      <th>t2m</th>\n",
       "      <th>ws</th>\n",
       "      <th>rh</th>\n",
       "      <th>inv</th>\n",
       "      <th>w</th>\n",
       "      <th>ushear</th>\n",
       "      <th>ao1</th>\n",
       "      <th>eu1</th>\n",
       "      <th>sst1</th>\n",
       "      <th>ao5</th>\n",
       "      <th>...</th>\n",
       "      <th>sst5</th>\n",
       "      <th>ao7</th>\n",
       "      <th>eu7</th>\n",
       "      <th>sst7</th>\n",
       "      <th>ao14</th>\n",
       "      <th>eu14</th>\n",
       "      <th>sst14</th>\n",
       "      <th>ao30</th>\n",
       "      <th>eu30</th>\n",
       "      <th>sst30</th>\n",
       "    </tr>\n",
       "  </thead>\n",
       "  <tbody>\n",
       "    <tr>\n",
       "      <th>1980-01-01 09:00:00</th>\n",
       "      <td>289.120636</td>\n",
       "      <td>1.737170</td>\n",
       "      <td>0.681204</td>\n",
       "      <td>5.449228</td>\n",
       "      <td>-0.103194</td>\n",
       "      <td>0.353420</td>\n",
       "      <td>-1.750939</td>\n",
       "      <td>0.326036</td>\n",
       "      <td>0.117789</td>\n",
       "      <td>-1.214464</td>\n",
       "      <td>...</td>\n",
       "      <td>0.223350</td>\n",
       "      <td>-0.665203</td>\n",
       "      <td>-0.062344</td>\n",
       "      <td>0.287552</td>\n",
       "      <td>0.153002</td>\n",
       "      <td>0.001658</td>\n",
       "      <td>0.409895</td>\n",
       "      <td>0.412610</td>\n",
       "      <td>-0.017662</td>\n",
       "      <td>0.348855</td>\n",
       "    </tr>\n",
       "    <tr>\n",
       "      <th>1980-01-02 09:00:00</th>\n",
       "      <td>288.971771</td>\n",
       "      <td>2.071385</td>\n",
       "      <td>0.743338</td>\n",
       "      <td>5.749483</td>\n",
       "      <td>-0.125205</td>\n",
       "      <td>0.273085</td>\n",
       "      <td>-1.824208</td>\n",
       "      <td>0.821619</td>\n",
       "      <td>0.081307</td>\n",
       "      <td>-1.500719</td>\n",
       "      <td>...</td>\n",
       "      <td>0.155103</td>\n",
       "      <td>-0.987637</td>\n",
       "      <td>-0.018502</td>\n",
       "      <td>0.230905</td>\n",
       "      <td>0.036301</td>\n",
       "      <td>0.034050</td>\n",
       "      <td>0.374667</td>\n",
       "      <td>0.278477</td>\n",
       "      <td>0.033050</td>\n",
       "      <td>0.362719</td>\n",
       "    </tr>\n",
       "    <tr>\n",
       "      <th>1980-01-03 09:00:00</th>\n",
       "      <td>288.303253</td>\n",
       "      <td>1.375861</td>\n",
       "      <td>0.758891</td>\n",
       "      <td>6.781636</td>\n",
       "      <td>-0.049128</td>\n",
       "      <td>0.160400</td>\n",
       "      <td>-1.439631</td>\n",
       "      <td>0.484874</td>\n",
       "      <td>0.058236</td>\n",
       "      <td>-1.521642</td>\n",
       "      <td>...</td>\n",
       "      <td>0.111137</td>\n",
       "      <td>-1.215665</td>\n",
       "      <td>0.040600</td>\n",
       "      <td>0.181082</td>\n",
       "      <td>-0.121597</td>\n",
       "      <td>0.036583</td>\n",
       "      <td>0.343331</td>\n",
       "      <td>0.159585</td>\n",
       "      <td>0.070172</td>\n",
       "      <td>0.372381</td>\n",
       "    </tr>\n",
       "    <tr>\n",
       "      <th>1980-01-04 09:00:00</th>\n",
       "      <td>287.083527</td>\n",
       "      <td>1.883535</td>\n",
       "      <td>0.746639</td>\n",
       "      <td>6.586329</td>\n",
       "      <td>0.070247</td>\n",
       "      <td>0.053234</td>\n",
       "      <td>-0.997704</td>\n",
       "      <td>0.013497</td>\n",
       "      <td>0.092586</td>\n",
       "      <td>-1.421591</td>\n",
       "      <td>...</td>\n",
       "      <td>0.101261</td>\n",
       "      <td>-1.370968</td>\n",
       "      <td>0.184171</td>\n",
       "      <td>0.146355</td>\n",
       "      <td>-0.324608</td>\n",
       "      <td>0.068139</td>\n",
       "      <td>0.315898</td>\n",
       "      <td>0.040884</td>\n",
       "      <td>0.120136</td>\n",
       "      <td>0.379705</td>\n",
       "    </tr>\n",
       "    <tr>\n",
       "      <th>1980-01-05 09:00:00</th>\n",
       "      <td>286.249054</td>\n",
       "      <td>1.991354</td>\n",
       "      <td>0.709822</td>\n",
       "      <td>5.626440</td>\n",
       "      <td>0.038802</td>\n",
       "      <td>0.038249</td>\n",
       "      <td>-1.095475</td>\n",
       "      <td>0.433607</td>\n",
       "      <td>0.156388</td>\n",
       "      <td>-1.297015</td>\n",
       "      <td>...</td>\n",
       "      <td>0.123725</td>\n",
       "      <td>-1.404535</td>\n",
       "      <td>0.351457</td>\n",
       "      <td>0.134597</td>\n",
       "      <td>-0.505666</td>\n",
       "      <td>0.125147</td>\n",
       "      <td>0.291855</td>\n",
       "      <td>-0.051431</td>\n",
       "      <td>0.157540</td>\n",
       "      <td>0.388022</td>\n",
       "    </tr>\n",
       "    <tr>\n",
       "      <th>...</th>\n",
       "      <td>...</td>\n",
       "      <td>...</td>\n",
       "      <td>...</td>\n",
       "      <td>...</td>\n",
       "      <td>...</td>\n",
       "      <td>...</td>\n",
       "      <td>...</td>\n",
       "      <td>...</td>\n",
       "      <td>...</td>\n",
       "      <td>...</td>\n",
       "      <td>...</td>\n",
       "      <td>...</td>\n",
       "      <td>...</td>\n",
       "      <td>...</td>\n",
       "      <td>...</td>\n",
       "      <td>...</td>\n",
       "      <td>...</td>\n",
       "      <td>...</td>\n",
       "      <td>...</td>\n",
       "      <td>...</td>\n",
       "      <td>...</td>\n",
       "    </tr>\n",
       "    <tr>\n",
       "      <th>2018-12-27 09:00:00</th>\n",
       "      <td>287.116974</td>\n",
       "      <td>1.433200</td>\n",
       "      <td>0.588758</td>\n",
       "      <td>4.247632</td>\n",
       "      <td>-0.025993</td>\n",
       "      <td>0.314777</td>\n",
       "      <td>-0.047821</td>\n",
       "      <td>0.367309</td>\n",
       "      <td>0.732377</td>\n",
       "      <td>-0.100498</td>\n",
       "      <td>...</td>\n",
       "      <td>0.748099</td>\n",
       "      <td>-0.163057</td>\n",
       "      <td>0.183831</td>\n",
       "      <td>0.749039</td>\n",
       "      <td>0.224099</td>\n",
       "      <td>0.063579</td>\n",
       "      <td>0.741027</td>\n",
       "      <td>0.257892</td>\n",
       "      <td>0.229153</td>\n",
       "      <td>0.803485</td>\n",
       "    </tr>\n",
       "    <tr>\n",
       "      <th>2018-12-28 09:00:00</th>\n",
       "      <td>287.040436</td>\n",
       "      <td>1.897564</td>\n",
       "      <td>0.547522</td>\n",
       "      <td>5.767006</td>\n",
       "      <td>0.163933</td>\n",
       "      <td>0.249560</td>\n",
       "      <td>0.075607</td>\n",
       "      <td>0.866002</td>\n",
       "      <td>0.763326</td>\n",
       "      <td>-0.048009</td>\n",
       "      <td>...</td>\n",
       "      <td>0.745836</td>\n",
       "      <td>-0.125613</td>\n",
       "      <td>0.368613</td>\n",
       "      <td>0.742686</td>\n",
       "      <td>0.140224</td>\n",
       "      <td>0.150347</td>\n",
       "      <td>0.739200</td>\n",
       "      <td>0.277892</td>\n",
       "      <td>0.254875</td>\n",
       "      <td>0.801265</td>\n",
       "    </tr>\n",
       "    <tr>\n",
       "      <th>2018-12-29 09:00:00</th>\n",
       "      <td>286.180817</td>\n",
       "      <td>2.137837</td>\n",
       "      <td>0.552296</td>\n",
       "      <td>4.413174</td>\n",
       "      <td>0.137729</td>\n",
       "      <td>0.143824</td>\n",
       "      <td>0.083157</td>\n",
       "      <td>1.291670</td>\n",
       "      <td>0.721219</td>\n",
       "      <td>0.013835</td>\n",
       "      <td>...</td>\n",
       "      <td>0.733624</td>\n",
       "      <td>-0.028950</td>\n",
       "      <td>0.530500</td>\n",
       "      <td>0.735476</td>\n",
       "      <td>0.079405</td>\n",
       "      <td>0.212243</td>\n",
       "      <td>0.735350</td>\n",
       "      <td>0.292222</td>\n",
       "      <td>0.257262</td>\n",
       "      <td>0.796579</td>\n",
       "    </tr>\n",
       "    <tr>\n",
       "      <th>2018-12-30 09:00:00</th>\n",
       "      <td>286.110046</td>\n",
       "      <td>1.636086</td>\n",
       "      <td>0.564291</td>\n",
       "      <td>1.974165</td>\n",
       "      <td>0.078003</td>\n",
       "      <td>0.081137</td>\n",
       "      <td>0.216663</td>\n",
       "      <td>0.938830</td>\n",
       "      <td>0.686603</td>\n",
       "      <td>0.109464</td>\n",
       "      <td>...</td>\n",
       "      <td>0.716837</td>\n",
       "      <td>0.028052</td>\n",
       "      <td>0.649130</td>\n",
       "      <td>0.728065</td>\n",
       "      <td>0.055703</td>\n",
       "      <td>0.251367</td>\n",
       "      <td>0.731664</td>\n",
       "      <td>0.302612</td>\n",
       "      <td>0.253413</td>\n",
       "      <td>0.792210</td>\n",
       "    </tr>\n",
       "    <tr>\n",
       "      <th>2018-12-31 09:00:00</th>\n",
       "      <td>286.772278</td>\n",
       "      <td>1.588799</td>\n",
       "      <td>0.574377</td>\n",
       "      <td>1.721367</td>\n",
       "      <td>0.060394</td>\n",
       "      <td>0.051555</td>\n",
       "      <td>0.219727</td>\n",
       "      <td>0.381588</td>\n",
       "      <td>0.680663</td>\n",
       "      <td>0.187481</td>\n",
       "      <td>...</td>\n",
       "      <td>0.699457</td>\n",
       "      <td>0.090169</td>\n",
       "      <td>0.541719</td>\n",
       "      <td>0.713467</td>\n",
       "      <td>0.046153</td>\n",
       "      <td>0.222098</td>\n",
       "      <td>0.727060</td>\n",
       "      <td>0.322101</td>\n",
       "      <td>0.259103</td>\n",
       "      <td>0.785867</td>\n",
       "    </tr>\n",
       "  </tbody>\n",
       "</table>\n",
       "<p>2418 rows × 21 columns</p>\n",
       "</div>"
      ],
      "text/plain": [
       "                            t2m        ws        rh       inv         w  \\\n",
       "1980-01-01 09:00:00  289.120636  1.737170  0.681204  5.449228 -0.103194   \n",
       "1980-01-02 09:00:00  288.971771  2.071385  0.743338  5.749483 -0.125205   \n",
       "1980-01-03 09:00:00  288.303253  1.375861  0.758891  6.781636 -0.049128   \n",
       "1980-01-04 09:00:00  287.083527  1.883535  0.746639  6.586329  0.070247   \n",
       "1980-01-05 09:00:00  286.249054  1.991354  0.709822  5.626440  0.038802   \n",
       "...                         ...       ...       ...       ...       ...   \n",
       "2018-12-27 09:00:00  287.116974  1.433200  0.588758  4.247632 -0.025993   \n",
       "2018-12-28 09:00:00  287.040436  1.897564  0.547522  5.767006  0.163933   \n",
       "2018-12-29 09:00:00  286.180817  2.137837  0.552296  4.413174  0.137729   \n",
       "2018-12-30 09:00:00  286.110046  1.636086  0.564291  1.974165  0.078003   \n",
       "2018-12-31 09:00:00  286.772278  1.588799  0.574377  1.721367  0.060394   \n",
       "\n",
       "                       ushear       ao1       eu1      sst1       ao5  ...  \\\n",
       "1980-01-01 09:00:00  0.353420 -1.750939  0.326036  0.117789 -1.214464  ...   \n",
       "1980-01-02 09:00:00  0.273085 -1.824208  0.821619  0.081307 -1.500719  ...   \n",
       "1980-01-03 09:00:00  0.160400 -1.439631  0.484874  0.058236 -1.521642  ...   \n",
       "1980-01-04 09:00:00  0.053234 -0.997704  0.013497  0.092586 -1.421591  ...   \n",
       "1980-01-05 09:00:00  0.038249 -1.095475  0.433607  0.156388 -1.297015  ...   \n",
       "...                       ...       ...       ...       ...       ...  ...   \n",
       "2018-12-27 09:00:00  0.314777 -0.047821  0.367309  0.732377 -0.100498  ...   \n",
       "2018-12-28 09:00:00  0.249560  0.075607  0.866002  0.763326 -0.048009  ...   \n",
       "2018-12-29 09:00:00  0.143824  0.083157  1.291670  0.721219  0.013835  ...   \n",
       "2018-12-30 09:00:00  0.081137  0.216663  0.938830  0.686603  0.109464  ...   \n",
       "2018-12-31 09:00:00  0.051555  0.219727  0.381588  0.680663  0.187481  ...   \n",
       "\n",
       "                         sst5       ao7       eu7      sst7      ao14  \\\n",
       "1980-01-01 09:00:00  0.223350 -0.665203 -0.062344  0.287552  0.153002   \n",
       "1980-01-02 09:00:00  0.155103 -0.987637 -0.018502  0.230905  0.036301   \n",
       "1980-01-03 09:00:00  0.111137 -1.215665  0.040600  0.181082 -0.121597   \n",
       "1980-01-04 09:00:00  0.101261 -1.370968  0.184171  0.146355 -0.324608   \n",
       "1980-01-05 09:00:00  0.123725 -1.404535  0.351457  0.134597 -0.505666   \n",
       "...                       ...       ...       ...       ...       ...   \n",
       "2018-12-27 09:00:00  0.748099 -0.163057  0.183831  0.749039  0.224099   \n",
       "2018-12-28 09:00:00  0.745836 -0.125613  0.368613  0.742686  0.140224   \n",
       "2018-12-29 09:00:00  0.733624 -0.028950  0.530500  0.735476  0.079405   \n",
       "2018-12-30 09:00:00  0.716837  0.028052  0.649130  0.728065  0.055703   \n",
       "2018-12-31 09:00:00  0.699457  0.090169  0.541719  0.713467  0.046153   \n",
       "\n",
       "                         eu14     sst14      ao30      eu30     sst30  \n",
       "1980-01-01 09:00:00  0.001658  0.409895  0.412610 -0.017662  0.348855  \n",
       "1980-01-02 09:00:00  0.034050  0.374667  0.278477  0.033050  0.362719  \n",
       "1980-01-03 09:00:00  0.036583  0.343331  0.159585  0.070172  0.372381  \n",
       "1980-01-04 09:00:00  0.068139  0.315898  0.040884  0.120136  0.379705  \n",
       "1980-01-05 09:00:00  0.125147  0.291855 -0.051431  0.157540  0.388022  \n",
       "...                       ...       ...       ...       ...       ...  \n",
       "2018-12-27 09:00:00  0.063579  0.741027  0.257892  0.229153  0.803485  \n",
       "2018-12-28 09:00:00  0.150347  0.739200  0.277892  0.254875  0.801265  \n",
       "2018-12-29 09:00:00  0.212243  0.735350  0.292222  0.257262  0.796579  \n",
       "2018-12-30 09:00:00  0.251367  0.731664  0.302612  0.253413  0.792210  \n",
       "2018-12-31 09:00:00  0.222098  0.727060  0.322101  0.259103  0.785867  \n",
       "\n",
       "[2418 rows x 21 columns]"
      ]
     },
     "execution_count": 72,
     "metadata": {},
     "output_type": "execute_result"
    }
   ],
   "source": [
    "# input X\n",
    "X       = pd.DataFrame([t2m.values,ws.values,rh.values,inv.values,w.values,ushear.values*100.0,ao1D.values,\n",
    "                        eu1D.values,SST1D.values,ao5D.values,eu5D.values,SST5D.values,\n",
    "                       ao7D.values,eu7D.values,SST7D.values,ao14D.values,eu14D.values,SST14D.values, \n",
    "                       ao30D.values,eu30D.values,SST30D.values],\n",
    "                       index=['t2m', 'ws', 'rh','inv', 'w', 'ushear','ao1', 'eu1', 'sst1',\n",
    "                             'ao5', 'eu5', 'sst5','ao7', 'eu7', 'sst7',\n",
    "                             'ao14', 'eu14', 'sst14','ao30', 'eu30', 'sst30']).T[:]\n",
    "#X       = pd.DataFrame([ws.values,rh.values,inv.values,w.values]).T[:]\n",
    "X.index = pd.to_datetime(t2m.time.values)\n",
    "X"
   ]
  },
  {
   "cell_type": "code",
   "execution_count": 73,
   "metadata": {},
   "outputs": [
    {
     "data": {
      "text/html": [
       "<div>\n",
       "<style scoped>\n",
       "    .dataframe tbody tr th:only-of-type {\n",
       "        vertical-align: middle;\n",
       "    }\n",
       "\n",
       "    .dataframe tbody tr th {\n",
       "        vertical-align: top;\n",
       "    }\n",
       "\n",
       "    .dataframe thead th {\n",
       "        text-align: right;\n",
       "    }\n",
       "</style>\n",
       "<table border=\"1\" class=\"dataframe\">\n",
       "  <thead>\n",
       "    <tr style=\"text-align: right;\">\n",
       "      <th></th>\n",
       "      <th>t2m</th>\n",
       "      <th>ws</th>\n",
       "      <th>rh</th>\n",
       "      <th>inv</th>\n",
       "      <th>w</th>\n",
       "      <th>ushear</th>\n",
       "      <th>ao1</th>\n",
       "      <th>eu1</th>\n",
       "      <th>sst1</th>\n",
       "      <th>ao5</th>\n",
       "      <th>...</th>\n",
       "      <th>sst5</th>\n",
       "      <th>ao7</th>\n",
       "      <th>eu7</th>\n",
       "      <th>sst7</th>\n",
       "      <th>ao14</th>\n",
       "      <th>eu14</th>\n",
       "      <th>sst14</th>\n",
       "      <th>ao30</th>\n",
       "      <th>eu30</th>\n",
       "      <th>sst30</th>\n",
       "    </tr>\n",
       "  </thead>\n",
       "  <tbody>\n",
       "    <tr>\n",
       "      <th>1980-01-01 09:00:00</th>\n",
       "      <td>-151.803446</td>\n",
       "      <td>-4.064469</td>\n",
       "      <td>-0.709943</td>\n",
       "      <td>-1.704749</td>\n",
       "      <td>-33.468375</td>\n",
       "      <td>14.908108</td>\n",
       "      <td>-1.503011</td>\n",
       "      <td>0.719577</td>\n",
       "      <td>0.097509</td>\n",
       "      <td>-1.219917</td>\n",
       "      <td>...</td>\n",
       "      <td>0.163287</td>\n",
       "      <td>-0.717822</td>\n",
       "      <td>-0.208186</td>\n",
       "      <td>0.203064</td>\n",
       "      <td>0.219783</td>\n",
       "      <td>0.021537</td>\n",
       "      <td>0.278839</td>\n",
       "      <td>0.792536</td>\n",
       "      <td>-0.122467</td>\n",
       "      <td>0.241408</td>\n",
       "    </tr>\n",
       "    <tr>\n",
       "      <th>1980-01-02 09:00:00</th>\n",
       "      <td>-151.844542</td>\n",
       "      <td>-1.727495</td>\n",
       "      <td>9.293493</td>\n",
       "      <td>-1.611327</td>\n",
       "      <td>-38.473908</td>\n",
       "      <td>7.829461</td>\n",
       "      <td>-1.566859</td>\n",
       "      <td>1.811889</td>\n",
       "      <td>0.074668</td>\n",
       "      <td>-1.512209</td>\n",
       "      <td>...</td>\n",
       "      <td>0.120583</td>\n",
       "      <td>-1.074078</td>\n",
       "      <td>-0.056785</td>\n",
       "      <td>0.167653</td>\n",
       "      <td>0.060517</td>\n",
       "      <td>0.182886</td>\n",
       "      <td>0.256840</td>\n",
       "      <td>0.528675</td>\n",
       "      <td>0.295950</td>\n",
       "      <td>0.250061</td>\n",
       "    </tr>\n",
       "    <tr>\n",
       "      <th>1980-01-03 09:00:00</th>\n",
       "      <td>-152.029096</td>\n",
       "      <td>-6.590885</td>\n",
       "      <td>11.797603</td>\n",
       "      <td>-1.290181</td>\n",
       "      <td>-21.173405</td>\n",
       "      <td>-2.099535</td>\n",
       "      <td>-1.231729</td>\n",
       "      <td>1.069670</td>\n",
       "      <td>0.060225</td>\n",
       "      <td>-1.533574</td>\n",
       "      <td>...</td>\n",
       "      <td>0.093073</td>\n",
       "      <td>-1.326026</td>\n",
       "      <td>0.147320</td>\n",
       "      <td>0.136508</td>\n",
       "      <td>-0.154973</td>\n",
       "      <td>0.195502</td>\n",
       "      <td>0.237273</td>\n",
       "      <td>0.294796</td>\n",
       "      <td>0.602237</td>\n",
       "      <td>0.256091</td>\n",
       "    </tr>\n",
       "    <tr>\n",
       "      <th>1980-01-04 09:00:00</th>\n",
       "      <td>-152.365818</td>\n",
       "      <td>-3.041019</td>\n",
       "      <td>9.825014</td>\n",
       "      <td>-1.350949</td>\n",
       "      <td>5.973481</td>\n",
       "      <td>-11.542335</td>\n",
       "      <td>-0.846622</td>\n",
       "      <td>0.030712</td>\n",
       "      <td>0.081730</td>\n",
       "      <td>-1.431413</td>\n",
       "      <td>...</td>\n",
       "      <td>0.086894</td>\n",
       "      <td>-1.497619</td>\n",
       "      <td>0.643124</td>\n",
       "      <td>0.114801</td>\n",
       "      <td>-0.432028</td>\n",
       "      <td>0.352687</td>\n",
       "      <td>0.220142</td>\n",
       "      <td>0.061290</td>\n",
       "      <td>1.014479</td>\n",
       "      <td>0.260663</td>\n",
       "    </tr>\n",
       "    <tr>\n",
       "      <th>1980-01-05 09:00:00</th>\n",
       "      <td>-152.596186</td>\n",
       "      <td>-2.287107</td>\n",
       "      <td>3.897496</td>\n",
       "      <td>-1.649611</td>\n",
       "      <td>-1.177278</td>\n",
       "      <td>-12.862747</td>\n",
       "      <td>-0.931823</td>\n",
       "      <td>0.956673</td>\n",
       "      <td>0.121676</td>\n",
       "      <td>-1.304209</td>\n",
       "      <td>...</td>\n",
       "      <td>0.100949</td>\n",
       "      <td>-1.534708</td>\n",
       "      <td>1.220826</td>\n",
       "      <td>0.107450</td>\n",
       "      <td>-0.679125</td>\n",
       "      <td>0.636649</td>\n",
       "      <td>0.205128</td>\n",
       "      <td>-0.120309</td>\n",
       "      <td>1.323089</td>\n",
       "      <td>0.265853</td>\n",
       "    </tr>\n",
       "    <tr>\n",
       "      <th>...</th>\n",
       "      <td>...</td>\n",
       "      <td>...</td>\n",
       "      <td>...</td>\n",
       "      <td>...</td>\n",
       "      <td>...</td>\n",
       "      <td>...</td>\n",
       "      <td>...</td>\n",
       "      <td>...</td>\n",
       "      <td>...</td>\n",
       "      <td>...</td>\n",
       "      <td>...</td>\n",
       "      <td>...</td>\n",
       "      <td>...</td>\n",
       "      <td>...</td>\n",
       "      <td>...</td>\n",
       "      <td>...</td>\n",
       "      <td>...</td>\n",
       "      <td>...</td>\n",
       "      <td>...</td>\n",
       "      <td>...</td>\n",
       "      <td>...</td>\n",
       "    </tr>\n",
       "    <tr>\n",
       "      <th>2018-12-27 09:00:00</th>\n",
       "      <td>-152.356585</td>\n",
       "      <td>-6.189951</td>\n",
       "      <td>-15.593767</td>\n",
       "      <td>-2.078616</td>\n",
       "      <td>-15.912171</td>\n",
       "      <td>11.503087</td>\n",
       "      <td>-0.018868</td>\n",
       "      <td>0.810546</td>\n",
       "      <td>0.482291</td>\n",
       "      <td>-0.082453</td>\n",
       "      <td>...</td>\n",
       "      <td>0.491630</td>\n",
       "      <td>-0.163001</td>\n",
       "      <td>0.641949</td>\n",
       "      <td>0.491544</td>\n",
       "      <td>0.316810</td>\n",
       "      <td>0.329969</td>\n",
       "      <td>0.485617</td>\n",
       "      <td>0.488180</td>\n",
       "      <td>1.913961</td>\n",
       "      <td>0.525151</td>\n",
       "    </tr>\n",
       "    <tr>\n",
       "      <th>2018-12-28 09:00:00</th>\n",
       "      <td>-152.377714</td>\n",
       "      <td>-2.942925</td>\n",
       "      <td>-22.232640</td>\n",
       "      <td>-1.605875</td>\n",
       "      <td>27.278408</td>\n",
       "      <td>5.756574</td>\n",
       "      <td>0.088690</td>\n",
       "      <td>1.909714</td>\n",
       "      <td>0.501667</td>\n",
       "      <td>-0.028856</td>\n",
       "      <td>...</td>\n",
       "      <td>0.490214</td>\n",
       "      <td>-0.121629</td>\n",
       "      <td>1.280072</td>\n",
       "      <td>0.487573</td>\n",
       "      <td>0.202344</td>\n",
       "      <td>0.762174</td>\n",
       "      <td>0.484476</td>\n",
       "      <td>0.527525</td>\n",
       "      <td>2.126189</td>\n",
       "      <td>0.523765</td>\n",
       "    </tr>\n",
       "    <tr>\n",
       "      <th>2018-12-29 09:00:00</th>\n",
       "      <td>-152.615024</td>\n",
       "      <td>-1.262835</td>\n",
       "      <td>-21.464061</td>\n",
       "      <td>-2.027109</td>\n",
       "      <td>21.319440</td>\n",
       "      <td>-3.560168</td>\n",
       "      <td>0.095270</td>\n",
       "      <td>2.847924</td>\n",
       "      <td>0.475305</td>\n",
       "      <td>0.034292</td>\n",
       "      <td>...</td>\n",
       "      <td>0.482573</td>\n",
       "      <td>-0.014826</td>\n",
       "      <td>1.839127</td>\n",
       "      <td>0.483065</td>\n",
       "      <td>0.119341</td>\n",
       "      <td>1.070484</td>\n",
       "      <td>0.482072</td>\n",
       "      <td>0.555714</td>\n",
       "      <td>2.145882</td>\n",
       "      <td>0.520841</td>\n",
       "    </tr>\n",
       "    <tr>\n",
       "      <th>2018-12-30 09:00:00</th>\n",
       "      <td>-152.634561</td>\n",
       "      <td>-4.771283</td>\n",
       "      <td>-19.532871</td>\n",
       "      <td>-2.785987</td>\n",
       "      <td>7.737331</td>\n",
       "      <td>-9.083744</td>\n",
       "      <td>0.211610</td>\n",
       "      <td>2.070233</td>\n",
       "      <td>0.453632</td>\n",
       "      <td>0.131938</td>\n",
       "      <td>...</td>\n",
       "      <td>0.472069</td>\n",
       "      <td>0.048156</td>\n",
       "      <td>2.248801</td>\n",
       "      <td>0.478433</td>\n",
       "      <td>0.086995</td>\n",
       "      <td>1.265365</td>\n",
       "      <td>0.479770</td>\n",
       "      <td>0.576153</td>\n",
       "      <td>2.114124</td>\n",
       "      <td>0.518113</td>\n",
       "    </tr>\n",
       "    <tr>\n",
       "      <th>2018-12-31 09:00:00</th>\n",
       "      <td>-152.451743</td>\n",
       "      <td>-5.101935</td>\n",
       "      <td>-17.909011</td>\n",
       "      <td>-2.864643</td>\n",
       "      <td>3.732905</td>\n",
       "      <td>-11.690309</td>\n",
       "      <td>0.214280</td>\n",
       "      <td>0.842019</td>\n",
       "      <td>0.449914</td>\n",
       "      <td>0.211601</td>\n",
       "      <td>...</td>\n",
       "      <td>0.461194</td>\n",
       "      <td>0.116789</td>\n",
       "      <td>1.877871</td>\n",
       "      <td>0.469307</td>\n",
       "      <td>0.073961</td>\n",
       "      <td>1.119572</td>\n",
       "      <td>0.476895</td>\n",
       "      <td>0.614491</td>\n",
       "      <td>2.161068</td>\n",
       "      <td>0.514155</td>\n",
       "    </tr>\n",
       "  </tbody>\n",
       "</table>\n",
       "<p>2418 rows × 21 columns</p>\n",
       "</div>"
      ],
      "text/plain": [
       "                            t2m        ws         rh       inv          w  \\\n",
       "1980-01-01 09:00:00 -151.803446 -4.064469  -0.709943 -1.704749 -33.468375   \n",
       "1980-01-02 09:00:00 -151.844542 -1.727495   9.293493 -1.611327 -38.473908   \n",
       "1980-01-03 09:00:00 -152.029096 -6.590885  11.797603 -1.290181 -21.173405   \n",
       "1980-01-04 09:00:00 -152.365818 -3.041019   9.825014 -1.350949   5.973481   \n",
       "1980-01-05 09:00:00 -152.596186 -2.287107   3.897496 -1.649611  -1.177278   \n",
       "...                         ...       ...        ...       ...        ...   \n",
       "2018-12-27 09:00:00 -152.356585 -6.189951 -15.593767 -2.078616 -15.912171   \n",
       "2018-12-28 09:00:00 -152.377714 -2.942925 -22.232640 -1.605875  27.278408   \n",
       "2018-12-29 09:00:00 -152.615024 -1.262835 -21.464061 -2.027109  21.319440   \n",
       "2018-12-30 09:00:00 -152.634561 -4.771283 -19.532871 -2.785987   7.737331   \n",
       "2018-12-31 09:00:00 -152.451743 -5.101935 -17.909011 -2.864643   3.732905   \n",
       "\n",
       "                        ushear       ao1       eu1      sst1       ao5  ...  \\\n",
       "1980-01-01 09:00:00  14.908108 -1.503011  0.719577  0.097509 -1.219917  ...   \n",
       "1980-01-02 09:00:00   7.829461 -1.566859  1.811889  0.074668 -1.512209  ...   \n",
       "1980-01-03 09:00:00  -2.099535 -1.231729  1.069670  0.060225 -1.533574  ...   \n",
       "1980-01-04 09:00:00 -11.542335 -0.846622  0.030712  0.081730 -1.431413  ...   \n",
       "1980-01-05 09:00:00 -12.862747 -0.931823  0.956673  0.121676 -1.304209  ...   \n",
       "...                        ...       ...       ...       ...       ...  ...   \n",
       "2018-12-27 09:00:00  11.503087 -0.018868  0.810546  0.482291 -0.082453  ...   \n",
       "2018-12-28 09:00:00   5.756574  0.088690  1.909714  0.501667 -0.028856  ...   \n",
       "2018-12-29 09:00:00  -3.560168  0.095270  2.847924  0.475305  0.034292  ...   \n",
       "2018-12-30 09:00:00  -9.083744  0.211610  2.070233  0.453632  0.131938  ...   \n",
       "2018-12-31 09:00:00 -11.690309  0.214280  0.842019  0.449914  0.211601  ...   \n",
       "\n",
       "                         sst5       ao7       eu7      sst7      ao14  \\\n",
       "1980-01-01 09:00:00  0.163287 -0.717822 -0.208186  0.203064  0.219783   \n",
       "1980-01-02 09:00:00  0.120583 -1.074078 -0.056785  0.167653  0.060517   \n",
       "1980-01-03 09:00:00  0.093073 -1.326026  0.147320  0.136508 -0.154973   \n",
       "1980-01-04 09:00:00  0.086894 -1.497619  0.643124  0.114801 -0.432028   \n",
       "1980-01-05 09:00:00  0.100949 -1.534708  1.220826  0.107450 -0.679125   \n",
       "...                       ...       ...       ...       ...       ...   \n",
       "2018-12-27 09:00:00  0.491630 -0.163001  0.641949  0.491544  0.316810   \n",
       "2018-12-28 09:00:00  0.490214 -0.121629  1.280072  0.487573  0.202344   \n",
       "2018-12-29 09:00:00  0.482573 -0.014826  1.839127  0.483065  0.119341   \n",
       "2018-12-30 09:00:00  0.472069  0.048156  2.248801  0.478433  0.086995   \n",
       "2018-12-31 09:00:00  0.461194  0.116789  1.877871  0.469307  0.073961   \n",
       "\n",
       "                         eu14     sst14      ao30      eu30     sst30  \n",
       "1980-01-01 09:00:00  0.021537  0.278839  0.792536 -0.122467  0.241408  \n",
       "1980-01-02 09:00:00  0.182886  0.256840  0.528675  0.295950  0.250061  \n",
       "1980-01-03 09:00:00  0.195502  0.237273  0.294796  0.602237  0.256091  \n",
       "1980-01-04 09:00:00  0.352687  0.220142  0.061290  1.014479  0.260663  \n",
       "1980-01-05 09:00:00  0.636649  0.205128 -0.120309  1.323089  0.265853  \n",
       "...                       ...       ...       ...       ...       ...  \n",
       "2018-12-27 09:00:00  0.329969  0.485617  0.488180  1.913961  0.525151  \n",
       "2018-12-28 09:00:00  0.762174  0.484476  0.527525  2.126189  0.523765  \n",
       "2018-12-29 09:00:00  1.070484  0.482072  0.555714  2.145882  0.520841  \n",
       "2018-12-30 09:00:00  1.265365  0.479770  0.576153  2.114124  0.518113  \n",
       "2018-12-31 09:00:00  1.119572  0.476895  0.614491  2.161068  0.514155  \n",
       "\n",
       "[2418 rows x 21 columns]"
      ]
     },
     "execution_count": 73,
     "metadata": {},
     "output_type": "execute_result"
    }
   ],
   "source": [
    "norm = StandardScaler().fit(X)\n",
    "    # transform training data\n",
    "X = norm.transform(X)\n",
    "X\n",
    "X = pd.DataFrame(norm.transform(X))\n",
    "X.index = pd.to_datetime(t2m.time.values)\n",
    "X.columns=['t2m', 'ws', 'rh','inv', 'w', 'ushear','ao1', 'eu1',\n",
    "           'sst1','ao5', 'eu5', 'sst5','ao7', 'eu7', 'sst7',\n",
    "           'ao14', 'eu14', 'sst14','ao30', 'eu30', 'sst30']\n",
    "X"
   ]
  },
  {
   "cell_type": "code",
   "execution_count": 74,
   "metadata": {},
   "outputs": [
    {
     "data": {
      "text/plain": [
       "['y_All.joblib']"
      ]
     },
     "execution_count": 74,
     "metadata": {},
     "output_type": "execute_result"
    }
   ],
   "source": [
    "dump(X, 'X_All.joblib') \n",
    "dump(y,'y_All.joblib')"
   ]
  },
  {
   "cell_type": "code",
   "execution_count": null,
   "metadata": {},
   "outputs": [],
   "source": []
  }
 ],
 "metadata": {
  "kernelspec": {
   "display_name": "Python 3",
   "language": "python",
   "name": "python3"
  },
  "language_info": {
   "codemirror_mode": {
    "name": "ipython",
    "version": 3
   },
   "file_extension": ".py",
   "mimetype": "text/x-python",
   "name": "python",
   "nbconvert_exporter": "python",
   "pygments_lexer": "ipython3",
   "version": "3.8.5"
  }
 },
 "nbformat": 4,
 "nbformat_minor": 4
}
