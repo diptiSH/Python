{
 "cells": [
  {
   "cell_type": "code",
   "execution_count": 1,
   "metadata": {},
   "outputs": [],
   "source": [
    "import xarray as xr\n",
    "import numpy as np\n",
    "import pandas as pd\n",
    "import datetime\n",
    "import matplotlib.pyplot as plt\n",
    "from keras.models import Sequential\n",
    "from keras.layers import Dense, Conv3D, Flatten,MaxPooling3D,AveragePooling3D, concatenate,Input ,SpatialDropout3D,Dropout\n",
    "import keras\n",
    "from math import e\n",
    "from sklearn.model_selection import train_test_split\n",
    "from keras.models import Model\n",
    "from sklearn.preprocessing import StandardScaler\n",
    "from joblib import dump, load\n",
    "from hyperopt import Trials, STATUS_OK, tpe\n",
    "from hyperas import optim\n",
    "from hyperas.distributions import choice, uniform\n",
    "from sklearn.model_selection import KFold"
   ]
  },
  {
   "cell_type": "code",
   "execution_count": 2,
   "metadata": {},
   "outputs": [],
   "source": [
    "inputData = xr.open_dataset('CNN_input.nc')"
   ]
  },
  {
   "cell_type": "code",
   "execution_count": 3,
   "metadata": {},
   "outputs": [],
   "source": [
    "t2mTsAll=inputData.t2mTsAll\n",
    "wsTsAll=inputData.wsTsAll\n",
    "rhTsAll=inputData.rhTsAll\n",
    "invTsAll=inputData.invTsAll\n",
    "wTsAll=inputData.wTsAll\n",
    "ushearTsAll=inputData.ushearTsAll\n",
    "EU1DAll=inputData.EU1DAll\n",
    "EU5DAll=inputData.EU5DAll\n",
    "EU7DAll=inputData.EU7DAll\n",
    "EU14DAll=inputData.EU14DAll\n",
    "EU30DAll=inputData.EU30DAll"
   ]
  },
  {
   "cell_type": "code",
   "execution_count": 4,
   "metadata": {},
   "outputs": [],
   "source": [
    "fogData = xr.open_dataset('../../../../Data/FogData/CombinedFogData_25Stations.nc')\n",
    "#plt.figure(figsize=[16,8])\n",
    "StackFog=fogData.fogdata.stack(a=('years','months','days'))\n",
    "StackFog\n",
    "dd =[];\n",
    "for i in range(StackFog.years.values.shape[0]):\n",
    "    dd=dd+[str(StackFog.years[i].values)+'-'+str(StackFog.months[i].values)+\"-\"+str(StackFog.days[i].values)]\n",
    "fg = xr.Dataset({'fogdata': (('time','stations'), StackFog.values.T)}, coords={'time': pd.to_datetime(dd),'stations': fogData.stations})\n",
    "yAll=fg.fogdata.sum(dim='stations').sel(time=slice('1980-1-1','2018-12-31'))\n",
    "yAll=yAll/25.0"
   ]
  },
  {
   "cell_type": "code",
   "execution_count": 5,
   "metadata": {},
   "outputs": [],
   "source": [
    "t2m_train,t2m_test,ws_train,ws_test,rh_train,rh_test,inv_train,inv_test, w_train, w_test,ushear_train, ushear_test,EU1D_train,EU1D_test,EU5D_train,EU5D_test,EU7D_train,EU7D_test,EU14D_train,EU14D_test,EU30D_train,EU30D_test,y_train,y_test= train_test_split( t2mTsAll,wsTsAll,rhTsAll,invTsAll, wTsAll,ushearTsAll,EU1DAll,EU5DAll,EU7DAll,EU14DAll,EU30DAll,yAll,test_size=0.20, random_state=0)"
   ]
  },
  {
   "cell_type": "code",
   "execution_count": 6,
   "metadata": {},
   "outputs": [
    {
     "data": {
      "text/plain": [
       "(1934, 18, 26, 1)"
      ]
     },
     "execution_count": 6,
     "metadata": {},
     "output_type": "execute_result"
    }
   ],
   "source": [
    "t2mtrain=t2m_train.values\n",
    "t2mtrain=t2mtrain[:,:,:,None]\n",
    "t2mtrain.shape\n",
    "\n",
    "\n",
    "wstrain=ws_train.values\n",
    "wstrain=wstrain[:,:,:,None]\n",
    "wstrain.shape\n",
    "\n",
    "rhtrain=rh_train.values\n",
    "rhtrain=rhtrain[:,:,:,None]\n",
    "rhtrain.shape\n",
    "\n",
    "\n",
    "invtrain=inv_train.values\n",
    "invtrain=invtrain[:,:,:,None]\n",
    "invtrain.shape\n",
    "\n",
    "wtrain=w_train.values\n",
    "wtrain=wtrain[:,:,:,None]\n",
    "wtrain.shape\n",
    "\n",
    "usheartrain=ushear_train.values\n",
    "usheartrain=usheartrain[:,:,:,None]\n",
    "usheartrain.shape\n",
    "\n",
    "EU1Dtrain=EU1D_train.values\n",
    "EU1Dtrain=EU1Dtrain[:,:,:,None]\n",
    "EU1Dtrain.shape\n",
    "\n",
    "EU5Dtrain=EU5D_train.values\n",
    "EU5Dtrain=EU5Dtrain[:,:,:,None]\n",
    "EU5Dtrain.shape\n",
    "\n",
    "EU7Dtrain=EU7D_train.values\n",
    "EU7Dtrain=EU7Dtrain[:,:,:,None]\n",
    "EU7Dtrain.shape\n",
    "\n",
    "EU14Dtrain=EU14D_train.values\n",
    "EU14Dtrain=EU14Dtrain[:,:,:,None]\n",
    "EU14Dtrain.shape\n",
    "\n",
    "EU30Dtrain=EU30D_train.values\n",
    "EU30Dtrain=EU30Dtrain[:,:,:,None]\n",
    "EU30Dtrain.shape"
   ]
  },
  {
   "cell_type": "code",
   "execution_count": 7,
   "metadata": {},
   "outputs": [
    {
     "data": {
      "text/plain": [
       "(484, 18, 26, 1)"
      ]
     },
     "execution_count": 7,
     "metadata": {},
     "output_type": "execute_result"
    }
   ],
   "source": [
    "t2mtest=t2m_test.values\n",
    "t2mtest=t2mtest[:,:,:,None]\n",
    "t2mtest.shape\n",
    "\n",
    "\n",
    "wstest=ws_test.values\n",
    "wstest=wstest[:,:,:,None]\n",
    "wstest.shape\n",
    "\n",
    "rhtest=rh_test.values\n",
    "rhtest=rhtest[:,:,:,None]\n",
    "rhtest.shape\n",
    "\n",
    "\n",
    "invtest=inv_test.values\n",
    "invtest=invtest[:,:,:,None]\n",
    "invtest.shape\n",
    "\n",
    "wtest=w_test.values\n",
    "wtest=wtest[:,:,:,None]\n",
    "wtest.shape\n",
    "\n",
    "usheartest=ushear_test.values\n",
    "usheartest=usheartest[:,:,:,None]\n",
    "usheartest.shape\n",
    "\n",
    "EU1Dtest=EU1D_test.values\n",
    "EU1Dtest=EU1Dtest[:,:,:,None]\n",
    "EU1Dtest.shape\n",
    "\n",
    "EU5Dtest=EU5D_test.values\n",
    "EU5Dtest=EU5Dtest[:,:,:,None]\n",
    "EU5Dtest.shape\n",
    "\n",
    "EU7Dtest=EU7D_test.values\n",
    "EU7Dtest=EU7Dtest[:,:,:,None]\n",
    "EU7Dtest.shape\n",
    "\n",
    "EU14Dtest=EU14D_test.values\n",
    "EU14Dtest=EU14Dtest[:,:,:,None]\n",
    "EU14Dtest.shape\n",
    "\n",
    "EU30Dtest=EU30D_test.values\n",
    "EU30Dtest=EU30Dtest[:,:,:,None]\n",
    "EU30Dtest.shape"
   ]
  },
  {
   "cell_type": "code",
   "execution_count": 8,
   "metadata": {},
   "outputs": [
    {
     "data": {
      "text/plain": [
       "(484, 1)"
      ]
     },
     "execution_count": 8,
     "metadata": {},
     "output_type": "execute_result"
    }
   ],
   "source": [
    "ytrain=y_train.values\n",
    "ytrain=ytrain[:,None]\n",
    "ytrain.shape\n",
    "ytest=y_test.values\n",
    "ytest=ytest[:,None]\n",
    "ytest.shape"
   ]
  },
  {
   "cell_type": "markdown",
   "metadata": {},
   "source": [
    "#AO1D"
   ]
  },
  {
   "cell_type": "code",
   "execution_count": 9,
   "metadata": {},
   "outputs": [
    {
     "name": "stdout",
     "output_type": "stream",
     "text": [
      "WARNING:tensorflow:Keras is training/fitting/evaluating on array-like data. Keras may not be optimized for this format, so if your input data format is supported by TensorFlow I/O (https://github.com/tensorflow/io) we recommend using that to load a Dataset instead.\n",
      "Epoch 1/20\n",
      "61/61 [==============================] - 2s 19ms/step - loss: 0.1928 - mse: 0.0590\n",
      "Epoch 2/20\n",
      "61/61 [==============================] - 1s 19ms/step - loss: 0.1594 - mse: 0.0397\n",
      "Epoch 3/20\n",
      "61/61 [==============================] - 1s 20ms/step - loss: 0.1481 - mse: 0.0364\n",
      "Epoch 4/20\n",
      "61/61 [==============================] - 1s 20ms/step - loss: 0.1317 - mse: 0.0284\n",
      "Epoch 5/20\n",
      "61/61 [==============================] - 1s 20ms/step - loss: 0.1151 - mse: 0.0221\n",
      "Epoch 6/20\n",
      "61/61 [==============================] - 1s 20ms/step - loss: 0.1134 - mse: 0.0209\n",
      "Epoch 7/20\n",
      "61/61 [==============================] - 1s 20ms/step - loss: 0.1016 - mse: 0.0176\n",
      "Epoch 8/20\n",
      "61/61 [==============================] - 1s 20ms/step - loss: 0.0996 - mse: 0.0168\n",
      "Epoch 9/20\n",
      "61/61 [==============================] - 1s 20ms/step - loss: 0.0967 - mse: 0.0151\n",
      "Epoch 10/20\n",
      "61/61 [==============================] - 1s 19ms/step - loss: 0.0921 - mse: 0.0141\n",
      "Epoch 11/20\n",
      "61/61 [==============================] - 1s 20ms/step - loss: 0.0915 - mse: 0.0143\n",
      "Epoch 12/20\n",
      "61/61 [==============================] - 1s 19ms/step - loss: 0.0872 - mse: 0.0132\n",
      "Epoch 13/20\n",
      "61/61 [==============================] - 1s 19ms/step - loss: 0.0907 - mse: 0.0138\n",
      "Epoch 14/20\n",
      "61/61 [==============================] - 1s 21ms/step - loss: 0.0822 - mse: 0.0115\n",
      "Epoch 15/20\n",
      "61/61 [==============================] - 1s 20ms/step - loss: 0.0794 - mse: 0.0114\n",
      "Epoch 16/20\n",
      "61/61 [==============================] - 1s 24ms/step - loss: 0.0822 - mse: 0.0121\n",
      "Epoch 17/20\n",
      "61/61 [==============================] - 1s 20ms/step - loss: 0.0770 - mse: 0.0100\n",
      "Epoch 18/20\n",
      "61/61 [==============================] - 1s 20ms/step - loss: 0.0740 - mse: 0.0096\n",
      "Epoch 19/20\n",
      "61/61 [==============================] - 1s 19ms/step - loss: 0.0769 - mse: 0.0101\n",
      "Epoch 20/20\n",
      "61/61 [==============================] - 1s 19ms/step - loss: 0.0721 - mse: 0.0093: 1s - loss: 0.0\n",
      "WARNING:tensorflow:Keras is training/fitting/evaluating on array-like data. Keras may not be optimized for this format, so if your input data format is supported by TensorFlow I/O (https://github.com/tensorflow/io) we recommend using that to load a Dataset instead.\n",
      "mse: 1.33%\n"
     ]
    },
    {
     "data": {
      "image/png": "[encoded data removed]",
      "text/plain": [
       "<Figure size 432x288 with 1 Axes>"
      ]
     },
     "metadata": {
      "needs_background": "light"
     },
     "output_type": "display_data"
    }
   ],
   "source": [
    "X_test=np.array([t2mtest,rhtest,wstest,invtest,wtest,usheartest,EU1Dtest])\n",
    "#X_test=np.array([rhtest,wstest,invtest,wtest,usheartest,EUtest,eutest])\n",
    "X_test.shape\n",
    "\n",
    "X_train=np.array([t2mtrain,rhtrain,wstrain,invtrain,wtrain,usheartrain,EU1Dtrain])\n",
    "#X_train=np.array([rhtrain,wstrain,invtrain,wtrain,usheartrain,EUtrain,eutrain])\n",
    "X_train.shape\n",
    "\n",
    "X_train_reshape = np.einsum('lkija->klija',X_train)\n",
    "X_train_reshape.shape\n",
    "\n",
    "X_test_reshape = np.einsum('lkija->klija',X_test)\n",
    "X_test_reshape.shape\n",
    "\n",
    "\n",
    "model = Sequential()\n",
    "model.add(Conv3D(16, kernel_size=3, activation='relu',padding='same',\n",
    "                     input_shape=(X_train_reshape.shape[1],X_train_reshape.shape[2],X_train_reshape.shape[3],1)),)\n",
    "model.add(AveragePooling3D(pool_size=2,padding='same'))\n",
    "model.add(Conv3D(32, kernel_size=3, activation='relu',padding='same'))\n",
    "model.add(AveragePooling3D(pool_size=2,padding='same'))\n",
    "model.add(Dropout(0.2))\n",
    "model.add(Conv3D(64, kernel_size=3, activation='relu',padding='same'))\n",
    "model.add(AveragePooling3D(pool_size=2,padding='same'))\n",
    "model.add(Dropout(0.2))\n",
    "\n",
    "\n",
    "model.add(Flatten())\n",
    "\n",
    "model.add(Dense(32, activation='relu'))\n",
    "model.add(Dense(units=1, activation = 'linear'))\n",
    "\n",
    "adam = keras.optimizers.Adam(lr=0.01)\n",
    "model.compile(optimizer='adam', loss='mae',  metrics='mse')\n",
    "history = model.fit(X_train_reshape, y_train, epochs=20)\n",
    "yy_test = model.predict(X_test_reshape)\n",
    "    \n",
    "test_corr = np.corrcoef(yy_test[:,0],y_test)[0,1]\n",
    "plt.title('corr = %f'%test_corr)\n",
    "\n",
    "plt.plot(yy_test,y_test,'+')\n",
    "scores = model.evaluate(X_test_reshape, y_test, verbose=0)\n",
    "print(\"%s: %.2f%%\" % (model.metrics_names[1], scores[1]*100))"
   ]
  },
  {
   "cell_type": "markdown",
   "metadata": {},
   "source": [
    "#AO5D"
   ]
  },
  {
   "cell_type": "code",
   "execution_count": 10,
   "metadata": {},
   "outputs": [
    {
     "name": "stdout",
     "output_type": "stream",
     "text": [
      "WARNING:tensorflow:Keras is training/fitting/evaluating on array-like data. Keras may not be optimized for this format, so if your input data format is supported by TensorFlow I/O (https://github.com/tensorflow/io) we recommend using that to load a Dataset instead.\n",
      "Epoch 1/20\n",
      "61/61 [==============================] - 3s 21ms/step - loss: 0.1912 - mse: 0.0572\n",
      "Epoch 2/20\n",
      "61/61 [==============================] - 1s 19ms/step - loss: 0.1662 - mse: 0.0429\n",
      "Epoch 3/20\n",
      "61/61 [==============================] - 1s 20ms/step - loss: 0.1451 - mse: 0.0333\n",
      "Epoch 4/20\n",
      "61/61 [==============================] - 1s 19ms/step - loss: 0.1252 - mse: 0.0254\n",
      "Epoch 5/20\n",
      "61/61 [==============================] - 1s 19ms/step - loss: 0.1085 - mse: 0.0203\n",
      "Epoch 6/20\n",
      "61/61 [==============================] - 1s 19ms/step - loss: 0.1098 - mse: 0.0200\n",
      "Epoch 7/20\n",
      "61/61 [==============================] - 1s 19ms/step - loss: 0.0975 - mse: 0.0161\n",
      "Epoch 8/20\n",
      "61/61 [==============================] - 1s 19ms/step - loss: 0.0987 - mse: 0.0164\n",
      "Epoch 9/20\n",
      "61/61 [==============================] - 1s 18ms/step - loss: 0.0974 - mse: 0.0156\n",
      "Epoch 10/20\n",
      "61/61 [==============================] - 1s 19ms/step - loss: 0.0888 - mse: 0.0136\n",
      "Epoch 11/20\n",
      "61/61 [==============================] - 2s 27ms/step - loss: 0.0984 - mse: 0.0170\n",
      "Epoch 12/20\n",
      "61/61 [==============================] - 1s 19ms/step - loss: 0.0883 - mse: 0.0133\n",
      "Epoch 13/20\n",
      "61/61 [==============================] - 1s 19ms/step - loss: 0.0802 - mse: 0.0110\n",
      "Epoch 14/20\n",
      "61/61 [==============================] - 1s 20ms/step - loss: 0.0790 - mse: 0.0105\n",
      "Epoch 15/20\n",
      "61/61 [==============================] - 1s 19ms/step - loss: 0.0789 - mse: 0.0107\n",
      "Epoch 16/20\n",
      "61/61 [==============================] - 1s 18ms/step - loss: 0.0786 - mse: 0.0106\n",
      "Epoch 17/20\n",
      "61/61 [==============================] - 1s 19ms/step - loss: 0.0766 - mse: 0.0100\n",
      "Epoch 18/20\n",
      "61/61 [==============================] - 1s 19ms/step - loss: 0.0727 - mse: 0.0093\n",
      "Epoch 19/20\n",
      "61/61 [==============================] - 1s 20ms/step - loss: 0.0703 - mse: 0.0085\n",
      "Epoch 20/20\n",
      "61/61 [==============================] - 1s 19ms/step - loss: 0.0725 - mse: 0.0093\n",
      "WARNING:tensorflow:Keras is training/fitting/evaluating on array-like data. Keras may not be optimized for this format, so if your input data format is supported by TensorFlow I/O (https://github.com/tensorflow/io) we recommend using that to load a Dataset instead.\n",
      "mse: 1.20%\n"
     ]
    },
    {
     "data": {
      "image/png": "[encoded data removed]",
      "text/plain": [
       "<Figure size 432x288 with 1 Axes>"
      ]
     },
     "metadata": {
      "needs_background": "light"
     },
     "output_type": "display_data"
    }
   ],
   "source": [
    "X_test=np.array([t2mtest,rhtest,wstest,invtest,wtest,usheartest,EU5Dtest])\n",
    "#X_test=np.array([rhtest,wstest,invtest,wtest,usheartest,EUtest,eutest])\n",
    "X_test.shape\n",
    "\n",
    "X_train=np.array([t2mtrain,rhtrain,wstrain,invtrain,wtrain,usheartrain,EU5Dtrain])\n",
    "#X_train=np.array([rhtrain,wstrain,invtrain,wtrain,usheartrain,EUtrain,eutrain])\n",
    "X_train.shape\n",
    "\n",
    "X_train_reshape = np.einsum('lkija->klija',X_train)\n",
    "X_train_reshape.shape\n",
    "\n",
    "X_test_reshape = np.einsum('lkija->klija',X_test)\n",
    "X_test_reshape.shape\n",
    "\n",
    "\n",
    "model = Sequential()\n",
    "model.add(Conv3D(16, kernel_size=3, activation='relu',padding='same',\n",
    "                     input_shape=(X_train_reshape.shape[1],X_train_reshape.shape[2],X_train_reshape.shape[3],1)),)\n",
    "model.add(AveragePooling3D(pool_size=2,padding='same'))\n",
    "model.add(Conv3D(32, kernel_size=3, activation='relu',padding='same'))\n",
    "model.add(AveragePooling3D(pool_size=2,padding='same'))\n",
    "model.add(Dropout(0.2))\n",
    "model.add(Conv3D(64, kernel_size=3, activation='relu',padding='same'))\n",
    "model.add(AveragePooling3D(pool_size=2,padding='same'))\n",
    "model.add(Dropout(0.2))\n",
    "\n",
    "\n",
    "model.add(Flatten())\n",
    "\n",
    "model.add(Dense(32, activation='relu'))\n",
    "model.add(Dense(units=1, activation = 'linear'))\n",
    "\n",
    "adam = keras.optimizers.Adam(lr=0.01)\n",
    "model.compile(optimizer='adam', loss='mae',  metrics='mse')\n",
    "history = model.fit(X_train_reshape, y_train, epochs=20)\n",
    "yy_test = model.predict(X_test_reshape)\n",
    "    \n",
    "test_corr = np.corrcoef(yy_test[:,0],y_test)[0,1]\n",
    "plt.title('corr = %f'%test_corr)\n",
    "\n",
    "plt.plot(yy_test,y_test,'+')\n",
    "scores = model.evaluate(X_test_reshape, y_test, verbose=0)\n",
    "print(\"%s: %.2f%%\" % (model.metrics_names[1], scores[1]*100))"
   ]
  },
  {
   "cell_type": "markdown",
   "metadata": {},
   "source": [
    "#AO7D"
   ]
  },
  {
   "cell_type": "code",
   "execution_count": 11,
   "metadata": {},
   "outputs": [
    {
     "name": "stdout",
     "output_type": "stream",
     "text": [
      "WARNING:tensorflow:Keras is training/fitting/evaluating on array-like data. Keras may not be optimized for this format, so if your input data format is supported by TensorFlow I/O (https://github.com/tensorflow/io) we recommend using that to load a Dataset instead.\n",
      "Epoch 1/20\n",
      "61/61 [==============================] - 2s 20ms/step - loss: 0.1963 - mse: 0.0597\n",
      "Epoch 2/20\n",
      "61/61 [==============================] - 1s 19ms/step - loss: 0.1790 - mse: 0.0477\n",
      "Epoch 3/20\n",
      "61/61 [==============================] - 1s 21ms/step - loss: 0.1613 - mse: 0.0413\n",
      "Epoch 4/20\n",
      "61/61 [==============================] - 1s 18ms/step - loss: 0.1535 - mse: 0.0387\n",
      "Epoch 5/20\n",
      "61/61 [==============================] - 1s 19ms/step - loss: 0.1182 - mse: 0.0234\n",
      "Epoch 6/20\n",
      "61/61 [==============================] - 1s 19ms/step - loss: 0.1123 - mse: 0.0215\n",
      "Epoch 7/20\n",
      "61/61 [==============================] - 1s 19ms/step - loss: 0.1091 - mse: 0.0209\n",
      "Epoch 8/20\n",
      "61/61 [==============================] - 1s 19ms/step - loss: 0.1007 - mse: 0.0173\n",
      "Epoch 9/20\n",
      "61/61 [==============================] - 1s 19ms/step - loss: 0.0964 - mse: 0.0155\n",
      "Epoch 10/20\n",
      "61/61 [==============================] - 1s 19ms/step - loss: 0.0954 - mse: 0.0159\n",
      "Epoch 11/20\n",
      "61/61 [==============================] - 1s 18ms/step - loss: 0.0921 - mse: 0.0146\n",
      "Epoch 12/20\n",
      "61/61 [==============================] - 1s 19ms/step - loss: 0.0865 - mse: 0.0127\n",
      "Epoch 13/20\n",
      "61/61 [==============================] - 1s 18ms/step - loss: 0.0844 - mse: 0.0123\n",
      "Epoch 14/20\n",
      "61/61 [==============================] - 1s 18ms/step - loss: 0.0807 - mse: 0.0111\n",
      "Epoch 15/20\n",
      "61/61 [==============================] - 1s 18ms/step - loss: 0.0862 - mse: 0.0126\n",
      "Epoch 16/20\n",
      "61/61 [==============================] - 1s 19ms/step - loss: 0.0759 - mse: 0.0100\n",
      "Epoch 17/20\n",
      "61/61 [==============================] - 1s 19ms/step - loss: 0.0754 - mse: 0.0100\n",
      "Epoch 18/20\n",
      "61/61 [==============================] - 1s 19ms/step - loss: 0.0743 - mse: 0.0091\n",
      "Epoch 19/20\n",
      "61/61 [==============================] - 1s 18ms/step - loss: 0.0727 - mse: 0.0091\n",
      "Epoch 20/20\n",
      "61/61 [==============================] - 1s 19ms/step - loss: 0.0721 - mse: 0.0090\n",
      "WARNING:tensorflow:Keras is training/fitting/evaluating on array-like data. Keras may not be optimized for this format, so if your input data format is supported by TensorFlow I/O (https://github.com/tensorflow/io) we recommend using that to load a Dataset instead.\n",
      "mse: 1.25%\n"
     ]
    },
    {
     "data": {
      "image/png": "[encoded data removed]",
      "text/plain": [
       "<Figure size 432x288 with 1 Axes>"
      ]
     },
     "metadata": {
      "needs_background": "light"
     },
     "output_type": "display_data"
    }
   ],
   "source": [
    "X_test=np.array([t2mtest,rhtest,wstest,invtest,wtest,usheartest,EU7Dtest])\n",
    "#X_test=np.array([rhtest,wstest,invtest,wtest,usheartest,EUtest,eutest])\n",
    "X_test.shape\n",
    "\n",
    "X_train=np.array([t2mtrain,rhtrain,wstrain,invtrain,wtrain,usheartrain,EU7Dtrain])\n",
    "#X_train=np.array([rhtrain,wstrain,invtrain,wtrain,usheartrain,EUtrain,eutrain])\n",
    "X_train.shape\n",
    "\n",
    "X_train_reshape = np.einsum('lkija->klija',X_train)\n",
    "X_train_reshape.shape\n",
    "\n",
    "X_test_reshape = np.einsum('lkija->klija',X_test)\n",
    "X_test_reshape.shape\n",
    "\n",
    "\n",
    "model = Sequential()\n",
    "model.add(Conv3D(16, kernel_size=3, activation='relu',padding='same',\n",
    "                     input_shape=(X_train_reshape.shape[1],X_train_reshape.shape[2],X_train_reshape.shape[3],1)),)\n",
    "model.add(AveragePooling3D(pool_size=2,padding='same'))\n",
    "model.add(Conv3D(32, kernel_size=3, activation='relu',padding='same'))\n",
    "model.add(AveragePooling3D(pool_size=2,padding='same'))\n",
    "model.add(Dropout(0.2))\n",
    "model.add(Conv3D(64, kernel_size=3, activation='relu',padding='same'))\n",
    "model.add(AveragePooling3D(pool_size=2,padding='same'))\n",
    "model.add(Dropout(0.2))\n",
    "\n",
    "\n",
    "model.add(Flatten())\n",
    "\n",
    "model.add(Dense(32, activation='relu'))\n",
    "model.add(Dense(units=1, activation = 'linear'))\n",
    "\n",
    "adam = keras.optimizers.Adam(lr=0.01)\n",
    "model.compile(optimizer='adam', loss='mae',  metrics='mse')\n",
    "history = model.fit(X_train_reshape, y_train, epochs=20)\n",
    "yy_test = model.predict(X_test_reshape)\n",
    "    \n",
    "test_corr = np.corrcoef(yy_test[:,0],y_test)[0,1]\n",
    "plt.title('corr = %f'%test_corr)\n",
    "\n",
    "plt.plot(yy_test,y_test,'+')\n",
    "scores = model.evaluate(X_test_reshape, y_test, verbose=0)\n",
    "print(\"%s: %.2f%%\" % (model.metrics_names[1], scores[1]*100))"
   ]
  },
  {
   "cell_type": "markdown",
   "metadata": {},
   "source": [
    "#AO14D"
   ]
  },
  {
   "cell_type": "code",
   "execution_count": 12,
   "metadata": {},
   "outputs": [
    {
     "name": "stdout",
     "output_type": "stream",
     "text": [
      "WARNING:tensorflow:Keras is training/fitting/evaluating on array-like data. Keras may not be optimized for this format, so if your input data format is supported by TensorFlow I/O (https://github.com/tensorflow/io) we recommend using that to load a Dataset instead.\n",
      "Epoch 1/20\n",
      "61/61 [==============================] - 2s 19ms/step - loss: 0.1936 - mse: 0.0607\n",
      "Epoch 2/20\n",
      "61/61 [==============================] - 1s 20ms/step - loss: 0.1739 - mse: 0.0462\n",
      "Epoch 3/20\n",
      "61/61 [==============================] - 1s 19ms/step - loss: 0.1534 - mse: 0.0380\n",
      "Epoch 4/20\n",
      "61/61 [==============================] - 1s 18ms/step - loss: 0.1323 - mse: 0.0286\n",
      "Epoch 5/20\n",
      "61/61 [==============================] - 1s 20ms/step - loss: 0.1199 - mse: 0.0244\n",
      "Epoch 6/20\n",
      "61/61 [==============================] - 1s 20ms/step - loss: 0.1113 - mse: 0.0206\n",
      "Epoch 7/20\n",
      "61/61 [==============================] - 1s 20ms/step - loss: 0.1047 - mse: 0.0186\n",
      "Epoch 8/20\n",
      "61/61 [==============================] - 1s 20ms/step - loss: 0.1013 - mse: 0.0171\n",
      "Epoch 9/20\n",
      "61/61 [==============================] - 1s 19ms/step - loss: 0.0978 - mse: 0.0163\n",
      "Epoch 10/20\n",
      "61/61 [==============================] - 1s 19ms/step - loss: 0.0944 - mse: 0.0149\n",
      "Epoch 11/20\n",
      "61/61 [==============================] - 1s 19ms/step - loss: 0.0916 - mse: 0.0142\n",
      "Epoch 12/20\n",
      "61/61 [==============================] - 1s 19ms/step - loss: 0.0900 - mse: 0.0143\n",
      "Epoch 13/20\n",
      "61/61 [==============================] - 1s 19ms/step - loss: 0.0901 - mse: 0.0142\n",
      "Epoch 14/20\n",
      "61/61 [==============================] - 1s 19ms/step - loss: 0.0814 - mse: 0.0113\n",
      "Epoch 15/20\n",
      "61/61 [==============================] - 1s 19ms/step - loss: 0.0823 - mse: 0.0117\n",
      "Epoch 16/20\n",
      "61/61 [==============================] - 1s 19ms/step - loss: 0.0799 - mse: 0.0107\n",
      "Epoch 17/20\n",
      "61/61 [==============================] - 1s 19ms/step - loss: 0.0779 - mse: 0.0105\n",
      "Epoch 18/20\n",
      "61/61 [==============================] - 1s 20ms/step - loss: 0.0772 - mse: 0.0100\n",
      "Epoch 19/20\n",
      "61/61 [==============================] - 1s 19ms/step - loss: 0.0761 - mse: 0.0100\n",
      "Epoch 20/20\n",
      "61/61 [==============================] - 1s 19ms/step - loss: 0.0739 - mse: 0.0096\n",
      "WARNING:tensorflow:Keras is training/fitting/evaluating on array-like data. Keras may not be optimized for this format, so if your input data format is supported by TensorFlow I/O (https://github.com/tensorflow/io) we recommend using that to load a Dataset instead.\n",
      "mse: 1.30%\n"
     ]
    },
    {
     "data": {
      "image/png": "[encoded data removed]",
      "text/plain": [
       "<Figure size 432x288 with 1 Axes>"
      ]
     },
     "metadata": {
      "needs_background": "light"
     },
     "output_type": "display_data"
    }
   ],
   "source": [
    "X_test=np.array([t2mtest,rhtest,wstest,invtest,wtest,usheartest,EU14Dtest])\n",
    "#X_test=np.array([rhtest,wstest,invtest,wtest,usheartest,EUtest,eutest])\n",
    "X_test.shape\n",
    "\n",
    "X_train=np.array([t2mtrain,rhtrain,wstrain,invtrain,wtrain,usheartrain,EU14Dtrain])\n",
    "#X_train=np.array([rhtrain,wstrain,invtrain,wtrain,usheartrain,EUtrain,eutrain])\n",
    "X_train.shape\n",
    "\n",
    "X_train_reshape = np.einsum('lkija->klija',X_train)\n",
    "X_train_reshape.shape\n",
    "\n",
    "X_test_reshape = np.einsum('lkija->klija',X_test)\n",
    "X_test_reshape.shape\n",
    "\n",
    "\n",
    "model = Sequential()\n",
    "model.add(Conv3D(16, kernel_size=3, activation='relu',padding='same',\n",
    "                     input_shape=(X_train_reshape.shape[1],X_train_reshape.shape[2],X_train_reshape.shape[3],1)),)\n",
    "model.add(AveragePooling3D(pool_size=2,padding='same'))\n",
    "model.add(Conv3D(32, kernel_size=3, activation='relu',padding='same'))\n",
    "model.add(AveragePooling3D(pool_size=2,padding='same'))\n",
    "model.add(Dropout(0.2))\n",
    "model.add(Conv3D(64, kernel_size=3, activation='relu',padding='same'))\n",
    "model.add(AveragePooling3D(pool_size=2,padding='same'))\n",
    "model.add(Dropout(0.2))\n",
    "\n",
    "\n",
    "model.add(Flatten())\n",
    "\n",
    "model.add(Dense(32, activation='relu'))\n",
    "model.add(Dense(units=1, activation = 'linear'))\n",
    "\n",
    "adam = keras.optimizers.Adam(lr=0.01)\n",
    "model.compile(optimizer='adam', loss='mae',  metrics='mse')\n",
    "history = model.fit(X_train_reshape, y_train, epochs=20)\n",
    "yy_test = model.predict(X_test_reshape)\n",
    "    \n",
    "test_corr = np.corrcoef(yy_test[:,0],y_test)[0,1]\n",
    "plt.title('corr = %f'%test_corr)\n",
    "\n",
    "plt.plot(yy_test,y_test,'+')\n",
    "scores = model.evaluate(X_test_reshape, y_test, verbose=0)\n",
    "print(\"%s: %.2f%%\" % (model.metrics_names[1], scores[1]*100))"
   ]
  },
  {
   "cell_type": "markdown",
   "metadata": {},
   "source": [
    "#AO30D"
   ]
  },
  {
   "cell_type": "code",
   "execution_count": 13,
   "metadata": {},
   "outputs": [
    {
     "name": "stdout",
     "output_type": "stream",
     "text": [
      "WARNING:tensorflow:Keras is training/fitting/evaluating on array-like data. Keras may not be optimized for this format, so if your input data format is supported by TensorFlow I/O (https://github.com/tensorflow/io) we recommend using that to load a Dataset instead.\n",
      "Epoch 1/20\n",
      "61/61 [==============================] - 2s 20ms/step - loss: 0.1872 - mse: 0.0567\n",
      "Epoch 2/20\n",
      "61/61 [==============================] - 1s 18ms/step - loss: 0.1716 - mse: 0.0450\n",
      "Epoch 3/20\n",
      "61/61 [==============================] - 1s 19ms/step - loss: 0.1484 - mse: 0.0355\n",
      "Epoch 4/20\n",
      "61/61 [==============================] - 1s 19ms/step - loss: 0.1232 - mse: 0.0252\n",
      "Epoch 5/20\n",
      "61/61 [==============================] - 1s 19ms/step - loss: 0.1280 - mse: 0.0279\n",
      "Epoch 6/20\n",
      "61/61 [==============================] - 1s 19ms/step - loss: 0.1045 - mse: 0.0188\n",
      "Epoch 7/20\n",
      "61/61 [==============================] - 1s 19ms/step - loss: 0.0974 - mse: 0.0163\n",
      "Epoch 8/20\n",
      "61/61 [==============================] - 1s 19ms/step - loss: 0.0963 - mse: 0.0155\n",
      "Epoch 9/20\n",
      "61/61 [==============================] - 1s 18ms/step - loss: 0.0934 - mse: 0.0144\n",
      "Epoch 10/20\n",
      "61/61 [==============================] - 1s 19ms/step - loss: 0.0898 - mse: 0.0136\n",
      "Epoch 11/20\n",
      "61/61 [==============================] - 1s 19ms/step - loss: 0.0881 - mse: 0.0129\n",
      "Epoch 12/20\n",
      "61/61 [==============================] - 1s 19ms/step - loss: 0.0877 - mse: 0.0126\n",
      "Epoch 13/20\n",
      "61/61 [==============================] - 1s 19ms/step - loss: 0.0827 - mse: 0.0117\n",
      "Epoch 14/20\n",
      "61/61 [==============================] - 1s 18ms/step - loss: 0.0898 - mse: 0.0135\n",
      "Epoch 15/20\n",
      "61/61 [==============================] - 1s 19ms/step - loss: 0.0798 - mse: 0.0107\n",
      "Epoch 16/20\n",
      "61/61 [==============================] - 1s 19ms/step - loss: 0.0772 - mse: 0.0100\n",
      "Epoch 17/20\n",
      "61/61 [==============================] - 1s 18ms/step - loss: 0.0745 - mse: 0.0099\n",
      "Epoch 18/20\n",
      "61/61 [==============================] - 1s 19ms/step - loss: 0.0773 - mse: 0.0099\n",
      "Epoch 19/20\n",
      "61/61 [==============================] - 1s 19ms/step - loss: 0.0709 - mse: 0.0088\n",
      "Epoch 20/20\n",
      "61/61 [==============================] - 1s 19ms/step - loss: 0.0714 - mse: 0.0089\n",
      "WARNING:tensorflow:Keras is training/fitting/evaluating on array-like data. Keras may not be optimized for this format, so if your input data format is supported by TensorFlow I/O (https://github.com/tensorflow/io) we recommend using that to load a Dataset instead.\n",
      "mse: 1.20%\n"
     ]
    },
    {
     "data": {
      "image/png": "[encoded data removed]",
      "text/plain": [
       "<Figure size 432x288 with 1 Axes>"
      ]
     },
     "metadata": {
      "needs_background": "light"
     },
     "output_type": "display_data"
    }
   ],
   "source": [
    "X_test=np.array([t2mtest,rhtest,wstest,invtest,wtest,usheartest,EU30Dtest])\n",
    "#X_test=np.array([rhtest,wstest,invtest,wtest,usheartest,EUtest,eutest])\n",
    "X_test.shape\n",
    "\n",
    "X_train=np.array([t2mtrain,rhtrain,wstrain,invtrain,wtrain,usheartrain,EU30Dtrain])\n",
    "#X_train=np.array([rhtrain,wstrain,invtrain,wtrain,usheartrain,EUtrain,eutrain])\n",
    "X_train.shape\n",
    "\n",
    "X_train_reshape = np.einsum('lkija->klija',X_train)\n",
    "X_train_reshape.shape\n",
    "\n",
    "X_test_reshape = np.einsum('lkija->klija',X_test)\n",
    "X_test_reshape.shape\n",
    "\n",
    "\n",
    "model = Sequential()\n",
    "model.add(Conv3D(16, kernel_size=3, activation='relu',padding='same',\n",
    "                     input_shape=(X_train_reshape.shape[1],X_train_reshape.shape[2],X_train_reshape.shape[3],1)),)\n",
    "model.add(AveragePooling3D(pool_size=2,padding='same'))\n",
    "model.add(Conv3D(32, kernel_size=3, activation='relu',padding='same'))\n",
    "model.add(AveragePooling3D(pool_size=2,padding='same'))\n",
    "model.add(Dropout(0.2))\n",
    "model.add(Conv3D(64, kernel_size=3, activation='relu',padding='same'))\n",
    "model.add(AveragePooling3D(pool_size=2,padding='same'))\n",
    "model.add(Dropout(0.2))\n",
    "\n",
    "\n",
    "model.add(Flatten())\n",
    "\n",
    "model.add(Dense(32, activation='relu'))\n",
    "model.add(Dense(units=1, activation = 'linear'))\n",
    "\n",
    "adam = keras.optimizers.Adam(lr=0.01)\n",
    "model.compile(optimizer='adam', loss='mae',  metrics='mse')\n",
    "history = model.fit(X_train_reshape, y_train, epochs=20)\n",
    "yy_test = model.predict(X_test_reshape)\n",
    "    \n",
    "test_corr = np.corrcoef(yy_test[:,0],y_test)[0,1]\n",
    "plt.title('corr = %f'%test_corr)\n",
    "\n",
    "plt.plot(yy_test,y_test,'+')\n",
    "scores = model.evaluate(X_test_reshape, y_test, verbose=0)\n",
    "print(\"%s: %.2f%%\" % (model.metrics_names[1], scores[1]*100))"
   ]
  },
  {
   "cell_type": "code",
   "execution_count": null,
   "metadata": {},
   "outputs": [],
   "source": []
  }
 ],
 "metadata": {
  "kernelspec": {
   "display_name": "Python 3",
   "language": "python",
   "name": "python3"
  },
  "language_info": {
   "codemirror_mode": {
    "name": "ipython",
    "version": 3
   },
   "file_extension": ".py",
   "mimetype": "text/x-python",
   "name": "python",
   "nbconvert_exporter": "python",
   "pygments_lexer": "ipython3",
   "version": "3.8.5"
  }
 },
 "nbformat": 4,
 "nbformat_minor": 4
}
