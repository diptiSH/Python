{
 "cells": [
  {
   "cell_type": "code",
   "execution_count": 3,
   "metadata": {},
   "outputs": [],
   "source": [
    "import xarray as xr\n",
    "import numpy as np\n",
    "import pandas as pd\n",
    "import datetime\n",
    "import matplotlib.pyplot as plt\n",
    "from keras.models import Sequential\n",
    "from keras.layers import Dense, Conv3D, Flatten,MaxPooling3D,AveragePooling3D, concatenate,Input ,SpatialDropout3D,Dropout\n",
    "import keras\n",
    "from math import e\n",
    "from sklearn.model_selection import train_test_split\n",
    "from keras.models import Model\n",
    "from sklearn.preprocessing import StandardScaler\n",
    "from joblib import dump, load\n",
    "from hyperopt import Trials, STATUS_OK, tpe\n",
    "from hyperas import optim\n",
    "from hyperas.distributions import choice, uniform\n",
    "from sklearn.model_selection import KFold"
   ]
  },
  {
   "cell_type": "code",
   "execution_count": 4,
   "metadata": {},
   "outputs": [],
   "source": [
    "inputData = xr.open_dataset('CNN_input.nc')"
   ]
  },
  {
   "cell_type": "code",
   "execution_count": 5,
   "metadata": {},
   "outputs": [],
   "source": [
    "t2mTsAll=inputData.t2mTsAll\n",
    "wsTsAll=inputData.wsTsAll\n",
    "rhTsAll=inputData.rhTsAll\n",
    "invTsAll=inputData.invTsAll\n",
    "wTsAll=inputData.wTsAll\n",
    "ushearTsAll=inputData.ushearTsAll\n",
    "SST1DAll=inputData.SST1DAll\n",
    "SST5DAll=inputData.SST5DAll\n",
    "SST7DAll=inputData.SST7DAll\n",
    "SST14DAll=inputData.SST14DAll\n",
    "SST30DAll=inputData.SST30DAll"
   ]
  },
  {
   "cell_type": "code",
   "execution_count": 6,
   "metadata": {},
   "outputs": [],
   "source": [
    "fogData = xr.open_dataset('../../../../Data/FogData/CombinedFogData_25Stations.nc')\n",
    "#plt.figure(figsize=[16,8])\n",
    "StackFog=fogData.fogdata.stack(a=('years','months','days'))\n",
    "StackFog\n",
    "dd =[];\n",
    "for i in range(StackFog.years.values.shape[0]):\n",
    "    dd=dd+[str(StackFog.years[i].values)+'-'+str(StackFog.months[i].values)+\"-\"+str(StackFog.days[i].values)]\n",
    "fg = xr.Dataset({'fogdata': (('time','stations'), StackFog.values.T)}, coords={'time': pd.to_datetime(dd),'stations': fogData.stations})\n",
    "yAll=fg.fogdata.sum(dim='stations').sel(time=slice('1980-1-1','2018-12-31'))\n",
    "yAll=yAll/25.0"
   ]
  },
  {
   "cell_type": "code",
   "execution_count": 7,
   "metadata": {},
   "outputs": [],
   "source": [
    "t2m_train,t2m_test,ws_train,ws_test,rh_train,rh_test,inv_train,inv_test, w_train, w_test,ushear_train, ushear_test,SST1D_train,SST1D_test,SST5D_train,SST5D_test,SST7D_train,SST7D_test,SST14D_train,SST14D_test,SST30D_train,SST30D_test,y_train,y_test= train_test_split( t2mTsAll,wsTsAll,rhTsAll,invTsAll, wTsAll,ushearTsAll,SST1DAll,SST5DAll,SST7DAll,SST14DAll,SST30DAll,yAll,test_size=0.20, random_state=0)"
   ]
  },
  {
   "cell_type": "code",
   "execution_count": 8,
   "metadata": {},
   "outputs": [
    {
     "data": {
      "text/plain": [
       "(1934, 18, 26, 1)"
      ]
     },
     "execution_count": 8,
     "metadata": {},
     "output_type": "execute_result"
    }
   ],
   "source": [
    "t2mtrain=t2m_train.values\n",
    "t2mtrain=t2mtrain[:,:,:,None]\n",
    "t2mtrain.shape\n",
    "\n",
    "\n",
    "wstrain=ws_train.values\n",
    "wstrain=wstrain[:,:,:,None]\n",
    "wstrain.shape\n",
    "\n",
    "rhtrain=rh_train.values\n",
    "rhtrain=rhtrain[:,:,:,None]\n",
    "rhtrain.shape\n",
    "\n",
    "\n",
    "invtrain=inv_train.values\n",
    "invtrain=invtrain[:,:,:,None]\n",
    "invtrain.shape\n",
    "\n",
    "wtrain=w_train.values\n",
    "wtrain=wtrain[:,:,:,None]\n",
    "wtrain.shape\n",
    "\n",
    "usheartrain=ushear_train.values\n",
    "usheartrain=usheartrain[:,:,:,None]\n",
    "usheartrain.shape\n",
    "\n",
    "SST1Dtrain=SST1D_train.values\n",
    "SST1Dtrain=SST1Dtrain[:,:,:,None]\n",
    "SST1Dtrain.shape\n",
    "\n",
    "SST5Dtrain=SST5D_train.values\n",
    "SST5Dtrain=SST5Dtrain[:,:,:,None]\n",
    "SST5Dtrain.shape\n",
    "\n",
    "SST7Dtrain=SST7D_train.values\n",
    "SST7Dtrain=SST7Dtrain[:,:,:,None]\n",
    "SST7Dtrain.shape\n",
    "\n",
    "SST14Dtrain=SST14D_train.values\n",
    "SST14Dtrain=SST14Dtrain[:,:,:,None]\n",
    "SST14Dtrain.shape\n",
    "\n",
    "SST30Dtrain=SST30D_train.values\n",
    "SST30Dtrain=SST30Dtrain[:,:,:,None]\n",
    "SST30Dtrain.shape"
   ]
  },
  {
   "cell_type": "code",
   "execution_count": 9,
   "metadata": {},
   "outputs": [
    {
     "data": {
      "text/plain": [
       "(484, 18, 26, 1)"
      ]
     },
     "execution_count": 9,
     "metadata": {},
     "output_type": "execute_result"
    }
   ],
   "source": [
    "t2mtest=t2m_test.values\n",
    "t2mtest=t2mtest[:,:,:,None]\n",
    "t2mtest.shape\n",
    "\n",
    "\n",
    "wstest=ws_test.values\n",
    "wstest=wstest[:,:,:,None]\n",
    "wstest.shape\n",
    "\n",
    "rhtest=rh_test.values\n",
    "rhtest=rhtest[:,:,:,None]\n",
    "rhtest.shape\n",
    "\n",
    "\n",
    "invtest=inv_test.values\n",
    "invtest=invtest[:,:,:,None]\n",
    "invtest.shape\n",
    "\n",
    "wtest=w_test.values\n",
    "wtest=wtest[:,:,:,None]\n",
    "wtest.shape\n",
    "\n",
    "usheartest=ushear_test.values\n",
    "usheartest=usheartest[:,:,:,None]\n",
    "usheartest.shape\n",
    "\n",
    "SST1Dtest=SST1D_test.values\n",
    "SST1Dtest=SST1Dtest[:,:,:,None]\n",
    "SST1Dtest.shape\n",
    "\n",
    "SST5Dtest=SST5D_test.values\n",
    "SST5Dtest=SST5Dtest[:,:,:,None]\n",
    "SST5Dtest.shape\n",
    "\n",
    "SST7Dtest=SST7D_test.values\n",
    "SST7Dtest=SST7Dtest[:,:,:,None]\n",
    "SST7Dtest.shape\n",
    "\n",
    "SST14Dtest=SST14D_test.values\n",
    "SST14Dtest=SST14Dtest[:,:,:,None]\n",
    "SST14Dtest.shape\n",
    "\n",
    "SST30Dtest=SST30D_test.values\n",
    "SST30Dtest=SST30Dtest[:,:,:,None]\n",
    "SST30Dtest.shape"
   ]
  },
  {
   "cell_type": "code",
   "execution_count": 10,
   "metadata": {},
   "outputs": [
    {
     "data": {
      "text/plain": [
       "(484, 1)"
      ]
     },
     "execution_count": 10,
     "metadata": {},
     "output_type": "execute_result"
    }
   ],
   "source": [
    "ytrain=y_train.values\n",
    "ytrain=ytrain[:,None]\n",
    "ytrain.shape\n",
    "ytest=y_test.values\n",
    "ytest=ytest[:,None]\n",
    "ytest.shape"
   ]
  },
  {
   "cell_type": "markdown",
   "metadata": {},
   "source": [
    "#AO1D"
   ]
  },
  {
   "cell_type": "code",
   "execution_count": 11,
   "metadata": {},
   "outputs": [
    {
     "name": "stdout",
     "output_type": "stream",
     "text": [
      "WARNING:tensorflow:Keras is training/fitting/evaluating on array-like data. Keras may not be optimized for this format, so if your input data format is supported by TensorFlow I/O (https://github.com/tensorflow/io) we recommend using that to load a Dataset instead.\n",
      "Epoch 1/20\n",
      "61/61 [==============================] - 4s 22ms/step - loss: 0.1978 - mse: 0.0626\n",
      "Epoch 2/20\n",
      "61/61 [==============================] - 1s 21ms/step - loss: 0.1761 - mse: 0.0484\n",
      "Epoch 3/20\n",
      "61/61 [==============================] - 1s 22ms/step - loss: 0.1694 - mse: 0.0438\n",
      "Epoch 4/20\n",
      "61/61 [==============================] - 1s 21ms/step - loss: 0.1447 - mse: 0.0338\n",
      "Epoch 5/20\n",
      "61/61 [==============================] - 1s 21ms/step - loss: 0.1288 - mse: 0.0271\n",
      "Epoch 6/20\n",
      "61/61 [==============================] - 1s 21ms/step - loss: 0.1086 - mse: 0.0196\n",
      "Epoch 7/20\n",
      "61/61 [==============================] - 1s 20ms/step - loss: 0.1019 - mse: 0.0170\n",
      "Epoch 8/20\n",
      "61/61 [==============================] - 1s 20ms/step - loss: 0.1026 - mse: 0.0174\n",
      "Epoch 9/20\n",
      "61/61 [==============================] - 1s 21ms/step - loss: 0.0980 - mse: 0.0160\n",
      "Epoch 10/20\n",
      "61/61 [==============================] - 1s 20ms/step - loss: 0.0945 - mse: 0.0154\n",
      "Epoch 11/20\n",
      "61/61 [==============================] - 1s 20ms/step - loss: 0.0909 - mse: 0.0136\n",
      "Epoch 12/20\n",
      "61/61 [==============================] - 1s 20ms/step - loss: 0.0880 - mse: 0.0137\n",
      "Epoch 13/20\n",
      "61/61 [==============================] - 1s 21ms/step - loss: 0.0877 - mse: 0.0131\n",
      "Epoch 14/20\n",
      "61/61 [==============================] - 1s 20ms/step - loss: 0.0851 - mse: 0.0125\n",
      "Epoch 15/20\n",
      "61/61 [==============================] - 1s 20ms/step - loss: 0.0833 - mse: 0.0116\n",
      "Epoch 16/20\n",
      "61/61 [==============================] - 1s 21ms/step - loss: 0.0823 - mse: 0.0115\n",
      "Epoch 17/20\n",
      "61/61 [==============================] - 1s 20ms/step - loss: 0.0761 - mse: 0.0096\n",
      "Epoch 18/20\n",
      "61/61 [==============================] - 1s 20ms/step - loss: 0.0769 - mse: 0.0101\n",
      "Epoch 19/20\n",
      "61/61 [==============================] - 1s 21ms/step - loss: 0.0751 - mse: 0.0092\n",
      "Epoch 20/20\n",
      "61/61 [==============================] - 1s 20ms/step - loss: 0.0699 - mse: 0.0086\n",
      "WARNING:tensorflow:Keras is training/fitting/evaluating on array-like data. Keras may not be optimized for this format, so if your input data format is supported by TensorFlow I/O (https://github.com/tensorflow/io) we recommend using that to load a Dataset instead.\n",
      "mse: 1.34%\n"
     ]
    },
    {
     "data": {
      "image/png": "[encoded data removed]",
      "text/plain": [
       "<Figure size 432x288 with 1 Axes>"
      ]
     },
     "metadata": {
      "needs_background": "light"
     },
     "output_type": "display_data"
    }
   ],
   "source": [
    "X_test=np.array([t2mtest,rhtest,wstest,invtest,wtest,usheartest,SST1Dtest])\n",
    "#X_test=np.array([rhtest,wstest,invtest,wtest,usheartest,SSTtest,SSTtest])\n",
    "X_test.shape\n",
    "\n",
    "X_train=np.array([t2mtrain,rhtrain,wstrain,invtrain,wtrain,usheartrain,SST1Dtrain])\n",
    "#X_train=np.array([rhtrain,wstrain,invtrain,wtrain,usheartrain,SSTtrain,SSTtrain])\n",
    "X_train.shape\n",
    "\n",
    "X_train_reshape = np.einsum('lkija->klija',X_train)\n",
    "X_train_reshape.shape\n",
    "\n",
    "X_test_reshape = np.einsum('lkija->klija',X_test)\n",
    "X_test_reshape.shape\n",
    "\n",
    "\n",
    "model = Sequential()\n",
    "model.add(Conv3D(16, kernel_size=3, activation='relu',padding='same',\n",
    "                     input_shape=(X_train_reshape.shape[1],X_train_reshape.shape[2],X_train_reshape.shape[3],1)),)\n",
    "model.add(AveragePooling3D(pool_size=2,padding='same'))\n",
    "model.add(Conv3D(32, kernel_size=3, activation='relu',padding='same'))\n",
    "model.add(AveragePooling3D(pool_size=2,padding='same'))\n",
    "model.add(Dropout(0.2))\n",
    "model.add(Conv3D(64, kernel_size=3, activation='relu',padding='same'))\n",
    "model.add(AveragePooling3D(pool_size=2,padding='same'))\n",
    "model.add(Dropout(0.2))\n",
    "\n",
    "\n",
    "model.add(Flatten())\n",
    "\n",
    "model.add(Dense(32, activation='relu'))\n",
    "model.add(Dense(units=1, activation = 'linear'))\n",
    "\n",
    "adam = keras.optimizers.Adam(lr=0.01)\n",
    "model.compile(optimizer='adam', loss='mae',  metrics='mse')\n",
    "history = model.fit(X_train_reshape, y_train, epochs=20)\n",
    "yy_test = model.predict(X_test_reshape)\n",
    "    \n",
    "test_corr = np.corrcoef(yy_test[:,0],y_test)[0,1]\n",
    "plt.title('corr = %f'%test_corr)\n",
    "\n",
    "plt.plot(yy_test,y_test,'+')\n",
    "scores = model.evaluate(X_test_reshape, y_test, verbose=0)\n",
    "print(\"%s: %.2f%%\" % (model.metrics_names[1], scores[1]*100))"
   ]
  },
  {
   "cell_type": "markdown",
   "metadata": {},
   "source": [
    "#AO5D"
   ]
  },
  {
   "cell_type": "code",
   "execution_count": 12,
   "metadata": {},
   "outputs": [
    {
     "name": "stdout",
     "output_type": "stream",
     "text": [
      "WARNING:tensorflow:Keras is training/fitting/evaluating on array-like data. Keras may not be optimized for this format, so if your input data format is supported by TensorFlow I/O (https://github.com/tensorflow/io) we recommend using that to load a Dataset instead.\n",
      "Epoch 1/20\n",
      "61/61 [==============================] - 2s 20ms/step - loss: 0.1971 - mse: 0.0625\n",
      "Epoch 2/20\n",
      "61/61 [==============================] - 1s 20ms/step - loss: 0.1721 - mse: 0.0458\n",
      "Epoch 3/20\n",
      "61/61 [==============================] - 1s 21ms/step - loss: 0.1640 - mse: 0.0417\n",
      "Epoch 4/20\n",
      "61/61 [==============================] - 1s 20ms/step - loss: 0.1448 - mse: 0.0355\n",
      "Epoch 5/20\n",
      "61/61 [==============================] - 1s 20ms/step - loss: 0.1174 - mse: 0.0229\n",
      "Epoch 6/20\n",
      "61/61 [==============================] - 1s 20ms/step - loss: 0.1142 - mse: 0.0218\n",
      "Epoch 7/20\n",
      "61/61 [==============================] - 1s 21ms/step - loss: 0.1023 - mse: 0.0178\n",
      "Epoch 8/20\n",
      "61/61 [==============================] - 1s 21ms/step - loss: 0.1022 - mse: 0.0175\n",
      "Epoch 9/20\n",
      "61/61 [==============================] - 1s 20ms/step - loss: 0.0954 - mse: 0.0150\n",
      "Epoch 10/20\n",
      "61/61 [==============================] - 1s 20ms/step - loss: 0.0898 - mse: 0.0136\n",
      "Epoch 11/20\n",
      "61/61 [==============================] - 1s 20ms/step - loss: 0.0851 - mse: 0.0126\n",
      "Epoch 12/20\n",
      "61/61 [==============================] - 1s 20ms/step - loss: 0.0853 - mse: 0.0124\n",
      "Epoch 13/20\n",
      "61/61 [==============================] - 1s 20ms/step - loss: 0.0863 - mse: 0.0127\n",
      "Epoch 14/20\n",
      "61/61 [==============================] - 1s 21ms/step - loss: 0.0799 - mse: 0.0108\n",
      "Epoch 15/20\n",
      "61/61 [==============================] - 1s 20ms/step - loss: 0.0784 - mse: 0.0106\n",
      "Epoch 16/20\n",
      "61/61 [==============================] - 1s 21ms/step - loss: 0.0797 - mse: 0.0108\n",
      "Epoch 17/20\n",
      "61/61 [==============================] - 1s 20ms/step - loss: 0.0758 - mse: 0.0102\n",
      "Epoch 18/20\n",
      "61/61 [==============================] - 1s 20ms/step - loss: 0.0765 - mse: 0.0103\n",
      "Epoch 19/20\n",
      "61/61 [==============================] - 1s 20ms/step - loss: 0.0719 - mse: 0.0086\n",
      "Epoch 20/20\n",
      "61/61 [==============================] - 1s 21ms/step - loss: 0.0728 - mse: 0.0091\n",
      "WARNING:tensorflow:Keras is training/fitting/evaluating on array-like data. Keras may not be optimized for this format, so if your input data format is supported by TensorFlow I/O (https://github.com/tensorflow/io) we recommend using that to load a Dataset instead.\n",
      "mse: 1.30%\n"
     ]
    },
    {
     "data": {
      "image/png": "[encoded data removed]",
      "text/plain": [
       "<Figure size 432x288 with 1 Axes>"
      ]
     },
     "metadata": {
      "needs_background": "light"
     },
     "output_type": "display_data"
    }
   ],
   "source": [
    "X_test=np.array([t2mtest,rhtest,wstest,invtest,wtest,usheartest,SST5Dtest])\n",
    "#X_test=np.array([rhtest,wstest,invtest,wtest,usheartest,SSTtest,SSTtest])\n",
    "X_test.shape\n",
    "\n",
    "X_train=np.array([t2mtrain,rhtrain,wstrain,invtrain,wtrain,usheartrain,SST5Dtrain])\n",
    "#X_train=np.array([rhtrain,wstrain,invtrain,wtrain,usheartrain,SSTtrain,SSTtrain])\n",
    "X_train.shape\n",
    "\n",
    "X_train_reshape = np.einsum('lkija->klija',X_train)\n",
    "X_train_reshape.shape\n",
    "\n",
    "X_test_reshape = np.einsum('lkija->klija',X_test)\n",
    "X_test_reshape.shape\n",
    "\n",
    "\n",
    "model = Sequential()\n",
    "model.add(Conv3D(16, kernel_size=3, activation='relu',padding='same',\n",
    "                     input_shape=(X_train_reshape.shape[1],X_train_reshape.shape[2],X_train_reshape.shape[3],1)),)\n",
    "model.add(AveragePooling3D(pool_size=2,padding='same'))\n",
    "model.add(Conv3D(32, kernel_size=3, activation='relu',padding='same'))\n",
    "model.add(AveragePooling3D(pool_size=2,padding='same'))\n",
    "model.add(Dropout(0.2))\n",
    "model.add(Conv3D(64, kernel_size=3, activation='relu',padding='same'))\n",
    "model.add(AveragePooling3D(pool_size=2,padding='same'))\n",
    "model.add(Dropout(0.2))\n",
    "\n",
    "\n",
    "model.add(Flatten())\n",
    "\n",
    "model.add(Dense(32, activation='relu'))\n",
    "model.add(Dense(units=1, activation = 'linear'))\n",
    "\n",
    "adam = keras.optimizers.Adam(lr=0.01)\n",
    "model.compile(optimizer='adam', loss='mae',  metrics='mse')\n",
    "history = model.fit(X_train_reshape, y_train, epochs=20)\n",
    "yy_test = model.predict(X_test_reshape)\n",
    "    \n",
    "test_corr = np.corrcoef(yy_test[:,0],y_test)[0,1]\n",
    "plt.title('corr = %f'%test_corr)\n",
    "\n",
    "plt.plot(yy_test,y_test,'+')\n",
    "scores = model.evaluate(X_test_reshape, y_test, verbose=0)\n",
    "print(\"%s: %.2f%%\" % (model.metrics_names[1], scores[1]*100))"
   ]
  },
  {
   "cell_type": "markdown",
   "metadata": {},
   "source": [
    "#AO7D"
   ]
  },
  {
   "cell_type": "code",
   "execution_count": 13,
   "metadata": {},
   "outputs": [
    {
     "name": "stdout",
     "output_type": "stream",
     "text": [
      "WARNING:tensorflow:Keras is training/fitting/evaluating on array-like data. Keras may not be optimized for this format, so if your input data format is supported by TensorFlow I/O (https://github.com/tensorflow/io) we recommend using that to load a Dataset instead.\n",
      "Epoch 1/20\n",
      "61/61 [==============================] - 2s 21ms/step - loss: 0.1956 - mse: 0.0625\n",
      "Epoch 2/20\n",
      "61/61 [==============================] - 1s 21ms/step - loss: 0.1715 - mse: 0.0461\n",
      "Epoch 3/20\n",
      "61/61 [==============================] - 1s 21ms/step - loss: 0.1500 - mse: 0.0355\n",
      "Epoch 4/20\n",
      "61/61 [==============================] - 1s 21ms/step - loss: 0.1267 - mse: 0.0263\n",
      "Epoch 5/20\n",
      "61/61 [==============================] - 1s 21ms/step - loss: 0.1150 - mse: 0.0224\n",
      "Epoch 6/20\n",
      "61/61 [==============================] - 1s 22ms/step - loss: 0.1082 - mse: 0.0198\n",
      "Epoch 7/20\n",
      "61/61 [==============================] - 1s 22ms/step - loss: 0.1036 - mse: 0.0187\n",
      "Epoch 8/20\n",
      "61/61 [==============================] - 1s 21ms/step - loss: 0.0946 - mse: 0.0156\n",
      "Epoch 9/20\n",
      "61/61 [==============================] - 1s 21ms/step - loss: 0.0919 - mse: 0.0142\n",
      "Epoch 10/20\n",
      "61/61 [==============================] - 1s 21ms/step - loss: 0.0929 - mse: 0.0146\n",
      "Epoch 11/20\n",
      "61/61 [==============================] - 1s 21ms/step - loss: 0.0897 - mse: 0.0139\n",
      "Epoch 12/20\n",
      "61/61 [==============================] - 1s 21ms/step - loss: 0.0898 - mse: 0.0139\n",
      "Epoch 13/20\n",
      "61/61 [==============================] - 1s 22ms/step - loss: 0.0840 - mse: 0.0120\n",
      "Epoch 14/20\n",
      "61/61 [==============================] - 1s 21ms/step - loss: 0.0793 - mse: 0.0109\n",
      "Epoch 15/20\n",
      "61/61 [==============================] - 1s 21ms/step - loss: 0.0795 - mse: 0.0110\n",
      "Epoch 16/20\n",
      "61/61 [==============================] - 1s 21ms/step - loss: 0.0745 - mse: 0.0095\n",
      "Epoch 17/20\n",
      "61/61 [==============================] - 1s 21ms/step - loss: 0.0712 - mse: 0.0089\n",
      "Epoch 18/20\n",
      "61/61 [==============================] - 1s 21ms/step - loss: 0.0763 - mse: 0.0103\n",
      "Epoch 19/20\n",
      "61/61 [==============================] - 1s 21ms/step - loss: 0.0722 - mse: 0.0092\n",
      "Epoch 20/20\n",
      "61/61 [==============================] - 1s 21ms/step - loss: 0.0690 - mse: 0.0078\n",
      "WARNING:tensorflow:Keras is training/fitting/evaluating on array-like data. Keras may not be optimized for this format, so if your input data format is supported by TensorFlow I/O (https://github.com/tensorflow/io) we recommend using that to load a Dataset instead.\n",
      "mse: 1.30%\n"
     ]
    },
    {
     "data": {
      "image/png": "[encoded data removed]",
      "text/plain": [
       "<Figure size 432x288 with 1 Axes>"
      ]
     },
     "metadata": {
      "needs_background": "light"
     },
     "output_type": "display_data"
    }
   ],
   "source": [
    "X_test=np.array([t2mtest,rhtest,wstest,invtest,wtest,usheartest,SST7Dtest])\n",
    "#X_test=np.array([rhtest,wstest,invtest,wtest,usheartest,SSTtest,SSTtest])\n",
    "X_test.shape\n",
    "\n",
    "X_train=np.array([t2mtrain,rhtrain,wstrain,invtrain,wtrain,usheartrain,SST7Dtrain])\n",
    "#X_train=np.array([rhtrain,wstrain,invtrain,wtrain,usheartrain,SSTtrain,SSTtrain])\n",
    "X_train.shape\n",
    "\n",
    "X_train_reshape = np.einsum('lkija->klija',X_train)\n",
    "X_train_reshape.shape\n",
    "\n",
    "X_test_reshape = np.einsum('lkija->klija',X_test)\n",
    "X_test_reshape.shape\n",
    "\n",
    "\n",
    "model = Sequential()\n",
    "model.add(Conv3D(16, kernel_size=3, activation='relu',padding='same',\n",
    "                     input_shape=(X_train_reshape.shape[1],X_train_reshape.shape[2],X_train_reshape.shape[3],1)),)\n",
    "model.add(AveragePooling3D(pool_size=2,padding='same'))\n",
    "model.add(Conv3D(32, kernel_size=3, activation='relu',padding='same'))\n",
    "model.add(AveragePooling3D(pool_size=2,padding='same'))\n",
    "model.add(Dropout(0.2))\n",
    "model.add(Conv3D(64, kernel_size=3, activation='relu',padding='same'))\n",
    "model.add(AveragePooling3D(pool_size=2,padding='same'))\n",
    "model.add(Dropout(0.2))\n",
    "\n",
    "\n",
    "model.add(Flatten())\n",
    "\n",
    "model.add(Dense(32, activation='relu'))\n",
    "model.add(Dense(units=1, activation = 'linear'))\n",
    "\n",
    "adam = keras.optimizers.Adam(lr=0.01)\n",
    "model.compile(optimizer='adam', loss='mae',  metrics='mse')\n",
    "history = model.fit(X_train_reshape, y_train, epochs=20)\n",
    "yy_test = model.predict(X_test_reshape)\n",
    "    \n",
    "test_corr = np.corrcoef(yy_test[:,0],y_test)[0,1]\n",
    "plt.title('corr = %f'%test_corr)\n",
    "\n",
    "plt.plot(yy_test,y_test,'+')\n",
    "scores = model.evaluate(X_test_reshape, y_test, verbose=0)\n",
    "print(\"%s: %.2f%%\" % (model.metrics_names[1], scores[1]*100))"
   ]
  },
  {
   "cell_type": "markdown",
   "metadata": {},
   "source": [
    "#AO14D"
   ]
  },
  {
   "cell_type": "code",
   "execution_count": 14,
   "metadata": {},
   "outputs": [
    {
     "name": "stdout",
     "output_type": "stream",
     "text": [
      "WARNING:tensorflow:Keras is training/fitting/evaluating on array-like data. Keras may not be optimized for this format, so if your input data format is supported by TensorFlow I/O (https://github.com/tensorflow/io) we recommend using that to load a Dataset instead.\n",
      "Epoch 1/20\n",
      "61/61 [==============================] - 2s 22ms/step - loss: 0.1896 - mse: 0.0570\n",
      "Epoch 2/20\n",
      "61/61 [==============================] - 1s 22ms/step - loss: 0.1780 - mse: 0.0486\n",
      "Epoch 3/20\n",
      "61/61 [==============================] - 1s 22ms/step - loss: 0.1506 - mse: 0.0363\n",
      "Epoch 4/20\n",
      "61/61 [==============================] - 1s 21ms/step - loss: 0.1273 - mse: 0.0272\n",
      "Epoch 5/20\n",
      "61/61 [==============================] - 1s 21ms/step - loss: 0.1162 - mse: 0.0220\n",
      "Epoch 6/20\n",
      "61/61 [==============================] - 1s 21ms/step - loss: 0.1110 - mse: 0.0217\n",
      "Epoch 7/20\n",
      "61/61 [==============================] - 1s 20ms/step - loss: 0.1023 - mse: 0.0175\n",
      "Epoch 8/20\n",
      "61/61 [==============================] - 1s 21ms/step - loss: 0.0962 - mse: 0.0157\n",
      "Epoch 9/20\n",
      "61/61 [==============================] - 1s 21ms/step - loss: 0.1011 - mse: 0.0180\n",
      "Epoch 10/20\n",
      "61/61 [==============================] - 1s 20ms/step - loss: 0.0894 - mse: 0.0135\n",
      "Epoch 11/20\n",
      "61/61 [==============================] - 1s 20ms/step - loss: 0.0872 - mse: 0.0132\n",
      "Epoch 12/20\n",
      "61/61 [==============================] - 1s 20ms/step - loss: 0.0910 - mse: 0.0138\n",
      "Epoch 13/20\n",
      "61/61 [==============================] - 1s 20ms/step - loss: 0.0873 - mse: 0.0127\n",
      "Epoch 14/20\n",
      "61/61 [==============================] - 1s 20ms/step - loss: 0.0837 - mse: 0.0118\n",
      "Epoch 15/20\n",
      "61/61 [==============================] - 1s 20ms/step - loss: 0.0829 - mse: 0.0119\n",
      "Epoch 16/20\n",
      "61/61 [==============================] - 1s 20ms/step - loss: 0.0797 - mse: 0.0113\n",
      "Epoch 17/20\n",
      "61/61 [==============================] - 1s 20ms/step - loss: 0.0793 - mse: 0.0107\n",
      "Epoch 18/20\n",
      "61/61 [==============================] - 1s 21ms/step - loss: 0.0769 - mse: 0.0105\n",
      "Epoch 19/20\n",
      "61/61 [==============================] - 2s 30ms/step - loss: 0.0783 - mse: 0.0105\n",
      "Epoch 20/20\n",
      "61/61 [==============================] - 1s 21ms/step - loss: 0.0746 - mse: 0.0098\n",
      "WARNING:tensorflow:Keras is training/fitting/evaluating on array-like data. Keras may not be optimized for this format, so if your input data format is supported by TensorFlow I/O (https://github.com/tensorflow/io) we recommend using that to load a Dataset instead.\n",
      "mse: 1.29%\n"
     ]
    },
    {
     "data": {
      "image/png": "[encoded data removed]",
      "text/plain": [
       "<Figure size 432x288 with 1 Axes>"
      ]
     },
     "metadata": {
      "needs_background": "light"
     },
     "output_type": "display_data"
    }
   ],
   "source": [
    "X_test=np.array([t2mtest,rhtest,wstest,invtest,wtest,usheartest,SST14Dtest])\n",
    "#X_test=np.array([rhtest,wstest,invtest,wtest,usheartest,SSTtest,SSTtest])\n",
    "X_test.shape\n",
    "\n",
    "X_train=np.array([t2mtrain,rhtrain,wstrain,invtrain,wtrain,usheartrain,SST14Dtrain])\n",
    "#X_train=np.array([rhtrain,wstrain,invtrain,wtrain,usheartrain,SSTtrain,SSTtrain])\n",
    "X_train.shape\n",
    "\n",
    "X_train_reshape = np.einsum('lkija->klija',X_train)\n",
    "X_train_reshape.shape\n",
    "\n",
    "X_test_reshape = np.einsum('lkija->klija',X_test)\n",
    "X_test_reshape.shape\n",
    "\n",
    "\n",
    "model = Sequential()\n",
    "model.add(Conv3D(16, kernel_size=3, activation='relu',padding='same',\n",
    "                     input_shape=(X_train_reshape.shape[1],X_train_reshape.shape[2],X_train_reshape.shape[3],1)),)\n",
    "model.add(AveragePooling3D(pool_size=2,padding='same'))\n",
    "model.add(Conv3D(32, kernel_size=3, activation='relu',padding='same'))\n",
    "model.add(AveragePooling3D(pool_size=2,padding='same'))\n",
    "model.add(Dropout(0.2))\n",
    "model.add(Conv3D(64, kernel_size=3, activation='relu',padding='same'))\n",
    "model.add(AveragePooling3D(pool_size=2,padding='same'))\n",
    "model.add(Dropout(0.2))\n",
    "\n",
    "\n",
    "model.add(Flatten())\n",
    "\n",
    "model.add(Dense(32, activation='relu'))\n",
    "model.add(Dense(units=1, activation = 'linear'))\n",
    "\n",
    "adam = keras.optimizers.Adam(lr=0.01)\n",
    "model.compile(optimizer='adam', loss='mae',  metrics='mse')\n",
    "history = model.fit(X_train_reshape, y_train, epochs=20)\n",
    "yy_test = model.predict(X_test_reshape)\n",
    "    \n",
    "test_corr = np.corrcoef(yy_test[:,0],y_test)[0,1]\n",
    "plt.title('corr = %f'%test_corr)\n",
    "\n",
    "plt.plot(yy_test,y_test,'+')\n",
    "scores = model.evaluate(X_test_reshape, y_test, verbose=0)\n",
    "print(\"%s: %.2f%%\" % (model.metrics_names[1], scores[1]*100))"
   ]
  },
  {
   "cell_type": "markdown",
   "metadata": {},
   "source": [
    "#AO30D"
   ]
  },
  {
   "cell_type": "code",
   "execution_count": 15,
   "metadata": {},
   "outputs": [
    {
     "name": "stdout",
     "output_type": "stream",
     "text": [
      "WARNING:tensorflow:Keras is training/fitting/evaluating on array-like data. Keras may not be optimized for this format, so if your input data format is supported by TensorFlow I/O (https://github.com/tensorflow/io) we recommend using that to load a Dataset instead.\n",
      "Epoch 1/20\n",
      "61/61 [==============================] - 2s 21ms/step - loss: 0.1984 - mse: 0.0621\n",
      "Epoch 2/20\n",
      "61/61 [==============================] - 1s 20ms/step - loss: 0.1740 - mse: 0.0490\n",
      "Epoch 3/20\n",
      "61/61 [==============================] - 1s 20ms/step - loss: 0.1619 - mse: 0.0412\n",
      "Epoch 4/20\n",
      "61/61 [==============================] - 1s 20ms/step - loss: 0.1440 - mse: 0.0334\n",
      "Epoch 5/20\n",
      "61/61 [==============================] - 1s 20ms/step - loss: 0.1206 - mse: 0.0239\n",
      "Epoch 6/20\n",
      "61/61 [==============================] - 1s 20ms/step - loss: 0.1105 - mse: 0.0203\n",
      "Epoch 7/20\n",
      "61/61 [==============================] - 1s 19ms/step - loss: 0.1031 - mse: 0.0180\n",
      "Epoch 8/20\n",
      "61/61 [==============================] - 1s 18ms/step - loss: 0.1009 - mse: 0.0172\n",
      "Epoch 9/20\n",
      "61/61 [==============================] - 1s 20ms/step - loss: 0.0933 - mse: 0.0146\n",
      "Epoch 10/20\n",
      "61/61 [==============================] - 1s 19ms/step - loss: 0.0906 - mse: 0.0140\n",
      "Epoch 11/20\n",
      "61/61 [==============================] - 1s 19ms/step - loss: 0.0907 - mse: 0.0138\n",
      "Epoch 12/20\n",
      "61/61 [==============================] - 1s 19ms/step - loss: 0.0847 - mse: 0.0123\n",
      "Epoch 13/20\n",
      "61/61 [==============================] - 1s 20ms/step - loss: 0.0866 - mse: 0.0129\n",
      "Epoch 14/20\n",
      "61/61 [==============================] - 1s 21ms/step - loss: 0.0834 - mse: 0.0119\n",
      "Epoch 15/20\n",
      "61/61 [==============================] - 1s 20ms/step - loss: 0.0780 - mse: 0.0105\n",
      "Epoch 16/20\n",
      "61/61 [==============================] - 1s 20ms/step - loss: 0.0808 - mse: 0.0110\n",
      "Epoch 17/20\n",
      "61/61 [==============================] - 1s 20ms/step - loss: 0.0770 - mse: 0.0098\n",
      "Epoch 18/20\n",
      "61/61 [==============================] - 1s 20ms/step - loss: 0.0754 - mse: 0.0095\n",
      "Epoch 19/20\n",
      "61/61 [==============================] - 1s 20ms/step - loss: 0.0741 - mse: 0.0095\n",
      "Epoch 20/20\n",
      "61/61 [==============================] - 1s 19ms/step - loss: 0.0698 - mse: 0.0083\n",
      "WARNING:tensorflow:Keras is training/fitting/evaluating on array-like data. Keras may not be optimized for this format, so if your input data format is supported by TensorFlow I/O (https://github.com/tensorflow/io) we recommend using that to load a Dataset instead.\n",
      "mse: 1.19%\n"
     ]
    },
    {
     "data": {
      "image/png": "[encoded data removed]",
      "text/plain": [
       "<Figure size 432x288 with 1 Axes>"
      ]
     },
     "metadata": {
      "needs_background": "light"
     },
     "output_type": "display_data"
    }
   ],
   "source": [
    "X_test=np.array([t2mtest,rhtest,wstest,invtest,wtest,usheartest,SST30Dtest])\n",
    "#X_test=np.array([rhtest,wstest,invtest,wtest,usheartest,SSTtest,SSTtest])\n",
    "X_test.shape\n",
    "\n",
    "X_train=np.array([t2mtrain,rhtrain,wstrain,invtrain,wtrain,usheartrain,SST30Dtrain])\n",
    "#X_train=np.array([rhtrain,wstrain,invtrain,wtrain,usheartrain,SSTtrain,SSTtrain])\n",
    "X_train.shape\n",
    "\n",
    "X_train_reshape = np.einsum('lkija->klija',X_train)\n",
    "X_train_reshape.shape\n",
    "\n",
    "X_test_reshape = np.einsum('lkija->klija',X_test)\n",
    "X_test_reshape.shape\n",
    "\n",
    "\n",
    "model = Sequential()\n",
    "model.add(Conv3D(16, kernel_size=3, activation='relu',padding='same',\n",
    "                     input_shape=(X_train_reshape.shape[1],X_train_reshape.shape[2],X_train_reshape.shape[3],1)),)\n",
    "model.add(AveragePooling3D(pool_size=2,padding='same'))\n",
    "model.add(Conv3D(32, kernel_size=3, activation='relu',padding='same'))\n",
    "model.add(AveragePooling3D(pool_size=2,padding='same'))\n",
    "model.add(Dropout(0.2))\n",
    "model.add(Conv3D(64, kernel_size=3, activation='relu',padding='same'))\n",
    "model.add(AveragePooling3D(pool_size=2,padding='same'))\n",
    "model.add(Dropout(0.2))\n",
    "\n",
    "\n",
    "model.add(Flatten())\n",
    "\n",
    "model.add(Dense(32, activation='relu'))\n",
    "model.add(Dense(units=1, activation = 'linear'))\n",
    "\n",
    "adam = keras.optimizers.Adam(lr=0.01)\n",
    "model.compile(optimizer='adam', loss='mae',  metrics='mse')\n",
    "history = model.fit(X_train_reshape, y_train, epochs=20)\n",
    "yy_test = model.predict(X_test_reshape)\n",
    "    \n",
    "test_corr = np.corrcoef(yy_test[:,0],y_test)[0,1]\n",
    "plt.title('corr = %f'%test_corr)\n",
    "\n",
    "plt.plot(yy_test,y_test,'+')\n",
    "scores = model.evaluate(X_test_reshape, y_test, verbose=0)\n",
    "print(\"%s: %.2f%%\" % (model.metrics_names[1], scores[1]*100))"
   ]
  },
  {
   "cell_type": "code",
   "execution_count": null,
   "metadata": {},
   "outputs": [],
   "source": []
  }
 ],
 "metadata": {
  "kernelspec": {
   "display_name": "Python 3",
   "language": "python",
   "name": "python3"
  },
  "language_info": {
   "codemirror_mode": {
    "name": "ipython",
    "version": 3
   },
   "file_extension": ".py",
   "mimetype": "text/x-python",
   "name": "python",
   "nbconvert_exporter": "python",
   "pygments_lexer": "ipython3",
   "version": "3.8.5"
  }
 },
 "nbformat": 4,
 "nbformat_minor": 4
}
