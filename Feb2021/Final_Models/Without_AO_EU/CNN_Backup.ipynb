{
 "cells": [
  {
   "cell_type": "code",
   "execution_count": 3,
   "metadata": {},
   "outputs": [],
   "source": [
    "import xarray as xr\n",
    "import numpy as np\n",
    "import pandas as pd\n",
    "import datetime\n",
    "import matplotlib.pyplot as plt\n",
    "from keras.models import Sequential\n",
    "from keras.layers import Dense, Conv3D, Flatten,MaxPooling3D,AveragePooling3D, concatenate,Input ,SpatialDropout3D,Dropout\n",
    "import keras\n",
    "from math import e\n",
    "from sklearn.model_selection import train_test_split\n",
    "from keras.models import Model\n",
    "from sklearn.preprocessing import StandardScaler\n",
    "from joblib import dump, load\n",
    "from hyperopt import Trials, STATUS_OK, tpe\n",
    "from hyperas import optim\n",
    "from hyperas.distributions import choice, uniform\n",
    "from sklearn.model_selection import KFold"
   ]
  },
  {
   "cell_type": "code",
   "execution_count": 28,
   "metadata": {},
   "outputs": [],
   "source": [
    "fogData = xr.open_dataset('../../../../Data/FogData/CombinedFogData_25Stations.nc')\n",
    "#plt.figure(figsize=[16,8])\n",
    "StackFog=fogData.fogdata.stack(a=('years','months','days'))\n",
    "StackFog\n",
    "dd =[];\n",
    "for i in range(StackFog.years.values.shape[0]):\n",
    "    dd=dd+[str(StackFog.years[i].values)+'-'+str(StackFog.months[i].values)+\"-\"+str(StackFog.days[i].values)]\n",
    "fg = xr.Dataset({'fogdata': (('time','stations'), StackFog.values.T)}, coords={'time': pd.to_datetime(dd),'stations': fogData.stations})\n",
    "yAll=fg.fogdata.sum(dim='stations').sel(time=slice('1980-1-1','2018-12-31'))\n",
    "yAll=yAll/25.0"
   ]
  },
  {
   "cell_type": "code",
   "execution_count": 7,
   "metadata": {},
   "outputs": [],
   "source": [
    "#Surface data\n",
    "t2mData = xr.open_dataset('../../../../Data/eraDown/ERA5_2degree_Down/DailyMean/ERA5NH_t2m_daily_NovDecJan.nc')\n",
    "d2mData = xr.open_dataset('../../../../Data/eraDown/ERA5_2degree_Down/DailyMean/ERA5NH_d2m_daily_NovDecJan.nc')\n",
    "u10Data = xr.open_dataset('../../../../Data/eraDown/ERA5_2degree_Down/DailyMean/ERA5NH_u10_daily_NovDecJan.nc')\n",
    "v10Data = xr.open_dataset('../../../../Data/eraDown/ERA5_2degree_Down/DailyMean/ERA5NH_v10_daily_NovDecJan.nc')\n",
    "# 850 Data\n",
    "tuv850Data = xr.open_dataset('../../../../Data/eraDown/ERA5_2degree_Down/DailyMean/ERA5NH_850_uvt_daily_NovDecJan.nc')\n",
    "z850Data = xr.open_dataset('../../../../Data/eraDown/ERA5_2degree_Down/DailyMean/ERA5NH_850_z_daily_NovDecJan.nc')\n",
    "#700 Data\n",
    "w700Data = xr.open_dataset('../../../../Data/eraDown/ERA5_2degree_Down/DailyMean/ERA5NH_700_w_daily_NovDecJan.nc')\n",
    "# Read Orography\n",
    "OroData = xr.open_dataset('../../../../Data/eraDown/ERA5_2degree_Down/DailyMean/ERA5IGP_Orography.nc')\n",
    "z500Data = xr.open_dataset('../../../../Data/eraDown/ERA5_2degree_Down/DailyMean/ERA5NH_500_z_daily_NovDecJan.nc')"
   ]
  },
  {
   "cell_type": "code",
   "execution_count": 8,
   "metadata": {},
   "outputs": [],
   "source": [
    "rh = (e**((17.625*(d2mData.d2m.values-273.15))/(243.04+(d2mData.d2m.values-273.15)))/e**((17.625*(t2mData.t2m.values-273.15))/(243.04+(t2mData.t2m.values-273.15))))\n",
    "\n",
    "rh_ds = xr.Dataset({'rh': (('time','latitude','longitude'), rh)}, coords={'time': t2mData.time,'latitude': t2mData.latitude,'longitude': t2mData.longitude})\n"
   ]
  },
  {
   "cell_type": "code",
   "execution_count": 9,
   "metadata": {},
   "outputs": [],
   "source": [
    "# Calculate wind speed \n",
    "ws = ((v10Data.v10.values**2)+(u10Data.u10.values**2))**0.5\n",
    "ws_ds = xr.Dataset({'ws': (('time','latitude','longitude'), ws)}, coords={'time': t2mData.time,'latitude': t2mData.latitude,'longitude': t2mData.longitude})\n"
   ]
  },
  {
   "cell_type": "code",
   "execution_count": 10,
   "metadata": {},
   "outputs": [],
   "source": [
    "#Calculate inv\n",
    "inv=t2mData.t2m.values-tuv850Data.t.values\n",
    "inv_ds = xr.Dataset({'inv': (('time','latitude','longitude'), inv)}, coords={'time': t2mData.time,'latitude': t2mData.latitude,'longitude': t2mData.longitude})\n",
    "inv_ds.attrs\n",
    "inv_ds.attrs['units']='K'\n",
    "inv_ds.attrs['long_name']='t2m - t850'"
   ]
  },
  {
   "cell_type": "code",
   "execution_count": 11,
   "metadata": {},
   "outputs": [],
   "source": [
    "#u shear calculation\n",
    "ushear=(tuv850Data.u.values-u10Data.u10.values)/(z850Data.z.values/9.81) \n",
    "ushear_ds = xr.Dataset({'ushear': (('time','latitude','longitude'), ushear)}, coords={'time': t2mData.time,'latitude': t2mData.latitude,'longitude': t2mData.longitude})\n",
    "ushear_ds.attrs['units']='s-1'\n",
    "ushear_ds.attrs['long_name']='(u10 - u850)/z850'"
   ]
  },
  {
   "cell_type": "code",
   "execution_count": 13,
   "metadata": {},
   "outputs": [
    {
     "name": "stdout",
     "output_type": "stream",
     "text": [
      "<xarray.Dataset>\n",
      "Dimensions:  (time: 3772)\n",
      "Coordinates:\n",
      "  * time     (time) datetime64[ns] 1979-01-01T09:00:00 ... 2019-12-31T09:00:00\n",
      "Data variables:\n",
      "    AO       (time) float32 ...\n"
     ]
    }
   ],
   "source": [
    "# AO Input\n",
    "AOData1 = xr.open_dataset('../../../../Data/AO_EU/AO_Calculated.nc')\n",
    "print(AOData1)\n",
    "\n",
    "Darray=np.zeros((t2mData.time.shape[0],t2mData.latitude.shape[0], t2mData.longitude.shape[0]))\n",
    "for t in range(AOData1.time.shape[0]) :\n",
    "    Darray[t,:,:]=np.full((t2mData.latitude.shape[0], t2mData.longitude.shape[0]), AOData1.AO[t].values)\n",
    "AOData=xr.Dataset({'AO': (('time','latitude','longitude'), Darray)}, coords={'time': t2mData.time,'latitude': t2mData.latitude,'longitude': t2mData.longitude})    "
   ]
  },
  {
   "cell_type": "code",
   "execution_count": 15,
   "metadata": {},
   "outputs": [],
   "source": [
    "#EU Input\n",
    "EUData1 = xr.open_dataset('../../../../Data/AO_EU/EU_NovDecJan.nc')\n",
    "Darray=np.zeros((t2mData.time.shape[0],t2mData.latitude.shape[0], t2mData.longitude.shape[0]))\n",
    "for t in range(EUData1.time.shape[0]) :\n",
    "    Darray[t,:,:]=np.full((t2mData.latitude.shape[0], t2mData.longitude.shape[0]), EUData1.EUVal[t].values)\n",
    "EUData=xr.Dataset({'EU': (('time','latitude','longitude'), Darray)}, coords={'time': t2mData.time,'latitude': t2mData.latitude,'longitude': t2mData.longitude})    "
   ]
  },
  {
   "cell_type": "code",
   "execution_count": 16,
   "metadata": {},
   "outputs": [],
   "source": [
    "t2m=t2mData.t2m.shift(time=1)\n",
    "ws=ws_ds.ws.shift(time=1)\n",
    "rh=rh_ds.rh.shift(time=1)\n",
    "inv=inv_ds.inv.shift(time=1)\n",
    "w=w700Data.w.shift(time=1)\n",
    "ushear=ushear_ds.ushear.shift(time=1)\n",
    "ao=AOData.AO.shift(time=1)\n",
    "eu=EUData.EU.shift(time=1)"
   ]
  },
  {
   "cell_type": "code",
   "execution_count": 17,
   "metadata": {},
   "outputs": [],
   "source": [
    "t2mTsAll=t2m[((t2m.time.dt.month>11) | (t2m.time.dt.month<2)) & (t2m.time.dt.year<2020)].sel(time=slice('1980-1-1','2018-12-31'),latitude=slice(35,0),longitude=slice(50,100))\n",
    "wsTsAll=ws[((ws.time.dt.month>11) | (ws.time.dt.month<2)) & (ws.time.dt.year<2020)].sel(time=slice('1980-1-1','2018-12-31'),latitude=slice(35,0),longitude=slice(50,100))\n",
    "rhTsAll=rh[((rh.time.dt.month>11) | (rh.time.dt.month<2)) & (rh.time.dt.year<2020)].sel(time=slice('1980-1-1','2018-12-31'),latitude=slice(35,0),longitude=slice(50,100))\n",
    "invTsAll=inv[((inv.time.dt.month>11) | (inv.time.dt.month<2)) & (inv.time.dt.year<2020)].sel(time=slice('1980-1-1','2018-12-31'),latitude=slice(35,0),longitude=slice(50,100))\n",
    "ushearTsAll=ushear[((ushear.time.dt.month>11) | (ushear.time.dt.month<2)) & (ushear.time.dt.year<2020)].sel(time=slice('1980-1-1','2018-12-31'),latitude=slice(35,0),longitude=slice(50,100))\n",
    "aoTsAll=ao[((ao.time.dt.month>11) | (ao.time.dt.month<2)) & (ao.time.dt.year<2020)].sel(time=slice('1980-1-1','2018-12-31'),latitude=slice(35,0),longitude=slice(50,100))\n",
    "euTsAll=eu[((eu.time.dt.month>11) | (eu.time.dt.month<2)) & (eu.time.dt.year<2020)].sel(time=slice('1980-1-1','2018-12-31'),latitude=slice(35,0),longitude=slice(50,100))\n",
    "wTsAll=w[((w.time.dt.month>11) | (w.time.dt.month<2)) & (w.time.dt.year<2020)].sel(time=slice('1980-1-1','2018-12-31'),latitude=slice(35,0),longitude=slice(50,100))"
   ]
  },
  {
   "cell_type": "code",
   "execution_count": 18,
   "metadata": {},
   "outputs": [],
   "source": [
    "# create mask\n",
    "oro = OroData.z.sel(latitude=slice(35,0),longitude=slice(50,100))\n",
    "oro.values = OroData.z.sel(latitude=slice(35,0),longitude=slice(50,100)).values/9.81\n",
    "oro.attrs\n",
    "oro.attrs['units']='meter'\n",
    "oro.attrs['long_name']='Orography'\n",
    "oro.values[oro.values>500.1]=np.NaN\n",
    "mask=oro.values/oro.values"
   ]
  },
  {
   "cell_type": "code",
   "execution_count": 19,
   "metadata": {},
   "outputs": [],
   "source": [
    "t2mTsAll.values=t2mTsAll.values*mask\n",
    "wsTsAll.values=wsTsAll.values*mask\n",
    "rhTsAll.values=rhTsAll.values*mask\n",
    "invTsAll.values=invTsAll.values*mask\n",
    "ushearTsAll.values=ushearTsAll.values*mask\n",
    "wTsAll.values=wTsAll.values*mask\n",
    "aoTsAll.values=aoTsAll.values*mask\n",
    "euTsAll.values=euTsAll.values*mask"
   ]
  },
  {
   "cell_type": "code",
   "execution_count": 20,
   "metadata": {},
   "outputs": [],
   "source": [
    "t2mTsAll.values=xr.where(np.isnan(t2mTsAll.values),  0.000000000001,t2mTsAll.values)\n",
    "wsTsAll.values=xr.where(np.isnan(wsTsAll.values),  0.000000000001,wsTsAll.values)\n",
    "rhTsAll.values=xr.where(np.isnan(rhTsAll.values),  0.000000000001,rhTsAll.values)\n",
    "invTsAll.values=xr.where(np.isnan(invTsAll.values),  0.000000000001,invTsAll.values)\n",
    "ushearTsAll.values=xr.where(np.isnan(ushearTsAll.values),  0.000000000001,ushearTsAll.values)\n",
    "wTsAll.values=xr.where(np.isnan(wTsAll.values),  0.000000000001,wTsAll.values)\n",
    "aoTsAll.values=xr.where(np.isnan(aoTsAll.values),  0.000000000001,aoTsAll.values)\n",
    "euTsAll.values=xr.where(np.isnan(euTsAll.values),  0.000000000001,euTsAll.values)"
   ]
  },
  {
   "cell_type": "code",
   "execution_count": 21,
   "metadata": {},
   "outputs": [],
   "source": [
    "t1=t2mTsAll.stack(z=(\"latitude\", \"longitude\"))\n",
    "# fit scaler on training data\n",
    "norm = StandardScaler().fit(t1)\n",
    "# transform training data\n",
    "t1.values = norm.transform(t1)\n",
    "t2mTsAll.values=t1.unstack()\n",
    "\n",
    "t1=wsTsAll.stack(z=(\"latitude\", \"longitude\"))\n",
    "# fit scaler on training data\n",
    "norm = StandardScaler().fit(t1)\n",
    "# transform training data\n",
    "t1.values = norm.transform(t1)\n",
    "wsTsAll.values=t1.unstack()\n",
    "\n",
    "t1=rhTsAll.stack(z=(\"latitude\", \"longitude\"))\n",
    "# fit scaler on training data\n",
    "norm = StandardScaler().fit(t1)\n",
    "# transform training data\n",
    "t1.values = norm.transform(t1)\n",
    "rhTsAll.values=t1.unstack()\n",
    "\n",
    "t1=invTsAll.stack(z=(\"latitude\", \"longitude\"))\n",
    "# fit scaler on training data\n",
    "norm = StandardScaler().fit(t1)\n",
    "# transform training data\n",
    "t1.values = norm.transform(t1)\n",
    "invTsAll.values=t1.unstack()\n",
    "\n",
    "t1=ushearTsAll.stack(z=(\"latitude\", \"longitude\"))\n",
    "# fit scaler on training data\n",
    "norm = StandardScaler().fit(t1)\n",
    "# transform training data\n",
    "t1.values = norm.transform(t1)\n",
    "ushearTsAll.values=t1.unstack()\n",
    "\n",
    "t1=aoTsAll.stack(z=(\"latitude\", \"longitude\"))\n",
    "# fit scaler on training data\n",
    "norm = StandardScaler().fit(t1)\n",
    "# transform training data\n",
    "t1.values = norm.transform(t1)\n",
    "aoTsAll.values=t1.unstack()\n",
    "\n",
    "t1=euTsAll.stack(z=(\"latitude\", \"longitude\"))\n",
    "# fit scaler on training data\n",
    "norm = StandardScaler().fit(t1)\n",
    "# transform training data\n",
    "t1.values = norm.transform(t1)\n",
    "euTsAll.values=t1.unstack()\n",
    "\n",
    "t1=wTsAll.stack(z=(\"latitude\", \"longitude\"))\n",
    "# fit scaler on training data\n",
    "norm = StandardScaler().fit(t1)\n",
    "# transform training data\n",
    "t1.values = norm.transform(t1)\n",
    "wTsAll.values=t1.unstack()\n"
   ]
  },
  {
   "cell_type": "code",
   "execution_count": 29,
   "metadata": {},
   "outputs": [],
   "source": [
    "t2m_train,t2m_test,ws_train,ws_test,rh_train,rh_test,inv_train,inv_test, w_train, w_test,ushear_train, ushear_test,ao_train,ao_test,eu_train,eu_test,y_train,y_test= train_test_split( t2mTsAll,wsTsAll,rhTsAll,invTsAll, wTsAll,ushearTsAll,aoTsAll,euTsAll,yAll,test_size=0.20, random_state=0)"
   ]
  },
  {
   "cell_type": "code",
   "execution_count": 30,
   "metadata": {},
   "outputs": [
    {
     "data": {
      "text/plain": [
       "(1934, 18, 26, 1)"
      ]
     },
     "execution_count": 30,
     "metadata": {},
     "output_type": "execute_result"
    }
   ],
   "source": [
    "t2mtrain=t2m_train.values\n",
    "t2mtrain=t2mtrain[:,:,:,None]\n",
    "t2mtrain.shape\n",
    "\n",
    "\n",
    "wstrain=ws_train.values\n",
    "wstrain=wstrain[:,:,:,None]\n",
    "wstrain.shape\n",
    "\n",
    "rhtrain=rh_train.values\n",
    "rhtrain=rhtrain[:,:,:,None]\n",
    "rhtrain.shape\n",
    "\n",
    "\n",
    "invtrain=inv_train.values\n",
    "invtrain=invtrain[:,:,:,None]\n",
    "invtrain.shape\n",
    "\n",
    "wtrain=w_train.values\n",
    "wtrain=wtrain[:,:,:,None]\n",
    "wtrain.shape\n",
    "\n",
    "usheartrain=ushear_train.values\n",
    "usheartrain=usheartrain[:,:,:,None]\n",
    "usheartrain.shape\n",
    "\n",
    "aotrain=ao_train.values\n",
    "aotrain=aotrain[:,:,:,None]\n",
    "aotrain.shape\n",
    "\n",
    "eutrain=eu_train.values\n",
    "eutrain=eutrain[:,:,:,None]\n",
    "eutrain.shape"
   ]
  },
  {
   "cell_type": "code",
   "execution_count": 31,
   "metadata": {},
   "outputs": [
    {
     "data": {
      "text/plain": [
       "(484, 18, 26, 1)"
      ]
     },
     "execution_count": 31,
     "metadata": {},
     "output_type": "execute_result"
    }
   ],
   "source": [
    "t2mtest=t2m_test.values\n",
    "t2mtest=t2mtest[:,:,:,None]\n",
    "t2mtest.shape\n",
    "\n",
    "\n",
    "wstest=ws_test.values\n",
    "wstest=wstest[:,:,:,None]\n",
    "wstest.shape\n",
    "\n",
    "rhtest=rh_test.values\n",
    "rhtest=rhtest[:,:,:,None]\n",
    "rhtest.shape\n",
    "\n",
    "\n",
    "invtest=inv_test.values\n",
    "invtest=invtest[:,:,:,None]\n",
    "invtest.shape\n",
    "\n",
    "wtest=w_test.values\n",
    "wtest=wtest[:,:,:,None]\n",
    "wtest.shape\n",
    "\n",
    "usheartest=ushear_test.values\n",
    "usheartest=usheartest[:,:,:,None]\n",
    "usheartest.shape\n",
    "\n",
    "aotest=ao_test.values\n",
    "aotest=aotest[:,:,:,None]\n",
    "aotest.shape\n",
    "\n",
    "eutest=eu_test.values\n",
    "eutest=eutest[:,:,:,None]\n",
    "eutest.shape"
   ]
  },
  {
   "cell_type": "code",
   "execution_count": 32,
   "metadata": {},
   "outputs": [
    {
     "data": {
      "text/plain": [
       "(484, 1)"
      ]
     },
     "execution_count": 32,
     "metadata": {},
     "output_type": "execute_result"
    }
   ],
   "source": [
    "ytrain=y_train.values\n",
    "ytrain=ytrain[:,None]\n",
    "ytrain.shape\n",
    "ytest=y_test.values\n",
    "ytest=ytest[:,None]\n",
    "ytest.shape"
   ]
  },
  {
   "cell_type": "code",
   "execution_count": 33,
   "metadata": {},
   "outputs": [
    {
     "data": {
      "text/plain": [
       "(7, 1934, 18, 26, 1)"
      ]
     },
     "execution_count": 33,
     "metadata": {},
     "output_type": "execute_result"
    }
   ],
   "source": [
    "#X_test=np.array([t2mtest,rhtest,wstest,invtest,wtest,usheartest,aotest,eutest])\n",
    "X_test=np.array([rhtest,wstest,invtest,wtest,usheartest,aotest,eutest])\n",
    "X_test.shape\n",
    "\n",
    "#X_train=np.array([t2mtrain,rhtrain,wstrain,invtrain,wtrain,usheartrain,aotrain,eutrain])\n",
    "X_train=np.array([rhtrain,wstrain,invtrain,wtrain,usheartrain,aotrain,eutrain])\n",
    "X_train.shape"
   ]
  },
  {
   "cell_type": "code",
   "execution_count": 34,
   "metadata": {},
   "outputs": [
    {
     "data": {
      "text/plain": [
       "(484, 7, 18, 26, 1)"
      ]
     },
     "execution_count": 34,
     "metadata": {},
     "output_type": "execute_result"
    }
   ],
   "source": [
    "X_train_reshape = np.einsum('lkija->klija',X_train)\n",
    "X_train_reshape.shape\n",
    "\n",
    "X_test_reshape = np.einsum('lkija->klija',X_test)\n",
    "X_test_reshape.shape"
   ]
  },
  {
   "cell_type": "code",
   "execution_count": 127,
   "metadata": {},
   "outputs": [
    {
     "name": "stdout",
     "output_type": "stream",
     "text": [
      "WARNING:tensorflow:Keras is training/fitting/evaluating on array-like data. Keras may not be optimized for this format, so if your input data format is supported by TensorFlow I/O (https://github.com/tensorflow/io) we recommend using that to load a Dataset instead.\n",
      "Epoch 1/20\n",
      "61/61 [==============================] - 2s 22ms/step - loss: 0.1951 - mse: 0.0611\n",
      "Epoch 2/20\n",
      "61/61 [==============================] - 1s 21ms/step - loss: 0.1685 - mse: 0.0448\n",
      "Epoch 3/20\n",
      "61/61 [==============================] - 1s 21ms/step - loss: 0.1419 - mse: 0.0320\n",
      "Epoch 4/20\n",
      "61/61 [==============================] - 1s 20ms/step - loss: 0.1180 - mse: 0.0228\n",
      "Epoch 5/20\n",
      "61/61 [==============================] - 1s 21ms/step - loss: 0.1101 - mse: 0.0210\n",
      "Epoch 6/20\n",
      "61/61 [==============================] - 1s 21ms/step - loss: 0.1034 - mse: 0.0178\n",
      "Epoch 7/20\n",
      "61/61 [==============================] - 1s 21ms/step - loss: 0.1013 - mse: 0.0171\n",
      "Epoch 8/20\n",
      "61/61 [==============================] - 1s 21ms/step - loss: 0.0947 - mse: 0.0150\n",
      "Epoch 9/20\n",
      "61/61 [==============================] - 1s 20ms/step - loss: 0.0980 - mse: 0.0158\n",
      "Epoch 10/20\n",
      "61/61 [==============================] - 1s 21ms/step - loss: 0.0913 - mse: 0.0142\n",
      "Epoch 11/20\n",
      "61/61 [==============================] - 1s 20ms/step - loss: 0.0911 - mse: 0.0139\n",
      "Epoch 12/20\n",
      "61/61 [==============================] - 1s 21ms/step - loss: 0.0846 - mse: 0.0121\n",
      "Epoch 13/20\n",
      "61/61 [==============================] - 1s 21ms/step - loss: 0.0860 - mse: 0.0122\n",
      "Epoch 14/20\n",
      "61/61 [==============================] - 1s 20ms/step - loss: 0.0853 - mse: 0.0126\n",
      "Epoch 15/20\n",
      "61/61 [==============================] - 1s 21ms/step - loss: 0.0822 - mse: 0.0118\n",
      "Epoch 16/20\n",
      "61/61 [==============================] - 1s 20ms/step - loss: 0.0790 - mse: 0.0105\n",
      "Epoch 17/20\n",
      "61/61 [==============================] - 1s 20ms/step - loss: 0.0769 - mse: 0.0102\n",
      "Epoch 18/20\n",
      "61/61 [==============================] - 1s 21ms/step - loss: 0.0724 - mse: 0.0091\n",
      "Epoch 19/20\n",
      "61/61 [==============================] - 1s 21ms/step - loss: 0.0751 - mse: 0.0098\n",
      "Epoch 20/20\n",
      "61/61 [==============================] - 1s 21ms/step - loss: 0.0727 - mse: 0.0089\n"
     ]
    }
   ],
   "source": [
    "    model = Sequential()\n",
    "    model.add(Conv3D(16, kernel_size=3, activation='relu',padding='same',input_shape=(X_train_reshape.shape[1],X_train_reshape.shape[2],X_train_reshape.shape[3],1)),)\n",
    "    model.add(AveragePooling3D(pool_size=2,padding='same'))\n",
    "    model.add(Conv3D(32, kernel_size=3, activation='relu',padding='same'))\n",
    "    model.add(AveragePooling3D(pool_size=2,padding='same'))\n",
    "    model.add(Dropout(0.2))\n",
    "    model.add(Conv3D(64, kernel_size=3, activation='relu',padding='same'))\n",
    "    model.add(AveragePooling3D(pool_size=2,padding='same'))\n",
    "    model.add(Dropout(0.2))\n",
    "\n",
    "\n",
    "    model.add(Flatten())\n",
    "\n",
    "    model.add(Dense(512, activation='relu'))\n",
    "    model.add(Dense(units=1, activation = 'linear'))\n",
    "\n",
    "    adam = keras.optimizers.Adam(lr=0.01)\n",
    "    model.compile(optimizer='adam', loss='mae',  metrics='mse')\n",
    "    history = model.fit(X_train_reshape, y_train, epochs=20)\n",
    "    yy_test = model.predict(X_test_reshape)\n",
    "\n",
    "    \n"
   ]
  },
  {
   "cell_type": "code",
   "execution_count": 128,
   "metadata": {},
   "outputs": [
    {
     "name": "stdout",
     "output_type": "stream",
     "text": [
      "WARNING:tensorflow:Keras is training/fitting/evaluating on array-like data. Keras may not be optimized for this format, so if your input data format is supported by TensorFlow I/O (https://github.com/tensorflow/io) we recommend using that to load a Dataset instead.\n",
      "mse: 1.28%\n"
     ]
    },
    {
     "data": {
      "image/png": "[encoded data removed]",
      "text/plain": [
       "<Figure size 432x288 with 1 Axes>"
      ]
     },
     "metadata": {
      "needs_background": "light"
     },
     "output_type": "display_data"
    }
   ],
   "source": [
    "    test_corr = np.corrcoef(yy_test[:,0],y_test)[0,1]\n",
    "    plt.title('corr = %f'%test_corr)\n",
    "\n",
    "    plt.plot(yy_test,y_test,'+')\n",
    "    scores = model.evaluate(X_test_reshape, y_test, verbose=0)\n",
    "    print(\"%s: %.2f%%\" % (model.metrics_names[1], scores[1]*100))\n",
    "  \n"
   ]
  },
  {
   "cell_type": "code",
   "execution_count": 129,
   "metadata": {},
   "outputs": [
    {
     "data": {
      "text/plain": [
       "(2418, 18, 26, 1)"
      ]
     },
     "execution_count": 129,
     "metadata": {},
     "output_type": "execute_result"
    }
   ],
   "source": [
    "t2mAll=t2mTsAll.values\n",
    "t2mAll=t2mAll[:,:,:,None]\n",
    "t2mAll.shape\n",
    "\n",
    "\n",
    "wsAll=wsTsAll.values\n",
    "wsAll=wsAll[:,:,:,None]\n",
    "wsAll.shape\n",
    "\n",
    "rhAll=rhTsAll.values\n",
    "rhAll=rhAll[:,:,:,None]\n",
    "rhAll.shape\n",
    "\n",
    "\n",
    "invAll=invTsAll.values\n",
    "invAll=invAll[:,:,:,None]\n",
    "invAll.shape\n",
    "\n",
    "wAll=wTsAll.values\n",
    "wAll=wAll[:,:,:,None]\n",
    "wAll.shape\n",
    "\n",
    "ushearAll=ushearTsAll.values\n",
    "ushearAll=ushearAll[:,:,:,None]\n",
    "ushearAll.shape\n",
    "\n",
    "aoAll=aoTsAll.values\n",
    "aoAll=aoAll[:,:,:,None]\n",
    "aoAll.shape\n",
    "\n",
    "euAll=euTsAll.values\n",
    "euAll=euAll[:,:,:,None]\n",
    "euAll.shape"
   ]
  },
  {
   "cell_type": "code",
   "execution_count": 130,
   "metadata": {},
   "outputs": [
    {
     "data": {
      "text/plain": [
       "(2418, 7, 18, 26, 1)"
      ]
     },
     "execution_count": 130,
     "metadata": {},
     "output_type": "execute_result"
    }
   ],
   "source": [
    "X_All=np.array([rhAll,wsAll,invAll,wAll,ushearAll,aoAll,euAll])\n",
    "X_All.shape\n",
    "\n",
    "X_All_reshape = np.einsum('lkija->klija',X_All)\n",
    "X_All_reshape.shape"
   ]
  },
  {
   "cell_type": "code",
   "execution_count": 131,
   "metadata": {},
   "outputs": [],
   "source": [
    "yLR=model.predict(X_All_reshape)"
   ]
  },
  {
   "cell_type": "code",
   "execution_count": 132,
   "metadata": {},
   "outputs": [
    {
     "data": {
      "text/plain": [
       "<matplotlib.legend.Legend at 0x2addb353a610>"
      ]
     },
     "execution_count": 132,
     "metadata": {},
     "output_type": "execute_result"
    },
    {
     "data": {
      "image/png": "[encoded data removed]",
      "text/plain": [
       "<Figure size 1080x360 with 1 Axes>"
      ]
     },
     "metadata": {
      "needs_background": "light"
     },
     "output_type": "display_data"
    }
   ],
   "source": [
    "y_predLin_ds=xr.Dataset({'yLR': (('time'), yLR[:,0])}, coords={'time': yAll.time})\n",
    "dump(y_predLin_ds.yLR,'TSdataCNN.joblib')\n",
    "plt.figure(figsize=[15,5])\n",
    "yAll.resample(time='1Y').mean().plot(label='Obs')\n",
    "y_predLin_ds.resample(time='1Y').mean().yLR.plot(label='Pred_CNN')\n",
    "#dump(y,'TS1dataObs_1.joblib')\n",
    "plt.ylim(0, 0.6)\n",
    "plt.legend()"
   ]
  },
  {
   "cell_type": "code",
   "execution_count": 133,
   "metadata": {},
   "outputs": [
    {
     "name": "stdout",
     "output_type": "stream",
     "text": [
      "125\n",
      "1705\n",
      "588\n",
      "81\n",
      "1860\n",
      "477\n",
      "2418\n",
      "2418\n"
     ]
    }
   ],
   "source": [
    "ynf=yAll.where(yAll<0.040, drop=True)\n",
    "print(ynf.shape[0])\n",
    "\n",
    "yint1=yAll.where(yAll>=0.04,drop=True)\n",
    "yintf=yint1.where(yint1<0.48,drop=True)\n",
    "print(yintf.shape[0])\n",
    "\n",
    "yWd=yAll.where(yAll>=0.48, drop=True)\n",
    "print(yWd.shape[0])\n",
    "\n",
    "yLRnf=y_predLin_ds.where(y_predLin_ds.yLR<0.04,drop=True)\n",
    "print(yLRnf.yLR.shape[0])\n",
    "\n",
    "yLRint1=y_predLin_ds.where(y_predLin_ds.yLR>=0.04,drop=True)\n",
    "yLRintf=yLRint1.where(yLRint1<0.48,drop=True)\n",
    "print(yLRintf.yLR.shape[0])\n",
    "\n",
    "yLRWd=y_predLin_ds.where(y_predLin_ds.yLR>=0.48,drop=True)\n",
    "print(yLRWd.yLR.shape[0])\n",
    "\n",
    "print((ynf.shape[0]+yintf.shape[0]+yWd.shape[0]))\n",
    "print((yLRnf.yLR.shape[0]+yLRintf.yLR.shape[0]+yLRWd.yLR.shape[0]))"
   ]
  },
  {
   "cell_type": "code",
   "execution_count": 134,
   "metadata": {},
   "outputs": [
    {
     "data": {
      "text/plain": [
       "Text(0.5, 1.0, 'CNN')"
      ]
     },
     "execution_count": 134,
     "metadata": {},
     "output_type": "execute_result"
    },
    {
     "data": {
      "image/png": "[encoded data removed]",
      "text/plain": [
       "<Figure size 720x360 with 2 Axes>"
      ]
     },
     "metadata": {},
     "output_type": "display_data"
    }
   ],
   "source": [
    "fig = plt.figure(figsize=[10,5])\n",
    "ax = fig.add_axes([0,0,1,1])\n",
    "ax.axis('equal')\n",
    "pieLabs = ['No Fog', 'Intermediate Fog (1-11)', 'Widespread Fog (>11)']\n",
    "piedata = [ynf.shape[0],yintf.shape[0],yWd.shape[0]]\n",
    "ax.pie(piedata, labels = pieLabs,autopct='%1.2f%%')\n",
    "ax.set_title('Station Observation')\n",
    "ax1 = fig.add_axes([1,0,1,1])\n",
    "ax1.axis('equal')\n",
    "pieLabs = ['No Fog', 'Intermediate Fog (1-11)', 'Widespread Fog (>11)']\n",
    "piedata = [yLRnf.yLR.shape[0],yLRintf.yLR.shape[0],yLRWd.yLR.shape[0]]\n",
    "ax1.pie(piedata, labels = pieLabs,autopct='%1.2f%%')\n",
    "ax1.set_title('CNN')"
   ]
  },
  {
   "cell_type": "code",
   "execution_count": 135,
   "metadata": {},
   "outputs": [
    {
     "data": {
      "text/plain": [
       "['piedataCNN.joblib']"
      ]
     },
     "execution_count": 135,
     "metadata": {},
     "output_type": "execute_result"
    }
   ],
   "source": [
    "pie1dataObs = [ynf.shape[0],yintf.shape[0],yWd.shape[0]]\n",
    "pie1dataLR = [yLRnf.yLR.shape[0],yLRintf.yLR.shape[0],yLRWd.yLR.shape[0]]\n",
    "#dump(pie1dataObs, 'pie1dataObs_1.joblib') \n",
    "dump(pie1dataLR,'piedataCNN.joblib')"
   ]
  },
  {
   "cell_type": "code",
   "execution_count": null,
   "metadata": {},
   "outputs": [],
   "source": []
  },
  {
   "cell_type": "code",
   "execution_count": null,
   "metadata": {},
   "outputs": [],
   "source": []
  }
 ],
 "metadata": {
  "kernelspec": {
   "display_name": "Python 3",
   "language": "python",
   "name": "python3"
  },
  "language_info": {
   "codemirror_mode": {
    "name": "ipython",
    "version": 3
   },
   "file_extension": ".py",
   "mimetype": "text/x-python",
   "name": "python",
   "nbconvert_exporter": "python",
   "pygments_lexer": "ipython3",
   "version": "3.8.5"
  }
 },
 "nbformat": 4,
 "nbformat_minor": 4
}
