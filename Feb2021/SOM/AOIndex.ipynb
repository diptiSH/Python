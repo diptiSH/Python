{
 "cells": [
  {
   "cell_type": "code",
   "execution_count": 11,
   "metadata": {},
   "outputs": [],
   "source": [
    "import numpy as np\n",
    "import matplotlib.pyplot as plt\n",
    "from sklearn.decomposition import PCA\n",
    "import xarray as xr"
   ]
  },
  {
   "cell_type": "code",
   "execution_count": 12,
   "metadata": {},
   "outputs": [],
   "source": [
    "z1000Data = xr.open_dataset('../../../Data/eraDown/ERA5_2degree_Down/DailyMean/ERA5NH_1000_z_daily_NovDecJan.nc')"
   ]
  },
  {
   "cell_type": "code",
   "execution_count": 13,
   "metadata": {},
   "outputs": [],
   "source": [
    "z1000Ts=z1000Data.z.sel(latitude=slice(90,20))\n",
    "#z1000Ts"
   ]
  },
  {
   "cell_type": "code",
   "execution_count": 17,
   "metadata": {},
   "outputs": [
    {
     "data": {
      "text/plain": [
       "array([[ 2.0051301e+04,  5.3360789e+04,  7.3658350e+02, ...,\n",
       "         1.5532761e+00, -1.4604061e+00,  5.7096954e-02],\n",
       "       [-4.6171927e+02,  4.1132859e+04,  1.3916438e+04, ...,\n",
       "         1.1074263e+00,  2.6785553e+00,  5.6722954e-02],\n",
       "       [ 1.7303432e+04,  2.4538240e+04,  8.5778945e+03, ...,\n",
       "        -2.9368236e+00,  1.5473965e+00,  5.7027739e-02],\n",
       "       ...,\n",
       "       [-3.7209141e+04, -1.1792420e+04,  1.0393216e+02, ...,\n",
       "         1.0281967e+00, -3.6880288e+00,  5.7657979e-02],\n",
       "       [-5.1133070e+04,  1.4548742e+04, -1.0833105e+04, ...,\n",
       "        -4.8648152e+00, -8.8714004e-01,  5.7858646e-02],\n",
       "       [-5.6330477e+04,  2.7630367e+04, -1.1702793e+04, ...,\n",
       "         9.6234417e-01, -1.7586675e-01,  5.7609055e-02]], dtype=float32)"
      ]
     },
     "execution_count": 17,
     "metadata": {},
     "output_type": "execute_result"
    }
   ],
   "source": [
    "pca = PCA()\n",
    "t1=z1000Ts.stack(z=(\"latitude\", \"longitude\"))\n",
    "# fit scaler on training data\n",
    "#norm = PCA().fit(t1)\n",
    "# transform training data\n",
    "t2 =PCA().fit_transform(t1)\n",
    "#z1000Ts1=t1.unstack()\n",
    "t2"
   ]
  },
  {
   "cell_type": "code",
   "execution_count": null,
   "metadata": {},
   "outputs": [],
   "source": [
    "z1000Ts1"
   ]
  },
  {
   "cell_type": "code",
   "execution_count": null,
   "metadata": {},
   "outputs": [],
   "source": [
    "z1000Ts"
   ]
  },
  {
   "cell_type": "code",
   "execution_count": null,
   "metadata": {},
   "outputs": [],
   "source": []
  }
 ],
 "metadata": {
  "kernelspec": {
   "display_name": "Python 3",
   "language": "python",
   "name": "python3"
  },
  "language_info": {
   "codemirror_mode": {
    "name": "ipython",
    "version": 3
   },
   "file_extension": ".py",
   "mimetype": "text/x-python",
   "name": "python",
   "nbconvert_exporter": "python",
   "pygments_lexer": "ipython3",
   "version": "3.8.5"
  }
 },
 "nbformat": 4,
 "nbformat_minor": 4
}
