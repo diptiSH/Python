{
 "cells": [
  {
   "cell_type": "code",
   "execution_count": 3,
   "metadata": {},
   "outputs": [],
   "source": [
    "import xarray as xr\n",
    "import numpy as np\n",
    "import pandas as pd\n",
    "import datetime\n",
    "import matplotlib.pyplot as plt\n",
    "from keras.models import Sequential\n",
    "from keras.layers import Dense, Conv3D, Flatten,MaxPooling3D,AveragePooling3D, concatenate,Input\n",
    "\n",
    "from math import e\n",
    "from sklearn.model_selection import train_test_split\n",
    "from keras.models import Model"
   ]
  },
  {
   "cell_type": "code",
   "execution_count": 4,
   "metadata": {},
   "outputs": [],
   "source": [
    "from sklearn.preprocessing import StandardScaler"
   ]
  },
  {
   "cell_type": "code",
   "execution_count": 5,
   "metadata": {},
   "outputs": [],
   "source": [
    "fogData = xr.open_dataset('../../../Data/FogData/CombinedFogData_25Stations.nc')\n",
    "#plt.figure(figsize=[16,8])\n",
    "StackFog=fogData.fogdata.stack(a=('years','months','days'))\n",
    "StackFog\n",
    "dd =[];\n",
    "for i in range(StackFog.years.values.shape[0]):\n",
    "    dd=dd+[str(StackFog.years[i].values)+'-'+str(StackFog.months[i].values)+\"-\"+str(StackFog.days[i].values)]\n",
    "fg = xr.Dataset({'fogdata': (('time','stations'), StackFog.values.T)}, coords={'time': pd.to_datetime(dd),'stations': fogData.stations})\n",
    "y=fg.fogdata.sum(dim='stations').sel(time=slice('1980-1-1','2014-12-31'))\n",
    "y=y/25.0\n",
    "#y"
   ]
  },
  {
   "cell_type": "code",
   "execution_count": 6,
   "metadata": {},
   "outputs": [],
   "source": [
    "# Input Data\n",
    "t2mData = xr.open_dataset('../../../Data/eraDown/ERA5_2degree_Down/DailyMean/ERA5NH_t2m_daily_NovDecJan.nc')\n",
    "d2mData = xr.open_dataset('../../../Data/eraDown/ERA5_2degree_Down/DailyMean/ERA5NH_d2m_daily_NovDecJan.nc')\n",
    "u10Data = xr.open_dataset('../../../Data/eraDown/ERA5_2degree_Down/DailyMean/ERA5NH_u10_daily_NovDecJan.nc')\n",
    "v10Data = xr.open_dataset('../../../Data/eraDown/ERA5_2degree_Down/DailyMean/ERA5NH_v10_daily_NovDecJan.nc')\n",
    "z500Data = xr.open_dataset('../../../Data/eraDown/ERA5_2degree_Down/DailyMean/ERA5NH_500_z_daily_NovDecJan.nc')\n",
    "uvt850Data = xr.open_dataset('../../../Data/eraDown/ERA5_2degree_Down/DailyMean/ERA5NH_850_uvt_daily_NovDecJan.nc')"
   ]
  },
  {
   "cell_type": "code",
   "execution_count": 7,
   "metadata": {},
   "outputs": [],
   "source": [
    "rh = (e**((17.625*(d2mData.d2m.values-273.15))/(243.04+(d2mData.d2m.values-273.15)))/e**((17.625*(t2mData.t2m.values-273.15))/(243.04+(t2mData.t2m.values-273.15))))\n",
    "\n",
    "rh_ds = xr.Dataset({'rh': (('time','latitude','longitude'), rh)}, coords={'time': t2mData.time,'latitude': t2mData.latitude,'longitude': t2mData.longitude})\n"
   ]
  },
  {
   "cell_type": "code",
   "execution_count": 8,
   "metadata": {},
   "outputs": [],
   "source": [
    "t2m=t2mData.t2m.shift(time=1)\n",
    "rh=rh_ds.rh.shift(time=1)\n",
    "u10=u10Data.u10.shift(time=1)\n",
    "v10=v10Data.v10.shift(time=1)\n",
    "z=z500Data.z.shift(time=1)\n",
    "t850=uvt850Data.t.shift(time=1)\n",
    "u850=uvt850Data.u.shift(time=1)\n",
    "v850=uvt850Data.v.shift(time=1)"
   ]
  },
  {
   "cell_type": "code",
   "execution_count": 9,
   "metadata": {},
   "outputs": [],
   "source": [
    "t2mTs=t2m[((t2m.time.dt.month>11) | (t2m.time.dt.month<2)) & (t2m.time.dt.year<2020)].sel(time=slice('1980-1-1','2014-12-31'),latitude=slice(35,0),longitude=slice(50,100))\n",
    "rhTs=rh[((rh.time.dt.month>11) | (rh.time.dt.month<2)) & (rh.time.dt.year<2020)].sel(time=slice('1980-1-1','2014-12-31'),latitude=slice(35,0),longitude=slice(50,100))\n",
    "u10Ts=u10[((u10.time.dt.month>11) | (u10.time.dt.month<2)) & (u10.time.dt.year<2020)].sel(time=slice('1980-1-1','2014-12-31'),latitude=slice(35,0),longitude=slice(50,100))\n",
    "v10Ts=u10[((v10.time.dt.month>11) | (v10.time.dt.month<2)) & (v10.time.dt.year<2020)].sel(time=slice('1980-1-1','2014-12-31'),latitude=slice(35,0),longitude=slice(50,100))\n",
    "zTs=z[((z.time.dt.month>11) | (z.time.dt.month<2)) & (z.time.dt.year<2020)].sel(time=slice('1980-1-1','2014-12-31'),latitude=slice(35,0),longitude=slice(50,100))\n",
    "t850Ts=t850[((t850.time.dt.month>11) | (t850.time.dt.month<2)) & (t850.time.dt.year<2020)].sel(time=slice('1980-1-1','2014-12-31'),latitude=slice(35,0),longitude=slice(50,100))\n",
    "u850Ts=u850[((u850.time.dt.month>11) | (u850.time.dt.month<2)) & (u850.time.dt.year<2020)].sel(time=slice('1980-1-1','2014-12-31'),latitude=slice(35,0),longitude=slice(50,100))\n",
    "v850Ts=v850[((v850.time.dt.month>11) | (v850.time.dt.month<2)) & (v850.time.dt.year<2020)].sel(time=slice('1980-1-1','2014-12-31'),latitude=slice(35,0),longitude=slice(50,100))"
   ]
  },
  {
   "cell_type": "code",
   "execution_count": 10,
   "metadata": {},
   "outputs": [],
   "source": [
    "t1=t2mTs.stack(z=(\"latitude\", \"longitude\"))\n",
    "# fit scaler on training data\n",
    "norm = StandardScaler().fit(t1)\n",
    "# transform training data\n",
    "t1.values = norm.transform(t1)\n",
    "t2mTs.values=t1.unstack()\n",
    "\n",
    "t1=rhTs.stack(z=(\"latitude\", \"longitude\"))\n",
    "# fit scaler on training data\n",
    "norm = StandardScaler().fit(t1)\n",
    "# transform training data\n",
    "t1.values = norm.transform(t1)\n",
    "rhTs.values=t1.unstack()\n",
    "\n",
    "t1=u10Ts.stack(z=(\"latitude\", \"longitude\"))\n",
    "# fit scaler on training data\n",
    "norm = StandardScaler().fit(t1)\n",
    "# transform training data\n",
    "t1.values = norm.transform(t1)\n",
    "u10Ts.values=t1.unstack()\n",
    "\n",
    "t1=v10Ts.stack(z=(\"latitude\", \"longitude\"))\n",
    "# fit scaler on training data\n",
    "norm = StandardScaler().fit(t1)\n",
    "# transform training data\n",
    "t1.values = norm.transform(t1)\n",
    "v10Ts.values=t1.unstack()\n",
    "\n",
    "t1=zTs.stack(z=(\"latitude\", \"longitude\"))\n",
    "# fit scaler on training data\n",
    "norm = StandardScaler().fit(t1)\n",
    "# transform training data\n",
    "t1.values = norm.transform(t1)\n",
    "zTs.values=t1.unstack()\n",
    "\n",
    "\n",
    "t1=t850Ts.stack(z=(\"latitude\", \"longitude\"))\n",
    "# fit scaler on training data\n",
    "norm = StandardScaler().fit(t1)\n",
    "# transform training data\n",
    "t1.values = norm.transform(t1)\n",
    "t850Ts.values=t1.unstack()\n",
    "\n",
    "t1=u850Ts.stack(z=(\"latitude\", \"longitude\"))\n",
    "# fit scaler on training data\n",
    "norm = StandardScaler().fit(t1)\n",
    "# transform training data\n",
    "t1.values = norm.transform(t1)\n",
    "u850Ts.values=t1.unstack()\n",
    "\n",
    "t1=v850Ts.stack(z=(\"latitude\", \"longitude\"))\n",
    "# fit scaler on training data\n",
    "norm = StandardScaler().fit(t1)\n",
    "# transform training data\n",
    "t1.values = norm.transform(t1)\n",
    "v850Ts.values=t1.unstack()"
   ]
  },
  {
   "cell_type": "code",
   "execution_count": 11,
   "metadata": {},
   "outputs": [],
   "source": [
    "z_train, z_test,t2m_train, t2m_test,t850_train, t850_test,u850_train, u850_test,v850_train, v850_test,   rh_train, rh_test,v10_train, v10_test,u10_train, u10_test,y_train,y_test = train_test_split( zTs,t2mTs,t850Ts,u850Ts,v850Ts, rhTs,v10Ts,u10Ts,y,test_size=0.20, random_state=0)"
   ]
  },
  {
   "cell_type": "code",
   "execution_count": 12,
   "metadata": {},
   "outputs": [],
   "source": [
    "z_trainf, z_val,t2m_trainf, t2m_val,t850_trainf, t850_val,u850_trainf, u850_val,v850_trainf, v850_val, rh_trainf, rh_val,v10_trainf, v10_val,u10_trainf, u10_val,y_trainf,y_val = train_test_split( z_train,t2m_train,t850_train,u850_train,v850_train, rh_train,v10_train,u10_train,y_train,test_size=0.20, random_state=0)"
   ]
  },
  {
   "cell_type": "code",
   "execution_count": 13,
   "metadata": {},
   "outputs": [
    {
     "data": {
      "text/plain": [
       "(1388, 18, 26, 1)"
      ]
     },
     "execution_count": 13,
     "metadata": {},
     "output_type": "execute_result"
    }
   ],
   "source": [
    "t2mtrainf=t2m_trainf.values\n",
    "t2mtrainf=t2mtrainf[:,:,:,None]\n",
    "t2mtrainf.shape\n",
    "\n",
    "t850trainf=t850_trainf.values\n",
    "t850trainf=t850trainf[:,:,:,None]\n",
    "t850trainf.shape\n",
    "\n",
    "\n",
    "u850trainf=u850_trainf.values\n",
    "u850trainf=u850trainf[:,:,:,None]\n",
    "u850trainf.shape\n",
    "\n",
    "\n",
    "v850trainf=v850_trainf.values\n",
    "v850trainf=v850trainf[:,:,:,None]\n",
    "v850trainf.shape\n",
    "\n",
    "rhtrainf=rh_trainf.values\n",
    "rhtrainf=rhtrainf[:,:,:,None]\n",
    "rhtrainf.shape\n",
    "\n",
    "ztrainf=z_trainf.values\n",
    "ztrainf=ztrainf[:,:,:,None]\n",
    "ztrainf.shape\n",
    "\n",
    "u10trainf=u10_trainf.values\n",
    "u10trainf=u10trainf[:,:,:,None]\n",
    "u10trainf.shape\n",
    "\n",
    "v10trainf=v10_trainf.values\n",
    "v10trainf=v10trainf[:,:,:,None]\n",
    "v10trainf.shape"
   ]
  },
  {
   "cell_type": "code",
   "execution_count": null,
   "metadata": {},
   "outputs": [],
   "source": []
  },
  {
   "cell_type": "code",
   "execution_count": 14,
   "metadata": {},
   "outputs": [
    {
     "data": {
      "text/plain": [
       "(1388, 1)"
      ]
     },
     "execution_count": 14,
     "metadata": {},
     "output_type": "execute_result"
    }
   ],
   "source": [
    "ytrainf=y_trainf.values\n",
    "ytrainf=ytrainf[:,None]\n",
    "ytrainf.shape"
   ]
  },
  {
   "cell_type": "code",
   "execution_count": 15,
   "metadata": {},
   "outputs": [
    {
     "data": {
      "text/plain": [
       "(434, 18, 26, 1)"
      ]
     },
     "execution_count": 15,
     "metadata": {},
     "output_type": "execute_result"
    }
   ],
   "source": [
    "t2mtest=t2m_test.values\n",
    "t2mtest=t2mtest[:,:,:,None]\n",
    "t2mtest.shape\n",
    "\n",
    "t850test=t850_test.values\n",
    "t850test=t850test[:,:,:,None]\n",
    "t850test.shape\n",
    "\n",
    "u850test=u850_test.values\n",
    "u850test=u850test[:,:,:,None]\n",
    "u850test.shape\n",
    "\n",
    "\n",
    "v850test=v850_test.values\n",
    "v850test=v850test[:,:,:,None]\n",
    "v850test.shape\n",
    "\n",
    "\n",
    "rhtest=rh_test.values\n",
    "rhtest=rhtest[:,:,:,None]\n",
    "rhtest.shape\n",
    "u10test=u10_test.values\n",
    "u10test=u10test[:,:,:,None]\n",
    "u10test.shape\n",
    "ztest=z_test.values\n",
    "ztest=ztest[:,:,:,None]\n",
    "ztest.shape\n",
    "\n",
    "v10test=v10_test.values\n",
    "v10test=v10test[:,:,:,None]\n",
    "v10test.shape"
   ]
  },
  {
   "cell_type": "code",
   "execution_count": 16,
   "metadata": {},
   "outputs": [
    {
     "data": {
      "text/plain": [
       "(348, 18, 26, 1)"
      ]
     },
     "execution_count": 16,
     "metadata": {},
     "output_type": "execute_result"
    }
   ],
   "source": [
    "t2mval=t2m_val.values\n",
    "t2mval=t2mval[:,:,:,None]\n",
    "t2mval.shape\n",
    "rhval=rh_val.values\n",
    "rhval=rhval[:,:,:,None]\n",
    "rhval.shape\n",
    "u10val=u10_val.values\n",
    "u10val=u10val[:,:,:,None]\n",
    "u10val.shape\n",
    "zval=z_val.values\n",
    "zval=zval[:,:,:,None]\n",
    "zval.shape\n",
    "\n",
    "v10val=v10_val.values\n",
    "v10val=v10val[:,:,:,None]\n",
    "v10val.shape\n",
    "\n",
    "t850val=t850_val.values\n",
    "t850val=t850val[:,:,:,None]\n",
    "t850val.shape\n",
    "\n",
    "u850val=u850_val.values\n",
    "u850val=u850val[:,:,:,None]\n",
    "u850val.shape\n",
    "\n",
    "v850val=v850_val.values\n",
    "v850val=v850val[:,:,:,None]\n",
    "v850val.shape"
   ]
  },
  {
   "cell_type": "raw",
   "metadata": {},
   "source": [
    "X_test=np.array([ztest,rhtest,u10test,v10test,t2mtest,t850test,u850test,v850test])\n",
    "X_test.shape\n",
    "\n",
    "X_trainf=np.array([ztrainf,rhtrainf,u10trainf,v10trainf,t2mtrainf,t850trainf,u850trainf,v850trainf])\n",
    "X_trainf.shape\n",
    "\n",
    "X_val=np.array([zval,rhval,u10val,v10val,t2mval,t850val,u850val,v850val])\n",
    "X_val.shape"
   ]
  },
  {
   "cell_type": "raw",
   "metadata": {},
   "source": [
    "X_test=np.array([ztest,rhtest,u10test,v10test,u850test,v850test])\n",
    "X_test.shape\n",
    "\n",
    "X_trainf=np.array([ztrainf,rhtrainf,u10trainf,v10trainf,u850trainf,v850trainf])\n",
    "X_trainf.shape\n",
    "\n",
    "X_val=np.array([zval,rhval,u10val,v10val,u850val,v850val])\n",
    "X_val.shape"
   ]
  },
  {
   "cell_type": "code",
   "execution_count": 68,
   "metadata": {},
   "outputs": [
    {
     "data": {
      "text/plain": [
       "(2, 348, 18, 26, 1)"
      ]
     },
     "execution_count": 68,
     "metadata": {},
     "output_type": "execute_result"
    }
   ],
   "source": [
    "X_test=np.array([ztest,rhtest])\n",
    "X_test.shape\n",
    "\n",
    "X_trainf=np.array([ztrainf,rhtrainf])\n",
    "X_trainf.shape\n",
    "\n",
    "X_val=np.array([zval,rhval])\n",
    "X_val.shape"
   ]
  },
  {
   "cell_type": "code",
   "execution_count": 69,
   "metadata": {},
   "outputs": [
    {
     "data": {
      "text/plain": [
       "(348, 2, 18, 26, 1)"
      ]
     },
     "execution_count": 69,
     "metadata": {},
     "output_type": "execute_result"
    }
   ],
   "source": [
    "#nifti = np.random.randint(0,5,size=(508,512,513)) \n",
    "# set the last dim to 513 just to make stuff more clear\n",
    "#nifti.shape\n",
    "# (508, 512, 513)\n",
    "\n",
    "X_trainf_reshape = np.einsum('lkija->klija',X_trainf)\n",
    "X_trainf_reshape.shape\n",
    "\n",
    "X_test_reshape = np.einsum('lkija->klija',X_test)\n",
    "X_test_reshape.shape\n",
    "\n",
    "X_val_reshape = np.einsum('lkija->klija',X_val)\n",
    "X_val_reshape.shape"
   ]
  },
  {
   "cell_type": "code",
   "execution_count": 70,
   "metadata": {},
   "outputs": [
    {
     "data": {
      "text/plain": [
       "(1388, 2, 18, 26, 1)"
      ]
     },
     "execution_count": 70,
     "metadata": {},
     "output_type": "execute_result"
    }
   ],
   "source": [
    "X_trainf_reshape.shape"
   ]
  },
  {
   "cell_type": "code",
   "execution_count": 20,
   "metadata": {},
   "outputs": [
    {
     "data": {
      "text/plain": [
       "(434, 1)"
      ]
     },
     "execution_count": 20,
     "metadata": {},
     "output_type": "execute_result"
    }
   ],
   "source": [
    "ytest=y_test.values\n",
    "ytest=ytest[:,None]\n",
    "ytest.shape"
   ]
  },
  {
   "cell_type": "code",
   "execution_count": 21,
   "metadata": {},
   "outputs": [
    {
     "data": {
      "text/plain": [
       "(348, 1)"
      ]
     },
     "execution_count": 21,
     "metadata": {},
     "output_type": "execute_result"
    }
   ],
   "source": [
    "yval=y_val.values\n",
    "yval=yval[:,None]\n",
    "yval.shape"
   ]
  },
  {
   "cell_type": "code",
   "execution_count": null,
   "metadata": {},
   "outputs": [
    {
     "name": "stdout",
     "output_type": "stream",
     "text": [
      "Epoch 1/15\n",
      "44/44 [==============================] - 78s 2s/step - loss: 3.2127 - val_loss: 0.1870\n",
      "Epoch 2/15\n",
      "44/44 [==============================] - 83s 2s/step - loss: 0.1780 - val_loss: 0.1343\n",
      "Epoch 3/15\n",
      "44/44 [==============================] - 86s 2s/step - loss: 0.1277 - val_loss: 0.1237\n",
      "Epoch 4/15\n",
      "44/44 [==============================] - 78s 2s/step - loss: 0.1154 - val_loss: 0.1333\n",
      "Epoch 5/15\n",
      "44/44 [==============================] - 114s 3s/step - loss: 0.1061 - val_loss: 0.1109\n",
      "Epoch 6/15\n",
      "44/44 [==============================] - 126s 3s/step - loss: 0.0970 - val_loss: 0.1101\n",
      "Epoch 7/15\n",
      "44/44 [==============================] - 124s 3s/step - loss: 0.0906 - val_loss: 0.1069\n",
      "Epoch 8/15\n",
      "44/44 [==============================] - 137s 3s/step - loss: 0.0938 - val_loss: 0.1102\n",
      "Epoch 9/15\n",
      "21/44 [=============>................] - ETA: 1:26 - loss: 0.0845- ETA: 1:53 -"
     ]
    }
   ],
   "source": [
    "model = Sequential()\n",
    "\n",
    "model.add(Conv3D(filters=32, kernel_size=5, activation='relu',padding='same', input_shape=(X_trainf_reshape.shape[1],X_trainf_reshape.shape[2],X_trainf_reshape.shape[3],1)))\n",
    "#model.add(MaxPooling3D())\n",
    "\n",
    "model.add(Conv3D(filters=64, kernel_size=3, activation='relu',padding='same'))\n",
    "#model.add(MaxPooling3D())\n",
    "model.add(Conv3D(filters=128, kernel_size=3, activation='relu',padding='same'))\n",
    "\n",
    "model.add(Conv3D(filters=256, kernel_size=3, activation='relu',padding='same'))\n",
    "\n",
    "#model.add(Conv3D(filters=512, kernel_size=3, activation='relu',padding='same'))\n",
    "\n",
    "#model.add(Conv2D(filters=256, kernel_size=(3,3), activation='relu'))\n",
    "#model.add(Conv2D(filters=3, kernel_size=(1, 1), activation='relu'))\n",
    "#model.add(AveragePooling2D())\n",
    "\n",
    "model.add(Flatten())\n",
    "\n",
    "#model.add(Dense(units=120, activation='relu'))\n",
    "\n",
    "model.add(Dense(units=100, activation='relu'))\n",
    "model.add(Dense(units=1, activation = 'linear'))\n",
    "\n",
    "model.compile(optimizer='adam', loss='mae')\n",
    "\n",
    "history = model.fit(X_trainf_reshape, ytrainf, validation_data=(X_val_reshape, yval), epochs=15)\n",
    "yy_test = model.predict(X_test_reshape)\n",
    "\n",
    "test_corr = np.corrcoef(yy_test[:,0],y_test)[0,1]\n",
    "plt.title('corr = %f'%test_corr)\n",
    "\n",
    "plt.plot(yy_test,ytest,'+')"
   ]
  },
  {
   "cell_type": "code",
   "execution_count": 74,
   "metadata": {},
   "outputs": [
    {
     "data": {
      "text/plain": [
       "(1, 348, 18, 26, 1)"
      ]
     },
     "execution_count": 74,
     "metadata": {},
     "output_type": "execute_result"
    }
   ],
   "source": [
    "X_test=np.array([rhtest])\n",
    "X_test.shape\n",
    "\n",
    "X_trainf=np.array([rhtrainf])\n",
    "X_trainf.shape\n",
    "\n",
    "X_val=np.array([rhval])\n",
    "X_val.shape"
   ]
  },
  {
   "cell_type": "code",
   "execution_count": null,
   "metadata": {},
   "outputs": [],
   "source": []
  },
  {
   "cell_type": "code",
   "execution_count": 75,
   "metadata": {},
   "outputs": [
    {
     "data": {
      "text/plain": [
       "(348, 1, 18, 26, 1)"
      ]
     },
     "execution_count": 75,
     "metadata": {},
     "output_type": "execute_result"
    }
   ],
   "source": [
    "X_trainf_reshape = np.einsum('lkija->klija',X_trainf)\n",
    "X_trainf_reshape.shape\n",
    "\n",
    "X_test_reshape = np.einsum('lkija->klija',X_test)\n",
    "X_test_reshape.shape\n",
    "\n",
    "X_val_reshape = np.einsum('lkija->klija',X_val)\n",
    "X_val_reshape.shape"
   ]
  },
  {
   "cell_type": "code",
   "execution_count": 76,
   "metadata": {},
   "outputs": [
    {
     "name": "stdout",
     "output_type": "stream",
     "text": [
      "Epoch 1/10\n",
      "44/44 [==============================] - 18s 356ms/step - loss: 0.3894 - val_loss: 0.1691\n",
      "Epoch 2/10\n",
      "44/44 [==============================] - 16s 370ms/step - loss: 0.1730 - val_loss: 0.1764\n",
      "Epoch 3/10\n",
      "44/44 [==============================] - 18s 418ms/step - loss: 0.1740 - val_loss: 0.1554\n",
      "Epoch 4/10\n",
      "44/44 [==============================] - 26s 593ms/step - loss: 0.1409 - val_loss: 0.1256\n",
      "Epoch 5/10\n",
      "44/44 [==============================] - 20s 443ms/step - loss: 0.1116 - val_loss: 0.1169\n",
      "Epoch 6/10\n",
      "44/44 [==============================] - 20s 456ms/step - loss: 0.1085 - val_loss: 0.1152\n",
      "Epoch 7/10\n",
      "44/44 [==============================] - 21s 469ms/step - loss: 0.0990 - val_loss: 0.1160\n",
      "Epoch 8/10\n",
      "44/44 [==============================] - 20s 450ms/step - loss: 0.1013 - val_loss: 0.1140\n",
      "Epoch 9/10\n",
      "44/44 [==============================] - 17s 396ms/step - loss: 0.0931 - val_loss: 0.1080\n",
      "Epoch 10/10\n",
      "44/44 [==============================] - 18s 411ms/step - loss: 0.0918 - val_loss: 0.1115\n"
     ]
    },
    {
     "data": {
      "text/plain": [
       "[<matplotlib.lines.Line2D at 0x2b601bb890d0>]"
      ]
     },
     "execution_count": 76,
     "metadata": {},
     "output_type": "execute_result"
    },
    {
     "data": {
      "image/png": "[encoded data removed]",
      "text/plain": [
       "<Figure size 432x288 with 1 Axes>"
      ]
     },
     "metadata": {
      "needs_background": "light"
     },
     "output_type": "display_data"
    }
   ],
   "source": [
    "model = Sequential()\n",
    "\n",
    "model.add(Conv3D(filters=32, kernel_size=5, activation='relu',padding='same', input_shape=(X_trainf_reshape.shape[1],X_trainf_reshape.shape[2],X_trainf_reshape.shape[3],1)))\n",
    "#model.add(MaxPooling3D())\n",
    "\n",
    "model.add(Conv3D(filters=64, kernel_size=3, activation='relu',padding='same'))\n",
    "#model.add(MaxPooling3D())\n",
    "model.add(Conv3D(filters=128, kernel_size=3, activation='relu',padding='same'))\n",
    "\n",
    "model.add(Conv3D(filters=256, kernel_size=3, activation='relu',padding='same'))\n",
    "\n",
    "#model.add(Conv3D(filters=512, kernel_size=3, activation='relu',padding='same'))\n",
    "\n",
    "#model.add(Conv2D(filters=256, kernel_size=(3,3), activation='relu'))\n",
    "#model.add(Conv2D(filters=3, kernel_size=(1, 1), activation='relu'))\n",
    "#model.add(AveragePooling2D())\n",
    "\n",
    "model.add(Flatten())\n",
    "\n",
    "#model.add(Dense(units=120, activation='relu'))\n",
    "\n",
    "model.add(Dense(units=100, activation='relu'))\n",
    "model.add(Dense(units=1, activation = 'linear'))\n",
    "\n",
    "model.compile(optimizer='adam', loss='mae')\n",
    "\n",
    "history = model.fit(X_trainf_reshape, ytrainf, validation_data=(X_val_reshape, yval), epochs=10)\n",
    "yy_test = model.predict(X_test_reshape)\n",
    "\n",
    "test_corr = np.corrcoef(yy_test[:,0],y_test)[0,1]\n",
    "plt.title('corr = %f'%test_corr)\n",
    "\n",
    "plt.plot(yy_test,ytest,'+')"
   ]
  },
  {
   "cell_type": "code",
   "execution_count": 77,
   "metadata": {},
   "outputs": [
    {
     "data": {
      "text/plain": [
       "(1, 348, 18, 26, 1)"
      ]
     },
     "execution_count": 77,
     "metadata": {},
     "output_type": "execute_result"
    }
   ],
   "source": [
    "X_test=np.array([ztest])\n",
    "X_test.shape\n",
    "\n",
    "X_trainf=np.array([ztrainf])\n",
    "X_trainf.shape\n",
    "\n",
    "X_val=np.array([zval])\n",
    "X_val.shape"
   ]
  },
  {
   "cell_type": "code",
   "execution_count": 78,
   "metadata": {},
   "outputs": [
    {
     "data": {
      "text/plain": [
       "(348, 1, 18, 26, 1)"
      ]
     },
     "execution_count": 78,
     "metadata": {},
     "output_type": "execute_result"
    }
   ],
   "source": [
    "X_trainf_reshape = np.einsum('lkija->klija',X_trainf)\n",
    "X_trainf_reshape.shape\n",
    "\n",
    "X_test_reshape = np.einsum('lkija->klija',X_test)\n",
    "X_test_reshape.shape\n",
    "\n",
    "X_val_reshape = np.einsum('lkija->klija',X_val)\n",
    "X_val_reshape.shape"
   ]
  },
  {
   "cell_type": "code",
   "execution_count": 79,
   "metadata": {},
   "outputs": [
    {
     "name": "stdout",
     "output_type": "stream",
     "text": [
      "Epoch 1/10\n",
      "44/44 [==============================] - 23s 465ms/step - loss: 0.2670 - val_loss: 0.1694\n",
      "Epoch 2/10\n",
      "44/44 [==============================] - 20s 449ms/step - loss: 0.1732 - val_loss: 0.1690\n",
      "Epoch 3/10\n",
      "44/44 [==============================] - 21s 485ms/step - loss: 0.1695 - val_loss: 0.1686\n",
      "Epoch 4/10\n",
      "44/44 [==============================] - 24s 539ms/step - loss: 0.1714 - val_loss: 0.1689\n",
      "Epoch 5/10\n",
      "44/44 [==============================] - 21s 471ms/step - loss: 0.1740 - val_loss: 0.1718\n",
      "Epoch 6/10\n",
      "44/44 [==============================] - 22s 508ms/step - loss: 0.1666 - val_loss: 0.1671\n",
      "Epoch 7/10\n",
      "44/44 [==============================] - 20s 459ms/step - loss: 0.1697 - val_loss: 0.1656\n",
      "Epoch 8/10\n",
      "44/44 [==============================] - 22s 492ms/step - loss: 0.1730 - val_loss: 0.1665\n",
      "Epoch 9/10\n",
      "44/44 [==============================] - 20s 446ms/step - loss: 0.1689 - val_loss: 0.1645\n",
      "Epoch 10/10\n",
      "44/44 [==============================] - 20s 459ms/step - loss: 0.1703 - val_loss: 0.1642\n"
     ]
    },
    {
     "data": {
      "text/plain": [
       "[<matplotlib.lines.Line2D at 0x2b5fd11b6190>]"
      ]
     },
     "execution_count": 79,
     "metadata": {},
     "output_type": "execute_result"
    },
    {
     "data": {
      "image/png": "[encoded data removed]",
      "text/plain": [
       "<Figure size 432x288 with 1 Axes>"
      ]
     },
     "metadata": {
      "needs_background": "light"
     },
     "output_type": "display_data"
    }
   ],
   "source": [
    "model = Sequential()\n",
    "\n",
    "model.add(Conv3D(filters=32, kernel_size=5, activation='relu',padding='same', input_shape=(X_trainf_reshape.shape[1],X_trainf_reshape.shape[2],X_trainf_reshape.shape[3],1)))\n",
    "#model.add(MaxPooling3D())\n",
    "\n",
    "model.add(Conv3D(filters=64, kernel_size=3, activation='relu',padding='same'))\n",
    "#model.add(MaxPooling3D())\n",
    "model.add(Conv3D(filters=128, kernel_size=3, activation='relu',padding='same'))\n",
    "\n",
    "model.add(Conv3D(filters=256, kernel_size=3, activation='relu',padding='same'))\n",
    "\n",
    "#model.add(Conv3D(filters=512, kernel_size=3, activation='relu',padding='same'))\n",
    "\n",
    "#model.add(Conv2D(filters=256, kernel_size=(3,3), activation='relu'))\n",
    "#model.add(Conv2D(filters=3, kernel_size=(1, 1), activation='relu'))\n",
    "#model.add(AveragePooling2D())\n",
    "\n",
    "model.add(Flatten())\n",
    "\n",
    "#model.add(Dense(units=120, activation='relu'))\n",
    "\n",
    "model.add(Dense(units=100, activation='relu'))\n",
    "model.add(Dense(units=1, activation = 'linear'))\n",
    "\n",
    "model.compile(optimizer='adam', loss='mae')\n",
    "\n",
    "history = model.fit(X_trainf_reshape, ytrainf, validation_data=(X_val_reshape, yval), epochs=10)\n",
    "yy_test = model.predict(X_test_reshape)\n",
    "\n",
    "test_corr = np.corrcoef(yy_test[:,0],y_test)[0,1]\n",
    "plt.title('corr = %f'%test_corr)\n",
    "\n",
    "plt.plot(yy_test,ytest,'+')"
   ]
  },
  {
   "cell_type": "code",
   "execution_count": 80,
   "metadata": {},
   "outputs": [
    {
     "data": {
      "text/plain": [
       "(3, 348, 18, 26, 1)"
      ]
     },
     "execution_count": 80,
     "metadata": {},
     "output_type": "execute_result"
    }
   ],
   "source": [
    "X_test=np.array([ztest,rhtest,t2mtest])\n",
    "X_test.shape\n",
    "\n",
    "X_trainf=np.array([ztrainf,rhtrainf,t2mtrainf])\n",
    "X_trainf.shape\n",
    "\n",
    "X_val=np.array([zval,rhval,t2mval])\n",
    "X_val.shape"
   ]
  },
  {
   "cell_type": "code",
   "execution_count": 81,
   "metadata": {},
   "outputs": [
    {
     "data": {
      "text/plain": [
       "(348, 3, 18, 26, 1)"
      ]
     },
     "execution_count": 81,
     "metadata": {},
     "output_type": "execute_result"
    }
   ],
   "source": [
    "X_trainf_reshape = np.einsum('lkija->klija',X_trainf)\n",
    "X_trainf_reshape.shape\n",
    "\n",
    "X_test_reshape = np.einsum('lkija->klija',X_test)\n",
    "X_test_reshape.shape\n",
    "\n",
    "X_val_reshape = np.einsum('lkija->klija',X_val)\n",
    "X_val_reshape.shape"
   ]
  },
  {
   "cell_type": "code",
   "execution_count": 82,
   "metadata": {},
   "outputs": [
    {
     "name": "stdout",
     "output_type": "stream",
     "text": [
      "Epoch 1/10\n",
      "44/44 [==============================] - 83s 2s/step - loss: 3.7610 - val_loss: 0.1687\n",
      "Epoch 2/10\n",
      "44/44 [==============================] - 81s 2s/step - loss: 0.1563 - val_loss: 0.1396\n",
      "Epoch 3/10\n",
      "44/44 [==============================] - 77s 2s/step - loss: 0.1218 - val_loss: 0.1237\n",
      "Epoch 4/10\n",
      "44/44 [==============================] - 77s 2s/step - loss: 0.1078 - val_loss: 0.1258\n",
      "Epoch 5/10\n",
      "44/44 [==============================] - 76s 2s/step - loss: 0.0941 - val_loss: 0.1095\n",
      "Epoch 6/10\n",
      "44/44 [==============================] - 71s 2s/step - loss: 0.0898 - val_loss: 0.1038\n",
      "Epoch 7/10\n",
      "44/44 [==============================] - 71s 2s/step - loss: 0.0844 - val_loss: 0.1147\n",
      "Epoch 8/10\n",
      "44/44 [==============================] - 78s 2s/step - loss: 0.0868 - val_loss: 0.1119\n",
      "Epoch 9/10\n",
      "44/44 [==============================] - 77s 2s/step - loss: 0.0851 - val_loss: 0.1000\n",
      "Epoch 10/10\n",
      "44/44 [==============================] - 89s 2s/step - loss: 0.0772 - val_loss: 0.0993\n"
     ]
    },
    {
     "data": {
      "text/plain": [
       "[<matplotlib.lines.Line2D at 0x2b600025c3a0>]"
      ]
     },
     "execution_count": 82,
     "metadata": {},
     "output_type": "execute_result"
    },
    {
     "data": {
      "image/png": "[encoded data removed]",
      "text/plain": [
       "<Figure size 432x288 with 1 Axes>"
      ]
     },
     "metadata": {
      "needs_background": "light"
     },
     "output_type": "display_data"
    }
   ],
   "source": [
    "model = Sequential()\n",
    "\n",
    "model.add(Conv3D(filters=32, kernel_size=5, activation='relu',padding='same', input_shape=(X_trainf_reshape.shape[1],X_trainf_reshape.shape[2],X_trainf_reshape.shape[3],1)))\n",
    "#model.add(MaxPooling3D())\n",
    "\n",
    "model.add(Conv3D(filters=64, kernel_size=3, activation='relu',padding='same'))\n",
    "#model.add(MaxPooling3D())\n",
    "model.add(Conv3D(filters=128, kernel_size=3, activation='relu',padding='same'))\n",
    "\n",
    "model.add(Conv3D(filters=256, kernel_size=3, activation='relu',padding='same'))\n",
    "\n",
    "#model.add(Conv3D(filters=512, kernel_size=3, activation='relu',padding='same'))\n",
    "\n",
    "#model.add(Conv2D(filters=256, kernel_size=(3,3), activation='relu'))\n",
    "#model.add(Conv2D(filters=3, kernel_size=(1, 1), activation='relu'))\n",
    "#model.add(AveragePooling2D())\n",
    "\n",
    "model.add(Flatten())\n",
    "\n",
    "#model.add(Dense(units=120, activation='relu'))\n",
    "\n",
    "model.add(Dense(units=100, activation='relu'))\n",
    "model.add(Dense(units=1, activation = 'linear'))\n",
    "\n",
    "model.compile(optimizer='adam', loss='mae')\n",
    "\n",
    "history = model.fit(X_trainf_reshape, ytrainf, validation_data=(X_val_reshape, yval), epochs=10)\n",
    "yy_test = model.predict(X_test_reshape)\n",
    "\n",
    "test_corr = np.corrcoef(yy_test[:,0],y_test)[0,1]\n",
    "plt.title('corr = %f'%test_corr)\n",
    "\n",
    "plt.plot(yy_test,ytest,'+')"
   ]
  },
  {
   "cell_type": "code",
   "execution_count": 17,
   "metadata": {},
   "outputs": [
    {
     "data": {
      "text/plain": [
       "(5, 348, 18, 26, 1)"
      ]
     },
     "execution_count": 17,
     "metadata": {},
     "output_type": "execute_result"
    }
   ],
   "source": [
    "X_test=np.array([ztest,rhtest,u10test,v10test,t2mtest])\n",
    "X_test.shape\n",
    "\n",
    "X_trainf=np.array([ztrainf,rhtrainf,u10trainf,v10trainf,t2mtrainf])\n",
    "X_trainf.shape\n",
    "\n",
    "X_val=np.array([zval,rhval,u10val,v10val,t2mval])\n",
    "X_val.shape"
   ]
  },
  {
   "cell_type": "code",
   "execution_count": 18,
   "metadata": {},
   "outputs": [
    {
     "data": {
      "text/plain": [
       "(348, 5, 18, 26, 1)"
      ]
     },
     "execution_count": 18,
     "metadata": {},
     "output_type": "execute_result"
    }
   ],
   "source": [
    "X_trainf_reshape = np.einsum('lkija->klija',X_trainf)\n",
    "X_trainf_reshape.shape\n",
    "\n",
    "X_test_reshape = np.einsum('lkija->klija',X_test)\n",
    "X_test_reshape.shape\n",
    "\n",
    "X_val_reshape = np.einsum('lkija->klija',X_val)\n",
    "X_val_reshape.shape"
   ]
  },
  {
   "cell_type": "code",
   "execution_count": 22,
   "metadata": {},
   "outputs": [
    {
     "name": "stdout",
     "output_type": "stream",
     "text": [
      "Epoch 1/10\n",
      "44/44 [==============================] - 187s 4s/step - loss: 3.3376 - val_loss: 0.1672\n",
      "Epoch 2/10\n",
      "44/44 [==============================] - 182s 4s/step - loss: 0.1635 - val_loss: 0.1479\n",
      "Epoch 3/10\n",
      "44/44 [==============================] - 179s 4s/step - loss: 0.1354 - val_loss: 0.1225\n",
      "Epoch 4/10\n",
      "44/44 [==============================] - 184s 4s/step - loss: 0.1134 - val_loss: 0.1084\n",
      "Epoch 5/10\n",
      "44/44 [==============================] - 179s 4s/step - loss: 0.1072 - val_loss: 0.1023\n",
      "Epoch 6/10\n",
      "44/44 [==============================] - 186s 4s/step - loss: 0.0901 - val_loss: 0.1003\n",
      "Epoch 7/10\n",
      "44/44 [==============================] - 196s 4s/step - loss: 0.0876 - val_loss: 0.1068\n",
      "Epoch 8/10\n",
      "44/44 [==============================] - 177s 4s/step - loss: 0.0850 - val_loss: 0.1060\n",
      "Epoch 9/10\n",
      "44/44 [==============================] - 196s 4s/step - loss: 0.0852 - val_loss: 0.0959\n",
      "Epoch 10/10\n",
      "44/44 [==============================] - 179s 4s/step - loss: 0.0778 - val_loss: 0.1010\n"
     ]
    },
    {
     "data": {
      "text/plain": [
       "[<matplotlib.lines.Line2D at 0x2b39c5c0fa30>]"
      ]
     },
     "execution_count": 22,
     "metadata": {},
     "output_type": "execute_result"
    },
    {
     "data": {
      "image/png": "[encoded data removed]",
      "text/plain": [
       "<Figure size 432x288 with 1 Axes>"
      ]
     },
     "metadata": {
      "needs_background": "light"
     },
     "output_type": "display_data"
    }
   ],
   "source": [
    "model = Sequential()\n",
    "\n",
    "model.add(Conv3D(filters=32, kernel_size=5, activation='relu',padding='same', input_shape=(X_trainf_reshape.shape[1],X_trainf_reshape.shape[2],X_trainf_reshape.shape[3],1)))\n",
    "#model.add(MaxPooling3D())\n",
    "\n",
    "model.add(Conv3D(filters=64, kernel_size=3, activation='relu',padding='same'))\n",
    "#model.add(MaxPooling3D())\n",
    "model.add(Conv3D(filters=128, kernel_size=3, activation='relu',padding='same'))\n",
    "\n",
    "model.add(Conv3D(filters=256, kernel_size=3, activation='relu',padding='same'))\n",
    "\n",
    "#model.add(Conv3D(filters=512, kernel_size=3, activation='relu',padding='same'))\n",
    "\n",
    "#model.add(Conv2D(filters=256, kernel_size=(3,3), activation='relu'))\n",
    "#model.add(Conv2D(filters=3, kernel_size=(1, 1), activation='relu'))\n",
    "#model.add(AveragePooling2D())\n",
    "\n",
    "model.add(Flatten())\n",
    "\n",
    "#model.add(Dense(units=120, activation='relu'))\n",
    "\n",
    "model.add(Dense(units=100, activation='relu'))\n",
    "model.add(Dense(units=1, activation = 'linear'))\n",
    "\n",
    "model.compile(optimizer='adam', loss='mae')\n",
    "\n",
    "history = model.fit(X_trainf_reshape, ytrainf, validation_data=(X_val_reshape, yval), epochs=10)\n",
    "yy_test = model.predict(X_test_reshape)\n",
    "\n",
    "test_corr = np.corrcoef(yy_test[:,0],y_test)[0,1]\n",
    "plt.title('corr = %f'%test_corr)\n",
    "\n",
    "plt.plot(yy_test,ytest,'+')"
   ]
  },
  {
   "cell_type": "code",
   "execution_count": null,
   "metadata": {},
   "outputs": [],
   "source": []
  }
 ],
 "metadata": {
  "kernelspec": {
   "display_name": "Python 3",
   "language": "python",
   "name": "python3"
  },
  "language_info": {
   "codemirror_mode": {
    "name": "ipython",
    "version": 3
   },
   "file_extension": ".py",
   "mimetype": "text/x-python",
   "name": "python",
   "nbconvert_exporter": "python",
   "pygments_lexer": "ipython3",
   "version": "3.8.5"
  }
 },
 "nbformat": 4,
 "nbformat_minor": 4
}
