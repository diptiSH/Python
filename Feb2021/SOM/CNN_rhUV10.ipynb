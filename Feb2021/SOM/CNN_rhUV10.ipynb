{
 "cells": [
  {
   "cell_type": "code",
   "execution_count": 1,
   "metadata": {},
   "outputs": [],
   "source": [
    "import xarray as xr\n",
    "import numpy as np\n",
    "import pandas as pd\n",
    "import datetime\n",
    "import matplotlib.pyplot as plt\n",
    "from keras.models import Sequential\n",
    "from keras.layers import Dense, Conv3D, Flatten,MaxPooling3D,AveragePooling3D, concatenate,Input\n",
    "\n",
    "from math import e\n",
    "from sklearn.model_selection import train_test_split\n",
    "from keras.models import Model"
   ]
  },
  {
   "cell_type": "code",
   "execution_count": 2,
   "metadata": {},
   "outputs": [],
   "source": [
    "fogData = xr.open_dataset('../../../Data/FogData/CombinedFogData_25Stations.nc')\n",
    "#plt.figure(figsize=[16,8])\n",
    "StackFog=fogData.fogdata.stack(a=('years','months','days'))\n",
    "StackFog\n",
    "dd =[];\n",
    "for i in range(StackFog.years.values.shape[0]):\n",
    "    dd=dd+[str(StackFog.years[i].values)+'-'+str(StackFog.months[i].values)+\"-\"+str(StackFog.days[i].values)]\n",
    "fg = xr.Dataset({'fogdata': (('time','stations'), StackFog.values.T)}, coords={'time': pd.to_datetime(dd),'stations': fogData.stations})\n",
    "y=fg.fogdata.sum(dim='stations').sel(time=slice('1980-1-1','2014-12-31'))\n",
    "y=y/25.0\n",
    "#y"
   ]
  },
  {
   "cell_type": "code",
   "execution_count": 3,
   "metadata": {},
   "outputs": [],
   "source": [
    "# Input Data\n",
    "t2mData = xr.open_dataset('../../../Data/eraDown/ERA5_2degree_Down/DailyMean/ERA5NH_t2m_daily_NovDecJan.nc')\n",
    "d2mData = xr.open_dataset('../../../Data/eraDown/ERA5_2degree_Down/DailyMean/ERA5NH_d2m_daily_NovDecJan.nc')\n",
    "u10Data = xr.open_dataset('../../../Data/eraDown/ERA5_2degree_Down/DailyMean/ERA5NH_u10_daily_NovDecJan.nc')\n",
    "v10Data = xr.open_dataset('../../../Data/eraDown/ERA5_2degree_Down/DailyMean/ERA5NH_v10_daily_NovDecJan.nc')"
   ]
  },
  {
   "cell_type": "code",
   "execution_count": 4,
   "metadata": {},
   "outputs": [],
   "source": [
    "rh = (e**((17.625*(d2mData.d2m.values-273.15))/(243.04+(d2mData.d2m.values-273.15)))/e**((17.625*(t2mData.t2m.values-273.15))/(243.04+(t2mData.t2m.values-273.15))))\n",
    "\n",
    "rh_ds = xr.Dataset({'rh': (('time','latitude','longitude'), rh)}, coords={'time': t2mData.time,'latitude': t2mData.latitude,'longitude': t2mData.longitude})\n"
   ]
  },
  {
   "cell_type": "code",
   "execution_count": 5,
   "metadata": {},
   "outputs": [],
   "source": [
    "t2m=t2mData.t2m.shift(time=1)\n",
    "rh=rh_ds.rh.shift(time=1)\n",
    "u10=u10Data.u10.shift(time=1)\n",
    "v10=v10Data.v10.shift(time=1)"
   ]
  },
  {
   "cell_type": "code",
   "execution_count": 15,
   "metadata": {},
   "outputs": [],
   "source": [
    "t2mTs=t2m[((t2m.time.dt.month>11) | (t2m.time.dt.month<2)) & (t2m.time.dt.year<2020)].sel(time=slice('1980-1-1','2014-12-31'),latitude=slice(50,0),longitude=slice(50,100))\n",
    "rhTs=rh[((rh.time.dt.month>11) | (rh.time.dt.month<2)) & (rh.time.dt.year<2020)].sel(time=slice('1980-1-1','2014-12-31'),latitude=slice(50,0),longitude=slice(50,100))\n",
    "u10Ts=u10[((u10.time.dt.month>11) | (u10.time.dt.month<2)) & (u10.time.dt.year<2020)].sel(time=slice('1980-1-1','2014-12-31'),latitude=slice(50,0),longitude=slice(50,100))\n",
    "v10Ts=u10[((v10.time.dt.month>11) | (v10.time.dt.month<2)) & (v10.time.dt.year<2020)].sel(time=slice('1980-1-1','2014-12-31'),latitude=slice(50,0),longitude=slice(50,100))"
   ]
  },
  {
   "cell_type": "code",
   "execution_count": null,
   "metadata": {},
   "outputs": [],
   "source": []
  },
  {
   "cell_type": "code",
   "execution_count": 16,
   "metadata": {},
   "outputs": [],
   "source": [
    "t2m_train, t2m_test, rh_train, rh_test,v10_train, v10_test,u10_train, u10_test,y_train,y_test = train_test_split( t2mTs, rhTs,v10Ts,u10Ts,y,test_size=0.20, random_state=0)"
   ]
  },
  {
   "cell_type": "code",
   "execution_count": 17,
   "metadata": {},
   "outputs": [
    {
     "data": {
      "text/plain": [
       "(1736, 26, 26, 1)"
      ]
     },
     "execution_count": 17,
     "metadata": {},
     "output_type": "execute_result"
    }
   ],
   "source": [
    "t2mtrain=t2m_train.values\n",
    "t2mtrain=t2mtrain[:,:,:,None]\n",
    "t2mtrain.shape\n",
    "rhtrain=rh_train.values\n",
    "rhtrain=rhtrain[:,:,:,None]\n",
    "rhtrain.shape\n",
    "\n",
    "u10train=u10_train.values\n",
    "u10train=u10train[:,:,:,None]\n",
    "u10train.shape\n",
    "\n",
    "v10train=v10_train.values\n",
    "v10train=v10train[:,:,:,None]\n",
    "v10train.shape"
   ]
  },
  {
   "cell_type": "code",
   "execution_count": null,
   "metadata": {},
   "outputs": [],
   "source": []
  },
  {
   "cell_type": "code",
   "execution_count": 18,
   "metadata": {},
   "outputs": [
    {
     "data": {
      "text/plain": [
       "(1736, 1)"
      ]
     },
     "execution_count": 18,
     "metadata": {},
     "output_type": "execute_result"
    }
   ],
   "source": [
    "ytrain=y_train.values\n",
    "ytrain=ytrain[:,None]\n",
    "ytrain.shape"
   ]
  },
  {
   "cell_type": "code",
   "execution_count": 19,
   "metadata": {},
   "outputs": [
    {
     "data": {
      "text/plain": [
       "(434, 26, 26, 1)"
      ]
     },
     "execution_count": 19,
     "metadata": {},
     "output_type": "execute_result"
    }
   ],
   "source": [
    "t2mtest=t2m_test.values\n",
    "t2mtest=t2mtest[:,:,:,None]\n",
    "t2mtest.shape\n",
    "rhtest=rh_test.values\n",
    "rhtest=rhtest[:,:,:,None]\n",
    "rhtest.shape\n",
    "u10test=u10_test.values\n",
    "u10test=u10test[:,:,:,None]\n",
    "u10test.shape\n",
    "\n",
    "v10test=v10_test.values\n",
    "v10test=v10test[:,:,:,None]\n",
    "v10test.shape"
   ]
  },
  {
   "cell_type": "code",
   "execution_count": 20,
   "metadata": {},
   "outputs": [
    {
     "data": {
      "text/plain": [
       "(3, 1736, 26, 26, 1)"
      ]
     },
     "execution_count": 20,
     "metadata": {},
     "output_type": "execute_result"
    }
   ],
   "source": [
    "X_test=np.array([rhtest,u10test,v10test])\n",
    "X_test.shape\n",
    "\n",
    "X_train=np.array([rhtrain,u10train,v10train])\n",
    "X_train.shape"
   ]
  },
  {
   "cell_type": "code",
   "execution_count": 21,
   "metadata": {},
   "outputs": [
    {
     "data": {
      "text/plain": [
       "(434, 3, 26, 26, 1)"
      ]
     },
     "execution_count": 21,
     "metadata": {},
     "output_type": "execute_result"
    }
   ],
   "source": [
    "#nifti = np.random.randint(0,5,size=(508,512,513)) \n",
    "# set the last dim to 513 just to make stuff more clear\n",
    "#nifti.shape\n",
    "# (508, 512, 513)\n",
    "\n",
    "X_train_reshape = np.einsum('lkija->klija',X_train)\n",
    "X_train_reshape.shape\n",
    "\n",
    "X_test_reshape = np.einsum('lkija->klija',X_test)\n",
    "X_test_reshape.shape\n"
   ]
  },
  {
   "cell_type": "code",
   "execution_count": 22,
   "metadata": {},
   "outputs": [
    {
     "data": {
      "text/plain": [
       "(434, 1)"
      ]
     },
     "execution_count": 22,
     "metadata": {},
     "output_type": "execute_result"
    }
   ],
   "source": [
    "ytest=y_test.values\n",
    "ytest=ytest[:,None]\n",
    "ytest.shape"
   ]
  },
  {
   "cell_type": "code",
   "execution_count": null,
   "metadata": {},
   "outputs": [
    {
     "name": "stdout",
     "output_type": "stream",
     "text": [
      "Epoch 1/20\n",
      "55/55 [==============================] - 35s 626ms/step - loss: 4.9637 - val_loss: 0.1713\n",
      "Epoch 2/20\n",
      "55/55 [==============================] - 34s 619ms/step - loss: 0.1656 - val_loss: 0.1600\n",
      "Epoch 3/20\n",
      "55/55 [==============================] - 34s 621ms/step - loss: 0.1574 - val_loss: 0.1435\n",
      "Epoch 4/20\n",
      "55/55 [==============================] - 35s 626ms/step - loss: 0.1416 - val_loss: 0.1431\n",
      "Epoch 5/20\n",
      "55/55 [==============================] - 31s 557ms/step - loss: 0.1327 - val_loss: 0.1311\n",
      "Epoch 6/20\n",
      "55/55 [==============================] - 31s 558ms/step - loss: 0.1196 - val_loss: 0.1235\n",
      "Epoch 7/20\n",
      "55/55 [==============================] - 34s 623ms/step - loss: 0.1092 - val_loss: 0.1177\n",
      "Epoch 8/20\n",
      "55/55 [==============================] - 43s 777ms/step - loss: 0.1042 - val_loss: 0.1216\n",
      "Epoch 9/20\n",
      "55/55 [==============================] - 39s 718ms/step - loss: 0.0965 - val_loss: 0.1177\n",
      "Epoch 10/20\n",
      "55/55 [==============================] - 35s 629ms/step - loss: 0.0890 - val_loss: 0.1227\n",
      "Epoch 11/20\n",
      "55/55 [==============================] - 44s 797ms/step - loss: 0.0868 - val_loss: 0.1140\n",
      "Epoch 12/20\n",
      "55/55 [==============================] - 43s 778ms/step - loss: 0.0791 - val_loss: 0.1173\n",
      "Epoch 13/20\n",
      "55/55 [==============================] - 43s 784ms/step - loss: 0.0766 - val_loss: 0.1202\n",
      "Epoch 14/20\n",
      "55/55 [==============================] - 43s 784ms/step - loss: 0.0740 - val_loss: 0.1166\n",
      "Epoch 15/20\n",
      "55/55 [==============================] - 42s 761ms/step - loss: 0.0717 - val_loss: 0.1208\n",
      "Epoch 16/20\n",
      "55/55 [==============================] - 35s 639ms/step - loss: 0.0684 - val_loss: 0.1152\n",
      "Epoch 17/20\n",
      "55/55 [==============================] - 36s 649ms/step - loss: 0.0637 - val_loss: 0.1270\n",
      "Epoch 18/20\n",
      "55/55 [==============================] - 36s 650ms/step - loss: 0.0739 - val_loss: 0.1125\n",
      "Epoch 19/20\n",
      "42/55 [=====================>........] - ETA: 8s - loss: 0.0593"
     ]
    }
   ],
   "source": [
    "model = Sequential()\n",
    "\n",
    "model.add(Conv3D(filters=32, kernel_size=3, activation='relu',padding='same', input_shape=(X_train_reshape.shape[1],X_train_reshape.shape[2],X_train_reshape.shape[3],1)))\n",
    "#model.add(MaxPooling2D())\n",
    "\n",
    "model.add(Conv3D(filters=64, kernel_size=3, activation='relu',padding='same'))\n",
    "#model.add(MaxPooling2D())\n",
    "model.add(Conv3D(filters=128, kernel_size=3, activation='relu',padding='same'))\n",
    "#model.add(Conv3D(filters=256, kernel_size=3, activation='relu'))\n",
    "#model.add(Conv2D(filters=3, kernel_size=(1, 1), activation='relu'))\n",
    "#model.add(AveragePooling2D())\n",
    "\n",
    "model.add(Flatten())\n",
    "\n",
    "#model.add(Dense(units=120, activation='relu'))\n",
    "\n",
    "model.add(Dense(units=100, activation='relu'))\n",
    "model.add(Dense(units=1, activation = 'linear'))\n",
    "\n",
    "model.compile(optimizer='adam', loss='mae')\n",
    "\n",
    "history = model.fit(X_train_reshape, ytrain, validation_data=(X_test_reshape, ytest), epochs=20)\n",
    "yy_test = model.predict(X_test_reshape)\n",
    "\n",
    "test_corr = np.corrcoef(yy_test[:,0],y_test)[0,1]\n",
    "plt.title('corr = %f'%test_corr)\n",
    "\n",
    "plt.plot(yy_test,ytest,'+')"
   ]
  },
  {
   "cell_type": "code",
   "execution_count": null,
   "metadata": {},
   "outputs": [],
   "source": []
  },
  {
   "cell_type": "code",
   "execution_count": null,
   "metadata": {},
   "outputs": [],
   "source": []
  }
 ],
 "metadata": {
  "kernelspec": {
   "display_name": "Python 3",
   "language": "python",
   "name": "python3"
  },
  "language_info": {
   "codemirror_mode": {
    "name": "ipython",
    "version": 3
   },
   "file_extension": ".py",
   "mimetype": "text/x-python",
   "name": "python",
   "nbconvert_exporter": "python",
   "pygments_lexer": "ipython3",
   "version": "3.8.5"
  }
 },
 "nbformat": 4,
 "nbformat_minor": 4
}
