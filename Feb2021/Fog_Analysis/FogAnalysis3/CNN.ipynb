{
 "cells": [
  {
   "cell_type": "code",
   "execution_count": 1,
   "metadata": {},
   "outputs": [],
   "source": [
    "import xarray as xr\n",
    "import numpy as np\n",
    "import pandas as pd\n",
    "import datetime\n",
    "import matplotlib.pyplot as plt\n",
    "from keras.models import Sequential\n",
    "from keras.layers import Dense, Conv3D, Flatten,MaxPooling3D,AveragePooling3D, concatenate,Input\n",
    "\n",
    "from math import e\n",
    "from sklearn.model_selection import train_test_split\n",
    "from keras.models import Model\n",
    "from sklearn.preprocessing import StandardScaler\n",
    "from joblib import dump, load"
   ]
  },
  {
   "cell_type": "code",
   "execution_count": 2,
   "metadata": {},
   "outputs": [],
   "source": [
    "fogData = xr.open_dataset('../../../../Data/FogData/CombinedFogData_25Stations.nc')\n",
    "#plt.figure(figsize=[16,8])\n",
    "StackFog=fogData.fogdata.stack(a=('years','months','days'))\n",
    "StackFog\n",
    "dd =[];\n",
    "for i in range(StackFog.years.values.shape[0]):\n",
    "    dd=dd+[str(StackFog.years[i].values)+'-'+str(StackFog.months[i].values)+\"-\"+str(StackFog.days[i].values)]\n",
    "fg = xr.Dataset({'fogdata': (('time','stations'), StackFog.values.T)}, coords={'time': pd.to_datetime(dd),'stations': fogData.stations})\n",
    "yAll=fg.fogdata.sum(dim='stations').sel(time=slice('1980-1-1','2018-12-31'))\n",
    "yAll=yAll/25.0\n",
    "#y"
   ]
  },
  {
   "cell_type": "code",
   "execution_count": 3,
   "metadata": {},
   "outputs": [],
   "source": [
    "# Input Data\n",
    "t2mData = xr.open_dataset('../../../../Data/eraDown/ERA5_2degree_Down/DailyMean/ERA5NH_t2m_daily_NovDecJan.nc')\n",
    "d2mData = xr.open_dataset('../../../../Data/eraDown/ERA5_2degree_Down/DailyMean/ERA5NH_d2m_daily_NovDecJan.nc')\n",
    "u10Data = xr.open_dataset('../../../../Data/eraDown/ERA5_2degree_Down/DailyMean/ERA5NH_u10_daily_NovDecJan.nc')\n",
    "v10Data = xr.open_dataset('../../../../Data/eraDown/ERA5_2degree_Down/DailyMean/ERA5NH_v10_daily_NovDecJan.nc')\n",
    "z500Data = xr.open_dataset('../../../../Data/eraDown/ERA5_2degree_Down/DailyMean/ERA5NH_500_z_daily_NovDecJan.nc')\n",
    "uvt850Data = xr.open_dataset('../../../../Data/eraDown/ERA5_2degree_Down/DailyMean/ERA5NH_850_uvt_daily_NovDecJan.nc')"
   ]
  },
  {
   "cell_type": "code",
   "execution_count": 4,
   "metadata": {},
   "outputs": [],
   "source": [
    "rh = (e**((17.625*(d2mData.d2m.values-273.15))/(243.04+(d2mData.d2m.values-273.15)))/e**((17.625*(t2mData.t2m.values-273.15))/(243.04+(t2mData.t2m.values-273.15))))\n",
    "\n",
    "rh_ds = xr.Dataset({'rh': (('time','latitude','longitude'), rh)}, coords={'time': t2mData.time,'latitude': t2mData.latitude,'longitude': t2mData.longitude})\n"
   ]
  },
  {
   "cell_type": "code",
   "execution_count": 5,
   "metadata": {},
   "outputs": [],
   "source": [
    "t2m=t2mData.t2m.shift(time=1)\n",
    "rh=rh_ds.rh.shift(time=1)\n",
    "u10=u10Data.u10.shift(time=1)\n",
    "v10=v10Data.v10.shift(time=1)\n",
    "z=z500Data.z.shift(time=1)\n",
    "t850=uvt850Data.t.shift(time=1)\n",
    "u850=uvt850Data.u.shift(time=1)\n",
    "v850=uvt850Data.v.shift(time=1)"
   ]
  },
  {
   "cell_type": "code",
   "execution_count": 6,
   "metadata": {},
   "outputs": [],
   "source": [
    "t2mTsAll=t2m[((t2m.time.dt.month>11) | (t2m.time.dt.month<2)) & (t2m.time.dt.year<2020)].sel(time=slice('1980-1-1','2018-12-31'),latitude=slice(35,0),longitude=slice(50,100))\n",
    "rhTsAll=rh[((rh.time.dt.month>11) | (rh.time.dt.month<2)) & (rh.time.dt.year<2020)].sel(time=slice('1980-1-1','2018-12-31'),latitude=slice(35,0),longitude=slice(50,100))\n",
    "u10TsAll=u10[((u10.time.dt.month>11) | (u10.time.dt.month<2)) & (u10.time.dt.year<2020)].sel(time=slice('1980-1-1','2018-12-31'),latitude=slice(35,0),longitude=slice(50,100))\n",
    "v10TsAll=u10[((v10.time.dt.month>11) | (v10.time.dt.month<2)) & (v10.time.dt.year<2020)].sel(time=slice('1980-1-1','2018-12-31'),latitude=slice(35,0),longitude=slice(50,100))\n",
    "zTsAll=z[((z.time.dt.month>11) | (z.time.dt.month<2)) & (z.time.dt.year<2020)].sel(time=slice('1980-1-1','2018-12-31'),latitude=slice(35,0),longitude=slice(50,100))\n",
    "t850TsAll=t850[((t850.time.dt.month>11) | (t850.time.dt.month<2)) & (t850.time.dt.year<2020)].sel(time=slice('1980-1-1','2018-12-31'),latitude=slice(35,0),longitude=slice(50,100))\n",
    "u850TsAll=u850[((u850.time.dt.month>11) | (u850.time.dt.month<2)) & (u850.time.dt.year<2020)].sel(time=slice('1980-1-1','2018-12-31'),latitude=slice(35,0),longitude=slice(50,100))\n",
    "v850TsAll=v850[((v850.time.dt.month>11) | (v850.time.dt.month<2)) & (v850.time.dt.year<2020)].sel(time=slice('1980-1-1','2018-12-31'),latitude=slice(35,0),longitude=slice(50,100))"
   ]
  },
  {
   "cell_type": "code",
   "execution_count": 7,
   "metadata": {},
   "outputs": [],
   "source": [
    "t1=t2mTsAll.stack(z=(\"latitude\", \"longitude\"))\n",
    "# fit scaler on training data\n",
    "norm = StandardScaler().fit(t1)\n",
    "# transform training data\n",
    "t1.values = norm.transform(t1)\n",
    "t2mTsAll.values=t1.unstack()\n",
    "\n",
    "t1=rhTsAll.stack(z=(\"latitude\", \"longitude\"))\n",
    "# fit scaler on training data\n",
    "norm = StandardScaler().fit(t1)\n",
    "# transform training data\n",
    "t1.values = norm.transform(t1)\n",
    "rhTsAll.values=t1.unstack()\n",
    "\n",
    "t1=u10TsAll.stack(z=(\"latitude\", \"longitude\"))\n",
    "# fit scaler on training data\n",
    "norm = StandardScaler().fit(t1)\n",
    "# transform training data\n",
    "t1.values = norm.transform(t1)\n",
    "u10TsAll.values=t1.unstack()\n",
    "\n",
    "t1=v10TsAll.stack(z=(\"latitude\", \"longitude\"))\n",
    "# fit scaler on training data\n",
    "norm = StandardScaler().fit(t1)\n",
    "# transform training data\n",
    "t1.values = norm.transform(t1)\n",
    "v10TsAll.values=t1.unstack()\n",
    "\n",
    "t1=zTsAll.stack(z=(\"latitude\", \"longitude\"))\n",
    "# fit scaler on training data\n",
    "norm = StandardScaler().fit(t1)\n",
    "# transform training data\n",
    "t1.values = norm.transform(t1)\n",
    "zTsAll.values=t1.unstack()\n",
    "\n",
    "\n",
    "t1=t850TsAll.stack(z=(\"latitude\", \"longitude\"))\n",
    "# fit scaler on training data\n",
    "norm = StandardScaler().fit(t1)\n",
    "# transform training data\n",
    "t1.values = norm.transform(t1)\n",
    "t850TsAll.values=t1.unstack()\n",
    "\n",
    "t1=u850TsAll.stack(z=(\"latitude\", \"longitude\"))\n",
    "# fit scaler on training data\n",
    "norm = StandardScaler().fit(t1)\n",
    "# transform training data\n",
    "t1.values = norm.transform(t1)\n",
    "u850TsAll.values=t1.unstack()\n",
    "\n",
    "t1=v850TsAll.stack(z=(\"latitude\", \"longitude\"))\n",
    "# fit scaler on training data\n",
    "norm = StandardScaler().fit(t1)\n",
    "# transform training data\n",
    "t1.values = norm.transform(t1)\n",
    "v850TsAll.values=t1.unstack()"
   ]
  },
  {
   "cell_type": "code",
   "execution_count": 8,
   "metadata": {},
   "outputs": [],
   "source": [
    "zTs=zTsAll.sel(time=slice('1984-1-1','2014-12-31'))\n",
    "               \n",
    "t2mTs=t2mTsAll.sel(time=slice('1984-1-1','2014-12-31'))\n",
    "t850Ts=t850TsAll.sel(time=slice('1984-1-1','2014-12-31'))\n",
    "u850Ts=u850TsAll.sel(time=slice('1984-1-1','2014-12-31'))\n",
    "v850Ts=v850TsAll.sel(time=slice('1984-1-1','2014-12-31'))\n",
    "rhTs=rhTsAll.sel(time=slice('1984-1-1','2014-12-31'))\n",
    "v10Ts=v10TsAll.sel(time=slice('1984-1-1','2014-12-31'))\n",
    "u10Ts=u10TsAll.sel(time=slice('1984-1-1','2014-12-31'))\n",
    "y=yAll.sel(time=slice('1984-1-1','2014-12-31'))"
   ]
  },
  {
   "cell_type": "code",
   "execution_count": 9,
   "metadata": {},
   "outputs": [],
   "source": [
    "z_train, z_test,t2m_train, t2m_test,t850_train, t850_test,u850_train, u850_test,v850_train, v850_test,   rh_train, rh_test,v10_train, v10_test,u10_train, u10_test,y_train,y_test = train_test_split( zTs,t2mTs,t850Ts,u850Ts,v850Ts, rhTs,v10Ts,u10Ts,y,test_size=0.20, random_state=0)"
   ]
  },
  {
   "cell_type": "code",
   "execution_count": 10,
   "metadata": {},
   "outputs": [],
   "source": [
    "z_trainf, z_val,t2m_trainf, t2m_val,t850_trainf, t850_val,u850_trainf, u850_val,v850_trainf, v850_val, rh_trainf, rh_val,v10_trainf, v10_val,u10_trainf, u10_val,y_trainf,y_val = train_test_split( z_train,t2m_train,t850_train,u850_train,v850_train, rh_train,v10_train,u10_train,y_train,test_size=0.20, random_state=0)"
   ]
  },
  {
   "cell_type": "code",
   "execution_count": 11,
   "metadata": {},
   "outputs": [
    {
     "data": {
      "text/plain": [
       "(1229, 18, 26, 1)"
      ]
     },
     "execution_count": 11,
     "metadata": {},
     "output_type": "execute_result"
    }
   ],
   "source": [
    "t2mtrainf=t2m_trainf.values\n",
    "t2mtrainf=t2mtrainf[:,:,:,None]\n",
    "t2mtrainf.shape\n",
    "\n",
    "t850trainf=t850_trainf.values\n",
    "t850trainf=t850trainf[:,:,:,None]\n",
    "t850trainf.shape\n",
    "\n",
    "\n",
    "u850trainf=u850_trainf.values\n",
    "u850trainf=u850trainf[:,:,:,None]\n",
    "u850trainf.shape\n",
    "\n",
    "\n",
    "v850trainf=v850_trainf.values\n",
    "v850trainf=v850trainf[:,:,:,None]\n",
    "v850trainf.shape\n",
    "\n",
    "rhtrainf=rh_trainf.values\n",
    "rhtrainf=rhtrainf[:,:,:,None]\n",
    "rhtrainf.shape\n",
    "\n",
    "ztrainf=z_trainf.values\n",
    "ztrainf=ztrainf[:,:,:,None]\n",
    "ztrainf.shape\n",
    "\n",
    "u10trainf=u10_trainf.values\n",
    "u10trainf=u10trainf[:,:,:,None]\n",
    "u10trainf.shape\n",
    "\n",
    "v10trainf=v10_trainf.values\n",
    "v10trainf=v10trainf[:,:,:,None]\n",
    "v10trainf.shape"
   ]
  },
  {
   "cell_type": "code",
   "execution_count": 12,
   "metadata": {},
   "outputs": [
    {
     "data": {
      "text/plain": [
       "(1229, 1)"
      ]
     },
     "execution_count": 12,
     "metadata": {},
     "output_type": "execute_result"
    }
   ],
   "source": [
    "ytrainf=y_trainf.values\n",
    "ytrainf=ytrainf[:,None]\n",
    "ytrainf.shape"
   ]
  },
  {
   "cell_type": "code",
   "execution_count": 13,
   "metadata": {},
   "outputs": [
    {
     "data": {
      "text/plain": [
       "(385, 18, 26, 1)"
      ]
     },
     "execution_count": 13,
     "metadata": {},
     "output_type": "execute_result"
    }
   ],
   "source": [
    "t2mtest=t2m_test.values\n",
    "t2mtest=t2mtest[:,:,:,None]\n",
    "t2mtest.shape\n",
    "\n",
    "t850test=t850_test.values\n",
    "t850test=t850test[:,:,:,None]\n",
    "t850test.shape\n",
    "\n",
    "u850test=u850_test.values\n",
    "u850test=u850test[:,:,:,None]\n",
    "u850test.shape\n",
    "\n",
    "\n",
    "v850test=v850_test.values\n",
    "v850test=v850test[:,:,:,None]\n",
    "v850test.shape\n",
    "\n",
    "\n",
    "rhtest=rh_test.values\n",
    "rhtest=rhtest[:,:,:,None]\n",
    "rhtest.shape\n",
    "u10test=u10_test.values\n",
    "u10test=u10test[:,:,:,None]\n",
    "u10test.shape\n",
    "ztest=z_test.values\n",
    "ztest=ztest[:,:,:,None]\n",
    "ztest.shape\n",
    "\n",
    "v10test=v10_test.values\n",
    "v10test=v10test[:,:,:,None]\n",
    "v10test.shape"
   ]
  },
  {
   "cell_type": "code",
   "execution_count": 14,
   "metadata": {},
   "outputs": [
    {
     "data": {
      "text/plain": [
       "(308, 18, 26, 1)"
      ]
     },
     "execution_count": 14,
     "metadata": {},
     "output_type": "execute_result"
    }
   ],
   "source": [
    "t2mval=t2m_val.values\n",
    "t2mval=t2mval[:,:,:,None]\n",
    "t2mval.shape\n",
    "rhval=rh_val.values\n",
    "rhval=rhval[:,:,:,None]\n",
    "rhval.shape\n",
    "u10val=u10_val.values\n",
    "u10val=u10val[:,:,:,None]\n",
    "u10val.shape\n",
    "zval=z_val.values\n",
    "zval=zval[:,:,:,None]\n",
    "zval.shape\n",
    "\n",
    "v10val=v10_val.values\n",
    "v10val=v10val[:,:,:,None]\n",
    "v10val.shape\n",
    "\n",
    "t850val=t850_val.values\n",
    "t850val=t850val[:,:,:,None]\n",
    "t850val.shape\n",
    "\n",
    "u850val=u850_val.values\n",
    "u850val=u850val[:,:,:,None]\n",
    "u850val.shape\n",
    "\n",
    "v850val=v850_val.values\n",
    "v850val=v850val[:,:,:,None]\n",
    "v850val.shape"
   ]
  },
  {
   "cell_type": "code",
   "execution_count": 15,
   "metadata": {},
   "outputs": [
    {
     "data": {
      "text/plain": [
       "(385, 1)"
      ]
     },
     "execution_count": 15,
     "metadata": {},
     "output_type": "execute_result"
    }
   ],
   "source": [
    "ytest=y_test.values\n",
    "ytest=ytest[:,None]\n",
    "ytest.shape"
   ]
  },
  {
   "cell_type": "code",
   "execution_count": 16,
   "metadata": {},
   "outputs": [
    {
     "data": {
      "text/plain": [
       "(308, 1)"
      ]
     },
     "execution_count": 16,
     "metadata": {},
     "output_type": "execute_result"
    }
   ],
   "source": [
    "yval=y_val.values\n",
    "yval=yval[:,None]\n",
    "yval.shape"
   ]
  },
  {
   "cell_type": "code",
   "execution_count": 17,
   "metadata": {},
   "outputs": [
    {
     "data": {
      "text/plain": [
       "(5, 308, 18, 26, 1)"
      ]
     },
     "execution_count": 17,
     "metadata": {},
     "output_type": "execute_result"
    }
   ],
   "source": [
    "X_test=np.array([ztest,rhtest,u10test,v10test,t2mtest])\n",
    "X_test.shape\n",
    "\n",
    "X_trainf=np.array([ztrainf,rhtrainf,u10trainf,v10trainf,t2mtrainf])\n",
    "X_trainf.shape\n",
    "\n",
    "X_val=np.array([zval,rhval,u10val,v10val,t2mval])\n",
    "X_val.shape"
   ]
  },
  {
   "cell_type": "code",
   "execution_count": 18,
   "metadata": {},
   "outputs": [
    {
     "data": {
      "text/plain": [
       "(308, 5, 18, 26, 1)"
      ]
     },
     "execution_count": 18,
     "metadata": {},
     "output_type": "execute_result"
    }
   ],
   "source": [
    "X_trainf_reshape = np.einsum('lkija->klija',X_trainf)\n",
    "X_trainf_reshape.shape\n",
    "\n",
    "X_test_reshape = np.einsum('lkija->klija',X_test)\n",
    "X_test_reshape.shape\n",
    "\n",
    "X_val_reshape = np.einsum('lkija->klija',X_val)\n",
    "X_val_reshape.shape"
   ]
  },
  {
   "cell_type": "code",
   "execution_count": 20,
   "metadata": {},
   "outputs": [
    {
     "name": "stdout",
     "output_type": "stream",
     "text": [
      "Epoch 1/10\n",
      "39/39 [==============================] - 13s 330ms/step - loss: 1.5003 - val_loss: 0.1777\n",
      "Epoch 2/10\n",
      "39/39 [==============================] - 13s 321ms/step - loss: 0.1734 - val_loss: 0.1600\n",
      "Epoch 3/10\n",
      "39/39 [==============================] - 12s 319ms/step - loss: 0.1710 - val_loss: 0.1320\n",
      "Epoch 4/10\n",
      "39/39 [==============================] - 12s 321ms/step - loss: 0.1373 - val_loss: 0.1215\n",
      "Epoch 5/10\n",
      "39/39 [==============================] - 12s 317ms/step - loss: 0.1229 - val_loss: 0.1063\n",
      "Epoch 6/10\n",
      "39/39 [==============================] - 13s 324ms/step - loss: 0.1078 - val_loss: 0.0982\n",
      "Epoch 7/10\n",
      "39/39 [==============================] - 12s 317ms/step - loss: 0.1012 - val_loss: 0.0981\n",
      "Epoch 8/10\n",
      "39/39 [==============================] - 12s 315ms/step - loss: 0.0902 - val_loss: 0.0949\n",
      "Epoch 9/10\n",
      "39/39 [==============================] - 12s 318ms/step - loss: 0.0952 - val_loss: 0.0938\n",
      "Epoch 10/10\n",
      "39/39 [==============================] - 13s 322ms/step - loss: 0.0858 - val_loss: 0.0908\n"
     ]
    },
    {
     "data": {
      "text/plain": [
       "[<matplotlib.lines.Line2D at 0x2b9b47b66220>]"
      ]
     },
     "execution_count": 20,
     "metadata": {},
     "output_type": "execute_result"
    },
    {
     "data": {
      "image/png": "[encoded data removed]",
      "text/plain": [
       "<Figure size 432x288 with 1 Axes>"
      ]
     },
     "metadata": {
      "needs_background": "light"
     },
     "output_type": "display_data"
    }
   ],
   "source": [
    "model = Sequential()\n",
    "\n",
    "model.add(Conv3D(filters=32, kernel_size=5, activation='relu',padding='same', input_shape=(X_trainf_reshape.shape[1],X_trainf_reshape.shape[2],X_trainf_reshape.shape[3],1)))\n",
    "model.add(MaxPooling3D())\n",
    "\n",
    "model.add(Conv3D(filters=64, kernel_size=3, activation='relu',padding='same'))\n",
    "#model.add(MaxPooling3D())\n",
    "model.add(Conv3D(filters=128, kernel_size=3, activation='relu',padding='same'))\n",
    "\n",
    "model.add(Conv3D(filters=256, kernel_size=3, activation='relu',padding='same'))\n",
    "\n",
    "#model.add(Conv3D(filters=512, kernel_size=3, activation='relu',padding='same'))\n",
    "\n",
    "#model.add(Conv2D(filters=256, kernel_size=(3,3), activation='relu'))\n",
    "#model.add(Conv2D(filters=3, kernel_size=(1, 1), activation='relu'))\n",
    "#model.add(AveragePooling2D())\n",
    "\n",
    "model.add(Flatten())\n",
    "\n",
    "#model.add(Dense(units=120, activation='relu'))\n",
    "\n",
    "model.add(Dense(units=100, activation='relu'))\n",
    "model.add(Dense(units=1, activation = 'linear'))\n",
    "\n",
    "model.compile(optimizer='adam', loss='mae')\n",
    "\n",
    "history = model.fit(X_trainf_reshape, ytrainf, validation_data=(X_val_reshape, yval), epochs=10)\n",
    "yy_test = model.predict(X_test_reshape)\n",
    "\n",
    "test_corr = np.corrcoef(yy_test[:,0],y_test)[0,1]\n",
    "plt.title('corr = %f'%test_corr)\n",
    "\n",
    "plt.plot(yy_test,ytest,'+')"
   ]
  },
  {
   "cell_type": "markdown",
   "metadata": {},
   "source": [
    "# Run model on all data together "
   ]
  },
  {
   "cell_type": "code",
   "execution_count": 21,
   "metadata": {},
   "outputs": [],
   "source": [
    "z_train, z_test,t2m_train, t2m_test,t850_train, t850_test,u850_train, u850_test,v850_train, v850_test,   rh_train, rh_test,v10_train, v10_test,u10_train, u10_test,y_train,y_test = train_test_split( zTs,t2mTs,t850Ts,u850Ts,v850Ts, rhTs,v10Ts,u10Ts,y,test_size=0.20, random_state=0)"
   ]
  },
  {
   "cell_type": "code",
   "execution_count": 23,
   "metadata": {},
   "outputs": [
    {
     "data": {
      "text/plain": [
       "(1537, 18, 26, 1)"
      ]
     },
     "execution_count": 23,
     "metadata": {},
     "output_type": "execute_result"
    }
   ],
   "source": [
    "t2mtrain=t2m_train.values\n",
    "t2mtrain=t2mtrain[:,:,:,None]\n",
    "t2mtrain.shape\n",
    "\n",
    "t850train=t850_train.values\n",
    "t850train=t850train[:,:,:,None]\n",
    "t850train.shape\n",
    "\n",
    "\n",
    "u850train=u850_train.values\n",
    "u850train=u850train[:,:,:,None]\n",
    "u850train.shape\n",
    "\n",
    "\n",
    "v850train=v850_train.values\n",
    "v850train=v850train[:,:,:,None]\n",
    "v850train.shape\n",
    "\n",
    "rhtrain=rh_train.values\n",
    "rhtrain=rhtrain[:,:,:,None]\n",
    "rhtrain.shape\n",
    "\n",
    "ztrain=z_train.values\n",
    "ztrain=ztrain[:,:,:,None]\n",
    "ztrain.shape\n",
    "\n",
    "u10train=u10_train.values\n",
    "u10train=u10train[:,:,:,None]\n",
    "u10train.shape\n",
    "\n",
    "v10train=v10_train.values\n",
    "v10train=v10train[:,:,:,None]\n",
    "v10train.shape"
   ]
  },
  {
   "cell_type": "code",
   "execution_count": 24,
   "metadata": {},
   "outputs": [
    {
     "data": {
      "text/plain": [
       "(385, 18, 26, 1)"
      ]
     },
     "execution_count": 24,
     "metadata": {},
     "output_type": "execute_result"
    }
   ],
   "source": [
    "t2mtest=t2m_test.values\n",
    "t2mtest=t2mtest[:,:,:,None]\n",
    "t2mtest.shape\n",
    "\n",
    "t850test=t850_test.values\n",
    "t850test=t850test[:,:,:,None]\n",
    "t850test.shape\n",
    "\n",
    "u850test=u850_test.values\n",
    "u850test=u850test[:,:,:,None]\n",
    "u850test.shape\n",
    "\n",
    "\n",
    "v850test=v850_test.values\n",
    "v850test=v850test[:,:,:,None]\n",
    "v850test.shape\n",
    "\n",
    "\n",
    "rhtest=rh_test.values\n",
    "rhtest=rhtest[:,:,:,None]\n",
    "rhtest.shape\n",
    "u10test=u10_test.values\n",
    "u10test=u10test[:,:,:,None]\n",
    "u10test.shape\n",
    "ztest=z_test.values\n",
    "ztest=ztest[:,:,:,None]\n",
    "ztest.shape\n",
    "\n",
    "v10test=v10_test.values\n",
    "v10test=v10test[:,:,:,None]\n",
    "v10test.shape"
   ]
  },
  {
   "cell_type": "code",
   "execution_count": 25,
   "metadata": {},
   "outputs": [
    {
     "data": {
      "text/plain": [
       "(385, 1)"
      ]
     },
     "execution_count": 25,
     "metadata": {},
     "output_type": "execute_result"
    }
   ],
   "source": [
    "ytrain=y_train.values\n",
    "ytrain=ytrain[:,None]\n",
    "ytrain.shape\n",
    "ytest=y_test.values\n",
    "ytest=ytest[:,None]\n",
    "ytest.shape"
   ]
  },
  {
   "cell_type": "code",
   "execution_count": 26,
   "metadata": {},
   "outputs": [
    {
     "data": {
      "text/plain": [
       "(5, 1537, 18, 26, 1)"
      ]
     },
     "execution_count": 26,
     "metadata": {},
     "output_type": "execute_result"
    }
   ],
   "source": [
    "X_test=np.array([ztest,rhtest,u10test,v10test,t2mtest])\n",
    "X_test.shape\n",
    "\n",
    "X_train=np.array([ztrain,rhtrain,u10train,v10train,t2mtrain])\n",
    "X_train.shape"
   ]
  },
  {
   "cell_type": "code",
   "execution_count": 80,
   "metadata": {},
   "outputs": [
    {
     "data": {
      "text/plain": [
       "(385, 5, 18, 26, 1)"
      ]
     },
     "execution_count": 80,
     "metadata": {},
     "output_type": "execute_result"
    }
   ],
   "source": [
    "X_train_reshape = np.einsum('lkija->klija',X_train)\n",
    "X_train_reshape.shape\n",
    "\n",
    "X_test_reshape = np.einsum('lkija->klija',X_test)\n",
    "X_test_reshape.shape"
   ]
  },
  {
   "cell_type": "code",
   "execution_count": null,
   "metadata": {},
   "outputs": [],
   "source": []
  },
  {
   "cell_type": "code",
   "execution_count": 237,
   "metadata": {},
   "outputs": [
    {
     "name": "stdout",
     "output_type": "stream",
     "text": [
      "Epoch 1/13\n",
      "49/49 [==============================] - 13s 251ms/step - loss: 0.2800 - val_loss: 0.1954\n",
      "Epoch 2/13\n",
      "49/49 [==============================] - 12s 249ms/step - loss: 0.1645 - val_loss: 0.1290\n",
      "Epoch 3/13\n",
      "49/49 [==============================] - 12s 249ms/step - loss: 0.1334 - val_loss: 0.1223\n",
      "Epoch 4/13\n",
      "49/49 [==============================] - 12s 248ms/step - loss: 0.1062 - val_loss: 0.1080\n",
      "Epoch 5/13\n",
      "49/49 [==============================] - 12s 251ms/step - loss: 0.0944 - val_loss: 0.1061\n",
      "Epoch 6/13\n",
      "49/49 [==============================] - 12s 252ms/step - loss: 0.0951 - val_loss: 0.1012\n",
      "Epoch 7/13\n",
      "49/49 [==============================] - 12s 249ms/step - loss: 0.0877 - val_loss: 0.1041\n",
      "Epoch 8/13\n",
      "49/49 [==============================] - 12s 252ms/step - loss: 0.0973 - val_loss: 0.1023\n",
      "Epoch 9/13\n",
      "49/49 [==============================] - 12s 249ms/step - loss: 0.0840 - val_loss: 0.0971\n",
      "Epoch 10/13\n",
      "49/49 [==============================] - 12s 250ms/step - loss: 0.0777 - val_loss: 0.0991\n",
      "Epoch 11/13\n",
      "49/49 [==============================] - 12s 251ms/step - loss: 0.0784 - val_loss: 0.0932\n",
      "Epoch 12/13\n",
      "49/49 [==============================] - 12s 251ms/step - loss: 0.0671 - val_loss: 0.0988\n",
      "Epoch 13/13\n",
      "49/49 [==============================] - 12s 246ms/step - loss: 0.0711 - val_loss: 0.1002\n"
     ]
    },
    {
     "data": {
      "text/plain": [
       "[<matplotlib.lines.Line2D at 0x2b9b495a01f0>]"
      ]
     },
     "execution_count": 237,
     "metadata": {},
     "output_type": "execute_result"
    },
    {
     "data": {
      "image/png": "[encoded data removed]",
      "text/plain": [
       "<Figure size 432x288 with 1 Axes>"
      ]
     },
     "metadata": {
      "needs_background": "light"
     },
     "output_type": "display_data"
    }
   ],
   "source": [
    "model = Sequential()\n",
    "\n",
    "model.add(Conv3D(filters=32, kernel_size=5, activation='relu',padding='same', input_shape=(X_train_reshape.shape[1],X_train_reshape.shape[2],X_train_reshape.shape[3],1)))\n",
    "model.add(MaxPooling3D())\n",
    "\n",
    "model.add(Conv3D(filters=64, kernel_size=3, activation='relu',padding='same'))\n",
    "model.add(MaxPooling3D())\n",
    "model.add(Conv3D(filters=128, kernel_size=3, activation='relu',padding='same'))\n",
    "\n",
    "model.add(Conv3D(filters=256, kernel_size=3, activation='relu',padding='same'))\n",
    "\n",
    "#model.add(Conv3D(filters=512, kernel_size=3, activation='relu',padding='same'))\n",
    "\n",
    "#model.add(Conv2D(filters=256, kernel_size=(3,3), activation='relu'))\n",
    "#model.add(Conv2D(filters=3, kernel_size=(1, 1), activation='relu'))\n",
    "#model.add(AveragePooling2D())\n",
    "\n",
    "model.add(Flatten())\n",
    "\n",
    "#model.add(Dense(units=120, activation='relu'))\n",
    "\n",
    "model.add(Dense(units=100, activation='relu'))\n",
    "model.add(Dense(units=1, activation = 'linear'))\n",
    "\n",
    "model.compile(optimizer='adam', loss='mae')\n",
    "\n",
    "history = model.fit(X_train_reshape, ytrain, validation_data=(X_test_reshape, ytest), epochs=13)\n",
    "yy_test = model.predict(X_test_reshape)\n",
    "\n",
    "test_corr = np.corrcoef(yy_test[:,0],y_test)[0,1]\n",
    "plt.title('corr = %f'%test_corr)\n",
    "\n",
    "plt.plot(yy_test,ytest,'+')"
   ]
  },
  {
   "cell_type": "code",
   "execution_count": 238,
   "metadata": {},
   "outputs": [
    {
     "data": {
      "text/plain": [
       "[<matplotlib.lines.Line2D at 0x2b9b49c45e20>]"
      ]
     },
     "execution_count": 238,
     "metadata": {},
     "output_type": "execute_result"
    },
    {
     "data": {
      "image/png": "[encoded data removed]",
      "text/plain": [
       "<Figure size 432x288 with 1 Axes>"
      ]
     },
     "metadata": {
      "needs_background": "light"
     },
     "output_type": "display_data"
    }
   ],
   "source": [
    "plt.plot(ytest,yy_test,'+')"
   ]
  },
  {
   "cell_type": "markdown",
   "metadata": {},
   "source": [
    "# Fog Statistics"
   ]
  },
  {
   "cell_type": "code",
   "execution_count": 239,
   "metadata": {},
   "outputs": [
    {
     "data": {
      "text/plain": [
       "(1922, 5, 18, 26, 1)"
      ]
     },
     "execution_count": 239,
     "metadata": {},
     "output_type": "execute_result"
    }
   ],
   "source": [
    "t2mAll=t2mTs.values\n",
    "t2mAll=t2mAll[:,:,:,None]\n",
    "t2mAll.shape\n",
    "\n",
    "t850All=t850Ts.values\n",
    "t850All=t850All[:,:,:,None]\n",
    "t850All.shape\n",
    "\n",
    "u850All=u850Ts.values\n",
    "u850All=u850All[:,:,:,None]\n",
    "u850All.shape\n",
    "\n",
    "\n",
    "v850All=v850Ts.values\n",
    "v850All=v850All[:,:,:,None]\n",
    "v850All.shape\n",
    "\n",
    "\n",
    "rhAll=rhTs.values\n",
    "rhAll=rhAll[:,:,:,None]\n",
    "rhAll.shape\n",
    "\n",
    "u10All=u10Ts.values\n",
    "u10All=u10All[:,:,:,None]\n",
    "u10All.shape\n",
    "\n",
    "\n",
    "zAll=zTs.values\n",
    "zAll=zAll[:,:,:,None]\n",
    "zAll.shape\n",
    "\n",
    "v10All=v10Ts.values\n",
    "v10All=v10All[:,:,:,None]\n",
    "v10All.shape\n",
    "\n",
    "X_All=np.array([zAll,rhAll,u10All,v10All,t2mAll])\n",
    "X_All.shape\n",
    "\n",
    "X_All_reshape = np.einsum('lkija->klija',X_All)\n",
    "X_All_reshape.shape"
   ]
  },
  {
   "cell_type": "code",
   "execution_count": 240,
   "metadata": {},
   "outputs": [],
   "source": [
    "yLR=model.predict(X_All_reshape)"
   ]
  },
  {
   "cell_type": "code",
   "execution_count": 241,
   "metadata": {},
   "outputs": [
    {
     "data": {
      "text/plain": [
       "array([0.2229932 , 0.27229527, 0.38349628, ..., 0.82079256, 0.7496825 ,\n",
       "       0.65618086], dtype=float32)"
      ]
     },
     "execution_count": 241,
     "metadata": {},
     "output_type": "execute_result"
    }
   ],
   "source": [
    "yLR[:,0]"
   ]
  },
  {
   "cell_type": "code",
   "execution_count": 242,
   "metadata": {},
   "outputs": [
    {
     "data": {
      "image/png": "[encoded data removed]",
      "text/plain": [
       "<Figure size 1080x360 with 1 Axes>"
      ]
     },
     "metadata": {
      "needs_background": "light"
     },
     "output_type": "display_data"
    }
   ],
   "source": [
    "y_predLin_ds=xr.Dataset({'yLR': (('time'), yLR[:,0])}, coords={'time': y.time})\n",
    "dump(y_predLin_ds.yLR,'TS1dataCNN.joblib')\n",
    "plt.figure(figsize=[15,5])\n",
    "y.resample(time='1Y').mean().plot(label='Obs')\n",
    "y_predLin_ds.resample(time='1Y').mean().yLR.plot(label='Pred_CNN')\n",
    "plt.ylim(0, 0.6)\n",
    "plt.legend()\n",
    "\n",
    "plt.savefig('../obs_yearly_CNN.jpeg',dpi=300)"
   ]
  },
  {
   "cell_type": "code",
   "execution_count": 243,
   "metadata": {},
   "outputs": [],
   "source": [
    "ynf=y.where(y==0, drop=True)\n",
    "ynf\n",
    "\n",
    "yLRnf=y_predLin_ds.where(y_predLin_ds.yLR<0.04,drop=True)\n",
    "\n",
    "yWd=y.where(y>0.44, drop=True)\n",
    "yWd\n",
    "\n",
    "yLRWd=y_predLin_ds.where(y_predLin_ds.yLR>0.44,drop=True)\n",
    "\n",
    "yint1=y.where(y>0,drop=True)\n",
    "yintf=yint1.where(yint1<0.48,drop=True)\n",
    "yintf\n",
    "\n",
    "yLRint1=y_predLin_ds.where(y_predLin_ds.yLR>0.039,drop=True)\n",
    "yLRintf=yLRint1.where(yLRint1<0.48,drop=True)"
   ]
  },
  {
   "cell_type": "code",
   "execution_count": 244,
   "metadata": {},
   "outputs": [
    {
     "data": {
      "image/png": "[encoded data removed]",
      "text/plain": [
       "<Figure size 432x288 with 2 Axes>"
      ]
     },
     "metadata": {},
     "output_type": "display_data"
    }
   ],
   "source": [
    "fig = plt.figure()\n",
    "ax = fig.add_axes([0,0,1,1])\n",
    "ax.axis('equal')\n",
    "pieLabs = ['No Fog', 'Intermediate Fog (1-11)', 'Widespread Fog (>11)']\n",
    "piedata = [ynf.shape[0],yintf.shape[0],yWd.shape[0]]\n",
    "ax.pie(piedata, labels = pieLabs,autopct='%1.2f%%')\n",
    "ax.set_title('Station Observation')\n",
    "\n",
    "ax1 = fig.add_axes([1,0,1,1])\n",
    "ax1.axis('equal')\n",
    "pieLabs = ['No Fog', 'Intermediate Fog (1-11)', 'Widespread Fog (>11)']\n",
    "piedata = [yLRnf.yLR.shape[0],yLRintf.yLR.shape[0],yLRWd.yLR.shape[0]]\n",
    "ax1.pie(piedata, labels = pieLabs,autopct='%1.2f%%')\n",
    "ax1.set_title('CNN')\n",
    "plt.show()"
   ]
  },
  {
   "cell_type": "code",
   "execution_count": 245,
   "metadata": {},
   "outputs": [
    {
     "data": {
      "text/plain": [
       "['pie1dataCNN.joblib']"
      ]
     },
     "execution_count": 245,
     "metadata": {},
     "output_type": "execute_result"
    }
   ],
   "source": [
    "pie1dataCNN= [yLRnf.yLR.shape[0],yLRintf.yLR.shape[0],yLRWd.yLR.shape[0]]\n",
    "dump(pie1dataCNN,'pie1dataCNN.joblib')"
   ]
  },
  {
   "cell_type": "code",
   "execution_count": 246,
   "metadata": {},
   "outputs": [],
   "source": [
    "noFogCounts=np.nan_to_num(ynf.resample(time='1Y').count(), copy=True, nan=0.0, posinf=None, neginf=None)\n",
    "interFogCounts=yintf.resample(time='1Y').count()\n",
    "wdFogCounts=yWd.resample(time='1Y').count()"
   ]
  },
  {
   "cell_type": "code",
   "execution_count": 247,
   "metadata": {},
   "outputs": [],
   "source": [
    "#noFogCountsLR=np.nan_to_num(yLRnf.resample(time='1Y').count(), copy=True, nan=0.0, posinf=None, neginf=None)\n",
    "noFogCountsLR=0\n",
    "interFogCountsLR=yLRintf.resample(time='1Y').count()\n",
    "wdFogCountsLR=np.nan_to_num(yLRWd.yLR.resample(time='1Y').count(), copy=True, nan=0.0, posinf=None, neginf=None)"
   ]
  },
  {
   "cell_type": "code",
   "execution_count": 248,
   "metadata": {},
   "outputs": [
    {
     "data": {
      "text/plain": [
       "Text(0.5, 1.0, 'CNN')"
      ]
     },
     "execution_count": 248,
     "metadata": {},
     "output_type": "execute_result"
    },
    {
     "data": {
      "image/png": "[encoded data removed]",
      "text/plain": [
       "<Figure size 432x288 with 2 Axes>"
      ]
     },
     "metadata": {
      "needs_background": "light"
     },
     "output_type": "display_data"
    }
   ],
   "source": [
    "data = [noFogCounts, interFogCounts, wdFogCounts]\n",
    "fig = plt.figure()\n",
    "ax = fig.add_axes([0,0,1,1])\n",
    "ax.boxplot(data)\n",
    "ax.set_title('Station Observation')\n",
    "\n",
    "dataLR = [noFogCountsLR, interFogCountsLR.yLR, wdFogCountsLR]\n",
    "ax1 = fig.add_axes([1,0,1,1])\n",
    "ax1.boxplot(dataLR)\n",
    "ax1.set_title('CNN')"
   ]
  },
  {
   "cell_type": "markdown",
   "metadata": {},
   "source": [
    "## test on 2015-2018 Data"
   ]
  },
  {
   "cell_type": "code",
   "execution_count": 249,
   "metadata": {},
   "outputs": [],
   "source": [
    "zTst1=zTsAll.sel(time=slice('2015-1-1','2018-12-31'))\n",
    "t2mTst1=t2mTsAll.sel(time=slice('2015-1-1','2018-12-31'))\n",
    "t850Tst1=t850TsAll.sel(time=slice('2015-1-1','2018-12-31'))\n",
    "u850Tst1=u850TsAll.sel(time=slice('2015-1-1','2018-12-31'))\n",
    "v850Tst1=v850TsAll.sel(time=slice('2015-1-1','2018-12-31'))\n",
    "rhTst1=rhTsAll.sel(time=slice('2015-1-1','2018-12-31'))\n",
    "v10Tst1=v10TsAll.sel(time=slice('2015-1-1','2018-12-31'))\n",
    "u10Tst1=u10TsAll.sel(time=slice('2015-1-1','2018-12-31'))\n",
    "yt1=yAll.sel(time=slice('2015-1-1','2018-12-31'))"
   ]
  },
  {
   "cell_type": "code",
   "execution_count": 250,
   "metadata": {},
   "outputs": [],
   "source": [
    "zTst2=zTsAll.sel(time=slice('1980-1-1','1983-12-31'))\n",
    "t2mTst2=t2mTsAll.sel(time=slice('1980-1-1','1983-12-31'))\n",
    "t850Tst2=t850TsAll.sel(time=slice('1980-1-1','1983-12-31'))\n",
    "u850Tst2=u850TsAll.sel(time=slice('1980-1-1','1983-12-31'))\n",
    "v850Tst2=v850TsAll.sel(time=slice('1980-1-1','1983-12-31'))\n",
    "rhTst2=rhTsAll.sel(time=slice('1980-1-1','1983-12-31'))\n",
    "v10Tst2=v10TsAll.sel(time=slice('1980-1-1','1983-12-31'))\n",
    "u10Tst2=u10TsAll.sel(time=slice('1980-1-1','1983-12-31'))\n",
    "yt2=yAll.sel(time=slice('1980-1-1','1983-12-31'))"
   ]
  },
  {
   "cell_type": "code",
   "execution_count": 251,
   "metadata": {},
   "outputs": [],
   "source": [
    "zTst = xr.concat([zTst2, zTst1 ], dim='time')\n",
    "t2mTst = xr.concat([t2mTst2, t2mTst1 ], dim='time')\n",
    "t850Tst = xr.concat([t850Tst2, t850Tst1 ], dim='time')\n",
    "\n",
    "u850Tst = xr.concat([u850Tst2, u850Tst1 ], dim='time')\n",
    "v850Tst = xr.concat([v850Tst2, v850Tst1 ], dim='time')\n",
    "rhTst = xr.concat([rhTst2, rhTst1 ], dim='time')\n",
    "v10Tst = xr.concat([v10Tst2, v10Tst1 ], dim='time')\n",
    "u10Tst = xr.concat([u10Tst2, u10Tst1 ], dim='time')\n",
    "yt = xr.concat([yt2, yt1 ], dim='time')"
   ]
  },
  {
   "cell_type": "code",
   "execution_count": 252,
   "metadata": {},
   "outputs": [
    {
     "data": {
      "text/plain": [
       "(496, 5, 18, 26, 1)"
      ]
     },
     "execution_count": 252,
     "metadata": {},
     "output_type": "execute_result"
    }
   ],
   "source": [
    "t2m_t=t2mTst.values\n",
    "t2m_t=t2m_t[:,:,:,None]\n",
    "t2m_t.shape\n",
    "\n",
    "t850_t=t850Tst.values\n",
    "t850_t=t850_t[:,:,:,None]\n",
    "t850_t.shape\n",
    "\n",
    "u850_t=u850Tst.values\n",
    "u850_t=u850_t[:,:,:,None]\n",
    "u850_t.shape\n",
    "\n",
    "\n",
    "v850_t=v850Tst.values\n",
    "v850_t=v850_t[:,:,:,None]\n",
    "v850_t.shape\n",
    "\n",
    "\n",
    "rh_t=rhTst.values\n",
    "rh_t=rh_t[:,:,:,None]\n",
    "rh_t.shape\n",
    "\n",
    "u10_t=u10Tst.values\n",
    "u10_t=u10_t[:,:,:,None]\n",
    "u10_t.shape\n",
    "\n",
    "\n",
    "z_t=zTst.values\n",
    "z_t=z_t[:,:,:,None]\n",
    "z_t.shape\n",
    "\n",
    "v10_t=v10Tst.values\n",
    "v10_t=v10_t[:,:,:,None]\n",
    "v10_t.shape\n",
    "\n",
    "X_t=np.array([z_t,rh_t,u10_t,v10_t,t2m_t])\n",
    "X_t.shape\n",
    "\n",
    "X_t_reshape = np.einsum('lkija->klija',X_t)\n",
    "X_t_reshape.shape"
   ]
  },
  {
   "cell_type": "code",
   "execution_count": 253,
   "metadata": {},
   "outputs": [],
   "source": [
    "yLRt=model.predict(X_t_reshape)"
   ]
  },
  {
   "cell_type": "code",
   "execution_count": 254,
   "metadata": {},
   "outputs": [
    {
     "data": {
      "text/plain": [
       "[<matplotlib.lines.Line2D at 0x2b9b4a143be0>]"
      ]
     },
     "execution_count": 254,
     "metadata": {},
     "output_type": "execute_result"
    },
    {
     "data": {
      "image/png": "[encoded data removed]",
      "text/plain": [
       "<Figure size 432x288 with 1 Axes>"
      ]
     },
     "metadata": {
      "needs_background": "light"
     },
     "output_type": "display_data"
    }
   ],
   "source": [
    "testcorr = np.corrcoef(yLRt[:,0],yt)[0,1]\n",
    "\n",
    "#acc_svr       = round(regLin.score(Xt, yt) * 100, 2)\n",
    "\n",
    "#print(\"Accuracy of base Linear Regression model is ,\",(acc_svr/100)**0.5)\n",
    "\n",
    "plt.title(' CNN corr = %f'%testcorr)\n",
    "\n",
    "plt.plot(yt,yLRt[:,0],'+')\n",
    "\n"
   ]
  },
  {
   "cell_type": "code",
   "execution_count": 255,
   "metadata": {},
   "outputs": [
    {
     "data": {
      "text/plain": [
       "['TS2dataCNN.joblib']"
      ]
     },
     "execution_count": 255,
     "metadata": {},
     "output_type": "execute_result"
    }
   ],
   "source": [
    "dump(yLRt[:,0],'TS2dataCNN.joblib')"
   ]
  },
  {
   "cell_type": "code",
   "execution_count": 256,
   "metadata": {},
   "outputs": [
    {
     "data": {
      "image/png": "[encoded data removed]",
      "text/plain": [
       "<Figure size 1080x360 with 1 Axes>"
      ]
     },
     "metadata": {
      "needs_background": "light"
     },
     "output_type": "display_data"
    }
   ],
   "source": [
    "y_predLin_dst=xr.Dataset({'yLRt': (('time'), yLRt[:,0])}, coords={'time': yt.time})\n",
    "dump(y_predLin_dst.yLRt,'TS2dataCNN.joblib')\n",
    "plt.figure(figsize=[15,5])\n",
    "yt.resample(time='1Y').mean().plot(label='Obs')\n",
    "y_predLin_dst.resample(time='1Y').mean().yLRt.plot(label='Pred_CNN')\n",
    "plt.ylim(0, 0.6)\n",
    "plt.legend()\n",
    "\n",
    "plt.savefig('../obs_yearly_CNN_2015-2018.jpeg',dpi=300)"
   ]
  },
  {
   "cell_type": "code",
   "execution_count": 257,
   "metadata": {},
   "outputs": [
    {
     "data": {
      "text/html": [
       "<div><svg style=\"position: absolute; width: 0; height: 0; overflow: hidden\">\n",
       "<defs>\n",
       "<symbol id=\"icon-database\" viewBox=\"0 0 32 32\">\n",
       "<path d=\"M16 0c-8.837 0-16 2.239-16 5v4c0 2.761 7.163 5 16 5s16-2.239 16-5v-4c0-2.761-7.163-5-16-5z\"></path>\n",
       "<path d=\"M16 17c-8.837 0-16-2.239-16-5v6c0 2.761 7.163 5 16 5s16-2.239 16-5v-6c0 2.761-7.163 5-16 5z\"></path>\n",
       "<path d=\"M16 26c-8.837 0-16-2.239-16-5v6c0 2.761 7.163 5 16 5s16-2.239 16-5v-6c0 2.761-7.163 5-16 5z\"></path>\n",
       "</symbol>\n",
       "<symbol id=\"icon-file-text2\" viewBox=\"0 0 32 32\">\n",
       "<path d=\"M28.681 7.159c-0.694-0.947-1.662-2.053-2.724-3.116s-2.169-2.030-3.116-2.724c-1.612-1.182-2.393-1.319-2.841-1.319h-15.5c-1.378 0-2.5 1.121-2.5 2.5v27c0 1.378 1.122 2.5 2.5 2.5h23c1.378 0 2.5-1.122 2.5-2.5v-19.5c0-0.448-0.137-1.23-1.319-2.841zM24.543 5.457c0.959 0.959 1.712 1.825 2.268 2.543h-4.811v-4.811c0.718 0.556 1.584 1.309 2.543 2.268zM28 29.5c0 0.271-0.229 0.5-0.5 0.5h-23c-0.271 0-0.5-0.229-0.5-0.5v-27c0-0.271 0.229-0.5 0.5-0.5 0 0 15.499-0 15.5 0v7c0 0.552 0.448 1 1 1h7v19.5z\"></path>\n",
       "<path d=\"M23 26h-14c-0.552 0-1-0.448-1-1s0.448-1 1-1h14c0.552 0 1 0.448 1 1s-0.448 1-1 1z\"></path>\n",
       "<path d=\"M23 22h-14c-0.552 0-1-0.448-1-1s0.448-1 1-1h14c0.552 0 1 0.448 1 1s-0.448 1-1 1z\"></path>\n",
       "<path d=\"M23 18h-14c-0.552 0-1-0.448-1-1s0.448-1 1-1h14c0.552 0 1 0.448 1 1s-0.448 1-1 1z\"></path>\n",
       "</symbol>\n",
       "</defs>\n",
       "</svg>\n",
       "<style>/* CSS stylesheet for displaying xarray objects in jupyterlab.\n",
       " *\n",
       " */\n",
       "\n",
       ":root {\n",
       "  --xr-font-color0: var(--jp-content-font-color0, rgba(0, 0, 0, 1));\n",
       "  --xr-font-color2: var(--jp-content-font-color2, rgba(0, 0, 0, 0.54));\n",
       "  --xr-font-color3: var(--jp-content-font-color3, rgba(0, 0, 0, 0.38));\n",
       "  --xr-border-color: var(--jp-border-color2, #e0e0e0);\n",
       "  --xr-disabled-color: var(--jp-layout-color3, #bdbdbd);\n",
       "  --xr-background-color: var(--jp-layout-color0, white);\n",
       "  --xr-background-color-row-even: var(--jp-layout-color1, white);\n",
       "  --xr-background-color-row-odd: var(--jp-layout-color2, #eeeeee);\n",
       "}\n",
       "\n",
       "html[theme=dark],\n",
       "body.vscode-dark {\n",
       "  --xr-font-color0: rgba(255, 255, 255, 1);\n",
       "  --xr-font-color2: rgba(255, 255, 255, 0.54);\n",
       "  --xr-font-color3: rgba(255, 255, 255, 0.38);\n",
       "  --xr-border-color: #1F1F1F;\n",
       "  --xr-disabled-color: #515151;\n",
       "  --xr-background-color: #111111;\n",
       "  --xr-background-color-row-even: #111111;\n",
       "  --xr-background-color-row-odd: #313131;\n",
       "}\n",
       "\n",
       ".xr-wrap {\n",
       "  display: block;\n",
       "  min-width: 300px;\n",
       "  max-width: 700px;\n",
       "}\n",
       "\n",
       ".xr-text-repr-fallback {\n",
       "  /* fallback to plain text repr when CSS is not injected (untrusted notebook) */\n",
       "  display: none;\n",
       "}\n",
       "\n",
       ".xr-header {\n",
       "  padding-top: 6px;\n",
       "  padding-bottom: 6px;\n",
       "  margin-bottom: 4px;\n",
       "  border-bottom: solid 1px var(--xr-border-color);\n",
       "}\n",
       "\n",
       ".xr-header > div,\n",
       ".xr-header > ul {\n",
       "  display: inline;\n",
       "  margin-top: 0;\n",
       "  margin-bottom: 0;\n",
       "}\n",
       "\n",
       ".xr-obj-type,\n",
       ".xr-array-name {\n",
       "  margin-left: 2px;\n",
       "  margin-right: 10px;\n",
       "}\n",
       "\n",
       ".xr-obj-type {\n",
       "  color: var(--xr-font-color2);\n",
       "}\n",
       "\n",
       ".xr-sections {\n",
       "  padding-left: 0 !important;\n",
       "  display: grid;\n",
       "  grid-template-columns: 150px auto auto 1fr 20px 20px;\n",
       "}\n",
       "\n",
       ".xr-section-item {\n",
       "  display: contents;\n",
       "}\n",
       "\n",
       ".xr-section-item input {\n",
       "  display: none;\n",
       "}\n",
       "\n",
       ".xr-section-item input + label {\n",
       "  color: var(--xr-disabled-color);\n",
       "}\n",
       "\n",
       ".xr-section-item input:enabled + label {\n",
       "  cursor: pointer;\n",
       "  color: var(--xr-font-color2);\n",
       "}\n",
       "\n",
       ".xr-section-item input:enabled + label:hover {\n",
       "  color: var(--xr-font-color0);\n",
       "}\n",
       "\n",
       ".xr-section-summary {\n",
       "  grid-column: 1;\n",
       "  color: var(--xr-font-color2);\n",
       "  font-weight: 500;\n",
       "}\n",
       "\n",
       ".xr-section-summary > span {\n",
       "  display: inline-block;\n",
       "  padding-left: 0.5em;\n",
       "}\n",
       "\n",
       ".xr-section-summary-in:disabled + label {\n",
       "  color: var(--xr-font-color2);\n",
       "}\n",
       "\n",
       ".xr-section-summary-in + label:before {\n",
       "  display: inline-block;\n",
       "  content: '►';\n",
       "  font-size: 11px;\n",
       "  width: 15px;\n",
       "  text-align: center;\n",
       "}\n",
       "\n",
       ".xr-section-summary-in:disabled + label:before {\n",
       "  color: var(--xr-disabled-color);\n",
       "}\n",
       "\n",
       ".xr-section-summary-in:checked + label:before {\n",
       "  content: '▼';\n",
       "}\n",
       "\n",
       ".xr-section-summary-in:checked + label > span {\n",
       "  display: none;\n",
       "}\n",
       "\n",
       ".xr-section-summary,\n",
       ".xr-section-inline-details {\n",
       "  padding-top: 4px;\n",
       "  padding-bottom: 4px;\n",
       "}\n",
       "\n",
       ".xr-section-inline-details {\n",
       "  grid-column: 2 / -1;\n",
       "}\n",
       "\n",
       ".xr-section-details {\n",
       "  display: none;\n",
       "  grid-column: 1 / -1;\n",
       "  margin-bottom: 5px;\n",
       "}\n",
       "\n",
       ".xr-section-summary-in:checked ~ .xr-section-details {\n",
       "  display: contents;\n",
       "}\n",
       "\n",
       ".xr-array-wrap {\n",
       "  grid-column: 1 / -1;\n",
       "  display: grid;\n",
       "  grid-template-columns: 20px auto;\n",
       "}\n",
       "\n",
       ".xr-array-wrap > label {\n",
       "  grid-column: 1;\n",
       "  vertical-align: top;\n",
       "}\n",
       "\n",
       ".xr-preview {\n",
       "  color: var(--xr-font-color3);\n",
       "}\n",
       "\n",
       ".xr-array-preview,\n",
       ".xr-array-data {\n",
       "  padding: 0 5px !important;\n",
       "  grid-column: 2;\n",
       "}\n",
       "\n",
       ".xr-array-data,\n",
       ".xr-array-in:checked ~ .xr-array-preview {\n",
       "  display: none;\n",
       "}\n",
       "\n",
       ".xr-array-in:checked ~ .xr-array-data,\n",
       ".xr-array-preview {\n",
       "  display: inline-block;\n",
       "}\n",
       "\n",
       ".xr-dim-list {\n",
       "  display: inline-block !important;\n",
       "  list-style: none;\n",
       "  padding: 0 !important;\n",
       "  margin: 0;\n",
       "}\n",
       "\n",
       ".xr-dim-list li {\n",
       "  display: inline-block;\n",
       "  padding: 0;\n",
       "  margin: 0;\n",
       "}\n",
       "\n",
       ".xr-dim-list:before {\n",
       "  content: '(';\n",
       "}\n",
       "\n",
       ".xr-dim-list:after {\n",
       "  content: ')';\n",
       "}\n",
       "\n",
       ".xr-dim-list li:not(:last-child):after {\n",
       "  content: ',';\n",
       "  padding-right: 5px;\n",
       "}\n",
       "\n",
       ".xr-has-index {\n",
       "  font-weight: bold;\n",
       "}\n",
       "\n",
       ".xr-var-list,\n",
       ".xr-var-item {\n",
       "  display: contents;\n",
       "}\n",
       "\n",
       ".xr-var-item > div,\n",
       ".xr-var-item label,\n",
       ".xr-var-item > .xr-var-name span {\n",
       "  background-color: var(--xr-background-color-row-even);\n",
       "  margin-bottom: 0;\n",
       "}\n",
       "\n",
       ".xr-var-item > .xr-var-name:hover span {\n",
       "  padding-right: 5px;\n",
       "}\n",
       "\n",
       ".xr-var-list > li:nth-child(odd) > div,\n",
       ".xr-var-list > li:nth-child(odd) > label,\n",
       ".xr-var-list > li:nth-child(odd) > .xr-var-name span {\n",
       "  background-color: var(--xr-background-color-row-odd);\n",
       "}\n",
       "\n",
       ".xr-var-name {\n",
       "  grid-column: 1;\n",
       "}\n",
       "\n",
       ".xr-var-dims {\n",
       "  grid-column: 2;\n",
       "}\n",
       "\n",
       ".xr-var-dtype {\n",
       "  grid-column: 3;\n",
       "  text-align: right;\n",
       "  color: var(--xr-font-color2);\n",
       "}\n",
       "\n",
       ".xr-var-preview {\n",
       "  grid-column: 4;\n",
       "}\n",
       "\n",
       ".xr-var-name,\n",
       ".xr-var-dims,\n",
       ".xr-var-dtype,\n",
       ".xr-preview,\n",
       ".xr-attrs dt {\n",
       "  white-space: nowrap;\n",
       "  overflow: hidden;\n",
       "  text-overflow: ellipsis;\n",
       "  padding-right: 10px;\n",
       "}\n",
       "\n",
       ".xr-var-name:hover,\n",
       ".xr-var-dims:hover,\n",
       ".xr-var-dtype:hover,\n",
       ".xr-attrs dt:hover {\n",
       "  overflow: visible;\n",
       "  width: auto;\n",
       "  z-index: 1;\n",
       "}\n",
       "\n",
       ".xr-var-attrs,\n",
       ".xr-var-data {\n",
       "  display: none;\n",
       "  background-color: var(--xr-background-color) !important;\n",
       "  padding-bottom: 5px !important;\n",
       "}\n",
       "\n",
       ".xr-var-attrs-in:checked ~ .xr-var-attrs,\n",
       ".xr-var-data-in:checked ~ .xr-var-data {\n",
       "  display: block;\n",
       "}\n",
       "\n",
       ".xr-var-data > table {\n",
       "  float: right;\n",
       "}\n",
       "\n",
       ".xr-var-name span,\n",
       ".xr-var-data,\n",
       ".xr-attrs {\n",
       "  padding-left: 25px !important;\n",
       "}\n",
       "\n",
       ".xr-attrs,\n",
       ".xr-var-attrs,\n",
       ".xr-var-data {\n",
       "  grid-column: 1 / -1;\n",
       "}\n",
       "\n",
       "dl.xr-attrs {\n",
       "  padding: 0;\n",
       "  margin: 0;\n",
       "  display: grid;\n",
       "  grid-template-columns: 125px auto;\n",
       "}\n",
       "\n",
       ".xr-attrs dt,\n",
       ".xr-attrs dd {\n",
       "  padding: 0;\n",
       "  margin: 0;\n",
       "  float: left;\n",
       "  padding-right: 10px;\n",
       "  width: auto;\n",
       "}\n",
       "\n",
       ".xr-attrs dt {\n",
       "  font-weight: normal;\n",
       "  grid-column: 1;\n",
       "}\n",
       "\n",
       ".xr-attrs dt:hover span {\n",
       "  display: inline-block;\n",
       "  background: var(--xr-background-color);\n",
       "  padding-right: 10px;\n",
       "}\n",
       "\n",
       ".xr-attrs dd {\n",
       "  grid-column: 2;\n",
       "  white-space: pre-wrap;\n",
       "  word-break: break-all;\n",
       "}\n",
       "\n",
       ".xr-icon-database,\n",
       ".xr-icon-file-text2 {\n",
       "  display: inline-block;\n",
       "  vertical-align: middle;\n",
       "  width: 1em;\n",
       "  height: 1.5em !important;\n",
       "  stroke-width: 0;\n",
       "  stroke: currentColor;\n",
       "  fill: currentColor;\n",
       "}\n",
       "</style><pre class='xr-text-repr-fallback'>&lt;xarray.Dataset&gt;\n",
       "Dimensions:  (time: 389)\n",
       "Coordinates:\n",
       "  * time     (time) datetime64[ns] 1980-01-01 1980-01-02 ... 2018-12-31\n",
       "Data variables:\n",
       "    yLRt     (time) float32 0.3136 0.294 0.2933 0.3415 ... 0.1644 0.1017 0.1003</pre><div class='xr-wrap' hidden><div class='xr-header'><div class='xr-obj-type'>xarray.Dataset</div></div><ul class='xr-sections'><li class='xr-section-item'><input id='section-5842a182-edd8-42d6-b898-5847ca9172b4' class='xr-section-summary-in' type='checkbox' disabled ><label for='section-5842a182-edd8-42d6-b898-5847ca9172b4' class='xr-section-summary'  title='Expand/collapse section'>Dimensions:</label><div class='xr-section-inline-details'><ul class='xr-dim-list'><li><span class='xr-has-index'>time</span>: 389</li></ul></div><div class='xr-section-details'></div></li><li class='xr-section-item'><input id='section-b5737414-5071-444a-be41-857fe5352067' class='xr-section-summary-in' type='checkbox'  checked><label for='section-b5737414-5071-444a-be41-857fe5352067' class='xr-section-summary' >Coordinates: <span>(1)</span></label><div class='xr-section-inline-details'></div><div class='xr-section-details'><ul class='xr-var-list'><li class='xr-var-item'><div class='xr-var-name'><span class='xr-has-index'>time</span></div><div class='xr-var-dims'>(time)</div><div class='xr-var-dtype'>datetime64[ns]</div><div class='xr-var-preview xr-preview'>1980-01-01 ... 2018-12-31</div><input id='attrs-7dce048b-83e3-4b70-9c9f-1a3c75b04099' class='xr-var-attrs-in' type='checkbox' disabled><label for='attrs-7dce048b-83e3-4b70-9c9f-1a3c75b04099' title='Show/Hide attributes'><svg class='icon xr-icon-file-text2'><use xlink:href='#icon-file-text2'></use></svg></label><input id='data-85d739cb-69b6-405b-84ce-193445655da0' class='xr-var-data-in' type='checkbox'><label for='data-85d739cb-69b6-405b-84ce-193445655da0' title='Show/Hide data repr'><svg class='icon xr-icon-database'><use xlink:href='#icon-database'></use></svg></label><div class='xr-var-attrs'><dl class='xr-attrs'></dl></div><div class='xr-var-data'><pre>array([&#x27;1980-01-01T00:00:00.000000000&#x27;, &#x27;1980-01-02T00:00:00.000000000&#x27;,\n",
       "       &#x27;1980-01-03T00:00:00.000000000&#x27;, ..., &#x27;2018-12-29T00:00:00.000000000&#x27;,\n",
       "       &#x27;2018-12-30T00:00:00.000000000&#x27;, &#x27;2018-12-31T00:00:00.000000000&#x27;],\n",
       "      dtype=&#x27;datetime64[ns]&#x27;)</pre></div></li></ul></div></li><li class='xr-section-item'><input id='section-306c2af6-9bde-4b91-ac6b-2d7f05a582b9' class='xr-section-summary-in' type='checkbox'  checked><label for='section-306c2af6-9bde-4b91-ac6b-2d7f05a582b9' class='xr-section-summary' >Data variables: <span>(1)</span></label><div class='xr-section-inline-details'></div><div class='xr-section-details'><ul class='xr-var-list'><li class='xr-var-item'><div class='xr-var-name'><span>yLRt</span></div><div class='xr-var-dims'>(time)</div><div class='xr-var-dtype'>float32</div><div class='xr-var-preview xr-preview'>0.3136 0.294 ... 0.1017 0.1003</div><input id='attrs-39b4b08d-861e-46d4-990f-f3483e964886' class='xr-var-attrs-in' type='checkbox' disabled><label for='attrs-39b4b08d-861e-46d4-990f-f3483e964886' title='Show/Hide attributes'><svg class='icon xr-icon-file-text2'><use xlink:href='#icon-file-text2'></use></svg></label><input id='data-f81e1564-b8c1-43e5-8c64-f1fbf1c678b9' class='xr-var-data-in' type='checkbox'><label for='data-f81e1564-b8c1-43e5-8c64-f1fbf1c678b9' title='Show/Hide data repr'><svg class='icon xr-icon-database'><use xlink:href='#icon-database'></use></svg></label><div class='xr-var-attrs'><dl class='xr-attrs'></dl></div><div class='xr-var-data'><pre>array([0.31362793, 0.2939621 , 0.2932743 , 0.34149253, 0.41999307,\n",
       "       0.28327188, 0.18864655, 0.14875814, 0.1584679 , 0.07768358,\n",
       "       0.09649616, 0.11856744, 0.10589046, 0.04519713, 0.05415812,\n",
       "       0.1134926 , 0.21131137, 0.12630004, 0.24007359, 0.17596865,\n",
       "       0.124096  , 0.10268683, 0.07863467, 0.05035203, 0.09384228,\n",
       "       0.36588413, 0.26097068, 0.24041516, 0.05913349, 0.05014187,\n",
       "       0.14630048, 0.12516755, 0.17324573, 0.09471632, 0.07586586,\n",
       "       0.05579846, 0.0643336 , 0.08348273, 0.08677871, 0.06730971,\n",
       "       0.11890069, 0.07828972, 0.05147973, 0.16817048, 0.18242794,\n",
       "       0.16477522, 0.0526658 , 0.14641948, 0.18830663, 0.2296609 ,\n",
       "       0.12325398, 0.19933641, 0.21802592, 0.3547193 , 0.47828308,\n",
       "       0.45105538, 0.40193355, 0.3509771 , 0.26273054, 0.2969676 ,\n",
       "       0.27286753, 0.28381184, 0.4646261 , 0.36859643, 0.34792447,\n",
       "       0.3539038 , 0.24856716, 0.33181038, 0.3098697 , 0.16205838,\n",
       "       0.3152173 , 0.42216644, 0.42445463, 0.43651992, 0.33335334,\n",
       "       0.38090813, 0.36369744, 0.33246136, 0.26745063, 0.21590772,\n",
       "       0.3552145 , 0.29288563, 0.33393946, 0.273651  , 0.14738268,\n",
       "       0.10605804, 0.09796564, 0.11612918, 0.05876703, 0.07933497,\n",
       "       0.1758205 , 0.17009759, 0.20685291, 0.10401398, 0.20050451,\n",
       "       0.10104759, 0.05127547, 0.04082068, 0.12077092, 0.15074724,\n",
       "...\n",
       "       0.20028001, 0.2669572 , 0.34444737, 0.4147941 , 0.38745633,\n",
       "       0.36569682, 0.2029413 , 0.17206886, 0.41918036, 0.3374573 ,\n",
       "       0.4314362 , 0.41012558, 0.23457897, 0.26460984, 0.2657902 ,\n",
       "       0.34589627, 0.29602087, 0.35823354, 0.41167226, 0.440189  ,\n",
       "       0.35251802, 0.2516915 , 0.28084007, 0.15316771, 0.24282303,\n",
       "       0.35109016, 0.26876858, 0.30906597, 0.3499123 , 0.30970842,\n",
       "       0.25839356, 0.20692566, 0.15951276, 0.12510401, 0.07839535,\n",
       "       0.07757646, 0.10173602, 0.08905479, 0.22331718, 0.27856153,\n",
       "       0.4569097 , 0.30086747, 0.32638583, 0.2743708 , 0.1846678 ,\n",
       "       0.1646466 , 0.2551167 , 0.4353487 , 0.4323505 , 0.29240304,\n",
       "       0.28602025, 0.40976536, 0.38474226, 0.43087807, 0.42163602,\n",
       "       0.37166926, 0.29559538, 0.41222206, 0.44154048, 0.44940424,\n",
       "       0.4060611 , 0.40458685, 0.29698285, 0.34659335, 0.33662552,\n",
       "       0.3954068 , 0.39926916, 0.08551338, 0.4552893 , 0.37740806,\n",
       "       0.20873305, 0.19708794, 0.18673772, 0.19538501, 0.21903557,\n",
       "       0.11225086, 0.13205838, 0.2633583 , 0.19915658, 0.17595637,\n",
       "       0.23482797, 0.34475818, 0.18761873, 0.16908547, 0.16543964,\n",
       "       0.21486735, 0.39011607, 0.23824772, 0.3105566 , 0.33687872,\n",
       "       0.31569532, 0.35675237, 0.32991377, 0.21776748, 0.10425538,\n",
       "       0.06246069, 0.16439319, 0.10173914, 0.10025397], dtype=float32)</pre></div></li></ul></div></li><li class='xr-section-item'><input id='section-34fba334-ef33-43c5-b342-373dce0bfc17' class='xr-section-summary-in' type='checkbox' disabled ><label for='section-34fba334-ef33-43c5-b342-373dce0bfc17' class='xr-section-summary'  title='Expand/collapse section'>Attributes: <span>(0)</span></label><div class='xr-section-inline-details'></div><div class='xr-section-details'><dl class='xr-attrs'></dl></div></li></ul></div></div>"
      ],
      "text/plain": [
       "<xarray.Dataset>\n",
       "Dimensions:  (time: 389)\n",
       "Coordinates:\n",
       "  * time     (time) datetime64[ns] 1980-01-01 1980-01-02 ... 2018-12-31\n",
       "Data variables:\n",
       "    yLRt     (time) float32 0.3136 0.294 0.2933 0.3415 ... 0.1644 0.1017 0.1003"
      ]
     },
     "execution_count": 257,
     "metadata": {},
     "output_type": "execute_result"
    }
   ],
   "source": [
    "ynft=yt.where(yt==0, drop=True)\n",
    "ynft\n",
    "\n",
    "yWdt=yt.where(yt>0.44, drop=True)\n",
    "yWdt\n",
    "\n",
    "yint1t=yt.where(yt>0,drop=True)\n",
    "yintft=yint1t.where(yint1t<0.48,drop=True)\n",
    "yintft\n",
    "\n",
    "yLRnft=y_predLin_dst.where(y_predLin_dst.yLRt<0.04,drop=True)\n",
    "\n",
    "yLRWdt=y_predLin_dst.where(y_predLin_dst.yLRt>0.44,drop=True)\n",
    "yLRWdt\n",
    "\n",
    "yLRint1t=y_predLin_dst.where(y_predLin_dst.yLRt>0.039,drop=True)\n",
    "yLRintft=yLRint1t.where(yLRint1t<0.48,drop=True)\n",
    "yLRintft"
   ]
  },
  {
   "cell_type": "code",
   "execution_count": 258,
   "metadata": {},
   "outputs": [
    {
     "data": {
      "image/png": "[encoded data removed]",
      "text/plain": [
       "<Figure size 432x288 with 2 Axes>"
      ]
     },
     "metadata": {},
     "output_type": "display_data"
    }
   ],
   "source": [
    "\n",
    "fig = plt.figure()\n",
    "ax = fig.add_axes([0,0,1,1])\n",
    "ax.axis('equal')\n",
    "pieLabs = ['No Fog', 'Intermediate Fog (1-11)', 'Widespread Fog (>11)']\n",
    "piedata = [ynft.shape[0],yintft.shape[0],yWdt.shape[0]]\n",
    "ax.pie(piedata, labels = pieLabs,autopct='%1.2f%%')\n",
    "ax.set_title('Station Observation')\n",
    "\n",
    "ax1 = fig.add_axes([1,0,1,1])\n",
    "ax1.axis('equal')\n",
    "pieLabs = ['No Fog', 'Intermediate Fog (1-11)', 'Widespread Fog (>11)']\n",
    "piedata = [yLRnft.yLRt.shape[0],yLRintft.yLRt.shape[0],yLRWdt.yLRt.shape[0]]\n",
    "ax1.pie(piedata, labels = pieLabs,autopct='%1.2f%%')\n",
    "ax1.set_title('CNN')\n",
    "plt.show()\n",
    "\n"
   ]
  },
  {
   "cell_type": "code",
   "execution_count": 259,
   "metadata": {},
   "outputs": [
    {
     "data": {
      "text/plain": [
       "117"
      ]
     },
     "execution_count": 259,
     "metadata": {},
     "output_type": "execute_result"
    }
   ],
   "source": [
    "yWdt.shape[0]"
   ]
  },
  {
   "cell_type": "code",
   "execution_count": 260,
   "metadata": {},
   "outputs": [
    {
     "data": {
      "text/plain": [
       "116"
      ]
     },
     "execution_count": 260,
     "metadata": {},
     "output_type": "execute_result"
    }
   ],
   "source": [
    "yLRWdt.yLRt.shape[0]"
   ]
  },
  {
   "cell_type": "code",
   "execution_count": 261,
   "metadata": {},
   "outputs": [
    {
     "data": {
      "image/png": "[encoded data removed]",
      "text/plain": [
       "<Figure size 432x288 with 2 Axes>"
      ]
     },
     "metadata": {},
     "output_type": "display_data"
    }
   ],
   "source": [
    "fig = plt.figure()\n",
    "ax = fig.add_axes([0,0,1,1])\n",
    "ax.axis('equal')\n",
    "pieLabs = ['No Fog', 'Intermediate Fog (1-11)', 'Widespread Fog (>11)']\n",
    "piedata = [ynft.shape[0],yintft.shape[0],yWdt.shape[0]]\n",
    "ax.pie(piedata, labels = pieLabs,autopct='%1.2f%%')\n",
    "ax.set_title('Station Observation')\n",
    "\n",
    "ax1 = fig.add_axes([1,0,1,1])\n",
    "ax1.axis('equal')\n",
    "pieLabs = ['No Fog', 'Intermediate Fog (1-11)', 'Widespread Fog (>11)']\n",
    "piedata = [yLRnft.yLRt.shape[0],yLRintft.yLRt.shape[0],yLRWdt.yLRt.shape[0]]\n",
    "ax1.pie(piedata, labels = pieLabs,autopct='%1.2f%%')\n",
    "ax1.set_title('CNN')\n",
    "plt.show()\n"
   ]
  },
  {
   "cell_type": "code",
   "execution_count": 262,
   "metadata": {},
   "outputs": [
    {
     "data": {
      "text/plain": [
       "['pie2dataCNN.joblib']"
      ]
     },
     "execution_count": 262,
     "metadata": {},
     "output_type": "execute_result"
    }
   ],
   "source": [
    "pie1dataCNN= [yLRnft.yLRt.shape[0],yLRintft.yLRt.shape[0],yLRWdt.yLRt.shape[0]]\n",
    "dump(pie1dataCNN,'pie2dataCNN.joblib')"
   ]
  },
  {
   "cell_type": "code",
   "execution_count": null,
   "metadata": {},
   "outputs": [],
   "source": []
  }
 ],
 "metadata": {
  "kernelspec": {
   "display_name": "Python 3",
   "language": "python",
   "name": "python3"
  },
  "language_info": {
   "codemirror_mode": {
    "name": "ipython",
    "version": 3
   },
   "file_extension": ".py",
   "mimetype": "text/x-python",
   "name": "python",
   "nbconvert_exporter": "python",
   "pygments_lexer": "ipython3",
   "version": "3.8.5"
  }
 },
 "nbformat": 4,
 "nbformat_minor": 4
}
