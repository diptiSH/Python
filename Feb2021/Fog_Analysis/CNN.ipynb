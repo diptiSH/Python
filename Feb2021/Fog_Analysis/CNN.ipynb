{
 "cells": [
  {
   "cell_type": "code",
   "execution_count": 1,
   "metadata": {},
   "outputs": [],
   "source": [
    "import xarray as xr\n",
    "import numpy as np\n",
    "import pandas as pd\n",
    "import datetime\n",
    "import matplotlib.pyplot as plt\n",
    "from keras.models import Sequential\n",
    "from keras.layers import Dense, Conv3D, Flatten,MaxPooling3D,AveragePooling3D, concatenate,Input\n",
    "\n",
    "from math import e\n",
    "from sklearn.model_selection import train_test_split\n",
    "from keras.models import Model\n",
    "from sklearn.preprocessing import StandardScaler\n",
    "from joblib import dump, load"
   ]
  },
  {
   "cell_type": "code",
   "execution_count": 2,
   "metadata": {},
   "outputs": [],
   "source": [
    "fogData = xr.open_dataset('../../../Data/FogData/CombinedFogData_25Stations.nc')\n",
    "#plt.figure(figsize=[16,8])\n",
    "StackFog=fogData.fogdata.stack(a=('years','months','days'))\n",
    "StackFog\n",
    "dd =[];\n",
    "for i in range(StackFog.years.values.shape[0]):\n",
    "    dd=dd+[str(StackFog.years[i].values)+'-'+str(StackFog.months[i].values)+\"-\"+str(StackFog.days[i].values)]\n",
    "fg = xr.Dataset({'fogdata': (('time','stations'), StackFog.values.T)}, coords={'time': pd.to_datetime(dd),'stations': fogData.stations})\n",
    "yAll=fg.fogdata.sum(dim='stations').sel(time=slice('1980-1-1','2018-12-31'))\n",
    "yAll=yAll/25.0\n",
    "#y"
   ]
  },
  {
   "cell_type": "code",
   "execution_count": 3,
   "metadata": {},
   "outputs": [],
   "source": [
    "# Input Data\n",
    "t2mData = xr.open_dataset('../../../Data/eraDown/ERA5_2degree_Down/DailyMean/ERA5NH_t2m_daily_NovDecJan.nc')\n",
    "d2mData = xr.open_dataset('../../../Data/eraDown/ERA5_2degree_Down/DailyMean/ERA5NH_d2m_daily_NovDecJan.nc')\n",
    "u10Data = xr.open_dataset('../../../Data/eraDown/ERA5_2degree_Down/DailyMean/ERA5NH_u10_daily_NovDecJan.nc')\n",
    "v10Data = xr.open_dataset('../../../Data/eraDown/ERA5_2degree_Down/DailyMean/ERA5NH_v10_daily_NovDecJan.nc')\n",
    "z500Data = xr.open_dataset('../../../Data/eraDown/ERA5_2degree_Down/DailyMean/ERA5NH_500_z_daily_NovDecJan.nc')\n",
    "uvt850Data = xr.open_dataset('../../../Data/eraDown/ERA5_2degree_Down/DailyMean/ERA5NH_850_uvt_daily_NovDecJan.nc')"
   ]
  },
  {
   "cell_type": "code",
   "execution_count": 4,
   "metadata": {},
   "outputs": [],
   "source": [
    "rh = (e**((17.625*(d2mData.d2m.values-273.15))/(243.04+(d2mData.d2m.values-273.15)))/e**((17.625*(t2mData.t2m.values-273.15))/(243.04+(t2mData.t2m.values-273.15))))\n",
    "\n",
    "rh_ds = xr.Dataset({'rh': (('time','latitude','longitude'), rh)}, coords={'time': t2mData.time,'latitude': t2mData.latitude,'longitude': t2mData.longitude})\n"
   ]
  },
  {
   "cell_type": "code",
   "execution_count": 5,
   "metadata": {},
   "outputs": [],
   "source": [
    "t2m=t2mData.t2m.shift(time=1)\n",
    "rh=rh_ds.rh.shift(time=1)\n",
    "u10=u10Data.u10.shift(time=1)\n",
    "v10=v10Data.v10.shift(time=1)\n",
    "z=z500Data.z.shift(time=1)\n",
    "t850=uvt850Data.t.shift(time=1)\n",
    "u850=uvt850Data.u.shift(time=1)\n",
    "v850=uvt850Data.v.shift(time=1)"
   ]
  },
  {
   "cell_type": "code",
   "execution_count": 6,
   "metadata": {},
   "outputs": [],
   "source": [
    "t2mTsAll=t2m[((t2m.time.dt.month>11) | (t2m.time.dt.month<2)) & (t2m.time.dt.year<2020)].sel(time=slice('1980-1-1','2018-12-31'),latitude=slice(35,0),longitude=slice(50,100))\n",
    "rhTsAll=rh[((rh.time.dt.month>11) | (rh.time.dt.month<2)) & (rh.time.dt.year<2020)].sel(time=slice('1980-1-1','2018-12-31'),latitude=slice(35,0),longitude=slice(50,100))\n",
    "u10TsAll=u10[((u10.time.dt.month>11) | (u10.time.dt.month<2)) & (u10.time.dt.year<2020)].sel(time=slice('1980-1-1','2018-12-31'),latitude=slice(35,0),longitude=slice(50,100))\n",
    "v10TsAll=u10[((v10.time.dt.month>11) | (v10.time.dt.month<2)) & (v10.time.dt.year<2020)].sel(time=slice('1980-1-1','2018-12-31'),latitude=slice(35,0),longitude=slice(50,100))\n",
    "zTsAll=z[((z.time.dt.month>11) | (z.time.dt.month<2)) & (z.time.dt.year<2020)].sel(time=slice('1980-1-1','2018-12-31'),latitude=slice(35,0),longitude=slice(50,100))\n",
    "t850TsAll=t850[((t850.time.dt.month>11) | (t850.time.dt.month<2)) & (t850.time.dt.year<2020)].sel(time=slice('1980-1-1','2018-12-31'),latitude=slice(35,0),longitude=slice(50,100))\n",
    "u850TsAll=u850[((u850.time.dt.month>11) | (u850.time.dt.month<2)) & (u850.time.dt.year<2020)].sel(time=slice('1980-1-1','2018-12-31'),latitude=slice(35,0),longitude=slice(50,100))\n",
    "v850TsAll=v850[((v850.time.dt.month>11) | (v850.time.dt.month<2)) & (v850.time.dt.year<2020)].sel(time=slice('1980-1-1','2018-12-31'),latitude=slice(35,0),longitude=slice(50,100))"
   ]
  },
  {
   "cell_type": "code",
   "execution_count": 7,
   "metadata": {},
   "outputs": [],
   "source": [
    "t1=t2mTsAll.stack(z=(\"latitude\", \"longitude\"))\n",
    "# fit scaler on training data\n",
    "norm = StandardScaler().fit(t1)\n",
    "# transform training data\n",
    "t1.values = norm.transform(t1)\n",
    "t2mTsAll.values=t1.unstack()\n",
    "\n",
    "t1=rhTsAll.stack(z=(\"latitude\", \"longitude\"))\n",
    "# fit scaler on training data\n",
    "norm = StandardScaler().fit(t1)\n",
    "# transform training data\n",
    "t1.values = norm.transform(t1)\n",
    "rhTsAll.values=t1.unstack()\n",
    "\n",
    "t1=u10TsAll.stack(z=(\"latitude\", \"longitude\"))\n",
    "# fit scaler on training data\n",
    "norm = StandardScaler().fit(t1)\n",
    "# transform training data\n",
    "t1.values = norm.transform(t1)\n",
    "u10TsAll.values=t1.unstack()\n",
    "\n",
    "t1=v10TsAll.stack(z=(\"latitude\", \"longitude\"))\n",
    "# fit scaler on training data\n",
    "norm = StandardScaler().fit(t1)\n",
    "# transform training data\n",
    "t1.values = norm.transform(t1)\n",
    "v10TsAll.values=t1.unstack()\n",
    "\n",
    "t1=zTsAll.stack(z=(\"latitude\", \"longitude\"))\n",
    "# fit scaler on training data\n",
    "norm = StandardScaler().fit(t1)\n",
    "# transform training data\n",
    "t1.values = norm.transform(t1)\n",
    "zTsAll.values=t1.unstack()\n",
    "\n",
    "\n",
    "t1=t850TsAll.stack(z=(\"latitude\", \"longitude\"))\n",
    "# fit scaler on training data\n",
    "norm = StandardScaler().fit(t1)\n",
    "# transform training data\n",
    "t1.values = norm.transform(t1)\n",
    "t850TsAll.values=t1.unstack()\n",
    "\n",
    "t1=u850TsAll.stack(z=(\"latitude\", \"longitude\"))\n",
    "# fit scaler on training data\n",
    "norm = StandardScaler().fit(t1)\n",
    "# transform training data\n",
    "t1.values = norm.transform(t1)\n",
    "u850TsAll.values=t1.unstack()\n",
    "\n",
    "t1=v850TsAll.stack(z=(\"latitude\", \"longitude\"))\n",
    "# fit scaler on training data\n",
    "norm = StandardScaler().fit(t1)\n",
    "# transform training data\n",
    "t1.values = norm.transform(t1)\n",
    "v850TsAll.values=t1.unstack()"
   ]
  },
  {
   "cell_type": "code",
   "execution_count": 11,
   "metadata": {},
   "outputs": [],
   "source": [
    "zTs=zTsAll.sel(time=slice('1980-1-1','2014-12-31'))\n",
    "               \n",
    "t2mTs=t2mTsAll.sel(time=slice('1980-1-1','2014-12-31'))\n",
    "t850Ts=t850TsAll.sel(time=slice('1980-1-1','2014-12-31'))\n",
    "u850Ts=u850TsAll.sel(time=slice('1980-1-1','2014-12-31'))\n",
    "v850Ts=v850TsAll.sel(time=slice('1980-1-1','2014-12-31'))\n",
    "rhTs=rhTsAll.sel(time=slice('1980-1-1','2014-12-31'))\n",
    "v10Ts=v10TsAll.sel(time=slice('1980-1-1','2014-12-31'))\n",
    "u10Ts=u10TsAll.sel(time=slice('1980-1-1','2014-12-31'))\n",
    "y=yAll.sel(time=slice('1980-1-1','2014-12-31'))"
   ]
  },
  {
   "cell_type": "code",
   "execution_count": 12,
   "metadata": {},
   "outputs": [],
   "source": [
    "z_train, z_test,t2m_train, t2m_test,t850_train, t850_test,u850_train, u850_test,v850_train, v850_test,   rh_train, rh_test,v10_train, v10_test,u10_train, u10_test,y_train,y_test = train_test_split( zTs,t2mTs,t850Ts,u850Ts,v850Ts, rhTs,v10Ts,u10Ts,y,test_size=0.20, random_state=0)"
   ]
  },
  {
   "cell_type": "code",
   "execution_count": 13,
   "metadata": {},
   "outputs": [],
   "source": [
    "z_trainf, z_val,t2m_trainf, t2m_val,t850_trainf, t850_val,u850_trainf, u850_val,v850_trainf, v850_val, rh_trainf, rh_val,v10_trainf, v10_val,u10_trainf, u10_val,y_trainf,y_val = train_test_split( z_train,t2m_train,t850_train,u850_train,v850_train, rh_train,v10_train,u10_train,y_train,test_size=0.20, random_state=0)"
   ]
  },
  {
   "cell_type": "code",
   "execution_count": 14,
   "metadata": {},
   "outputs": [
    {
     "data": {
      "text/plain": [
       "(1388, 18, 26, 1)"
      ]
     },
     "execution_count": 14,
     "metadata": {},
     "output_type": "execute_result"
    }
   ],
   "source": [
    "t2mtrainf=t2m_trainf.values\n",
    "t2mtrainf=t2mtrainf[:,:,:,None]\n",
    "t2mtrainf.shape\n",
    "\n",
    "t850trainf=t850_trainf.values\n",
    "t850trainf=t850trainf[:,:,:,None]\n",
    "t850trainf.shape\n",
    "\n",
    "\n",
    "u850trainf=u850_trainf.values\n",
    "u850trainf=u850trainf[:,:,:,None]\n",
    "u850trainf.shape\n",
    "\n",
    "\n",
    "v850trainf=v850_trainf.values\n",
    "v850trainf=v850trainf[:,:,:,None]\n",
    "v850trainf.shape\n",
    "\n",
    "rhtrainf=rh_trainf.values\n",
    "rhtrainf=rhtrainf[:,:,:,None]\n",
    "rhtrainf.shape\n",
    "\n",
    "ztrainf=z_trainf.values\n",
    "ztrainf=ztrainf[:,:,:,None]\n",
    "ztrainf.shape\n",
    "\n",
    "u10trainf=u10_trainf.values\n",
    "u10trainf=u10trainf[:,:,:,None]\n",
    "u10trainf.shape\n",
    "\n",
    "v10trainf=v10_trainf.values\n",
    "v10trainf=v10trainf[:,:,:,None]\n",
    "v10trainf.shape"
   ]
  },
  {
   "cell_type": "code",
   "execution_count": 15,
   "metadata": {},
   "outputs": [
    {
     "data": {
      "text/plain": [
       "(1388, 1)"
      ]
     },
     "execution_count": 15,
     "metadata": {},
     "output_type": "execute_result"
    }
   ],
   "source": [
    "ytrainf=y_trainf.values\n",
    "ytrainf=ytrainf[:,None]\n",
    "ytrainf.shape"
   ]
  },
  {
   "cell_type": "code",
   "execution_count": 16,
   "metadata": {},
   "outputs": [
    {
     "data": {
      "text/plain": [
       "(434, 18, 26, 1)"
      ]
     },
     "execution_count": 16,
     "metadata": {},
     "output_type": "execute_result"
    }
   ],
   "source": [
    "t2mtest=t2m_test.values\n",
    "t2mtest=t2mtest[:,:,:,None]\n",
    "t2mtest.shape\n",
    "\n",
    "t850test=t850_test.values\n",
    "t850test=t850test[:,:,:,None]\n",
    "t850test.shape\n",
    "\n",
    "u850test=u850_test.values\n",
    "u850test=u850test[:,:,:,None]\n",
    "u850test.shape\n",
    "\n",
    "\n",
    "v850test=v850_test.values\n",
    "v850test=v850test[:,:,:,None]\n",
    "v850test.shape\n",
    "\n",
    "\n",
    "rhtest=rh_test.values\n",
    "rhtest=rhtest[:,:,:,None]\n",
    "rhtest.shape\n",
    "u10test=u10_test.values\n",
    "u10test=u10test[:,:,:,None]\n",
    "u10test.shape\n",
    "ztest=z_test.values\n",
    "ztest=ztest[:,:,:,None]\n",
    "ztest.shape\n",
    "\n",
    "v10test=v10_test.values\n",
    "v10test=v10test[:,:,:,None]\n",
    "v10test.shape"
   ]
  },
  {
   "cell_type": "code",
   "execution_count": 17,
   "metadata": {},
   "outputs": [
    {
     "data": {
      "text/plain": [
       "(348, 18, 26, 1)"
      ]
     },
     "execution_count": 17,
     "metadata": {},
     "output_type": "execute_result"
    }
   ],
   "source": [
    "t2mval=t2m_val.values\n",
    "t2mval=t2mval[:,:,:,None]\n",
    "t2mval.shape\n",
    "rhval=rh_val.values\n",
    "rhval=rhval[:,:,:,None]\n",
    "rhval.shape\n",
    "u10val=u10_val.values\n",
    "u10val=u10val[:,:,:,None]\n",
    "u10val.shape\n",
    "zval=z_val.values\n",
    "zval=zval[:,:,:,None]\n",
    "zval.shape\n",
    "\n",
    "v10val=v10_val.values\n",
    "v10val=v10val[:,:,:,None]\n",
    "v10val.shape\n",
    "\n",
    "t850val=t850_val.values\n",
    "t850val=t850val[:,:,:,None]\n",
    "t850val.shape\n",
    "\n",
    "u850val=u850_val.values\n",
    "u850val=u850val[:,:,:,None]\n",
    "u850val.shape\n",
    "\n",
    "v850val=v850_val.values\n",
    "v850val=v850val[:,:,:,None]\n",
    "v850val.shape"
   ]
  },
  {
   "cell_type": "code",
   "execution_count": 18,
   "metadata": {},
   "outputs": [
    {
     "data": {
      "text/plain": [
       "(434, 1)"
      ]
     },
     "execution_count": 18,
     "metadata": {},
     "output_type": "execute_result"
    }
   ],
   "source": [
    "ytest=y_test.values\n",
    "ytest=ytest[:,None]\n",
    "ytest.shape"
   ]
  },
  {
   "cell_type": "code",
   "execution_count": 19,
   "metadata": {},
   "outputs": [
    {
     "data": {
      "text/plain": [
       "(348, 1)"
      ]
     },
     "execution_count": 19,
     "metadata": {},
     "output_type": "execute_result"
    }
   ],
   "source": [
    "yval=y_val.values\n",
    "yval=yval[:,None]\n",
    "yval.shape"
   ]
  },
  {
   "cell_type": "code",
   "execution_count": 20,
   "metadata": {},
   "outputs": [
    {
     "data": {
      "text/plain": [
       "(5, 348, 18, 26, 1)"
      ]
     },
     "execution_count": 20,
     "metadata": {},
     "output_type": "execute_result"
    }
   ],
   "source": [
    "X_test=np.array([ztest,rhtest,u10test,v10test,t2mtest])\n",
    "X_test.shape\n",
    "\n",
    "X_trainf=np.array([ztrainf,rhtrainf,u10trainf,v10trainf,t2mtrainf])\n",
    "X_trainf.shape\n",
    "\n",
    "X_val=np.array([zval,rhval,u10val,v10val,t2mval])\n",
    "X_val.shape"
   ]
  },
  {
   "cell_type": "code",
   "execution_count": 21,
   "metadata": {},
   "outputs": [
    {
     "data": {
      "text/plain": [
       "(348, 5, 18, 26, 1)"
      ]
     },
     "execution_count": 21,
     "metadata": {},
     "output_type": "execute_result"
    }
   ],
   "source": [
    "X_trainf_reshape = np.einsum('lkija->klija',X_trainf)\n",
    "X_trainf_reshape.shape\n",
    "\n",
    "X_test_reshape = np.einsum('lkija->klija',X_test)\n",
    "X_test_reshape.shape\n",
    "\n",
    "X_val_reshape = np.einsum('lkija->klija',X_val)\n",
    "X_val_reshape.shape"
   ]
  },
  {
   "cell_type": "code",
   "execution_count": 23,
   "metadata": {},
   "outputs": [
    {
     "name": "stdout",
     "output_type": "stream",
     "text": [
      "Epoch 1/10\n",
      "44/44 [==============================] - 24s 524ms/step - loss: 0.8983 - val_loss: 0.1674\n",
      "Epoch 2/10\n",
      "44/44 [==============================] - 22s 503ms/step - loss: 0.1667 - val_loss: 0.1350\n",
      "Epoch 3/10\n",
      "44/44 [==============================] - 23s 508ms/step - loss: 0.1312 - val_loss: 0.1106\n",
      "Epoch 4/10\n",
      "44/44 [==============================] - 22s 493ms/step - loss: 0.1095 - val_loss: 0.1122\n",
      "Epoch 5/10\n",
      "44/44 [==============================] - 22s 509ms/step - loss: 0.1013 - val_loss: 0.1117\n",
      "Epoch 6/10\n",
      "44/44 [==============================] - 21s 482ms/step - loss: 0.1046 - val_loss: 0.1046\n",
      "Epoch 7/10\n",
      "44/44 [==============================] - 21s 482ms/step - loss: 0.0866 - val_loss: 0.1006\n",
      "Epoch 8/10\n",
      "44/44 [==============================] - 22s 498ms/step - loss: 0.0888 - val_loss: 0.1059\n",
      "Epoch 9/10\n",
      "44/44 [==============================] - 22s 500ms/step - loss: 0.0803 - val_loss: 0.1047\n",
      "Epoch 10/10\n",
      "44/44 [==============================] - 21s 489ms/step - loss: 0.0756 - val_loss: 0.1028\n"
     ]
    },
    {
     "data": {
      "text/plain": [
       "[<matplotlib.lines.Line2D at 0x2b31468530d0>]"
      ]
     },
     "execution_count": 23,
     "metadata": {},
     "output_type": "execute_result"
    },
    {
     "data": {
      "image/png": "[encoded data removed]",
      "text/plain": [
       "<Figure size 432x288 with 1 Axes>"
      ]
     },
     "metadata": {
      "needs_background": "light"
     },
     "output_type": "display_data"
    }
   ],
   "source": [
    "model = Sequential()\n",
    "\n",
    "model.add(Conv3D(filters=32, kernel_size=5, activation='relu',padding='same', input_shape=(X_trainf_reshape.shape[1],X_trainf_reshape.shape[2],X_trainf_reshape.shape[3],1)))\n",
    "model.add(MaxPooling3D())\n",
    "\n",
    "model.add(Conv3D(filters=64, kernel_size=3, activation='relu',padding='same'))\n",
    "#model.add(MaxPooling3D())\n",
    "model.add(Conv3D(filters=128, kernel_size=3, activation='relu',padding='same'))\n",
    "\n",
    "model.add(Conv3D(filters=256, kernel_size=3, activation='relu',padding='same'))\n",
    "\n",
    "#model.add(Conv3D(filters=512, kernel_size=3, activation='relu',padding='same'))\n",
    "\n",
    "#model.add(Conv2D(filters=256, kernel_size=(3,3), activation='relu'))\n",
    "#model.add(Conv2D(filters=3, kernel_size=(1, 1), activation='relu'))\n",
    "#model.add(AveragePooling2D())\n",
    "\n",
    "model.add(Flatten())\n",
    "\n",
    "#model.add(Dense(units=120, activation='relu'))\n",
    "\n",
    "model.add(Dense(units=100, activation='relu'))\n",
    "model.add(Dense(units=1, activation = 'linear'))\n",
    "\n",
    "model.compile(optimizer='adam', loss='mae')\n",
    "\n",
    "history = model.fit(X_trainf_reshape, ytrainf, validation_data=(X_val_reshape, yval), epochs=10)\n",
    "yy_test = model.predict(X_test_reshape)\n",
    "\n",
    "test_corr = np.corrcoef(yy_test[:,0],y_test)[0,1]\n",
    "plt.title('corr = %f'%test_corr)\n",
    "\n",
    "plt.plot(yy_test,ytest,'+')"
   ]
  },
  {
   "cell_type": "markdown",
   "metadata": {},
   "source": [
    "# Run model on all data together "
   ]
  },
  {
   "cell_type": "code",
   "execution_count": 24,
   "metadata": {},
   "outputs": [],
   "source": [
    "z_train, z_test,t2m_train, t2m_test,t850_train, t850_test,u850_train, u850_test,v850_train, v850_test,   rh_train, rh_test,v10_train, v10_test,u10_train, u10_test,y_train,y_test = train_test_split( zTs,t2mTs,t850Ts,u850Ts,v850Ts, rhTs,v10Ts,u10Ts,y,test_size=0.20, random_state=0)"
   ]
  },
  {
   "cell_type": "code",
   "execution_count": 25,
   "metadata": {},
   "outputs": [
    {
     "data": {
      "text/plain": [
       "(1736, 18, 26, 1)"
      ]
     },
     "execution_count": 25,
     "metadata": {},
     "output_type": "execute_result"
    }
   ],
   "source": [
    "t2mtrain=t2m_train.values\n",
    "t2mtrain=t2mtrain[:,:,:,None]\n",
    "t2mtrain.shape\n",
    "\n",
    "t850train=t850_train.values\n",
    "t850train=t850train[:,:,:,None]\n",
    "t850train.shape\n",
    "\n",
    "\n",
    "u850train=u850_train.values\n",
    "u850train=u850train[:,:,:,None]\n",
    "u850train.shape\n",
    "\n",
    "\n",
    "v850train=v850_train.values\n",
    "v850train=v850train[:,:,:,None]\n",
    "v850train.shape\n",
    "\n",
    "rhtrain=rh_train.values\n",
    "rhtrain=rhtrain[:,:,:,None]\n",
    "rhtrain.shape\n",
    "\n",
    "ztrain=z_train.values\n",
    "ztrain=ztrain[:,:,:,None]\n",
    "ztrain.shape\n",
    "\n",
    "u10train=u10_train.values\n",
    "u10train=u10train[:,:,:,None]\n",
    "u10train.shape\n",
    "\n",
    "v10train=v10_train.values\n",
    "v10train=v10train[:,:,:,None]\n",
    "v10train.shape"
   ]
  },
  {
   "cell_type": "code",
   "execution_count": 26,
   "metadata": {},
   "outputs": [
    {
     "data": {
      "text/plain": [
       "(434, 18, 26, 1)"
      ]
     },
     "execution_count": 26,
     "metadata": {},
     "output_type": "execute_result"
    }
   ],
   "source": [
    "t2mtest=t2m_test.values\n",
    "t2mtest=t2mtest[:,:,:,None]\n",
    "t2mtest.shape\n",
    "\n",
    "t850test=t850_test.values\n",
    "t850test=t850test[:,:,:,None]\n",
    "t850test.shape\n",
    "\n",
    "u850test=u850_test.values\n",
    "u850test=u850test[:,:,:,None]\n",
    "u850test.shape\n",
    "\n",
    "\n",
    "v850test=v850_test.values\n",
    "v850test=v850test[:,:,:,None]\n",
    "v850test.shape\n",
    "\n",
    "\n",
    "rhtest=rh_test.values\n",
    "rhtest=rhtest[:,:,:,None]\n",
    "rhtest.shape\n",
    "u10test=u10_test.values\n",
    "u10test=u10test[:,:,:,None]\n",
    "u10test.shape\n",
    "ztest=z_test.values\n",
    "ztest=ztest[:,:,:,None]\n",
    "ztest.shape\n",
    "\n",
    "v10test=v10_test.values\n",
    "v10test=v10test[:,:,:,None]\n",
    "v10test.shape"
   ]
  },
  {
   "cell_type": "code",
   "execution_count": 27,
   "metadata": {},
   "outputs": [
    {
     "data": {
      "text/plain": [
       "(434, 1)"
      ]
     },
     "execution_count": 27,
     "metadata": {},
     "output_type": "execute_result"
    }
   ],
   "source": [
    "ytrain=y_train.values\n",
    "ytrain=ytrain[:,None]\n",
    "ytrain.shape\n",
    "ytest=y_test.values\n",
    "ytest=ytest[:,None]\n",
    "ytest.shape"
   ]
  },
  {
   "cell_type": "code",
   "execution_count": 28,
   "metadata": {},
   "outputs": [
    {
     "data": {
      "text/plain": [
       "(5, 1736, 18, 26, 1)"
      ]
     },
     "execution_count": 28,
     "metadata": {},
     "output_type": "execute_result"
    }
   ],
   "source": [
    "X_test=np.array([ztest,rhtest,u10test,v10test,t2mtest])\n",
    "X_test.shape\n",
    "\n",
    "X_train=np.array([ztrain,rhtrain,u10train,v10train,t2mtrain])\n",
    "X_train.shape"
   ]
  },
  {
   "cell_type": "code",
   "execution_count": 29,
   "metadata": {},
   "outputs": [
    {
     "data": {
      "text/plain": [
       "(434, 5, 18, 26, 1)"
      ]
     },
     "execution_count": 29,
     "metadata": {},
     "output_type": "execute_result"
    }
   ],
   "source": [
    "X_train_reshape = np.einsum('lkija->klija',X_train)\n",
    "X_train_reshape.shape\n",
    "\n",
    "X_test_reshape = np.einsum('lkija->klija',X_test)\n",
    "X_test_reshape.shape"
   ]
  },
  {
   "cell_type": "code",
   "execution_count": null,
   "metadata": {},
   "outputs": [],
   "source": []
  },
  {
   "cell_type": "code",
   "execution_count": 30,
   "metadata": {},
   "outputs": [
    {
     "name": "stdout",
     "output_type": "stream",
     "text": [
      "Epoch 1/10\n",
      "55/55 [==============================] - 28s 497ms/step - loss: 0.9489 - val_loss: 0.1738\n",
      "Epoch 2/10\n",
      "55/55 [==============================] - 27s 490ms/step - loss: 0.1753 - val_loss: 0.1313\n",
      "Epoch 3/10\n",
      "55/55 [==============================] - 27s 497ms/step - loss: 0.1307 - val_loss: 0.1126\n",
      "Epoch 4/10\n",
      "55/55 [==============================] - 28s 510ms/step - loss: 0.1134 - val_loss: 0.1107\n",
      "Epoch 5/10\n",
      "55/55 [==============================] - 27s 493ms/step - loss: 0.1018 - val_loss: 0.1090\n",
      "Epoch 6/10\n",
      "55/55 [==============================] - 27s 490ms/step - loss: 0.0966 - val_loss: 0.0996\n",
      "Epoch 7/10\n",
      "55/55 [==============================] - 27s 492ms/step - loss: 0.0892 - val_loss: 0.0969\n",
      "Epoch 8/10\n",
      "55/55 [==============================] - 28s 508ms/step - loss: 0.0851 - val_loss: 0.0896\n",
      "Epoch 9/10\n",
      "55/55 [==============================] - 28s 501ms/step - loss: 0.0819 - val_loss: 0.0959\n",
      "Epoch 10/10\n",
      "55/55 [==============================] - 27s 492ms/step - loss: 0.0815 - val_loss: 0.0884\n"
     ]
    },
    {
     "data": {
      "text/plain": [
       "[<matplotlib.lines.Line2D at 0x2b3146a2b070>]"
      ]
     },
     "execution_count": 30,
     "metadata": {},
     "output_type": "execute_result"
    },
    {
     "data": {
      "image/png": "[encoded data removed]",
      "text/plain": [
       "<Figure size 432x288 with 1 Axes>"
      ]
     },
     "metadata": {
      "needs_background": "light"
     },
     "output_type": "display_data"
    }
   ],
   "source": [
    "model = Sequential()\n",
    "\n",
    "model.add(Conv3D(filters=32, kernel_size=5, activation='relu',padding='same', input_shape=(X_train_reshape.shape[1],X_train_reshape.shape[2],X_train_reshape.shape[3],1)))\n",
    "model.add(MaxPooling3D())\n",
    "\n",
    "model.add(Conv3D(filters=64, kernel_size=3, activation='relu',padding='same'))\n",
    "#model.add(MaxPooling3D())\n",
    "model.add(Conv3D(filters=128, kernel_size=3, activation='relu',padding='same'))\n",
    "\n",
    "model.add(Conv3D(filters=256, kernel_size=3, activation='relu',padding='same'))\n",
    "\n",
    "#model.add(Conv3D(filters=512, kernel_size=3, activation='relu',padding='same'))\n",
    "\n",
    "#model.add(Conv2D(filters=256, kernel_size=(3,3), activation='relu'))\n",
    "#model.add(Conv2D(filters=3, kernel_size=(1, 1), activation='relu'))\n",
    "#model.add(AveragePooling2D())\n",
    "\n",
    "model.add(Flatten())\n",
    "\n",
    "#model.add(Dense(units=120, activation='relu'))\n",
    "\n",
    "model.add(Dense(units=100, activation='relu'))\n",
    "model.add(Dense(units=1, activation = 'linear'))\n",
    "\n",
    "model.compile(optimizer='adam', loss='mae')\n",
    "\n",
    "history = model.fit(X_train_reshape, ytrain, validation_data=(X_test_reshape, ytest), epochs=10)\n",
    "yy_test = model.predict(X_test_reshape)\n",
    "\n",
    "test_corr = np.corrcoef(yy_test[:,0],y_test)[0,1]\n",
    "plt.title('corr = %f'%test_corr)\n",
    "\n",
    "plt.plot(yy_test,ytest,'+')"
   ]
  },
  {
   "cell_type": "markdown",
   "metadata": {},
   "source": [
    "# Fog Statistics"
   ]
  },
  {
   "cell_type": "code",
   "execution_count": 31,
   "metadata": {},
   "outputs": [
    {
     "data": {
      "text/plain": [
       "(2170, 5, 18, 26, 1)"
      ]
     },
     "execution_count": 31,
     "metadata": {},
     "output_type": "execute_result"
    }
   ],
   "source": [
    "t2mAll=t2mTs.values\n",
    "t2mAll=t2mAll[:,:,:,None]\n",
    "t2mAll.shape\n",
    "\n",
    "t850All=t850Ts.values\n",
    "t850All=t850All[:,:,:,None]\n",
    "t850All.shape\n",
    "\n",
    "u850All=u850Ts.values\n",
    "u850All=u850All[:,:,:,None]\n",
    "u850All.shape\n",
    "\n",
    "\n",
    "v850All=v850Ts.values\n",
    "v850All=v850All[:,:,:,None]\n",
    "v850All.shape\n",
    "\n",
    "\n",
    "rhAll=rhTs.values\n",
    "rhAll=rhAll[:,:,:,None]\n",
    "rhAll.shape\n",
    "\n",
    "u10All=u10Ts.values\n",
    "u10All=u10All[:,:,:,None]\n",
    "u10All.shape\n",
    "\n",
    "\n",
    "zAll=zTs.values\n",
    "zAll=zAll[:,:,:,None]\n",
    "zAll.shape\n",
    "\n",
    "v10All=v10Ts.values\n",
    "v10All=v10All[:,:,:,None]\n",
    "v10All.shape\n",
    "\n",
    "X_All=np.array([zAll,rhAll,u10All,v10All,t2mAll])\n",
    "X_All.shape\n",
    "\n",
    "X_All_reshape = np.einsum('lkija->klija',X_All)\n",
    "X_All_reshape.shape"
   ]
  },
  {
   "cell_type": "code",
   "execution_count": 32,
   "metadata": {},
   "outputs": [],
   "source": [
    "yLR=model.predict(X_All_reshape)"
   ]
  },
  {
   "cell_type": "code",
   "execution_count": 33,
   "metadata": {},
   "outputs": [
    {
     "data": {
      "text/plain": [
       "array([0.270264  , 0.23357645, 0.35521454, ..., 0.77177024, 0.7265604 ,\n",
       "       0.648327  ], dtype=float32)"
      ]
     },
     "execution_count": 33,
     "metadata": {},
     "output_type": "execute_result"
    }
   ],
   "source": [
    "yLR[:,0]"
   ]
  },
  {
   "cell_type": "code",
   "execution_count": 56,
   "metadata": {},
   "outputs": [
    {
     "data": {
      "image/png": "[encoded data removed]",
      "text/plain": [
       "<Figure size 1080x360 with 1 Axes>"
      ]
     },
     "metadata": {
      "needs_background": "light"
     },
     "output_type": "display_data"
    }
   ],
   "source": [
    "y_predLin_ds=xr.Dataset({'yLR': (('time'), yLR[:,0])}, coords={'time': y.time})\n",
    "dump(y_predLin_ds.yLR,'TS1dataCNN.joblib')\n",
    "plt.figure(figsize=[15,5])\n",
    "y.resample(time='1Y').mean().plot(label='Obs')\n",
    "y_predLin_ds.resample(time='1Y').mean().yLR.plot(label='Pred_CNN')\n",
    "plt.ylim(0, 0.6)\n",
    "plt.legend()\n",
    "\n",
    "plt.savefig('../obs_yearly_CNN.jpeg',dpi=300)"
   ]
  },
  {
   "cell_type": "code",
   "execution_count": 58,
   "metadata": {},
   "outputs": [],
   "source": [
    "ynf=y.where(y==0, drop=True)\n",
    "ynf\n",
    "\n",
    "yLRnf=y_predLin_ds.where(y_predLin_ds.yLR<0.04,drop=True)\n",
    "\n",
    "yWd=y.where(y>0.44, drop=True)\n",
    "yWd\n",
    "\n",
    "yLRWd=y_predLin_ds.where(y_predLin_ds.yLR>0.44,drop=True)\n",
    "\n",
    "yint1=y.where(y>0,drop=True)\n",
    "yintf=yint1.where(yint1<0.48,drop=True)\n",
    "yintf\n",
    "\n",
    "yLRint1=y_predLin_ds.where(y_predLin_ds.yLR>0.039,drop=True)\n",
    "yLRintf=yLRint1.where(yLRint1<0.48,drop=True)"
   ]
  },
  {
   "cell_type": "code",
   "execution_count": 59,
   "metadata": {},
   "outputs": [
    {
     "data": {
      "image/png": "[encoded data removed]",
      "text/plain": [
       "<Figure size 432x288 with 2 Axes>"
      ]
     },
     "metadata": {},
     "output_type": "display_data"
    }
   ],
   "source": [
    "fig = plt.figure()\n",
    "ax = fig.add_axes([0,0,1,1])\n",
    "ax.axis('equal')\n",
    "pieLabs = ['No Fog', 'Intermediate Fog (1-11)', 'Widespread Fog (>11)']\n",
    "piedata = [ynf.shape[0],yintf.shape[0],yWd.shape[0]]\n",
    "ax.pie(piedata, labels = pieLabs,autopct='%1.2f%%')\n",
    "ax.set_title('Station Observation')\n",
    "\n",
    "ax1 = fig.add_axes([1,0,1,1])\n",
    "ax1.axis('equal')\n",
    "pieLabs = ['No Fog', 'Intermediate Fog (1-11)', 'Widespread Fog (>11)']\n",
    "piedata = [yLRnf.yLR.shape[0],yLRintf.yLR.shape[0],yLRWd.yLR.shape[0]]\n",
    "ax1.pie(piedata, labels = pieLabs,autopct='%1.2f%%')\n",
    "ax1.set_title('CNN')\n",
    "plt.show()"
   ]
  },
  {
   "cell_type": "code",
   "execution_count": 60,
   "metadata": {},
   "outputs": [
    {
     "data": {
      "text/plain": [
       "['pie1dataCNN.joblib']"
      ]
     },
     "execution_count": 60,
     "metadata": {},
     "output_type": "execute_result"
    }
   ],
   "source": [
    "pie1dataCNN= [yLRnf.yLR.shape[0],yLRintf.yLR.shape[0],yLRWd.yLR.shape[0]]\n",
    "dump(pie1dataCNN,'pie1dataCNN.joblib')"
   ]
  },
  {
   "cell_type": "code",
   "execution_count": 38,
   "metadata": {},
   "outputs": [],
   "source": [
    "noFogCounts=np.nan_to_num(ynf.resample(time='1Y').count(), copy=True, nan=0.0, posinf=None, neginf=None)\n",
    "interFogCounts=yintf.resample(time='1Y').count()\n",
    "wdFogCounts=yWd.resample(time='1Y').count()"
   ]
  },
  {
   "cell_type": "code",
   "execution_count": 39,
   "metadata": {},
   "outputs": [],
   "source": [
    "#noFogCountsLR=np.nan_to_num(yLRnf.resample(time='1Y').count(), copy=True, nan=0.0, posinf=None, neginf=None)\n",
    "noFogCountsLR=0\n",
    "interFogCountsLR=yLRintf.resample(time='1Y').count()\n",
    "wdFogCountsLR=np.nan_to_num(yLRWd.yLR.resample(time='1Y').count(), copy=True, nan=0.0, posinf=None, neginf=None)"
   ]
  },
  {
   "cell_type": "code",
   "execution_count": 40,
   "metadata": {},
   "outputs": [
    {
     "data": {
      "text/plain": [
       "Text(0.5, 1.0, 'CNN')"
      ]
     },
     "execution_count": 40,
     "metadata": {},
     "output_type": "execute_result"
    },
    {
     "data": {
      "image/png": "[encoded data removed]",
      "text/plain": [
       "<Figure size 432x288 with 2 Axes>"
      ]
     },
     "metadata": {
      "needs_background": "light"
     },
     "output_type": "display_data"
    }
   ],
   "source": [
    "data = [noFogCounts, interFogCounts, wdFogCounts]\n",
    "fig = plt.figure()\n",
    "ax = fig.add_axes([0,0,1,1])\n",
    "ax.boxplot(data)\n",
    "ax.set_title('Station Observation')\n",
    "\n",
    "dataLR = [noFogCountsLR, interFogCountsLR.yLR, wdFogCountsLR]\n",
    "ax1 = fig.add_axes([1,0,1,1])\n",
    "ax1.boxplot(dataLR)\n",
    "ax1.set_title('CNN')"
   ]
  },
  {
   "cell_type": "markdown",
   "metadata": {},
   "source": [
    "## test on 2015-2018 Data"
   ]
  },
  {
   "cell_type": "code",
   "execution_count": 41,
   "metadata": {},
   "outputs": [],
   "source": [
    "zTst=zTsAll.sel(time=slice('2015-1-1','2018-12-31'))\n",
    "t2mTst=t2mTsAll.sel(time=slice('2015-1-1','2018-12-31'))\n",
    "t850Tst=t850TsAll.sel(time=slice('2015-1-1','2018-12-31'))\n",
    "u850Tst=u850TsAll.sel(time=slice('2015-1-1','2018-12-31'))\n",
    "v850Tst=v850TsAll.sel(time=slice('2015-1-1','2018-12-31'))\n",
    "rhTst=rhTsAll.sel(time=slice('2015-1-1','2018-12-31'))\n",
    "v10Tst=v10TsAll.sel(time=slice('2015-1-1','2018-12-31'))\n",
    "u10Tst=u10TsAll.sel(time=slice('2015-1-1','2018-12-31'))\n",
    "yt=yAll.sel(time=slice('2015-1-1','2018-12-31'))"
   ]
  },
  {
   "cell_type": "code",
   "execution_count": 42,
   "metadata": {},
   "outputs": [
    {
     "data": {
      "text/plain": [
       "(248, 5, 18, 26, 1)"
      ]
     },
     "execution_count": 42,
     "metadata": {},
     "output_type": "execute_result"
    }
   ],
   "source": [
    "t2m_t=t2mTst.values\n",
    "t2m_t=t2m_t[:,:,:,None]\n",
    "t2m_t.shape\n",
    "\n",
    "t850_t=t850Tst.values\n",
    "t850_t=t850_t[:,:,:,None]\n",
    "t850_t.shape\n",
    "\n",
    "u850_t=u850Tst.values\n",
    "u850_t=u850_t[:,:,:,None]\n",
    "u850_t.shape\n",
    "\n",
    "\n",
    "v850_t=v850Tst.values\n",
    "v850_t=v850_t[:,:,:,None]\n",
    "v850_t.shape\n",
    "\n",
    "\n",
    "rh_t=rhTst.values\n",
    "rh_t=rh_t[:,:,:,None]\n",
    "rh_t.shape\n",
    "\n",
    "u10_t=u10Tst.values\n",
    "u10_t=u10_t[:,:,:,None]\n",
    "u10_t.shape\n",
    "\n",
    "\n",
    "z_t=zTst.values\n",
    "z_t=z_t[:,:,:,None]\n",
    "z_t.shape\n",
    "\n",
    "v10_t=v10Tst.values\n",
    "v10_t=v10_t[:,:,:,None]\n",
    "v10_t.shape\n",
    "\n",
    "X_t=np.array([z_t,rh_t,u10_t,v10_t,t2m_t])\n",
    "X_t.shape\n",
    "\n",
    "X_t_reshape = np.einsum('lkija->klija',X_t)\n",
    "X_t_reshape.shape"
   ]
  },
  {
   "cell_type": "code",
   "execution_count": 43,
   "metadata": {},
   "outputs": [],
   "source": [
    "yLRt=model.predict(X_t_reshape)"
   ]
  },
  {
   "cell_type": "code",
   "execution_count": 57,
   "metadata": {},
   "outputs": [
    {
     "data": {
      "text/plain": [
       "[<matplotlib.lines.Line2D at 0x2b314710cca0>]"
      ]
     },
     "execution_count": 57,
     "metadata": {},
     "output_type": "execute_result"
    },
    {
     "data": {
      "image/png": "[encoded data removed]",
      "text/plain": [
       "<Figure size 432x288 with 1 Axes>"
      ]
     },
     "metadata": {
      "needs_background": "light"
     },
     "output_type": "display_data"
    }
   ],
   "source": [
    "testcorr = np.corrcoef(yLRt[:,0],yt)[0,1]\n",
    "\n",
    "#acc_svr       = round(regLin.score(Xt, yt) * 100, 2)\n",
    "\n",
    "#print(\"Accuracy of base Linear Regression model is ,\",(acc_svr/100)**0.5)\n",
    "\n",
    "plt.title(' CNN corr = %f'%testcorr)\n",
    "\n",
    "plt.plot(yt,yLRt[:,0],'+')\n",
    "\n"
   ]
  },
  {
   "cell_type": "code",
   "execution_count": 54,
   "metadata": {},
   "outputs": [
    {
     "data": {
      "text/plain": [
       "['TS2dataCNN.joblib']"
      ]
     },
     "execution_count": 54,
     "metadata": {},
     "output_type": "execute_result"
    }
   ],
   "source": [
    "dump(yLRt[:,0],'TS2dataCNN.joblib')"
   ]
  },
  {
   "cell_type": "code",
   "execution_count": 55,
   "metadata": {},
   "outputs": [
    {
     "data": {
      "image/png": "[encoded data removed]",
      "text/plain": [
       "<Figure size 1080x360 with 1 Axes>"
      ]
     },
     "metadata": {
      "needs_background": "light"
     },
     "output_type": "display_data"
    }
   ],
   "source": [
    "y_predLin_dst=xr.Dataset({'yLRt': (('time'), yLRt[:,0])}, coords={'time': yt.time})\n",
    "dump(y_predLin_dst.yLRt,'TS2dataCNN.joblib')\n",
    "plt.figure(figsize=[15,5])\n",
    "yt.resample(time='1Y').mean().plot(label='Obs')\n",
    "y_predLin_dst.resample(time='1Y').mean().yLRt.plot(label='Pred_CNN')\n",
    "plt.ylim(0, 0.6)\n",
    "plt.legend()\n",
    "\n",
    "plt.savefig('../obs_yearly_CNN_2015-2018.jpeg',dpi=300)"
   ]
  },
  {
   "cell_type": "code",
   "execution_count": 61,
   "metadata": {},
   "outputs": [
    {
     "data": {
      "text/html": [
       "<div><svg style=\"position: absolute; width: 0; height: 0; overflow: hidden\">\n",
       "<defs>\n",
       "<symbol id=\"icon-database\" viewBox=\"0 0 32 32\">\n",
       "<path d=\"M16 0c-8.837 0-16 2.239-16 5v4c0 2.761 7.163 5 16 5s16-2.239 16-5v-4c0-2.761-7.163-5-16-5z\"></path>\n",
       "<path d=\"M16 17c-8.837 0-16-2.239-16-5v6c0 2.761 7.163 5 16 5s16-2.239 16-5v-6c0 2.761-7.163 5-16 5z\"></path>\n",
       "<path d=\"M16 26c-8.837 0-16-2.239-16-5v6c0 2.761 7.163 5 16 5s16-2.239 16-5v-6c0 2.761-7.163 5-16 5z\"></path>\n",
       "</symbol>\n",
       "<symbol id=\"icon-file-text2\" viewBox=\"0 0 32 32\">\n",
       "<path d=\"M28.681 7.159c-0.694-0.947-1.662-2.053-2.724-3.116s-2.169-2.030-3.116-2.724c-1.612-1.182-2.393-1.319-2.841-1.319h-15.5c-1.378 0-2.5 1.121-2.5 2.5v27c0 1.378 1.122 2.5 2.5 2.5h23c1.378 0 2.5-1.122 2.5-2.5v-19.5c0-0.448-0.137-1.23-1.319-2.841zM24.543 5.457c0.959 0.959 1.712 1.825 2.268 2.543h-4.811v-4.811c0.718 0.556 1.584 1.309 2.543 2.268zM28 29.5c0 0.271-0.229 0.5-0.5 0.5h-23c-0.271 0-0.5-0.229-0.5-0.5v-27c0-0.271 0.229-0.5 0.5-0.5 0 0 15.499-0 15.5 0v7c0 0.552 0.448 1 1 1h7v19.5z\"></path>\n",
       "<path d=\"M23 26h-14c-0.552 0-1-0.448-1-1s0.448-1 1-1h14c0.552 0 1 0.448 1 1s-0.448 1-1 1z\"></path>\n",
       "<path d=\"M23 22h-14c-0.552 0-1-0.448-1-1s0.448-1 1-1h14c0.552 0 1 0.448 1 1s-0.448 1-1 1z\"></path>\n",
       "<path d=\"M23 18h-14c-0.552 0-1-0.448-1-1s0.448-1 1-1h14c0.552 0 1 0.448 1 1s-0.448 1-1 1z\"></path>\n",
       "</symbol>\n",
       "</defs>\n",
       "</svg>\n",
       "<style>/* CSS stylesheet for displaying xarray objects in jupyterlab.\n",
       " *\n",
       " */\n",
       "\n",
       ":root {\n",
       "  --xr-font-color0: var(--jp-content-font-color0, rgba(0, 0, 0, 1));\n",
       "  --xr-font-color2: var(--jp-content-font-color2, rgba(0, 0, 0, 0.54));\n",
       "  --xr-font-color3: var(--jp-content-font-color3, rgba(0, 0, 0, 0.38));\n",
       "  --xr-border-color: var(--jp-border-color2, #e0e0e0);\n",
       "  --xr-disabled-color: var(--jp-layout-color3, #bdbdbd);\n",
       "  --xr-background-color: var(--jp-layout-color0, white);\n",
       "  --xr-background-color-row-even: var(--jp-layout-color1, white);\n",
       "  --xr-background-color-row-odd: var(--jp-layout-color2, #eeeeee);\n",
       "}\n",
       "\n",
       "html[theme=dark],\n",
       "body.vscode-dark {\n",
       "  --xr-font-color0: rgba(255, 255, 255, 1);\n",
       "  --xr-font-color2: rgba(255, 255, 255, 0.54);\n",
       "  --xr-font-color3: rgba(255, 255, 255, 0.38);\n",
       "  --xr-border-color: #1F1F1F;\n",
       "  --xr-disabled-color: #515151;\n",
       "  --xr-background-color: #111111;\n",
       "  --xr-background-color-row-even: #111111;\n",
       "  --xr-background-color-row-odd: #313131;\n",
       "}\n",
       "\n",
       ".xr-wrap {\n",
       "  display: block;\n",
       "  min-width: 300px;\n",
       "  max-width: 700px;\n",
       "}\n",
       "\n",
       ".xr-text-repr-fallback {\n",
       "  /* fallback to plain text repr when CSS is not injected (untrusted notebook) */\n",
       "  display: none;\n",
       "}\n",
       "\n",
       ".xr-header {\n",
       "  padding-top: 6px;\n",
       "  padding-bottom: 6px;\n",
       "  margin-bottom: 4px;\n",
       "  border-bottom: solid 1px var(--xr-border-color);\n",
       "}\n",
       "\n",
       ".xr-header > div,\n",
       ".xr-header > ul {\n",
       "  display: inline;\n",
       "  margin-top: 0;\n",
       "  margin-bottom: 0;\n",
       "}\n",
       "\n",
       ".xr-obj-type,\n",
       ".xr-array-name {\n",
       "  margin-left: 2px;\n",
       "  margin-right: 10px;\n",
       "}\n",
       "\n",
       ".xr-obj-type {\n",
       "  color: var(--xr-font-color2);\n",
       "}\n",
       "\n",
       ".xr-sections {\n",
       "  padding-left: 0 !important;\n",
       "  display: grid;\n",
       "  grid-template-columns: 150px auto auto 1fr 20px 20px;\n",
       "}\n",
       "\n",
       ".xr-section-item {\n",
       "  display: contents;\n",
       "}\n",
       "\n",
       ".xr-section-item input {\n",
       "  display: none;\n",
       "}\n",
       "\n",
       ".xr-section-item input + label {\n",
       "  color: var(--xr-disabled-color);\n",
       "}\n",
       "\n",
       ".xr-section-item input:enabled + label {\n",
       "  cursor: pointer;\n",
       "  color: var(--xr-font-color2);\n",
       "}\n",
       "\n",
       ".xr-section-item input:enabled + label:hover {\n",
       "  color: var(--xr-font-color0);\n",
       "}\n",
       "\n",
       ".xr-section-summary {\n",
       "  grid-column: 1;\n",
       "  color: var(--xr-font-color2);\n",
       "  font-weight: 500;\n",
       "}\n",
       "\n",
       ".xr-section-summary > span {\n",
       "  display: inline-block;\n",
       "  padding-left: 0.5em;\n",
       "}\n",
       "\n",
       ".xr-section-summary-in:disabled + label {\n",
       "  color: var(--xr-font-color2);\n",
       "}\n",
       "\n",
       ".xr-section-summary-in + label:before {\n",
       "  display: inline-block;\n",
       "  content: '►';\n",
       "  font-size: 11px;\n",
       "  width: 15px;\n",
       "  text-align: center;\n",
       "}\n",
       "\n",
       ".xr-section-summary-in:disabled + label:before {\n",
       "  color: var(--xr-disabled-color);\n",
       "}\n",
       "\n",
       ".xr-section-summary-in:checked + label:before {\n",
       "  content: '▼';\n",
       "}\n",
       "\n",
       ".xr-section-summary-in:checked + label > span {\n",
       "  display: none;\n",
       "}\n",
       "\n",
       ".xr-section-summary,\n",
       ".xr-section-inline-details {\n",
       "  padding-top: 4px;\n",
       "  padding-bottom: 4px;\n",
       "}\n",
       "\n",
       ".xr-section-inline-details {\n",
       "  grid-column: 2 / -1;\n",
       "}\n",
       "\n",
       ".xr-section-details {\n",
       "  display: none;\n",
       "  grid-column: 1 / -1;\n",
       "  margin-bottom: 5px;\n",
       "}\n",
       "\n",
       ".xr-section-summary-in:checked ~ .xr-section-details {\n",
       "  display: contents;\n",
       "}\n",
       "\n",
       ".xr-array-wrap {\n",
       "  grid-column: 1 / -1;\n",
       "  display: grid;\n",
       "  grid-template-columns: 20px auto;\n",
       "}\n",
       "\n",
       ".xr-array-wrap > label {\n",
       "  grid-column: 1;\n",
       "  vertical-align: top;\n",
       "}\n",
       "\n",
       ".xr-preview {\n",
       "  color: var(--xr-font-color3);\n",
       "}\n",
       "\n",
       ".xr-array-preview,\n",
       ".xr-array-data {\n",
       "  padding: 0 5px !important;\n",
       "  grid-column: 2;\n",
       "}\n",
       "\n",
       ".xr-array-data,\n",
       ".xr-array-in:checked ~ .xr-array-preview {\n",
       "  display: none;\n",
       "}\n",
       "\n",
       ".xr-array-in:checked ~ .xr-array-data,\n",
       ".xr-array-preview {\n",
       "  display: inline-block;\n",
       "}\n",
       "\n",
       ".xr-dim-list {\n",
       "  display: inline-block !important;\n",
       "  list-style: none;\n",
       "  padding: 0 !important;\n",
       "  margin: 0;\n",
       "}\n",
       "\n",
       ".xr-dim-list li {\n",
       "  display: inline-block;\n",
       "  padding: 0;\n",
       "  margin: 0;\n",
       "}\n",
       "\n",
       ".xr-dim-list:before {\n",
       "  content: '(';\n",
       "}\n",
       "\n",
       ".xr-dim-list:after {\n",
       "  content: ')';\n",
       "}\n",
       "\n",
       ".xr-dim-list li:not(:last-child):after {\n",
       "  content: ',';\n",
       "  padding-right: 5px;\n",
       "}\n",
       "\n",
       ".xr-has-index {\n",
       "  font-weight: bold;\n",
       "}\n",
       "\n",
       ".xr-var-list,\n",
       ".xr-var-item {\n",
       "  display: contents;\n",
       "}\n",
       "\n",
       ".xr-var-item > div,\n",
       ".xr-var-item label,\n",
       ".xr-var-item > .xr-var-name span {\n",
       "  background-color: var(--xr-background-color-row-even);\n",
       "  margin-bottom: 0;\n",
       "}\n",
       "\n",
       ".xr-var-item > .xr-var-name:hover span {\n",
       "  padding-right: 5px;\n",
       "}\n",
       "\n",
       ".xr-var-list > li:nth-child(odd) > div,\n",
       ".xr-var-list > li:nth-child(odd) > label,\n",
       ".xr-var-list > li:nth-child(odd) > .xr-var-name span {\n",
       "  background-color: var(--xr-background-color-row-odd);\n",
       "}\n",
       "\n",
       ".xr-var-name {\n",
       "  grid-column: 1;\n",
       "}\n",
       "\n",
       ".xr-var-dims {\n",
       "  grid-column: 2;\n",
       "}\n",
       "\n",
       ".xr-var-dtype {\n",
       "  grid-column: 3;\n",
       "  text-align: right;\n",
       "  color: var(--xr-font-color2);\n",
       "}\n",
       "\n",
       ".xr-var-preview {\n",
       "  grid-column: 4;\n",
       "}\n",
       "\n",
       ".xr-var-name,\n",
       ".xr-var-dims,\n",
       ".xr-var-dtype,\n",
       ".xr-preview,\n",
       ".xr-attrs dt {\n",
       "  white-space: nowrap;\n",
       "  overflow: hidden;\n",
       "  text-overflow: ellipsis;\n",
       "  padding-right: 10px;\n",
       "}\n",
       "\n",
       ".xr-var-name:hover,\n",
       ".xr-var-dims:hover,\n",
       ".xr-var-dtype:hover,\n",
       ".xr-attrs dt:hover {\n",
       "  overflow: visible;\n",
       "  width: auto;\n",
       "  z-index: 1;\n",
       "}\n",
       "\n",
       ".xr-var-attrs,\n",
       ".xr-var-data {\n",
       "  display: none;\n",
       "  background-color: var(--xr-background-color) !important;\n",
       "  padding-bottom: 5px !important;\n",
       "}\n",
       "\n",
       ".xr-var-attrs-in:checked ~ .xr-var-attrs,\n",
       ".xr-var-data-in:checked ~ .xr-var-data {\n",
       "  display: block;\n",
       "}\n",
       "\n",
       ".xr-var-data > table {\n",
       "  float: right;\n",
       "}\n",
       "\n",
       ".xr-var-name span,\n",
       ".xr-var-data,\n",
       ".xr-attrs {\n",
       "  padding-left: 25px !important;\n",
       "}\n",
       "\n",
       ".xr-attrs,\n",
       ".xr-var-attrs,\n",
       ".xr-var-data {\n",
       "  grid-column: 1 / -1;\n",
       "}\n",
       "\n",
       "dl.xr-attrs {\n",
       "  padding: 0;\n",
       "  margin: 0;\n",
       "  display: grid;\n",
       "  grid-template-columns: 125px auto;\n",
       "}\n",
       "\n",
       ".xr-attrs dt,\n",
       ".xr-attrs dd {\n",
       "  padding: 0;\n",
       "  margin: 0;\n",
       "  float: left;\n",
       "  padding-right: 10px;\n",
       "  width: auto;\n",
       "}\n",
       "\n",
       ".xr-attrs dt {\n",
       "  font-weight: normal;\n",
       "  grid-column: 1;\n",
       "}\n",
       "\n",
       ".xr-attrs dt:hover span {\n",
       "  display: inline-block;\n",
       "  background: var(--xr-background-color);\n",
       "  padding-right: 10px;\n",
       "}\n",
       "\n",
       ".xr-attrs dd {\n",
       "  grid-column: 2;\n",
       "  white-space: pre-wrap;\n",
       "  word-break: break-all;\n",
       "}\n",
       "\n",
       ".xr-icon-database,\n",
       ".xr-icon-file-text2 {\n",
       "  display: inline-block;\n",
       "  vertical-align: middle;\n",
       "  width: 1em;\n",
       "  height: 1.5em !important;\n",
       "  stroke-width: 0;\n",
       "  stroke: currentColor;\n",
       "  fill: currentColor;\n",
       "}\n",
       "</style><pre class='xr-text-repr-fallback'>&lt;xarray.Dataset&gt;\n",
       "Dimensions:  (time: 164)\n",
       "Coordinates:\n",
       "  * time     (time) datetime64[ns] 2015-01-01 2015-01-03 ... 2018-12-31\n",
       "Data variables:\n",
       "    yLRt     (time) float32 0.4677 0.4615 0.4396 0.2256 ... 0.1216 0.2197 0.3012</pre><div class='xr-wrap' hidden><div class='xr-header'><div class='xr-obj-type'>xarray.Dataset</div></div><ul class='xr-sections'><li class='xr-section-item'><input id='section-c02661ea-e7da-422f-826b-9510d24971b2' class='xr-section-summary-in' type='checkbox' disabled ><label for='section-c02661ea-e7da-422f-826b-9510d24971b2' class='xr-section-summary'  title='Expand/collapse section'>Dimensions:</label><div class='xr-section-inline-details'><ul class='xr-dim-list'><li><span class='xr-has-index'>time</span>: 164</li></ul></div><div class='xr-section-details'></div></li><li class='xr-section-item'><input id='section-200ab52c-7f5e-46e6-95c6-bc9d55abdb7c' class='xr-section-summary-in' type='checkbox'  checked><label for='section-200ab52c-7f5e-46e6-95c6-bc9d55abdb7c' class='xr-section-summary' >Coordinates: <span>(1)</span></label><div class='xr-section-inline-details'></div><div class='xr-section-details'><ul class='xr-var-list'><li class='xr-var-item'><div class='xr-var-name'><span class='xr-has-index'>time</span></div><div class='xr-var-dims'>(time)</div><div class='xr-var-dtype'>datetime64[ns]</div><div class='xr-var-preview xr-preview'>2015-01-01 ... 2018-12-31</div><input id='attrs-03fff25d-71a8-4393-a08a-59dfb0b1c30d' class='xr-var-attrs-in' type='checkbox' disabled><label for='attrs-03fff25d-71a8-4393-a08a-59dfb0b1c30d' title='Show/Hide attributes'><svg class='icon xr-icon-file-text2'><use xlink:href='#icon-file-text2'></use></svg></label><input id='data-7b2740ae-7cdb-4bb8-b884-5c4bedf3c81b' class='xr-var-data-in' type='checkbox'><label for='data-7b2740ae-7cdb-4bb8-b884-5c4bedf3c81b' title='Show/Hide data repr'><svg class='icon xr-icon-database'><use xlink:href='#icon-database'></use></svg></label><div class='xr-var-attrs'><dl class='xr-attrs'></dl></div><div class='xr-var-data'><pre>array([&#x27;2015-01-01T00:00:00.000000000&#x27;, &#x27;2015-01-03T00:00:00.000000000&#x27;,\n",
       "       &#x27;2015-01-05T00:00:00.000000000&#x27;, &#x27;2015-01-06T00:00:00.000000000&#x27;,\n",
       "       &#x27;2015-01-07T00:00:00.000000000&#x27;, &#x27;2015-01-16T00:00:00.000000000&#x27;,\n",
       "       &#x27;2015-01-22T00:00:00.000000000&#x27;, &#x27;2015-01-23T00:00:00.000000000&#x27;,\n",
       "       &#x27;2015-01-24T00:00:00.000000000&#x27;, &#x27;2015-01-25T00:00:00.000000000&#x27;,\n",
       "       &#x27;2015-01-27T00:00:00.000000000&#x27;, &#x27;2015-01-28T00:00:00.000000000&#x27;,\n",
       "       &#x27;2015-01-29T00:00:00.000000000&#x27;, &#x27;2015-01-30T00:00:00.000000000&#x27;,\n",
       "       &#x27;2015-01-31T00:00:00.000000000&#x27;, &#x27;2015-12-01T00:00:00.000000000&#x27;,\n",
       "       &#x27;2015-12-02T00:00:00.000000000&#x27;, &#x27;2015-12-03T00:00:00.000000000&#x27;,\n",
       "       &#x27;2015-12-04T00:00:00.000000000&#x27;, &#x27;2015-12-05T00:00:00.000000000&#x27;,\n",
       "       &#x27;2015-12-06T00:00:00.000000000&#x27;, &#x27;2015-12-08T00:00:00.000000000&#x27;,\n",
       "       &#x27;2015-12-09T00:00:00.000000000&#x27;, &#x27;2015-12-10T00:00:00.000000000&#x27;,\n",
       "       &#x27;2015-12-11T00:00:00.000000000&#x27;, &#x27;2015-12-12T00:00:00.000000000&#x27;,\n",
       "       &#x27;2015-12-13T00:00:00.000000000&#x27;, &#x27;2015-12-14T00:00:00.000000000&#x27;,\n",
       "       &#x27;2015-12-15T00:00:00.000000000&#x27;, &#x27;2015-12-16T00:00:00.000000000&#x27;,\n",
       "       &#x27;2015-12-17T00:00:00.000000000&#x27;, &#x27;2015-12-18T00:00:00.000000000&#x27;,\n",
       "       &#x27;2015-12-19T00:00:00.000000000&#x27;, &#x27;2015-12-20T00:00:00.000000000&#x27;,\n",
       "       &#x27;2015-12-21T00:00:00.000000000&#x27;, &#x27;2015-12-22T00:00:00.000000000&#x27;,\n",
       "       &#x27;2015-12-23T00:00:00.000000000&#x27;, &#x27;2015-12-24T00:00:00.000000000&#x27;,\n",
       "       &#x27;2015-12-25T00:00:00.000000000&#x27;, &#x27;2015-12-26T00:00:00.000000000&#x27;,\n",
       "       &#x27;2015-12-27T00:00:00.000000000&#x27;, &#x27;2015-12-28T00:00:00.000000000&#x27;,\n",
       "       &#x27;2015-12-29T00:00:00.000000000&#x27;, &#x27;2015-12-30T00:00:00.000000000&#x27;,\n",
       "       &#x27;2015-12-31T00:00:00.000000000&#x27;, &#x27;2016-01-01T00:00:00.000000000&#x27;,\n",
       "       &#x27;2016-01-02T00:00:00.000000000&#x27;, &#x27;2016-01-06T00:00:00.000000000&#x27;,\n",
       "       &#x27;2016-01-07T00:00:00.000000000&#x27;, &#x27;2016-01-08T00:00:00.000000000&#x27;,\n",
       "       &#x27;2016-01-09T00:00:00.000000000&#x27;, &#x27;2016-01-10T00:00:00.000000000&#x27;,\n",
       "       &#x27;2016-01-28T00:00:00.000000000&#x27;, &#x27;2016-01-30T00:00:00.000000000&#x27;,\n",
       "       &#x27;2016-01-31T00:00:00.000000000&#x27;, &#x27;2016-12-01T00:00:00.000000000&#x27;,\n",
       "       &#x27;2016-12-02T00:00:00.000000000&#x27;, &#x27;2016-12-03T00:00:00.000000000&#x27;,\n",
       "       &#x27;2016-12-04T00:00:00.000000000&#x27;, &#x27;2016-12-05T00:00:00.000000000&#x27;,\n",
       "       &#x27;2016-12-06T00:00:00.000000000&#x27;, &#x27;2016-12-07T00:00:00.000000000&#x27;,\n",
       "       &#x27;2016-12-12T00:00:00.000000000&#x27;, &#x27;2016-12-14T00:00:00.000000000&#x27;,\n",
       "       &#x27;2016-12-15T00:00:00.000000000&#x27;, &#x27;2016-12-16T00:00:00.000000000&#x27;,\n",
       "       &#x27;2016-12-17T00:00:00.000000000&#x27;, &#x27;2016-12-18T00:00:00.000000000&#x27;,\n",
       "       &#x27;2016-12-19T00:00:00.000000000&#x27;, &#x27;2016-12-20T00:00:00.000000000&#x27;,\n",
       "       &#x27;2016-12-21T00:00:00.000000000&#x27;, &#x27;2016-12-22T00:00:00.000000000&#x27;,\n",
       "       &#x27;2016-12-27T00:00:00.000000000&#x27;, &#x27;2017-01-07T00:00:00.000000000&#x27;,\n",
       "       &#x27;2017-01-08T00:00:00.000000000&#x27;, &#x27;2017-01-09T00:00:00.000000000&#x27;,\n",
       "       &#x27;2017-01-10T00:00:00.000000000&#x27;, &#x27;2017-01-11T00:00:00.000000000&#x27;,\n",
       "       &#x27;2017-01-12T00:00:00.000000000&#x27;, &#x27;2017-01-13T00:00:00.000000000&#x27;,\n",
       "       &#x27;2017-01-14T00:00:00.000000000&#x27;, &#x27;2017-01-15T00:00:00.000000000&#x27;,\n",
       "       &#x27;2017-01-16T00:00:00.000000000&#x27;, &#x27;2017-01-17T00:00:00.000000000&#x27;,\n",
       "       &#x27;2017-01-18T00:00:00.000000000&#x27;, &#x27;2017-01-19T00:00:00.000000000&#x27;,\n",
       "       &#x27;2017-01-20T00:00:00.000000000&#x27;, &#x27;2017-01-21T00:00:00.000000000&#x27;,\n",
       "       &#x27;2017-01-22T00:00:00.000000000&#x27;, &#x27;2017-01-23T00:00:00.000000000&#x27;,\n",
       "       &#x27;2017-01-24T00:00:00.000000000&#x27;, &#x27;2017-01-25T00:00:00.000000000&#x27;,\n",
       "       &#x27;2017-01-26T00:00:00.000000000&#x27;, &#x27;2017-01-27T00:00:00.000000000&#x27;,\n",
       "       &#x27;2017-01-28T00:00:00.000000000&#x27;, &#x27;2017-01-29T00:00:00.000000000&#x27;,\n",
       "       &#x27;2017-01-30T00:00:00.000000000&#x27;, &#x27;2017-12-01T00:00:00.000000000&#x27;,\n",
       "       &#x27;2017-12-02T00:00:00.000000000&#x27;, &#x27;2017-12-03T00:00:00.000000000&#x27;,\n",
       "       &#x27;2017-12-04T00:00:00.000000000&#x27;, &#x27;2017-12-05T00:00:00.000000000&#x27;,\n",
       "       &#x27;2017-12-06T00:00:00.000000000&#x27;, &#x27;2017-12-07T00:00:00.000000000&#x27;,\n",
       "       &#x27;2017-12-09T00:00:00.000000000&#x27;, &#x27;2017-12-10T00:00:00.000000000&#x27;,\n",
       "       &#x27;2017-12-11T00:00:00.000000000&#x27;, &#x27;2017-12-12T00:00:00.000000000&#x27;,\n",
       "       &#x27;2017-12-13T00:00:00.000000000&#x27;, &#x27;2017-12-14T00:00:00.000000000&#x27;,\n",
       "       &#x27;2017-12-15T00:00:00.000000000&#x27;, &#x27;2017-12-16T00:00:00.000000000&#x27;,\n",
       "       &#x27;2017-12-17T00:00:00.000000000&#x27;, &#x27;2017-12-18T00:00:00.000000000&#x27;,\n",
       "       &#x27;2017-12-19T00:00:00.000000000&#x27;, &#x27;2017-12-20T00:00:00.000000000&#x27;,\n",
       "       &#x27;2017-12-21T00:00:00.000000000&#x27;, &#x27;2017-12-22T00:00:00.000000000&#x27;,\n",
       "       &#x27;2017-12-23T00:00:00.000000000&#x27;, &#x27;2017-12-24T00:00:00.000000000&#x27;,\n",
       "       &#x27;2017-12-25T00:00:00.000000000&#x27;, &#x27;2017-12-26T00:00:00.000000000&#x27;,\n",
       "       &#x27;2018-01-14T00:00:00.000000000&#x27;, &#x27;2018-01-16T00:00:00.000000000&#x27;,\n",
       "       &#x27;2018-01-17T00:00:00.000000000&#x27;, &#x27;2018-01-20T00:00:00.000000000&#x27;,\n",
       "       &#x27;2018-01-21T00:00:00.000000000&#x27;, &#x27;2018-01-22T00:00:00.000000000&#x27;,\n",
       "       &#x27;2018-01-24T00:00:00.000000000&#x27;, &#x27;2018-01-25T00:00:00.000000000&#x27;,\n",
       "       &#x27;2018-01-26T00:00:00.000000000&#x27;, &#x27;2018-01-30T00:00:00.000000000&#x27;,\n",
       "       &#x27;2018-01-31T00:00:00.000000000&#x27;, &#x27;2018-12-01T00:00:00.000000000&#x27;,\n",
       "       &#x27;2018-12-02T00:00:00.000000000&#x27;, &#x27;2018-12-03T00:00:00.000000000&#x27;,\n",
       "       &#x27;2018-12-04T00:00:00.000000000&#x27;, &#x27;2018-12-05T00:00:00.000000000&#x27;,\n",
       "       &#x27;2018-12-06T00:00:00.000000000&#x27;, &#x27;2018-12-07T00:00:00.000000000&#x27;,\n",
       "       &#x27;2018-12-08T00:00:00.000000000&#x27;, &#x27;2018-12-09T00:00:00.000000000&#x27;,\n",
       "       &#x27;2018-12-10T00:00:00.000000000&#x27;, &#x27;2018-12-11T00:00:00.000000000&#x27;,\n",
       "       &#x27;2018-12-12T00:00:00.000000000&#x27;, &#x27;2018-12-13T00:00:00.000000000&#x27;,\n",
       "       &#x27;2018-12-14T00:00:00.000000000&#x27;, &#x27;2018-12-15T00:00:00.000000000&#x27;,\n",
       "       &#x27;2018-12-16T00:00:00.000000000&#x27;, &#x27;2018-12-17T00:00:00.000000000&#x27;,\n",
       "       &#x27;2018-12-18T00:00:00.000000000&#x27;, &#x27;2018-12-19T00:00:00.000000000&#x27;,\n",
       "       &#x27;2018-12-20T00:00:00.000000000&#x27;, &#x27;2018-12-21T00:00:00.000000000&#x27;,\n",
       "       &#x27;2018-12-22T00:00:00.000000000&#x27;, &#x27;2018-12-23T00:00:00.000000000&#x27;,\n",
       "       &#x27;2018-12-24T00:00:00.000000000&#x27;, &#x27;2018-12-25T00:00:00.000000000&#x27;,\n",
       "       &#x27;2018-12-26T00:00:00.000000000&#x27;, &#x27;2018-12-27T00:00:00.000000000&#x27;,\n",
       "       &#x27;2018-12-28T00:00:00.000000000&#x27;, &#x27;2018-12-29T00:00:00.000000000&#x27;,\n",
       "       &#x27;2018-12-30T00:00:00.000000000&#x27;, &#x27;2018-12-31T00:00:00.000000000&#x27;],\n",
       "      dtype=&#x27;datetime64[ns]&#x27;)</pre></div></li></ul></div></li><li class='xr-section-item'><input id='section-b6a81373-89a5-48c9-9f65-9d8802cbf5d7' class='xr-section-summary-in' type='checkbox'  checked><label for='section-b6a81373-89a5-48c9-9f65-9d8802cbf5d7' class='xr-section-summary' >Data variables: <span>(1)</span></label><div class='xr-section-inline-details'></div><div class='xr-section-details'><ul class='xr-var-list'><li class='xr-var-item'><div class='xr-var-name'><span>yLRt</span></div><div class='xr-var-dims'>(time)</div><div class='xr-var-dtype'>float32</div><div class='xr-var-preview xr-preview'>0.4677 0.4615 ... 0.2197 0.3012</div><input id='attrs-f1b92e1f-bf95-46bb-aeba-4fa9e7657aa9' class='xr-var-attrs-in' type='checkbox' disabled><label for='attrs-f1b92e1f-bf95-46bb-aeba-4fa9e7657aa9' title='Show/Hide attributes'><svg class='icon xr-icon-file-text2'><use xlink:href='#icon-file-text2'></use></svg></label><input id='data-8f434d43-f772-426d-bb44-3c6830a36ef5' class='xr-var-data-in' type='checkbox'><label for='data-8f434d43-f772-426d-bb44-3c6830a36ef5' title='Show/Hide data repr'><svg class='icon xr-icon-database'><use xlink:href='#icon-database'></use></svg></label><div class='xr-var-attrs'><dl class='xr-attrs'></dl></div><div class='xr-var-data'><pre>array([0.46768504, 0.46148452, 0.439578  , 0.22560443, 0.38918886,\n",
       "       0.47844952, 0.4597278 , 0.37013787, 0.3337696 , 0.41474622,\n",
       "       0.4156716 , 0.4490532 , 0.36600667, 0.3899519 , 0.19083498,\n",
       "       0.11006488, 0.23441876, 0.20563628, 0.30590504, 0.34265405,\n",
       "       0.4431343 , 0.463252  , 0.46070614, 0.40530986, 0.3776257 ,\n",
       "       0.24554935, 0.33679876, 0.30648255, 0.17143601, 0.1774044 ,\n",
       "       0.28780088, 0.25692016, 0.26957935, 0.28171545, 0.27248678,\n",
       "       0.31575403, 0.28966743, 0.31879357, 0.26664838, 0.214563  ,\n",
       "       0.14646041, 0.07590921, 0.08800262, 0.17414957, 0.3148426 ,\n",
       "       0.42068037, 0.46231225, 0.42090508, 0.39725897, 0.4076311 ,\n",
       "       0.41973522, 0.30741352, 0.40421966, 0.43249094, 0.3629264 ,\n",
       "       0.36049747, 0.36187533, 0.40496942, 0.426321  , 0.36134794,\n",
       "       0.35942873, 0.44115806, 0.44830874, 0.4045192 , 0.32541054,\n",
       "       0.29088706, 0.4006219 , 0.46823803, 0.44092223, 0.28734946,\n",
       "       0.18605825, 0.31209317, 0.47158244, 0.43901414, 0.36959264,\n",
       "       0.39836425, 0.41623282, 0.24211535, 0.15894644, 0.1523335 ,\n",
       "       0.19751336, 0.23780447, 0.23865633, 0.32730582, 0.38459736,\n",
       "       0.45442072, 0.32652456, 0.1879042 , 0.30501392, 0.134284  ,\n",
       "       0.24527735, 0.27845177, 0.24931331, 0.31561807, 0.45824513,\n",
       "       0.4757416 , 0.45684803, 0.18147856, 0.11928633, 0.15708245,\n",
       "       0.16360384, 0.13098551, 0.05309752, 0.03921264, 0.06394679,\n",
       "       0.16401915, 0.22435577, 0.23832124, 0.3410385 , 0.3018187 ,\n",
       "       0.28087765, 0.22654703, 0.20539226, 0.19980644, 0.32274374,\n",
       "       0.41683036, 0.45578593, 0.46314484, 0.42527482, 0.3214955 ,\n",
       "       0.36115676, 0.42648897, 0.4399293 , 0.37977853, 0.4702911 ,\n",
       "       0.47299004, 0.3383359 , 0.44570795, 0.31487095, 0.3736374 ,\n",
       "       0.43210718, 0.38217312, 0.07031821, 0.32237032, 0.31719488,\n",
       "       0.2517137 , 0.35238215, 0.1722306 , 0.2355676 , 0.22743708,\n",
       "       0.24679868, 0.1577043 , 0.17680272, 0.17392394, 0.15930344,\n",
       "       0.24308744, 0.2766182 , 0.18561395, 0.11420913, 0.18143252,\n",
       "       0.24604309, 0.25523683, 0.1290204 , 0.20576596, 0.18597719,\n",
       "       0.30963042, 0.28810933, 0.23576826, 0.12350586, 0.19005334,\n",
       "       0.10545753, 0.1216255 , 0.21970704, 0.3012174 ], dtype=float32)</pre></div></li></ul></div></li><li class='xr-section-item'><input id='section-022dd372-4122-4f6d-b797-836c501ae870' class='xr-section-summary-in' type='checkbox' disabled ><label for='section-022dd372-4122-4f6d-b797-836c501ae870' class='xr-section-summary'  title='Expand/collapse section'>Attributes: <span>(0)</span></label><div class='xr-section-inline-details'></div><div class='xr-section-details'><dl class='xr-attrs'></dl></div></li></ul></div></div>"
      ],
      "text/plain": [
       "<xarray.Dataset>\n",
       "Dimensions:  (time: 164)\n",
       "Coordinates:\n",
       "  * time     (time) datetime64[ns] 2015-01-01 2015-01-03 ... 2018-12-31\n",
       "Data variables:\n",
       "    yLRt     (time) float32 0.4677 0.4615 0.4396 0.2256 ... 0.1216 0.2197 0.3012"
      ]
     },
     "execution_count": 61,
     "metadata": {},
     "output_type": "execute_result"
    }
   ],
   "source": [
    "ynft=yt.where(yt==0, drop=True)\n",
    "ynft\n",
    "\n",
    "yWdt=yt.where(yt>0.44, drop=True)\n",
    "#yWdt=yt.where(yt>0.36, drop=True)\n",
    "yWdt\n",
    "\n",
    "yint1t=yt.where(yt>0,drop=True)\n",
    "yintft=yint1t.where(yint1t<0.48,drop=True)\n",
    "#yintft=yint1t.where(yint1t<0.44,drop=True)\n",
    "yintft\n",
    "\n",
    "yLRnft=y_predLin_dst.where(y_predLin_dst.yLRt<0.04,drop=True)\n",
    "\n",
    "yLRWdt=y_predLin_dst.where(y_predLin_dst.yLRt>0.44,drop=True)\n",
    "#yLRWdt=y_predLin_dst.where(y_predLin_dst.yLRt>0.36,drop=True)\n",
    "yLRWdt\n",
    "\n",
    "yLRint1t=y_predLin_dst.where(y_predLin_dst.yLRt>0.039,drop=True)\n",
    "yLRintft=yLRint1t.where(yLRint1t<0.48,drop=True)\n",
    "#yLRintft=yLRint1t.where(yLRint1t<0.36,drop=True)\n",
    "yLRintft"
   ]
  },
  {
   "cell_type": "code",
   "execution_count": 62,
   "metadata": {},
   "outputs": [
    {
     "data": {
      "image/png": "[encoded data removed]",
      "text/plain": [
       "<Figure size 432x288 with 2 Axes>"
      ]
     },
     "metadata": {},
     "output_type": "display_data"
    }
   ],
   "source": [
    "\n",
    "fig = plt.figure()\n",
    "ax = fig.add_axes([0,0,1,1])\n",
    "ax.axis('equal')\n",
    "pieLabs = ['No Fog', 'Intermediate Fog (1-11)', 'Widespread Fog (>11)']\n",
    "piedata = [ynft.shape[0],yintft.shape[0],yWdt.shape[0]]\n",
    "ax.pie(piedata, labels = pieLabs,autopct='%1.2f%%')\n",
    "ax.set_title('Station Observation')\n",
    "\n",
    "ax1 = fig.add_axes([1,0,1,1])\n",
    "ax1.axis('equal')\n",
    "pieLabs = ['No Fog', 'Intermediate Fog (1-11)', 'Widespread Fog (>11)']\n",
    "piedata = [yLRnft.yLRt.shape[0],yLRintft.yLRt.shape[0],yLRWdt.yLRt.shape[0]]\n",
    "ax1.pie(piedata, labels = pieLabs,autopct='%1.2f%%')\n",
    "ax1.set_title('CNN')\n",
    "plt.show()\n",
    "\n"
   ]
  },
  {
   "cell_type": "code",
   "execution_count": 63,
   "metadata": {},
   "outputs": [
    {
     "data": {
      "text/plain": [
       "110"
      ]
     },
     "execution_count": 63,
     "metadata": {},
     "output_type": "execute_result"
    }
   ],
   "source": [
    "yWdt.shape[0]"
   ]
  },
  {
   "cell_type": "code",
   "execution_count": 64,
   "metadata": {},
   "outputs": [
    {
     "data": {
      "text/plain": [
       "106"
      ]
     },
     "execution_count": 64,
     "metadata": {},
     "output_type": "execute_result"
    }
   ],
   "source": [
    "yLRWdt.yLRt.shape[0]"
   ]
  },
  {
   "cell_type": "code",
   "execution_count": 65,
   "metadata": {},
   "outputs": [
    {
     "data": {
      "image/png": "[encoded data removed]",
      "text/plain": [
       "<Figure size 432x288 with 2 Axes>"
      ]
     },
     "metadata": {},
     "output_type": "display_data"
    }
   ],
   "source": [
    "fig = plt.figure()\n",
    "ax = fig.add_axes([0,0,1,1])\n",
    "ax.axis('equal')\n",
    "pieLabs = ['No Fog', 'Intermediate Fog (1-11)', 'Widespread Fog (>11)']\n",
    "piedata = [ynft.shape[0],yintft.shape[0],yWdt.shape[0]]\n",
    "ax.pie(piedata, labels = pieLabs,autopct='%1.2f%%')\n",
    "ax.set_title('Station Observation')\n",
    "\n",
    "ax1 = fig.add_axes([1,0,1,1])\n",
    "ax1.axis('equal')\n",
    "pieLabs = ['No Fog', 'Intermediate Fog (1-11)', 'Widespread Fog (>11)']\n",
    "piedata = [yLRnft.yLRt.shape[0],yLRintft.yLRt.shape[0],yLRWdt.yLRt.shape[0]]\n",
    "ax1.pie(piedata, labels = pieLabs,autopct='%1.2f%%')\n",
    "ax1.set_title('CNN')\n",
    "plt.show()\n"
   ]
  },
  {
   "cell_type": "code",
   "execution_count": 66,
   "metadata": {},
   "outputs": [
    {
     "data": {
      "text/plain": [
       "['pie2dataCNN.joblib']"
      ]
     },
     "execution_count": 66,
     "metadata": {},
     "output_type": "execute_result"
    }
   ],
   "source": [
    "pie1dataCNN= [yLRnft.yLRt.shape[0],yLRintft.yLRt.shape[0],yLRWdt.yLRt.shape[0]]\n",
    "dump(pie1dataCNN,'pie2dataCNN.joblib')"
   ]
  },
  {
   "cell_type": "code",
   "execution_count": null,
   "metadata": {},
   "outputs": [],
   "source": []
  },
  {
   "cell_type": "code",
   "execution_count": null,
   "metadata": {},
   "outputs": [],
   "source": []
  },
  {
   "cell_type": "code",
   "execution_count": null,
   "metadata": {},
   "outputs": [],
   "source": []
  }
 ],
 "metadata": {
  "kernelspec": {
   "display_name": "Python 3",
   "language": "python",
   "name": "python3"
  },
  "language_info": {
   "codemirror_mode": {
    "name": "ipython",
    "version": 3
   },
   "file_extension": ".py",
   "mimetype": "text/x-python",
   "name": "python",
   "nbconvert_exporter": "python",
   "pygments_lexer": "ipython3",
   "version": "3.8.5"
  }
 },
 "nbformat": 4,
 "nbformat_minor": 4
}
