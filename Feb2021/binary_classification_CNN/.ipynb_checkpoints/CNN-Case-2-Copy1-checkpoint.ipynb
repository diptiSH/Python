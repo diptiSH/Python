{
 "cells": [
  {
   "cell_type": "code",
   "execution_count": 1,
   "metadata": {},
   "outputs": [],
   "source": [
    "import xarray as xr\n",
    "import numpy as np\n",
    "import pandas as pd\n",
    "import datetime\n",
    "import matplotlib.pyplot as plt\n",
    "from keras.models import Sequential\n",
    "from keras.layers import Dense, Conv3D, Flatten,MaxPooling3D,AveragePooling3D, concatenate,Input ,SpatialDropout3D,Dropout\n",
    "import keras\n",
    "from math import e\n",
    "from sklearn.model_selection import train_test_split\n",
    "from keras.models import Model\n",
    "from sklearn.preprocessing import StandardScaler\n",
    "from joblib import dump, load\n",
    "from hyperopt import Trials, STATUS_OK, tpe\n",
    "from hyperas import optim\n",
    "from hyperas.distributions import choice, uniform\n",
    "from sklearn.model_selection import KFold"
   ]
  },
  {
   "cell_type": "code",
   "execution_count": 2,
   "metadata": {},
   "outputs": [],
   "source": [
    "fogData = xr.open_dataset('../../../Data/FogData/CombinedFogData_25Stations.nc')\n",
    "#plt.figure(figsize=[16,8])\n",
    "StackFog=fogData.fogdata.stack(a=('years','months','days'))\n",
    "StackFog\n",
    "dd =[];\n",
    "for i in range(StackFog.years.values.shape[0]):\n",
    "    dd=dd+[str(StackFog.years[i].values)+'-'+str(StackFog.months[i].values)+\"-\"+str(StackFog.days[i].values)]\n",
    "fg = xr.Dataset({'fogdata': (('time','stations'), StackFog.values.T)}, coords={'time': pd.to_datetime(dd),'stations': fogData.stations})\n",
    "yAll=fg.fogdata.sum(dim='stations').sel(time=slice('1980-1-1','2018-12-31'))\n",
    "yAll=yAll/25.0"
   ]
  },
  {
   "cell_type": "code",
   "execution_count": 3,
   "metadata": {},
   "outputs": [],
   "source": [
    "#Surface data\n",
    "t2mData = xr.open_dataset('../../../Data/eraDown/ERA5_2degree_Down/DailyMean/ERA5NH_t2m_daily_NovDecJan.nc')\n",
    "d2mData = xr.open_dataset('../../../Data/eraDown/ERA5_2degree_Down/DailyMean/ERA5NH_d2m_daily_NovDecJan.nc')\n",
    "u10Data = xr.open_dataset('../../../Data/eraDown/ERA5_2degree_Down/DailyMean/ERA5NH_u10_daily_NovDecJan.nc')\n",
    "v10Data = xr.open_dataset('../../../Data/eraDown/ERA5_2degree_Down/DailyMean/ERA5NH_v10_daily_NovDecJan.nc')\n",
    "# 850 Data\n",
    "tuv850Data = xr.open_dataset('../../../Data/eraDown/ERA5_2degree_Down/DailyMean/ERA5NH_850_uvt_daily_NovDecJan.nc')\n",
    "z850Data = xr.open_dataset('../../../Data/eraDown/ERA5_2degree_Down/DailyMean/ERA5NH_850_z_daily_NovDecJan.nc')\n",
    "#700 Data\n",
    "w700Data = xr.open_dataset('../../../Data/eraDown/ERA5_2degree_Down/DailyMean/ERA5NH_700_w_daily_NovDecJan.nc')"
   ]
  },
  {
   "cell_type": "code",
   "execution_count": 4,
   "metadata": {},
   "outputs": [],
   "source": [
    "rh = (e**((17.625*(d2mData.d2m.values-273.15))/(243.04+(d2mData.d2m.values-273.15)))/e**((17.625*(t2mData.t2m.values-273.15))/(243.04+(t2mData.t2m.values-273.15))))\n",
    "\n",
    "rh_ds = xr.Dataset({'rh': (('time','latitude','longitude'), rh)}, coords={'time': t2mData.time,'latitude': t2mData.latitude,'longitude': t2mData.longitude})\n"
   ]
  },
  {
   "cell_type": "code",
   "execution_count": 5,
   "metadata": {},
   "outputs": [],
   "source": [
    "# Calculate wind speed \n",
    "ws = ((v10Data.v10.values**2)+(u10Data.u10.values**2))**0.5\n",
    "ws_ds = xr.Dataset({'ws': (('time','latitude','longitude'), ws)}, coords={'time': t2mData.time,'latitude': t2mData.latitude,'longitude': t2mData.longitude})\n"
   ]
  },
  {
   "cell_type": "code",
   "execution_count": 6,
   "metadata": {},
   "outputs": [],
   "source": [
    "#Calculate inv\n",
    "inv=t2mData.t2m.values-tuv850Data.t.values\n",
    "inv_ds = xr.Dataset({'inv': (('time','latitude','longitude'), inv)}, coords={'time': t2mData.time,'latitude': t2mData.latitude,'longitude': t2mData.longitude})\n",
    "inv_ds.attrs\n",
    "inv_ds.attrs['units']='K'\n",
    "inv_ds.attrs['long_name']='t2m - t850'"
   ]
  },
  {
   "cell_type": "code",
   "execution_count": 7,
   "metadata": {},
   "outputs": [],
   "source": [
    "#u shear calculation\n",
    "ushear=(tuv850Data.u.values-u10Data.u10.values)/(z850Data.z.values/9.81) \n",
    "ushear_ds = xr.Dataset({'ushear': (('time','latitude','longitude'), ushear)}, coords={'time': t2mData.time,'latitude': t2mData.latitude,'longitude': t2mData.longitude})\n",
    "ushear_ds.attrs['units']='s-1'\n",
    "ushear_ds.attrs['long_name']='(u10 - u850)/z850'"
   ]
  },
  {
   "cell_type": "code",
   "execution_count": 8,
   "metadata": {},
   "outputs": [],
   "source": [
    "t2m=t2mData.t2m.shift(time=1)\n",
    "ws=ws_ds.ws.shift(time=1)\n",
    "rh=rh_ds.rh.shift(time=1)\n",
    "inv=inv_ds.inv.shift(time=1)\n",
    "w=w700Data.w.shift(time=1)\n",
    "ushear=ushear_ds.ushear.shift(time=1)"
   ]
  },
  {
   "cell_type": "code",
   "execution_count": 9,
   "metadata": {},
   "outputs": [],
   "source": [
    "y=yAll.sel(time=slice('1980-1-1','2010-12-31'))"
   ]
  },
  {
   "cell_type": "code",
   "execution_count": 10,
   "metadata": {},
   "outputs": [],
   "source": [
    "t2mTsAll=t2m[((t2m.time.dt.month>11) | (t2m.time.dt.month<2)) & (t2m.time.dt.year<2020)].sel(time=slice('1980-1-1','2018-12-31'),latitude=slice(35,0),longitude=slice(50,100))\n",
    "wsTsAll=ws[((ws.time.dt.month>11) | (ws.time.dt.month<2)) & (ws.time.dt.year<2020)].sel(time=slice('1980-1-1','2018-12-31'),latitude=slice(35,0),longitude=slice(50,100))\n",
    "rhTsAll=rh[((rh.time.dt.month>11) | (rh.time.dt.month<2)) & (rh.time.dt.year<2020)].sel(time=slice('1980-1-1','2018-12-31'),latitude=slice(35,0),longitude=slice(50,100))\n",
    "invTsAll=inv[((inv.time.dt.month>11) | (inv.time.dt.month<2)) & (inv.time.dt.year<2020)].sel(time=slice('1980-1-1','2018-12-31'),latitude=slice(35,0),longitude=slice(50,100))\n",
    "ushearTsAll=ushear[((ushear.time.dt.month>11) | (ushear.time.dt.month<2)) & (ushear.time.dt.year<2020)].sel(time=slice('1980-1-1','2018-12-31'),latitude=slice(35,0),longitude=slice(50,100))\n",
    "wTsAll=w[((w.time.dt.month>11) | (w.time.dt.month<2)) & (w.time.dt.year<2020)].sel(time=slice('1980-1-1','2018-12-31'),latitude=slice(35,0),longitude=slice(50,100))"
   ]
  },
  {
   "cell_type": "code",
   "execution_count": 11,
   "metadata": {},
   "outputs": [],
   "source": [
    "t1=t2mTsAll.stack(z=(\"latitude\", \"longitude\"))\n",
    "# fit scaler on training data\n",
    "norm = StandardScaler().fit(t1)\n",
    "# transform training data\n",
    "t1.values = norm.transform(t1)\n",
    "t2mTsAll.values=t1.unstack()\n",
    "\n",
    "t1=wsTsAll.stack(z=(\"latitude\", \"longitude\"))\n",
    "# fit scaler on training data\n",
    "norm = StandardScaler().fit(t1)\n",
    "# transform training data\n",
    "t1.values = norm.transform(t1)\n",
    "wsTsAll.values=t1.unstack()\n",
    "\n",
    "t1=rhTsAll.stack(z=(\"latitude\", \"longitude\"))\n",
    "# fit scaler on training data\n",
    "norm = StandardScaler().fit(t1)\n",
    "# transform training data\n",
    "t1.values = norm.transform(t1)\n",
    "rhTsAll.values=t1.unstack()\n",
    "\n",
    "t1=invTsAll.stack(z=(\"latitude\", \"longitude\"))\n",
    "# fit scaler on training data\n",
    "norm = StandardScaler().fit(t1)\n",
    "# transform training data\n",
    "t1.values = norm.transform(t1)\n",
    "invTsAll.values=t1.unstack()\n",
    "\n",
    "t1=ushearTsAll.stack(z=(\"latitude\", \"longitude\"))\n",
    "# fit scaler on training data\n",
    "norm = StandardScaler().fit(t1)\n",
    "# transform training data\n",
    "t1.values = norm.transform(t1)\n",
    "ushearTsAll.values=t1.unstack()\n",
    "\n",
    "t1=wTsAll.stack(z=(\"latitude\", \"longitude\"))\n",
    "# fit scaler on training data\n",
    "norm = StandardScaler().fit(t1)\n",
    "# transform training data\n",
    "t1.values = norm.transform(t1)\n",
    "wTsAll.values=t1.unstack()\n"
   ]
  },
  {
   "cell_type": "code",
   "execution_count": 12,
   "metadata": {},
   "outputs": [],
   "source": [
    "t2mTs=t2mTsAll.sel(time=slice('1980-1-1','2010-12-31'))\n",
    "wsTs=wsTsAll.sel(time=slice('1980-1-1','2010-12-31'))\n",
    "rhTs=rhTsAll.sel(time=slice('1980-1-1','2010-12-31'))\n",
    "invTs=invTsAll.sel(time=slice('1980-1-1','2010-12-31'))\n",
    "wTs=wTsAll.sel(time=slice('1980-1-1','2010-12-31'))\n",
    "ushearTs=ushearTsAll.sel(time=slice('1980-1-1','2010-12-31'))\n"
   ]
  },
  {
   "cell_type": "code",
   "execution_count": 13,
   "metadata": {},
   "outputs": [],
   "source": [
    "t2m_train,t2m_test,ws_train,ws_test,rh_train,rh_test,inv_train,inv_test, w_train, w_test,ushear_train, ushear_test,y_train,y_test= train_test_split( t2mTs,wsTs,rhTs,invTs, wTs,ushearTs,y,test_size=0.20, random_state=0)"
   ]
  },
  {
   "cell_type": "code",
   "execution_count": 14,
   "metadata": {},
   "outputs": [
    {
     "data": {
      "text/plain": [
       "(1537, 18, 26, 1)"
      ]
     },
     "execution_count": 14,
     "metadata": {},
     "output_type": "execute_result"
    }
   ],
   "source": [
    "t2mtrain=t2m_train.values\n",
    "t2mtrain=t2mtrain[:,:,:,None]\n",
    "t2mtrain.shape\n",
    "\n",
    "\n",
    "wstrain=ws_train.values\n",
    "wstrain=wstrain[:,:,:,None]\n",
    "wstrain.shape\n",
    "\n",
    "rhtrain=rh_train.values\n",
    "rhtrain=rhtrain[:,:,:,None]\n",
    "rhtrain.shape\n",
    "\n",
    "\n",
    "invtrain=inv_train.values\n",
    "invtrain=invtrain[:,:,:,None]\n",
    "invtrain.shape\n",
    "\n",
    "wtrain=w_train.values\n",
    "wtrain=wtrain[:,:,:,None]\n",
    "wtrain.shape\n",
    "\n",
    "usheartrain=ushear_train.values\n",
    "usheartrain=usheartrain[:,:,:,None]\n",
    "usheartrain.shape\n"
   ]
  },
  {
   "cell_type": "code",
   "execution_count": 15,
   "metadata": {},
   "outputs": [
    {
     "data": {
      "text/plain": [
       "(385, 18, 26, 1)"
      ]
     },
     "execution_count": 15,
     "metadata": {},
     "output_type": "execute_result"
    }
   ],
   "source": [
    "t2mtest=t2m_test.values\n",
    "t2mtest=t2mtest[:,:,:,None]\n",
    "t2mtest.shape\n",
    "\n",
    "\n",
    "wstest=ws_test.values\n",
    "wstest=wstest[:,:,:,None]\n",
    "wstest.shape\n",
    "\n",
    "rhtest=rh_test.values\n",
    "rhtest=rhtest[:,:,:,None]\n",
    "rhtest.shape\n",
    "\n",
    "\n",
    "invtest=inv_test.values\n",
    "invtest=invtest[:,:,:,None]\n",
    "invtest.shape\n",
    "\n",
    "wtest=w_test.values\n",
    "wtest=wtest[:,:,:,None]\n",
    "wtest.shape\n",
    "\n",
    "usheartest=ushear_test.values\n",
    "usheartest=usheartest[:,:,:,None]\n",
    "usheartest.shape\n"
   ]
  },
  {
   "cell_type": "code",
   "execution_count": 16,
   "metadata": {},
   "outputs": [
    {
     "data": {
      "text/plain": [
       "(385, 1)"
      ]
     },
     "execution_count": 16,
     "metadata": {},
     "output_type": "execute_result"
    }
   ],
   "source": [
    "ytrain=y_train.values\n",
    "ytrain=ytrain[:,None]\n",
    "ytrain.shape\n",
    "ytest=y_test.values\n",
    "ytest=ytest[:,None]\n",
    "ytest.shape"
   ]
  },
  {
   "cell_type": "code",
   "execution_count": 17,
   "metadata": {},
   "outputs": [
    {
     "data": {
      "text/plain": [
       "(5, 1537, 18, 26, 1)"
      ]
     },
     "execution_count": 17,
     "metadata": {},
     "output_type": "execute_result"
    }
   ],
   "source": [
    "#X_test=np.array([t2mtest,rhtest,wstest,invtest,wtest,usheartest,aotest,eutest])\n",
    "X_test=np.array([rhtest,wstest,invtest,wtest,usheartest])\n",
    "X_test.shape\n",
    "\n",
    "#X_train=np.array([t2mtrain,rhtrain,wstrain,invtrain,wtrain,usheartrain,aotrain,eutrain])\n",
    "X_train=np.array([rhtrain,wstrain,invtrain,wtrain,usheartrain])\n",
    "X_train.shape"
   ]
  },
  {
   "cell_type": "code",
   "execution_count": 18,
   "metadata": {},
   "outputs": [
    {
     "data": {
      "text/plain": [
       "(385, 5, 18, 26, 1)"
      ]
     },
     "execution_count": 18,
     "metadata": {},
     "output_type": "execute_result"
    }
   ],
   "source": [
    "X_train_reshape = np.einsum('lkija->klija',X_train)\n",
    "X_train_reshape.shape\n",
    "\n",
    "X_test_reshape = np.einsum('lkija->klija',X_test)\n",
    "X_test_reshape.shape"
   ]
  },
  {
   "cell_type": "code",
   "execution_count": 19,
   "metadata": {},
   "outputs": [
    {
     "name": "stdout",
     "output_type": "stream",
     "text": [
      "Epoch 1/20\n",
      "49/49 [==============================] - 8s 145ms/step - loss: 0.1997 - accuracy: 0.0577 - val_loss: 0.1759 - val_accuracy: 0.0649\n",
      "Epoch 2/20\n",
      "49/49 [==============================] - 6s 126ms/step - loss: 0.1684 - accuracy: 0.0544 - val_loss: 0.1594 - val_accuracy: 0.0649\n",
      "Epoch 3/20\n",
      "49/49 [==============================] - 6s 132ms/step - loss: 0.1515 - accuracy: 0.0620 - val_loss: 0.1216 - val_accuracy: 0.0649\n",
      "Epoch 4/20\n",
      "49/49 [==============================] - 7s 139ms/step - loss: 0.1200 - accuracy: 0.0547 - val_loss: 0.1469 - val_accuracy: 0.0649\n",
      "Epoch 5/20\n",
      "49/49 [==============================] - 7s 135ms/step - loss: 0.1411 - accuracy: 0.0633 - val_loss: 0.1176 - val_accuracy: 0.0649\n",
      "Epoch 6/20\n",
      "49/49 [==============================] - 7s 141ms/step - loss: 0.1127 - accuracy: 0.0745 - val_loss: 0.1101 - val_accuracy: 0.0649\n",
      "Epoch 7/20\n",
      "49/49 [==============================] - 6s 131ms/step - loss: 0.1098 - accuracy: 0.0581 - val_loss: 0.1041 - val_accuracy: 0.0649\n",
      "Epoch 8/20\n",
      "49/49 [==============================] - 6s 129ms/step - loss: 0.0990 - accuracy: 0.0623 - val_loss: 0.0960 - val_accuracy: 0.0649\n",
      "Epoch 9/20\n",
      "49/49 [==============================] - 6s 126ms/step - loss: 0.0979 - accuracy: 0.0549 - val_loss: 0.1076 - val_accuracy: 0.0649\n",
      "Epoch 10/20\n",
      "49/49 [==============================] - 6s 124ms/step - loss: 0.0904 - accuracy: 0.0619 - val_loss: 0.0952 - val_accuracy: 0.0649\n",
      "Epoch 11/20\n",
      "49/49 [==============================] - 6s 125ms/step - loss: 0.0855 - accuracy: 0.0601 - val_loss: 0.0922 - val_accuracy: 0.0649\n",
      "Epoch 12/20\n",
      "49/49 [==============================] - 6s 128ms/step - loss: 0.0858 - accuracy: 0.0592 - val_loss: 0.0945 - val_accuracy: 0.0649\n",
      "Epoch 13/20\n",
      "49/49 [==============================] - 6s 128ms/step - loss: 0.0845 - accuracy: 0.0498 - val_loss: 0.0975 - val_accuracy: 0.0649\n",
      "Epoch 14/20\n",
      "49/49 [==============================] - 6s 126ms/step - loss: 0.0869 - accuracy: 0.0559 - val_loss: 0.0975 - val_accuracy: 0.0623\n",
      "Epoch 15/20\n",
      "49/49 [==============================] - 6s 127ms/step - loss: 0.0815 - accuracy: 0.0640 - val_loss: 0.0907 - val_accuracy: 0.0649\n",
      "Epoch 16/20\n",
      "49/49 [==============================] - 6s 129ms/step - loss: 0.0831 - accuracy: 0.0579 - val_loss: 0.0928 - val_accuracy: 0.0649\n",
      "Epoch 17/20\n",
      "49/49 [==============================] - 6s 130ms/step - loss: 0.0764 - accuracy: 0.0623 - val_loss: 0.0972 - val_accuracy: 0.0649\n",
      "Epoch 18/20\n",
      "49/49 [==============================] - 6s 128ms/step - loss: 0.0770 - accuracy: 0.0572 - val_loss: 0.0958 - val_accuracy: 0.0649\n",
      "Epoch 19/20\n",
      "49/49 [==============================] - 6s 126ms/step - loss: 0.0717 - accuracy: 0.0542 - val_loss: 0.0982 - val_accuracy: 0.0649\n",
      "Epoch 20/20\n",
      "49/49 [==============================] - 6s 130ms/step - loss: 0.0700 - accuracy: 0.0640 - val_loss: 0.0903 - val_accuracy: 0.0649\n",
      "accuracy: 6.49%\n",
      "model Vgg AveragePooling Kernel 32,64 and dropout 0.2 dense 256 lr=0.01\n"
     ]
    },
    {
     "data": {
      "image/png": "[encoded data removed]",
      "text/plain": [
       "<Figure size 432x288 with 1 Axes>"
      ]
     },
     "metadata": {
      "needs_background": "light"
     },
     "output_type": "display_data"
    }
   ],
   "source": [
    "model = Sequential()\n",
    "model.add(Conv3D(32, kernel_size=3, activation='relu',padding='same',input_shape=(X_train_reshape.shape[1],X_train_reshape.shape[2],X_train_reshape.shape[3],1)),)\n",
    "model.add(Conv3D(32, kernel_size=3, activation='relu',padding='same'))\n",
    "model.add(AveragePooling3D(pool_size=2,padding='same'))\n",
    "model.add(Dropout(0.2))\n",
    "model.add(Conv3D(64, kernel_size=3, activation='relu',padding='same'))\n",
    "model.add(Conv3D(64, kernel_size=3, activation='relu',padding='same'))\n",
    "model.add(AveragePooling3D(pool_size=2,padding='same'))\n",
    "model.add(Dropout(0.2))\n",
    "\n",
    "model.add(Flatten())\n",
    "\n",
    "model.add(Dense(256, activation='relu'))\n",
    "model.add(Dense(units=1, activation = 'linear'))\n",
    "\n",
    "adam = keras.optimizers.Adam(lr=0.01)\n",
    "model.compile(optimizer='adam', loss='mae',  metrics='accuracy')\n",
    "history = model.fit(X_train_reshape, ytrain, validation_data=(X_test_reshape, ytest), epochs=20)\n",
    "yy_test = model.predict(X_test_reshape)\n",
    "\n",
    "test_corr = np.corrcoef(yy_test[:,0],ytest[:,0])[0,1]\n",
    "plt.title('corr = %f'%test_corr)\n",
    "\n",
    "plt.plot(yy_test,ytest,'+')\n",
    "scores = model.evaluate(X_test_reshape, ytest, verbose=0)\n",
    "print(\"%s: %.2f%%\" % (model.metrics_names[1], scores[1]*100))\n",
    "print(\"model Vgg AveragePooling Kernel 32,64 and dropout 0.2 dense 256 lr=0.01\") "
   ]
  },
  {
   "cell_type": "code",
   "execution_count": 20,
   "metadata": {},
   "outputs": [],
   "source": [
    "t2mTst=t2mTsAll.sel(time=slice('2011-1-1','2018-12-31'))\n",
    "wsTst=wsTsAll.sel(time=slice('2011-1-1','2018-12-31'))\n",
    "rhTst=rhTsAll.sel(time=slice('2011-1-1','2018-12-31'))\n",
    "invTst=invTsAll.sel(time=slice('2011-1-1','2018-12-31'))\n",
    "wTst=wTsAll.sel(time=slice('2011-1-1','2018-12-31'))\n",
    "ushearTst=ushearTsAll.sel(time=slice('2011-1-1','2018-12-31'))\n",
    "yt=yAll.sel(time=slice('2011-1-1','2018-12-31'))"
   ]
  },
  {
   "cell_type": "code",
   "execution_count": 21,
   "metadata": {},
   "outputs": [
    {
     "data": {
      "text/plain": [
       "(496, 18, 26, 1)"
      ]
     },
     "execution_count": 21,
     "metadata": {},
     "output_type": "execute_result"
    }
   ],
   "source": [
    "t2m_t=t2mTst.values\n",
    "t2m_t=t2m_t[:,:,:,None]\n",
    "t2m_t.shape\n",
    "\n",
    "\n",
    "ws_t=wsTst.values\n",
    "ws_t=ws_t[:,:,:,None]\n",
    "ws_t.shape\n",
    "\n",
    "rh_t=rhTst.values\n",
    "rh_t=rh_t[:,:,:,None]\n",
    "rh_t.shape\n",
    "\n",
    "\n",
    "inv_t=invTst.values\n",
    "inv_t=inv_t[:,:,:,None]\n",
    "inv_t.shape\n",
    "\n",
    "w_t=wTst.values\n",
    "w_t=w_t[:,:,:,None]\n",
    "w_t.shape\n",
    "\n",
    "ushear_t=ushearTst.values\n",
    "ushear_t=ushear_t[:,:,:,None]\n",
    "ushear_t.shape\n"
   ]
  },
  {
   "cell_type": "code",
   "execution_count": 22,
   "metadata": {},
   "outputs": [
    {
     "data": {
      "text/plain": [
       "(5, 496, 18, 26, 1)"
      ]
     },
     "execution_count": 22,
     "metadata": {},
     "output_type": "execute_result"
    }
   ],
   "source": [
    "#X_t=np.array([t2m_t,rh_t,ws_t,inv_t,w_t,ushear_t,ao_t,eu_t])\n",
    "X_t=np.array([rh_t,ws_t,inv_t,w_t,ushear_t])\n",
    "X_t.shape\n"
   ]
  },
  {
   "cell_type": "code",
   "execution_count": 23,
   "metadata": {},
   "outputs": [
    {
     "data": {
      "text/plain": [
       "(496, 5, 18, 26, 1)"
      ]
     },
     "execution_count": 23,
     "metadata": {},
     "output_type": "execute_result"
    }
   ],
   "source": [
    "X_t_reshape = np.einsum('lkija->klija',X_t)\n",
    "X_t_reshape.shape"
   ]
  },
  {
   "cell_type": "code",
   "execution_count": 24,
   "metadata": {},
   "outputs": [],
   "source": [
    "yLRt=model.predict(X_t_reshape)"
   ]
  },
  {
   "cell_type": "code",
   "execution_count": 25,
   "metadata": {},
   "outputs": [
    {
     "data": {
      "text/plain": [
       "[<matplotlib.lines.Line2D at 0x2b8e9d3d3bb0>]"
      ]
     },
     "execution_count": 25,
     "metadata": {},
     "output_type": "execute_result"
    },
    {
     "data": {
      "image/png": "[encoded data removed]",
      "text/plain": [
       "<Figure size 432x288 with 1 Axes>"
      ]
     },
     "metadata": {
      "needs_background": "light"
     },
     "output_type": "display_data"
    }
   ],
   "source": [
    "testcorr = np.corrcoef(yLRt[:,0],yt)[0,1]\n",
    "\n",
    "#acc_svr       = round(regLin.score(Xt, yt) * 100, 2)\n",
    "\n",
    "#print(\"Accuracy of base Linear Regression model is ,\",(acc_svr/100)**0.5)\n",
    "\n",
    "plt.title(' CNN corr = %f'%testcorr)\n",
    "\n",
    "plt.plot(yt,yLRt[:,0],'+')\n"
   ]
  },
  {
   "cell_type": "code",
   "execution_count": 26,
   "metadata": {},
   "outputs": [
    {
     "data": {
      "text/plain": [
       "(1922, 18, 26, 1)"
      ]
     },
     "execution_count": 26,
     "metadata": {},
     "output_type": "execute_result"
    }
   ],
   "source": [
    "t2mAll=t2mTs.values\n",
    "t2mAll=t2mAll[:,:,:,None]\n",
    "t2mAll.shape\n",
    "\n",
    "\n",
    "wsAll=wsTs.values\n",
    "wsAll=wsAll[:,:,:,None]\n",
    "wsAll.shape\n",
    "\n",
    "rhAll=rhTs.values\n",
    "rhAll=rhAll[:,:,:,None]\n",
    "rhAll.shape\n",
    "\n",
    "\n",
    "invAll=invTs.values\n",
    "invAll=invAll[:,:,:,None]\n",
    "invAll.shape\n",
    "\n",
    "wAll=wTs.values\n",
    "wAll=wAll[:,:,:,None]\n",
    "wAll.shape\n",
    "\n",
    "ushearAll=ushearTs.values\n",
    "ushearAll=ushearAll[:,:,:,None]\n",
    "ushearAll.shape\n"
   ]
  },
  {
   "cell_type": "code",
   "execution_count": 27,
   "metadata": {},
   "outputs": [
    {
     "data": {
      "text/plain": [
       "(1922, 5, 18, 26, 1)"
      ]
     },
     "execution_count": 27,
     "metadata": {},
     "output_type": "execute_result"
    }
   ],
   "source": [
    "X_All=np.array([rhAll,wsAll,invAll,wAll,ushearAll])\n",
    "X_All.shape\n",
    "\n",
    "X_All_reshape = np.einsum('lkija->klija',X_All)\n",
    "X_All_reshape.shape"
   ]
  },
  {
   "cell_type": "code",
   "execution_count": 28,
   "metadata": {},
   "outputs": [],
   "source": [
    "yLR=model.predict(X_All_reshape)"
   ]
  },
  {
   "cell_type": "code",
   "execution_count": 29,
   "metadata": {},
   "outputs": [
    {
     "data": {
      "text/plain": [
       "<matplotlib.legend.Legend at 0x2b8e232d6ca0>"
      ]
     },
     "execution_count": 29,
     "metadata": {},
     "output_type": "execute_result"
    },
    {
     "data": {
      "image/png": "[encoded data removed]",
      "text/plain": [
       "<Figure size 1080x360 with 1 Axes>"
      ]
     },
     "metadata": {
      "needs_background": "light"
     },
     "output_type": "display_data"
    }
   ],
   "source": [
    "y_predLin_ds=xr.Dataset({'yLR': (('time'), yLR[:,0])}, coords={'time': y.time})\n",
    "dump(y_predLin_ds.yLR,'TS1dataCNN_2.joblib')\n",
    "plt.figure(figsize=[15,5])\n",
    "y.resample(time='1Y').mean().plot(label='Obs')\n",
    "y_predLin_ds.resample(time='1Y').mean().yLR.plot(label='Pred_CNN')\n",
    "#dump(y,'TS1dataObs_1.joblib')\n",
    "plt.ylim(0, 0.6)\n",
    "plt.legend()\n"
   ]
  },
  {
   "cell_type": "code",
   "execution_count": 30,
   "metadata": {},
   "outputs": [
    {
     "name": "stdout",
     "output_type": "stream",
     "text": [
      "117\n",
      "1442\n",
      "363\n",
      "78\n",
      "1527\n",
      "317\n",
      "1922\n",
      "1922\n"
     ]
    }
   ],
   "source": [
    "ynf=y.where(y<0.040, drop=True)\n",
    "print(ynf.shape[0])\n",
    "\n",
    "yint1=y.where(y>=0.04,drop=True)\n",
    "yintf=yint1.where(yint1<0.48,drop=True)\n",
    "print(yintf.shape[0])\n",
    "\n",
    "yWd=y.where(y>=0.48, drop=True)\n",
    "print(yWd.shape[0])\n",
    "\n",
    "yLRnf=y_predLin_ds.where(y_predLin_ds.yLR<0.04,drop=True)\n",
    "print(yLRnf.yLR.shape[0])\n",
    "\n",
    "yLRint1=y_predLin_ds.where(y_predLin_ds.yLR>=0.04,drop=True)\n",
    "yLRintf=yLRint1.where(yLRint1<0.48,drop=True)\n",
    "print(yLRintf.yLR.shape[0])\n",
    "\n",
    "yLRWd=y_predLin_ds.where(y_predLin_ds.yLR>=0.48,drop=True)\n",
    "print(yLRWd.yLR.shape[0])\n",
    "\n",
    "print((ynf.shape[0]+yintf.shape[0]+yWd.shape[0]))\n",
    "print((yLRnf.yLR.shape[0]+yLRintf.yLR.shape[0]+yLRWd.yLR.shape[0]))"
   ]
  },
  {
   "cell_type": "code",
   "execution_count": 31,
   "metadata": {},
   "outputs": [
    {
     "data": {
      "text/plain": [
       "Text(0.5, 1.0, 'CNN')"
      ]
     },
     "execution_count": 31,
     "metadata": {},
     "output_type": "execute_result"
    },
    {
     "data": {
      "image/png": "[encoded data removed]",
      "text/plain": [
       "<Figure size 720x360 with 2 Axes>"
      ]
     },
     "metadata": {},
     "output_type": "display_data"
    }
   ],
   "source": [
    "fig = plt.figure(figsize=[10,5])\n",
    "ax = fig.add_axes([0,0,1,1])\n",
    "ax.axis('equal')\n",
    "pieLabs = ['No Fog', 'Intermediate Fog (1-11)', 'Widespread Fog (>11)']\n",
    "piedata = [ynf.shape[0],yintf.shape[0],yWd.shape[0]]\n",
    "ax.pie(piedata, labels = pieLabs,autopct='%1.2f%%')\n",
    "ax.set_title('Station Observation')\n",
    "ax1 = fig.add_axes([1,0,1,1])\n",
    "ax1.axis('equal')\n",
    "pieLabs = ['No Fog', 'Intermediate Fog (1-11)', 'Widespread Fog (>11)']\n",
    "piedata = [yLRnf.yLR.shape[0],yLRintf.yLR.shape[0],yLRWd.yLR.shape[0]]\n",
    "ax1.pie(piedata, labels = pieLabs,autopct='%1.2f%%')\n",
    "ax1.set_title('CNN')"
   ]
  },
  {
   "cell_type": "code",
   "execution_count": 32,
   "metadata": {},
   "outputs": [
    {
     "data": {
      "text/plain": [
       "['pie1dataCNN_2.joblib']"
      ]
     },
     "execution_count": 32,
     "metadata": {},
     "output_type": "execute_result"
    }
   ],
   "source": [
    "pie1dataObs = [ynf.shape[0],yintf.shape[0],yWd.shape[0]]\n",
    "pie1dataLR = [yLRnf.yLR.shape[0],yLRintf.yLR.shape[0],yLRWd.yLR.shape[0]]\n",
    "#dump(pie1dataObs, 'pie1dataObs_1.joblib') \n",
    "dump(pie1dataLR,'pie1dataCNN_2.joblib')"
   ]
  },
  {
   "cell_type": "code",
   "execution_count": 33,
   "metadata": {},
   "outputs": [
    {
     "data": {
      "text/plain": [
       "<matplotlib.legend.Legend at 0x2b8e9e342a90>"
      ]
     },
     "execution_count": 33,
     "metadata": {},
     "output_type": "execute_result"
    },
    {
     "data": {
      "image/png": "[encoded data removed]",
      "text/plain": [
       "<Figure size 1080x360 with 1 Axes>"
      ]
     },
     "metadata": {
      "needs_background": "light"
     },
     "output_type": "display_data"
    }
   ],
   "source": [
    "y_predLin_dst=xr.Dataset({'yLRt': (('time'), yLRt[:,0])}, coords={'time': yt.time})\n",
    "dump(y_predLin_dst.yLRt,'TS2dataCNN_2.joblib')\n",
    "plt.figure(figsize=[15,5])\n",
    "yt.resample(time='1Y').mean().plot(label='Obs')\n",
    "y_predLin_dst.resample(time='1Y').mean().yLRt.plot(label='Pred_CNN')\n",
    "##dump(yt,'TS2dataObs_1.joblib')\n",
    "plt.ylim(0, 0.6)\n",
    "plt.legend()"
   ]
  },
  {
   "cell_type": "code",
   "execution_count": 34,
   "metadata": {},
   "outputs": [
    {
     "name": "stdout",
     "output_type": "stream",
     "text": [
      "8\n",
      "263\n",
      "225\n",
      "496\n",
      "1\n",
      "312\n",
      "183\n",
      "496\n"
     ]
    }
   ],
   "source": [
    "ynft=yt.where(yt<0.040, drop=True)\n",
    "print(ynft.shape[0])\n",
    "\n",
    "yint1t=yt.where(yt>=0.04,drop=True)\n",
    "yintft=yint1t.where(yint1t<0.48,drop=True)\n",
    "print(yintft.shape[0])\n",
    "\n",
    "yWdt=yt.where(yt>=0.48, drop=True)\n",
    "print(yWdt.shape[0])\n",
    "\n",
    "print((ynft.shape[0]+yintft.shape[0]+yWdt.shape[0]))\n",
    "\n",
    "yLRnft=y_predLin_dst.where(y_predLin_dst.yLRt<0.04,drop=True)\n",
    "print(yLRnft.yLRt.shape[0])\n",
    "\n",
    "yLRint1t=y_predLin_dst.where(y_predLin_dst.yLRt>=0.04,drop=True)\n",
    "yLRintft=yLRint1t.where(yLRint1t<0.48,drop=True)\n",
    "print(yLRintft.yLRt.shape[0])\n",
    "\n",
    "yLRWdt=y_predLin_dst.where(y_predLin_dst.yLRt>=0.48,drop=True)\n",
    "print(yLRWdt.yLRt.shape[0])\n",
    "\n",
    "print((yLRnft.yLRt.shape[0]+yLRintft.yLRt.shape[0]+yLRWdt.yLRt.shape[0]))"
   ]
  },
  {
   "cell_type": "code",
   "execution_count": 35,
   "metadata": {},
   "outputs": [
    {
     "data": {
      "image/png": "[encoded data removed]",
      "text/plain": [
       "<Figure size 432x288 with 2 Axes>"
      ]
     },
     "metadata": {},
     "output_type": "display_data"
    }
   ],
   "source": [
    "fig = plt.figure()\n",
    "ax = fig.add_axes([0,0,1,1])\n",
    "ax.axis('equal')\n",
    "pieLabs = ['No Fog', 'Intermediate Fog (1-11)', 'Widespread Fog (>11)']\n",
    "piedata = [ynft.shape[0],yintft.shape[0],yWdt.shape[0]]\n",
    "ax.pie(piedata, labels = pieLabs,autopct='%1.2f%%')\n",
    "ax.set_title('Station Observation')\n",
    "\n",
    "ax1 = fig.add_axes([1,0,1,1])\n",
    "ax1.axis('equal')\n",
    "pieLabs = ['No Fog', 'Intermediate Fog (1-11)', 'Widespread Fog (>11)']\n",
    "piedata = [yLRnft.yLRt.shape[0],yLRintft.yLRt.shape[0],yLRWdt.yLRt.shape[0]]\n",
    "ax1.pie(piedata, labels = pieLabs,autopct='%1.2f%%')\n",
    "ax1.set_title('CNN')\n",
    "plt.show()"
   ]
  },
  {
   "cell_type": "code",
   "execution_count": 36,
   "metadata": {},
   "outputs": [
    {
     "data": {
      "text/plain": [
       "['pie2dataCNN_2.joblib']"
      ]
     },
     "execution_count": 36,
     "metadata": {},
     "output_type": "execute_result"
    }
   ],
   "source": [
    "pie1dataObs = [ynft.shape[0],yintft.shape[0],yWdt.shape[0]]\n",
    "pie1dataLR = [yLRnft.yLRt.shape[0],yLRintft.yLRt.shape[0],yLRWdt.yLRt.shape[0]]\n",
    "#dump(pie1dataObs, 'pie2dataObs_1.joblib') \n",
    "dump(pie1dataLR,'pie2dataCNN_2.joblib')"
   ]
  },
  {
   "cell_type": "code",
   "execution_count": null,
   "metadata": {},
   "outputs": [],
   "source": []
  },
  {
   "cell_type": "code",
   "execution_count": null,
   "metadata": {},
   "outputs": [],
   "source": []
  }
 ],
 "metadata": {
  "kernelspec": {
   "display_name": "Python 3",
   "language": "python",
   "name": "python3"
  },
  "language_info": {
   "codemirror_mode": {
    "name": "ipython",
    "version": 3
   },
   "file_extension": ".py",
   "mimetype": "text/x-python",
   "name": "python",
   "nbconvert_exporter": "python",
   "pygments_lexer": "ipython3",
   "version": "3.8.5"
  }
 },
 "nbformat": 4,
 "nbformat_minor": 4
}
