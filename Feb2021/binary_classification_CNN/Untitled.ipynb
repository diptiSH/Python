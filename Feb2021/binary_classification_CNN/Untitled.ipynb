{
 "cells": [
  {
   "cell_type": "code",
   "execution_count": 1,
   "metadata": {},
   "outputs": [],
   "source": [
    "import xarray as xr\n",
    "import numpy as np\n",
    "import pandas as pd\n",
    "import datetime\n",
    "import matplotlib.pyplot as plt\n",
    "from keras.models import Sequential\n",
    "from keras.layers import Dense, Conv2D, Conv3D, Flatten,MaxPooling2D, MaxPooling3D,AveragePooling3D, concatenate,Input ,SpatialDropout3D,Dropout\n",
    "import keras\n",
    "from math import e\n",
    "from sklearn.model_selection import train_test_split\n",
    "from keras.models import Model\n",
    "from sklearn.preprocessing import StandardScaler\n",
    "from joblib import dump, load\n",
    "from hyperopt import Trials, STATUS_OK, tpe\n",
    "from hyperas import optim\n",
    "from hyperas.distributions import choice, uniform\n",
    "from sklearn.model_selection import KFold\n",
    "from sklearn.metrics import plot_confusion_matrix\n",
    "from sklearn.metrics import confusion_matrix , ConfusionMatrixDisplay\n",
    "from keras.optimizers import SGD,RMSprop\n",
    "from imblearn.over_sampling import SMOTE\n",
    "from imblearn.over_sampling import ADASYN\n",
    "from imblearn.over_sampling import SVMSMOTE\n"
   ]
  },
  {
   "cell_type": "code",
   "execution_count": 36,
   "metadata": {},
   "outputs": [],
   "source": [
    "fogData = xr.open_dataset('../../../Data/FogData/CombinedFogData_25Stations.nc')\n",
    "#plt.figure(figsize=[16,8])\n",
    "StackFog=fogData.fogdata.stack(a=('years','months','days'))\n",
    "StackFog\n",
    "dd =[];\n",
    "for i in range(StackFog.years.values.shape[0]):\n",
    "    dd=dd+[str(StackFog.years[i].values)+'-'+str(StackFog.months[i].values)+\"-\"+str(StackFog.days[i].values)]\n",
    "fg = xr.Dataset({'fogdata': (('time','stations'), StackFog.values.T)}, coords={'time': pd.to_datetime(dd),'stations': fogData.stations})\n",
    "yAll_Old=fg.fogdata.sum(dim='stations').sel(time=slice('1980-1-1','2014-12-31'))\n"
   ]
  },
  {
   "cell_type": "code",
   "execution_count": 28,
   "metadata": {},
   "outputs": [],
   "source": [
    "yAll1=xr.where(yAll_Old<12,0,5)"
   ]
  },
  {
   "cell_type": "code",
   "execution_count": 29,
   "metadata": {},
   "outputs": [],
   "source": []
  },
  {
   "cell_type": "code",
   "execution_count": null,
   "metadata": {},
   "outputs": [],
   "source": []
  },
  {
   "cell_type": "code",
   "execution_count": 4,
   "metadata": {},
   "outputs": [],
   "source": [
    "#Surface data\n",
    "t2mData = xr.open_dataset('../../../Data/eraDown/ERA5_2degree_Down/DailyMean/ERA5NH_t2m_daily_NovDecJan.nc')\n",
    "d2mData = xr.open_dataset('../../../Data/eraDown/ERA5_2degree_Down/DailyMean/ERA5NH_d2m_daily_NovDecJan.nc')\n"
   ]
  },
  {
   "cell_type": "code",
   "execution_count": 5,
   "metadata": {},
   "outputs": [],
   "source": [
    "rh = (e**((17.625*(d2mData.d2m.values-273.15))/(243.04+(d2mData.d2m.values-273.15)))/e**((17.625*(t2mData.t2m.values-273.15))/(243.04+(t2mData.t2m.values-273.15))))\n",
    "\n",
    "rh_ds = xr.Dataset({'rh': (('time','latitude','longitude'), rh)}, coords={'time': t2mData.time,'latitude': t2mData.latitude,'longitude': t2mData.longitude})\n"
   ]
  },
  {
   "cell_type": "code",
   "execution_count": 6,
   "metadata": {},
   "outputs": [],
   "source": [
    "rh = rh_ds.rh"
   ]
  },
  {
   "cell_type": "code",
   "execution_count": 7,
   "metadata": {},
   "outputs": [],
   "source": [
    "#rh=rh_ds.rh.shift(time=1)"
   ]
  },
  {
   "cell_type": "code",
   "execution_count": 8,
   "metadata": {},
   "outputs": [],
   "source": [
    "y=yAll.sel(time=slice('1980-1-1','2014-12-31'))"
   ]
  },
  {
   "cell_type": "code",
   "execution_count": 9,
   "metadata": {},
   "outputs": [],
   "source": [
    "rhTsAll  = rh[((rh.time.dt.month>11) | (rh.time.dt.month<2)) & (rh.time.dt.year<2020)].sel(time=slice('1980-1-1','2018-12-31'),latitude=slice(35,0),longitude=slice(50,100))"
   ]
  },
  {
   "cell_type": "code",
   "execution_count": 10,
   "metadata": {},
   "outputs": [],
   "source": [
    "rhTs=rhTsAll.sel(time=slice('1980-1-1','2014-12-31'))"
   ]
  },
  {
   "cell_type": "code",
   "execution_count": 11,
   "metadata": {},
   "outputs": [
    {
     "data": {
      "text/plain": [
       "(2170, 18, 26, 1)"
      ]
     },
     "execution_count": 11,
     "metadata": {},
     "output_type": "execute_result"
    }
   ],
   "source": [
    "rhTs=rhTs.values\n",
    "rhTs=rhTs[:,:,:,None]\n",
    "rhTs.shape"
   ]
  },
  {
   "cell_type": "code",
   "execution_count": 12,
   "metadata": {},
   "outputs": [
    {
     "data": {
      "text/plain": [
       "<matplotlib.colorbar.Colorbar at 0x2b409d896e50>"
      ]
     },
     "execution_count": 12,
     "metadata": {},
     "output_type": "execute_result"
    },
    {
     "data": {
      "image/png": "[encoded data removed]",
      "text/plain": [
       "<Figure size 432x288 with 2 Axes>"
      ]
     },
     "metadata": {
      "needs_background": "light"
     },
     "output_type": "display_data"
    }
   ],
   "source": [
    "c = plt.pcolor(rhTs[0,:,:,0])\n",
    "plt.colorbar(c)"
   ]
  },
  {
   "cell_type": "code",
   "execution_count": 78,
   "metadata": {},
   "outputs": [],
   "source": [
    "itx = np.where(y==0)"
   ]
  },
  {
   "cell_type": "code",
   "execution_count": 91,
   "metadata": {},
   "outputs": [],
   "source": [
    "import random\n",
    "\n",
    "itx_ = random.sample(itx[0].tolist(),500)"
   ]
  },
  {
   "cell_type": "code",
   "execution_count": 37,
   "metadata": {},
   "outputs": [],
   "source": [
    "rhTso = rhTs[:,:,:]\n",
    "yo    = yAll_Old[:] "
   ]
  },
  {
   "cell_type": "code",
   "execution_count": 81,
   "metadata": {},
   "outputs": [],
   "source": [
    "model = Sequential()\n",
    "model.add(Conv2D(32, kernel_size=(2,2), activation='relu',\n",
    "                 input_shape=(rhTso.shape[1],\n",
    "                              rhTso.shape[2],1)),)\n",
    "model.add(Conv2D(32, kernel_size=(2,2), activation='relu'))\n",
    "model.add(MaxPooling2D(pool_size=2))\n",
    "#model.add(MaxPooling2D(pool_size=4))\n",
    "\n",
    "\n",
    "model.add(Conv2D(64, kernel_size=(2,2), activation='relu'))\n",
    "model.add(Conv2D(64, kernel_size=(2,2), activation='relu'))\n",
    "model.add(MaxPooling2D(pool_size=2))\n",
    "\n",
    "model.add(Flatten())\n",
    "\n",
    "model.add(Dense(64, activation='relu'))\n",
    "model.add(Dense(64, activation='relu'))\n",
    "\n",
    "model.add(Dense(1, activation = 'linear'))"
   ]
  },
  {
   "cell_type": "code",
   "execution_count": 82,
   "metadata": {},
   "outputs": [
    {
     "name": "stdout",
     "output_type": "stream",
     "text": [
      "Model: \"sequential_9\"\n",
      "_________________________________________________________________\n",
      "Layer (type)                 Output Shape              Param #   \n",
      "=================================================================\n",
      "conv2d_84 (Conv2D)           (None, 17, 25, 32)        160       \n",
      "_________________________________________________________________\n",
      "conv2d_85 (Conv2D)           (None, 16, 24, 32)        4128      \n",
      "_________________________________________________________________\n",
      "max_pooling2d_27 (MaxPooling (None, 8, 12, 32)         0         \n",
      "_________________________________________________________________\n",
      "conv2d_86 (Conv2D)           (None, 7, 11, 64)         8256      \n",
      "_________________________________________________________________\n",
      "conv2d_87 (Conv2D)           (None, 6, 10, 64)         16448     \n",
      "_________________________________________________________________\n",
      "max_pooling2d_28 (MaxPooling (None, 3, 5, 64)          0         \n",
      "_________________________________________________________________\n",
      "flatten_9 (Flatten)          (None, 960)               0         \n",
      "_________________________________________________________________\n",
      "dense_27 (Dense)             (None, 64)                61504     \n",
      "_________________________________________________________________\n",
      "dense_28 (Dense)             (None, 64)                4160      \n",
      "_________________________________________________________________\n",
      "dense_29 (Dense)             (None, 1)                 65        \n",
      "=================================================================\n",
      "Total params: 94,721\n",
      "Trainable params: 94,721\n",
      "Non-trainable params: 0\n",
      "_________________________________________________________________\n"
     ]
    }
   ],
   "source": [
    "model.summary()"
   ]
  },
  {
   "cell_type": "code",
   "execution_count": 14,
   "metadata": {},
   "outputs": [
    {
     "data": {
      "text/plain": [
       "(2170, 18, 26, 1)"
      ]
     },
     "execution_count": 14,
     "metadata": {},
     "output_type": "execute_result"
    }
   ],
   "source": [
    "rhTso.shape"
   ]
  },
  {
   "cell_type": "code",
   "execution_count": 39,
   "metadata": {},
   "outputs": [],
   "source": [
    "import keras,os\n",
    "from keras.models import Sequential\n",
    "from keras.layers import Dense, Conv2D, MaxPool2D , Flatten\n",
    "from keras.preprocessing.image import ImageDataGenerator\n",
    "import numpy as np"
   ]
  },
  {
   "cell_type": "code",
   "execution_count": 73,
   "metadata": {},
   "outputs": [],
   "source": [
    "model = Sequential()\n",
    "model.add(Conv2D(input_shape=(18,26,1),filters=64,kernel_size=(3,3),padding=\"same\", activation=\"relu\"))\n",
    "model.add(Conv2D(filters=64,kernel_size=(3,3),padding=\"same\", activation=\"relu\"))\n",
    "model.add(MaxPool2D(pool_size=(2,2),strides=(2,2)))\n",
    "model.add(Conv2D(filters=128, kernel_size=(3,3), padding=\"same\", activation=\"relu\"))\n",
    "model.add(Conv2D(filters=128, kernel_size=(3,3), padding=\"same\", activation=\"relu\"))\n",
    "model.add(MaxPool2D(pool_size=(2,2),strides=(2,2)))\n",
    "model.add(Conv2D(filters=256, kernel_size=(3,3), padding=\"same\", activation=\"relu\"))\n",
    "model.add(Conv2D(filters=256, kernel_size=(3,3), padding=\"same\", activation=\"relu\"))\n",
    "model.add(Conv2D(filters=256, kernel_size=(3,3), padding=\"same\", activation=\"relu\"))\n",
    "model.add(MaxPool2D(pool_size=(2,2),strides=(2,2)))\n",
    "model.add(Conv2D(filters=512, kernel_size=(3,3), padding=\"same\", activation=\"relu\"))\n",
    "model.add(Conv2D(filters=512, kernel_size=(3,3), padding=\"same\", activation=\"relu\"))\n",
    "model.add(Conv2D(filters=512, kernel_size=(3,3), padding=\"same\", activation=\"relu\"))\n",
    "model.add(MaxPool2D(pool_size=(2,2),strides=(1,1)))\n",
    "model.add(Conv2D(filters=512, kernel_size=(3,3), padding=\"same\", activation=\"relu\"))\n",
    "model.add(Conv2D(filters=512, kernel_size=(3,3), padding=\"same\", activation=\"relu\"))\n",
    "model.add(Conv2D(filters=512, kernel_size=(3,3), padding=\"same\", activation=\"relu\"))\n",
    "#model.add(MaxPool2D(pool_size=(2,2),strides=(1,1)))\n",
    "\n",
    "model.add(Flatten())\n",
    "model.add(Dense(units=4096,activation=\"relu\"))\n",
    "model.add(Dense(units=4096,activation=\"relu\"))\n",
    "model.add(Dense(units=1, activation=\"linear\"))"
   ]
  },
  {
   "cell_type": "code",
   "execution_count": 83,
   "metadata": {},
   "outputs": [],
   "source": [
    "from keras.optimizers import Adam\n",
    "opt = Adam(lr=0.001)\n",
    "model.compile(optimizer=opt, loss=keras.losses.mse, metrics=['mse'])"
   ]
  },
  {
   "cell_type": "code",
   "execution_count": 92,
   "metadata": {},
   "outputs": [
    {
     "name": "stdout",
     "output_type": "stream",
     "text": [
      "WARNING:tensorflow:Keras is training/fitting/evaluating on array-like data. Keras may not be optimized for this format, so if your input data format is supported by TensorFlow I/O (https://github.com/tensorflow/io) we recommend using that to load a Dataset instead.\n",
      "Epoch 1/60\n",
      "68/68 [==============================] - 1s 6ms/step - loss: 4.6581 - mse: 4.6581\n",
      "Epoch 2/60\n",
      "68/68 [==============================] - 0s 6ms/step - loss: 4.1388 - mse: 4.1388\n",
      "Epoch 3/60\n",
      "68/68 [==============================] - 0s 6ms/step - loss: 4.3994 - mse: 4.3994\n",
      "Epoch 4/60\n",
      "68/68 [==============================] - 0s 6ms/step - loss: 4.5343 - mse: 4.5343\n",
      "Epoch 5/60\n",
      "68/68 [==============================] - 0s 6ms/step - loss: 3.8251 - mse: 3.8251\n",
      "Epoch 6/60\n",
      "68/68 [==============================] - 0s 6ms/step - loss: 3.7836 - mse: 3.7836\n",
      "Epoch 7/60\n",
      "68/68 [==============================] - 0s 6ms/step - loss: 3.5413 - mse: 3.5413\n",
      "Epoch 8/60\n",
      "68/68 [==============================] - 0s 6ms/step - loss: 3.3209 - mse: 3.3209\n",
      "Epoch 9/60\n",
      "68/68 [==============================] - 0s 6ms/step - loss: 3.0986 - mse: 3.0986\n",
      "Epoch 10/60\n",
      "68/68 [==============================] - 0s 6ms/step - loss: 3.5125 - mse: 3.5125\n",
      "Epoch 11/60\n",
      "68/68 [==============================] - 0s 6ms/step - loss: 2.9249 - mse: 2.9249\n",
      "Epoch 12/60\n",
      "68/68 [==============================] - 0s 6ms/step - loss: 3.0637 - mse: 3.0637\n",
      "Epoch 13/60\n",
      "68/68 [==============================] - 0s 6ms/step - loss: 2.9933 - mse: 2.9933\n",
      "Epoch 14/60\n",
      "68/68 [==============================] - 0s 6ms/step - loss: 3.0437 - mse: 3.0437\n",
      "Epoch 15/60\n",
      "68/68 [==============================] - 0s 6ms/step - loss: 2.4766 - mse: 2.4766\n",
      "Epoch 16/60\n",
      "68/68 [==============================] - 0s 6ms/step - loss: 2.6433 - mse: 2.6433\n",
      "Epoch 17/60\n",
      "68/68 [==============================] - 0s 6ms/step - loss: 2.5337 - mse: 2.5337\n",
      "Epoch 18/60\n",
      "68/68 [==============================] - 0s 6ms/step - loss: 2.3671 - mse: 2.3671\n",
      "Epoch 19/60\n",
      "68/68 [==============================] - 0s 6ms/step - loss: 2.1352 - mse: 2.1352\n",
      "Epoch 20/60\n",
      "68/68 [==============================] - 0s 6ms/step - loss: 2.1753 - mse: 2.1753\n",
      "Epoch 21/60\n",
      "68/68 [==============================] - 0s 6ms/step - loss: 1.9982 - mse: 1.9982\n",
      "Epoch 22/60\n",
      "68/68 [==============================] - 0s 6ms/step - loss: 1.8116 - mse: 1.8116\n",
      "Epoch 23/60\n",
      "68/68 [==============================] - 0s 6ms/step - loss: 1.7882 - mse: 1.7882\n",
      "Epoch 24/60\n",
      "68/68 [==============================] - 0s 6ms/step - loss: 1.8380 - mse: 1.8380\n",
      "Epoch 25/60\n",
      "68/68 [==============================] - 0s 6ms/step - loss: 1.6176 - mse: 1.6176\n",
      "Epoch 26/60\n",
      "68/68 [==============================] - 0s 6ms/step - loss: 1.6047 - mse: 1.6047\n",
      "Epoch 27/60\n",
      "68/68 [==============================] - 0s 6ms/step - loss: 1.7032 - mse: 1.7032\n",
      "Epoch 28/60\n",
      "68/68 [==============================] - 0s 6ms/step - loss: 1.5084 - mse: 1.5084\n",
      "Epoch 29/60\n",
      "68/68 [==============================] - 0s 6ms/step - loss: 1.3048 - mse: 1.3048\n",
      "Epoch 30/60\n",
      "68/68 [==============================] - 0s 6ms/step - loss: 1.2847 - mse: 1.2847\n",
      "Epoch 31/60\n",
      "68/68 [==============================] - 0s 6ms/step - loss: 1.2679 - mse: 1.2679\n",
      "Epoch 32/60\n",
      "68/68 [==============================] - 0s 6ms/step - loss: 1.2457 - mse: 1.2457\n",
      "Epoch 33/60\n",
      "68/68 [==============================] - 0s 6ms/step - loss: 1.3863 - mse: 1.3863\n",
      "Epoch 34/60\n",
      "68/68 [==============================] - 0s 6ms/step - loss: 1.0577 - mse: 1.0577\n",
      "Epoch 35/60\n",
      "68/68 [==============================] - 0s 6ms/step - loss: 0.9462 - mse: 0.9462\n",
      "Epoch 36/60\n",
      "68/68 [==============================] - 0s 6ms/step - loss: 0.8160 - mse: 0.8160\n",
      "Epoch 37/60\n",
      "68/68 [==============================] - 0s 6ms/step - loss: 0.9453 - mse: 0.9453\n",
      "Epoch 38/60\n",
      "68/68 [==============================] - 0s 6ms/step - loss: 0.9516 - mse: 0.9516\n",
      "Epoch 39/60\n",
      "68/68 [==============================] - 0s 6ms/step - loss: 0.8109 - mse: 0.8109\n",
      "Epoch 40/60\n",
      "68/68 [==============================] - 0s 6ms/step - loss: 0.9171 - mse: 0.9171\n",
      "Epoch 41/60\n",
      "68/68 [==============================] - 0s 6ms/step - loss: 0.8178 - mse: 0.8178\n",
      "Epoch 42/60\n",
      "68/68 [==============================] - 0s 6ms/step - loss: 0.7430 - mse: 0.7430\n",
      "Epoch 43/60\n",
      "68/68 [==============================] - 0s 6ms/step - loss: 0.6669 - mse: 0.6669\n",
      "Epoch 44/60\n",
      "68/68 [==============================] - 0s 6ms/step - loss: 0.6169 - mse: 0.6169\n",
      "Epoch 45/60\n",
      "68/68 [==============================] - 0s 6ms/step - loss: 0.5584 - mse: 0.5584\n",
      "Epoch 46/60\n",
      "68/68 [==============================] - 0s 6ms/step - loss: 0.5439 - mse: 0.5439\n",
      "Epoch 47/60\n",
      "68/68 [==============================] - 0s 6ms/step - loss: 0.6724 - mse: 0.6724\n",
      "Epoch 48/60\n",
      "68/68 [==============================] - 0s 6ms/step - loss: 0.5632 - mse: 0.5632\n",
      "Epoch 49/60\n",
      "68/68 [==============================] - 0s 6ms/step - loss: 0.4452 - mse: 0.4452\n",
      "Epoch 50/60\n",
      "68/68 [==============================] - 0s 6ms/step - loss: 0.4716 - mse: 0.4716\n",
      "Epoch 51/60\n",
      "68/68 [==============================] - 0s 6ms/step - loss: 0.5360 - mse: 0.5360\n",
      "Epoch 52/60\n",
      "68/68 [==============================] - 0s 6ms/step - loss: 0.4387 - mse: 0.4387\n",
      "Epoch 53/60\n",
      "68/68 [==============================] - 0s 6ms/step - loss: 0.4137 - mse: 0.4137\n",
      "Epoch 54/60\n",
      "68/68 [==============================] - 0s 6ms/step - loss: 0.4765 - mse: 0.4765\n",
      "Epoch 55/60\n",
      "68/68 [==============================] - 0s 6ms/step - loss: 0.4285 - mse: 0.4285\n",
      "Epoch 56/60\n",
      "68/68 [==============================] - 0s 6ms/step - loss: 0.3527 - mse: 0.3527\n",
      "Epoch 57/60\n",
      "68/68 [==============================] - 0s 6ms/step - loss: 0.3407 - mse: 0.3407\n",
      "Epoch 58/60\n",
      "68/68 [==============================] - 0s 6ms/step - loss: 0.2848 - mse: 0.2848\n",
      "Epoch 59/60\n",
      "68/68 [==============================] - 0s 6ms/step - loss: 0.3985 - mse: 0.3985\n",
      "Epoch 60/60\n",
      "68/68 [==============================] - 0s 5ms/step - loss: 0.4970 - mse: 0.4970\n"
     ]
    }
   ],
   "source": [
    "history = model.fit(rhTso, yo,epochs=60)\n",
    "yy_test = model.predict(rhTso)\n",
    "\n",
    "#cm=confusion_matrix(yo, yy_test)\n",
    "\n",
    "#disp = ConfusionMatrixDisplay(confusion_matrix=cm)\n",
    "#disp.plot() "
   ]
  },
  {
   "cell_type": "code",
   "execution_count": 93,
   "metadata": {},
   "outputs": [
    {
     "data": {
      "text/plain": [
       "array([[ 7.4434114],\n",
       "       [10.404143 ],\n",
       "       [ 9.610148 ],\n",
       "       ...,\n",
       "       [18.539762 ],\n",
       "       [16.919958 ],\n",
       "       [18.956644 ]], dtype=float32)"
      ]
     },
     "execution_count": 93,
     "metadata": {},
     "output_type": "execute_result"
    }
   ],
   "source": [
    "yy_test"
   ]
  },
  {
   "cell_type": "code",
   "execution_count": 94,
   "metadata": {},
   "outputs": [
    {
     "data": {
      "text/plain": [
       "[<matplotlib.lines.Line2D at 0x2b41b02bf760>]"
      ]
     },
     "execution_count": 94,
     "metadata": {},
     "output_type": "execute_result"
    },
    {
     "data": {
      "image/png": "[encoded data removed]",
      "text/plain": [
       "<Figure size 432x288 with 1 Axes>"
      ]
     },
     "metadata": {
      "needs_background": "light"
     },
     "output_type": "display_data"
    }
   ],
   "source": [
    "plt.plot(yy_test,yo,'.')\n"
   ]
  },
  {
   "cell_type": "code",
   "execution_count": 95,
   "metadata": {},
   "outputs": [
    {
     "data": {
      "text/plain": [
       "array([[1.        , 0.99323957],\n",
       "       [0.99323957, 1.        ]])"
      ]
     },
     "execution_count": 95,
     "metadata": {},
     "output_type": "execute_result"
    }
   ],
   "source": [
    "np.corrcoef(yy_test[:,0],yo[:])"
   ]
  },
  {
   "cell_type": "code",
   "execution_count": 156,
   "metadata": {},
   "outputs": [
    {
     "name": "stdout",
     "output_type": "stream",
     "text": [
      "WARNING:tensorflow:Keras is training/fitting/evaluating on array-like data. Keras may not be optimized for this format, so if your input data format is supported by TensorFlow I/O (https://github.com/tensorflow/io) we recommend using that to load a Dataset instead.\n",
      "Epoch 1/15\n",
      "16/16 [==============================] - 1s 7ms/step - loss: 0.0000e+00 - acc: 0.0000e+00\n",
      "Epoch 2/15\n",
      "16/16 [==============================] - 0s 5ms/step - loss: 0.0000e+00 - acc: 0.0000e+00\n",
      "Epoch 3/15\n",
      "16/16 [==============================] - 0s 5ms/step - loss: 0.0000e+00 - acc: 0.0000e+00\n",
      "Epoch 4/15\n",
      "16/16 [==============================] - 0s 6ms/step - loss: 0.0000e+00 - acc: 0.0000e+00\n",
      "Epoch 5/15\n",
      "16/16 [==============================] - 0s 5ms/step - loss: 0.0000e+00 - acc: 0.0000e+00\n",
      "Epoch 6/15\n",
      "16/16 [==============================] - 0s 6ms/step - loss: 0.0000e+00 - acc: 0.0000e+00\n",
      "Epoch 7/15\n",
      "16/16 [==============================] - 0s 5ms/step - loss: 0.0000e+00 - acc: 0.0000e+00\n",
      "Epoch 8/15\n",
      "16/16 [==============================] - 0s 5ms/step - loss: 0.0000e+00 - acc: 0.0000e+00\n",
      "Epoch 9/15\n",
      "16/16 [==============================] - 0s 5ms/step - loss: 0.0000e+00 - acc: 0.0000e+00\n",
      "Epoch 10/15\n",
      "16/16 [==============================] - 0s 5ms/step - loss: 0.0000e+00 - acc: 0.0000e+00\n",
      "Epoch 11/15\n",
      "16/16 [==============================] - 0s 5ms/step - loss: 0.0000e+00 - acc: 0.0000e+00\n",
      "Epoch 12/15\n",
      "16/16 [==============================] - 0s 5ms/step - loss: 0.0000e+00 - acc: 0.0000e+00\n",
      "Epoch 13/15\n",
      "16/16 [==============================] - 0s 5ms/step - loss: 0.0000e+00 - acc: 0.0000e+00\n",
      "Epoch 14/15\n",
      "16/16 [==============================] - 0s 4ms/step - loss: 0.0000e+00 - acc: 0.0000e+00\n",
      "Epoch 15/15\n",
      "16/16 [==============================] - 0s 4ms/step - loss: 0.0000e+00 - acc: 0.0000e+00\n"
     ]
    },
    {
     "data": {
      "text/plain": [
       "<sklearn.metrics._plot.confusion_matrix.ConfusionMatrixDisplay at 0x2aebc3027fd0>"
      ]
     },
     "execution_count": 156,
     "metadata": {},
     "output_type": "execute_result"
    },
    {
     "data": {
      "image/png": "[encoded data removed]",
      "text/plain": [
       "<Figure size 432x288 with 2 Axes>"
      ]
     },
     "metadata": {
      "needs_background": "light"
     },
     "output_type": "display_data"
    }
   ],
   "source": [
    "model.compile(optimizer='adam', loss='categorical_crossentropy',  metrics='acc')\n",
    "\n",
    "history = model.fit(rhTso, yo, epochs=5)\n",
    "yy_test = model.predict(rhTso)\n",
    "\n",
    "cm=confusion_matrix(yo, yy_test)\n",
    "\n",
    "disp = ConfusionMatrixDisplay(confusion_matrix=cm)\n",
    "disp.plot() "
   ]
  },
  {
   "cell_type": "code",
   "execution_count": 130,
   "metadata": {},
   "outputs": [
    {
     "data": {
      "text/plain": [
       "[<matplotlib.lines.Line2D at 0x2aecd5df7e80>]"
      ]
     },
     "execution_count": 130,
     "metadata": {},
     "output_type": "execute_result"
    },
    {
     "data": {
      "image/png": "[encoded data removed]",
      "text/plain": [
       "<Figure size 432x288 with 1 Axes>"
      ]
     },
     "metadata": {
      "needs_background": "light"
     },
     "output_type": "display_data"
    }
   ],
   "source": [
    "plt.plot(yy_test,'.')"
   ]
  },
  {
   "cell_type": "code",
   "execution_count": null,
   "metadata": {},
   "outputs": [],
   "source": []
  },
  {
   "cell_type": "code",
   "execution_count": null,
   "metadata": {},
   "outputs": [],
   "source": []
  }
 ],
 "metadata": {
  "kernelspec": {
   "display_name": "Python 3",
   "language": "python",
   "name": "python3"
  },
  "language_info": {
   "codemirror_mode": {
    "name": "ipython",
    "version": 3
   },
   "file_extension": ".py",
   "mimetype": "text/x-python",
   "name": "python",
   "nbconvert_exporter": "python",
   "pygments_lexer": "ipython3",
   "version": "3.8.5"
  }
 },
 "nbformat": 4,
 "nbformat_minor": 4
}
