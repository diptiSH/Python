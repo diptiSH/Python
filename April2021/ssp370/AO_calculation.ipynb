{
 "cells": [
  {
   "cell_type": "code",
   "execution_count": 1,
   "metadata": {},
   "outputs": [],
   "source": [
    "import xarray as xr\n",
    "import numpy as np\n",
    "import pandas as pd\n",
    "import datetime\n",
    "import matplotlib.pyplot as plt\n",
    "from keras.models import Sequential\n",
    "from keras.layers import Dense, Conv3D, Flatten,MaxPooling3D,AveragePooling3D, concatenate,Input ,SpatialDropout3D,Dropout\n",
    "import keras\n",
    "from math import e\n",
    "from keras.models import Model\n",
    "from sklearn.preprocessing import StandardScaler\n",
    "from joblib import dump, load\n",
    "from keras.models import load_model\n",
    "from sklearn.decomposition import PCA"
   ]
  },
  {
   "cell_type": "code",
   "execution_count": null,
   "metadata": {},
   "outputs": [],
   "source": []
  },
  {
   "cell_type": "code",
   "execution_count": 2,
   "metadata": {},
   "outputs": [
    {
     "name": "stdout",
     "output_type": "stream",
     "text": [
      "(10341,)\n",
      "(10341,)\n",
      "(10341,)\n",
      "(10341,)\n",
      "(10101,)\n"
     ]
    }
   ],
   "source": [
    "# AO Calculations\n",
    "\n",
    "modelName=['IPSL-CM6A-LR','MPI-ESM1-2-LR','EC-Earth3','ACCESS-CM2','IITM-ESM']\n",
    "\n",
    "for m in modelName :\n",
    "\n",
    "    # Calculate AO - input std normal latitude wighted 1000mb z\n",
    "    ZData = xr.open_dataset('../../../Data/ssp370/'+m+'/processed/weighted1000Std.nc')\n",
    "    #SLPData = xr.open_dataset('../eraDown/ERA5_2degree_Down/DailyMean/weighted1000.nc')\n",
    "\n",
    "    ZData.zg.values\n",
    "    ZData.zg.values=xr.where(np.isnan(ZData.zg.values),  0.000000000001,ZData.zg.values)\n",
    "    ZData.zg.values\n",
    "\n",
    "    t1=ZData.zg.stack(z=(\"lat\", \"lon\"))\n",
    "    # fit scaler on training data\n",
    "    zg_PC =PCA().fit_transform(t1)\n",
    "\n",
    "    print(zg_PC[:,0].shape)\n",
    "    AO_ds = xr.Dataset({'AO': (('time'), zg_PC[:,0])}, coords={'time': ZData.time})\n",
    "\n",
    "\n",
    "    norm = StandardScaler().fit(zg_PC[:,0].reshape(-1, 1))\n",
    "    # transform training data\n",
    "    aoX = norm.transform(zg_PC[:,0].reshape(-1, 1))\n",
    "    aoX.shape\n",
    "\n",
    "    AO_ds = xr.Dataset({'AO': (('time'), aoX[:,0]*-1.0)}, coords={'time': ZData.time})\n",
    "\n",
    "    AO_ds.to_netcdf(m+'-AOindex-NDJF-Daily-2015-2100.nc')\n",
    "    AO_ds.AO.where(AO_ds.AO==AO_ds.AO.max(), drop=True).squeeze()\n",
    "\n",
    "    AO_ds.AO.where(AO_ds.AO==AO_ds.AO.min(), drop=True).squeeze()"
   ]
  },
  {
   "cell_type": "code",
   "execution_count": null,
   "metadata": {},
   "outputs": [],
   "source": []
  }
 ],
 "metadata": {
  "kernelspec": {
   "display_name": "Python 3",
   "language": "python",
   "name": "python3"
  },
  "language_info": {
   "codemirror_mode": {
    "name": "ipython",
    "version": 3
   },
   "file_extension": ".py",
   "mimetype": "text/x-python",
   "name": "python",
   "nbconvert_exporter": "python",
   "pygments_lexer": "ipython3",
   "version": "3.8.5"
  }
 },
 "nbformat": 4,
 "nbformat_minor": 4
}
