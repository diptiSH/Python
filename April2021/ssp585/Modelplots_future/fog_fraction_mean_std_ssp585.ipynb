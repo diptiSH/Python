{
 "cells": [
  {
   "cell_type": "code",
   "execution_count": 1,
   "metadata": {},
   "outputs": [],
   "source": [
    "import xarray as xr\n",
    "import numpy as np\n",
    "import pandas as pd\n",
    "import datetime\n",
    "import matplotlib.pyplot as plt\n",
    "from joblib import dump, load\n",
    "import statistics as st"
   ]
  },
  {
   "cell_type": "markdown",
   "metadata": {},
   "source": [
    "# Obs historical"
   ]
  },
  {
   "cell_type": "code",
   "execution_count": 2,
   "metadata": {},
   "outputs": [],
   "source": [
    "y   = load('../../../March2021/Observation_models/ObsY.joblib') "
   ]
  },
  {
   "cell_type": "code",
   "execution_count": 3,
   "metadata": {},
   "outputs": [],
   "source": [
    "def getFogTS( dArray ):\n",
    "   #\"This function gives TS of  for each season e.g. if year\n",
    "   #  is 1981 then it will contain values between 1dec1980 to 31jan1981\"\n",
    "    fg=list()\n",
    "    \n",
    "    for yr in range(1981,2015,1):\n",
    "        dStart=datetime.datetime(yr-1, 12, 1)\n",
    "        dEnd=datetime.datetime(yr, 1, 31)\n",
    "        ySMean = dArray.sel(time=slice(dStart,dEnd)).mean(dim='time').values.tolist()\n",
    "        #print(yAct)\n",
    "        fg.append(ySMean)\n",
    "        \n",
    "    \n",
    "    return fg"
   ]
  },
  {
   "cell_type": "code",
   "execution_count": 4,
   "metadata": {},
   "outputs": [
    {
     "name": "stdout",
     "output_type": "stream",
     "text": [
      "0.2832827324478178\n",
      "0.11073566489111651\n"
     ]
    }
   ],
   "source": [
    "fO=getFogTS(y)\n",
    "ObsMean=st.mean(fO)\n",
    "print(ObsMean)\n",
    "ObsStd=st.stdev(fO)\n",
    "print(ObsStd)"
   ]
  },
  {
   "cell_type": "markdown",
   "metadata": {},
   "source": [
    "# Future projections"
   ]
  },
  {
   "cell_type": "code",
   "execution_count": 5,
   "metadata": {},
   "outputs": [],
   "source": [
    "def getFogTS_firsthalf( dArray ):\n",
    "   #\"This function gives TS of  for each season e.g. if year\n",
    "   #  is 1981 then it will contain values between 1dec1980 to 31jan1981\"\n",
    "    # 2015-2065\n",
    "    fg=list()\n",
    "    \n",
    "    for yr in range(2015,2066,1):\n",
    "        dStart=datetime.datetime(yr-1, 12, 1)\n",
    "        dEnd=datetime.datetime(yr, 1, 31)\n",
    "        ySMean = dArray.sel(time=slice(dStart,dEnd)).mean(dim='time').values.tolist()\n",
    "        #print(yAct)\n",
    "        fg.append(ySMean)\n",
    "        \n",
    "    \n",
    "    return fg"
   ]
  },
  {
   "cell_type": "code",
   "execution_count": 6,
   "metadata": {},
   "outputs": [],
   "source": [
    "def getFogTS_secondhalf( dArray ):\n",
    "   #\"This function gives TS of  for each season e.g. if year\n",
    "   #  is 1981 then it will contain values between 1dec1980 to 31jan1981\"\n",
    "    # 2065-2100\n",
    "    fg=list()\n",
    "    \n",
    "    for yr in range(2065,2101,1):\n",
    "        dStart=datetime.datetime(yr-1, 12, 1)\n",
    "        dEnd=datetime.datetime(yr, 1, 31)\n",
    "        ySMean = dArray.sel(time=slice(dStart,dEnd)).mean(dim='time').values.tolist()\n",
    "        #print(yAct)\n",
    "        fg.append(ySMean)\n",
    "        \n",
    "    \n",
    "    return fg"
   ]
  },
  {
   "cell_type": "code",
   "execution_count": 8,
   "metadata": {},
   "outputs": [],
   "source": [
    "ACCESS_CM2_ssp585   = load('ACCESS-CM2_ssp585.joblib') \n",
    "IITM_ESM_ssp585   = load('IITM-ESM_ssp585.joblib') \n",
    "IPSL_CM6A_LR_ssp585   = load('IPSL-CM6A-LR_ssp585.joblib') \n",
    "MPI_ESM1_2_LR_ssp585   = load('MPI-ESM1-2-LR_ssp585.joblib') \n",
    "#EC_Earth3_ssp585   = load('EC-Earth3_ssp585.joblib') "
   ]
  },
  {
   "cell_type": "code",
   "execution_count": 9,
   "metadata": {},
   "outputs": [
    {
     "name": "stdout",
     "output_type": "stream",
     "text": [
      "[0.2997527490643894, 0.2839086724846971, 0.29780761926781896, 0.3142096200117878]\n",
      "[0.09839325758768254, 0.06586894867864994, 0.06704105316797666, 0.0907111372863815]\n",
      "[0.2595296680099434, 0.2657206559346782, 0.2571311530967553, 0.26051479081312817]\n",
      "[0.08656105823546638, 0.0621670528447215, 0.06180178931948069, 0.05215633542614749]\n"
     ]
    }
   ],
   "source": [
    "#mList=(ACCESS_CM2_ssp585,IITM_ESM_ssp585,IPSL_CM6A_LR_ssp585,MPI_ESM1_2_LR_ssp585,EC_Earth3_ssp585)\n",
    "mList=(ACCESS_CM2_ssp585,IITM_ESM_ssp585,IPSL_CM6A_LR_ssp585,MPI_ESM1_2_LR_ssp585)\n",
    "\n",
    "firstMean=list()\n",
    "firstSD=list()\n",
    "secondMean=list()\n",
    "secondSD=list()\n",
    "\n",
    "for m in mList:\n",
    "    fO=getFogTS_firsthalf(m)\n",
    "    firstMean.append(st.mean(fO))\n",
    "    firstSD.append(st.stdev(fO))\n",
    "    fO1=getFogTS_secondhalf(m)\n",
    "    secondMean.append(st.mean(fO1))\n",
    "    secondSD.append(st.stdev(fO1))\n",
    "\n",
    "print(firstMean) \n",
    "print(firstSD) \n",
    "print(secondMean) \n",
    "print(secondSD) \n",
    "   \n",
    "    "
   ]
  },
  {
   "cell_type": "code",
   "execution_count": null,
   "metadata": {},
   "outputs": [],
   "source": []
  }
 ],
 "metadata": {
  "kernelspec": {
   "display_name": "Python 3",
   "language": "python",
   "name": "python3"
  },
  "language_info": {
   "codemirror_mode": {
    "name": "ipython",
    "version": 3
   },
   "file_extension": ".py",
   "mimetype": "text/x-python",
   "name": "python",
   "nbconvert_exporter": "python",
   "pygments_lexer": "ipython3",
   "version": "3.8.5"
  }
 },
 "nbformat": 4,
 "nbformat_minor": 4
}
