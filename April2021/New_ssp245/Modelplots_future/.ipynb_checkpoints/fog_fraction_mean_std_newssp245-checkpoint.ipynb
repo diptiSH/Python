{
 "cells": [
  {
   "cell_type": "code",
   "execution_count": 10,
   "metadata": {},
   "outputs": [],
   "source": [
    "import xarray as xr\n",
    "import numpy as np\n",
    "import pandas as pd\n",
    "import datetime\n",
    "import matplotlib.pyplot as plt\n",
    "from joblib import dump, load\n",
    "import statistics as st"
   ]
  },
  {
   "cell_type": "markdown",
   "metadata": {},
   "source": [
    "# Obs historical"
   ]
  },
  {
   "cell_type": "code",
   "execution_count": 11,
   "metadata": {},
   "outputs": [],
   "source": [
    "y   = load('../../../March2021/Observation_models/ObsY.joblib') "
   ]
  },
  {
   "cell_type": "code",
   "execution_count": 12,
   "metadata": {},
   "outputs": [],
   "source": [
    "def getFogTS( dArray ):\n",
    "   #\"This function gives TS of  for each season e.g. if year\n",
    "   #  is 1981 then it will contain values between 1dec1980 to 31jan1981\"\n",
    "    fg=list()\n",
    "    \n",
    "    for yr in range(1981,2015,1):\n",
    "        dStart=datetime.datetime(yr-1, 12, 1)\n",
    "        dEnd=datetime.datetime(yr, 1, 31)\n",
    "        ySMean = dArray.sel(time=slice(dStart,dEnd)).mean(dim='time').values.tolist()\n",
    "        #print(yAct)\n",
    "        fg.append(ySMean)\n",
    "        \n",
    "    \n",
    "    return fg"
   ]
  },
  {
   "cell_type": "code",
   "execution_count": 13,
   "metadata": {},
   "outputs": [
    {
     "name": "stdout",
     "output_type": "stream",
     "text": [
      "0.2832827324478178\n",
      "0.11073566489111651\n"
     ]
    }
   ],
   "source": [
    "fO=getFogTS(y)\n",
    "ObsMean=st.mean(fO)\n",
    "print(ObsMean)\n",
    "ObsStd=st.stdev(fO)\n",
    "print(ObsStd)"
   ]
  },
  {
   "cell_type": "markdown",
   "metadata": {},
   "source": [
    "# Future projections"
   ]
  },
  {
   "cell_type": "code",
   "execution_count": 14,
   "metadata": {},
   "outputs": [],
   "source": [
    "def getFogTS_firsthalf( dArray ):\n",
    "   #\"This function gives TS of  for each season e.g. if year\n",
    "   #  is 1981 then it will contain values between 1dec1980 to 31jan1981\"\n",
    "    # 2015-2065\n",
    "    fg=list()\n",
    "    \n",
    "    for yr in range(2015,2066,1):\n",
    "        dStart=datetime.datetime(yr-1, 12, 1)\n",
    "        dEnd=datetime.datetime(yr, 1, 31)\n",
    "        ySMean = dArray.sel(time=slice(dStart,dEnd)).mean(dim='time').values.tolist()\n",
    "        #print(yAct)\n",
    "        fg.append(ySMean)\n",
    "        \n",
    "    \n",
    "    return fg"
   ]
  },
  {
   "cell_type": "code",
   "execution_count": 15,
   "metadata": {},
   "outputs": [],
   "source": [
    "def getFogTS_secondhalf( dArray ):\n",
    "   #\"This function gives TS of  for each season e.g. if year\n",
    "   #  is 1981 then it will contain values between 1dec1980 to 31jan1981\"\n",
    "    # 2065-2100\n",
    "    fg=list()\n",
    "    \n",
    "    for yr in range(2065,2101,1):\n",
    "        dStart=datetime.datetime(yr-1, 12, 1)\n",
    "        dEnd=datetime.datetime(yr, 1, 31)\n",
    "        ySMean = dArray.sel(time=slice(dStart,dEnd)).mean(dim='time').values.tolist()\n",
    "        #print(yAct)\n",
    "        fg.append(ySMean)\n",
    "        \n",
    "    \n",
    "    return fg"
   ]
  },
  {
   "cell_type": "code",
   "execution_count": 16,
   "metadata": {},
   "outputs": [],
   "source": [
    "def getFogTS_secondhalf2( dArray ):\n",
    "   #\"This function gives TS of  for each season e.g. if year\n",
    "   #  is 1981 then it will contain values between 1dec1980 to 31jan1981\"\n",
    "    # 2065-2100\n",
    "    fg=list()\n",
    "    \n",
    "    for yr in range(2065,2100,1):\n",
    "        dStart=datetime.datetime(yr-1, 12, 1)\n",
    "        dEnd=datetime.datetime(yr, 1, 31)\n",
    "        ySMean = dArray.sel(time=slice(dStart,dEnd)).mean(dim='time').values.tolist()\n",
    "        #print(yAct)\n",
    "        fg.append(ySMean)\n",
    "        \n",
    "    \n",
    "    return fg"
   ]
  },
  {
   "cell_type": "code",
   "execution_count": 17,
   "metadata": {},
   "outputs": [],
   "source": [
    "ACCESS_CM2_ssp245   = load('ACCESS-CM2_ssp245.joblib') \n",
    "IITM_ESM_ssp245   = load('IITM-ESM_ssp245.joblib') \n",
    "IPSL_CM6A_LR_ssp245   = load('IPSL-CM6A-LR_ssp245.joblib') \n",
    "MPI_ESM1_2_LR_ssp245   = load('MPI-ESM1-2-LR_ssp245.joblib') \n",
    "EC_Earth3_ssp245   = load('EC-Earth3_ssp245.joblib') "
   ]
  },
  {
   "cell_type": "code",
   "execution_count": null,
   "metadata": {},
   "outputs": [],
   "source": []
  },
  {
   "cell_type": "code",
   "execution_count": 18,
   "metadata": {},
   "outputs": [
    {
     "name": "stdout",
     "output_type": "stream",
     "text": [
      "[0.3316900240732174, 0.34624047694252985, 0.28422725083781225, 0.34612224996089935, 0.35611289622736914]\n",
      "[0.0875478934981216, 0.06491371019449102, 0.06952406943907967, 0.07302981751751704, 0.09811465158757551]\n",
      "[0.21942297224369314, 0.3402848001037325, 0.2874595829182201, 0.2870667320158746, 0.281989929990636]\n",
      "[0.09418283266230569, 0.06273786802072871, 0.08746581998585697, 0.08013172915376152, 0.09814704181013444]\n"
     ]
    }
   ],
   "source": [
    "mList=(ACCESS_CM2_ssp245,IITM_ESM_ssp245,IPSL_CM6A_LR_ssp245,MPI_ESM1_2_LR_ssp245,EC_Earth3_ssp245)\n",
    "\n",
    "firstMean=list()\n",
    "firstSD=list()\n",
    "secondMean=list()\n",
    "secondSD=list()\n",
    "n=1\n",
    "\n",
    "for m in mList:\n",
    "    fO=getFogTS_firsthalf(m)\n",
    "    firstMean.append(st.mean(fO))\n",
    "    firstSD.append(st.stdev(fO))\n",
    "    if(n==2) :\n",
    "        fO1=getFogTS_secondhalf2(m)\n",
    "    else :\n",
    "        fO1=getFogTS_secondhalf(m)\n",
    "    \n",
    "    secondMean.append(st.mean(fO1))\n",
    "    secondSD.append(st.stdev(fO1))\n",
    "    n=n+1\n",
    "\n",
    "print(firstMean) \n",
    "print(firstSD) \n",
    "print(secondMean) \n",
    "print(secondSD) \n",
    "   \n",
    "    "
   ]
  },
  {
   "cell_type": "code",
   "execution_count": 19,
   "metadata": {},
   "outputs": [
    {
     "name": "stdout",
     "output_type": "stream",
     "text": [
      "[0.34624047694252985]\n",
      "[0.06491371019449102]\n",
      "[0.3402848001037325]\n",
      "[0.06273786802072871]\n"
     ]
    }
   ],
   "source": [
    "mList=[IITM_ESM_ssp245]\n",
    "\n",
    "firstMean=list()\n",
    "firstSD=list()\n",
    "secondMean=list()\n",
    "secondSD=list()\n",
    "\n",
    "for m in mList:\n",
    "    fO=getFogTS_firsthalf(m)\n",
    "    firstMean.append(st.mean(fO))\n",
    "    firstSD.append(st.stdev(fO))\n",
    "    fO1=getFogTS_secondhalf2(m)\n",
    "    secondMean.append(st.mean(fO1))\n",
    "    secondSD.append(st.stdev(fO1))\n",
    "\n",
    "print(firstMean) \n",
    "print(firstSD) \n",
    "print(secondMean) \n",
    "print(secondSD) \n",
    "   \n",
    "    "
   ]
  },
  {
   "cell_type": "code",
   "execution_count": 20,
   "metadata": {},
   "outputs": [
    {
     "name": "stdout",
     "output_type": "stream",
     "text": [
      "[17.08797822130456, 22.2243494867126, 0.3334189775115983, 22.182614863282183, 25.70935515561896]\n",
      "[-20.939750003573682, -41.379581494075126, -37.21619000758169, -34.05031920896908, -11.397424051186139]\n",
      "[-22.5427648386186, 20.121970429812478, 1.474445842254674, 1.3357678159059125, -0.4563647229786485]\n",
      "[-14.948058735265453, -43.34447887009373, -21.01386660579514, -27.6369277842392, -11.368174014541873]\n"
     ]
    },
    {
     "data": {
      "text/plain": [
       "['../../Future_projection_plots/FF_Newssp245_secondSD.joblib']"
      ]
     },
     "execution_count": 20,
     "metadata": {},
     "output_type": "execute_result"
    }
   ],
   "source": [
    "mList=(ACCESS_CM2_ssp245,IITM_ESM_ssp245,IPSL_CM6A_LR_ssp245,MPI_ESM1_2_LR_ssp245,EC_Earth3_ssp245)\n",
    "#mList=(ACCESS_CM2_ssp245,IITM_ESM_ssp245,IPSL_CM6A_LR_ssp245,MPI_ESM1_2_LR_ssp245)\n",
    "\n",
    "firstMean=list()\n",
    "firstSD=list()\n",
    "secondMean=list()\n",
    "secondSD=list()\n",
    "n=1\n",
    "\n",
    "for m in mList:\n",
    "    \n",
    "    fO=getFogTS_firsthalf(m)\n",
    "    RCM=(st.mean(fO)-ObsMean)*100.0/ObsMean\n",
    "    firstMean.append(RCM)\n",
    "    RCSD=(st.stdev(fO)-ObsStd)*100.0/ObsStd\n",
    "    firstSD.append(RCSD)\n",
    "    if(n == 2):\n",
    "        fO1=getFogTS_secondhalf2(m)\n",
    "    else :\n",
    "        fO1=getFogTS_secondhalf(m)\n",
    "    \n",
    "    \n",
    "    \n",
    "    RCM=(st.mean(fO1)-ObsMean)*100.0/ObsMean\n",
    "    secondMean.append(RCM)\n",
    "    RCSD=(st.stdev(fO1)-ObsStd)*100.0/ObsStd\n",
    "    secondSD.append(RCSD)\n",
    "    n=n+1\n",
    "\n",
    "print(firstMean) \n",
    "print(firstSD) \n",
    "print(secondMean) \n",
    "print(secondSD) \n",
    "dump(firstMean,'../../Future_projection_plots/FF_Newssp245_firstMean.joblib')  \n",
    "dump(firstSD,'../../Future_projection_plots/FF_Newssp245_firstSD.joblib')\n",
    "dump(secondMean,'../../Future_projection_plots/FF_Newssp245_secondMean.joblib')\n",
    "dump(secondSD,'../../Future_projection_plots/FF_Newssp245_secondSD.joblib')\n",
    "    "
   ]
  },
  {
   "cell_type": "code",
   "execution_count": null,
   "metadata": {},
   "outputs": [],
   "source": []
  }
 ],
 "metadata": {
  "kernelspec": {
   "display_name": "Python 3",
   "language": "python",
   "name": "python3"
  },
  "language_info": {
   "codemirror_mode": {
    "name": "ipython",
    "version": 3
   },
   "file_extension": ".py",
   "mimetype": "text/x-python",
   "name": "python",
   "nbconvert_exporter": "python",
   "pygments_lexer": "ipython3",
   "version": "3.8.5"
  }
 },
 "nbformat": 4,
 "nbformat_minor": 4
}
