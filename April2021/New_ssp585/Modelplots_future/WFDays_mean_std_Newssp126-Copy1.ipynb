{
 "cells": [
  {
   "cell_type": "code",
   "execution_count": 1,
   "metadata": {},
   "outputs": [],
   "source": [
    "import xarray as xr\n",
    "import numpy as np\n",
    "import pandas as pd\n",
    "import datetime\n",
    "import matplotlib.pyplot as plt\n",
    "from joblib import dump, load\n",
    "import statistics as st"
   ]
  },
  {
   "cell_type": "markdown",
   "metadata": {},
   "source": [
    "# Obs historical"
   ]
  },
  {
   "cell_type": "code",
   "execution_count": 2,
   "metadata": {},
   "outputs": [],
   "source": [
    "y   = load('../../../March2021/Observation_models/ObsY.joblib') \n",
    "y.values=y.where(y>=0.46,0)\n",
    "y.values=y.where(y==0.0,1)"
   ]
  },
  {
   "cell_type": "code",
   "execution_count": 3,
   "metadata": {},
   "outputs": [],
   "source": [
    "def getFogTS( dArray ):\n",
    "   #\"This function gives TS of  for each season e.g. if year\n",
    "   #  is 1981 then it will contain values between 1dec1980 to 31jan1981\"\n",
    "    fg=list()\n",
    "    \n",
    "    for yr in range(1981,2015,1):\n",
    "        dStart=datetime.datetime(yr-1, 12, 1)\n",
    "        dEnd=datetime.datetime(yr, 1, 31)\n",
    "        ySMean = dArray.sel(time=slice(dStart,dEnd)).sum(dim='time').values.tolist()\n",
    "        #print(yAct)\n",
    "        fg.append(ySMean)\n",
    "        \n",
    "    \n",
    "    return fg"
   ]
  },
  {
   "cell_type": "code",
   "execution_count": 4,
   "metadata": {},
   "outputs": [
    {
     "name": "stdout",
     "output_type": "stream",
     "text": [
      "13.5\n",
      "11.098047876390995\n"
     ]
    }
   ],
   "source": [
    "fO=getFogTS(y)\n",
    "ObsMean=st.mean(fO)\n",
    "print(ObsMean)\n",
    "ObsStd=st.stdev(fO)\n",
    "print(ObsStd)"
   ]
  },
  {
   "cell_type": "markdown",
   "metadata": {},
   "source": [
    "# Future projections"
   ]
  },
  {
   "cell_type": "code",
   "execution_count": 5,
   "metadata": {},
   "outputs": [],
   "source": [
    "def getFogTS_firsthalf( dArray ):\n",
    "   #\"This function gives TS of  for each season e.g. if year\n",
    "   #  is 1981 then it will contain values between 1dec1980 to 31jan1981\"\n",
    "    # 2015-2065\n",
    "    fg=list()\n",
    "    \n",
    "    for yr in range(2015,2066,1):\n",
    "        dStart=datetime.datetime(yr-1, 12, 1)\n",
    "        dEnd=datetime.datetime(yr, 1, 31)\n",
    "        ySMean = dArray.sel(time=slice(dStart,dEnd)).sum(dim='time').values.tolist()\n",
    "        #print(yAct)\n",
    "        fg.append(ySMean)\n",
    "        \n",
    "    \n",
    "    return fg"
   ]
  },
  {
   "cell_type": "code",
   "execution_count": 6,
   "metadata": {},
   "outputs": [],
   "source": [
    "def getFogTS_secondhalf( dArray ):\n",
    "   #\"This function gives TS of  for each season e.g. if year\n",
    "   #  is 1981 then it will contain values between 1dec1980 to 31jan1981\"\n",
    "    # 2065-2100\n",
    "    fg=list()\n",
    "    \n",
    "    for yr in range(2065,2101,1):\n",
    "        dStart=datetime.datetime(yr-1, 12, 1)\n",
    "        dEnd=datetime.datetime(yr, 1, 31)\n",
    "        ySMean = dArray.sel(time=slice(dStart,dEnd)).sum(dim='time').values.tolist()\n",
    "        #print(yAct)\n",
    "        fg.append(ySMean)\n",
    "        \n",
    "    \n",
    "    return fg"
   ]
  },
  {
   "cell_type": "code",
   "execution_count": 7,
   "metadata": {},
   "outputs": [],
   "source": [
    "ACCESS_CM2_ssp585   = load('ACCESS-CM2_ssp585.joblib') \n",
    "IITM_ESM_ssp585   = load('IITM-ESM_ssp585.joblib') \n",
    "IPSL_CM6A_LR_ssp585   = load('IPSL-CM6A-LR_ssp585.joblib') \n",
    "MPI_ESM1_2_LR_ssp585   = load('MPI-ESM1-2-LR_ssp585.joblib') \n",
    "EC_Earth3_ssp585   = load('EC-Earth3_ssp585.joblib') "
   ]
  },
  {
   "cell_type": "code",
   "execution_count": 8,
   "metadata": {},
   "outputs": [],
   "source": [
    "ACCESS_CM2_ssp585.values=ACCESS_CM2_ssp585.where(ACCESS_CM2_ssp585>=0.46,0)\n",
    "IITM_ESM_ssp585.values=IITM_ESM_ssp585.where(IITM_ESM_ssp585>=0.46,0)\n",
    "IPSL_CM6A_LR_ssp585.values=IPSL_CM6A_LR_ssp585.where(IPSL_CM6A_LR_ssp585>=0.46,0)\n",
    "MPI_ESM1_2_LR_ssp585.values=MPI_ESM1_2_LR_ssp585.where(MPI_ESM1_2_LR_ssp585>=0.46,0)\n",
    "EC_Earth3_ssp585.values=EC_Earth3_ssp585.where(EC_Earth3_ssp585>=0.46,0)"
   ]
  },
  {
   "cell_type": "code",
   "execution_count": 9,
   "metadata": {},
   "outputs": [],
   "source": [
    "ACCESS_CM2_ssp585.values=ACCESS_CM2_ssp585.where(ACCESS_CM2_ssp585==0.0,1)\n",
    "IITM_ESM_ssp585.values=IITM_ESM_ssp585.where(IITM_ESM_ssp585==0.0,1)\n",
    "IPSL_CM6A_LR_ssp585.values=IPSL_CM6A_LR_ssp585.where(IPSL_CM6A_LR_ssp585==0.0,1)\n",
    "MPI_ESM1_2_LR_ssp585.values=MPI_ESM1_2_LR_ssp585.where(MPI_ESM1_2_LR_ssp585==0.0,1)\n",
    "EC_Earth3_ssp585.values=EC_Earth3_ssp585.where(EC_Earth3_ssp585==0.0,1)"
   ]
  },
  {
   "cell_type": "code",
   "execution_count": 10,
   "metadata": {},
   "outputs": [
    {
     "name": "stdout",
     "output_type": "stream",
     "text": [
      "[10.901960784313726, 15.392156862745098, 10.764705882352942, 19.50980392156863, 19.431372549019606]\n",
      "[11.536472427845151, 11.106895932478254, 7.674863478379581, 13.579944843804938, 15.555391222287897]\n",
      "[8.944444444444445, 13.0, 6.861111111111111, 10.25, 8.166666666666666]\n",
      "[8.75032879200856, 10.130576065978254, 7.487714805992081, 7.05640539813701, 9.773141036242428]\n"
     ]
    }
   ],
   "source": [
    "mList=(ACCESS_CM2_ssp585,IITM_ESM_ssp585,IPSL_CM6A_LR_ssp585,MPI_ESM1_2_LR_ssp585,EC_Earth3_ssp585)\n",
    "#mList=(ACCESS_CM2_ssp585,IITM_ESM_ssp585,IPSL_CM6A_LR_ssp585,MPI_ESM1_2_LR_ssp585)\n",
    "\n",
    "firstMean=list()\n",
    "firstSD=list()\n",
    "secondMean=list()\n",
    "secondSD=list()\n",
    "\n",
    "for m in mList:\n",
    "    fO=getFogTS_firsthalf(m)\n",
    "    firstMean.append(st.mean(fO))\n",
    "    firstSD.append(st.stdev(fO))\n",
    "    fO1=getFogTS_secondhalf(m)\n",
    "    secondMean.append(st.mean(fO1))\n",
    "    secondSD.append(st.stdev(fO1))\n",
    "\n",
    "print(firstMean) \n",
    "print(firstSD) \n",
    "print(secondMean) \n",
    "print(secondSD) \n",
    "   \n",
    "    "
   ]
  },
  {
   "cell_type": "code",
   "execution_count": null,
   "metadata": {},
   "outputs": [],
   "source": []
  }
 ],
 "metadata": {
  "kernelspec": {
   "display_name": "Python 3",
   "language": "python",
   "name": "python3"
  },
  "language_info": {
   "codemirror_mode": {
    "name": "ipython",
    "version": 3
   },
   "file_extension": ".py",
   "mimetype": "text/x-python",
   "name": "python",
   "nbconvert_exporter": "python",
   "pygments_lexer": "ipython3",
   "version": "3.8.5"
  }
 },
 "nbformat": 4,
 "nbformat_minor": 4
}
