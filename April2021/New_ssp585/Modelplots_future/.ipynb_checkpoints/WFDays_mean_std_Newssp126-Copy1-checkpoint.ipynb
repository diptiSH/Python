{
 "cells": [
  {
   "cell_type": "code",
   "execution_count": 23,
   "metadata": {},
   "outputs": [],
   "source": [
    "import xarray as xr\n",
    "import numpy as np\n",
    "import pandas as pd\n",
    "import datetime\n",
    "import matplotlib.pyplot as plt\n",
    "from joblib import dump, load\n",
    "import statistics as st"
   ]
  },
  {
   "cell_type": "markdown",
   "metadata": {},
   "source": [
    "# Obs historical"
   ]
  },
  {
   "cell_type": "code",
   "execution_count": 24,
   "metadata": {},
   "outputs": [],
   "source": [
    "y   = load('../../../March2021/Observation_models/ObsY.joblib') \n",
    "y.values=y.where(y>=0.46,0)\n",
    "y.values=y.where(y==0.0,1)"
   ]
  },
  {
   "cell_type": "code",
   "execution_count": 25,
   "metadata": {},
   "outputs": [],
   "source": [
    "def getFogTS( dArray ):\n",
    "   #\"This function gives TS of  for each season e.g. if year\n",
    "   #  is 1981 then it will contain values between 1dec1980 to 31jan1981\"\n",
    "    fg=list()\n",
    "    \n",
    "    for yr in range(1981,2015,1):\n",
    "        dStart=datetime.datetime(yr-1, 12, 1)\n",
    "        dEnd=datetime.datetime(yr, 1, 31)\n",
    "        ySMean = dArray.sel(time=slice(dStart,dEnd)).sum(dim='time').values.tolist()\n",
    "        #print(yAct)\n",
    "        fg.append(ySMean)\n",
    "        \n",
    "    \n",
    "    return fg"
   ]
  },
  {
   "cell_type": "code",
   "execution_count": 26,
   "metadata": {},
   "outputs": [
    {
     "name": "stdout",
     "output_type": "stream",
     "text": [
      "13.5\n",
      "11.098047876390995\n"
     ]
    }
   ],
   "source": [
    "fO=getFogTS(y)\n",
    "ObsMean=st.mean(fO)\n",
    "print(ObsMean)\n",
    "ObsStd=st.stdev(fO)\n",
    "print(ObsStd)"
   ]
  },
  {
   "cell_type": "markdown",
   "metadata": {},
   "source": [
    "# Future projections"
   ]
  },
  {
   "cell_type": "code",
   "execution_count": 27,
   "metadata": {},
   "outputs": [],
   "source": [
    "def getFogTS_firsthalf( dArray ):\n",
    "   #\"This function gives TS of  for each season e.g. if year\n",
    "   #  is 1981 then it will contain values between 1dec1980 to 31jan1981\"\n",
    "    # 2015-2065\n",
    "    fg=list()\n",
    "    \n",
    "    for yr in range(2015,2066,1):\n",
    "        dStart=datetime.datetime(yr-1, 12, 1)\n",
    "        dEnd=datetime.datetime(yr, 1, 31)\n",
    "        ySMean = dArray.sel(time=slice(dStart,dEnd)).sum(dim='time').values.tolist()\n",
    "        #print(yAct)\n",
    "        fg.append(ySMean)\n",
    "        \n",
    "    \n",
    "    return fg"
   ]
  },
  {
   "cell_type": "code",
   "execution_count": 28,
   "metadata": {},
   "outputs": [],
   "source": [
    "def getFogTS_secondhalf( dArray ):\n",
    "   #\"This function gives TS of  for each season e.g. if year\n",
    "   #  is 1981 then it will contain values between 1dec1980 to 31jan1981\"\n",
    "    # 2065-2100\n",
    "    fg=list()\n",
    "    \n",
    "    for yr in range(2065,2101,1):\n",
    "        dStart=datetime.datetime(yr-1, 12, 1)\n",
    "        dEnd=datetime.datetime(yr, 1, 31)\n",
    "        ySMean = dArray.sel(time=slice(dStart,dEnd)).sum(dim='time').values.tolist()\n",
    "        #print(yAct)\n",
    "        fg.append(ySMean)\n",
    "        \n",
    "    \n",
    "    return fg"
   ]
  },
  {
   "cell_type": "code",
   "execution_count": 29,
   "metadata": {},
   "outputs": [],
   "source": [
    "ACCESS_CM2_ssp126   = load('ACCESS-CM2_ssp126.joblib') \n",
    "IITM_ESM_ssp126   = load('IITM-ESM_ssp126.joblib') \n",
    "IPSL_CM6A_LR_ssp126   = load('IPSL-CM6A-LR_ssp126.joblib') \n",
    "MPI_ESM1_2_LR_ssp126   = load('MPI-ESM1-2-LR_ssp126.joblib') \n",
    "EC_Earth3_ssp126   = load('EC-Earth3_ssp126.joblib') "
   ]
  },
  {
   "cell_type": "code",
   "execution_count": 30,
   "metadata": {},
   "outputs": [],
   "source": [
    "ACCESS_CM2_ssp126.values=ACCESS_CM2_ssp126.where(ACCESS_CM2_ssp126>=0.46,0)\n",
    "IITM_ESM_ssp126.values=IITM_ESM_ssp126.where(IITM_ESM_ssp126>=0.46,0)\n",
    "IPSL_CM6A_LR_ssp126.values=IPSL_CM6A_LR_ssp126.where(IPSL_CM6A_LR_ssp126>=0.46,0)\n",
    "MPI_ESM1_2_LR_ssp126.values=MPI_ESM1_2_LR_ssp126.where(MPI_ESM1_2_LR_ssp126>=0.46,0)\n",
    "EC_Earth3_ssp126.values=EC_Earth3_ssp126.where(EC_Earth3_ssp126>=0.46,0)"
   ]
  },
  {
   "cell_type": "code",
   "execution_count": 31,
   "metadata": {},
   "outputs": [],
   "source": [
    "ACCESS_CM2_ssp126.values=ACCESS_CM2_ssp126.where(ACCESS_CM2_ssp126==0.0,1)\n",
    "IITM_ESM_ssp126.values=IITM_ESM_ssp126.where(IITM_ESM_ssp126==0.0,1)\n",
    "IPSL_CM6A_LR_ssp126.values=IPSL_CM6A_LR_ssp126.where(IPSL_CM6A_LR_ssp126==0.0,1)\n",
    "MPI_ESM1_2_LR_ssp126.values=MPI_ESM1_2_LR_ssp126.where(MPI_ESM1_2_LR_ssp126==0.0,1)\n",
    "EC_Earth3_ssp126.values=EC_Earth3_ssp126.where(EC_Earth3_ssp126==0.0,1)"
   ]
  },
  {
   "cell_type": "code",
   "execution_count": 32,
   "metadata": {},
   "outputs": [
    {
     "name": "stdout",
     "output_type": "stream",
     "text": [
      "[9.058823529411764, 9.882352941176471, 10.431372549019608, 11.352941176470589, 15.529411764705882]\n",
      "[10.705908209406397, 10.320168717271107, 8.998344074241182, 9.664002337358502, 14.567570753116623]\n",
      "[4.333333333333333, 7.305555555555555, 11.944444444444445, 10.194444444444445, 13.0]\n",
      "[6.445374864416898, 7.405864257250831, 9.513732764331312, 9.901859693856776, 14.999047588811383]\n"
     ]
    }
   ],
   "source": [
    "mList=(ACCESS_CM2_ssp126,IITM_ESM_ssp126,IPSL_CM6A_LR_ssp126,MPI_ESM1_2_LR_ssp126,EC_Earth3_ssp126)\n",
    "#mList=(ACCESS_CM2_ssp126,IITM_ESM_ssp126,IPSL_CM6A_LR_ssp126,MPI_ESM1_2_LR_ssp126)\n",
    "\n",
    "firstMean=list()\n",
    "firstSD=list()\n",
    "secondMean=list()\n",
    "secondSD=list()\n",
    "\n",
    "for m in mList:\n",
    "    fO=getFogTS_firsthalf(m)\n",
    "    firstMean.append(st.mean(fO))\n",
    "    firstSD.append(st.stdev(fO))\n",
    "    fO1=getFogTS_secondhalf(m)\n",
    "    secondMean.append(st.mean(fO1))\n",
    "    secondSD.append(st.stdev(fO1))\n",
    "\n",
    "print(firstMean) \n",
    "print(firstSD) \n",
    "print(secondMean) \n",
    "print(secondSD) \n",
    "   \n",
    "    "
   ]
  },
  {
   "cell_type": "code",
   "execution_count": null,
   "metadata": {},
   "outputs": [],
   "source": []
  }
 ],
 "metadata": {
  "kernelspec": {
   "display_name": "Python 3",
   "language": "python",
   "name": "python3"
  },
  "language_info": {
   "codemirror_mode": {
    "name": "ipython",
    "version": 3
   },
   "file_extension": ".py",
   "mimetype": "text/x-python",
   "name": "python",
   "nbconvert_exporter": "python",
   "pygments_lexer": "ipython3",
   "version": "3.8.5"
  }
 },
 "nbformat": 4,
 "nbformat_minor": 4
}
