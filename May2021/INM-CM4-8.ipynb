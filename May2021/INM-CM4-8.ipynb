{
 "cells": [
  {
   "cell_type": "code",
   "execution_count": 1,
   "metadata": {},
   "outputs": [],
   "source": [
    "import xarray as xr\n",
    "import numpy as np\n",
    "import pandas as pd\n",
    "import datetime\n",
    "import matplotlib.pyplot as plt\n",
    "from math import e\n",
    "from keras.models import Model\n",
    "from sklearn.preprocessing import StandardScaler\n",
    "from joblib import dump, load\n",
    "from keras.models import load_model"
   ]
  },
  {
   "cell_type": "code",
   "execution_count": 2,
   "metadata": {},
   "outputs": [],
   "source": [
    "# Read Orography\n",
    "OroData = xr.open_dataset('../../Data/eraDown/ERA5_2degree_Down/DailyMean/ERA5IGP_Orography.nc')\n",
    "# create mask\n",
    "oro = OroData.z.sel(latitude=slice(35,0),longitude=slice(50,100))\n",
    "oro.values = OroData.z.sel(latitude=slice(35,0),longitude=slice(50,100)).values/9.81\n",
    "oro.attrs\n",
    "oro.attrs['units']='meter'\n",
    "oro.attrs['long_name']='Orography'\n",
    "oro.values[oro.values>500.1]=np.NaN\n",
    "mask=oro.values/oro.values\n"
   ]
  },
  {
   "cell_type": "code",
   "execution_count": 3,
   "metadata": {},
   "outputs": [],
   "source": [
    "#Surface data\n",
    "t2mData = xr.open_dataset('../../Data/CMIP6/INM-CM4-8/processed/Regrid_tas_day_INM-CM4-8_historical_r1i1p1f1_gr1_18500101-20141231.nc')\n",
    "rhData  = xr.open_dataset('../../Data/CMIP6/INM-CM4-8/processed/Regrid_hurs_day_INM-CM4-8_historical_r1i1p1f1_gr1_18500101-20141231.nc')\n",
    "u10Data = xr.open_dataset('../../Data/CMIP6/INM-CM4-8/processed/Regrid_uas_day_INM-CM4-8_historical_r1i1p1f1_gr1_18500101-20141231.nc')\n",
    "v10Data = xr.open_dataset('../../Data/CMIP6/INM-CM4-8/processed/Regrid_vas_day_INM-CM4-8_historical_r1i1p1f1_gr1_18500101-20141231.nc')"
   ]
  },
  {
   "cell_type": "code",
   "execution_count": 4,
   "metadata": {},
   "outputs": [],
   "source": [
    "# Level Data\n",
    "tLevData = xr.open_dataset('../../Data/CMIP6/INM-CM4-8/processed/Regrid_ta_day_INM-CM4-8_historical_r1i1p1f1_gr1_18500101-20141231.nc')\n",
    "zLevData = xr.open_dataset('../../Data/CMIP6/INM-CM4-8/processed/Regrid_zg_day_INM-CM4-8_historical_r1i1p1f1_gr1_18500101-20141231.nc')\n",
    "wLevData = xr.open_dataset('../../Data/CMIP6/INM-CM4-8/processed/Regrid_wap_day_INM-CM4-8_historical_r1i1p1f1_gr1_18500101-20141231.nc')\n",
    "uLevData = xr.open_dataset('../../Data/CMIP6/INM-CM4-8/processed/Regrid_ua_day_INM-CM4-8_historical_r1i1p1f1_gr1_18500101-20141231.nc')"
   ]
  },
  {
   "cell_type": "code",
   "execution_count": 5,
   "metadata": {},
   "outputs": [],
   "source": [
    "# Calculate wind speed and relative humidity inv  ushear\n",
    "ws = ((v10Data.vas.values**2)+(u10Data.uas.values**2))**0.5\n",
    "ws_ds = xr.Dataset({'ws': (('time','latitude','longitude'), ws)},\n",
    "                   coords={'time': v10Data.time,'latitude': v10Data.latitude,'longitude': v10Data.longitude})\n",
    "\n",
    "rh_ds = xr.Dataset({'rh': (('time','latitude','longitude'), rhData.hurs/100.0)},\n",
    "                   coords={'time': v10Data.time,'latitude': v10Data.latitude,'longitude': v10Data.longitude})\n",
    "\n",
    "#Calculate inv\n",
    "inv=t2mData.tas.values-tLevData.ta.sel(plev=85000,method='nearest').values\n",
    "inv_ds = xr.Dataset({'inv': (('time','latitude','longitude'), inv)}, coords={'time': v10Data.time,'latitude': v10Data.latitude,'longitude': v10Data.longitude})\n",
    "inv_ds.attrs\n",
    "inv_ds.attrs['units']='K'\n",
    "inv_ds.attrs['long_name']='t2m - t850'\n",
    "\n",
    "#u shear calculation\n",
    "ushear=(uLevData.ua.sel(plev=85000,method='nearest').values-u10Data.uas.values)/(zLevData.zg.sel(plev=85000,method='nearest').values) \n",
    "ushear_ds = xr.Dataset({'ushear': (('time','latitude','longitude'), ushear)}, coords={'time': v10Data.time,'latitude': v10Data.latitude,'longitude': v10Data.longitude})\n",
    "ushear_ds.attrs['units']='s-1'\n",
    "ushear_ds.attrs['long_name']='(u10 - u850)/z850'"
   ]
  },
  {
   "cell_type": "code",
   "execution_count": null,
   "metadata": {},
   "outputs": [],
   "source": []
  },
  {
   "cell_type": "code",
   "execution_count": 6,
   "metadata": {},
   "outputs": [
    {
     "name": "stderr",
     "output_type": "stream",
     "text": [
      "<ipython-input-6-52c5e1759a73>:4: RuntimeWarning: Converting a CFTimeIndex with dates from a non-standard calendar, 'noleap', to a pandas.DatetimeIndex, which uses dates from the standard calendar.  This may lead to subtle errors in operations that depend on the length of time between dates.\n",
      "  datetimeindex = aoTS.indexes['time'].to_datetimeindex()\n",
      "<ipython-input-6-52c5e1759a73>:12: RuntimeWarning: Converting a CFTimeIndex with dates from a non-standard calendar, 'noleap', to a pandas.DatetimeIndex, which uses dates from the standard calendar.  This may lead to subtle errors in operations that depend on the length of time between dates.\n",
      "  datetimeindex = euTS.indexes['time'].to_datetimeindex()\n"
     ]
    }
   ],
   "source": [
    "# AO data\n",
    "AOData = xr.open_dataset('../March2021/INM-CM4-8/INM-CM4-8-AOindex-NDJF-Daily-1980-2014.nc')\n",
    "aoTS=AOData.AO\n",
    "datetimeindex = aoTS.indexes['time'].to_datetimeindex()\n",
    "datetimeindex\n",
    "aoTS['time'] = datetimeindex\n",
    "\n",
    "# EU data\n",
    "EUData = xr.open_dataset('../March2021/INM-CM4-8/INM-CM4-8-EUindex-NDJF-Daily-1980-2014.nc')\n",
    "EUData.EU\n",
    "euTS=EUData.EU\n",
    "datetimeindex = euTS.indexes['time'].to_datetimeindex()\n",
    "datetimeindex\n",
    "euTS['time'] = datetimeindex\n",
    "\n",
    "# 5Day and 30Day Mean\n",
    "#AO\n",
    "AO5D=aoTS.rolling(time=5).mean()\n",
    "\n",
    "AO5DAll=AO5D[((AO5D.time.dt.month>11) | (AO5D.time.dt.month<2)) & \n",
    "             (AO5D.time.dt.year<2020)].sel(time=slice('1980-1-1','2014-12-31'))\n",
    "\n",
    "#EU\n",
    "EU5D=euTS.rolling(time=5).mean()\n",
    "\n",
    "EU5DAll=EU5D[((EU5D.time.dt.month>11) | (EU5D.time.dt.month<2)) & \n",
    "             (EU5D.time.dt.year<2020)].sel(time=slice('1980-1-1','2014-12-31'))\n"
   ]
  },
  {
   "cell_type": "code",
   "execution_count": 7,
   "metadata": {},
   "outputs": [],
   "source": [
    "t2m=t2mData.tas\n",
    "ws=ws_ds.ws\n",
    "rh=rh_ds.rh\n",
    "inv=inv_ds.inv\n",
    "w=wLevData.sel(plev=70000,method='nearest').wap\n",
    "ushear=ushear_ds.ushear\n",
    "z=zLevData.sel(plev=50000,method='nearest').zg"
   ]
  },
  {
   "cell_type": "code",
   "execution_count": 8,
   "metadata": {},
   "outputs": [
    {
     "name": "stderr",
     "output_type": "stream",
     "text": [
      "<ipython-input-8-63868420b6dd>:1: RuntimeWarning: Converting a CFTimeIndex with dates from a non-standard calendar, 'noleap', to a pandas.DatetimeIndex, which uses dates from the standard calendar.  This may lead to subtle errors in operations that depend on the length of time between dates.\n",
      "  datetimeindex = t2m.indexes['time'].to_datetimeindex()\n"
     ]
    }
   ],
   "source": [
    "datetimeindex = t2m.indexes['time'].to_datetimeindex()\n",
    "t2m['time'] = datetimeindex\n",
    "ws['time'] = datetimeindex\n",
    "rh['time'] = datetimeindex\n",
    "inv['time'] = datetimeindex\n",
    "w['time'] = datetimeindex\n",
    "ushear['time'] = datetimeindex\n",
    "z['time'] = datetimeindex"
   ]
  },
  {
   "cell_type": "code",
   "execution_count": 9,
   "metadata": {},
   "outputs": [],
   "source": [
    "t2mTsAll=t2m[((t2m.time.dt.month>11) | (t2m.time.dt.month<2)) & (t2m.time.dt.year<2020)].sel(time=slice('1980-1-1','2014-12-31'),latitude=slice(35,0),longitude=slice(50,100))\n",
    "wsTsAll=ws[((ws.time.dt.month>11) | (ws.time.dt.month<2)) & (ws.time.dt.year<2020)].sel(time=slice('1980-1-1','2014-12-31'),latitude=slice(35,0),longitude=slice(50,100))\n",
    "rhTsAll=rh[((rh.time.dt.month>11) | (rh.time.dt.month<2)) & (rh.time.dt.year<2020)].sel(time=slice('1980-1-1','2014-12-31'),latitude=slice(35,0),longitude=slice(50,100))\n",
    "invTsAll=inv[((inv.time.dt.month>11) | (inv.time.dt.month<2)) & (inv.time.dt.year<2020)].sel(time=slice('1980-1-1','2014-12-31'),latitude=slice(35,0),longitude=slice(50,100))\n",
    "ushearTsAll=ushear[((ushear.time.dt.month>11) | (ushear.time.dt.month<2)) & (ushear.time.dt.year<2020)].sel(time=slice('1980-1-1','2014-12-31'),latitude=slice(35,0),longitude=slice(50,100))\n",
    "wTsAll=w[((w.time.dt.month>11) | (w.time.dt.month<2)) & (w.time.dt.year<2020)].sel(time=slice('1980-1-1','2014-12-31'),latitude=slice(35,0),longitude=slice(50,100))\n",
    "zTsAll=z[((z.time.dt.month>11) | (z.time.dt.month<2)) & (z.time.dt.year<2020)].sel(time=slice('1980-1-1','2014-12-31'),latitude=slice(35,0),longitude=slice(50,100))"
   ]
  },
  {
   "cell_type": "code",
   "execution_count": 10,
   "metadata": {},
   "outputs": [],
   "source": [
    "t2mTsAll.values=t2mTsAll.values*mask\n",
    "wsTsAll.values=wsTsAll.values*mask\n",
    "rhTsAll.values=rhTsAll.values*mask\n",
    "invTsAll.values=invTsAll.values*mask\n",
    "ushearTsAll.values=ushearTsAll.values*mask\n",
    "wTsAll.values=wTsAll.values*mask\n",
    "zTsAll.values=zTsAll.values*mask"
   ]
  },
  {
   "cell_type": "code",
   "execution_count": 11,
   "metadata": {},
   "outputs": [],
   "source": [
    "invTsAll=invTsAll.drop_vars('height')\n",
    "t2mTsAll=t2mTsAll.drop_vars('height')\n",
    "wsTsAll=wsTsAll.drop_vars('height')\n",
    "rhTsAll=rhTsAll.drop_vars('height')\n"
   ]
  },
  {
   "cell_type": "code",
   "execution_count": null,
   "metadata": {},
   "outputs": [],
   "source": []
  },
  {
   "cell_type": "code",
   "execution_count": null,
   "metadata": {},
   "outputs": [],
   "source": []
  },
  {
   "cell_type": "code",
   "execution_count": null,
   "metadata": {},
   "outputs": [],
   "source": []
  },
  {
   "cell_type": "code",
   "execution_count": null,
   "metadata": {},
   "outputs": [],
   "source": []
  },
  {
   "cell_type": "code",
   "execution_count": null,
   "metadata": {},
   "outputs": [],
   "source": []
  },
  {
   "cell_type": "code",
   "execution_count": 12,
   "metadata": {},
   "outputs": [],
   "source": [
    "wTsAll=wTsAll.drop_vars('plev')\n",
    "zTsAll=zTsAll.drop_vars('plev')\n",
    "ds = xr.Dataset(\n",
    "    data_vars=dict(\n",
    "        t2m=t2mTsAll.mean(dim='time'),\n",
    "        ws10m=wsTsAll.mean(dim='time'),\n",
    "        rh10m=rhTsAll.mean(dim='time'),\n",
    "        inv=invTsAll.mean(dim='time'),\n",
    "        ushear=ushearTsAll.mean(dim='time'),\n",
    "        w700=wTsAll.mean(dim='time'),\n",
    "        z500=zTsAll.mean(dim='time'),\n",
    "    )\n",
    "    \n",
    ")"
   ]
  },
  {
   "cell_type": "code",
   "execution_count": 13,
   "metadata": {},
   "outputs": [],
   "source": [
    "ds.to_netcdf('../May2021/INM-CM4-8_metvars.nc')"
   ]
  },
  {
   "cell_type": "code",
   "execution_count": 14,
   "metadata": {},
   "outputs": [],
   "source": [
    "ds_1 = xr.Dataset(\n",
    "    data_vars=dict(\n",
    "        AO=AO5DAll,\n",
    "        EU=EU5DAll,\n",
    "    )\n",
    ")"
   ]
  },
  {
   "cell_type": "code",
   "execution_count": 15,
   "metadata": {},
   "outputs": [],
   "source": [
    "ds_1.to_netcdf('../May2021/INM-CM4-8_telvars.nc')"
   ]
  },
  {
   "cell_type": "code",
   "execution_count": null,
   "metadata": {},
   "outputs": [],
   "source": []
  },
  {
   "cell_type": "code",
   "execution_count": null,
   "metadata": {},
   "outputs": [],
   "source": []
  }
 ],
 "metadata": {
  "kernelspec": {
   "display_name": "Python 3",
   "language": "python",
   "name": "python3"
  },
  "language_info": {
   "codemirror_mode": {
    "name": "ipython",
    "version": 3
   },
   "file_extension": ".py",
   "mimetype": "text/x-python",
   "name": "python",
   "nbconvert_exporter": "python",
   "pygments_lexer": "ipython3",
   "version": "3.8.5"
  }
 },
 "nbformat": 4,
 "nbformat_minor": 4
}
